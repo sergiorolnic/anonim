{
  "nbformat": 4,
  "nbformat_minor": 0,
  "metadata": {
    "colab": {
      "name": "Untitled10.ipynb",
      "provenance": [],
      "include_colab_link": true
    },
    "kernelspec": {
      "name": "python3",
      "display_name": "Python 3"
    },
    "language_info": {
      "name": "python"
    },
    "accelerator": "GPU"
  },
  "cells": [
    {
      "cell_type": "markdown",
      "metadata": {
        "id": "view-in-github",
        "colab_type": "text"
      },
      "source": [
        "<a href=\"https://colab.research.google.com/github/sergiorolnic/anonim/blob/tirocinio/Untitled10.ipynb\" target=\"_parent\"><img src=\"https://colab.research.google.com/assets/colab-badge.svg\" alt=\"Open In Colab\"/></a>"
      ]
    },
    {
      "cell_type": "code",
      "execution_count": 1,
      "metadata": {
        "id": "knEvxToOCVO7"
      },
      "outputs": [],
      "source": [
        "import os.path\n",
        "import numpy as np\n",
        "import pandas as pd"
      ]
    },
    {
      "cell_type": "code",
      "source": [
        "pip install sentencepiece"
      ],
      "metadata": {
        "id": "opl52MjY-Dad",
        "outputId": "0fb8340b-b344-417e-d6ae-3ca7ad9e4c1b",
        "colab": {
          "base_uri": "https://localhost:8080/"
        }
      },
      "execution_count": 2,
      "outputs": [
        {
          "output_type": "stream",
          "name": "stdout",
          "text": [
            "Requirement already satisfied: sentencepiece in /usr/local/lib/python3.7/dist-packages (0.1.96)\n"
          ]
        }
      ]
    },
    {
      "cell_type": "code",
      "source": [
        "pip install seqeval"
      ],
      "metadata": {
        "id": "eLp_s0vqEcUB",
        "outputId": "420ade6e-59c5-4430-f82c-9b4caaccc609",
        "colab": {
          "base_uri": "https://localhost:8080/"
        }
      },
      "execution_count": 3,
      "outputs": [
        {
          "output_type": "stream",
          "name": "stdout",
          "text": [
            "Requirement already satisfied: seqeval in /usr/local/lib/python3.7/dist-packages (1.2.2)\n",
            "Requirement already satisfied: numpy>=1.14.0 in /usr/local/lib/python3.7/dist-packages (from seqeval) (1.21.5)\n",
            "Requirement already satisfied: scikit-learn>=0.21.3 in /usr/local/lib/python3.7/dist-packages (from seqeval) (1.0.2)\n",
            "Requirement already satisfied: scipy>=1.1.0 in /usr/local/lib/python3.7/dist-packages (from scikit-learn>=0.21.3->seqeval) (1.4.1)\n",
            "Requirement already satisfied: joblib>=0.11 in /usr/local/lib/python3.7/dist-packages (from scikit-learn>=0.21.3->seqeval) (1.1.0)\n",
            "Requirement already satisfied: threadpoolctl>=2.0.0 in /usr/local/lib/python3.7/dist-packages (from scikit-learn>=0.21.3->seqeval) (3.1.0)\n"
          ]
        }
      ]
    },
    {
      "cell_type": "code",
      "source": [
        "pip install transformers datasets"
      ],
      "metadata": {
        "id": "jMMlciF_CYlk",
        "outputId": "980f749c-30ba-41f1-b0b7-7ac3a2200485",
        "colab": {
          "base_uri": "https://localhost:8080/"
        }
      },
      "execution_count": 4,
      "outputs": [
        {
          "output_type": "stream",
          "name": "stdout",
          "text": [
            "Requirement already satisfied: transformers in /usr/local/lib/python3.7/dist-packages (4.17.0)\n",
            "Requirement already satisfied: datasets in /usr/local/lib/python3.7/dist-packages (1.18.3)\n",
            "Requirement already satisfied: tokenizers!=0.11.3,>=0.11.1 in /usr/local/lib/python3.7/dist-packages (from transformers) (0.11.6)\n",
            "Requirement already satisfied: importlib-metadata in /usr/local/lib/python3.7/dist-packages (from transformers) (4.11.2)\n",
            "Requirement already satisfied: pyyaml>=5.1 in /usr/local/lib/python3.7/dist-packages (from transformers) (6.0)\n",
            "Requirement already satisfied: numpy>=1.17 in /usr/local/lib/python3.7/dist-packages (from transformers) (1.21.5)\n",
            "Requirement already satisfied: packaging>=20.0 in /usr/local/lib/python3.7/dist-packages (from transformers) (21.3)\n",
            "Requirement already satisfied: tqdm>=4.27 in /usr/local/lib/python3.7/dist-packages (from transformers) (4.63.0)\n",
            "Requirement already satisfied: filelock in /usr/local/lib/python3.7/dist-packages (from transformers) (3.6.0)\n",
            "Requirement already satisfied: sacremoses in /usr/local/lib/python3.7/dist-packages (from transformers) (0.0.47)\n",
            "Requirement already satisfied: requests in /usr/local/lib/python3.7/dist-packages (from transformers) (2.23.0)\n",
            "Requirement already satisfied: regex!=2019.12.17 in /usr/local/lib/python3.7/dist-packages (from transformers) (2019.12.20)\n",
            "Requirement already satisfied: huggingface-hub<1.0,>=0.1.0 in /usr/local/lib/python3.7/dist-packages (from transformers) (0.4.0)\n",
            "Requirement already satisfied: typing-extensions>=3.7.4.3 in /usr/local/lib/python3.7/dist-packages (from huggingface-hub<1.0,>=0.1.0->transformers) (3.10.0.2)\n",
            "Requirement already satisfied: pyparsing!=3.0.5,>=2.0.2 in /usr/local/lib/python3.7/dist-packages (from packaging>=20.0->transformers) (3.0.7)\n",
            "Requirement already satisfied: pandas in /usr/local/lib/python3.7/dist-packages (from datasets) (1.3.5)\n",
            "Requirement already satisfied: pyarrow!=4.0.0,>=3.0.0 in /usr/local/lib/python3.7/dist-packages (from datasets) (6.0.1)\n",
            "Requirement already satisfied: dill in /usr/local/lib/python3.7/dist-packages (from datasets) (0.3.4)\n",
            "Requirement already satisfied: xxhash in /usr/local/lib/python3.7/dist-packages (from datasets) (3.0.0)\n",
            "Requirement already satisfied: fsspec[http]>=2021.05.0 in /usr/local/lib/python3.7/dist-packages (from datasets) (2022.2.0)\n",
            "Requirement already satisfied: aiohttp in /usr/local/lib/python3.7/dist-packages (from datasets) (3.8.1)\n",
            "Requirement already satisfied: multiprocess in /usr/local/lib/python3.7/dist-packages (from datasets) (0.70.12.2)\n",
            "Requirement already satisfied: urllib3!=1.25.0,!=1.25.1,<1.26,>=1.21.1 in /usr/local/lib/python3.7/dist-packages (from requests->transformers) (1.24.3)\n",
            "Requirement already satisfied: chardet<4,>=3.0.2 in /usr/local/lib/python3.7/dist-packages (from requests->transformers) (3.0.4)\n",
            "Requirement already satisfied: certifi>=2017.4.17 in /usr/local/lib/python3.7/dist-packages (from requests->transformers) (2021.10.8)\n",
            "Requirement already satisfied: idna<3,>=2.5 in /usr/local/lib/python3.7/dist-packages (from requests->transformers) (2.10)\n",
            "Requirement already satisfied: multidict<7.0,>=4.5 in /usr/local/lib/python3.7/dist-packages (from aiohttp->datasets) (6.0.2)\n",
            "Requirement already satisfied: aiosignal>=1.1.2 in /usr/local/lib/python3.7/dist-packages (from aiohttp->datasets) (1.2.0)\n",
            "Requirement already satisfied: yarl<2.0,>=1.0 in /usr/local/lib/python3.7/dist-packages (from aiohttp->datasets) (1.7.2)\n",
            "Requirement already satisfied: attrs>=17.3.0 in /usr/local/lib/python3.7/dist-packages (from aiohttp->datasets) (21.4.0)\n",
            "Requirement already satisfied: frozenlist>=1.1.1 in /usr/local/lib/python3.7/dist-packages (from aiohttp->datasets) (1.3.0)\n",
            "Requirement already satisfied: charset-normalizer<3.0,>=2.0 in /usr/local/lib/python3.7/dist-packages (from aiohttp->datasets) (2.0.12)\n",
            "Requirement already satisfied: asynctest==0.13.0 in /usr/local/lib/python3.7/dist-packages (from aiohttp->datasets) (0.13.0)\n",
            "Requirement already satisfied: async-timeout<5.0,>=4.0.0a3 in /usr/local/lib/python3.7/dist-packages (from aiohttp->datasets) (4.0.2)\n",
            "Requirement already satisfied: zipp>=0.5 in /usr/local/lib/python3.7/dist-packages (from importlib-metadata->transformers) (3.7.0)\n",
            "Requirement already satisfied: pytz>=2017.3 in /usr/local/lib/python3.7/dist-packages (from pandas->datasets) (2018.9)\n",
            "Requirement already satisfied: python-dateutil>=2.7.3 in /usr/local/lib/python3.7/dist-packages (from pandas->datasets) (2.8.2)\n",
            "Requirement already satisfied: six>=1.5 in /usr/local/lib/python3.7/dist-packages (from python-dateutil>=2.7.3->pandas->datasets) (1.15.0)\n",
            "Requirement already satisfied: click in /usr/local/lib/python3.7/dist-packages (from sacremoses->transformers) (7.1.2)\n",
            "Requirement already satisfied: joblib in /usr/local/lib/python3.7/dist-packages (from sacremoses->transformers) (1.1.0)\n"
          ]
        }
      ]
    },
    {
      "cell_type": "code",
      "source": [
        "df = pd.read_json(\"https://github.com/sergiorolnic/anonim/blob/tirocinio/data/popolamento_ina_20211112_header.csv.json?raw=true\")\n",
        "dataframe2 = df.sample(frac=1).reset_index(drop=True)\n",
        "dataframe2[\"full_name\"] = dataframe2[\"cognome\"] + \" \" +dataframe2[\"nome\"]\n",
        "dataframe2[\"cap\"] = \"\""
      ],
      "metadata": {
        "id": "8AST9b7fCeXJ"
      },
      "execution_count": 5,
      "outputs": []
    },
    {
      "cell_type": "code",
      "source": [
        "df1 = pd.read_json(\"https://github.com/sergiorolnic/anonim/blob/tirocinio/data/esempio.json?raw=true\")\n",
        "df1[\"full_name\"] = df1[\"cognome\"] + \" \" +df1[\"nome\"]\n"
      ],
      "metadata": {
        "id": "TgjHAMRPFYxw"
      },
      "execution_count": 6,
      "outputs": []
    },
    {
      "cell_type": "code",
      "source": [
        "dataframe2 = dataframe2.append(df1,ignore_index = True)\n",
        "dataframe2.drop(columns=[\"cognome\", \"nome\"], inplace=True)"
      ],
      "metadata": {
        "id": "T-r8j95OSKji"
      },
      "execution_count": 7,
      "outputs": []
    },
    {
      "cell_type": "code",
      "source": [
        "dataframe2"
      ],
      "metadata": {
        "id": "S0Wi63J4SeJh",
        "outputId": "17d34c92-8281-437e-b9dc-748eee40593e",
        "colab": {
          "base_uri": "https://localhost:8080/",
          "height": 800
        }
      },
      "execution_count": 8,
      "outputs": [
        {
          "output_type": "execute_result",
          "data": {
            "text/html": [
              "\n",
              "  <div id=\"df-4bce51d9-84a8-4fdb-a46d-2d520ac66022\">\n",
              "    <div class=\"colab-df-container\">\n",
              "      <div>\n",
              "<style scoped>\n",
              "    .dataframe tbody tr th:only-of-type {\n",
              "        vertical-align: middle;\n",
              "    }\n",
              "\n",
              "    .dataframe tbody tr th {\n",
              "        vertical-align: top;\n",
              "    }\n",
              "\n",
              "    .dataframe thead th {\n",
              "        text-align: right;\n",
              "    }\n",
              "</style>\n",
              "<table border=\"1\" class=\"dataframe\">\n",
              "  <thead>\n",
              "    <tr style=\"text-align: right;\">\n",
              "      <th></th>\n",
              "      <th>cod_prv</th>\n",
              "      <th>cod_com</th>\n",
              "      <th>id</th>\n",
              "      <th>sesso</th>\n",
              "      <th>data_nascita</th>\n",
              "      <th>luogo_nascita</th>\n",
              "      <th>cf</th>\n",
              "      <th>prov_nascita</th>\n",
              "      <th>comune_res</th>\n",
              "      <th>prov_res</th>\n",
              "      <th>...</th>\n",
              "      <th>indirizzo</th>\n",
              "      <th>full_name</th>\n",
              "      <th>cap</th>\n",
              "      <th>dato1</th>\n",
              "      <th>dato2</th>\n",
              "      <th>dato3</th>\n",
              "      <th>dato4</th>\n",
              "      <th>dato5</th>\n",
              "      <th>dato6</th>\n",
              "      <th>dato7</th>\n",
              "    </tr>\n",
              "  </thead>\n",
              "  <tbody>\n",
              "    <tr>\n",
              "      <th>0</th>\n",
              "      <td>5</td>\n",
              "      <td>22</td>\n",
              "      <td>122831</td>\n",
              "      <td>F</td>\n",
              "      <td>4082010</td>\n",
              "      <td>TORINO</td>\n",
              "      <td>BRLRCC10M44L219K</td>\n",
              "      <td>TO</td>\n",
              "      <td>MONCALIERI</td>\n",
              "      <td>TO</td>\n",
              "      <td>...</td>\n",
              "      <td>STRADA CARIGNANO 34 BIS</td>\n",
              "      <td>BORELLO REBECCA</td>\n",
              "      <td></td>\n",
              "      <td>NaN</td>\n",
              "      <td>NaN</td>\n",
              "      <td>NaN</td>\n",
              "      <td>NaN</td>\n",
              "      <td>NaN</td>\n",
              "      <td>NaN</td>\n",
              "      <td>NaN</td>\n",
              "    </tr>\n",
              "    <tr>\n",
              "      <th>1</th>\n",
              "      <td>5</td>\n",
              "      <td>22</td>\n",
              "      <td>115845</td>\n",
              "      <td>F</td>\n",
              "      <td>21012008</td>\n",
              "      <td>MONCALIERI</td>\n",
              "      <td>BLLGRG08A61F335B</td>\n",
              "      <td>TO</td>\n",
              "      <td>MONCALIERI</td>\n",
              "      <td>TO</td>\n",
              "      <td>...</td>\n",
              "      <td>STRADA REVIGLIASCO 12</td>\n",
              "      <td>BELLAN GIORGIA</td>\n",
              "      <td></td>\n",
              "      <td>NaN</td>\n",
              "      <td>NaN</td>\n",
              "      <td>NaN</td>\n",
              "      <td>NaN</td>\n",
              "      <td>NaN</td>\n",
              "      <td>NaN</td>\n",
              "      <td>NaN</td>\n",
              "    </tr>\n",
              "    <tr>\n",
              "      <th>2</th>\n",
              "      <td>5</td>\n",
              "      <td>22</td>\n",
              "      <td>122177</td>\n",
              "      <td>M</td>\n",
              "      <td>29042010</td>\n",
              "      <td>MONCALIERI</td>\n",
              "      <td>BRSMLM10D29F335L</td>\n",
              "      <td>TO</td>\n",
              "      <td>MONCALIERI</td>\n",
              "      <td>TO</td>\n",
              "      <td>...</td>\n",
              "      <td>VIA JUGLARIS 68</td>\n",
              "      <td>BORS EMANUELE MARIN</td>\n",
              "      <td></td>\n",
              "      <td>NaN</td>\n",
              "      <td>NaN</td>\n",
              "      <td>NaN</td>\n",
              "      <td>NaN</td>\n",
              "      <td>NaN</td>\n",
              "      <td>NaN</td>\n",
              "      <td>NaN</td>\n",
              "    </tr>\n",
              "    <tr>\n",
              "      <th>3</th>\n",
              "      <td>5</td>\n",
              "      <td>22</td>\n",
              "      <td>122648</td>\n",
              "      <td>F</td>\n",
              "      <td>27062010</td>\n",
              "      <td>TORINO</td>\n",
              "      <td>PRTMTN10H67L219V</td>\n",
              "      <td>TO</td>\n",
              "      <td>MONCALIERI</td>\n",
              "      <td>TO</td>\n",
              "      <td>...</td>\n",
              "      <td>VIA UGO FOSCOLO 7</td>\n",
              "      <td>PORTELLI MARTINA</td>\n",
              "      <td></td>\n",
              "      <td>NaN</td>\n",
              "      <td>NaN</td>\n",
              "      <td>NaN</td>\n",
              "      <td>NaN</td>\n",
              "      <td>NaN</td>\n",
              "      <td>NaN</td>\n",
              "      <td>NaN</td>\n",
              "    </tr>\n",
              "    <tr>\n",
              "      <th>4</th>\n",
              "      <td>5</td>\n",
              "      <td>22</td>\n",
              "      <td>23099</td>\n",
              "      <td>F</td>\n",
              "      <td>14101983</td>\n",
              "      <td>TORINO</td>\n",
              "      <td>FRRMNL83R54L219H</td>\n",
              "      <td>TO</td>\n",
              "      <td>MONCALIERI</td>\n",
              "      <td>TO</td>\n",
              "      <td>...</td>\n",
              "      <td>VIA GIUSEPPE GIACOSA 10</td>\n",
              "      <td>FERRERO EMANUELA</td>\n",
              "      <td></td>\n",
              "      <td>NaN</td>\n",
              "      <td>NaN</td>\n",
              "      <td>NaN</td>\n",
              "      <td>NaN</td>\n",
              "      <td>NaN</td>\n",
              "      <td>NaN</td>\n",
              "      <td>NaN</td>\n",
              "    </tr>\n",
              "    <tr>\n",
              "      <th>...</th>\n",
              "      <td>...</td>\n",
              "      <td>...</td>\n",
              "      <td>...</td>\n",
              "      <td>...</td>\n",
              "      <td>...</td>\n",
              "      <td>...</td>\n",
              "      <td>...</td>\n",
              "      <td>...</td>\n",
              "      <td>...</td>\n",
              "      <td>...</td>\n",
              "      <td>...</td>\n",
              "      <td>...</td>\n",
              "      <td>...</td>\n",
              "      <td>...</td>\n",
              "      <td>...</td>\n",
              "      <td>...</td>\n",
              "      <td>...</td>\n",
              "      <td>...</td>\n",
              "      <td>...</td>\n",
              "      <td>...</td>\n",
              "      <td>...</td>\n",
              "    </tr>\n",
              "    <tr>\n",
              "      <th>72727</th>\n",
              "      <td>5</td>\n",
              "      <td>22</td>\n",
              "      <td>41887</td>\n",
              "      <td>M</td>\n",
              "      <td>11101945</td>\n",
              "      <td>PETILIA POLICASTRO</td>\n",
              "      <td>PCASVT45R11G508K</td>\n",
              "      <td>KR</td>\n",
              "      <td>MONCALIERI</td>\n",
              "      <td>TO</td>\n",
              "      <td>...</td>\n",
              "      <td>VIA GRAZIA DELEDDA 23/BIS</td>\n",
              "      <td>PACE SALVATORE</td>\n",
              "      <td>10024</td>\n",
              "      <td>24032017.0</td>\n",
              "      <td>52101.0</td>\n",
              "      <td>1.0</td>\n",
              "      <td>6051968.0</td>\n",
              "      <td>6051968.0</td>\n",
              "      <td>12112021 05:49:25</td>\n",
              "      <td>CENS2011</td>\n",
              "    </tr>\n",
              "    <tr>\n",
              "      <th>72728</th>\n",
              "      <td>5</td>\n",
              "      <td>22</td>\n",
              "      <td>41888</td>\n",
              "      <td>M</td>\n",
              "      <td>16011976</td>\n",
              "      <td>TORINO</td>\n",
              "      <td>PCASMN76A16L219D</td>\n",
              "      <td>TO</td>\n",
              "      <td>MONCALIERI</td>\n",
              "      <td>TO</td>\n",
              "      <td>...</td>\n",
              "      <td>VIA MATILDE SERAO 9</td>\n",
              "      <td>PACE SIMONE</td>\n",
              "      <td>10024</td>\n",
              "      <td>24032017.0</td>\n",
              "      <td>118174.0</td>\n",
              "      <td>1.0</td>\n",
              "      <td>25012006.0</td>\n",
              "      <td>25012006.0</td>\n",
              "      <td>12112021 05:49:25</td>\n",
              "      <td>CENS2011</td>\n",
              "    </tr>\n",
              "    <tr>\n",
              "      <th>72729</th>\n",
              "      <td>5</td>\n",
              "      <td>22</td>\n",
              "      <td>41890</td>\n",
              "      <td>F</td>\n",
              "      <td>3011951</td>\n",
              "      <td>PETILIA POLICASTRO</td>\n",
              "      <td>PCATRS51A43G508L</td>\n",
              "      <td>KR</td>\n",
              "      <td>MONCALIERI</td>\n",
              "      <td>TO</td>\n",
              "      <td>...</td>\n",
              "      <td>VIA GRAZIA DELEDDA 23/BIS</td>\n",
              "      <td>PACE TERESA</td>\n",
              "      <td>10024</td>\n",
              "      <td>24032017.0</td>\n",
              "      <td>50636.0</td>\n",
              "      <td>2.0</td>\n",
              "      <td>6051968.0</td>\n",
              "      <td>6051968.0</td>\n",
              "      <td>12112021 05:49:25</td>\n",
              "      <td>CENS2011</td>\n",
              "    </tr>\n",
              "    <tr>\n",
              "      <th>72730</th>\n",
              "      <td>5</td>\n",
              "      <td>22</td>\n",
              "      <td>41892</td>\n",
              "      <td>M</td>\n",
              "      <td>23011948</td>\n",
              "      <td>ATELLA</td>\n",
              "      <td>PCAVTI48A23A482U</td>\n",
              "      <td>PZ</td>\n",
              "      <td>MONCALIERI</td>\n",
              "      <td>TO</td>\n",
              "      <td>...</td>\n",
              "      <td>STRADA PECENASCO 9</td>\n",
              "      <td>PACE VITO</td>\n",
              "      <td>10024</td>\n",
              "      <td>24032017.0</td>\n",
              "      <td>52102.0</td>\n",
              "      <td>1.0</td>\n",
              "      <td>17031964.0</td>\n",
              "      <td>17031964.0</td>\n",
              "      <td>12112021 05:49:25</td>\n",
              "      <td>CENS2011</td>\n",
              "    </tr>\n",
              "    <tr>\n",
              "      <th>72731</th>\n",
              "      <td>5</td>\n",
              "      <td>22</td>\n",
              "      <td>41893</td>\n",
              "      <td>M</td>\n",
              "      <td>22041977</td>\n",
              "      <td>MONCALIERI</td>\n",
              "      <td>PCLNTN77D22F335L</td>\n",
              "      <td>TO</td>\n",
              "      <td>MONCALIERI</td>\n",
              "      <td>TO</td>\n",
              "      <td>...</td>\n",
              "      <td>STRADA DELLE FINANZE 23</td>\n",
              "      <td>PACELLA ANTONIO</td>\n",
              "      <td>10024</td>\n",
              "      <td>24032017.0</td>\n",
              "      <td>52103.0</td>\n",
              "      <td>3.0</td>\n",
              "      <td>22041977.0</td>\n",
              "      <td>21111974.0</td>\n",
              "      <td>12112021 05:49:25</td>\n",
              "      <td>CENS2011</td>\n",
              "    </tr>\n",
              "  </tbody>\n",
              "</table>\n",
              "<p>72732 rows × 21 columns</p>\n",
              "</div>\n",
              "      <button class=\"colab-df-convert\" onclick=\"convertToInteractive('df-4bce51d9-84a8-4fdb-a46d-2d520ac66022')\"\n",
              "              title=\"Convert this dataframe to an interactive table.\"\n",
              "              style=\"display:none;\">\n",
              "        \n",
              "  <svg xmlns=\"http://www.w3.org/2000/svg\" height=\"24px\"viewBox=\"0 0 24 24\"\n",
              "       width=\"24px\">\n",
              "    <path d=\"M0 0h24v24H0V0z\" fill=\"none\"/>\n",
              "    <path d=\"M18.56 5.44l.94 2.06.94-2.06 2.06-.94-2.06-.94-.94-2.06-.94 2.06-2.06.94zm-11 1L8.5 8.5l.94-2.06 2.06-.94-2.06-.94L8.5 2.5l-.94 2.06-2.06.94zm10 10l.94 2.06.94-2.06 2.06-.94-2.06-.94-.94-2.06-.94 2.06-2.06.94z\"/><path d=\"M17.41 7.96l-1.37-1.37c-.4-.4-.92-.59-1.43-.59-.52 0-1.04.2-1.43.59L10.3 9.45l-7.72 7.72c-.78.78-.78 2.05 0 2.83L4 21.41c.39.39.9.59 1.41.59.51 0 1.02-.2 1.41-.59l7.78-7.78 2.81-2.81c.8-.78.8-2.07 0-2.86zM5.41 20L4 18.59l7.72-7.72 1.47 1.35L5.41 20z\"/>\n",
              "  </svg>\n",
              "      </button>\n",
              "      \n",
              "  <style>\n",
              "    .colab-df-container {\n",
              "      display:flex;\n",
              "      flex-wrap:wrap;\n",
              "      gap: 12px;\n",
              "    }\n",
              "\n",
              "    .colab-df-convert {\n",
              "      background-color: #E8F0FE;\n",
              "      border: none;\n",
              "      border-radius: 50%;\n",
              "      cursor: pointer;\n",
              "      display: none;\n",
              "      fill: #1967D2;\n",
              "      height: 32px;\n",
              "      padding: 0 0 0 0;\n",
              "      width: 32px;\n",
              "    }\n",
              "\n",
              "    .colab-df-convert:hover {\n",
              "      background-color: #E2EBFA;\n",
              "      box-shadow: 0px 1px 2px rgba(60, 64, 67, 0.3), 0px 1px 3px 1px rgba(60, 64, 67, 0.15);\n",
              "      fill: #174EA6;\n",
              "    }\n",
              "\n",
              "    [theme=dark] .colab-df-convert {\n",
              "      background-color: #3B4455;\n",
              "      fill: #D2E3FC;\n",
              "    }\n",
              "\n",
              "    [theme=dark] .colab-df-convert:hover {\n",
              "      background-color: #434B5C;\n",
              "      box-shadow: 0px 1px 3px 1px rgba(0, 0, 0, 0.15);\n",
              "      filter: drop-shadow(0px 1px 2px rgba(0, 0, 0, 0.3));\n",
              "      fill: #FFFFFF;\n",
              "    }\n",
              "  </style>\n",
              "\n",
              "      <script>\n",
              "        const buttonEl =\n",
              "          document.querySelector('#df-4bce51d9-84a8-4fdb-a46d-2d520ac66022 button.colab-df-convert');\n",
              "        buttonEl.style.display =\n",
              "          google.colab.kernel.accessAllowed ? 'block' : 'none';\n",
              "\n",
              "        async function convertToInteractive(key) {\n",
              "          const element = document.querySelector('#df-4bce51d9-84a8-4fdb-a46d-2d520ac66022');\n",
              "          const dataTable =\n",
              "            await google.colab.kernel.invokeFunction('convertToInteractive',\n",
              "                                                     [key], {});\n",
              "          if (!dataTable) return;\n",
              "\n",
              "          const docLinkHtml = 'Like what you see? Visit the ' +\n",
              "            '<a target=\"_blank\" href=https://colab.research.google.com/notebooks/data_table.ipynb>data table notebook</a>'\n",
              "            + ' to learn more about interactive tables.';\n",
              "          element.innerHTML = '';\n",
              "          dataTable['output_type'] = 'display_data';\n",
              "          await google.colab.output.renderOutput(dataTable, element);\n",
              "          const docLink = document.createElement('div');\n",
              "          docLink.innerHTML = docLinkHtml;\n",
              "          element.appendChild(docLink);\n",
              "        }\n",
              "      </script>\n",
              "    </div>\n",
              "  </div>\n",
              "  "
            ],
            "text/plain": [
              "       cod_prv  cod_com      id sesso  data_nascita       luogo_nascita  \\\n",
              "0            5       22  122831     F       4082010              TORINO   \n",
              "1            5       22  115845     F      21012008          MONCALIERI   \n",
              "2            5       22  122177     M      29042010          MONCALIERI   \n",
              "3            5       22  122648     F      27062010              TORINO   \n",
              "4            5       22   23099     F      14101983              TORINO   \n",
              "...        ...      ...     ...   ...           ...                 ...   \n",
              "72727        5       22   41887     M      11101945  PETILIA POLICASTRO   \n",
              "72728        5       22   41888     M      16011976              TORINO   \n",
              "72729        5       22   41890     F       3011951  PETILIA POLICASTRO   \n",
              "72730        5       22   41892     M      23011948              ATELLA   \n",
              "72731        5       22   41893     M      22041977          MONCALIERI   \n",
              "\n",
              "                     cf prov_nascita  comune_res prov_res  ...  \\\n",
              "0      BRLRCC10M44L219K           TO  MONCALIERI       TO  ...   \n",
              "1      BLLGRG08A61F335B           TO  MONCALIERI       TO  ...   \n",
              "2      BRSMLM10D29F335L           TO  MONCALIERI       TO  ...   \n",
              "3      PRTMTN10H67L219V           TO  MONCALIERI       TO  ...   \n",
              "4      FRRMNL83R54L219H           TO  MONCALIERI       TO  ...   \n",
              "...                 ...          ...         ...      ...  ...   \n",
              "72727  PCASVT45R11G508K           KR  MONCALIERI       TO  ...   \n",
              "72728  PCASMN76A16L219D           TO  MONCALIERI       TO  ...   \n",
              "72729  PCATRS51A43G508L           KR  MONCALIERI       TO  ...   \n",
              "72730  PCAVTI48A23A482U           PZ  MONCALIERI       TO  ...   \n",
              "72731  PCLNTN77D22F335L           TO  MONCALIERI       TO  ...   \n",
              "\n",
              "                       indirizzo            full_name    cap       dato1  \\\n",
              "0        STRADA CARIGNANO 34 BIS      BORELLO REBECCA                NaN   \n",
              "1          STRADA REVIGLIASCO 12       BELLAN GIORGIA                NaN   \n",
              "2                VIA JUGLARIS 68  BORS EMANUELE MARIN                NaN   \n",
              "3              VIA UGO FOSCOLO 7     PORTELLI MARTINA                NaN   \n",
              "4        VIA GIUSEPPE GIACOSA 10     FERRERO EMANUELA                NaN   \n",
              "...                          ...                  ...    ...         ...   \n",
              "72727  VIA GRAZIA DELEDDA 23/BIS       PACE SALVATORE  10024  24032017.0   \n",
              "72728        VIA MATILDE SERAO 9          PACE SIMONE  10024  24032017.0   \n",
              "72729  VIA GRAZIA DELEDDA 23/BIS          PACE TERESA  10024  24032017.0   \n",
              "72730         STRADA PECENASCO 9            PACE VITO  10024  24032017.0   \n",
              "72731    STRADA DELLE FINANZE 23      PACELLA ANTONIO  10024  24032017.0   \n",
              "\n",
              "          dato2  dato3       dato4       dato5              dato6     dato7  \n",
              "0           NaN    NaN         NaN         NaN                NaN       NaN  \n",
              "1           NaN    NaN         NaN         NaN                NaN       NaN  \n",
              "2           NaN    NaN         NaN         NaN                NaN       NaN  \n",
              "3           NaN    NaN         NaN         NaN                NaN       NaN  \n",
              "4           NaN    NaN         NaN         NaN                NaN       NaN  \n",
              "...         ...    ...         ...         ...                ...       ...  \n",
              "72727   52101.0    1.0   6051968.0   6051968.0  12112021 05:49:25  CENS2011  \n",
              "72728  118174.0    1.0  25012006.0  25012006.0  12112021 05:49:25  CENS2011  \n",
              "72729   50636.0    2.0   6051968.0   6051968.0  12112021 05:49:25  CENS2011  \n",
              "72730   52102.0    1.0  17031964.0  17031964.0  12112021 05:49:25  CENS2011  \n",
              "72731   52103.0    3.0  22041977.0  21111974.0  12112021 05:49:25  CENS2011  \n",
              "\n",
              "[72732 rows x 21 columns]"
            ]
          },
          "metadata": {},
          "execution_count": 8
        }
      ]
    },
    {
      "cell_type": "code",
      "source": [
        "import random\n",
        "cols2 = dataframe2.columns.tolist()"
      ],
      "metadata": {
        "id": "xoVj2ymWCn_y"
      },
      "execution_count": 9,
      "outputs": []
    },
    {
      "cell_type": "code",
      "source": [
        "random.shuffle(cols2)\n",
        "first_shuffle_data = dataframe2[cols2][0:15000]"
      ],
      "metadata": {
        "id": "-tajVQ2UCvGL"
      },
      "execution_count": 10,
      "outputs": []
    },
    {
      "cell_type": "code",
      "source": [
        "random.shuffle(cols2)\n",
        "second_shuffle_data = dataframe2[cols2][15000:30000]"
      ],
      "metadata": {
        "id": "-cuGzQovC2QA"
      },
      "execution_count": 11,
      "outputs": []
    },
    {
      "cell_type": "code",
      "source": [
        "random.shuffle(cols2)\n",
        "third_shuffle_data = dataframe2[cols2][30000:50000]"
      ],
      "metadata": {
        "id": "_nN02sy2C4xP"
      },
      "execution_count": 12,
      "outputs": []
    },
    {
      "cell_type": "code",
      "source": [
        "def create_token_and_labels(dataset, token_array, tag_array):\n",
        "  data = dataset\n",
        "\n",
        " \n",
        "  for index, row in data.iterrows():\n",
        "    tokens = []\n",
        "    tags = []\n",
        "\n",
        "    for x, value in row.iteritems():\n",
        "    \n",
        "  \n",
        "      if x == \"indirizzo\":\n",
        "        y = value.split()\n",
        "        first= True;\n",
        "        for word in y:\n",
        "          tokens.append(str(word))\n",
        "          if first:\n",
        "            tags.append(\"B-Ind\")\n",
        "            first = False\n",
        "          else:\n",
        "            tags.append(\"I-Ind\") \n",
        "      elif x == \"full_name\":\n",
        "        y = value.split()\n",
        "        first= True;\n",
        "        for word in y:\n",
        "          tokens.append(str(word))\n",
        "          if first:\n",
        "            tags.append(\"B-Per\")\n",
        "            first = False\n",
        "          else:\n",
        "            if row[\"sesso\"] == \"M\":\n",
        "              tags.append(\"I-Per-M\")\n",
        "            else:\n",
        "              tags.append(\"I-Per-F\")\n",
        "\n",
        "\n",
        "               \n",
        "\n",
        "      else:\n",
        "        tokens.append(str(value))\n",
        "        tags.append(\"O\") \n",
        "  \n",
        "    token_array.append(tokens)\n",
        "    tag_array.append(tags)"
      ],
      "metadata": {
        "id": "7Ou9IF7AVQs_"
      },
      "execution_count": 13,
      "outputs": []
    },
    {
      "cell_type": "code",
      "source": [
        "token_docs = []\n",
        "tag_docs = []\n",
        "\n",
        "create_token_and_labels(first_shuffle_data,token_docs,tag_docs)\n",
        "create_token_and_labels(second_shuffle_data,token_docs,tag_docs)\n",
        "create_token_and_labels(third_shuffle_data,token_docs,tag_docs)\n",
        "#create_token_and_labels(fourth_shuffle_data,token_docs,tag_docs)"
      ],
      "metadata": {
        "id": "heZkeRLfDTTD"
      },
      "execution_count": 14,
      "outputs": []
    },
    {
      "cell_type": "code",
      "source": [
        "texts, tags = token_docs, tag_docs\n",
        "from sklearn.model_selection import train_test_split\n",
        "train_texts, val_texts, train_tags, val_tags = train_test_split(texts, tags, test_size=.2)"
      ],
      "metadata": {
        "id": "bYt_KIHSDWEt"
      },
      "execution_count": 15,
      "outputs": []
    },
    {
      "cell_type": "code",
      "source": [
        "unique_tags = set(tag for doc in tags for tag in doc)\n",
        "tag2id = {tag: id for id, tag in enumerate(unique_tags)}\n",
        "id2tag = {id: tag for tag, id in tag2id.items()}\n",
        "id2tag"
      ],
      "metadata": {
        "id": "q4-O-2FMDY4w",
        "outputId": "b7496a36-cdb4-453c-e69f-46d897f98168",
        "colab": {
          "base_uri": "https://localhost:8080/"
        }
      },
      "execution_count": 16,
      "outputs": [
        {
          "output_type": "execute_result",
          "data": {
            "text/plain": [
              "{0: 'I-Ind', 1: 'O', 2: 'I-Per-M', 3: 'B-Ind', 4: 'B-Per', 5: 'I-Per-F'}"
            ]
          },
          "metadata": {},
          "execution_count": 16
        }
      ]
    },
    {
      "cell_type": "code",
      "source": [
        "from transformers import XLMRobertaTokenizerFast\n",
        "\n",
        "#tokenizer = BertTokenizerFast.from_pretrained('bert-base-uncased')\n",
        "tokenizer = XLMRobertaTokenizerFast.from_pretrained('jplu/tf-xlm-r-ner-40-lang')"
      ],
      "metadata": {
        "id": "jEY84tOHDbyk"
      },
      "execution_count": 17,
      "outputs": []
    },
    {
      "cell_type": "code",
      "source": [
        "train_encodings = tokenizer(train_texts, is_split_into_words=True, padding=\"max_length\",return_offsets_mapping=True)"
      ],
      "metadata": {
        "id": "LG6gwdJTDe_C",
        "outputId": "300c2fbc-089b-4872-cdf7-40c294913ec8",
        "colab": {
          "base_uri": "https://localhost:8080/"
        }
      },
      "execution_count": 18,
      "outputs": [
        {
          "output_type": "stream",
          "name": "stderr",
          "text": [
            "Asking to pad to max_length but no maximum length is provided and the model has no predefined maximum length. Default to no padding.\n"
          ]
        }
      ]
    },
    {
      "cell_type": "code",
      "source": [
        "val_encodings = tokenizer(val_texts, is_split_into_words=True,padding=\"max_length\", return_offsets_mapping=True)"
      ],
      "metadata": {
        "id": "KpuqWNZ_Dg81"
      },
      "execution_count": 19,
      "outputs": []
    },
    {
      "cell_type": "code",
      "source": [
        ""
      ],
      "metadata": {
        "id": "I3-mZbqDDjY-"
      },
      "execution_count": 19,
      "outputs": []
    },
    {
      "cell_type": "code",
      "source": [
        "\n",
        "def encode_tags(tags, encodings):\n",
        "    labels = [[tag2id[tag] for tag in doc] for doc in tags]\n",
        "    encoded_labels = []\n",
        "    for doc_labels, doc_offset in zip(labels, encodings.offset_mapping):\n",
        "        # create an empty array of -100\n",
        "        doc_enc_labels = np.ones(len(doc_offset),dtype=int) * -100\n",
        "        arr_offset = np.array(doc_offset)\n",
        "\n",
        "        # set labels whose first offset position is 0 and the second is not 0\n",
        "        mask = (arr_offset[:, 0] == 0) & (arr_offset[:, 1] != 0)\n",
        "        doc_enc_labels[mask] = doc_labels[:np.sum(mask)]\n",
        "        encoded_labels.append(doc_enc_labels.tolist())\n",
        "        \n",
        "      #  doc_enc_labels[(arr_offset[:,0] == 0) & (arr_offset[:,1] != 0)] = doc_labels\n",
        "       # encoded_labels.append(doc_enc_labels.tolist())\n",
        "\n",
        "    return encoded_labels\n",
        "train_labels = encode_tags(train_tags, train_encodings)\n",
        "val_labels = encode_tags(val_tags, val_encodings)"
      ],
      "metadata": {
        "id": "JKkNgP1ZWEyV",
        "outputId": "d2f614d4-3966-479e-bb71-2124edda4723",
        "colab": {
          "base_uri": "https://localhost:8080/",
          "height": 339
        }
      },
      "execution_count": 20,
      "outputs": [
        {
          "output_type": "error",
          "ename": "ValueError",
          "evalue": "ignored",
          "traceback": [
            "\u001b[0;31m---------------------------------------------------------------------------\u001b[0m",
            "\u001b[0;31mValueError\u001b[0m                                Traceback (most recent call last)",
            "\u001b[0;32m<ipython-input-20-8cbd0a7563cf>\u001b[0m in \u001b[0;36m<module>\u001b[0;34m()\u001b[0m\n\u001b[1;32m     17\u001b[0m \u001b[0;34m\u001b[0m\u001b[0m\n\u001b[1;32m     18\u001b[0m     \u001b[0;32mreturn\u001b[0m \u001b[0mencoded_labels\u001b[0m\u001b[0;34m\u001b[0m\u001b[0;34m\u001b[0m\u001b[0m\n\u001b[0;32m---> 19\u001b[0;31m \u001b[0mtrain_labels\u001b[0m \u001b[0;34m=\u001b[0m \u001b[0mencode_tags\u001b[0m\u001b[0;34m(\u001b[0m\u001b[0mtrain_tags\u001b[0m\u001b[0;34m,\u001b[0m \u001b[0mtrain_encodings\u001b[0m\u001b[0;34m)\u001b[0m\u001b[0;34m\u001b[0m\u001b[0;34m\u001b[0m\u001b[0m\n\u001b[0m\u001b[1;32m     20\u001b[0m \u001b[0mval_labels\u001b[0m \u001b[0;34m=\u001b[0m \u001b[0mencode_tags\u001b[0m\u001b[0;34m(\u001b[0m\u001b[0mval_tags\u001b[0m\u001b[0;34m,\u001b[0m \u001b[0mval_encodings\u001b[0m\u001b[0;34m)\u001b[0m\u001b[0;34m\u001b[0m\u001b[0;34m\u001b[0m\u001b[0m\n",
            "\u001b[0;32m<ipython-input-20-8cbd0a7563cf>\u001b[0m in \u001b[0;36mencode_tags\u001b[0;34m(tags, encodings)\u001b[0m\n\u001b[1;32m     10\u001b[0m         \u001b[0;31m# set labels whose first offset position is 0 and the second is not 0\u001b[0m\u001b[0;34m\u001b[0m\u001b[0;34m\u001b[0m\u001b[0;34m\u001b[0m\u001b[0m\n\u001b[1;32m     11\u001b[0m         \u001b[0mmask\u001b[0m \u001b[0;34m=\u001b[0m \u001b[0;34m(\u001b[0m\u001b[0marr_offset\u001b[0m\u001b[0;34m[\u001b[0m\u001b[0;34m:\u001b[0m\u001b[0;34m,\u001b[0m \u001b[0;36m0\u001b[0m\u001b[0;34m]\u001b[0m \u001b[0;34m==\u001b[0m \u001b[0;36m0\u001b[0m\u001b[0;34m)\u001b[0m \u001b[0;34m&\u001b[0m \u001b[0;34m(\u001b[0m\u001b[0marr_offset\u001b[0m\u001b[0;34m[\u001b[0m\u001b[0;34m:\u001b[0m\u001b[0;34m,\u001b[0m \u001b[0;36m1\u001b[0m\u001b[0;34m]\u001b[0m \u001b[0;34m!=\u001b[0m \u001b[0;36m0\u001b[0m\u001b[0;34m)\u001b[0m\u001b[0;34m\u001b[0m\u001b[0;34m\u001b[0m\u001b[0m\n\u001b[0;32m---> 12\u001b[0;31m         \u001b[0mdoc_enc_labels\u001b[0m\u001b[0;34m[\u001b[0m\u001b[0mmask\u001b[0m\u001b[0;34m]\u001b[0m \u001b[0;34m=\u001b[0m \u001b[0mdoc_labels\u001b[0m\u001b[0;34m[\u001b[0m\u001b[0;34m:\u001b[0m\u001b[0mnp\u001b[0m\u001b[0;34m.\u001b[0m\u001b[0msum\u001b[0m\u001b[0;34m(\u001b[0m\u001b[0mmask\u001b[0m\u001b[0;34m)\u001b[0m\u001b[0;34m]\u001b[0m\u001b[0;34m\u001b[0m\u001b[0;34m\u001b[0m\u001b[0m\n\u001b[0m\u001b[1;32m     13\u001b[0m         \u001b[0mencoded_labels\u001b[0m\u001b[0;34m.\u001b[0m\u001b[0mappend\u001b[0m\u001b[0;34m(\u001b[0m\u001b[0mdoc_enc_labels\u001b[0m\u001b[0;34m.\u001b[0m\u001b[0mtolist\u001b[0m\u001b[0;34m(\u001b[0m\u001b[0;34m)\u001b[0m\u001b[0;34m)\u001b[0m\u001b[0;34m\u001b[0m\u001b[0;34m\u001b[0m\u001b[0m\n\u001b[1;32m     14\u001b[0m \u001b[0;34m\u001b[0m\u001b[0m\n",
            "\u001b[0;31mValueError\u001b[0m: NumPy boolean array indexing assignment cannot assign 24 input values to the 25 output values where the mask is true"
          ]
        }
      ]
    },
    {
      "cell_type": "code",
      "source": [
        "import tensorflow as tf"
      ],
      "metadata": {
        "id": "njb-4wk6DoR8"
      },
      "execution_count": null,
      "outputs": []
    },
    {
      "cell_type": "code",
      "source": [
        "train_encodings.pop(\"offset_mapping\") # we don't want to pass this to the model\n",
        "val_encodings.pop(\"offset_mapping\")\n",
        "\n",
        "train_dataset = tf.data.Dataset.from_tensor_slices((\n",
        "    dict(train_encodings),\n",
        "    train_labels\n",
        "))"
      ],
      "metadata": {
        "id": "-DyKr3QHDqlz"
      },
      "execution_count": null,
      "outputs": []
    },
    {
      "cell_type": "code",
      "source": [
        "val_dataset = tf.data.Dataset.from_tensor_slices((\n",
        "    dict(val_encodings),\n",
        "    val_labels\n",
        "))"
      ],
      "metadata": {
        "id": "VDexGyDKDslk"
      },
      "execution_count": null,
      "outputs": []
    },
    {
      "cell_type": "code",
      "source": [
        "from transformers import TFBertForTokenClassification"
      ],
      "metadata": {
        "id": "m2TUWyKmDuzo"
      },
      "execution_count": null,
      "outputs": []
    },
    {
      "cell_type": "code",
      "source": [
        ""
      ],
      "metadata": {
        "id": "mEeq2k1Qy_d5"
      },
      "execution_count": null,
      "outputs": []
    },
    {
      "cell_type": "code",
      "source": [
        "model = TFBertForTokenClassification.from_pretrained('jplu/tf-xlm-r-ner-40-lang',num_labels=len(unique_tags))\n",
        "metric = tf.keras.metrics.SparseCategoricalAccuracy('accuracy')\n",
        "optimizer = tf.keras.optimizers.Adam(learning_rate=5e-5)\n",
        "model.compile(optimizer=optimizer, loss=\"sparse_categorical_crossentropy\",metrics=metric) # can also use any keras loss fn\n",
        "model.summary()"
      ],
      "metadata": {
        "id": "BkYIYA7CDxJA"
      },
      "execution_count": null,
      "outputs": []
    },
    {
      "cell_type": "code",
      "source": [
        "model.fit(train_dataset.shuffle(1000).batch(8), epochs=1,validation_data=val_dataset, batch_size=8)"
      ],
      "metadata": {
        "id": "i-MW1EoBD0IF"
      },
      "execution_count": null,
      "outputs": []
    },
    {
      "cell_type": "code",
      "source": [
        "model.save_pretrained(\"gender_model\")"
      ],
      "metadata": {
        "id": "gL7GdzLlCalP"
      },
      "execution_count": null,
      "outputs": []
    }
  ]
}