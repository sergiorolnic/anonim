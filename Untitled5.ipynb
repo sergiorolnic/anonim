{
  "nbformat": 4,
  "nbformat_minor": 0,
  "metadata": {
    "colab": {
      "name": "Untitled5.ipynb",
      "provenance": [],
      "authorship_tag": "ABX9TyOJ7DTdAq18WYePr24J9Bnx",
      "include_colab_link": true
    },
    "kernelspec": {
      "name": "python3",
      "display_name": "Python 3"
    },
    "language_info": {
      "name": "python"
    },
    "accelerator": "GPU"
  },
  "cells": [
    {
      "cell_type": "markdown",
      "metadata": {
        "id": "view-in-github",
        "colab_type": "text"
      },
      "source": [
        "<a href=\"https://colab.research.google.com/github/sergiorolnic/anonim/blob/main/Untitled5.ipynb\" target=\"_parent\"><img src=\"https://colab.research.google.com/assets/colab-badge.svg\" alt=\"Open In Colab\"/></a>"
      ]
    },
    {
      "cell_type": "code",
      "metadata": {
        "id": "NppV22s2Jpky"
      },
      "source": [
        "import os.path\n",
        "import numpy as np\n",
        "import pandas as pd"
      ],
      "execution_count": 1,
      "outputs": []
    },
    {
      "cell_type": "code",
      "metadata": {
        "id": "GERTBNmi1W9m",
        "colab": {
          "base_uri": "https://localhost:8080/"
        },
        "outputId": "fb3840b6-1c70-4d6b-e5ec-1a6a9258d95f"
      },
      "source": [
        "pip install seqeval"
      ],
      "execution_count": 41,
      "outputs": [
        {
          "output_type": "stream",
          "name": "stdout",
          "text": [
            "Requirement already satisfied: seqeval in /usr/local/lib/python3.7/dist-packages (1.2.2)\n",
            "Requirement already satisfied: numpy>=1.14.0 in /usr/local/lib/python3.7/dist-packages (from seqeval) (1.19.5)\n",
            "Requirement already satisfied: scikit-learn>=0.21.3 in /usr/local/lib/python3.7/dist-packages (from seqeval) (1.0.1)\n",
            "Requirement already satisfied: joblib>=0.11 in /usr/local/lib/python3.7/dist-packages (from scikit-learn>=0.21.3->seqeval) (1.1.0)\n",
            "Requirement already satisfied: threadpoolctl>=2.0.0 in /usr/local/lib/python3.7/dist-packages (from scikit-learn>=0.21.3->seqeval) (3.0.0)\n",
            "Requirement already satisfied: scipy>=1.1.0 in /usr/local/lib/python3.7/dist-packages (from scikit-learn>=0.21.3->seqeval) (1.4.1)\n"
          ]
        }
      ]
    },
    {
      "cell_type": "code",
      "metadata": {
        "colab": {
          "base_uri": "https://localhost:8080/"
        },
        "id": "fqRGxLjBPZd3",
        "outputId": "031a023c-302d-42ba-87ff-2bd0bc5203d0"
      },
      "source": [
        "pip install transformers datasets\n"
      ],
      "execution_count": 42,
      "outputs": [
        {
          "output_type": "stream",
          "name": "stdout",
          "text": [
            "Requirement already satisfied: transformers in /usr/local/lib/python3.7/dist-packages (4.12.5)\n",
            "Requirement already satisfied: datasets in /usr/local/lib/python3.7/dist-packages (1.16.1)\n",
            "Requirement already satisfied: sacremoses in /usr/local/lib/python3.7/dist-packages (from transformers) (0.0.46)\n",
            "Requirement already satisfied: tokenizers<0.11,>=0.10.1 in /usr/local/lib/python3.7/dist-packages (from transformers) (0.10.3)\n",
            "Requirement already satisfied: packaging>=20.0 in /usr/local/lib/python3.7/dist-packages (from transformers) (21.3)\n",
            "Requirement already satisfied: numpy>=1.17 in /usr/local/lib/python3.7/dist-packages (from transformers) (1.19.5)\n",
            "Requirement already satisfied: requests in /usr/local/lib/python3.7/dist-packages (from transformers) (2.23.0)\n",
            "Requirement already satisfied: filelock in /usr/local/lib/python3.7/dist-packages (from transformers) (3.4.0)\n",
            "Requirement already satisfied: huggingface-hub<1.0,>=0.1.0 in /usr/local/lib/python3.7/dist-packages (from transformers) (0.2.1)\n",
            "Requirement already satisfied: tqdm>=4.27 in /usr/local/lib/python3.7/dist-packages (from transformers) (4.62.3)\n",
            "Requirement already satisfied: pyyaml>=5.1 in /usr/local/lib/python3.7/dist-packages (from transformers) (6.0)\n",
            "Requirement already satisfied: importlib-metadata in /usr/local/lib/python3.7/dist-packages (from transformers) (4.8.2)\n",
            "Requirement already satisfied: regex!=2019.12.17 in /usr/local/lib/python3.7/dist-packages (from transformers) (2019.12.20)\n",
            "Requirement already satisfied: typing-extensions>=3.7.4.3 in /usr/local/lib/python3.7/dist-packages (from huggingface-hub<1.0,>=0.1.0->transformers) (3.10.0.2)\n",
            "Requirement already satisfied: pyparsing!=3.0.5,>=2.0.2 in /usr/local/lib/python3.7/dist-packages (from packaging>=20.0->transformers) (3.0.6)\n",
            "Requirement already satisfied: fsspec[http]>=2021.05.0 in /usr/local/lib/python3.7/dist-packages (from datasets) (2021.11.1)\n",
            "Requirement already satisfied: dill in /usr/local/lib/python3.7/dist-packages (from datasets) (0.3.4)\n",
            "Requirement already satisfied: aiohttp in /usr/local/lib/python3.7/dist-packages (from datasets) (3.8.1)\n",
            "Requirement already satisfied: xxhash in /usr/local/lib/python3.7/dist-packages (from datasets) (2.0.2)\n",
            "Requirement already satisfied: pyarrow!=4.0.0,>=3.0.0 in /usr/local/lib/python3.7/dist-packages (from datasets) (3.0.0)\n",
            "Requirement already satisfied: pandas in /usr/local/lib/python3.7/dist-packages (from datasets) (1.1.5)\n",
            "Requirement already satisfied: multiprocess in /usr/local/lib/python3.7/dist-packages (from datasets) (0.70.12.2)\n",
            "Requirement already satisfied: urllib3!=1.25.0,!=1.25.1,<1.26,>=1.21.1 in /usr/local/lib/python3.7/dist-packages (from requests->transformers) (1.24.3)\n",
            "Requirement already satisfied: idna<3,>=2.5 in /usr/local/lib/python3.7/dist-packages (from requests->transformers) (2.10)\n",
            "Requirement already satisfied: chardet<4,>=3.0.2 in /usr/local/lib/python3.7/dist-packages (from requests->transformers) (3.0.4)\n",
            "Requirement already satisfied: certifi>=2017.4.17 in /usr/local/lib/python3.7/dist-packages (from requests->transformers) (2021.10.8)\n",
            "Requirement already satisfied: yarl<2.0,>=1.0 in /usr/local/lib/python3.7/dist-packages (from aiohttp->datasets) (1.7.2)\n",
            "Requirement already satisfied: async-timeout<5.0,>=4.0.0a3 in /usr/local/lib/python3.7/dist-packages (from aiohttp->datasets) (4.0.1)\n",
            "Requirement already satisfied: asynctest==0.13.0 in /usr/local/lib/python3.7/dist-packages (from aiohttp->datasets) (0.13.0)\n",
            "Requirement already satisfied: aiosignal>=1.1.2 in /usr/local/lib/python3.7/dist-packages (from aiohttp->datasets) (1.2.0)\n",
            "Requirement already satisfied: attrs>=17.3.0 in /usr/local/lib/python3.7/dist-packages (from aiohttp->datasets) (21.2.0)\n",
            "Requirement already satisfied: frozenlist>=1.1.1 in /usr/local/lib/python3.7/dist-packages (from aiohttp->datasets) (1.2.0)\n",
            "Requirement already satisfied: multidict<7.0,>=4.5 in /usr/local/lib/python3.7/dist-packages (from aiohttp->datasets) (5.2.0)\n",
            "Requirement already satisfied: charset-normalizer<3.0,>=2.0 in /usr/local/lib/python3.7/dist-packages (from aiohttp->datasets) (2.0.8)\n",
            "Requirement already satisfied: zipp>=0.5 in /usr/local/lib/python3.7/dist-packages (from importlib-metadata->transformers) (3.6.0)\n",
            "Requirement already satisfied: pytz>=2017.2 in /usr/local/lib/python3.7/dist-packages (from pandas->datasets) (2018.9)\n",
            "Requirement already satisfied: python-dateutil>=2.7.3 in /usr/local/lib/python3.7/dist-packages (from pandas->datasets) (2.8.2)\n",
            "Requirement already satisfied: six>=1.5 in /usr/local/lib/python3.7/dist-packages (from python-dateutil>=2.7.3->pandas->datasets) (1.15.0)\n",
            "Requirement already satisfied: joblib in /usr/local/lib/python3.7/dist-packages (from sacremoses->transformers) (1.1.0)\n",
            "Requirement already satisfied: click in /usr/local/lib/python3.7/dist-packages (from sacremoses->transformers) (7.1.2)\n"
          ]
        }
      ]
    },
    {
      "cell_type": "markdown",
      "metadata": {
        "id": "r8_fVsdKPNYI"
      },
      "source": [
        "# Create Data"
      ]
    },
    {
      "cell_type": "code",
      "metadata": {
        "id": "vQlaW4iQJsTH"
      },
      "source": [
        "df = pd.read_json(\"https://raw.githubusercontent.com/sergiorolnic/anonim/main/data/esempio.json\")"
      ],
      "execution_count": 43,
      "outputs": []
    },
    {
      "cell_type": "code",
      "metadata": {
        "id": "KQF_m3qk2LYa",
        "colab": {
          "base_uri": "https://localhost:8080/",
          "height": 400
        },
        "outputId": "40f3e98e-0d7d-4a7e-fd2e-27ca33acc96c"
      },
      "source": [
        "df.head(5)"
      ],
      "execution_count": 44,
      "outputs": [
        {
          "output_type": "execute_result",
          "data": {
            "text/html": [
              "<div>\n",
              "<style scoped>\n",
              "    .dataframe tbody tr th:only-of-type {\n",
              "        vertical-align: middle;\n",
              "    }\n",
              "\n",
              "    .dataframe tbody tr th {\n",
              "        vertical-align: top;\n",
              "    }\n",
              "\n",
              "    .dataframe thead th {\n",
              "        text-align: right;\n",
              "    }\n",
              "</style>\n",
              "<table border=\"1\" class=\"dataframe\">\n",
              "  <thead>\n",
              "    <tr style=\"text-align: right;\">\n",
              "      <th></th>\n",
              "      <th>cod_prv</th>\n",
              "      <th>cod_com</th>\n",
              "      <th>id</th>\n",
              "      <th>cognome</th>\n",
              "      <th>nome</th>\n",
              "      <th>sesso</th>\n",
              "      <th>data_nascita</th>\n",
              "      <th>luogo_nascita</th>\n",
              "      <th>cf</th>\n",
              "      <th>prov_nascita</th>\n",
              "      <th>comune_res</th>\n",
              "      <th>prov_res</th>\n",
              "      <th>citt</th>\n",
              "      <th>indirizzo</th>\n",
              "      <th>cap</th>\n",
              "      <th>dato1</th>\n",
              "      <th>dato2</th>\n",
              "      <th>dato3</th>\n",
              "      <th>dato4</th>\n",
              "      <th>dato5</th>\n",
              "      <th>dato6</th>\n",
              "      <th>dato7</th>\n",
              "    </tr>\n",
              "  </thead>\n",
              "  <tbody>\n",
              "    <tr>\n",
              "      <th>0</th>\n",
              "      <td>5</td>\n",
              "      <td>22</td>\n",
              "      <td>1</td>\n",
              "      <td>AHMETOVIC</td>\n",
              "      <td>MEHO</td>\n",
              "      <td>M</td>\n",
              "      <td>20051974</td>\n",
              "      <td>BOSNIA-ERZEGOVINA</td>\n",
              "      <td>HMTMHE74E20Z153Q</td>\n",
              "      <td>EE</td>\n",
              "      <td>MONCALIERI</td>\n",
              "      <td>TO</td>\n",
              "      <td>BIH</td>\n",
              "      <td>STRADA VINOVO SNC</td>\n",
              "      <td>10024</td>\n",
              "      <td>9032017</td>\n",
              "      <td>122049</td>\n",
              "      <td>23</td>\n",
              "      <td>9032017</td>\n",
              "      <td>16072008</td>\n",
              "      <td>12112021 05:49:25</td>\n",
              "      <td>CENS2011</td>\n",
              "    </tr>\n",
              "    <tr>\n",
              "      <th>1</th>\n",
              "      <td>5</td>\n",
              "      <td>22</td>\n",
              "      <td>2</td>\n",
              "      <td>GIORDANI</td>\n",
              "      <td>SILVIA</td>\n",
              "      <td>F</td>\n",
              "      <td>29061981</td>\n",
              "      <td>TORINO</td>\n",
              "      <td>GRDSLV81H69L219C</td>\n",
              "      <td>TO</td>\n",
              "      <td>MONCALIERI</td>\n",
              "      <td>TO</td>\n",
              "      <td>ITA</td>\n",
              "      <td>VIA AMILCARE PONCHIELLI 26</td>\n",
              "      <td>10024</td>\n",
              "      <td>24032017</td>\n",
              "      <td>124156</td>\n",
              "      <td>1</td>\n",
              "      <td>25062011</td>\n",
              "      <td>14012010</td>\n",
              "      <td>12112021 05:49:25</td>\n",
              "      <td>CENS2011</td>\n",
              "    </tr>\n",
              "    <tr>\n",
              "      <th>2</th>\n",
              "      <td>5</td>\n",
              "      <td>22</td>\n",
              "      <td>8</td>\n",
              "      <td>ABATE</td>\n",
              "      <td>CALOGERA</td>\n",
              "      <td>F</td>\n",
              "      <td>15071970</td>\n",
              "      <td>MONCALIERI</td>\n",
              "      <td>BTACGR70L55F335R</td>\n",
              "      <td>TO</td>\n",
              "      <td>MONCALIERI</td>\n",
              "      <td>TO</td>\n",
              "      <td>ITA</td>\n",
              "      <td>VIA JUGLARIS 66</td>\n",
              "      <td>10024</td>\n",
              "      <td>24032017</td>\n",
              "      <td>10005</td>\n",
              "      <td>1</td>\n",
              "      <td>12052010</td>\n",
              "      <td>29011968</td>\n",
              "      <td>12112021 05:49:25</td>\n",
              "      <td>CENS2011</td>\n",
              "    </tr>\n",
              "    <tr>\n",
              "      <th>3</th>\n",
              "      <td>5</td>\n",
              "      <td>22</td>\n",
              "      <td>11</td>\n",
              "      <td>ABATE</td>\n",
              "      <td>ELENA</td>\n",
              "      <td>F</td>\n",
              "      <td>19031946</td>\n",
              "      <td>MONTALTO UFFUGO</td>\n",
              "      <td>BTALNE46C59F416B</td>\n",
              "      <td>CS</td>\n",
              "      <td>MONCALIERI</td>\n",
              "      <td>TO</td>\n",
              "      <td>ITA</td>\n",
              "      <td>VIA JUGLARIS 27</td>\n",
              "      <td>10024</td>\n",
              "      <td>24032017</td>\n",
              "      <td>27848</td>\n",
              "      <td>1</td>\n",
              "      <td>20022014</td>\n",
              "      <td>11041972</td>\n",
              "      <td>12112021 05:49:25</td>\n",
              "      <td>CENS2011</td>\n",
              "    </tr>\n",
              "    <tr>\n",
              "      <th>4</th>\n",
              "      <td>5</td>\n",
              "      <td>22</td>\n",
              "      <td>13</td>\n",
              "      <td>ABATE</td>\n",
              "      <td>EZIO</td>\n",
              "      <td>M</td>\n",
              "      <td>8031935</td>\n",
              "      <td>BIANZE'</td>\n",
              "      <td>BTAZEI35C08A847I</td>\n",
              "      <td>VC</td>\n",
              "      <td>MONCALIERI</td>\n",
              "      <td>TO</td>\n",
              "      <td>ITA</td>\n",
              "      <td>STRADA GENOVA 58</td>\n",
              "      <td>10024</td>\n",
              "      <td>24032017</td>\n",
              "      <td>10002</td>\n",
              "      <td>1</td>\n",
              "      <td>3101963</td>\n",
              "      <td>3101963</td>\n",
              "      <td>12112021 05:49:25</td>\n",
              "      <td>CENS2011</td>\n",
              "    </tr>\n",
              "  </tbody>\n",
              "</table>\n",
              "</div>"
            ],
            "text/plain": [
              "   cod_prv  cod_com  id  ...     dato5              dato6     dato7\n",
              "0        5       22   1  ...  16072008  12112021 05:49:25  CENS2011\n",
              "1        5       22   2  ...  14012010  12112021 05:49:25  CENS2011\n",
              "2        5       22   8  ...  29011968  12112021 05:49:25  CENS2011\n",
              "3        5       22  11  ...  11041972  12112021 05:49:25  CENS2011\n",
              "4        5       22  13  ...   3101963  12112021 05:49:25  CENS2011\n",
              "\n",
              "[5 rows x 22 columns]"
            ]
          },
          "metadata": {},
          "execution_count": 44
        }
      ]
    },
    {
      "cell_type": "code",
      "metadata": {
        "id": "dIncDACs7zoU",
        "outputId": "e6e3dfd7-21b9-47eb-bbf1-e9110a147c48",
        "colab": {
          "base_uri": "https://localhost:8080/",
          "height": 202
        }
      },
      "source": [
        "df[df[\"cognome\"] == \"INTILI\"]"
      ],
      "execution_count": 45,
      "outputs": [
        {
          "output_type": "execute_result",
          "data": {
            "text/html": [
              "<div>\n",
              "<style scoped>\n",
              "    .dataframe tbody tr th:only-of-type {\n",
              "        vertical-align: middle;\n",
              "    }\n",
              "\n",
              "    .dataframe tbody tr th {\n",
              "        vertical-align: top;\n",
              "    }\n",
              "\n",
              "    .dataframe thead th {\n",
              "        text-align: right;\n",
              "    }\n",
              "</style>\n",
              "<table border=\"1\" class=\"dataframe\">\n",
              "  <thead>\n",
              "    <tr style=\"text-align: right;\">\n",
              "      <th></th>\n",
              "      <th>cod_prv</th>\n",
              "      <th>cod_com</th>\n",
              "      <th>id</th>\n",
              "      <th>cognome</th>\n",
              "      <th>nome</th>\n",
              "      <th>sesso</th>\n",
              "      <th>data_nascita</th>\n",
              "      <th>luogo_nascita</th>\n",
              "      <th>cf</th>\n",
              "      <th>prov_nascita</th>\n",
              "      <th>comune_res</th>\n",
              "      <th>prov_res</th>\n",
              "      <th>citt</th>\n",
              "      <th>indirizzo</th>\n",
              "      <th>cap</th>\n",
              "      <th>dato1</th>\n",
              "      <th>dato2</th>\n",
              "      <th>dato3</th>\n",
              "      <th>dato4</th>\n",
              "      <th>dato5</th>\n",
              "      <th>dato6</th>\n",
              "      <th>dato7</th>\n",
              "    </tr>\n",
              "  </thead>\n",
              "  <tbody>\n",
              "    <tr>\n",
              "      <th>11030</th>\n",
              "      <td>5</td>\n",
              "      <td>22</td>\n",
              "      <td>30650</td>\n",
              "      <td>INTILI</td>\n",
              "      <td>ANTONIO</td>\n",
              "      <td>M</td>\n",
              "      <td>10061931</td>\n",
              "      <td>CERAMI</td>\n",
              "      <td>NTLNTN31H10C480A</td>\n",
              "      <td>EN</td>\n",
              "      <td>MONCALIERI</td>\n",
              "      <td>TO</td>\n",
              "      <td>ITA</td>\n",
              "      <td>VIA MONTE BIANCO 9</td>\n",
              "      <td>10024</td>\n",
              "      <td>24032017</td>\n",
              "      <td>48501</td>\n",
              "      <td>1</td>\n",
              "      <td>2101970</td>\n",
              "      <td>2101970</td>\n",
              "      <td>12112021 05:49:25</td>\n",
              "      <td>CENS2011</td>\n",
              "    </tr>\n",
              "    <tr>\n",
              "      <th>11031</th>\n",
              "      <td>5</td>\n",
              "      <td>22</td>\n",
              "      <td>30651</td>\n",
              "      <td>INTILI</td>\n",
              "      <td>DAVIDE</td>\n",
              "      <td>M</td>\n",
              "      <td>28111977</td>\n",
              "      <td>TORINO</td>\n",
              "      <td>NTLDVD77S28L219Y</td>\n",
              "      <td>TO</td>\n",
              "      <td>MONCALIERI</td>\n",
              "      <td>TO</td>\n",
              "      <td>ITA</td>\n",
              "      <td>VIA ANGELO BROFFERIO 10</td>\n",
              "      <td>10024</td>\n",
              "      <td>24032017</td>\n",
              "      <td>116877</td>\n",
              "      <td>1</td>\n",
              "      <td>13122004</td>\n",
              "      <td>13122004</td>\n",
              "      <td>12112021 05:49:25</td>\n",
              "      <td>CENS2011</td>\n",
              "    </tr>\n",
              "  </tbody>\n",
              "</table>\n",
              "</div>"
            ],
            "text/plain": [
              "       cod_prv  cod_com     id  ...     dato5              dato6     dato7\n",
              "11030        5       22  30650  ...   2101970  12112021 05:49:25  CENS2011\n",
              "11031        5       22  30651  ...  13122004  12112021 05:49:25  CENS2011\n",
              "\n",
              "[2 rows x 22 columns]"
            ]
          },
          "metadata": {},
          "execution_count": 45
        }
      ]
    },
    {
      "cell_type": "code",
      "metadata": {
        "id": "CoMgn5-wPsW_"
      },
      "source": [
        "test = df"
      ],
      "execution_count": 73,
      "outputs": []
    },
    {
      "cell_type": "code",
      "metadata": {
        "id": "4WBQT83FPjbf"
      },
      "source": [
        "cn = pd.read_csv('https://raw.githubusercontent.com/nicolomantini/lista_cognomi_italiani/master/cognomi.txt', header=None)\n",
        "cn.columns = [\"cognome\"]"
      ],
      "execution_count": 74,
      "outputs": []
    },
    {
      "cell_type": "code",
      "metadata": {
        "id": "EXhbzU357oxW"
      },
      "source": [
        ""
      ],
      "execution_count": null,
      "outputs": []
    },
    {
      "cell_type": "code",
      "metadata": {
        "colab": {
          "base_uri": "https://localhost:8080/",
          "height": 112
        },
        "id": "JFdXeVjrQyjN",
        "outputId": "098e3a4b-98df-43c9-e45e-333b3137b3fa"
      },
      "source": [
        "cn.head(2)"
      ],
      "execution_count": 75,
      "outputs": [
        {
          "output_type": "execute_result",
          "data": {
            "text/html": [
              "<div>\n",
              "<style scoped>\n",
              "    .dataframe tbody tr th:only-of-type {\n",
              "        vertical-align: middle;\n",
              "    }\n",
              "\n",
              "    .dataframe tbody tr th {\n",
              "        vertical-align: top;\n",
              "    }\n",
              "\n",
              "    .dataframe thead th {\n",
              "        text-align: right;\n",
              "    }\n",
              "</style>\n",
              "<table border=\"1\" class=\"dataframe\">\n",
              "  <thead>\n",
              "    <tr style=\"text-align: right;\">\n",
              "      <th></th>\n",
              "      <th>cognome</th>\n",
              "    </tr>\n",
              "  </thead>\n",
              "  <tbody>\n",
              "    <tr>\n",
              "      <th>0</th>\n",
              "      <td>Abagnale</td>\n",
              "    </tr>\n",
              "    <tr>\n",
              "      <th>1</th>\n",
              "      <td>Abagnali</td>\n",
              "    </tr>\n",
              "  </tbody>\n",
              "</table>\n",
              "</div>"
            ],
            "text/plain": [
              "    cognome\n",
              "0  Abagnale\n",
              "1  Abagnali"
            ]
          },
          "metadata": {},
          "execution_count": 75
        }
      ]
    },
    {
      "cell_type": "code",
      "metadata": {
        "id": "MF52bFdaSVRm"
      },
      "source": [
        "femal_name = pd.read_json('https://raw.githubusercontent.com/sergiorolnic/anonim/main/data/ITGivenFemale.json')\n"
      ],
      "execution_count": 76,
      "outputs": []
    },
    {
      "cell_type": "code",
      "metadata": {
        "colab": {
          "base_uri": "https://localhost:8080/",
          "height": 423
        },
        "id": "Rn6jDLvCSjER",
        "outputId": "8f993e9b-2d0b-48c7-f4f3-f8b159a81ae5"
      },
      "source": [
        "femal_name[100:200]"
      ],
      "execution_count": 77,
      "outputs": [
        {
          "output_type": "execute_result",
          "data": {
            "text/html": [
              "<div>\n",
              "<style scoped>\n",
              "    .dataframe tbody tr th:only-of-type {\n",
              "        vertical-align: middle;\n",
              "    }\n",
              "\n",
              "    .dataframe tbody tr th {\n",
              "        vertical-align: top;\n",
              "    }\n",
              "\n",
              "    .dataframe thead th {\n",
              "        text-align: right;\n",
              "    }\n",
              "</style>\n",
              "<table border=\"1\" class=\"dataframe\">\n",
              "  <thead>\n",
              "    <tr style=\"text-align: right;\">\n",
              "      <th></th>\n",
              "      <th>name</th>\n",
              "      <th>gender</th>\n",
              "      <th>culture</th>\n",
              "    </tr>\n",
              "  </thead>\n",
              "  <tbody>\n",
              "    <tr>\n",
              "      <th>100</th>\n",
              "      <td>Albsana</td>\n",
              "      <td>F</td>\n",
              "      <td>IT</td>\n",
              "    </tr>\n",
              "    <tr>\n",
              "      <th>101</th>\n",
              "      <td>Albania</td>\n",
              "      <td>F</td>\n",
              "      <td>IT</td>\n",
              "    </tr>\n",
              "    <tr>\n",
              "      <th>102</th>\n",
              "      <td>Albarosa</td>\n",
              "      <td>F</td>\n",
              "      <td>IT</td>\n",
              "    </tr>\n",
              "    <tr>\n",
              "      <th>103</th>\n",
              "      <td>Alberica</td>\n",
              "      <td>F</td>\n",
              "      <td>IT</td>\n",
              "    </tr>\n",
              "    <tr>\n",
              "      <th>104</th>\n",
              "      <td>Alberice</td>\n",
              "      <td>F</td>\n",
              "      <td>IT</td>\n",
              "    </tr>\n",
              "    <tr>\n",
              "      <th>...</th>\n",
              "      <td>...</td>\n",
              "      <td>...</td>\n",
              "      <td>...</td>\n",
              "    </tr>\n",
              "    <tr>\n",
              "      <th>195</th>\n",
              "      <td>Alvara</td>\n",
              "      <td>F</td>\n",
              "      <td>IT</td>\n",
              "    </tr>\n",
              "    <tr>\n",
              "      <th>196</th>\n",
              "      <td>Alvarina</td>\n",
              "      <td>F</td>\n",
              "      <td>IT</td>\n",
              "    </tr>\n",
              "    <tr>\n",
              "      <th>197</th>\n",
              "      <td>Alvisa</td>\n",
              "      <td>F</td>\n",
              "      <td>IT</td>\n",
              "    </tr>\n",
              "    <tr>\n",
              "      <th>198</th>\n",
              "      <td>Alvisia</td>\n",
              "      <td>F</td>\n",
              "      <td>IT</td>\n",
              "    </tr>\n",
              "    <tr>\n",
              "      <th>199</th>\n",
              "      <td>Amabile</td>\n",
              "      <td>F</td>\n",
              "      <td>IT</td>\n",
              "    </tr>\n",
              "  </tbody>\n",
              "</table>\n",
              "<p>100 rows × 3 columns</p>\n",
              "</div>"
            ],
            "text/plain": [
              "         name gender culture\n",
              "100   Albsana      F      IT\n",
              "101   Albania      F      IT\n",
              "102  Albarosa      F      IT\n",
              "103  Alberica      F      IT\n",
              "104  Alberice      F      IT\n",
              "..        ...    ...     ...\n",
              "195    Alvara      F      IT\n",
              "196  Alvarina      F      IT\n",
              "197    Alvisa      F      IT\n",
              "198   Alvisia      F      IT\n",
              "199   Amabile      F      IT\n",
              "\n",
              "[100 rows x 3 columns]"
            ]
          },
          "metadata": {},
          "execution_count": 77
        }
      ]
    },
    {
      "cell_type": "code",
      "metadata": {
        "id": "3s4ku6PPR_Fq"
      },
      "source": [
        "male_name = pd.read_json('https://raw.githubusercontent.com/sergiorolnic/anonim/main/data/ITGivenMale.json')"
      ],
      "execution_count": 78,
      "outputs": []
    },
    {
      "cell_type": "code",
      "metadata": {
        "colab": {
          "base_uri": "https://localhost:8080/",
          "height": 423
        },
        "id": "wcy43VpCUVis",
        "outputId": "bef8a22d-24df-4934-c702-2082117afe6b"
      },
      "source": [
        "male_name"
      ],
      "execution_count": 79,
      "outputs": [
        {
          "output_type": "execute_result",
          "data": {
            "text/html": [
              "<div>\n",
              "<style scoped>\n",
              "    .dataframe tbody tr th:only-of-type {\n",
              "        vertical-align: middle;\n",
              "    }\n",
              "\n",
              "    .dataframe tbody tr th {\n",
              "        vertical-align: top;\n",
              "    }\n",
              "\n",
              "    .dataframe thead th {\n",
              "        text-align: right;\n",
              "    }\n",
              "</style>\n",
              "<table border=\"1\" class=\"dataframe\">\n",
              "  <thead>\n",
              "    <tr style=\"text-align: right;\">\n",
              "      <th></th>\n",
              "      <th>name</th>\n",
              "      <th>gender</th>\n",
              "      <th>culture</th>\n",
              "    </tr>\n",
              "  </thead>\n",
              "  <tbody>\n",
              "    <tr>\n",
              "      <th>0</th>\n",
              "      <td>Abaco</td>\n",
              "      <td>M</td>\n",
              "      <td>IT</td>\n",
              "    </tr>\n",
              "    <tr>\n",
              "      <th>1</th>\n",
              "      <td>Abbondanzio</td>\n",
              "      <td>M</td>\n",
              "      <td>IT</td>\n",
              "    </tr>\n",
              "    <tr>\n",
              "      <th>2</th>\n",
              "      <td>Abbondazio</td>\n",
              "      <td>M</td>\n",
              "      <td>IT</td>\n",
              "    </tr>\n",
              "    <tr>\n",
              "      <th>3</th>\n",
              "      <td>Abbondio</td>\n",
              "      <td>M</td>\n",
              "      <td>IT</td>\n",
              "    </tr>\n",
              "    <tr>\n",
              "      <th>4</th>\n",
              "      <td>Abdenago</td>\n",
              "      <td>M</td>\n",
              "      <td>IT</td>\n",
              "    </tr>\n",
              "    <tr>\n",
              "      <th>...</th>\n",
              "      <td>...</td>\n",
              "      <td>...</td>\n",
              "      <td>...</td>\n",
              "    </tr>\n",
              "    <tr>\n",
              "      <th>4994</th>\n",
              "      <td>Zolferino</td>\n",
              "      <td>M</td>\n",
              "      <td>IT</td>\n",
              "    </tr>\n",
              "    <tr>\n",
              "      <th>4995</th>\n",
              "      <td>Zopito</td>\n",
              "      <td>M</td>\n",
              "      <td>IT</td>\n",
              "    </tr>\n",
              "    <tr>\n",
              "      <th>4996</th>\n",
              "      <td>Zoraido</td>\n",
              "      <td>M</td>\n",
              "      <td>IT</td>\n",
              "    </tr>\n",
              "    <tr>\n",
              "      <th>4997</th>\n",
              "      <td>Zosimo</td>\n",
              "      <td>M</td>\n",
              "      <td>IT</td>\n",
              "    </tr>\n",
              "    <tr>\n",
              "      <th>4998</th>\n",
              "      <td>Zulino</td>\n",
              "      <td>M</td>\n",
              "      <td>IT</td>\n",
              "    </tr>\n",
              "  </tbody>\n",
              "</table>\n",
              "<p>4999 rows × 3 columns</p>\n",
              "</div>"
            ],
            "text/plain": [
              "             name gender culture\n",
              "0           Abaco      M      IT\n",
              "1     Abbondanzio      M      IT\n",
              "2      Abbondazio      M      IT\n",
              "3        Abbondio      M      IT\n",
              "4        Abdenago      M      IT\n",
              "...           ...    ...     ...\n",
              "4994    Zolferino      M      IT\n",
              "4995       Zopito      M      IT\n",
              "4996      Zoraido      M      IT\n",
              "4997       Zosimo      M      IT\n",
              "4998       Zulino      M      IT\n",
              "\n",
              "[4999 rows x 3 columns]"
            ]
          },
          "metadata": {},
          "execution_count": 79
        }
      ]
    },
    {
      "cell_type": "code",
      "metadata": {
        "id": "GhhZBbJaVcow"
      },
      "source": [
        "mixt = pd.concat([male_name,femal_name])"
      ],
      "execution_count": 80,
      "outputs": []
    },
    {
      "cell_type": "code",
      "metadata": {
        "id": "baEODYdtcacm",
        "colab": {
          "base_uri": "https://localhost:8080/",
          "height": 423
        },
        "outputId": "126a9a58-f6ee-41a0-95dc-1c9e18523c9c"
      },
      "source": [
        "mixt"
      ],
      "execution_count": 81,
      "outputs": [
        {
          "output_type": "execute_result",
          "data": {
            "text/html": [
              "<div>\n",
              "<style scoped>\n",
              "    .dataframe tbody tr th:only-of-type {\n",
              "        vertical-align: middle;\n",
              "    }\n",
              "\n",
              "    .dataframe tbody tr th {\n",
              "        vertical-align: top;\n",
              "    }\n",
              "\n",
              "    .dataframe thead th {\n",
              "        text-align: right;\n",
              "    }\n",
              "</style>\n",
              "<table border=\"1\" class=\"dataframe\">\n",
              "  <thead>\n",
              "    <tr style=\"text-align: right;\">\n",
              "      <th></th>\n",
              "      <th>name</th>\n",
              "      <th>gender</th>\n",
              "      <th>culture</th>\n",
              "    </tr>\n",
              "  </thead>\n",
              "  <tbody>\n",
              "    <tr>\n",
              "      <th>0</th>\n",
              "      <td>Abaco</td>\n",
              "      <td>M</td>\n",
              "      <td>IT</td>\n",
              "    </tr>\n",
              "    <tr>\n",
              "      <th>1</th>\n",
              "      <td>Abbondanzio</td>\n",
              "      <td>M</td>\n",
              "      <td>IT</td>\n",
              "    </tr>\n",
              "    <tr>\n",
              "      <th>2</th>\n",
              "      <td>Abbondazio</td>\n",
              "      <td>M</td>\n",
              "      <td>IT</td>\n",
              "    </tr>\n",
              "    <tr>\n",
              "      <th>3</th>\n",
              "      <td>Abbondio</td>\n",
              "      <td>M</td>\n",
              "      <td>IT</td>\n",
              "    </tr>\n",
              "    <tr>\n",
              "      <th>4</th>\n",
              "      <td>Abdenago</td>\n",
              "      <td>M</td>\n",
              "      <td>IT</td>\n",
              "    </tr>\n",
              "    <tr>\n",
              "      <th>...</th>\n",
              "      <td>...</td>\n",
              "      <td>...</td>\n",
              "      <td>...</td>\n",
              "    </tr>\n",
              "    <tr>\n",
              "      <th>4082</th>\n",
              "      <td>Zola</td>\n",
              "      <td>F</td>\n",
              "      <td>IT</td>\n",
              "    </tr>\n",
              "    <tr>\n",
              "      <th>4083</th>\n",
              "      <td>Zolia</td>\n",
              "      <td>F</td>\n",
              "      <td>IT</td>\n",
              "    </tr>\n",
              "    <tr>\n",
              "      <th>4084</th>\n",
              "      <td>Zopita</td>\n",
              "      <td>F</td>\n",
              "      <td>IT</td>\n",
              "    </tr>\n",
              "    <tr>\n",
              "      <th>4085</th>\n",
              "      <td>Zoraide</td>\n",
              "      <td>F</td>\n",
              "      <td>IT</td>\n",
              "    </tr>\n",
              "    <tr>\n",
              "      <th>4086</th>\n",
              "      <td>Zulina</td>\n",
              "      <td>F</td>\n",
              "      <td>IT</td>\n",
              "    </tr>\n",
              "  </tbody>\n",
              "</table>\n",
              "<p>9086 rows × 3 columns</p>\n",
              "</div>"
            ],
            "text/plain": [
              "             name gender culture\n",
              "0           Abaco      M      IT\n",
              "1     Abbondanzio      M      IT\n",
              "2      Abbondazio      M      IT\n",
              "3        Abbondio      M      IT\n",
              "4        Abdenago      M      IT\n",
              "...           ...    ...     ...\n",
              "4082         Zola      F      IT\n",
              "4083        Zolia      F      IT\n",
              "4084       Zopita      F      IT\n",
              "4085      Zoraide      F      IT\n",
              "4086       Zulina      F      IT\n",
              "\n",
              "[9086 rows x 3 columns]"
            ]
          },
          "metadata": {},
          "execution_count": 81
        }
      ]
    },
    {
      "cell_type": "code",
      "metadata": {
        "id": "_so-HNWJdADm"
      },
      "source": [
        "index = pd.Index(range(1, 9087, 1))"
      ],
      "execution_count": 82,
      "outputs": []
    },
    {
      "cell_type": "code",
      "metadata": {
        "id": "kwxobDwxZ3x4",
        "colab": {
          "base_uri": "https://localhost:8080/",
          "height": 423
        },
        "outputId": "0ea5bb9b-b92f-420f-917d-5898e6152327"
      },
      "source": [
        "mixt.set_index(index)"
      ],
      "execution_count": 83,
      "outputs": [
        {
          "output_type": "execute_result",
          "data": {
            "text/html": [
              "<div>\n",
              "<style scoped>\n",
              "    .dataframe tbody tr th:only-of-type {\n",
              "        vertical-align: middle;\n",
              "    }\n",
              "\n",
              "    .dataframe tbody tr th {\n",
              "        vertical-align: top;\n",
              "    }\n",
              "\n",
              "    .dataframe thead th {\n",
              "        text-align: right;\n",
              "    }\n",
              "</style>\n",
              "<table border=\"1\" class=\"dataframe\">\n",
              "  <thead>\n",
              "    <tr style=\"text-align: right;\">\n",
              "      <th></th>\n",
              "      <th>name</th>\n",
              "      <th>gender</th>\n",
              "      <th>culture</th>\n",
              "    </tr>\n",
              "  </thead>\n",
              "  <tbody>\n",
              "    <tr>\n",
              "      <th>1</th>\n",
              "      <td>Abaco</td>\n",
              "      <td>M</td>\n",
              "      <td>IT</td>\n",
              "    </tr>\n",
              "    <tr>\n",
              "      <th>2</th>\n",
              "      <td>Abbondanzio</td>\n",
              "      <td>M</td>\n",
              "      <td>IT</td>\n",
              "    </tr>\n",
              "    <tr>\n",
              "      <th>3</th>\n",
              "      <td>Abbondazio</td>\n",
              "      <td>M</td>\n",
              "      <td>IT</td>\n",
              "    </tr>\n",
              "    <tr>\n",
              "      <th>4</th>\n",
              "      <td>Abbondio</td>\n",
              "      <td>M</td>\n",
              "      <td>IT</td>\n",
              "    </tr>\n",
              "    <tr>\n",
              "      <th>5</th>\n",
              "      <td>Abdenago</td>\n",
              "      <td>M</td>\n",
              "      <td>IT</td>\n",
              "    </tr>\n",
              "    <tr>\n",
              "      <th>...</th>\n",
              "      <td>...</td>\n",
              "      <td>...</td>\n",
              "      <td>...</td>\n",
              "    </tr>\n",
              "    <tr>\n",
              "      <th>9082</th>\n",
              "      <td>Zola</td>\n",
              "      <td>F</td>\n",
              "      <td>IT</td>\n",
              "    </tr>\n",
              "    <tr>\n",
              "      <th>9083</th>\n",
              "      <td>Zolia</td>\n",
              "      <td>F</td>\n",
              "      <td>IT</td>\n",
              "    </tr>\n",
              "    <tr>\n",
              "      <th>9084</th>\n",
              "      <td>Zopita</td>\n",
              "      <td>F</td>\n",
              "      <td>IT</td>\n",
              "    </tr>\n",
              "    <tr>\n",
              "      <th>9085</th>\n",
              "      <td>Zoraide</td>\n",
              "      <td>F</td>\n",
              "      <td>IT</td>\n",
              "    </tr>\n",
              "    <tr>\n",
              "      <th>9086</th>\n",
              "      <td>Zulina</td>\n",
              "      <td>F</td>\n",
              "      <td>IT</td>\n",
              "    </tr>\n",
              "  </tbody>\n",
              "</table>\n",
              "<p>9086 rows × 3 columns</p>\n",
              "</div>"
            ],
            "text/plain": [
              "             name gender culture\n",
              "1           Abaco      M      IT\n",
              "2     Abbondanzio      M      IT\n",
              "3      Abbondazio      M      IT\n",
              "4        Abbondio      M      IT\n",
              "5        Abdenago      M      IT\n",
              "...           ...    ...     ...\n",
              "9082         Zola      F      IT\n",
              "9083        Zolia      F      IT\n",
              "9084       Zopita      F      IT\n",
              "9085      Zoraide      F      IT\n",
              "9086       Zulina      F      IT\n",
              "\n",
              "[9086 rows x 3 columns]"
            ]
          },
          "metadata": {},
          "execution_count": 83
        }
      ]
    },
    {
      "cell_type": "code",
      "metadata": {
        "id": "N5u-VlZNakkS",
        "colab": {
          "base_uri": "https://localhost:8080/",
          "height": 35
        },
        "outputId": "f78744d2-1d16-4294-b190-4c5038cce421"
      },
      "source": [
        "mixt[\"name\"].iloc[9085]"
      ],
      "execution_count": 84,
      "outputs": [
        {
          "output_type": "execute_result",
          "data": {
            "application/vnd.google.colaboratory.intrinsic+json": {
              "type": "string"
            },
            "text/plain": [
              "'Zulina'"
            ]
          },
          "metadata": {},
          "execution_count": 84
        }
      ]
    },
    {
      "cell_type": "code",
      "metadata": {
        "id": "ebXA2B2hXMgH"
      },
      "source": [
        "def fill_missing(column_val):\n",
        "    if column_val == \"\": \n",
        "        column_val = mixt[\"name\"].iloc[np.random.randint(9086)]\n",
        "    else:\n",
        "         column_val = column_val\n",
        "    return column_val"
      ],
      "execution_count": 85,
      "outputs": []
    },
    {
      "cell_type": "code",
      "metadata": {
        "id": "C6Z5znClep7I"
      },
      "source": [
        "cn[\"nome\"] = \"\""
      ],
      "execution_count": 86,
      "outputs": []
    },
    {
      "cell_type": "code",
      "metadata": {
        "id": "wTKgg12nZwQa"
      },
      "source": [
        "cn['nome'] = cn['nome'].apply(fill_missing) "
      ],
      "execution_count": 87,
      "outputs": []
    },
    {
      "cell_type": "code",
      "metadata": {
        "id": "B7_JajrQfBCV"
      },
      "source": [
        "cn[\"nome\"] = cn[\"nome\"].str.upper()"
      ],
      "execution_count": 88,
      "outputs": []
    },
    {
      "cell_type": "code",
      "metadata": {
        "id": "LgtaOEe78gCR"
      },
      "source": [
        "cn[\"cognome\"] = cn[\"cognome\"].str.upper()"
      ],
      "execution_count": 89,
      "outputs": []
    },
    {
      "cell_type": "code",
      "metadata": {
        "id": "TVUoddvh6omc",
        "outputId": "ce6677fa-da03-4092-efb8-102f832252d6",
        "colab": {
          "base_uri": "https://localhost:8080/",
          "height": 311
        }
      },
      "source": [
        "cn[\"cognome\"][\"INTILI\"]"
      ],
      "execution_count": 121,
      "outputs": [
        {
          "output_type": "error",
          "ename": "KeyError",
          "evalue": "ignored",
          "traceback": [
            "\u001b[0;31m---------------------------------------------------------------------------\u001b[0m",
            "\u001b[0;31mKeyError\u001b[0m                                  Traceback (most recent call last)",
            "\u001b[0;32m<ipython-input-121-15c4b41cc6ba>\u001b[0m in \u001b[0;36m<module>\u001b[0;34m()\u001b[0m\n\u001b[0;32m----> 1\u001b[0;31m \u001b[0mcn\u001b[0m\u001b[0;34m[\u001b[0m\u001b[0;34m\"cognome\"\u001b[0m\u001b[0;34m]\u001b[0m\u001b[0;34m[\u001b[0m\u001b[0;34m\"INTILI\"\u001b[0m\u001b[0;34m]\u001b[0m\u001b[0;34m\u001b[0m\u001b[0;34m\u001b[0m\u001b[0m\n\u001b[0m",
            "\u001b[0;32m/usr/local/lib/python3.7/dist-packages/pandas/core/series.py\u001b[0m in \u001b[0;36m__getitem__\u001b[0;34m(self, key)\u001b[0m\n\u001b[1;32m    880\u001b[0m \u001b[0;34m\u001b[0m\u001b[0m\n\u001b[1;32m    881\u001b[0m         \u001b[0;32melif\u001b[0m \u001b[0mkey_is_scalar\u001b[0m\u001b[0;34m:\u001b[0m\u001b[0;34m\u001b[0m\u001b[0;34m\u001b[0m\u001b[0m\n\u001b[0;32m--> 882\u001b[0;31m             \u001b[0;32mreturn\u001b[0m \u001b[0mself\u001b[0m\u001b[0;34m.\u001b[0m\u001b[0m_get_value\u001b[0m\u001b[0;34m(\u001b[0m\u001b[0mkey\u001b[0m\u001b[0;34m)\u001b[0m\u001b[0;34m\u001b[0m\u001b[0;34m\u001b[0m\u001b[0m\n\u001b[0m\u001b[1;32m    883\u001b[0m \u001b[0;34m\u001b[0m\u001b[0m\n\u001b[1;32m    884\u001b[0m         \u001b[0;32mif\u001b[0m \u001b[0mis_hashable\u001b[0m\u001b[0;34m(\u001b[0m\u001b[0mkey\u001b[0m\u001b[0;34m)\u001b[0m\u001b[0;34m:\u001b[0m\u001b[0;34m\u001b[0m\u001b[0;34m\u001b[0m\u001b[0m\n",
            "\u001b[0;32m/usr/local/lib/python3.7/dist-packages/pandas/core/series.py\u001b[0m in \u001b[0;36m_get_value\u001b[0;34m(self, label, takeable)\u001b[0m\n\u001b[1;32m    988\u001b[0m \u001b[0;34m\u001b[0m\u001b[0m\n\u001b[1;32m    989\u001b[0m         \u001b[0;31m# Similar to Index.get_value, but we do not fall back to positional\u001b[0m\u001b[0;34m\u001b[0m\u001b[0;34m\u001b[0m\u001b[0;34m\u001b[0m\u001b[0m\n\u001b[0;32m--> 990\u001b[0;31m         \u001b[0mloc\u001b[0m \u001b[0;34m=\u001b[0m \u001b[0mself\u001b[0m\u001b[0;34m.\u001b[0m\u001b[0mindex\u001b[0m\u001b[0;34m.\u001b[0m\u001b[0mget_loc\u001b[0m\u001b[0;34m(\u001b[0m\u001b[0mlabel\u001b[0m\u001b[0;34m)\u001b[0m\u001b[0;34m\u001b[0m\u001b[0;34m\u001b[0m\u001b[0m\n\u001b[0m\u001b[1;32m    991\u001b[0m         \u001b[0;32mreturn\u001b[0m \u001b[0mself\u001b[0m\u001b[0;34m.\u001b[0m\u001b[0mindex\u001b[0m\u001b[0;34m.\u001b[0m\u001b[0m_get_values_for_loc\u001b[0m\u001b[0;34m(\u001b[0m\u001b[0mself\u001b[0m\u001b[0;34m,\u001b[0m \u001b[0mloc\u001b[0m\u001b[0;34m,\u001b[0m \u001b[0mlabel\u001b[0m\u001b[0;34m)\u001b[0m\u001b[0;34m\u001b[0m\u001b[0;34m\u001b[0m\u001b[0m\n\u001b[1;32m    992\u001b[0m \u001b[0;34m\u001b[0m\u001b[0m\n",
            "\u001b[0;32m/usr/local/lib/python3.7/dist-packages/pandas/core/indexes/range.py\u001b[0m in \u001b[0;36mget_loc\u001b[0;34m(self, key, method, tolerance)\u001b[0m\n\u001b[1;32m    356\u001b[0m                 \u001b[0;32mexcept\u001b[0m \u001b[0mValueError\u001b[0m \u001b[0;32mas\u001b[0m \u001b[0merr\u001b[0m\u001b[0;34m:\u001b[0m\u001b[0;34m\u001b[0m\u001b[0;34m\u001b[0m\u001b[0m\n\u001b[1;32m    357\u001b[0m                     \u001b[0;32mraise\u001b[0m \u001b[0mKeyError\u001b[0m\u001b[0;34m(\u001b[0m\u001b[0mkey\u001b[0m\u001b[0;34m)\u001b[0m \u001b[0;32mfrom\u001b[0m \u001b[0merr\u001b[0m\u001b[0;34m\u001b[0m\u001b[0;34m\u001b[0m\u001b[0m\n\u001b[0;32m--> 358\u001b[0;31m             \u001b[0;32mraise\u001b[0m \u001b[0mKeyError\u001b[0m\u001b[0;34m(\u001b[0m\u001b[0mkey\u001b[0m\u001b[0;34m)\u001b[0m\u001b[0;34m\u001b[0m\u001b[0;34m\u001b[0m\u001b[0m\n\u001b[0m\u001b[1;32m    359\u001b[0m         \u001b[0;32mreturn\u001b[0m \u001b[0msuper\u001b[0m\u001b[0;34m(\u001b[0m\u001b[0;34m)\u001b[0m\u001b[0;34m.\u001b[0m\u001b[0mget_loc\u001b[0m\u001b[0;34m(\u001b[0m\u001b[0mkey\u001b[0m\u001b[0;34m,\u001b[0m \u001b[0mmethod\u001b[0m\u001b[0;34m=\u001b[0m\u001b[0mmethod\u001b[0m\u001b[0;34m,\u001b[0m \u001b[0mtolerance\u001b[0m\u001b[0;34m=\u001b[0m\u001b[0mtolerance\u001b[0m\u001b[0;34m)\u001b[0m\u001b[0;34m\u001b[0m\u001b[0;34m\u001b[0m\u001b[0m\n\u001b[1;32m    360\u001b[0m \u001b[0;34m\u001b[0m\u001b[0m\n",
            "\u001b[0;31mKeyError\u001b[0m: 'INTILI'"
          ]
        }
      ]
    },
    {
      "cell_type": "code",
      "metadata": {
        "id": "o-g9clDz4KTb"
      },
      "source": [
        "dataframe =df.append(cn, ignore_index = True)"
      ],
      "execution_count": 90,
      "outputs": []
    },
    {
      "cell_type": "code",
      "metadata": {
        "id": "3xIBcl2W_O_O"
      },
      "source": [
        "def null_missing(col_name):\n",
        "\n",
        "    column_val = df[col_name].iloc[np.random.randint(15000)]\n",
        "\n",
        "    return column_val"
      ],
      "execution_count": 91,
      "outputs": []
    },
    {
      "cell_type": "code",
      "metadata": {
        "id": "KXbCsKW32VNu"
      },
      "source": [
        "for col_name, col in df.iteritems():\n",
        "  dataframe[col_name] = dataframe[col_name].fillna(null_missing(col_name)) \n",
        "    "
      ],
      "execution_count": 92,
      "outputs": []
    },
    {
      "cell_type": "code",
      "metadata": {
        "id": "no-oWNVaBubs",
        "colab": {
          "base_uri": "https://localhost:8080/",
          "height": 704
        },
        "outputId": "4f1e7b78-195e-4fe5-9451-eeb3417149fc"
      },
      "source": [
        ""
      ],
      "execution_count": 93,
      "outputs": [
        {
          "output_type": "execute_result",
          "data": {
            "text/html": [
              "<div>\n",
              "<style scoped>\n",
              "    .dataframe tbody tr th:only-of-type {\n",
              "        vertical-align: middle;\n",
              "    }\n",
              "\n",
              "    .dataframe tbody tr th {\n",
              "        vertical-align: top;\n",
              "    }\n",
              "\n",
              "    .dataframe thead th {\n",
              "        text-align: right;\n",
              "    }\n",
              "</style>\n",
              "<table border=\"1\" class=\"dataframe\">\n",
              "  <thead>\n",
              "    <tr style=\"text-align: right;\">\n",
              "      <th></th>\n",
              "      <th>cod_prv</th>\n",
              "      <th>cod_com</th>\n",
              "      <th>id</th>\n",
              "      <th>cognome</th>\n",
              "      <th>nome</th>\n",
              "      <th>sesso</th>\n",
              "      <th>data_nascita</th>\n",
              "      <th>luogo_nascita</th>\n",
              "      <th>cf</th>\n",
              "      <th>prov_nascita</th>\n",
              "      <th>comune_res</th>\n",
              "      <th>prov_res</th>\n",
              "      <th>citt</th>\n",
              "      <th>indirizzo</th>\n",
              "      <th>cap</th>\n",
              "      <th>dato1</th>\n",
              "      <th>dato2</th>\n",
              "      <th>dato3</th>\n",
              "      <th>dato4</th>\n",
              "      <th>dato5</th>\n",
              "      <th>dato6</th>\n",
              "      <th>dato7</th>\n",
              "    </tr>\n",
              "  </thead>\n",
              "  <tbody>\n",
              "    <tr>\n",
              "      <th>0</th>\n",
              "      <td>5.0</td>\n",
              "      <td>22.0</td>\n",
              "      <td>1.0</td>\n",
              "      <td>AHMETOVIC</td>\n",
              "      <td>MEHO</td>\n",
              "      <td>M</td>\n",
              "      <td>20051974.0</td>\n",
              "      <td>BOSNIA-ERZEGOVINA</td>\n",
              "      <td>HMTMHE74E20Z153Q</td>\n",
              "      <td>EE</td>\n",
              "      <td>MONCALIERI</td>\n",
              "      <td>TO</td>\n",
              "      <td>BIH</td>\n",
              "      <td>STRADA VINOVO SNC</td>\n",
              "      <td>10024.0</td>\n",
              "      <td>9032017.0</td>\n",
              "      <td>122049.0</td>\n",
              "      <td>23.0</td>\n",
              "      <td>9032017.0</td>\n",
              "      <td>16072008.0</td>\n",
              "      <td>12112021 05:49:25</td>\n",
              "      <td>CENS2011</td>\n",
              "    </tr>\n",
              "    <tr>\n",
              "      <th>1</th>\n",
              "      <td>5.0</td>\n",
              "      <td>22.0</td>\n",
              "      <td>2.0</td>\n",
              "      <td>GIORDANI</td>\n",
              "      <td>SILVIA</td>\n",
              "      <td>F</td>\n",
              "      <td>29061981.0</td>\n",
              "      <td>TORINO</td>\n",
              "      <td>GRDSLV81H69L219C</td>\n",
              "      <td>TO</td>\n",
              "      <td>MONCALIERI</td>\n",
              "      <td>TO</td>\n",
              "      <td>ITA</td>\n",
              "      <td>VIA AMILCARE PONCHIELLI 26</td>\n",
              "      <td>10024.0</td>\n",
              "      <td>24032017.0</td>\n",
              "      <td>124156.0</td>\n",
              "      <td>1.0</td>\n",
              "      <td>25062011.0</td>\n",
              "      <td>14012010.0</td>\n",
              "      <td>12112021 05:49:25</td>\n",
              "      <td>CENS2011</td>\n",
              "    </tr>\n",
              "    <tr>\n",
              "      <th>2</th>\n",
              "      <td>5.0</td>\n",
              "      <td>22.0</td>\n",
              "      <td>8.0</td>\n",
              "      <td>ABATE</td>\n",
              "      <td>CALOGERA</td>\n",
              "      <td>F</td>\n",
              "      <td>15071970.0</td>\n",
              "      <td>MONCALIERI</td>\n",
              "      <td>BTACGR70L55F335R</td>\n",
              "      <td>TO</td>\n",
              "      <td>MONCALIERI</td>\n",
              "      <td>TO</td>\n",
              "      <td>ITA</td>\n",
              "      <td>VIA JUGLARIS 66</td>\n",
              "      <td>10024.0</td>\n",
              "      <td>24032017.0</td>\n",
              "      <td>10005.0</td>\n",
              "      <td>1.0</td>\n",
              "      <td>12052010.0</td>\n",
              "      <td>29011968.0</td>\n",
              "      <td>12112021 05:49:25</td>\n",
              "      <td>CENS2011</td>\n",
              "    </tr>\n",
              "    <tr>\n",
              "      <th>3</th>\n",
              "      <td>5.0</td>\n",
              "      <td>22.0</td>\n",
              "      <td>11.0</td>\n",
              "      <td>ABATE</td>\n",
              "      <td>ELENA</td>\n",
              "      <td>F</td>\n",
              "      <td>19031946.0</td>\n",
              "      <td>MONTALTO UFFUGO</td>\n",
              "      <td>BTALNE46C59F416B</td>\n",
              "      <td>CS</td>\n",
              "      <td>MONCALIERI</td>\n",
              "      <td>TO</td>\n",
              "      <td>ITA</td>\n",
              "      <td>VIA JUGLARIS 27</td>\n",
              "      <td>10024.0</td>\n",
              "      <td>24032017.0</td>\n",
              "      <td>27848.0</td>\n",
              "      <td>1.0</td>\n",
              "      <td>20022014.0</td>\n",
              "      <td>11041972.0</td>\n",
              "      <td>12112021 05:49:25</td>\n",
              "      <td>CENS2011</td>\n",
              "    </tr>\n",
              "    <tr>\n",
              "      <th>4</th>\n",
              "      <td>5.0</td>\n",
              "      <td>22.0</td>\n",
              "      <td>13.0</td>\n",
              "      <td>ABATE</td>\n",
              "      <td>EZIO</td>\n",
              "      <td>M</td>\n",
              "      <td>8031935.0</td>\n",
              "      <td>BIANZE'</td>\n",
              "      <td>BTAZEI35C08A847I</td>\n",
              "      <td>VC</td>\n",
              "      <td>MONCALIERI</td>\n",
              "      <td>TO</td>\n",
              "      <td>ITA</td>\n",
              "      <td>STRADA GENOVA 58</td>\n",
              "      <td>10024.0</td>\n",
              "      <td>24032017.0</td>\n",
              "      <td>10002.0</td>\n",
              "      <td>1.0</td>\n",
              "      <td>3101963.0</td>\n",
              "      <td>3101963.0</td>\n",
              "      <td>12112021 05:49:25</td>\n",
              "      <td>CENS2011</td>\n",
              "    </tr>\n",
              "    <tr>\n",
              "      <th>...</th>\n",
              "      <td>...</td>\n",
              "      <td>...</td>\n",
              "      <td>...</td>\n",
              "      <td>...</td>\n",
              "      <td>...</td>\n",
              "      <td>...</td>\n",
              "      <td>...</td>\n",
              "      <td>...</td>\n",
              "      <td>...</td>\n",
              "      <td>...</td>\n",
              "      <td>...</td>\n",
              "      <td>...</td>\n",
              "      <td>...</td>\n",
              "      <td>...</td>\n",
              "      <td>...</td>\n",
              "      <td>...</td>\n",
              "      <td>...</td>\n",
              "      <td>...</td>\n",
              "      <td>...</td>\n",
              "      <td>...</td>\n",
              "      <td>...</td>\n",
              "      <td>...</td>\n",
              "    </tr>\n",
              "    <tr>\n",
              "      <th>36736</th>\n",
              "      <td>5.0</td>\n",
              "      <td>22.0</td>\n",
              "      <td>38497.0</td>\n",
              "      <td>ZUROLO</td>\n",
              "      <td>ELFO</td>\n",
              "      <td>M</td>\n",
              "      <td>6071949.0</td>\n",
              "      <td>MONCALIERI</td>\n",
              "      <td>DLSGPP38R21H068I</td>\n",
              "      <td>FG</td>\n",
              "      <td>MONCALIERI</td>\n",
              "      <td>TO</td>\n",
              "      <td>ITA</td>\n",
              "      <td>STRADA MONGINA 5</td>\n",
              "      <td>10024.0</td>\n",
              "      <td>24032017.0</td>\n",
              "      <td>113695.0</td>\n",
              "      <td>2.0</td>\n",
              "      <td>28051965.0</td>\n",
              "      <td>12101979.0</td>\n",
              "      <td>12112021 05:49:25</td>\n",
              "      <td>CENS2011</td>\n",
              "    </tr>\n",
              "    <tr>\n",
              "      <th>36737</th>\n",
              "      <td>5.0</td>\n",
              "      <td>22.0</td>\n",
              "      <td>38497.0</td>\n",
              "      <td>ZURRI</td>\n",
              "      <td>ARIELA</td>\n",
              "      <td>M</td>\n",
              "      <td>6071949.0</td>\n",
              "      <td>MONCALIERI</td>\n",
              "      <td>DLSGPP38R21H068I</td>\n",
              "      <td>FG</td>\n",
              "      <td>MONCALIERI</td>\n",
              "      <td>TO</td>\n",
              "      <td>ITA</td>\n",
              "      <td>STRADA MONGINA 5</td>\n",
              "      <td>10024.0</td>\n",
              "      <td>24032017.0</td>\n",
              "      <td>113695.0</td>\n",
              "      <td>2.0</td>\n",
              "      <td>28051965.0</td>\n",
              "      <td>12101979.0</td>\n",
              "      <td>12112021 05:49:25</td>\n",
              "      <td>CENS2011</td>\n",
              "    </tr>\n",
              "    <tr>\n",
              "      <th>36738</th>\n",
              "      <td>5.0</td>\n",
              "      <td>22.0</td>\n",
              "      <td>38497.0</td>\n",
              "      <td>ZURRIDA</td>\n",
              "      <td>ESPERINA</td>\n",
              "      <td>M</td>\n",
              "      <td>6071949.0</td>\n",
              "      <td>MONCALIERI</td>\n",
              "      <td>DLSGPP38R21H068I</td>\n",
              "      <td>FG</td>\n",
              "      <td>MONCALIERI</td>\n",
              "      <td>TO</td>\n",
              "      <td>ITA</td>\n",
              "      <td>STRADA MONGINA 5</td>\n",
              "      <td>10024.0</td>\n",
              "      <td>24032017.0</td>\n",
              "      <td>113695.0</td>\n",
              "      <td>2.0</td>\n",
              "      <td>28051965.0</td>\n",
              "      <td>12101979.0</td>\n",
              "      <td>12112021 05:49:25</td>\n",
              "      <td>CENS2011</td>\n",
              "    </tr>\n",
              "    <tr>\n",
              "      <th>36739</th>\n",
              "      <td>5.0</td>\n",
              "      <td>22.0</td>\n",
              "      <td>38497.0</td>\n",
              "      <td>ZURRO</td>\n",
              "      <td>PRIMITIVO</td>\n",
              "      <td>M</td>\n",
              "      <td>6071949.0</td>\n",
              "      <td>MONCALIERI</td>\n",
              "      <td>DLSGPP38R21H068I</td>\n",
              "      <td>FG</td>\n",
              "      <td>MONCALIERI</td>\n",
              "      <td>TO</td>\n",
              "      <td>ITA</td>\n",
              "      <td>STRADA MONGINA 5</td>\n",
              "      <td>10024.0</td>\n",
              "      <td>24032017.0</td>\n",
              "      <td>113695.0</td>\n",
              "      <td>2.0</td>\n",
              "      <td>28051965.0</td>\n",
              "      <td>12101979.0</td>\n",
              "      <td>12112021 05:49:25</td>\n",
              "      <td>CENS2011</td>\n",
              "    </tr>\n",
              "    <tr>\n",
              "      <th>36740</th>\n",
              "      <td>5.0</td>\n",
              "      <td>22.0</td>\n",
              "      <td>38497.0</td>\n",
              "      <td>ZURRU</td>\n",
              "      <td>ZEFFIRA</td>\n",
              "      <td>M</td>\n",
              "      <td>6071949.0</td>\n",
              "      <td>MONCALIERI</td>\n",
              "      <td>DLSGPP38R21H068I</td>\n",
              "      <td>FG</td>\n",
              "      <td>MONCALIERI</td>\n",
              "      <td>TO</td>\n",
              "      <td>ITA</td>\n",
              "      <td>STRADA MONGINA 5</td>\n",
              "      <td>10024.0</td>\n",
              "      <td>24032017.0</td>\n",
              "      <td>113695.0</td>\n",
              "      <td>2.0</td>\n",
              "      <td>28051965.0</td>\n",
              "      <td>12101979.0</td>\n",
              "      <td>12112021 05:49:25</td>\n",
              "      <td>CENS2011</td>\n",
              "    </tr>\n",
              "  </tbody>\n",
              "</table>\n",
              "<p>36741 rows × 22 columns</p>\n",
              "</div>"
            ],
            "text/plain": [
              "       cod_prv  cod_com       id  ...       dato5              dato6     dato7\n",
              "0          5.0     22.0      1.0  ...  16072008.0  12112021 05:49:25  CENS2011\n",
              "1          5.0     22.0      2.0  ...  14012010.0  12112021 05:49:25  CENS2011\n",
              "2          5.0     22.0      8.0  ...  29011968.0  12112021 05:49:25  CENS2011\n",
              "3          5.0     22.0     11.0  ...  11041972.0  12112021 05:49:25  CENS2011\n",
              "4          5.0     22.0     13.0  ...   3101963.0  12112021 05:49:25  CENS2011\n",
              "...        ...      ...      ...  ...         ...                ...       ...\n",
              "36736      5.0     22.0  38497.0  ...  12101979.0  12112021 05:49:25  CENS2011\n",
              "36737      5.0     22.0  38497.0  ...  12101979.0  12112021 05:49:25  CENS2011\n",
              "36738      5.0     22.0  38497.0  ...  12101979.0  12112021 05:49:25  CENS2011\n",
              "36739      5.0     22.0  38497.0  ...  12101979.0  12112021 05:49:25  CENS2011\n",
              "36740      5.0     22.0  38497.0  ...  12101979.0  12112021 05:49:25  CENS2011\n",
              "\n",
              "[36741 rows x 22 columns]"
            ]
          },
          "metadata": {},
          "execution_count": 93
        }
      ]
    },
    {
      "cell_type": "markdown",
      "metadata": {
        "id": "2Q_P86SDPVo5"
      },
      "source": [
        "# Preprocessing"
      ]
    },
    {
      "cell_type": "code",
      "metadata": {
        "id": "O9rRVu4AMkza"
      },
      "source": [
        "dataframe[\"full_name\"] = dataframe[\"cognome\"] + \" \" +dataframe[\"nome\"]"
      ],
      "execution_count": 94,
      "outputs": []
    },
    {
      "cell_type": "code",
      "metadata": {
        "id": "mu4pRhUWMola"
      },
      "source": [
        "dataframe.drop(columns=[\"cognome\", \"nome\"], inplace=True)"
      ],
      "execution_count": 95,
      "outputs": []
    },
    {
      "cell_type": "code",
      "metadata": {
        "id": "Y_8s-ghaLwhp"
      },
      "source": [
        "cols = df.columns.tolist()"
      ],
      "execution_count": 96,
      "outputs": []
    },
    {
      "cell_type": "code",
      "metadata": {
        "id": "VCGQ0lwEL6nV"
      },
      "source": [
        "cols = ['cod_prv',\n",
        " 'cod_com',\n",
        " 'id',\n",
        " 'full_name',\n",
        " 'sesso',\n",
        " 'data_nascita',\n",
        " 'luogo_nascita',\n",
        " 'cf',\n",
        " 'prov_nascita',\n",
        " 'comune_res',\n",
        " 'prov_res',\n",
        " 'citt',\n",
        " 'indirizzo',\n",
        " 'cap',\n",
        " 'dato1',\n",
        " 'dato2',\n",
        " 'dato3',\n",
        " 'dato4',\n",
        " 'dato5',\n",
        " 'dato6',\n",
        " 'dato7']\n"
      ],
      "execution_count": 97,
      "outputs": []
    },
    {
      "cell_type": "code",
      "metadata": {
        "id": "_leuUY-fNjTA"
      },
      "source": [
        "dataframe = dataframe[cols]"
      ],
      "execution_count": 98,
      "outputs": []
    },
    {
      "cell_type": "code",
      "metadata": {
        "colab": {
          "base_uri": "https://localhost:8080/",
          "height": 218
        },
        "id": "rmNLmzm2J-NM",
        "outputId": "ba12dd28-20dd-4bb3-a042-ff8f3c521618"
      },
      "source": [
        "dataframe.head(2)"
      ],
      "execution_count": 99,
      "outputs": [
        {
          "output_type": "execute_result",
          "data": {
            "text/html": [
              "<div>\n",
              "<style scoped>\n",
              "    .dataframe tbody tr th:only-of-type {\n",
              "        vertical-align: middle;\n",
              "    }\n",
              "\n",
              "    .dataframe tbody tr th {\n",
              "        vertical-align: top;\n",
              "    }\n",
              "\n",
              "    .dataframe thead th {\n",
              "        text-align: right;\n",
              "    }\n",
              "</style>\n",
              "<table border=\"1\" class=\"dataframe\">\n",
              "  <thead>\n",
              "    <tr style=\"text-align: right;\">\n",
              "      <th></th>\n",
              "      <th>cod_prv</th>\n",
              "      <th>cod_com</th>\n",
              "      <th>id</th>\n",
              "      <th>full_name</th>\n",
              "      <th>sesso</th>\n",
              "      <th>data_nascita</th>\n",
              "      <th>luogo_nascita</th>\n",
              "      <th>cf</th>\n",
              "      <th>prov_nascita</th>\n",
              "      <th>comune_res</th>\n",
              "      <th>prov_res</th>\n",
              "      <th>citt</th>\n",
              "      <th>indirizzo</th>\n",
              "      <th>cap</th>\n",
              "      <th>dato1</th>\n",
              "      <th>dato2</th>\n",
              "      <th>dato3</th>\n",
              "      <th>dato4</th>\n",
              "      <th>dato5</th>\n",
              "      <th>dato6</th>\n",
              "      <th>dato7</th>\n",
              "    </tr>\n",
              "  </thead>\n",
              "  <tbody>\n",
              "    <tr>\n",
              "      <th>0</th>\n",
              "      <td>5.0</td>\n",
              "      <td>22.0</td>\n",
              "      <td>1.0</td>\n",
              "      <td>AHMETOVIC MEHO</td>\n",
              "      <td>M</td>\n",
              "      <td>20051974.0</td>\n",
              "      <td>BOSNIA-ERZEGOVINA</td>\n",
              "      <td>HMTMHE74E20Z153Q</td>\n",
              "      <td>EE</td>\n",
              "      <td>MONCALIERI</td>\n",
              "      <td>TO</td>\n",
              "      <td>BIH</td>\n",
              "      <td>STRADA VINOVO SNC</td>\n",
              "      <td>10024.0</td>\n",
              "      <td>9032017.0</td>\n",
              "      <td>122049.0</td>\n",
              "      <td>23.0</td>\n",
              "      <td>9032017.0</td>\n",
              "      <td>16072008.0</td>\n",
              "      <td>12112021 05:49:25</td>\n",
              "      <td>CENS2011</td>\n",
              "    </tr>\n",
              "    <tr>\n",
              "      <th>1</th>\n",
              "      <td>5.0</td>\n",
              "      <td>22.0</td>\n",
              "      <td>2.0</td>\n",
              "      <td>GIORDANI SILVIA</td>\n",
              "      <td>F</td>\n",
              "      <td>29061981.0</td>\n",
              "      <td>TORINO</td>\n",
              "      <td>GRDSLV81H69L219C</td>\n",
              "      <td>TO</td>\n",
              "      <td>MONCALIERI</td>\n",
              "      <td>TO</td>\n",
              "      <td>ITA</td>\n",
              "      <td>VIA AMILCARE PONCHIELLI 26</td>\n",
              "      <td>10024.0</td>\n",
              "      <td>24032017.0</td>\n",
              "      <td>124156.0</td>\n",
              "      <td>1.0</td>\n",
              "      <td>25062011.0</td>\n",
              "      <td>14012010.0</td>\n",
              "      <td>12112021 05:49:25</td>\n",
              "      <td>CENS2011</td>\n",
              "    </tr>\n",
              "  </tbody>\n",
              "</table>\n",
              "</div>"
            ],
            "text/plain": [
              "   cod_prv  cod_com   id  ...       dato5              dato6     dato7\n",
              "0      5.0     22.0  1.0  ...  16072008.0  12112021 05:49:25  CENS2011\n",
              "1      5.0     22.0  2.0  ...  14012010.0  12112021 05:49:25  CENS2011\n",
              "\n",
              "[2 rows x 21 columns]"
            ]
          },
          "metadata": {},
          "execution_count": 99
        }
      ]
    },
    {
      "cell_type": "code",
      "metadata": {
        "id": "v7vJm2fhOGT8"
      },
      "source": [
        "cols = ['cod_prv',\n",
        " 'cod_com',\n",
        " 'id',\n",
        " 'sesso',\n",
        " 'data_nascita',\n",
        " 'luogo_nascita',\n",
        " 'cf',\n",
        " 'prov_nascita',\n",
        " 'comune_res',\n",
        " 'prov_res',\n",
        " 'full_name',\n",
        " 'citt',\n",
        " 'cap',\n",
        " 'dato1',\n",
        " 'dato2',\n",
        " 'dato3',\n",
        " 'indirizzo',\n",
        " 'dato4',\n",
        " 'dato5',\n",
        " 'dato6',\n",
        " 'dato7']"
      ],
      "execution_count": 100,
      "outputs": []
    },
    {
      "cell_type": "code",
      "metadata": {
        "id": "ZkK-1YzXNuUJ"
      },
      "source": [
        "first_shuffle_data = dataframe[10000:20000][cols]"
      ],
      "execution_count": 101,
      "outputs": []
    },
    {
      "cell_type": "code",
      "metadata": {
        "colab": {
          "base_uri": "https://localhost:8080/",
          "height": 202
        },
        "id": "ujrnz_ivOTKr",
        "outputId": "7e6d7c9e-3b27-4b13-f16d-c9e44cf54fe1"
      },
      "source": [
        "first_shuffle_data.head(2)"
      ],
      "execution_count": 102,
      "outputs": [
        {
          "output_type": "execute_result",
          "data": {
            "text/html": [
              "<div>\n",
              "<style scoped>\n",
              "    .dataframe tbody tr th:only-of-type {\n",
              "        vertical-align: middle;\n",
              "    }\n",
              "\n",
              "    .dataframe tbody tr th {\n",
              "        vertical-align: top;\n",
              "    }\n",
              "\n",
              "    .dataframe thead th {\n",
              "        text-align: right;\n",
              "    }\n",
              "</style>\n",
              "<table border=\"1\" class=\"dataframe\">\n",
              "  <thead>\n",
              "    <tr style=\"text-align: right;\">\n",
              "      <th></th>\n",
              "      <th>cod_prv</th>\n",
              "      <th>cod_com</th>\n",
              "      <th>id</th>\n",
              "      <th>sesso</th>\n",
              "      <th>data_nascita</th>\n",
              "      <th>luogo_nascita</th>\n",
              "      <th>cf</th>\n",
              "      <th>prov_nascita</th>\n",
              "      <th>comune_res</th>\n",
              "      <th>prov_res</th>\n",
              "      <th>full_name</th>\n",
              "      <th>citt</th>\n",
              "      <th>cap</th>\n",
              "      <th>dato1</th>\n",
              "      <th>dato2</th>\n",
              "      <th>dato3</th>\n",
              "      <th>indirizzo</th>\n",
              "      <th>dato4</th>\n",
              "      <th>dato5</th>\n",
              "      <th>dato6</th>\n",
              "      <th>dato7</th>\n",
              "    </tr>\n",
              "  </thead>\n",
              "  <tbody>\n",
              "    <tr>\n",
              "      <th>10000</th>\n",
              "      <td>5.0</td>\n",
              "      <td>22.0</td>\n",
              "      <td>27643.0</td>\n",
              "      <td>M</td>\n",
              "      <td>27121939.0</td>\n",
              "      <td>LUCCA</td>\n",
              "      <td>GMPRNZ39T27E715U</td>\n",
              "      <td>LU</td>\n",
              "      <td>MONCALIERI</td>\n",
              "      <td>TO</td>\n",
              "      <td>GIAMPAOLI RENZO</td>\n",
              "      <td>ITA</td>\n",
              "      <td>10024.0</td>\n",
              "      <td>24032017.0</td>\n",
              "      <td>20512.0</td>\n",
              "      <td>1.0</td>\n",
              "      <td>STRADA MAIOLE 33</td>\n",
              "      <td>18051984.0</td>\n",
              "      <td>18051984.0</td>\n",
              "      <td>12112021 05:49:25</td>\n",
              "      <td>CENS2011</td>\n",
              "    </tr>\n",
              "    <tr>\n",
              "      <th>10001</th>\n",
              "      <td>5.0</td>\n",
              "      <td>22.0</td>\n",
              "      <td>27645.0</td>\n",
              "      <td>F</td>\n",
              "      <td>11101970.0</td>\n",
              "      <td>TORINO</td>\n",
              "      <td>GMPSFN70R51L219M</td>\n",
              "      <td>TO</td>\n",
              "      <td>MONCALIERI</td>\n",
              "      <td>TO</td>\n",
              "      <td>GIAMPAOLI STEFANIA</td>\n",
              "      <td>ITA</td>\n",
              "      <td>10024.0</td>\n",
              "      <td>24032017.0</td>\n",
              "      <td>119681.0</td>\n",
              "      <td>23.0</td>\n",
              "      <td>STRADA MILIUS RONSAGLIA 14</td>\n",
              "      <td>15012007.0</td>\n",
              "      <td>3012007.0</td>\n",
              "      <td>12112021 05:49:25</td>\n",
              "      <td>CENS2011</td>\n",
              "    </tr>\n",
              "  </tbody>\n",
              "</table>\n",
              "</div>"
            ],
            "text/plain": [
              "       cod_prv  cod_com       id  ...       dato5              dato6     dato7\n",
              "10000      5.0     22.0  27643.0  ...  18051984.0  12112021 05:49:25  CENS2011\n",
              "10001      5.0     22.0  27645.0  ...   3012007.0  12112021 05:49:25  CENS2011\n",
              "\n",
              "[2 rows x 21 columns]"
            ]
          },
          "metadata": {},
          "execution_count": 102
        }
      ]
    },
    {
      "cell_type": "code",
      "metadata": {
        "id": "UZdBUhKdOaT-"
      },
      "source": [
        "cols = ['cod_prv',\n",
        " 'cod_com',\n",
        " 'indirizzo',\n",
        " 'id',\n",
        " 'sesso',\n",
        " 'data_nascita',\n",
        " 'luogo_nascita',\n",
        " 'cf',\n",
        " 'prov_nascita',\n",
        " 'comune_res',\n",
        " 'prov_res',\n",
        " \n",
        " 'citt',\n",
        " 'cap',\n",
        " 'dato1',\n",
        " 'dato2',\n",
        " 'full_name',\n",
        " 'dato3',\n",
        " \n",
        " 'dato4',\n",
        " 'dato5',\n",
        " 'dato6',\n",
        " 'dato7']"
      ],
      "execution_count": 103,
      "outputs": []
    },
    {
      "cell_type": "code",
      "metadata": {
        "id": "WfERZTB9OdZM"
      },
      "source": [
        "second_shuffle_data = dataframe[20000:30000][cols]"
      ],
      "execution_count": 104,
      "outputs": []
    },
    {
      "cell_type": "code",
      "metadata": {
        "id": "A1xDhuIZWmGC"
      },
      "source": [
        "cols = ['cod_prv',\n",
        " 'cod_com',\n",
        " 'id',\n",
        " 'sesso',\n",
        " 'data_nascita',\n",
        " 'luogo_nascita',\n",
        " 'cf',\n",
        " 'full_name',\n",
        " 'prov_nascita',\n",
        " 'comune_res',\n",
        " 'prov_res',\n",
        " \n",
        " 'citt',\n",
        " 'cap',\n",
        " 'dato1',\n",
        " 'dato2',\n",
        " 'dato3',\n",
        " 'indirizzo',\n",
        " 'dato4',\n",
        " 'dato5',\n",
        " 'dato6',\n",
        " 'dato7']"
      ],
      "execution_count": 105,
      "outputs": []
    },
    {
      "cell_type": "code",
      "metadata": {
        "id": "9E6LfM340Rt2",
        "outputId": "dd5ff4d4-46a3-4f64-bf91-57f5147770b8",
        "colab": {
          "base_uri": "https://localhost:8080/"
        }
      },
      "source": [
        "dataframe.iloc[11030]"
      ],
      "execution_count": 111,
      "outputs": [
        {
          "output_type": "execute_result",
          "data": {
            "text/plain": [
              "cod_prv                           5\n",
              "cod_com                          22\n",
              "id                            30650\n",
              "full_name            INTILI ANTONIO\n",
              "sesso                             M\n",
              "data_nascita            1.00619e+07\n",
              "luogo_nascita                CERAMI\n",
              "cf                 NTLNTN31H10C480A\n",
              "prov_nascita                     EN\n",
              "comune_res               MONCALIERI\n",
              "prov_res                         TO\n",
              "citt                            ITA\n",
              "indirizzo        VIA MONTE BIANCO 9\n",
              "cap                           10024\n",
              "dato1                    2.4032e+07\n",
              "dato2                         48501\n",
              "dato3                             1\n",
              "dato4                   2.10197e+06\n",
              "dato5                   2.10197e+06\n",
              "dato6             12112021 05:49:25\n",
              "dato7                      CENS2011\n",
              "Name: 11030, dtype: object"
            ]
          },
          "metadata": {},
          "execution_count": 111
        }
      ]
    },
    {
      "cell_type": "code",
      "metadata": {
        "id": "OIwJDz8J0048"
      },
      "source": [
        "dataframe = dataframe.sample(frac=1).reset_index(drop=True)"
      ],
      "execution_count": null,
      "outputs": []
    },
    {
      "cell_type": "code",
      "metadata": {
        "id": "Te68ZlEeW5DA"
      },
      "source": [
        "test_data_df = dataframe[15000:15100][cols]"
      ],
      "execution_count": null,
      "outputs": []
    },
    {
      "cell_type": "markdown",
      "metadata": {
        "id": "ohbTQx7_PCWt"
      },
      "source": [
        "Prova definitiva"
      ]
    },
    {
      "cell_type": "code",
      "metadata": {
        "id": "kAdrgYpkP24_"
      },
      "source": [
        "def create_token_and_labels(dataset, token_array, tag_array):\n",
        "  data = dataset\n",
        "\n",
        "  token_docs = token_array\n",
        "  tag_docs = tag_array\n",
        "  for index, row in data.iterrows():\n",
        "    tokens = []\n",
        "    tags = []\n",
        "    for x, value in row.iteritems():\n",
        "    \n",
        "   \n",
        "      if x == \"indirizzo\":\n",
        "        y = value.split()\n",
        "        first= True;\n",
        "        for word in y:\n",
        "          tokens.append(str(word))\n",
        "          if first:\n",
        "            tags.append(\"B-Ind\")\n",
        "            first = False\n",
        "          else:\n",
        "            tags.append(\"I-Ind\") \n",
        "      elif x == \"full_name\":\n",
        "        y = value.split()\n",
        "        first= True;\n",
        "        for word in y:\n",
        "          tokens.append(str(word))\n",
        "          if first:\n",
        "            tags.append(\"B-Per\")\n",
        "            first = False\n",
        "          else:\n",
        "            tags.append(\"I-Per\")     \n",
        "\n",
        "      else:\n",
        "        tokens.append(str(value))\n",
        "        tags.append(\"O\") \n",
        "    token_docs.append(tokens)\n",
        "    tag_docs.append(tags)"
      ],
      "execution_count": null,
      "outputs": []
    },
    {
      "cell_type": "code",
      "metadata": {
        "id": "Ti5_0rVbRHV_"
      },
      "source": [
        "token_docs = []\n",
        "tag_docs = []\n",
        "create_token_and_labels(dataframe[0:10000],token_docs,tag_docs)\n",
        "create_token_and_labels(first_shuffle_data,token_docs,tag_docs)\n",
        "create_token_and_labels(second_shuffle_data,token_docs,tag_docs)"
      ],
      "execution_count": null,
      "outputs": []
    },
    {
      "cell_type": "code",
      "metadata": {
        "id": "e_LgMdXOSWnz"
      },
      "source": [
        "test_tag= []\n",
        "test_token = []\n",
        "create_token_and_labels(test_data_df,test_token,test_tag)"
      ],
      "execution_count": null,
      "outputs": []
    },
    {
      "cell_type": "code",
      "metadata": {
        "id": "MEk-pC5IRmAO"
      },
      "source": [
        "print(token_docs[500])\n",
        "print(tag_docs[500])"
      ],
      "execution_count": null,
      "outputs": []
    },
    {
      "cell_type": "code",
      "metadata": {
        "id": "s1Lz6zbWD65b"
      },
      "source": [
        "texts, tags = token_docs, tag_docs"
      ],
      "execution_count": null,
      "outputs": []
    },
    {
      "cell_type": "code",
      "metadata": {
        "id": "ybzhLD7AIjgd"
      },
      "source": [
        "from sklearn.model_selection import train_test_split\n",
        "train_texts, val_texts, train_tags, val_tags = train_test_split(texts, tags, test_size=.2)"
      ],
      "execution_count": null,
      "outputs": []
    },
    {
      "cell_type": "code",
      "metadata": {
        "id": "JBbVzuohoSG5"
      },
      "source": [
        "print(train_texts, train_tags)"
      ],
      "execution_count": null,
      "outputs": []
    },
    {
      "cell_type": "code",
      "metadata": {
        "id": "R3fVFAhOJ121"
      },
      "source": [
        "unique_tags = set(tag for doc in tags for tag in doc)\n",
        "tag2id = {tag: id for id, tag in enumerate(unique_tags)}\n",
        "id2tag = {id: tag for tag, id in tag2id.items()}"
      ],
      "execution_count": null,
      "outputs": []
    },
    {
      "cell_type": "code",
      "metadata": {
        "id": "ALqT5EOXD3qw"
      },
      "source": [
        "id2tag"
      ],
      "execution_count": null,
      "outputs": []
    },
    {
      "cell_type": "code",
      "metadata": {
        "id": "HUpukEtjtsx2"
      },
      "source": [
        "from transformers import BertTokenizerFast\n",
        "\n",
        "tokenizer = BertTokenizerFast.from_pretrained('bert-base-uncased')\n",
        "\n",
        "train_encodings = tokenizer(train_texts, is_split_into_words=True, padding=\"max_length\",return_offsets_mapping=True)\n",
        "val_encodings = tokenizer(val_texts, is_split_into_words=True,padding=\"max_length\", return_offsets_mapping=True)"
      ],
      "execution_count": null,
      "outputs": []
    },
    {
      "cell_type": "code",
      "metadata": {
        "id": "SE4YDwYyepdG"
      },
      "source": [
        "test_encodings = tokenizer(test_token, is_split_into_words=True,padding=\"max_length\", return_offsets_mapping=True)"
      ],
      "execution_count": null,
      "outputs": []
    },
    {
      "cell_type": "code",
      "metadata": {
        "id": "X0MmZBPqO4O7"
      },
      "source": [
        "\n",
        "def encode_tags(tags, encodings):\n",
        "    labels = [[tag2id[tag] for tag in doc] for doc in tags]\n",
        "    encoded_labels = []\n",
        "    for doc_labels, doc_offset in zip(labels, encodings.offset_mapping):\n",
        "        # create an empty array of -100\n",
        "        doc_enc_labels = np.ones(len(doc_offset),dtype=int) * -100\n",
        "        arr_offset = np.array(doc_offset)\n",
        "\n",
        "        # set labels whose first offset position is 0 and the second is not 0\n",
        "        mask = (arr_offset[:, 0] == 0) & (arr_offset[:, 1] != 0)\n",
        "        doc_enc_labels[mask] = doc_labels[:np.sum(mask)]\n",
        "        encoded_labels.append(doc_enc_labels.tolist())\n",
        "        \n",
        "      #  doc_enc_labels[(arr_offset[:,0] == 0) & (arr_offset[:,1] != 0)] = doc_labels\n",
        "       # encoded_labels.append(doc_enc_labels.tolist())\n",
        "\n",
        "    return encoded_labels\n",
        "train_labels = encode_tags(train_tags, train_encodings)\n",
        "val_labels = encode_tags(val_tags, val_encodings)\n"
      ],
      "execution_count": null,
      "outputs": []
    },
    {
      "cell_type": "code",
      "metadata": {
        "id": "uVKn5KABfuXF"
      },
      "source": [
        "test_labels = encode_tags(test_tag, test_encodings)"
      ],
      "execution_count": null,
      "outputs": []
    },
    {
      "cell_type": "code",
      "metadata": {
        "id": "IfuPKwyXHTXA"
      },
      "source": [
        "import tensorflow as tf"
      ],
      "execution_count": null,
      "outputs": []
    },
    {
      "cell_type": "code",
      "metadata": {
        "id": "HGFQiAaHQijv"
      },
      "source": [
        "\n",
        "\n",
        "train_encodings.pop(\"offset_mapping\") # we don't want to pass this to the model\n",
        "val_encodings.pop(\"offset_mapping\")\n",
        "\n",
        "train_dataset = tf.data.Dataset.from_tensor_slices((\n",
        "    dict(train_encodings),\n",
        "    train_labels\n",
        "))\n",
        "val_dataset = tf.data.Dataset.from_tensor_slices((\n",
        "    dict(val_encodings),\n",
        "    val_labels\n",
        "))"
      ],
      "execution_count": null,
      "outputs": []
    },
    {
      "cell_type": "code",
      "metadata": {
        "id": "bphLCg2qf9DT"
      },
      "source": [
        "test_encodings.pop(\"offset_mapping\")\n",
        "test_dataset = tf.data.Dataset.from_tensor_slices((\n",
        "    dict(test_encodings),\n",
        "    test_labels\n",
        "))"
      ],
      "execution_count": null,
      "outputs": []
    },
    {
      "cell_type": "code",
      "metadata": {
        "id": "zUgr909e3hSx"
      },
      "source": [
        "from transformers import TFBertForTokenClassification"
      ],
      "execution_count": null,
      "outputs": []
    },
    {
      "cell_type": "code",
      "metadata": {
        "id": "Kj1lvOQWt1Fp"
      },
      "source": [
        "model = TFBertForTokenClassification.from_pretrained(\"bert-base-uncased\",num_labels=len(unique_tags))"
      ],
      "execution_count": null,
      "outputs": []
    },
    {
      "cell_type": "code",
      "metadata": {
        "id": "fCzKI2pkAvYV"
      },
      "source": [
        ""
      ],
      "execution_count": null,
      "outputs": []
    },
    {
      "cell_type": "markdown",
      "metadata": {
        "id": "mpB3Rlorv3hl"
      },
      "source": [
        "# Normal training"
      ]
    },
    {
      "cell_type": "code",
      "metadata": {
        "id": "JrNkKwZYl1O6"
      },
      "source": [
        ""
      ],
      "execution_count": null,
      "outputs": []
    },
    {
      "cell_type": "code",
      "metadata": {
        "id": "hiaEQv7hrN1x"
      },
      "source": [
        "#model.layers[-1].activation = tf.keras.activations.softmax\n",
        "#optimizer = tf.keras.optimizers.Adam(learning_rate=1e-6)\n",
        "#loss = tf.keras.losses.SparseCategoricalCrossentropy(from_logits=True)\n",
        "#modell.layers[2].activation = tf.keras.activations.softmax\n",
        "metric = tf.keras.metrics.SparseCategoricalAccuracy('accuracy')\n",
        "#model.compile(optimizer=optimizer, loss=loss, metrics=[metric])\n",
        "\n",
        "#model.summary()"
      ],
      "execution_count": null,
      "outputs": []
    },
    {
      "cell_type": "code",
      "metadata": {
        "id": "9xPH4jc5A7sA"
      },
      "source": [
        "\n",
        "\n",
        "optimizer = tf.keras.optimizers.Adam(learning_rate=5e-5)\n",
        "model.compile(optimizer=optimizer, loss=model.compute_loss,metrics=metric) # can also use any keras loss fn\n",
        "model.summary()"
      ],
      "execution_count": null,
      "outputs": []
    },
    {
      "cell_type": "code",
      "metadata": {
        "id": "XHFkSv0n_6wL"
      },
      "source": [
        "model.fit(train_dataset.shuffle(1000).batch(8), epochs=1,validation_data=val_dataset, batch_size=8)"
      ],
      "execution_count": null,
      "outputs": []
    },
    {
      "cell_type": "code",
      "metadata": {
        "id": "Ph10MkAbrvBH"
      },
      "source": [
        "model.save_pretrained(\"saved_model\")"
      ],
      "execution_count": null,
      "outputs": []
    },
    {
      "cell_type": "code",
      "metadata": {
        "id": "Irqi_05tEdGP"
      },
      "source": [
        "x = test_dataset.shuffle(3)\n",
        "#result = model.predict(x.batch(8))\n",
        "#print(result)"
      ],
      "execution_count": null,
      "outputs": []
    },
    {
      "cell_type": "code",
      "metadata": {
        "id": "zSUhKyOqBwSy"
      },
      "source": [
        "ris =model.evaluate(x.batch(8))"
      ],
      "execution_count": null,
      "outputs": []
    },
    {
      "cell_type": "code",
      "metadata": {
        "id": "OOonM6CREO46"
      },
      "source": [
        "model.metrics_names"
      ],
      "execution_count": null,
      "outputs": []
    },
    {
      "cell_type": "code",
      "metadata": {
        "id": "co8Cw9zSiy5L"
      },
      "source": [
        "history_dict = model.history\n",
        "print(history_dict.keys())\n",
        "\n",
        "acc = history_dict['accuracy']\n",
        "val_acc = history_dict['val_accuracy']\n",
        "loss = history_dict['loss']\n",
        "val_loss = history_dict['val_loss']\n",
        "\n",
        "epochs = range(1, len(acc) + 1)\n",
        "fig = plt.figure(figsize=(10, 6))\n",
        "fig.tight_layout()\n",
        "\n",
        "plt.subplot(2, 1, 1)\n",
        "# r is for \"solid red line\"\n",
        "plt.plot(epochs, loss, 'r', label='Training loss')\n",
        "# b is for \"solid blue line\"\n",
        "plt.plot(epochs, val_loss, 'b', label='Validation loss')\n",
        "plt.title('Training and validation loss')\n",
        "# plt.xlabel('Epochs')\n",
        "plt.ylabel('Loss')\n",
        "plt.legend()\n",
        "\n",
        "plt.subplot(2, 1, 2)\n",
        "plt.plot(epochs, acc, 'r', label='Training acc')\n",
        "plt.plot(epochs, val_acc, 'b', label='Validation acc')\n",
        "plt.title('Training and validation accuracy')\n",
        "plt.xlabel('Epochs')\n",
        "plt.ylabel('Accuracy')\n",
        "plt.legend(loc='lower right')"
      ],
      "execution_count": null,
      "outputs": []
    },
    {
      "cell_type": "code",
      "metadata": {
        "id": "0slpJmON6_9c"
      },
      "source": [
        "from transformers import pipeline\n",
        "#nlp = pipeline('ner', model=model, tokenizer=tokenizer)\n",
        "nlp = pipeline('ner', model=model, tokenizer=tokenizer,aggregation_strategy=\"first\")"
      ],
      "execution_count": null,
      "outputs": []
    },
    {
      "cell_type": "code",
      "metadata": {
        "id": "pNk2buzV7e1g"
      },
      "source": [
        "test_data = []\n",
        "data = test_data_df[100:200]\n",
        "for index, row in data.iterrows():\n",
        "  sentence = \"\"\n",
        " \n",
        "  for x, value in row.iteritems():\n",
        "\n",
        "    sentence += str(value) + \" \"\n",
        "\n",
        "  test_data.append(sentence)"
      ],
      "execution_count": null,
      "outputs": []
    },
    {
      "cell_type": "code",
      "metadata": {
        "id": "K73oLOjsGOPv"
      },
      "source": [
        "nlp(test_data[10])"
      ],
      "execution_count": null,
      "outputs": []
    },
    {
      "cell_type": "code",
      "metadata": {
        "id": "UYOH_zBh8dkW"
      },
      "source": [
        "true_predictions = []\n",
        "nomi=[]\n",
        "cognomi = []\n",
        "indirizzi= []\n",
        "\n",
        "for x in test_data:\n",
        "   \n",
        "    ris = nlp(x)\n",
        "    indirizzo = \"\"\n",
        "    for t in ris:\n",
        "      cognome = \"\"\n",
        "      nome = \"\"\n",
        "      if t[\"entity_group\"] == \"LABEL_4\":\n",
        "        indirizzo = t[\"word\"]\n",
        "      if t[\"entity_group\"] == \"LABEL_3\":\n",
        "        indirizzo += \" \" + t[\"word\"]\n",
        "        indirizzi.append(indirizzo)\n",
        "      if t[\"entity_group\"] == \"LABEL_2\":\n",
        "        cognome =t[\"word\"]\n",
        "      if t[\"entity_group\"] == \"LABEL_0\":\n",
        "        nome = t[\"word\"]\n",
        "\n",
        "      cognomi.append(cognome)  \n",
        "      nomi.append(nome)\n",
        "\n"
      ],
      "execution_count": null,
      "outputs": []
    },
    {
      "cell_type": "code",
      "metadata": {
        "id": "IkU9sMNAJvdp"
      },
      "source": [
        ""
      ],
      "execution_count": null,
      "outputs": []
    },
    {
      "cell_type": "code",
      "metadata": {
        "id": "UHLwIs0kJ20L"
      },
      "source": [
        "test_data_df"
      ],
      "execution_count": null,
      "outputs": []
    },
    {
      "cell_type": "code",
      "metadata": {
        "id": "aYQ_2mvANSfZ"
      },
      "source": [
        ""
      ],
      "execution_count": null,
      "outputs": []
    },
    {
      "cell_type": "code",
      "metadata": {
        "id": "oM29JyByEOxL"
      },
      "source": [
        "\n",
        "print(indirizzi)"
      ],
      "execution_count": null,
      "outputs": []
    },
    {
      "cell_type": "code",
      "metadata": {
        "id": "eslo3Aih9Xer"
      },
      "source": [
        "len(indirizzi)"
      ],
      "execution_count": null,
      "outputs": []
    },
    {
      "cell_type": "code",
      "metadata": {
        "id": "RQ0nxQMuAbYC"
      },
      "source": [
        "id2tag"
      ],
      "execution_count": null,
      "outputs": []
    },
    {
      "cell_type": "code",
      "metadata": {
        "id": "PT3swtCStidt"
      },
      "source": [
        "from sklearn.metrics import f1_score"
      ],
      "execution_count": null,
      "outputs": []
    },
    {
      "cell_type": "code",
      "metadata": {
        "id": "bgjAmcYEzSQ5"
      },
      "source": [
        "len()"
      ],
      "execution_count": null,
      "outputs": []
    },
    {
      "cell_type": "code",
      "metadata": {
        "id": "Um7cYnaMt0dn"
      },
      "source": [
        "f1_score(test_data_df[100:200][\"indirizzo\"].str.lower(), indirizzi, average=None)"
      ],
      "execution_count": null,
      "outputs": []
    },
    {
      "cell_type": "code",
      "metadata": {
        "id": "Pdrbq8OEgYeb"
      },
      "source": [
        "#from seqeval.metrics import accuracy_score\n",
        "#from seqeval.metrics import classification_report\n",
        "#from seqeval.metrics import f1_score"
      ],
      "execution_count": null,
      "outputs": []
    },
    {
      "cell_type": "code",
      "metadata": {
        "id": "1VAyD6eJZ6kP"
      },
      "source": [
        "f1_score(y_true, y_pred)"
      ],
      "execution_count": null,
      "outputs": []
    },
    {
      "cell_type": "code",
      "metadata": {
        "id": "MEzakAM0Z6eW"
      },
      "source": [
        "classification_report(test_data_df[100:200][\"cognome\"].str.lower(), cognomi)"
      ],
      "execution_count": null,
      "outputs": []
    }
  ]
}