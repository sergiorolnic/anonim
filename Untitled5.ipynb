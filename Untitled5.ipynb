{
  "nbformat": 4,
  "nbformat_minor": 0,
  "metadata": {
    "colab": {
      "name": "Untitled5.ipynb",
      "provenance": [],
      "authorship_tag": "ABX9TyOfP5NdOf3yYeBKf/I25S53",
      "include_colab_link": true
    },
    "kernelspec": {
      "name": "python3",
      "display_name": "Python 3"
    },
    "language_info": {
      "name": "python"
    },
    "accelerator": "GPU",
    "widgets": {
      "application/vnd.jupyter.widget-state+json": {
        "8eb35da22f6f41f995578440484df65c": {
          "model_module": "@jupyter-widgets/controls",
          "model_name": "HBoxModel",
          "model_module_version": "1.5.0",
          "state": {
            "_view_name": "HBoxView",
            "_dom_classes": [],
            "_model_name": "HBoxModel",
            "_view_module": "@jupyter-widgets/controls",
            "_model_module_version": "1.5.0",
            "_view_count": null,
            "_view_module_version": "1.5.0",
            "box_style": "",
            "layout": "IPY_MODEL_ce049c52434147b4801f3f9fcbe28f56",
            "_model_module": "@jupyter-widgets/controls",
            "children": [
              "IPY_MODEL_465f972fd4664488af5103ac905919be",
              "IPY_MODEL_19de6c9b34f64a3a842abc4378350960",
              "IPY_MODEL_1db83aadc8b8469dbec231c1c11c0ced"
            ]
          }
        },
        "ce049c52434147b4801f3f9fcbe28f56": {
          "model_module": "@jupyter-widgets/base",
          "model_name": "LayoutModel",
          "model_module_version": "1.2.0",
          "state": {
            "_view_name": "LayoutView",
            "grid_template_rows": null,
            "right": null,
            "justify_content": null,
            "_view_module": "@jupyter-widgets/base",
            "overflow": null,
            "_model_module_version": "1.2.0",
            "_view_count": null,
            "flex_flow": null,
            "width": null,
            "min_width": null,
            "border": null,
            "align_items": null,
            "bottom": null,
            "_model_module": "@jupyter-widgets/base",
            "top": null,
            "grid_column": null,
            "overflow_y": null,
            "overflow_x": null,
            "grid_auto_flow": null,
            "grid_area": null,
            "grid_template_columns": null,
            "flex": null,
            "_model_name": "LayoutModel",
            "justify_items": null,
            "grid_row": null,
            "max_height": null,
            "align_content": null,
            "visibility": null,
            "align_self": null,
            "height": null,
            "min_height": null,
            "padding": null,
            "grid_auto_rows": null,
            "grid_gap": null,
            "max_width": null,
            "order": null,
            "_view_module_version": "1.2.0",
            "grid_template_areas": null,
            "object_position": null,
            "object_fit": null,
            "grid_auto_columns": null,
            "margin": null,
            "display": null,
            "left": null
          }
        },
        "465f972fd4664488af5103ac905919be": {
          "model_module": "@jupyter-widgets/controls",
          "model_name": "HTMLModel",
          "model_module_version": "1.5.0",
          "state": {
            "_view_name": "HTMLView",
            "style": "IPY_MODEL_d4a3ea0c48754cffa8adb1d8f2666f39",
            "_dom_classes": [],
            "description": "",
            "_model_name": "HTMLModel",
            "placeholder": "​",
            "_view_module": "@jupyter-widgets/controls",
            "_model_module_version": "1.5.0",
            "value": "Downloading: 100%",
            "_view_count": null,
            "_view_module_version": "1.5.0",
            "description_tooltip": null,
            "_model_module": "@jupyter-widgets/controls",
            "layout": "IPY_MODEL_e5a8946fefbf4d849d4307785dceca4e"
          }
        },
        "19de6c9b34f64a3a842abc4378350960": {
          "model_module": "@jupyter-widgets/controls",
          "model_name": "FloatProgressModel",
          "model_module_version": "1.5.0",
          "state": {
            "_view_name": "ProgressView",
            "style": "IPY_MODEL_144e93601d874bd8aef5dc4c81ade11b",
            "_dom_classes": [],
            "description": "",
            "_model_name": "FloatProgressModel",
            "bar_style": "success",
            "max": 213450,
            "_view_module": "@jupyter-widgets/controls",
            "_model_module_version": "1.5.0",
            "value": 213450,
            "_view_count": null,
            "_view_module_version": "1.5.0",
            "orientation": "horizontal",
            "min": 0,
            "description_tooltip": null,
            "_model_module": "@jupyter-widgets/controls",
            "layout": "IPY_MODEL_88b732a29afb4b978059e6a5d2f37a6a"
          }
        },
        "1db83aadc8b8469dbec231c1c11c0ced": {
          "model_module": "@jupyter-widgets/controls",
          "model_name": "HTMLModel",
          "model_module_version": "1.5.0",
          "state": {
            "_view_name": "HTMLView",
            "style": "IPY_MODEL_3ce6a559c8fa4022a139e292da6fd56d",
            "_dom_classes": [],
            "description": "",
            "_model_name": "HTMLModel",
            "placeholder": "​",
            "_view_module": "@jupyter-widgets/controls",
            "_model_module_version": "1.5.0",
            "value": " 208k/208k [00:00&lt;00:00, 321kB/s]",
            "_view_count": null,
            "_view_module_version": "1.5.0",
            "description_tooltip": null,
            "_model_module": "@jupyter-widgets/controls",
            "layout": "IPY_MODEL_e907760a81644d2782a94e380dbdfb30"
          }
        },
        "d4a3ea0c48754cffa8adb1d8f2666f39": {
          "model_module": "@jupyter-widgets/controls",
          "model_name": "DescriptionStyleModel",
          "model_module_version": "1.5.0",
          "state": {
            "_view_name": "StyleView",
            "_model_name": "DescriptionStyleModel",
            "description_width": "",
            "_view_module": "@jupyter-widgets/base",
            "_model_module_version": "1.5.0",
            "_view_count": null,
            "_view_module_version": "1.2.0",
            "_model_module": "@jupyter-widgets/controls"
          }
        },
        "e5a8946fefbf4d849d4307785dceca4e": {
          "model_module": "@jupyter-widgets/base",
          "model_name": "LayoutModel",
          "model_module_version": "1.2.0",
          "state": {
            "_view_name": "LayoutView",
            "grid_template_rows": null,
            "right": null,
            "justify_content": null,
            "_view_module": "@jupyter-widgets/base",
            "overflow": null,
            "_model_module_version": "1.2.0",
            "_view_count": null,
            "flex_flow": null,
            "width": null,
            "min_width": null,
            "border": null,
            "align_items": null,
            "bottom": null,
            "_model_module": "@jupyter-widgets/base",
            "top": null,
            "grid_column": null,
            "overflow_y": null,
            "overflow_x": null,
            "grid_auto_flow": null,
            "grid_area": null,
            "grid_template_columns": null,
            "flex": null,
            "_model_name": "LayoutModel",
            "justify_items": null,
            "grid_row": null,
            "max_height": null,
            "align_content": null,
            "visibility": null,
            "align_self": null,
            "height": null,
            "min_height": null,
            "padding": null,
            "grid_auto_rows": null,
            "grid_gap": null,
            "max_width": null,
            "order": null,
            "_view_module_version": "1.2.0",
            "grid_template_areas": null,
            "object_position": null,
            "object_fit": null,
            "grid_auto_columns": null,
            "margin": null,
            "display": null,
            "left": null
          }
        },
        "144e93601d874bd8aef5dc4c81ade11b": {
          "model_module": "@jupyter-widgets/controls",
          "model_name": "ProgressStyleModel",
          "model_module_version": "1.5.0",
          "state": {
            "_view_name": "StyleView",
            "_model_name": "ProgressStyleModel",
            "description_width": "",
            "_view_module": "@jupyter-widgets/base",
            "_model_module_version": "1.5.0",
            "_view_count": null,
            "_view_module_version": "1.2.0",
            "bar_color": null,
            "_model_module": "@jupyter-widgets/controls"
          }
        },
        "88b732a29afb4b978059e6a5d2f37a6a": {
          "model_module": "@jupyter-widgets/base",
          "model_name": "LayoutModel",
          "model_module_version": "1.2.0",
          "state": {
            "_view_name": "LayoutView",
            "grid_template_rows": null,
            "right": null,
            "justify_content": null,
            "_view_module": "@jupyter-widgets/base",
            "overflow": null,
            "_model_module_version": "1.2.0",
            "_view_count": null,
            "flex_flow": null,
            "width": null,
            "min_width": null,
            "border": null,
            "align_items": null,
            "bottom": null,
            "_model_module": "@jupyter-widgets/base",
            "top": null,
            "grid_column": null,
            "overflow_y": null,
            "overflow_x": null,
            "grid_auto_flow": null,
            "grid_area": null,
            "grid_template_columns": null,
            "flex": null,
            "_model_name": "LayoutModel",
            "justify_items": null,
            "grid_row": null,
            "max_height": null,
            "align_content": null,
            "visibility": null,
            "align_self": null,
            "height": null,
            "min_height": null,
            "padding": null,
            "grid_auto_rows": null,
            "grid_gap": null,
            "max_width": null,
            "order": null,
            "_view_module_version": "1.2.0",
            "grid_template_areas": null,
            "object_position": null,
            "object_fit": null,
            "grid_auto_columns": null,
            "margin": null,
            "display": null,
            "left": null
          }
        },
        "3ce6a559c8fa4022a139e292da6fd56d": {
          "model_module": "@jupyter-widgets/controls",
          "model_name": "DescriptionStyleModel",
          "model_module_version": "1.5.0",
          "state": {
            "_view_name": "StyleView",
            "_model_name": "DescriptionStyleModel",
            "description_width": "",
            "_view_module": "@jupyter-widgets/base",
            "_model_module_version": "1.5.0",
            "_view_count": null,
            "_view_module_version": "1.2.0",
            "_model_module": "@jupyter-widgets/controls"
          }
        },
        "e907760a81644d2782a94e380dbdfb30": {
          "model_module": "@jupyter-widgets/base",
          "model_name": "LayoutModel",
          "model_module_version": "1.2.0",
          "state": {
            "_view_name": "LayoutView",
            "grid_template_rows": null,
            "right": null,
            "justify_content": null,
            "_view_module": "@jupyter-widgets/base",
            "overflow": null,
            "_model_module_version": "1.2.0",
            "_view_count": null,
            "flex_flow": null,
            "width": null,
            "min_width": null,
            "border": null,
            "align_items": null,
            "bottom": null,
            "_model_module": "@jupyter-widgets/base",
            "top": null,
            "grid_column": null,
            "overflow_y": null,
            "overflow_x": null,
            "grid_auto_flow": null,
            "grid_area": null,
            "grid_template_columns": null,
            "flex": null,
            "_model_name": "LayoutModel",
            "justify_items": null,
            "grid_row": null,
            "max_height": null,
            "align_content": null,
            "visibility": null,
            "align_self": null,
            "height": null,
            "min_height": null,
            "padding": null,
            "grid_auto_rows": null,
            "grid_gap": null,
            "max_width": null,
            "order": null,
            "_view_module_version": "1.2.0",
            "grid_template_areas": null,
            "object_position": null,
            "object_fit": null,
            "grid_auto_columns": null,
            "margin": null,
            "display": null,
            "left": null
          }
        },
        "dc8b02a6d2e548d7b9209312e9873b5f": {
          "model_module": "@jupyter-widgets/controls",
          "model_name": "HBoxModel",
          "model_module_version": "1.5.0",
          "state": {
            "_view_name": "HBoxView",
            "_dom_classes": [],
            "_model_name": "HBoxModel",
            "_view_module": "@jupyter-widgets/controls",
            "_model_module_version": "1.5.0",
            "_view_count": null,
            "_view_module_version": "1.5.0",
            "box_style": "",
            "layout": "IPY_MODEL_c5840df290e94168970257e04b2f9847",
            "_model_module": "@jupyter-widgets/controls",
            "children": [
              "IPY_MODEL_be719abdb76843cf8b7581ce13c11c81",
              "IPY_MODEL_481676ca298c405ea91a1b43c1cf58be",
              "IPY_MODEL_6be23e60c5e04027b27f9bbb266c81f1"
            ]
          }
        },
        "c5840df290e94168970257e04b2f9847": {
          "model_module": "@jupyter-widgets/base",
          "model_name": "LayoutModel",
          "model_module_version": "1.2.0",
          "state": {
            "_view_name": "LayoutView",
            "grid_template_rows": null,
            "right": null,
            "justify_content": null,
            "_view_module": "@jupyter-widgets/base",
            "overflow": null,
            "_model_module_version": "1.2.0",
            "_view_count": null,
            "flex_flow": null,
            "width": null,
            "min_width": null,
            "border": null,
            "align_items": null,
            "bottom": null,
            "_model_module": "@jupyter-widgets/base",
            "top": null,
            "grid_column": null,
            "overflow_y": null,
            "overflow_x": null,
            "grid_auto_flow": null,
            "grid_area": null,
            "grid_template_columns": null,
            "flex": null,
            "_model_name": "LayoutModel",
            "justify_items": null,
            "grid_row": null,
            "max_height": null,
            "align_content": null,
            "visibility": null,
            "align_self": null,
            "height": null,
            "min_height": null,
            "padding": null,
            "grid_auto_rows": null,
            "grid_gap": null,
            "max_width": null,
            "order": null,
            "_view_module_version": "1.2.0",
            "grid_template_areas": null,
            "object_position": null,
            "object_fit": null,
            "grid_auto_columns": null,
            "margin": null,
            "display": null,
            "left": null
          }
        },
        "be719abdb76843cf8b7581ce13c11c81": {
          "model_module": "@jupyter-widgets/controls",
          "model_name": "HTMLModel",
          "model_module_version": "1.5.0",
          "state": {
            "_view_name": "HTMLView",
            "style": "IPY_MODEL_6e7c82a5c810493897898ae0486ccf54",
            "_dom_classes": [],
            "description": "",
            "_model_name": "HTMLModel",
            "placeholder": "​",
            "_view_module": "@jupyter-widgets/controls",
            "_model_module_version": "1.5.0",
            "value": "Downloading: 100%",
            "_view_count": null,
            "_view_module_version": "1.5.0",
            "description_tooltip": null,
            "_model_module": "@jupyter-widgets/controls",
            "layout": "IPY_MODEL_d050852f6cd54baca3e1beefb8c5daf4"
          }
        },
        "481676ca298c405ea91a1b43c1cf58be": {
          "model_module": "@jupyter-widgets/controls",
          "model_name": "FloatProgressModel",
          "model_module_version": "1.5.0",
          "state": {
            "_view_name": "ProgressView",
            "style": "IPY_MODEL_138e8c80889c4b20ad70afb4af630d9c",
            "_dom_classes": [],
            "description": "",
            "_model_name": "FloatProgressModel",
            "bar_style": "success",
            "max": 435797,
            "_view_module": "@jupyter-widgets/controls",
            "_model_module_version": "1.5.0",
            "value": 435797,
            "_view_count": null,
            "_view_module_version": "1.5.0",
            "orientation": "horizontal",
            "min": 0,
            "description_tooltip": null,
            "_model_module": "@jupyter-widgets/controls",
            "layout": "IPY_MODEL_f0e22233d77a43399069645e4f03043e"
          }
        },
        "6be23e60c5e04027b27f9bbb266c81f1": {
          "model_module": "@jupyter-widgets/controls",
          "model_name": "HTMLModel",
          "model_module_version": "1.5.0",
          "state": {
            "_view_name": "HTMLView",
            "style": "IPY_MODEL_04a2c837cdf442eaa6001f655806a303",
            "_dom_classes": [],
            "description": "",
            "_model_name": "HTMLModel",
            "placeholder": "​",
            "_view_module": "@jupyter-widgets/controls",
            "_model_module_version": "1.5.0",
            "value": " 426k/426k [00:00&lt;00:00, 605kB/s]",
            "_view_count": null,
            "_view_module_version": "1.5.0",
            "description_tooltip": null,
            "_model_module": "@jupyter-widgets/controls",
            "layout": "IPY_MODEL_4697235da1974a96b497bf0a53fc0a09"
          }
        },
        "6e7c82a5c810493897898ae0486ccf54": {
          "model_module": "@jupyter-widgets/controls",
          "model_name": "DescriptionStyleModel",
          "model_module_version": "1.5.0",
          "state": {
            "_view_name": "StyleView",
            "_model_name": "DescriptionStyleModel",
            "description_width": "",
            "_view_module": "@jupyter-widgets/base",
            "_model_module_version": "1.5.0",
            "_view_count": null,
            "_view_module_version": "1.2.0",
            "_model_module": "@jupyter-widgets/controls"
          }
        },
        "d050852f6cd54baca3e1beefb8c5daf4": {
          "model_module": "@jupyter-widgets/base",
          "model_name": "LayoutModel",
          "model_module_version": "1.2.0",
          "state": {
            "_view_name": "LayoutView",
            "grid_template_rows": null,
            "right": null,
            "justify_content": null,
            "_view_module": "@jupyter-widgets/base",
            "overflow": null,
            "_model_module_version": "1.2.0",
            "_view_count": null,
            "flex_flow": null,
            "width": null,
            "min_width": null,
            "border": null,
            "align_items": null,
            "bottom": null,
            "_model_module": "@jupyter-widgets/base",
            "top": null,
            "grid_column": null,
            "overflow_y": null,
            "overflow_x": null,
            "grid_auto_flow": null,
            "grid_area": null,
            "grid_template_columns": null,
            "flex": null,
            "_model_name": "LayoutModel",
            "justify_items": null,
            "grid_row": null,
            "max_height": null,
            "align_content": null,
            "visibility": null,
            "align_self": null,
            "height": null,
            "min_height": null,
            "padding": null,
            "grid_auto_rows": null,
            "grid_gap": null,
            "max_width": null,
            "order": null,
            "_view_module_version": "1.2.0",
            "grid_template_areas": null,
            "object_position": null,
            "object_fit": null,
            "grid_auto_columns": null,
            "margin": null,
            "display": null,
            "left": null
          }
        },
        "138e8c80889c4b20ad70afb4af630d9c": {
          "model_module": "@jupyter-widgets/controls",
          "model_name": "ProgressStyleModel",
          "model_module_version": "1.5.0",
          "state": {
            "_view_name": "StyleView",
            "_model_name": "ProgressStyleModel",
            "description_width": "",
            "_view_module": "@jupyter-widgets/base",
            "_model_module_version": "1.5.0",
            "_view_count": null,
            "_view_module_version": "1.2.0",
            "bar_color": null,
            "_model_module": "@jupyter-widgets/controls"
          }
        },
        "f0e22233d77a43399069645e4f03043e": {
          "model_module": "@jupyter-widgets/base",
          "model_name": "LayoutModel",
          "model_module_version": "1.2.0",
          "state": {
            "_view_name": "LayoutView",
            "grid_template_rows": null,
            "right": null,
            "justify_content": null,
            "_view_module": "@jupyter-widgets/base",
            "overflow": null,
            "_model_module_version": "1.2.0",
            "_view_count": null,
            "flex_flow": null,
            "width": null,
            "min_width": null,
            "border": null,
            "align_items": null,
            "bottom": null,
            "_model_module": "@jupyter-widgets/base",
            "top": null,
            "grid_column": null,
            "overflow_y": null,
            "overflow_x": null,
            "grid_auto_flow": null,
            "grid_area": null,
            "grid_template_columns": null,
            "flex": null,
            "_model_name": "LayoutModel",
            "justify_items": null,
            "grid_row": null,
            "max_height": null,
            "align_content": null,
            "visibility": null,
            "align_self": null,
            "height": null,
            "min_height": null,
            "padding": null,
            "grid_auto_rows": null,
            "grid_gap": null,
            "max_width": null,
            "order": null,
            "_view_module_version": "1.2.0",
            "grid_template_areas": null,
            "object_position": null,
            "object_fit": null,
            "grid_auto_columns": null,
            "margin": null,
            "display": null,
            "left": null
          }
        },
        "04a2c837cdf442eaa6001f655806a303": {
          "model_module": "@jupyter-widgets/controls",
          "model_name": "DescriptionStyleModel",
          "model_module_version": "1.5.0",
          "state": {
            "_view_name": "StyleView",
            "_model_name": "DescriptionStyleModel",
            "description_width": "",
            "_view_module": "@jupyter-widgets/base",
            "_model_module_version": "1.5.0",
            "_view_count": null,
            "_view_module_version": "1.2.0",
            "_model_module": "@jupyter-widgets/controls"
          }
        },
        "4697235da1974a96b497bf0a53fc0a09": {
          "model_module": "@jupyter-widgets/base",
          "model_name": "LayoutModel",
          "model_module_version": "1.2.0",
          "state": {
            "_view_name": "LayoutView",
            "grid_template_rows": null,
            "right": null,
            "justify_content": null,
            "_view_module": "@jupyter-widgets/base",
            "overflow": null,
            "_model_module_version": "1.2.0",
            "_view_count": null,
            "flex_flow": null,
            "width": null,
            "min_width": null,
            "border": null,
            "align_items": null,
            "bottom": null,
            "_model_module": "@jupyter-widgets/base",
            "top": null,
            "grid_column": null,
            "overflow_y": null,
            "overflow_x": null,
            "grid_auto_flow": null,
            "grid_area": null,
            "grid_template_columns": null,
            "flex": null,
            "_model_name": "LayoutModel",
            "justify_items": null,
            "grid_row": null,
            "max_height": null,
            "align_content": null,
            "visibility": null,
            "align_self": null,
            "height": null,
            "min_height": null,
            "padding": null,
            "grid_auto_rows": null,
            "grid_gap": null,
            "max_width": null,
            "order": null,
            "_view_module_version": "1.2.0",
            "grid_template_areas": null,
            "object_position": null,
            "object_fit": null,
            "grid_auto_columns": null,
            "margin": null,
            "display": null,
            "left": null
          }
        },
        "e0419fcd525f43f4b02dad9cd45babc0": {
          "model_module": "@jupyter-widgets/controls",
          "model_name": "HBoxModel",
          "model_module_version": "1.5.0",
          "state": {
            "_view_name": "HBoxView",
            "_dom_classes": [],
            "_model_name": "HBoxModel",
            "_view_module": "@jupyter-widgets/controls",
            "_model_module_version": "1.5.0",
            "_view_count": null,
            "_view_module_version": "1.5.0",
            "box_style": "",
            "layout": "IPY_MODEL_5fc1b48ed66b464583ce3db778109a6b",
            "_model_module": "@jupyter-widgets/controls",
            "children": [
              "IPY_MODEL_53b1158ad66b46ecb5b2f5b5d71a471b",
              "IPY_MODEL_59d185b033c5416ba381ff797c3b73e0",
              "IPY_MODEL_404d9b2b492a47288f49dade65615644"
            ]
          }
        },
        "5fc1b48ed66b464583ce3db778109a6b": {
          "model_module": "@jupyter-widgets/base",
          "model_name": "LayoutModel",
          "model_module_version": "1.2.0",
          "state": {
            "_view_name": "LayoutView",
            "grid_template_rows": null,
            "right": null,
            "justify_content": null,
            "_view_module": "@jupyter-widgets/base",
            "overflow": null,
            "_model_module_version": "1.2.0",
            "_view_count": null,
            "flex_flow": null,
            "width": null,
            "min_width": null,
            "border": null,
            "align_items": null,
            "bottom": null,
            "_model_module": "@jupyter-widgets/base",
            "top": null,
            "grid_column": null,
            "overflow_y": null,
            "overflow_x": null,
            "grid_auto_flow": null,
            "grid_area": null,
            "grid_template_columns": null,
            "flex": null,
            "_model_name": "LayoutModel",
            "justify_items": null,
            "grid_row": null,
            "max_height": null,
            "align_content": null,
            "visibility": null,
            "align_self": null,
            "height": null,
            "min_height": null,
            "padding": null,
            "grid_auto_rows": null,
            "grid_gap": null,
            "max_width": null,
            "order": null,
            "_view_module_version": "1.2.0",
            "grid_template_areas": null,
            "object_position": null,
            "object_fit": null,
            "grid_auto_columns": null,
            "margin": null,
            "display": null,
            "left": null
          }
        },
        "53b1158ad66b46ecb5b2f5b5d71a471b": {
          "model_module": "@jupyter-widgets/controls",
          "model_name": "HTMLModel",
          "model_module_version": "1.5.0",
          "state": {
            "_view_name": "HTMLView",
            "style": "IPY_MODEL_5dae62546f534415b4f9d90df8785a88",
            "_dom_classes": [],
            "description": "",
            "_model_name": "HTMLModel",
            "placeholder": "​",
            "_view_module": "@jupyter-widgets/controls",
            "_model_module_version": "1.5.0",
            "value": "Downloading: 100%",
            "_view_count": null,
            "_view_module_version": "1.5.0",
            "description_tooltip": null,
            "_model_module": "@jupyter-widgets/controls",
            "layout": "IPY_MODEL_283390a0fcaf4d9ca3b241b92e8b23ad"
          }
        },
        "59d185b033c5416ba381ff797c3b73e0": {
          "model_module": "@jupyter-widgets/controls",
          "model_name": "FloatProgressModel",
          "model_module_version": "1.5.0",
          "state": {
            "_view_name": "ProgressView",
            "style": "IPY_MODEL_7bef05537489476a879bd3bd17c4a0f9",
            "_dom_classes": [],
            "description": "",
            "_model_name": "FloatProgressModel",
            "bar_style": "success",
            "max": 29,
            "_view_module": "@jupyter-widgets/controls",
            "_model_module_version": "1.5.0",
            "value": 29,
            "_view_count": null,
            "_view_module_version": "1.5.0",
            "orientation": "horizontal",
            "min": 0,
            "description_tooltip": null,
            "_model_module": "@jupyter-widgets/controls",
            "layout": "IPY_MODEL_8161b787b722458a9e56c327ed82298d"
          }
        },
        "404d9b2b492a47288f49dade65615644": {
          "model_module": "@jupyter-widgets/controls",
          "model_name": "HTMLModel",
          "model_module_version": "1.5.0",
          "state": {
            "_view_name": "HTMLView",
            "style": "IPY_MODEL_0c1336f435b1424091d0c9c28f4f9deb",
            "_dom_classes": [],
            "description": "",
            "_model_name": "HTMLModel",
            "placeholder": "​",
            "_view_module": "@jupyter-widgets/controls",
            "_model_module_version": "1.5.0",
            "value": " 29.0/29.0 [00:00&lt;00:00, 749B/s]",
            "_view_count": null,
            "_view_module_version": "1.5.0",
            "description_tooltip": null,
            "_model_module": "@jupyter-widgets/controls",
            "layout": "IPY_MODEL_86ab8d5876f747b39d7fa3214405ae69"
          }
        },
        "5dae62546f534415b4f9d90df8785a88": {
          "model_module": "@jupyter-widgets/controls",
          "model_name": "DescriptionStyleModel",
          "model_module_version": "1.5.0",
          "state": {
            "_view_name": "StyleView",
            "_model_name": "DescriptionStyleModel",
            "description_width": "",
            "_view_module": "@jupyter-widgets/base",
            "_model_module_version": "1.5.0",
            "_view_count": null,
            "_view_module_version": "1.2.0",
            "_model_module": "@jupyter-widgets/controls"
          }
        },
        "283390a0fcaf4d9ca3b241b92e8b23ad": {
          "model_module": "@jupyter-widgets/base",
          "model_name": "LayoutModel",
          "model_module_version": "1.2.0",
          "state": {
            "_view_name": "LayoutView",
            "grid_template_rows": null,
            "right": null,
            "justify_content": null,
            "_view_module": "@jupyter-widgets/base",
            "overflow": null,
            "_model_module_version": "1.2.0",
            "_view_count": null,
            "flex_flow": null,
            "width": null,
            "min_width": null,
            "border": null,
            "align_items": null,
            "bottom": null,
            "_model_module": "@jupyter-widgets/base",
            "top": null,
            "grid_column": null,
            "overflow_y": null,
            "overflow_x": null,
            "grid_auto_flow": null,
            "grid_area": null,
            "grid_template_columns": null,
            "flex": null,
            "_model_name": "LayoutModel",
            "justify_items": null,
            "grid_row": null,
            "max_height": null,
            "align_content": null,
            "visibility": null,
            "align_self": null,
            "height": null,
            "min_height": null,
            "padding": null,
            "grid_auto_rows": null,
            "grid_gap": null,
            "max_width": null,
            "order": null,
            "_view_module_version": "1.2.0",
            "grid_template_areas": null,
            "object_position": null,
            "object_fit": null,
            "grid_auto_columns": null,
            "margin": null,
            "display": null,
            "left": null
          }
        },
        "7bef05537489476a879bd3bd17c4a0f9": {
          "model_module": "@jupyter-widgets/controls",
          "model_name": "ProgressStyleModel",
          "model_module_version": "1.5.0",
          "state": {
            "_view_name": "StyleView",
            "_model_name": "ProgressStyleModel",
            "description_width": "",
            "_view_module": "@jupyter-widgets/base",
            "_model_module_version": "1.5.0",
            "_view_count": null,
            "_view_module_version": "1.2.0",
            "bar_color": null,
            "_model_module": "@jupyter-widgets/controls"
          }
        },
        "8161b787b722458a9e56c327ed82298d": {
          "model_module": "@jupyter-widgets/base",
          "model_name": "LayoutModel",
          "model_module_version": "1.2.0",
          "state": {
            "_view_name": "LayoutView",
            "grid_template_rows": null,
            "right": null,
            "justify_content": null,
            "_view_module": "@jupyter-widgets/base",
            "overflow": null,
            "_model_module_version": "1.2.0",
            "_view_count": null,
            "flex_flow": null,
            "width": null,
            "min_width": null,
            "border": null,
            "align_items": null,
            "bottom": null,
            "_model_module": "@jupyter-widgets/base",
            "top": null,
            "grid_column": null,
            "overflow_y": null,
            "overflow_x": null,
            "grid_auto_flow": null,
            "grid_area": null,
            "grid_template_columns": null,
            "flex": null,
            "_model_name": "LayoutModel",
            "justify_items": null,
            "grid_row": null,
            "max_height": null,
            "align_content": null,
            "visibility": null,
            "align_self": null,
            "height": null,
            "min_height": null,
            "padding": null,
            "grid_auto_rows": null,
            "grid_gap": null,
            "max_width": null,
            "order": null,
            "_view_module_version": "1.2.0",
            "grid_template_areas": null,
            "object_position": null,
            "object_fit": null,
            "grid_auto_columns": null,
            "margin": null,
            "display": null,
            "left": null
          }
        },
        "0c1336f435b1424091d0c9c28f4f9deb": {
          "model_module": "@jupyter-widgets/controls",
          "model_name": "DescriptionStyleModel",
          "model_module_version": "1.5.0",
          "state": {
            "_view_name": "StyleView",
            "_model_name": "DescriptionStyleModel",
            "description_width": "",
            "_view_module": "@jupyter-widgets/base",
            "_model_module_version": "1.5.0",
            "_view_count": null,
            "_view_module_version": "1.2.0",
            "_model_module": "@jupyter-widgets/controls"
          }
        },
        "86ab8d5876f747b39d7fa3214405ae69": {
          "model_module": "@jupyter-widgets/base",
          "model_name": "LayoutModel",
          "model_module_version": "1.2.0",
          "state": {
            "_view_name": "LayoutView",
            "grid_template_rows": null,
            "right": null,
            "justify_content": null,
            "_view_module": "@jupyter-widgets/base",
            "overflow": null,
            "_model_module_version": "1.2.0",
            "_view_count": null,
            "flex_flow": null,
            "width": null,
            "min_width": null,
            "border": null,
            "align_items": null,
            "bottom": null,
            "_model_module": "@jupyter-widgets/base",
            "top": null,
            "grid_column": null,
            "overflow_y": null,
            "overflow_x": null,
            "grid_auto_flow": null,
            "grid_area": null,
            "grid_template_columns": null,
            "flex": null,
            "_model_name": "LayoutModel",
            "justify_items": null,
            "grid_row": null,
            "max_height": null,
            "align_content": null,
            "visibility": null,
            "align_self": null,
            "height": null,
            "min_height": null,
            "padding": null,
            "grid_auto_rows": null,
            "grid_gap": null,
            "max_width": null,
            "order": null,
            "_view_module_version": "1.2.0",
            "grid_template_areas": null,
            "object_position": null,
            "object_fit": null,
            "grid_auto_columns": null,
            "margin": null,
            "display": null,
            "left": null
          }
        },
        "4f6bd047595946fd888f2f8ef4fa19bc": {
          "model_module": "@jupyter-widgets/controls",
          "model_name": "HBoxModel",
          "model_module_version": "1.5.0",
          "state": {
            "_view_name": "HBoxView",
            "_dom_classes": [],
            "_model_name": "HBoxModel",
            "_view_module": "@jupyter-widgets/controls",
            "_model_module_version": "1.5.0",
            "_view_count": null,
            "_view_module_version": "1.5.0",
            "box_style": "",
            "layout": "IPY_MODEL_c921447da5e74cfbb8e0e124b4c9c646",
            "_model_module": "@jupyter-widgets/controls",
            "children": [
              "IPY_MODEL_cf800ec73ec14ad08e7fb52171365016",
              "IPY_MODEL_21f26bab7b7940db84e001046db67666",
              "IPY_MODEL_f59aed5b4a304bd0a300e583e8c75f6e"
            ]
          }
        },
        "c921447da5e74cfbb8e0e124b4c9c646": {
          "model_module": "@jupyter-widgets/base",
          "model_name": "LayoutModel",
          "model_module_version": "1.2.0",
          "state": {
            "_view_name": "LayoutView",
            "grid_template_rows": null,
            "right": null,
            "justify_content": null,
            "_view_module": "@jupyter-widgets/base",
            "overflow": null,
            "_model_module_version": "1.2.0",
            "_view_count": null,
            "flex_flow": null,
            "width": null,
            "min_width": null,
            "border": null,
            "align_items": null,
            "bottom": null,
            "_model_module": "@jupyter-widgets/base",
            "top": null,
            "grid_column": null,
            "overflow_y": null,
            "overflow_x": null,
            "grid_auto_flow": null,
            "grid_area": null,
            "grid_template_columns": null,
            "flex": null,
            "_model_name": "LayoutModel",
            "justify_items": null,
            "grid_row": null,
            "max_height": null,
            "align_content": null,
            "visibility": null,
            "align_self": null,
            "height": null,
            "min_height": null,
            "padding": null,
            "grid_auto_rows": null,
            "grid_gap": null,
            "max_width": null,
            "order": null,
            "_view_module_version": "1.2.0",
            "grid_template_areas": null,
            "object_position": null,
            "object_fit": null,
            "grid_auto_columns": null,
            "margin": null,
            "display": null,
            "left": null
          }
        },
        "cf800ec73ec14ad08e7fb52171365016": {
          "model_module": "@jupyter-widgets/controls",
          "model_name": "HTMLModel",
          "model_module_version": "1.5.0",
          "state": {
            "_view_name": "HTMLView",
            "style": "IPY_MODEL_9041ad0626124ae0afe79bced586deb9",
            "_dom_classes": [],
            "description": "",
            "_model_name": "HTMLModel",
            "placeholder": "​",
            "_view_module": "@jupyter-widgets/controls",
            "_model_module_version": "1.5.0",
            "value": "Downloading: 100%",
            "_view_count": null,
            "_view_module_version": "1.5.0",
            "description_tooltip": null,
            "_model_module": "@jupyter-widgets/controls",
            "layout": "IPY_MODEL_ae8a4389e3744c07a6d76e66636c51f8"
          }
        },
        "21f26bab7b7940db84e001046db67666": {
          "model_module": "@jupyter-widgets/controls",
          "model_name": "FloatProgressModel",
          "model_module_version": "1.5.0",
          "state": {
            "_view_name": "ProgressView",
            "style": "IPY_MODEL_182e88d421ca42c7baf631fdde0dee0c",
            "_dom_classes": [],
            "description": "",
            "_model_name": "FloatProgressModel",
            "bar_style": "success",
            "max": 411,
            "_view_module": "@jupyter-widgets/controls",
            "_model_module_version": "1.5.0",
            "value": 411,
            "_view_count": null,
            "_view_module_version": "1.5.0",
            "orientation": "horizontal",
            "min": 0,
            "description_tooltip": null,
            "_model_module": "@jupyter-widgets/controls",
            "layout": "IPY_MODEL_85e1dd219f0a4f46bd6ef4e4bceea08b"
          }
        },
        "f59aed5b4a304bd0a300e583e8c75f6e": {
          "model_module": "@jupyter-widgets/controls",
          "model_name": "HTMLModel",
          "model_module_version": "1.5.0",
          "state": {
            "_view_name": "HTMLView",
            "style": "IPY_MODEL_f0c12548a1dd41a6888f97c1a4ce508f",
            "_dom_classes": [],
            "description": "",
            "_model_name": "HTMLModel",
            "placeholder": "​",
            "_view_module": "@jupyter-widgets/controls",
            "_model_module_version": "1.5.0",
            "value": " 411/411 [00:00&lt;00:00, 10.3kB/s]",
            "_view_count": null,
            "_view_module_version": "1.5.0",
            "description_tooltip": null,
            "_model_module": "@jupyter-widgets/controls",
            "layout": "IPY_MODEL_bb5e7eb4bebd4233a1eb7e0cb547ec88"
          }
        },
        "9041ad0626124ae0afe79bced586deb9": {
          "model_module": "@jupyter-widgets/controls",
          "model_name": "DescriptionStyleModel",
          "model_module_version": "1.5.0",
          "state": {
            "_view_name": "StyleView",
            "_model_name": "DescriptionStyleModel",
            "description_width": "",
            "_view_module": "@jupyter-widgets/base",
            "_model_module_version": "1.5.0",
            "_view_count": null,
            "_view_module_version": "1.2.0",
            "_model_module": "@jupyter-widgets/controls"
          }
        },
        "ae8a4389e3744c07a6d76e66636c51f8": {
          "model_module": "@jupyter-widgets/base",
          "model_name": "LayoutModel",
          "model_module_version": "1.2.0",
          "state": {
            "_view_name": "LayoutView",
            "grid_template_rows": null,
            "right": null,
            "justify_content": null,
            "_view_module": "@jupyter-widgets/base",
            "overflow": null,
            "_model_module_version": "1.2.0",
            "_view_count": null,
            "flex_flow": null,
            "width": null,
            "min_width": null,
            "border": null,
            "align_items": null,
            "bottom": null,
            "_model_module": "@jupyter-widgets/base",
            "top": null,
            "grid_column": null,
            "overflow_y": null,
            "overflow_x": null,
            "grid_auto_flow": null,
            "grid_area": null,
            "grid_template_columns": null,
            "flex": null,
            "_model_name": "LayoutModel",
            "justify_items": null,
            "grid_row": null,
            "max_height": null,
            "align_content": null,
            "visibility": null,
            "align_self": null,
            "height": null,
            "min_height": null,
            "padding": null,
            "grid_auto_rows": null,
            "grid_gap": null,
            "max_width": null,
            "order": null,
            "_view_module_version": "1.2.0",
            "grid_template_areas": null,
            "object_position": null,
            "object_fit": null,
            "grid_auto_columns": null,
            "margin": null,
            "display": null,
            "left": null
          }
        },
        "182e88d421ca42c7baf631fdde0dee0c": {
          "model_module": "@jupyter-widgets/controls",
          "model_name": "ProgressStyleModel",
          "model_module_version": "1.5.0",
          "state": {
            "_view_name": "StyleView",
            "_model_name": "ProgressStyleModel",
            "description_width": "",
            "_view_module": "@jupyter-widgets/base",
            "_model_module_version": "1.5.0",
            "_view_count": null,
            "_view_module_version": "1.2.0",
            "bar_color": null,
            "_model_module": "@jupyter-widgets/controls"
          }
        },
        "85e1dd219f0a4f46bd6ef4e4bceea08b": {
          "model_module": "@jupyter-widgets/base",
          "model_name": "LayoutModel",
          "model_module_version": "1.2.0",
          "state": {
            "_view_name": "LayoutView",
            "grid_template_rows": null,
            "right": null,
            "justify_content": null,
            "_view_module": "@jupyter-widgets/base",
            "overflow": null,
            "_model_module_version": "1.2.0",
            "_view_count": null,
            "flex_flow": null,
            "width": null,
            "min_width": null,
            "border": null,
            "align_items": null,
            "bottom": null,
            "_model_module": "@jupyter-widgets/base",
            "top": null,
            "grid_column": null,
            "overflow_y": null,
            "overflow_x": null,
            "grid_auto_flow": null,
            "grid_area": null,
            "grid_template_columns": null,
            "flex": null,
            "_model_name": "LayoutModel",
            "justify_items": null,
            "grid_row": null,
            "max_height": null,
            "align_content": null,
            "visibility": null,
            "align_self": null,
            "height": null,
            "min_height": null,
            "padding": null,
            "grid_auto_rows": null,
            "grid_gap": null,
            "max_width": null,
            "order": null,
            "_view_module_version": "1.2.0",
            "grid_template_areas": null,
            "object_position": null,
            "object_fit": null,
            "grid_auto_columns": null,
            "margin": null,
            "display": null,
            "left": null
          }
        },
        "f0c12548a1dd41a6888f97c1a4ce508f": {
          "model_module": "@jupyter-widgets/controls",
          "model_name": "DescriptionStyleModel",
          "model_module_version": "1.5.0",
          "state": {
            "_view_name": "StyleView",
            "_model_name": "DescriptionStyleModel",
            "description_width": "",
            "_view_module": "@jupyter-widgets/base",
            "_model_module_version": "1.5.0",
            "_view_count": null,
            "_view_module_version": "1.2.0",
            "_model_module": "@jupyter-widgets/controls"
          }
        },
        "bb5e7eb4bebd4233a1eb7e0cb547ec88": {
          "model_module": "@jupyter-widgets/base",
          "model_name": "LayoutModel",
          "model_module_version": "1.2.0",
          "state": {
            "_view_name": "LayoutView",
            "grid_template_rows": null,
            "right": null,
            "justify_content": null,
            "_view_module": "@jupyter-widgets/base",
            "overflow": null,
            "_model_module_version": "1.2.0",
            "_view_count": null,
            "flex_flow": null,
            "width": null,
            "min_width": null,
            "border": null,
            "align_items": null,
            "bottom": null,
            "_model_module": "@jupyter-widgets/base",
            "top": null,
            "grid_column": null,
            "overflow_y": null,
            "overflow_x": null,
            "grid_auto_flow": null,
            "grid_area": null,
            "grid_template_columns": null,
            "flex": null,
            "_model_name": "LayoutModel",
            "justify_items": null,
            "grid_row": null,
            "max_height": null,
            "align_content": null,
            "visibility": null,
            "align_self": null,
            "height": null,
            "min_height": null,
            "padding": null,
            "grid_auto_rows": null,
            "grid_gap": null,
            "max_width": null,
            "order": null,
            "_view_module_version": "1.2.0",
            "grid_template_areas": null,
            "object_position": null,
            "object_fit": null,
            "grid_auto_columns": null,
            "margin": null,
            "display": null,
            "left": null
          }
        },
        "b72f64b790cf4d7197a646539dac1997": {
          "model_module": "@jupyter-widgets/controls",
          "model_name": "HBoxModel",
          "model_module_version": "1.5.0",
          "state": {
            "_view_name": "HBoxView",
            "_dom_classes": [],
            "_model_name": "HBoxModel",
            "_view_module": "@jupyter-widgets/controls",
            "_model_module_version": "1.5.0",
            "_view_count": null,
            "_view_module_version": "1.5.0",
            "box_style": "",
            "layout": "IPY_MODEL_51b7c93343a444c1ac0230a326cb9210",
            "_model_module": "@jupyter-widgets/controls",
            "children": [
              "IPY_MODEL_801041f315144e32a003da0d5c3feff4",
              "IPY_MODEL_d249bf50f5664578ab80e150e3492202",
              "IPY_MODEL_b561dac5c28f482397710a558c88472f"
            ]
          }
        },
        "51b7c93343a444c1ac0230a326cb9210": {
          "model_module": "@jupyter-widgets/base",
          "model_name": "LayoutModel",
          "model_module_version": "1.2.0",
          "state": {
            "_view_name": "LayoutView",
            "grid_template_rows": null,
            "right": null,
            "justify_content": null,
            "_view_module": "@jupyter-widgets/base",
            "overflow": null,
            "_model_module_version": "1.2.0",
            "_view_count": null,
            "flex_flow": null,
            "width": null,
            "min_width": null,
            "border": null,
            "align_items": null,
            "bottom": null,
            "_model_module": "@jupyter-widgets/base",
            "top": null,
            "grid_column": null,
            "overflow_y": null,
            "overflow_x": null,
            "grid_auto_flow": null,
            "grid_area": null,
            "grid_template_columns": null,
            "flex": null,
            "_model_name": "LayoutModel",
            "justify_items": null,
            "grid_row": null,
            "max_height": null,
            "align_content": null,
            "visibility": null,
            "align_self": null,
            "height": null,
            "min_height": null,
            "padding": null,
            "grid_auto_rows": null,
            "grid_gap": null,
            "max_width": null,
            "order": null,
            "_view_module_version": "1.2.0",
            "grid_template_areas": null,
            "object_position": null,
            "object_fit": null,
            "grid_auto_columns": null,
            "margin": null,
            "display": null,
            "left": null
          }
        },
        "801041f315144e32a003da0d5c3feff4": {
          "model_module": "@jupyter-widgets/controls",
          "model_name": "HTMLModel",
          "model_module_version": "1.5.0",
          "state": {
            "_view_name": "HTMLView",
            "style": "IPY_MODEL_3ad72ac5703d496b9d1c1c54b1270c85",
            "_dom_classes": [],
            "description": "",
            "_model_name": "HTMLModel",
            "placeholder": "​",
            "_view_module": "@jupyter-widgets/controls",
            "_model_module_version": "1.5.0",
            "value": "Downloading: 100%",
            "_view_count": null,
            "_view_module_version": "1.5.0",
            "description_tooltip": null,
            "_model_module": "@jupyter-widgets/controls",
            "layout": "IPY_MODEL_843acefcb0d14f708666efb3b8c1724a"
          }
        },
        "d249bf50f5664578ab80e150e3492202": {
          "model_module": "@jupyter-widgets/controls",
          "model_name": "FloatProgressModel",
          "model_module_version": "1.5.0",
          "state": {
            "_view_name": "ProgressView",
            "style": "IPY_MODEL_3ed09012860b49c1b6a3a5cb59f11e17",
            "_dom_classes": [],
            "description": "",
            "_model_name": "FloatProgressModel",
            "bar_style": "success",
            "max": 354041576,
            "_view_module": "@jupyter-widgets/controls",
            "_model_module_version": "1.5.0",
            "value": 354041576,
            "_view_count": null,
            "_view_module_version": "1.5.0",
            "orientation": "horizontal",
            "min": 0,
            "description_tooltip": null,
            "_model_module": "@jupyter-widgets/controls",
            "layout": "IPY_MODEL_957e4463e57943a38e584aa993cd62eb"
          }
        },
        "b561dac5c28f482397710a558c88472f": {
          "model_module": "@jupyter-widgets/controls",
          "model_name": "HTMLModel",
          "model_module_version": "1.5.0",
          "state": {
            "_view_name": "HTMLView",
            "style": "IPY_MODEL_29dbb59b41e946749f6bf55de30e6fbe",
            "_dom_classes": [],
            "description": "",
            "_model_name": "HTMLModel",
            "placeholder": "​",
            "_view_module": "@jupyter-widgets/controls",
            "_model_module_version": "1.5.0",
            "value": " 338M/338M [00:11&lt;00:00, 30.5MB/s]",
            "_view_count": null,
            "_view_module_version": "1.5.0",
            "description_tooltip": null,
            "_model_module": "@jupyter-widgets/controls",
            "layout": "IPY_MODEL_83c1d25ceabf47ff9ec8df87b6c25f10"
          }
        },
        "3ad72ac5703d496b9d1c1c54b1270c85": {
          "model_module": "@jupyter-widgets/controls",
          "model_name": "DescriptionStyleModel",
          "model_module_version": "1.5.0",
          "state": {
            "_view_name": "StyleView",
            "_model_name": "DescriptionStyleModel",
            "description_width": "",
            "_view_module": "@jupyter-widgets/base",
            "_model_module_version": "1.5.0",
            "_view_count": null,
            "_view_module_version": "1.2.0",
            "_model_module": "@jupyter-widgets/controls"
          }
        },
        "843acefcb0d14f708666efb3b8c1724a": {
          "model_module": "@jupyter-widgets/base",
          "model_name": "LayoutModel",
          "model_module_version": "1.2.0",
          "state": {
            "_view_name": "LayoutView",
            "grid_template_rows": null,
            "right": null,
            "justify_content": null,
            "_view_module": "@jupyter-widgets/base",
            "overflow": null,
            "_model_module_version": "1.2.0",
            "_view_count": null,
            "flex_flow": null,
            "width": null,
            "min_width": null,
            "border": null,
            "align_items": null,
            "bottom": null,
            "_model_module": "@jupyter-widgets/base",
            "top": null,
            "grid_column": null,
            "overflow_y": null,
            "overflow_x": null,
            "grid_auto_flow": null,
            "grid_area": null,
            "grid_template_columns": null,
            "flex": null,
            "_model_name": "LayoutModel",
            "justify_items": null,
            "grid_row": null,
            "max_height": null,
            "align_content": null,
            "visibility": null,
            "align_self": null,
            "height": null,
            "min_height": null,
            "padding": null,
            "grid_auto_rows": null,
            "grid_gap": null,
            "max_width": null,
            "order": null,
            "_view_module_version": "1.2.0",
            "grid_template_areas": null,
            "object_position": null,
            "object_fit": null,
            "grid_auto_columns": null,
            "margin": null,
            "display": null,
            "left": null
          }
        },
        "3ed09012860b49c1b6a3a5cb59f11e17": {
          "model_module": "@jupyter-widgets/controls",
          "model_name": "ProgressStyleModel",
          "model_module_version": "1.5.0",
          "state": {
            "_view_name": "StyleView",
            "_model_name": "ProgressStyleModel",
            "description_width": "",
            "_view_module": "@jupyter-widgets/base",
            "_model_module_version": "1.5.0",
            "_view_count": null,
            "_view_module_version": "1.2.0",
            "bar_color": null,
            "_model_module": "@jupyter-widgets/controls"
          }
        },
        "957e4463e57943a38e584aa993cd62eb": {
          "model_module": "@jupyter-widgets/base",
          "model_name": "LayoutModel",
          "model_module_version": "1.2.0",
          "state": {
            "_view_name": "LayoutView",
            "grid_template_rows": null,
            "right": null,
            "justify_content": null,
            "_view_module": "@jupyter-widgets/base",
            "overflow": null,
            "_model_module_version": "1.2.0",
            "_view_count": null,
            "flex_flow": null,
            "width": null,
            "min_width": null,
            "border": null,
            "align_items": null,
            "bottom": null,
            "_model_module": "@jupyter-widgets/base",
            "top": null,
            "grid_column": null,
            "overflow_y": null,
            "overflow_x": null,
            "grid_auto_flow": null,
            "grid_area": null,
            "grid_template_columns": null,
            "flex": null,
            "_model_name": "LayoutModel",
            "justify_items": null,
            "grid_row": null,
            "max_height": null,
            "align_content": null,
            "visibility": null,
            "align_self": null,
            "height": null,
            "min_height": null,
            "padding": null,
            "grid_auto_rows": null,
            "grid_gap": null,
            "max_width": null,
            "order": null,
            "_view_module_version": "1.2.0",
            "grid_template_areas": null,
            "object_position": null,
            "object_fit": null,
            "grid_auto_columns": null,
            "margin": null,
            "display": null,
            "left": null
          }
        },
        "29dbb59b41e946749f6bf55de30e6fbe": {
          "model_module": "@jupyter-widgets/controls",
          "model_name": "DescriptionStyleModel",
          "model_module_version": "1.5.0",
          "state": {
            "_view_name": "StyleView",
            "_model_name": "DescriptionStyleModel",
            "description_width": "",
            "_view_module": "@jupyter-widgets/base",
            "_model_module_version": "1.5.0",
            "_view_count": null,
            "_view_module_version": "1.2.0",
            "_model_module": "@jupyter-widgets/controls"
          }
        },
        "83c1d25ceabf47ff9ec8df87b6c25f10": {
          "model_module": "@jupyter-widgets/base",
          "model_name": "LayoutModel",
          "model_module_version": "1.2.0",
          "state": {
            "_view_name": "LayoutView",
            "grid_template_rows": null,
            "right": null,
            "justify_content": null,
            "_view_module": "@jupyter-widgets/base",
            "overflow": null,
            "_model_module_version": "1.2.0",
            "_view_count": null,
            "flex_flow": null,
            "width": null,
            "min_width": null,
            "border": null,
            "align_items": null,
            "bottom": null,
            "_model_module": "@jupyter-widgets/base",
            "top": null,
            "grid_column": null,
            "overflow_y": null,
            "overflow_x": null,
            "grid_auto_flow": null,
            "grid_area": null,
            "grid_template_columns": null,
            "flex": null,
            "_model_name": "LayoutModel",
            "justify_items": null,
            "grid_row": null,
            "max_height": null,
            "align_content": null,
            "visibility": null,
            "align_self": null,
            "height": null,
            "min_height": null,
            "padding": null,
            "grid_auto_rows": null,
            "grid_gap": null,
            "max_width": null,
            "order": null,
            "_view_module_version": "1.2.0",
            "grid_template_areas": null,
            "object_position": null,
            "object_fit": null,
            "grid_auto_columns": null,
            "margin": null,
            "display": null,
            "left": null
          }
        }
      }
    }
  },
  "cells": [
    {
      "cell_type": "markdown",
      "metadata": {
        "id": "view-in-github",
        "colab_type": "text"
      },
      "source": [
        "<a href=\"https://colab.research.google.com/github/sergiorolnic/anonim/blob/main/Untitled5.ipynb\" target=\"_parent\"><img src=\"https://colab.research.google.com/assets/colab-badge.svg\" alt=\"Open In Colab\"/></a>"
      ]
    },
    {
      "cell_type": "code",
      "metadata": {
        "id": "NppV22s2Jpky"
      },
      "source": [
        "import os.path\n",
        "import numpy as np\n",
        "import pandas as pd"
      ],
      "execution_count": 1,
      "outputs": []
    },
    {
      "cell_type": "code",
      "metadata": {
        "colab": {
          "base_uri": "https://localhost:8080/"
        },
        "id": "fqRGxLjBPZd3",
        "outputId": "1ec59db7-7c98-4f85-bac7-47703268a0ad"
      },
      "source": [
        "pip install transformers datasets\n"
      ],
      "execution_count": 2,
      "outputs": [
        {
          "output_type": "stream",
          "name": "stdout",
          "text": [
            "Requirement already satisfied: transformers in /usr/local/lib/python3.7/dist-packages (4.12.5)\n",
            "Requirement already satisfied: datasets in /usr/local/lib/python3.7/dist-packages (1.16.1)\n",
            "Requirement already satisfied: requests in /usr/local/lib/python3.7/dist-packages (from transformers) (2.23.0)\n",
            "Requirement already satisfied: tqdm>=4.27 in /usr/local/lib/python3.7/dist-packages (from transformers) (4.62.3)\n",
            "Requirement already satisfied: packaging>=20.0 in /usr/local/lib/python3.7/dist-packages (from transformers) (21.3)\n",
            "Requirement already satisfied: pyyaml>=5.1 in /usr/local/lib/python3.7/dist-packages (from transformers) (6.0)\n",
            "Requirement already satisfied: tokenizers<0.11,>=0.10.1 in /usr/local/lib/python3.7/dist-packages (from transformers) (0.10.3)\n",
            "Requirement already satisfied: regex!=2019.12.17 in /usr/local/lib/python3.7/dist-packages (from transformers) (2019.12.20)\n",
            "Requirement already satisfied: filelock in /usr/local/lib/python3.7/dist-packages (from transformers) (3.4.0)\n",
            "Requirement already satisfied: sacremoses in /usr/local/lib/python3.7/dist-packages (from transformers) (0.0.46)\n",
            "Requirement already satisfied: importlib-metadata in /usr/local/lib/python3.7/dist-packages (from transformers) (4.8.2)\n",
            "Requirement already satisfied: numpy>=1.17 in /usr/local/lib/python3.7/dist-packages (from transformers) (1.19.5)\n",
            "Requirement already satisfied: huggingface-hub<1.0,>=0.1.0 in /usr/local/lib/python3.7/dist-packages (from transformers) (0.2.0)\n",
            "Requirement already satisfied: typing-extensions>=3.7.4.3 in /usr/local/lib/python3.7/dist-packages (from huggingface-hub<1.0,>=0.1.0->transformers) (3.10.0.2)\n",
            "Requirement already satisfied: pyparsing!=3.0.5,>=2.0.2 in /usr/local/lib/python3.7/dist-packages (from packaging>=20.0->transformers) (3.0.6)\n",
            "Requirement already satisfied: dill in /usr/local/lib/python3.7/dist-packages (from datasets) (0.3.4)\n",
            "Requirement already satisfied: multiprocess in /usr/local/lib/python3.7/dist-packages (from datasets) (0.70.12.2)\n",
            "Requirement already satisfied: pandas in /usr/local/lib/python3.7/dist-packages (from datasets) (1.1.5)\n",
            "Requirement already satisfied: pyarrow!=4.0.0,>=3.0.0 in /usr/local/lib/python3.7/dist-packages (from datasets) (3.0.0)\n",
            "Requirement already satisfied: aiohttp in /usr/local/lib/python3.7/dist-packages (from datasets) (3.8.1)\n",
            "Requirement already satisfied: fsspec[http]>=2021.05.0 in /usr/local/lib/python3.7/dist-packages (from datasets) (2021.11.1)\n",
            "Requirement already satisfied: xxhash in /usr/local/lib/python3.7/dist-packages (from datasets) (2.0.2)\n",
            "Requirement already satisfied: urllib3!=1.25.0,!=1.25.1,<1.26,>=1.21.1 in /usr/local/lib/python3.7/dist-packages (from requests->transformers) (1.24.3)\n",
            "Requirement already satisfied: chardet<4,>=3.0.2 in /usr/local/lib/python3.7/dist-packages (from requests->transformers) (3.0.4)\n",
            "Requirement already satisfied: idna<3,>=2.5 in /usr/local/lib/python3.7/dist-packages (from requests->transformers) (2.10)\n",
            "Requirement already satisfied: certifi>=2017.4.17 in /usr/local/lib/python3.7/dist-packages (from requests->transformers) (2021.10.8)\n",
            "Requirement already satisfied: multidict<7.0,>=4.5 in /usr/local/lib/python3.7/dist-packages (from aiohttp->datasets) (5.2.0)\n",
            "Requirement already satisfied: frozenlist>=1.1.1 in /usr/local/lib/python3.7/dist-packages (from aiohttp->datasets) (1.2.0)\n",
            "Requirement already satisfied: aiosignal>=1.1.2 in /usr/local/lib/python3.7/dist-packages (from aiohttp->datasets) (1.2.0)\n",
            "Requirement already satisfied: charset-normalizer<3.0,>=2.0 in /usr/local/lib/python3.7/dist-packages (from aiohttp->datasets) (2.0.8)\n",
            "Requirement already satisfied: yarl<2.0,>=1.0 in /usr/local/lib/python3.7/dist-packages (from aiohttp->datasets) (1.7.2)\n",
            "Requirement already satisfied: asynctest==0.13.0 in /usr/local/lib/python3.7/dist-packages (from aiohttp->datasets) (0.13.0)\n",
            "Requirement already satisfied: async-timeout<5.0,>=4.0.0a3 in /usr/local/lib/python3.7/dist-packages (from aiohttp->datasets) (4.0.1)\n",
            "Requirement already satisfied: attrs>=17.3.0 in /usr/local/lib/python3.7/dist-packages (from aiohttp->datasets) (21.2.0)\n",
            "Requirement already satisfied: zipp>=0.5 in /usr/local/lib/python3.7/dist-packages (from importlib-metadata->transformers) (3.6.0)\n",
            "Requirement already satisfied: python-dateutil>=2.7.3 in /usr/local/lib/python3.7/dist-packages (from pandas->datasets) (2.8.2)\n",
            "Requirement already satisfied: pytz>=2017.2 in /usr/local/lib/python3.7/dist-packages (from pandas->datasets) (2018.9)\n",
            "Requirement already satisfied: six>=1.5 in /usr/local/lib/python3.7/dist-packages (from python-dateutil>=2.7.3->pandas->datasets) (1.15.0)\n",
            "Requirement already satisfied: click in /usr/local/lib/python3.7/dist-packages (from sacremoses->transformers) (7.1.2)\n",
            "Requirement already satisfied: joblib in /usr/local/lib/python3.7/dist-packages (from sacremoses->transformers) (1.1.0)\n"
          ]
        }
      ]
    },
    {
      "cell_type": "markdown",
      "metadata": {
        "id": "r8_fVsdKPNYI"
      },
      "source": [
        "# Create Data"
      ]
    },
    {
      "cell_type": "code",
      "metadata": {
        "id": "vQlaW4iQJsTH"
      },
      "source": [
        "df = pd.read_json(\"https://raw.githubusercontent.com/sergiorolnic/anonim/main/data/esempio.json\")"
      ],
      "execution_count": 3,
      "outputs": []
    },
    {
      "cell_type": "code",
      "metadata": {
        "id": "CoMgn5-wPsW_"
      },
      "source": [
        ""
      ],
      "execution_count": null,
      "outputs": []
    },
    {
      "cell_type": "code",
      "metadata": {
        "id": "4WBQT83FPjbf"
      },
      "source": [
        "cn = pd.read_csv('https://raw.githubusercontent.com/nicolomantini/lista_cognomi_italiani/master/cognomi.txt', header=None)\n",
        "cn.columns = [\"Cognome\"]"
      ],
      "execution_count": 4,
      "outputs": []
    },
    {
      "cell_type": "code",
      "metadata": {
        "colab": {
          "base_uri": "https://localhost:8080/",
          "height": 112
        },
        "id": "JFdXeVjrQyjN",
        "outputId": "621f773e-8362-435e-cc08-460119d4237f"
      },
      "source": [
        "cn.head(2)"
      ],
      "execution_count": 5,
      "outputs": [
        {
          "output_type": "execute_result",
          "data": {
            "text/html": [
              "<div>\n",
              "<style scoped>\n",
              "    .dataframe tbody tr th:only-of-type {\n",
              "        vertical-align: middle;\n",
              "    }\n",
              "\n",
              "    .dataframe tbody tr th {\n",
              "        vertical-align: top;\n",
              "    }\n",
              "\n",
              "    .dataframe thead th {\n",
              "        text-align: right;\n",
              "    }\n",
              "</style>\n",
              "<table border=\"1\" class=\"dataframe\">\n",
              "  <thead>\n",
              "    <tr style=\"text-align: right;\">\n",
              "      <th></th>\n",
              "      <th>Cognome</th>\n",
              "    </tr>\n",
              "  </thead>\n",
              "  <tbody>\n",
              "    <tr>\n",
              "      <th>0</th>\n",
              "      <td>Abagnale</td>\n",
              "    </tr>\n",
              "    <tr>\n",
              "      <th>1</th>\n",
              "      <td>Abagnali</td>\n",
              "    </tr>\n",
              "  </tbody>\n",
              "</table>\n",
              "</div>"
            ],
            "text/plain": [
              "    Cognome\n",
              "0  Abagnale\n",
              "1  Abagnali"
            ]
          },
          "metadata": {},
          "execution_count": 5
        }
      ]
    },
    {
      "cell_type": "code",
      "metadata": {
        "id": "MF52bFdaSVRm"
      },
      "source": [
        "femal_name = pd.read_json('https://raw.githubusercontent.com/sergiorolnic/anonim/main/data/ITGivenFemale.json')\n"
      ],
      "execution_count": 5,
      "outputs": []
    },
    {
      "cell_type": "code",
      "metadata": {
        "colab": {
          "base_uri": "https://localhost:8080/",
          "height": 423
        },
        "id": "Rn6jDLvCSjER",
        "outputId": "8d04e35b-c6b0-4691-d4aa-44600516f834"
      },
      "source": [
        "femal_name[100:200]"
      ],
      "execution_count": 49,
      "outputs": [
        {
          "output_type": "execute_result",
          "data": {
            "text/html": [
              "<div>\n",
              "<style scoped>\n",
              "    .dataframe tbody tr th:only-of-type {\n",
              "        vertical-align: middle;\n",
              "    }\n",
              "\n",
              "    .dataframe tbody tr th {\n",
              "        vertical-align: top;\n",
              "    }\n",
              "\n",
              "    .dataframe thead th {\n",
              "        text-align: right;\n",
              "    }\n",
              "</style>\n",
              "<table border=\"1\" class=\"dataframe\">\n",
              "  <thead>\n",
              "    <tr style=\"text-align: right;\">\n",
              "      <th></th>\n",
              "      <th>name</th>\n",
              "      <th>gender</th>\n",
              "      <th>culture</th>\n",
              "    </tr>\n",
              "  </thead>\n",
              "  <tbody>\n",
              "    <tr>\n",
              "      <th>100</th>\n",
              "      <td>Albsana</td>\n",
              "      <td>F</td>\n",
              "      <td>IT</td>\n",
              "    </tr>\n",
              "    <tr>\n",
              "      <th>101</th>\n",
              "      <td>Albania</td>\n",
              "      <td>F</td>\n",
              "      <td>IT</td>\n",
              "    </tr>\n",
              "    <tr>\n",
              "      <th>102</th>\n",
              "      <td>Albarosa</td>\n",
              "      <td>F</td>\n",
              "      <td>IT</td>\n",
              "    </tr>\n",
              "    <tr>\n",
              "      <th>103</th>\n",
              "      <td>Alberica</td>\n",
              "      <td>F</td>\n",
              "      <td>IT</td>\n",
              "    </tr>\n",
              "    <tr>\n",
              "      <th>104</th>\n",
              "      <td>Alberice</td>\n",
              "      <td>F</td>\n",
              "      <td>IT</td>\n",
              "    </tr>\n",
              "    <tr>\n",
              "      <th>...</th>\n",
              "      <td>...</td>\n",
              "      <td>...</td>\n",
              "      <td>...</td>\n",
              "    </tr>\n",
              "    <tr>\n",
              "      <th>195</th>\n",
              "      <td>Alvara</td>\n",
              "      <td>F</td>\n",
              "      <td>IT</td>\n",
              "    </tr>\n",
              "    <tr>\n",
              "      <th>196</th>\n",
              "      <td>Alvarina</td>\n",
              "      <td>F</td>\n",
              "      <td>IT</td>\n",
              "    </tr>\n",
              "    <tr>\n",
              "      <th>197</th>\n",
              "      <td>Alvisa</td>\n",
              "      <td>F</td>\n",
              "      <td>IT</td>\n",
              "    </tr>\n",
              "    <tr>\n",
              "      <th>198</th>\n",
              "      <td>Alvisia</td>\n",
              "      <td>F</td>\n",
              "      <td>IT</td>\n",
              "    </tr>\n",
              "    <tr>\n",
              "      <th>199</th>\n",
              "      <td>Amabile</td>\n",
              "      <td>F</td>\n",
              "      <td>IT</td>\n",
              "    </tr>\n",
              "  </tbody>\n",
              "</table>\n",
              "<p>100 rows × 3 columns</p>\n",
              "</div>"
            ],
            "text/plain": [
              "         name gender culture\n",
              "100   Albsana      F      IT\n",
              "101   Albania      F      IT\n",
              "102  Albarosa      F      IT\n",
              "103  Alberica      F      IT\n",
              "104  Alberice      F      IT\n",
              "..        ...    ...     ...\n",
              "195    Alvara      F      IT\n",
              "196  Alvarina      F      IT\n",
              "197    Alvisa      F      IT\n",
              "198   Alvisia      F      IT\n",
              "199   Amabile      F      IT\n",
              "\n",
              "[100 rows x 3 columns]"
            ]
          },
          "metadata": {},
          "execution_count": 49
        }
      ]
    },
    {
      "cell_type": "code",
      "metadata": {
        "id": "3s4ku6PPR_Fq"
      },
      "source": [
        "male_name = pd.read_json('https://raw.githubusercontent.com/sergiorolnic/anonim/main/data/ITGivenMale.json')"
      ],
      "execution_count": 6,
      "outputs": []
    },
    {
      "cell_type": "code",
      "metadata": {
        "colab": {
          "base_uri": "https://localhost:8080/",
          "height": 423
        },
        "id": "wcy43VpCUVis",
        "outputId": "a414e714-6226-4fcf-a34b-44d4929da8cd"
      },
      "source": [
        "male_name"
      ],
      "execution_count": 46,
      "outputs": [
        {
          "output_type": "execute_result",
          "data": {
            "text/html": [
              "<div>\n",
              "<style scoped>\n",
              "    .dataframe tbody tr th:only-of-type {\n",
              "        vertical-align: middle;\n",
              "    }\n",
              "\n",
              "    .dataframe tbody tr th {\n",
              "        vertical-align: top;\n",
              "    }\n",
              "\n",
              "    .dataframe thead th {\n",
              "        text-align: right;\n",
              "    }\n",
              "</style>\n",
              "<table border=\"1\" class=\"dataframe\">\n",
              "  <thead>\n",
              "    <tr style=\"text-align: right;\">\n",
              "      <th></th>\n",
              "      <th>name</th>\n",
              "      <th>gender</th>\n",
              "      <th>culture</th>\n",
              "    </tr>\n",
              "  </thead>\n",
              "  <tbody>\n",
              "    <tr>\n",
              "      <th>0</th>\n",
              "      <td>Abaco</td>\n",
              "      <td>M</td>\n",
              "      <td>IT</td>\n",
              "    </tr>\n",
              "    <tr>\n",
              "      <th>1</th>\n",
              "      <td>Abbondanzio</td>\n",
              "      <td>M</td>\n",
              "      <td>IT</td>\n",
              "    </tr>\n",
              "    <tr>\n",
              "      <th>2</th>\n",
              "      <td>Abbondazio</td>\n",
              "      <td>M</td>\n",
              "      <td>IT</td>\n",
              "    </tr>\n",
              "    <tr>\n",
              "      <th>3</th>\n",
              "      <td>Abbondio</td>\n",
              "      <td>M</td>\n",
              "      <td>IT</td>\n",
              "    </tr>\n",
              "    <tr>\n",
              "      <th>4</th>\n",
              "      <td>Abdenago</td>\n",
              "      <td>M</td>\n",
              "      <td>IT</td>\n",
              "    </tr>\n",
              "    <tr>\n",
              "      <th>...</th>\n",
              "      <td>...</td>\n",
              "      <td>...</td>\n",
              "      <td>...</td>\n",
              "    </tr>\n",
              "    <tr>\n",
              "      <th>4994</th>\n",
              "      <td>Zolferino</td>\n",
              "      <td>M</td>\n",
              "      <td>IT</td>\n",
              "    </tr>\n",
              "    <tr>\n",
              "      <th>4995</th>\n",
              "      <td>Zopito</td>\n",
              "      <td>M</td>\n",
              "      <td>IT</td>\n",
              "    </tr>\n",
              "    <tr>\n",
              "      <th>4996</th>\n",
              "      <td>Zoraido</td>\n",
              "      <td>M</td>\n",
              "      <td>IT</td>\n",
              "    </tr>\n",
              "    <tr>\n",
              "      <th>4997</th>\n",
              "      <td>Zosimo</td>\n",
              "      <td>M</td>\n",
              "      <td>IT</td>\n",
              "    </tr>\n",
              "    <tr>\n",
              "      <th>4998</th>\n",
              "      <td>Zulino</td>\n",
              "      <td>M</td>\n",
              "      <td>IT</td>\n",
              "    </tr>\n",
              "  </tbody>\n",
              "</table>\n",
              "<p>4999 rows × 3 columns</p>\n",
              "</div>"
            ],
            "text/plain": [
              "             name gender culture\n",
              "0           Abaco      M      IT\n",
              "1     Abbondanzio      M      IT\n",
              "2      Abbondazio      M      IT\n",
              "3        Abbondio      M      IT\n",
              "4        Abdenago      M      IT\n",
              "...           ...    ...     ...\n",
              "4994    Zolferino      M      IT\n",
              "4995       Zopito      M      IT\n",
              "4996      Zoraido      M      IT\n",
              "4997       Zosimo      M      IT\n",
              "4998       Zulino      M      IT\n",
              "\n",
              "[4999 rows x 3 columns]"
            ]
          },
          "metadata": {},
          "execution_count": 46
        }
      ]
    },
    {
      "cell_type": "code",
      "metadata": {
        "id": "GhhZBbJaVcow"
      },
      "source": [
        "mixt = pd.concat([male_name,femal_name])"
      ],
      "execution_count": 7,
      "outputs": []
    },
    {
      "cell_type": "code",
      "metadata": {
        "id": "baEODYdtcacm",
        "outputId": "24a82d63-34ae-41a7-a814-a621c4c54e8e",
        "colab": {
          "base_uri": "https://localhost:8080/",
          "height": 423
        }
      },
      "source": [
        "mixt"
      ],
      "execution_count": 75,
      "outputs": [
        {
          "output_type": "execute_result",
          "data": {
            "text/html": [
              "<div>\n",
              "<style scoped>\n",
              "    .dataframe tbody tr th:only-of-type {\n",
              "        vertical-align: middle;\n",
              "    }\n",
              "\n",
              "    .dataframe tbody tr th {\n",
              "        vertical-align: top;\n",
              "    }\n",
              "\n",
              "    .dataframe thead th {\n",
              "        text-align: right;\n",
              "    }\n",
              "</style>\n",
              "<table border=\"1\" class=\"dataframe\">\n",
              "  <thead>\n",
              "    <tr style=\"text-align: right;\">\n",
              "      <th></th>\n",
              "      <th>name</th>\n",
              "      <th>gender</th>\n",
              "      <th>culture</th>\n",
              "    </tr>\n",
              "  </thead>\n",
              "  <tbody>\n",
              "    <tr>\n",
              "      <th>0</th>\n",
              "      <td>Abaco</td>\n",
              "      <td>M</td>\n",
              "      <td>IT</td>\n",
              "    </tr>\n",
              "    <tr>\n",
              "      <th>1</th>\n",
              "      <td>Abbondanzio</td>\n",
              "      <td>M</td>\n",
              "      <td>IT</td>\n",
              "    </tr>\n",
              "    <tr>\n",
              "      <th>2</th>\n",
              "      <td>Abbondazio</td>\n",
              "      <td>M</td>\n",
              "      <td>IT</td>\n",
              "    </tr>\n",
              "    <tr>\n",
              "      <th>3</th>\n",
              "      <td>Abbondio</td>\n",
              "      <td>M</td>\n",
              "      <td>IT</td>\n",
              "    </tr>\n",
              "    <tr>\n",
              "      <th>4</th>\n",
              "      <td>Abdenago</td>\n",
              "      <td>M</td>\n",
              "      <td>IT</td>\n",
              "    </tr>\n",
              "    <tr>\n",
              "      <th>...</th>\n",
              "      <td>...</td>\n",
              "      <td>...</td>\n",
              "      <td>...</td>\n",
              "    </tr>\n",
              "    <tr>\n",
              "      <th>4082</th>\n",
              "      <td>Zola</td>\n",
              "      <td>F</td>\n",
              "      <td>IT</td>\n",
              "    </tr>\n",
              "    <tr>\n",
              "      <th>4083</th>\n",
              "      <td>Zolia</td>\n",
              "      <td>F</td>\n",
              "      <td>IT</td>\n",
              "    </tr>\n",
              "    <tr>\n",
              "      <th>4084</th>\n",
              "      <td>Zopita</td>\n",
              "      <td>F</td>\n",
              "      <td>IT</td>\n",
              "    </tr>\n",
              "    <tr>\n",
              "      <th>4085</th>\n",
              "      <td>Zoraide</td>\n",
              "      <td>F</td>\n",
              "      <td>IT</td>\n",
              "    </tr>\n",
              "    <tr>\n",
              "      <th>4086</th>\n",
              "      <td>Zulina</td>\n",
              "      <td>F</td>\n",
              "      <td>IT</td>\n",
              "    </tr>\n",
              "  </tbody>\n",
              "</table>\n",
              "<p>9086 rows × 3 columns</p>\n",
              "</div>"
            ],
            "text/plain": [
              "             name gender culture\n",
              "0           Abaco      M      IT\n",
              "1     Abbondanzio      M      IT\n",
              "2      Abbondazio      M      IT\n",
              "3        Abbondio      M      IT\n",
              "4        Abdenago      M      IT\n",
              "...           ...    ...     ...\n",
              "4082         Zola      F      IT\n",
              "4083        Zolia      F      IT\n",
              "4084       Zopita      F      IT\n",
              "4085      Zoraide      F      IT\n",
              "4086       Zulina      F      IT\n",
              "\n",
              "[9086 rows x 3 columns]"
            ]
          },
          "metadata": {},
          "execution_count": 75
        }
      ]
    },
    {
      "cell_type": "code",
      "metadata": {
        "id": "_so-HNWJdADm"
      },
      "source": [
        "index = pd.Index(range(1, 9087, 1))"
      ],
      "execution_count": 8,
      "outputs": []
    },
    {
      "cell_type": "code",
      "metadata": {
        "id": "kwxobDwxZ3x4",
        "outputId": "3541bb79-ddea-46ac-d974-1becdf74f3e7",
        "colab": {
          "base_uri": "https://localhost:8080/",
          "height": 423
        }
      },
      "source": [
        "mixt.set_index(index)"
      ],
      "execution_count": 9,
      "outputs": [
        {
          "output_type": "execute_result",
          "data": {
            "text/html": [
              "<div>\n",
              "<style scoped>\n",
              "    .dataframe tbody tr th:only-of-type {\n",
              "        vertical-align: middle;\n",
              "    }\n",
              "\n",
              "    .dataframe tbody tr th {\n",
              "        vertical-align: top;\n",
              "    }\n",
              "\n",
              "    .dataframe thead th {\n",
              "        text-align: right;\n",
              "    }\n",
              "</style>\n",
              "<table border=\"1\" class=\"dataframe\">\n",
              "  <thead>\n",
              "    <tr style=\"text-align: right;\">\n",
              "      <th></th>\n",
              "      <th>name</th>\n",
              "      <th>gender</th>\n",
              "      <th>culture</th>\n",
              "    </tr>\n",
              "  </thead>\n",
              "  <tbody>\n",
              "    <tr>\n",
              "      <th>1</th>\n",
              "      <td>Abaco</td>\n",
              "      <td>M</td>\n",
              "      <td>IT</td>\n",
              "    </tr>\n",
              "    <tr>\n",
              "      <th>2</th>\n",
              "      <td>Abbondanzio</td>\n",
              "      <td>M</td>\n",
              "      <td>IT</td>\n",
              "    </tr>\n",
              "    <tr>\n",
              "      <th>3</th>\n",
              "      <td>Abbondazio</td>\n",
              "      <td>M</td>\n",
              "      <td>IT</td>\n",
              "    </tr>\n",
              "    <tr>\n",
              "      <th>4</th>\n",
              "      <td>Abbondio</td>\n",
              "      <td>M</td>\n",
              "      <td>IT</td>\n",
              "    </tr>\n",
              "    <tr>\n",
              "      <th>5</th>\n",
              "      <td>Abdenago</td>\n",
              "      <td>M</td>\n",
              "      <td>IT</td>\n",
              "    </tr>\n",
              "    <tr>\n",
              "      <th>...</th>\n",
              "      <td>...</td>\n",
              "      <td>...</td>\n",
              "      <td>...</td>\n",
              "    </tr>\n",
              "    <tr>\n",
              "      <th>9082</th>\n",
              "      <td>Zola</td>\n",
              "      <td>F</td>\n",
              "      <td>IT</td>\n",
              "    </tr>\n",
              "    <tr>\n",
              "      <th>9083</th>\n",
              "      <td>Zolia</td>\n",
              "      <td>F</td>\n",
              "      <td>IT</td>\n",
              "    </tr>\n",
              "    <tr>\n",
              "      <th>9084</th>\n",
              "      <td>Zopita</td>\n",
              "      <td>F</td>\n",
              "      <td>IT</td>\n",
              "    </tr>\n",
              "    <tr>\n",
              "      <th>9085</th>\n",
              "      <td>Zoraide</td>\n",
              "      <td>F</td>\n",
              "      <td>IT</td>\n",
              "    </tr>\n",
              "    <tr>\n",
              "      <th>9086</th>\n",
              "      <td>Zulina</td>\n",
              "      <td>F</td>\n",
              "      <td>IT</td>\n",
              "    </tr>\n",
              "  </tbody>\n",
              "</table>\n",
              "<p>9086 rows × 3 columns</p>\n",
              "</div>"
            ],
            "text/plain": [
              "             name gender culture\n",
              "1           Abaco      M      IT\n",
              "2     Abbondanzio      M      IT\n",
              "3      Abbondazio      M      IT\n",
              "4        Abbondio      M      IT\n",
              "5        Abdenago      M      IT\n",
              "...           ...    ...     ...\n",
              "9082         Zola      F      IT\n",
              "9083        Zolia      F      IT\n",
              "9084       Zopita      F      IT\n",
              "9085      Zoraide      F      IT\n",
              "9086       Zulina      F      IT\n",
              "\n",
              "[9086 rows x 3 columns]"
            ]
          },
          "metadata": {},
          "execution_count": 9
        }
      ]
    },
    {
      "cell_type": "code",
      "metadata": {
        "id": "N5u-VlZNakkS",
        "outputId": "6815c517-fd2d-4a37-ce9d-542efe34ca58",
        "colab": {
          "base_uri": "https://localhost:8080/",
          "height": 35
        }
      },
      "source": [
        "mixt[\"name\"].iloc[9085]"
      ],
      "execution_count": 9,
      "outputs": [
        {
          "output_type": "execute_result",
          "data": {
            "application/vnd.google.colaboratory.intrinsic+json": {
              "type": "string"
            },
            "text/plain": [
              "'Zulina'"
            ]
          },
          "metadata": {},
          "execution_count": 9
        }
      ]
    },
    {
      "cell_type": "code",
      "metadata": {
        "id": "ebXA2B2hXMgH"
      },
      "source": [
        "def fill_missing(column_val):\n",
        "    if column_val == \"\": \n",
        "        column_val = mixt[\"name\"].iloc[np.random.randint(9086)]\n",
        "    else:\n",
        "         column_val = column_val\n",
        "    return column_val"
      ],
      "execution_count": 10,
      "outputs": []
    },
    {
      "cell_type": "code",
      "metadata": {
        "id": "C6Z5znClep7I"
      },
      "source": [
        "cn[\"name\"] = \"\""
      ],
      "execution_count": 11,
      "outputs": []
    },
    {
      "cell_type": "code",
      "metadata": {
        "id": "wTKgg12nZwQa"
      },
      "source": [
        "cn['name'] = cn['name'].apply(fill_missing) "
      ],
      "execution_count": 12,
      "outputs": []
    },
    {
      "cell_type": "code",
      "metadata": {
        "id": "B7_JajrQfBCV",
        "outputId": "a6cc82ed-3ba0-4de4-8853-05f8c8e846a8",
        "colab": {
          "base_uri": "https://localhost:8080/",
          "height": 423
        }
      },
      "source": [
        "cn"
      ],
      "execution_count": 27,
      "outputs": [
        {
          "output_type": "execute_result",
          "data": {
            "text/html": [
              "<div>\n",
              "<style scoped>\n",
              "    .dataframe tbody tr th:only-of-type {\n",
              "        vertical-align: middle;\n",
              "    }\n",
              "\n",
              "    .dataframe tbody tr th {\n",
              "        vertical-align: top;\n",
              "    }\n",
              "\n",
              "    .dataframe thead th {\n",
              "        text-align: right;\n",
              "    }\n",
              "</style>\n",
              "<table border=\"1\" class=\"dataframe\">\n",
              "  <thead>\n",
              "    <tr style=\"text-align: right;\">\n",
              "      <th></th>\n",
              "      <th>Cognome</th>\n",
              "      <th>name</th>\n",
              "    </tr>\n",
              "  </thead>\n",
              "  <tbody>\n",
              "    <tr>\n",
              "      <th>0</th>\n",
              "      <td>Abagnale</td>\n",
              "      <td>Gigia</td>\n",
              "    </tr>\n",
              "    <tr>\n",
              "      <th>1</th>\n",
              "      <td>Abagnali</td>\n",
              "      <td>Giulietta</td>\n",
              "    </tr>\n",
              "    <tr>\n",
              "      <th>2</th>\n",
              "      <td>Abatangelo</td>\n",
              "      <td>Macallè</td>\n",
              "    </tr>\n",
              "    <tr>\n",
              "      <th>3</th>\n",
              "      <td>Abatantuono</td>\n",
              "      <td>Tullia</td>\n",
              "    </tr>\n",
              "    <tr>\n",
              "      <th>4</th>\n",
              "      <td>Abate</td>\n",
              "      <td>Elvira</td>\n",
              "    </tr>\n",
              "    <tr>\n",
              "      <th>...</th>\n",
              "      <td>...</td>\n",
              "      <td>...</td>\n",
              "    </tr>\n",
              "    <tr>\n",
              "      <th>21736</th>\n",
              "      <td>Zurolo</td>\n",
              "      <td>Caporetto</td>\n",
              "    </tr>\n",
              "    <tr>\n",
              "      <th>21737</th>\n",
              "      <td>Zurri</td>\n",
              "      <td>Solimeno</td>\n",
              "    </tr>\n",
              "    <tr>\n",
              "      <th>21738</th>\n",
              "      <td>Zurrida</td>\n",
              "      <td>Oster</td>\n",
              "    </tr>\n",
              "    <tr>\n",
              "      <th>21739</th>\n",
              "      <td>Zurro</td>\n",
              "      <td>Armena</td>\n",
              "    </tr>\n",
              "    <tr>\n",
              "      <th>21740</th>\n",
              "      <td>Zurru</td>\n",
              "      <td>Ilvana</td>\n",
              "    </tr>\n",
              "  </tbody>\n",
              "</table>\n",
              "<p>21741 rows × 2 columns</p>\n",
              "</div>"
            ],
            "text/plain": [
              "           Cognome       name\n",
              "0         Abagnale      Gigia\n",
              "1         Abagnali  Giulietta\n",
              "2       Abatangelo    Macallè\n",
              "3      Abatantuono     Tullia\n",
              "4            Abate     Elvira\n",
              "...            ...        ...\n",
              "21736       Zurolo  Caporetto\n",
              "21737        Zurri   Solimeno\n",
              "21738      Zurrida      Oster\n",
              "21739        Zurro     Armena\n",
              "21740        Zurru     Ilvana\n",
              "\n",
              "[21741 rows x 2 columns]"
            ]
          },
          "metadata": {},
          "execution_count": 27
        }
      ]
    },
    {
      "cell_type": "markdown",
      "metadata": {
        "id": "2Q_P86SDPVo5"
      },
      "source": [
        "# Preprocessing"
      ]
    },
    {
      "cell_type": "code",
      "metadata": {
        "id": "O9rRVu4AMkza"
      },
      "source": [
        "df[\"full_name\"] = df[\"cognome\"] + \" \" +df[\"nome\"]"
      ],
      "execution_count": 11,
      "outputs": []
    },
    {
      "cell_type": "code",
      "metadata": {
        "id": "mu4pRhUWMola"
      },
      "source": [
        "df.drop(columns=[\"cognome\", \"nome\"], inplace=True)"
      ],
      "execution_count": 12,
      "outputs": []
    },
    {
      "cell_type": "code",
      "metadata": {
        "id": "Y_8s-ghaLwhp"
      },
      "source": [
        "cols = df.columns.tolist()"
      ],
      "execution_count": 13,
      "outputs": []
    },
    {
      "cell_type": "code",
      "metadata": {
        "id": "VCGQ0lwEL6nV"
      },
      "source": [
        "cols = ['cod_prv',\n",
        " 'cod_com',\n",
        " 'id',\n",
        " 'full_name',\n",
        " 'sesso',\n",
        " 'data_nascita',\n",
        " 'luogo_nascita',\n",
        " 'cf',\n",
        " 'prov_nascita',\n",
        " 'comune_res',\n",
        " 'prov_res',\n",
        " 'citt',\n",
        " 'indirizzo',\n",
        " 'cap',\n",
        " 'dato1',\n",
        " 'dato2',\n",
        " 'dato3',\n",
        " 'dato4',\n",
        " 'dato5',\n",
        " 'dato6',\n",
        " 'dato7']\n"
      ],
      "execution_count": 14,
      "outputs": []
    },
    {
      "cell_type": "code",
      "metadata": {
        "id": "_leuUY-fNjTA"
      },
      "source": [
        "df = df[cols]"
      ],
      "execution_count": 15,
      "outputs": []
    },
    {
      "cell_type": "code",
      "metadata": {
        "colab": {
          "base_uri": "https://localhost:8080/",
          "height": 218
        },
        "id": "rmNLmzm2J-NM",
        "outputId": "322fb467-68e2-41d5-c2c5-8b248faecbdf"
      },
      "source": [
        "df.head(2)"
      ],
      "execution_count": 16,
      "outputs": [
        {
          "output_type": "execute_result",
          "data": {
            "text/html": [
              "<div>\n",
              "<style scoped>\n",
              "    .dataframe tbody tr th:only-of-type {\n",
              "        vertical-align: middle;\n",
              "    }\n",
              "\n",
              "    .dataframe tbody tr th {\n",
              "        vertical-align: top;\n",
              "    }\n",
              "\n",
              "    .dataframe thead th {\n",
              "        text-align: right;\n",
              "    }\n",
              "</style>\n",
              "<table border=\"1\" class=\"dataframe\">\n",
              "  <thead>\n",
              "    <tr style=\"text-align: right;\">\n",
              "      <th></th>\n",
              "      <th>cod_prv</th>\n",
              "      <th>cod_com</th>\n",
              "      <th>id</th>\n",
              "      <th>full_name</th>\n",
              "      <th>sesso</th>\n",
              "      <th>data_nascita</th>\n",
              "      <th>luogo_nascita</th>\n",
              "      <th>cf</th>\n",
              "      <th>prov_nascita</th>\n",
              "      <th>comune_res</th>\n",
              "      <th>prov_res</th>\n",
              "      <th>citt</th>\n",
              "      <th>indirizzo</th>\n",
              "      <th>cap</th>\n",
              "      <th>dato1</th>\n",
              "      <th>dato2</th>\n",
              "      <th>dato3</th>\n",
              "      <th>dato4</th>\n",
              "      <th>dato5</th>\n",
              "      <th>dato6</th>\n",
              "      <th>dato7</th>\n",
              "    </tr>\n",
              "  </thead>\n",
              "  <tbody>\n",
              "    <tr>\n",
              "      <th>0</th>\n",
              "      <td>5</td>\n",
              "      <td>22</td>\n",
              "      <td>1</td>\n",
              "      <td>AHMETOVIC MEHO</td>\n",
              "      <td>M</td>\n",
              "      <td>20051974</td>\n",
              "      <td>BOSNIA-ERZEGOVINA</td>\n",
              "      <td>HMTMHE74E20Z153Q</td>\n",
              "      <td>EE</td>\n",
              "      <td>MONCALIERI</td>\n",
              "      <td>TO</td>\n",
              "      <td>BIH</td>\n",
              "      <td>STRADA VINOVO SNC</td>\n",
              "      <td>10024</td>\n",
              "      <td>9032017</td>\n",
              "      <td>122049</td>\n",
              "      <td>23</td>\n",
              "      <td>9032017</td>\n",
              "      <td>16072008</td>\n",
              "      <td>12112021 05:49:25</td>\n",
              "      <td>CENS2011</td>\n",
              "    </tr>\n",
              "    <tr>\n",
              "      <th>1</th>\n",
              "      <td>5</td>\n",
              "      <td>22</td>\n",
              "      <td>2</td>\n",
              "      <td>GIORDANI SILVIA</td>\n",
              "      <td>F</td>\n",
              "      <td>29061981</td>\n",
              "      <td>TORINO</td>\n",
              "      <td>GRDSLV81H69L219C</td>\n",
              "      <td>TO</td>\n",
              "      <td>MONCALIERI</td>\n",
              "      <td>TO</td>\n",
              "      <td>ITA</td>\n",
              "      <td>VIA AMILCARE PONCHIELLI 26</td>\n",
              "      <td>10024</td>\n",
              "      <td>24032017</td>\n",
              "      <td>124156</td>\n",
              "      <td>1</td>\n",
              "      <td>25062011</td>\n",
              "      <td>14012010</td>\n",
              "      <td>12112021 05:49:25</td>\n",
              "      <td>CENS2011</td>\n",
              "    </tr>\n",
              "  </tbody>\n",
              "</table>\n",
              "</div>"
            ],
            "text/plain": [
              "   cod_prv  cod_com  id  ...     dato5              dato6     dato7\n",
              "0        5       22   1  ...  16072008  12112021 05:49:25  CENS2011\n",
              "1        5       22   2  ...  14012010  12112021 05:49:25  CENS2011\n",
              "\n",
              "[2 rows x 21 columns]"
            ]
          },
          "metadata": {},
          "execution_count": 16
        }
      ]
    },
    {
      "cell_type": "code",
      "metadata": {
        "id": "v7vJm2fhOGT8"
      },
      "source": [
        "cols = ['cod_prv',\n",
        " 'cod_com',\n",
        " 'id',\n",
        " 'sesso',\n",
        " 'data_nascita',\n",
        " 'luogo_nascita',\n",
        " 'cf',\n",
        " 'prov_nascita',\n",
        " 'comune_res',\n",
        " 'prov_res',\n",
        " 'full_name',\n",
        " 'citt',\n",
        " 'cap',\n",
        " 'dato1',\n",
        " 'dato2',\n",
        " 'dato3',\n",
        " 'indirizzo',\n",
        " 'dato4',\n",
        " 'dato5',\n",
        " 'dato6',\n",
        " 'dato7']"
      ],
      "execution_count": 17,
      "outputs": []
    },
    {
      "cell_type": "code",
      "metadata": {
        "id": "ZkK-1YzXNuUJ"
      },
      "source": [
        "first_shuffle_data = df[5000:10000][cols]"
      ],
      "execution_count": 18,
      "outputs": []
    },
    {
      "cell_type": "code",
      "metadata": {
        "colab": {
          "base_uri": "https://localhost:8080/",
          "height": 218
        },
        "id": "ujrnz_ivOTKr",
        "outputId": "160d439b-582d-4be9-90ca-5ecbb3478b5b"
      },
      "source": [
        "first_shuffle_data.head(2)"
      ],
      "execution_count": 19,
      "outputs": [
        {
          "output_type": "execute_result",
          "data": {
            "text/html": [
              "<div>\n",
              "<style scoped>\n",
              "    .dataframe tbody tr th:only-of-type {\n",
              "        vertical-align: middle;\n",
              "    }\n",
              "\n",
              "    .dataframe tbody tr th {\n",
              "        vertical-align: top;\n",
              "    }\n",
              "\n",
              "    .dataframe thead th {\n",
              "        text-align: right;\n",
              "    }\n",
              "</style>\n",
              "<table border=\"1\" class=\"dataframe\">\n",
              "  <thead>\n",
              "    <tr style=\"text-align: right;\">\n",
              "      <th></th>\n",
              "      <th>cod_prv</th>\n",
              "      <th>cod_com</th>\n",
              "      <th>id</th>\n",
              "      <th>sesso</th>\n",
              "      <th>data_nascita</th>\n",
              "      <th>luogo_nascita</th>\n",
              "      <th>cf</th>\n",
              "      <th>prov_nascita</th>\n",
              "      <th>comune_res</th>\n",
              "      <th>prov_res</th>\n",
              "      <th>full_name</th>\n",
              "      <th>citt</th>\n",
              "      <th>cap</th>\n",
              "      <th>dato1</th>\n",
              "      <th>dato2</th>\n",
              "      <th>dato3</th>\n",
              "      <th>indirizzo</th>\n",
              "      <th>dato4</th>\n",
              "      <th>dato5</th>\n",
              "      <th>dato6</th>\n",
              "      <th>dato7</th>\n",
              "    </tr>\n",
              "  </thead>\n",
              "  <tbody>\n",
              "    <tr>\n",
              "      <th>5000</th>\n",
              "      <td>5</td>\n",
              "      <td>22</td>\n",
              "      <td>13975</td>\n",
              "      <td>F</td>\n",
              "      <td>7031975</td>\n",
              "      <td>TORINO</td>\n",
              "      <td>CRRMNL75C47L219D</td>\n",
              "      <td>TO</td>\n",
              "      <td>MONCALIERI</td>\n",
              "      <td>TO</td>\n",
              "      <td>CERRATO EMANUELA</td>\n",
              "      <td>ITA</td>\n",
              "      <td>10024</td>\n",
              "      <td>24032017</td>\n",
              "      <td>14799</td>\n",
              "      <td>3</td>\n",
              "      <td>VIA TEOFILO GAUTHIER 5</td>\n",
              "      <td>13102014</td>\n",
              "      <td>30101936</td>\n",
              "      <td>12112021 05:49:25</td>\n",
              "      <td>CENS2011</td>\n",
              "    </tr>\n",
              "    <tr>\n",
              "      <th>5001</th>\n",
              "      <td>5</td>\n",
              "      <td>22</td>\n",
              "      <td>13976</td>\n",
              "      <td>F</td>\n",
              "      <td>5111951</td>\n",
              "      <td>MONCALIERI</td>\n",
              "      <td>CRRMLE51S45F335R</td>\n",
              "      <td>TO</td>\n",
              "      <td>MONCALIERI</td>\n",
              "      <td>TO</td>\n",
              "      <td>CERRATO EMILIA</td>\n",
              "      <td>ITA</td>\n",
              "      <td>10024</td>\n",
              "      <td>24032017</td>\n",
              "      <td>11878</td>\n",
              "      <td>2</td>\n",
              "      <td>STRADA PRACIOSA 14</td>\n",
              "      <td>5111951</td>\n",
              "      <td>5111951</td>\n",
              "      <td>12112021 05:49:25</td>\n",
              "      <td>CENS2011</td>\n",
              "    </tr>\n",
              "  </tbody>\n",
              "</table>\n",
              "</div>"
            ],
            "text/plain": [
              "      cod_prv  cod_com     id  ...     dato5              dato6     dato7\n",
              "5000        5       22  13975  ...  30101936  12112021 05:49:25  CENS2011\n",
              "5001        5       22  13976  ...   5111951  12112021 05:49:25  CENS2011\n",
              "\n",
              "[2 rows x 21 columns]"
            ]
          },
          "metadata": {},
          "execution_count": 19
        }
      ]
    },
    {
      "cell_type": "code",
      "metadata": {
        "id": "UZdBUhKdOaT-"
      },
      "source": [
        "cols = ['cod_prv',\n",
        " 'cod_com',\n",
        " 'indirizzo',\n",
        " 'id',\n",
        " 'sesso',\n",
        " 'data_nascita',\n",
        " 'luogo_nascita',\n",
        " 'cf',\n",
        " 'prov_nascita',\n",
        " 'comune_res',\n",
        " 'prov_res',\n",
        " \n",
        " 'citt',\n",
        " 'cap',\n",
        " 'dato1',\n",
        " 'dato2',\n",
        " 'full_name',\n",
        " 'dato3',\n",
        " \n",
        " 'dato4',\n",
        " 'dato5',\n",
        " 'dato6',\n",
        " 'dato7']"
      ],
      "execution_count": 20,
      "outputs": []
    },
    {
      "cell_type": "code",
      "metadata": {
        "id": "WfERZTB9OdZM"
      },
      "source": [
        "second_shuffle_data = df[10000:14000][cols]"
      ],
      "execution_count": 21,
      "outputs": []
    },
    {
      "cell_type": "code",
      "metadata": {
        "id": "A1xDhuIZWmGC"
      },
      "source": [
        "cols = ['cod_prv',\n",
        " 'cod_com',\n",
        " 'id',\n",
        " 'sesso',\n",
        " 'data_nascita',\n",
        " 'luogo_nascita',\n",
        " 'cf',\n",
        " 'full_name',\n",
        " 'prov_nascita',\n",
        " 'comune_res',\n",
        " 'prov_res',\n",
        " \n",
        " 'citt',\n",
        " 'cap',\n",
        " 'dato1',\n",
        " 'dato2',\n",
        " 'dato3',\n",
        " 'indirizzo',\n",
        " 'dato4',\n",
        " 'dato5',\n",
        " 'dato6',\n",
        " 'dato7']"
      ],
      "execution_count": 22,
      "outputs": []
    },
    {
      "cell_type": "code",
      "metadata": {
        "id": "Te68ZlEeW5DA"
      },
      "source": [
        "test_data_df = df[14000:15000][cols]"
      ],
      "execution_count": 23,
      "outputs": []
    },
    {
      "cell_type": "markdown",
      "metadata": {
        "id": "4bFfde8Csnf9"
      },
      "source": [
        "Prova con solo nomi,cognomi"
      ]
    },
    {
      "cell_type": "code",
      "metadata": {
        "id": "0h3z-xbJLnct"
      },
      "source": [
        "\n",
        "data = df[0:10000]\n",
        "\n",
        "token_docs = []\n",
        "tag_docs = []\n",
        "for index, row in data.iterrows():\n",
        "  tokens = []\n",
        "  tags = []\n",
        "  for x, value in row.iteritems():\n",
        "    \n",
        "    tokens.append(str(value))\n",
        "    if x == \"cognome\":\n",
        "      tags.append(\"B-Per\")\n",
        "    elif x == \"nome\":\n",
        "      tags.append(\"I-Per\") \n",
        "    else:\n",
        "      tags.append(\"O\") \n",
        "  token_docs.append(tokens)\n",
        "  tag_docs.append(tags)\n",
        "   \n",
        "\n"
      ],
      "execution_count": 41,
      "outputs": []
    },
    {
      "cell_type": "markdown",
      "metadata": {
        "id": "gp6NZym7squH"
      },
      "source": [
        "Prova con indirizzi"
      ]
    },
    {
      "cell_type": "code",
      "metadata": {
        "id": "UfV2bR5GslTk"
      },
      "source": [
        "data = df[0:10000]\n",
        "\n",
        "token_docs = []\n",
        "tag_docs = []\n",
        "for index, row in data.iterrows():\n",
        "  tokens = []\n",
        "  tags = []\n",
        "  for x, value in row.iteritems():\n",
        "    \n",
        "   \n",
        "    if x == \"indirizzo\":\n",
        "      y = value.split()\n",
        "      first= True;\n",
        "      for word in y:\n",
        "        tokens.append(str(word))\n",
        "        if first:\n",
        "          tags.append(\"B-Ind\")\n",
        "          first = False\n",
        "        else:\n",
        "          tags.append(\"I-Ind\") \n",
        "\n",
        "\n",
        "    \n",
        "    else:\n",
        "      tokens.append(str(value))\n",
        "      tags.append(\"O\") \n",
        "  token_docs.append(tokens)\n",
        "  tag_docs.append(tags)"
      ],
      "execution_count": 17,
      "outputs": []
    },
    {
      "cell_type": "markdown",
      "metadata": {
        "id": "RI7HP80K8GZP"
      },
      "source": [
        "Prova con nomi e indirizzi"
      ]
    },
    {
      "cell_type": "code",
      "metadata": {
        "id": "97pntFXU8FM-"
      },
      "source": [
        "\n",
        "\n",
        "\n",
        "data = df[0:10000]\n",
        "\n",
        "token_docs = []\n",
        "tag_docs = []\n",
        "for index, row in data.iterrows():\n",
        "  tokens = []\n",
        "  tags = []\n",
        "  for x, value in row.iteritems():\n",
        "    \n",
        "   \n",
        "    if x == \"indirizzo\":\n",
        "      y = value.split()\n",
        "      first= True;\n",
        "      for word in y:\n",
        "        tokens.append(str(word))\n",
        "        if first:\n",
        "          tags.append(\"B-Ind\")\n",
        "          first = False\n",
        "        else:\n",
        "          tags.append(\"I-Ind\") \n",
        "\n",
        "\n",
        "    elif x == \"cognome\":\n",
        "      tokens.append(str(value))\n",
        "      tags.append(\"B-Per\")\n",
        "    elif x == \"nome\":\n",
        "      tokens.append(str(value))\n",
        "      tags.append(\"I-Per\")\n",
        "    else:\n",
        "      tokens.append(str(value))\n",
        "      tags.append(\"O\") \n",
        "  token_docs.append(tokens)\n",
        "  tag_docs.append(tags)  "
      ],
      "execution_count": 18,
      "outputs": []
    },
    {
      "cell_type": "markdown",
      "metadata": {
        "id": "ohbTQx7_PCWt"
      },
      "source": [
        "Prova definitiva"
      ]
    },
    {
      "cell_type": "code",
      "metadata": {
        "id": "RPEr7BnHPE0o"
      },
      "source": [
        "\n",
        "\n",
        "data = df[0:10000]\n",
        "\n",
        "token_docs = []\n",
        "tag_docs = []\n",
        "for index, row in data.iterrows():\n",
        "  tokens = []\n",
        "  tags = []\n",
        "  for x, value in row.iteritems():\n",
        "    \n",
        "   \n",
        "    if x == \"indirizzo\":\n",
        "      y = value.split()\n",
        "      first= True;\n",
        "      for word in y:\n",
        "        tokens.append(str(word))\n",
        "        if first:\n",
        "          tags.append(\"B-Ind\")\n",
        "          first = False\n",
        "        else:\n",
        "          tags.append(\"I-Ind\") \n",
        "    elif x == \"full_name\":\n",
        "      y = value.split()\n",
        "      first= True;\n",
        "      for word in y:\n",
        "        tokens.append(str(word))\n",
        "        if first:\n",
        "          tags.append(\"B-Per\")\n",
        "          first = False\n",
        "        else:\n",
        "          tags.append(\"I-Per\")     \n",
        "\n",
        "    else:\n",
        "      tokens.append(str(value))\n",
        "      tags.append(\"O\") \n",
        "  token_docs.append(tokens)\n",
        "  tag_docs.append(tags)"
      ],
      "execution_count": null,
      "outputs": []
    },
    {
      "cell_type": "code",
      "metadata": {
        "id": "kAdrgYpkP24_"
      },
      "source": [
        "def create_token_and_labels(dataset, token_array, tag_array):\n",
        "  data = dataset\n",
        "\n",
        "  token_docs = token_array\n",
        "  tag_docs = tag_array\n",
        "  for index, row in data.iterrows():\n",
        "    tokens = []\n",
        "    tags = []\n",
        "    for x, value in row.iteritems():\n",
        "    \n",
        "   \n",
        "      if x == \"indirizzo\":\n",
        "        y = value.split()\n",
        "        first= True;\n",
        "        for word in y:\n",
        "          tokens.append(str(word))\n",
        "          if first:\n",
        "            tags.append(\"B-Ind\")\n",
        "            first = False\n",
        "          else:\n",
        "            tags.append(\"I-Ind\") \n",
        "      elif x == \"full_name\":\n",
        "        y = value.split()\n",
        "        first= True;\n",
        "        for word in y:\n",
        "          tokens.append(str(word))\n",
        "          if first:\n",
        "            tags.append(\"B-Per\")\n",
        "            first = False\n",
        "          else:\n",
        "            tags.append(\"I-Per\")     \n",
        "\n",
        "      else:\n",
        "        tokens.append(str(value))\n",
        "        tags.append(\"O\") \n",
        "    token_docs.append(tokens)\n",
        "    tag_docs.append(tags)"
      ],
      "execution_count": 24,
      "outputs": []
    },
    {
      "cell_type": "code",
      "metadata": {
        "id": "Ti5_0rVbRHV_"
      },
      "source": [
        "token_docs = []\n",
        "tag_docs = []\n",
        "create_token_and_labels(df[0:5000],token_docs,tag_docs)\n",
        "create_token_and_labels(first_shuffle_data,token_docs,tag_docs)\n",
        "create_token_and_labels(second_shuffle_data,token_docs,tag_docs)"
      ],
      "execution_count": 25,
      "outputs": []
    },
    {
      "cell_type": "code",
      "metadata": {
        "colab": {
          "base_uri": "https://localhost:8080/"
        },
        "id": "e_LgMdXOSWnz",
        "outputId": "756f42bd-84b8-4dbb-e39a-6b3985831230"
      },
      "source": [
        ""
      ],
      "execution_count": 110,
      "outputs": [
        {
          "output_type": "execute_result",
          "data": {
            "text/plain": [
              "14000"
            ]
          },
          "metadata": {},
          "execution_count": 110
        }
      ]
    },
    {
      "cell_type": "code",
      "metadata": {
        "colab": {
          "base_uri": "https://localhost:8080/"
        },
        "id": "MEk-pC5IRmAO",
        "outputId": "75e061c8-0a82-48eb-f834-0e8ad543116c"
      },
      "source": [
        "print(token_docs[8000])\n",
        "print(tag_docs[8000])"
      ],
      "execution_count": 46,
      "outputs": [
        {
          "output_type": "stream",
          "name": "stdout",
          "text": [
            "['5', '22', '22320', 'M', '5031945', \"RONCA'\", 'FTTGLG45C05H522R', 'VR', 'MONCALIERI', 'TO', 'FATTORI', 'GIANLUIGI', 'ITA', '10024', '24032017', '45666', '1', 'CORSO', 'GIUSEPPE', 'PARINI', '15', '5112014', '20121966', '12112021 05:49:25', 'CENS2011']\n",
            "['O', 'O', 'O', 'O', 'O', 'O', 'O', 'O', 'O', 'O', 'B-Per', 'I-Per', 'O', 'O', 'O', 'O', 'O', 'B-Ind', 'I-Ind', 'I-Ind', 'I-Ind', 'O', 'O', 'O', 'O']\n"
          ]
        }
      ]
    },
    {
      "cell_type": "code",
      "metadata": {
        "id": "s1Lz6zbWD65b"
      },
      "source": [
        "texts, tags = token_docs, tag_docs"
      ],
      "execution_count": 26,
      "outputs": []
    },
    {
      "cell_type": "code",
      "metadata": {
        "id": "ybzhLD7AIjgd"
      },
      "source": [
        "from sklearn.model_selection import train_test_split\n",
        "train_texts, val_texts, train_tags, val_tags = train_test_split(texts, tags, test_size=.2)"
      ],
      "execution_count": 27,
      "outputs": []
    },
    {
      "cell_type": "code",
      "metadata": {
        "id": "JBbVzuohoSG5",
        "colab": {
          "base_uri": "https://localhost:8080/"
        },
        "outputId": "f8a43945-0577-4f47-8d64-3924cd63e7b1"
      },
      "source": [
        "print(train_texts, train_tags)"
      ],
      "execution_count": 28,
      "outputs": [
        {
          "output_type": "stream",
          "name": "stderr",
          "text": [
            "IOPub data rate exceeded.\n",
            "The notebook server will temporarily stop sending output\n",
            "to the client in order to avoid crashing it.\n",
            "To change this limit, set the config variable\n",
            "`--NotebookApp.iopub_data_rate_limit`.\n",
            "\n",
            "Current values:\n",
            "NotebookApp.iopub_data_rate_limit=1000000.0 (bytes/sec)\n",
            "NotebookApp.rate_limit_window=3.0 (secs)\n",
            "\n"
          ]
        }
      ]
    },
    {
      "cell_type": "code",
      "metadata": {
        "id": "R3fVFAhOJ121"
      },
      "source": [
        "unique_tags = set(tag for doc in tags for tag in doc)\n",
        "tag2id = {tag: id for id, tag in enumerate(unique_tags)}\n",
        "id2tag = {id: tag for tag, id in tag2id.items()}"
      ],
      "execution_count": 30,
      "outputs": []
    },
    {
      "cell_type": "code",
      "metadata": {
        "colab": {
          "base_uri": "https://localhost:8080/",
          "height": 166
        },
        "id": "ALqT5EOXD3qw",
        "outputId": "eb5ac734-5b3f-49b6-a1c8-020a38e020ac"
      },
      "source": [
        "id2tag"
      ],
      "execution_count": 29,
      "outputs": [
        {
          "output_type": "error",
          "ename": "NameError",
          "evalue": "ignored",
          "traceback": [
            "\u001b[0;31m---------------------------------------------------------------------------\u001b[0m",
            "\u001b[0;31mNameError\u001b[0m                                 Traceback (most recent call last)",
            "\u001b[0;32m<ipython-input-29-0de3883edc87>\u001b[0m in \u001b[0;36m<module>\u001b[0;34m()\u001b[0m\n\u001b[0;32m----> 1\u001b[0;31m \u001b[0mid2tag\u001b[0m\u001b[0;34m\u001b[0m\u001b[0;34m\u001b[0m\u001b[0m\n\u001b[0m",
            "\u001b[0;31mNameError\u001b[0m: name 'id2tag' is not defined"
          ]
        }
      ]
    },
    {
      "cell_type": "code",
      "metadata": {
        "id": "HUpukEtjtsx2"
      },
      "source": [
        "from transformers import BertTokenizerFast\n",
        "from transformers import PreTrainedTokenizerFast\n",
        "from transformers import LongformerTokenizerFast\n",
        "tokenizer = BertTokenizerFast.from_pretrained('bert-base-uncased')\n",
        "\n",
        "train_encodings = tokenizer(train_texts, is_split_into_words=True, padding=\"max_length\",return_offsets_mapping=True)\n",
        "val_encodings = tokenizer(val_texts, is_split_into_words=True,padding=\"max_length\", return_offsets_mapping=True)"
      ],
      "execution_count": 31,
      "outputs": []
    },
    {
      "cell_type": "code",
      "metadata": {
        "id": "inn49gn8NWBO",
        "colab": {
          "base_uri": "https://localhost:8080/",
          "height": 145,
          "referenced_widgets": [
            "8eb35da22f6f41f995578440484df65c",
            "ce049c52434147b4801f3f9fcbe28f56",
            "465f972fd4664488af5103ac905919be",
            "19de6c9b34f64a3a842abc4378350960",
            "1db83aadc8b8469dbec231c1c11c0ced",
            "d4a3ea0c48754cffa8adb1d8f2666f39",
            "e5a8946fefbf4d849d4307785dceca4e",
            "144e93601d874bd8aef5dc4c81ade11b",
            "88b732a29afb4b978059e6a5d2f37a6a",
            "3ce6a559c8fa4022a139e292da6fd56d",
            "e907760a81644d2782a94e380dbdfb30",
            "dc8b02a6d2e548d7b9209312e9873b5f",
            "c5840df290e94168970257e04b2f9847",
            "be719abdb76843cf8b7581ce13c11c81",
            "481676ca298c405ea91a1b43c1cf58be",
            "6be23e60c5e04027b27f9bbb266c81f1",
            "6e7c82a5c810493897898ae0486ccf54",
            "d050852f6cd54baca3e1beefb8c5daf4",
            "138e8c80889c4b20ad70afb4af630d9c",
            "f0e22233d77a43399069645e4f03043e",
            "04a2c837cdf442eaa6001f655806a303",
            "4697235da1974a96b497bf0a53fc0a09",
            "e0419fcd525f43f4b02dad9cd45babc0",
            "5fc1b48ed66b464583ce3db778109a6b",
            "53b1158ad66b46ecb5b2f5b5d71a471b",
            "59d185b033c5416ba381ff797c3b73e0",
            "404d9b2b492a47288f49dade65615644",
            "5dae62546f534415b4f9d90df8785a88",
            "283390a0fcaf4d9ca3b241b92e8b23ad",
            "7bef05537489476a879bd3bd17c4a0f9",
            "8161b787b722458a9e56c327ed82298d",
            "0c1336f435b1424091d0c9c28f4f9deb",
            "86ab8d5876f747b39d7fa3214405ae69",
            "4f6bd047595946fd888f2f8ef4fa19bc",
            "c921447da5e74cfbb8e0e124b4c9c646",
            "cf800ec73ec14ad08e7fb52171365016",
            "21f26bab7b7940db84e001046db67666",
            "f59aed5b4a304bd0a300e583e8c75f6e",
            "9041ad0626124ae0afe79bced586deb9",
            "ae8a4389e3744c07a6d76e66636c51f8",
            "182e88d421ca42c7baf631fdde0dee0c",
            "85e1dd219f0a4f46bd6ef4e4bceea08b",
            "f0c12548a1dd41a6888f97c1a4ce508f",
            "bb5e7eb4bebd4233a1eb7e0cb547ec88"
          ]
        },
        "outputId": "44d79c3f-7308-4ca9-ff65-d4b598652fba"
      },
      "source": [
        "from transformers import DistilBertTokenizerFast\n",
        "tokenizer = DistilBertTokenizerFast.from_pretrained('distilbert-base-cased')\n",
        "#train_encodings = tokenizer(train_texts, is_split_into_words=True, return_offsets_mapping=True, padding=True, truncation=True)\n",
        "#val_encodings = tokenizer(val_texts, is_split_into_words=True, return_offsets_mapping=True, padding=True, truncation=True)\n",
        "\n",
        "train_encodings = tokenizer(train_texts, is_split_into_words=True, padding=\"max_length\",return_offsets_mapping=True)\n",
        "val_encodings = tokenizer(val_texts, is_split_into_words=True,padding=\"max_length\", return_offsets_mapping=True)"
      ],
      "execution_count": 51,
      "outputs": [
        {
          "output_type": "display_data",
          "data": {
            "application/vnd.jupyter.widget-view+json": {
              "model_id": "8eb35da22f6f41f995578440484df65c",
              "version_minor": 0,
              "version_major": 2
            },
            "text/plain": [
              "Downloading:   0%|          | 0.00/208k [00:00<?, ?B/s]"
            ]
          },
          "metadata": {}
        },
        {
          "output_type": "display_data",
          "data": {
            "application/vnd.jupyter.widget-view+json": {
              "model_id": "dc8b02a6d2e548d7b9209312e9873b5f",
              "version_minor": 0,
              "version_major": 2
            },
            "text/plain": [
              "Downloading:   0%|          | 0.00/426k [00:00<?, ?B/s]"
            ]
          },
          "metadata": {}
        },
        {
          "output_type": "display_data",
          "data": {
            "application/vnd.jupyter.widget-view+json": {
              "model_id": "e0419fcd525f43f4b02dad9cd45babc0",
              "version_minor": 0,
              "version_major": 2
            },
            "text/plain": [
              "Downloading:   0%|          | 0.00/29.0 [00:00<?, ?B/s]"
            ]
          },
          "metadata": {}
        },
        {
          "output_type": "display_data",
          "data": {
            "application/vnd.jupyter.widget-view+json": {
              "model_id": "4f6bd047595946fd888f2f8ef4fa19bc",
              "version_minor": 0,
              "version_major": 2
            },
            "text/plain": [
              "Downloading:   0%|          | 0.00/411 [00:00<?, ?B/s]"
            ]
          },
          "metadata": {}
        }
      ]
    },
    {
      "cell_type": "code",
      "metadata": {
        "id": "X0MmZBPqO4O7"
      },
      "source": [
        "\n",
        "def encode_tags(tags, encodings):\n",
        "    labels = [[tag2id[tag] for tag in doc] for doc in tags]\n",
        "    encoded_labels = []\n",
        "    for doc_labels, doc_offset in zip(labels, encodings.offset_mapping):\n",
        "        # create an empty array of -100\n",
        "        doc_enc_labels = np.ones(len(doc_offset),dtype=int) * -100\n",
        "        arr_offset = np.array(doc_offset)\n",
        "\n",
        "        # set labels whose first offset position is 0 and the second is not 0\n",
        "        mask = (arr_offset[:, 0] == 0) & (arr_offset[:, 1] != 0)\n",
        "        doc_enc_labels[mask] = doc_labels[:np.sum(mask)]\n",
        "        encoded_labels.append(doc_enc_labels.tolist())\n",
        "        \n",
        "      #  doc_enc_labels[(arr_offset[:,0] == 0) & (arr_offset[:,1] != 0)] = doc_labels\n",
        "       # encoded_labels.append(doc_enc_labels.tolist())\n",
        "\n",
        "    return encoded_labels\n",
        "train_labels = encode_tags(train_tags, train_encodings)\n",
        "val_labels = encode_tags(val_tags, val_encodings)\n"
      ],
      "execution_count": 32,
      "outputs": []
    },
    {
      "cell_type": "code",
      "metadata": {
        "id": "HGFQiAaHQijv"
      },
      "source": [
        "import tensorflow as tf\n",
        "\n",
        "train_encodings.pop(\"offset_mapping\") # we don't want to pass this to the model\n",
        "val_encodings.pop(\"offset_mapping\")\n",
        "\n",
        "train_dataset = tf.data.Dataset.from_tensor_slices((\n",
        "    dict(train_encodings),\n",
        "    train_labels\n",
        "))\n",
        "val_dataset = tf.data.Dataset.from_tensor_slices((\n",
        "    dict(val_encodings),\n",
        "    val_labels\n",
        "))"
      ],
      "execution_count": 33,
      "outputs": []
    },
    {
      "cell_type": "code",
      "metadata": {
        "id": "zUgr909e3hSx"
      },
      "source": [
        "from transformers import TFBertForTokenClassification"
      ],
      "execution_count": 35,
      "outputs": []
    },
    {
      "cell_type": "code",
      "metadata": {
        "id": "Kj1lvOQWt1Fp",
        "outputId": "734abf6e-b424-471c-8c1a-6293cf956f91",
        "colab": {
          "base_uri": "https://localhost:8080/"
        }
      },
      "source": [
        "model = TFBertForTokenClassification.from_pretrained(\"bert-base-uncased\",num_labels=len(unique_tags))"
      ],
      "execution_count": 36,
      "outputs": [
        {
          "output_type": "stream",
          "name": "stderr",
          "text": [
            "All model checkpoint layers were used when initializing TFBertForTokenClassification.\n",
            "\n",
            "Some layers of TFBertForTokenClassification were not initialized from the model checkpoint at bert-base-uncased and are newly initialized: ['classifier']\n",
            "You should probably TRAIN this model on a down-stream task to be able to use it for predictions and inference.\n"
          ]
        }
      ]
    },
    {
      "cell_type": "code",
      "metadata": {
        "id": "fCzKI2pkAvYV",
        "colab": {
          "base_uri": "https://localhost:8080/",
          "height": 156,
          "referenced_widgets": [
            "b72f64b790cf4d7197a646539dac1997",
            "51b7c93343a444c1ac0230a326cb9210",
            "801041f315144e32a003da0d5c3feff4",
            "d249bf50f5664578ab80e150e3492202",
            "b561dac5c28f482397710a558c88472f",
            "3ad72ac5703d496b9d1c1c54b1270c85",
            "843acefcb0d14f708666efb3b8c1724a",
            "3ed09012860b49c1b6a3a5cb59f11e17",
            "957e4463e57943a38e584aa993cd62eb",
            "29dbb59b41e946749f6bf55de30e6fbe",
            "83c1d25ceabf47ff9ec8df87b6c25f10"
          ]
        },
        "outputId": "391da671-97f4-477b-ad24-6fc814b57d6c"
      },
      "source": [
        "from transformers import TFDistilBertForTokenClassification\n",
        "model = TFDistilBertForTokenClassification.from_pretrained('distilbert-base-cased', num_labels=len(unique_tags))"
      ],
      "execution_count": 54,
      "outputs": [
        {
          "output_type": "display_data",
          "data": {
            "application/vnd.jupyter.widget-view+json": {
              "model_id": "b72f64b790cf4d7197a646539dac1997",
              "version_minor": 0,
              "version_major": 2
            },
            "text/plain": [
              "Downloading:   0%|          | 0.00/338M [00:00<?, ?B/s]"
            ]
          },
          "metadata": {}
        },
        {
          "output_type": "stream",
          "name": "stderr",
          "text": [
            "Some layers from the model checkpoint at distilbert-base-cased were not used when initializing TFDistilBertForTokenClassification: ['vocab_projector', 'activation_13', 'vocab_layer_norm', 'vocab_transform']\n",
            "- This IS expected if you are initializing TFDistilBertForTokenClassification from the checkpoint of a model trained on another task or with another architecture (e.g. initializing a BertForSequenceClassification model from a BertForPreTraining model).\n",
            "- This IS NOT expected if you are initializing TFDistilBertForTokenClassification from the checkpoint of a model that you expect to be exactly identical (initializing a BertForSequenceClassification model from a BertForSequenceClassification model).\n",
            "Some layers of TFDistilBertForTokenClassification were not initialized from the model checkpoint at distilbert-base-cased and are newly initialized: ['dropout_19', 'classifier']\n",
            "You should probably TRAIN this model on a down-stream task to be able to use it for predictions and inference.\n"
          ]
        }
      ]
    },
    {
      "cell_type": "markdown",
      "metadata": {
        "id": "mpB3Rlorv3hl"
      },
      "source": [
        "# Normal training"
      ]
    },
    {
      "cell_type": "code",
      "metadata": {
        "id": "9xPH4jc5A7sA",
        "colab": {
          "base_uri": "https://localhost:8080/",
          "height": 1000
        },
        "outputId": "83e13e72-f681-43a8-ada7-299c32a6a38a"
      },
      "source": [
        "\n",
        "\n",
        "optimizer = tf.keras.optimizers.Adam(learning_rate=5e-5)\n",
        "model.compile(optimizer=optimizer, loss=model.compute_loss) # can also use any keras loss fn\n",
        "model.fit(train_dataset.shuffle(1000).batch(16), epochs=1,validation_data=val_dataset, batch_size=16)"
      ],
      "execution_count": 37,
      "outputs": [
        {
          "output_type": "stream",
          "name": "stderr",
          "text": [
            "/usr/local/lib/python3.7/dist-packages/tensorflow/python/autograph/impl/api.py:377: UserWarning: Using `-1` to mask the loss for the token is deprecated. Please use `-100` instead.\n",
            "  return py_builtins.overload_of(f)(*args)\n"
          ]
        },
        {
          "output_type": "error",
          "ename": "ResourceExhaustedError",
          "evalue": "ignored",
          "traceback": [
            "\u001b[0;31m---------------------------------------------------------------------------\u001b[0m",
            "\u001b[0;31mResourceExhaustedError\u001b[0m                    Traceback (most recent call last)",
            "\u001b[0;32m<ipython-input-37-dbbe77cc4d4f>\u001b[0m in \u001b[0;36m<module>\u001b[0;34m()\u001b[0m\n\u001b[1;32m      3\u001b[0m \u001b[0moptimizer\u001b[0m \u001b[0;34m=\u001b[0m \u001b[0mtf\u001b[0m\u001b[0;34m.\u001b[0m\u001b[0mkeras\u001b[0m\u001b[0;34m.\u001b[0m\u001b[0moptimizers\u001b[0m\u001b[0;34m.\u001b[0m\u001b[0mAdam\u001b[0m\u001b[0;34m(\u001b[0m\u001b[0mlearning_rate\u001b[0m\u001b[0;34m=\u001b[0m\u001b[0;36m5e-5\u001b[0m\u001b[0;34m)\u001b[0m\u001b[0;34m\u001b[0m\u001b[0;34m\u001b[0m\u001b[0m\n\u001b[1;32m      4\u001b[0m \u001b[0mmodel\u001b[0m\u001b[0;34m.\u001b[0m\u001b[0mcompile\u001b[0m\u001b[0;34m(\u001b[0m\u001b[0moptimizer\u001b[0m\u001b[0;34m=\u001b[0m\u001b[0moptimizer\u001b[0m\u001b[0;34m,\u001b[0m \u001b[0mloss\u001b[0m\u001b[0;34m=\u001b[0m\u001b[0mmodel\u001b[0m\u001b[0;34m.\u001b[0m\u001b[0mcompute_loss\u001b[0m\u001b[0;34m)\u001b[0m \u001b[0;31m# can also use any keras loss fn\u001b[0m\u001b[0;34m\u001b[0m\u001b[0;34m\u001b[0m\u001b[0m\n\u001b[0;32m----> 5\u001b[0;31m \u001b[0mmodel\u001b[0m\u001b[0;34m.\u001b[0m\u001b[0mfit\u001b[0m\u001b[0;34m(\u001b[0m\u001b[0mtrain_dataset\u001b[0m\u001b[0;34m.\u001b[0m\u001b[0mshuffle\u001b[0m\u001b[0;34m(\u001b[0m\u001b[0;36m1000\u001b[0m\u001b[0;34m)\u001b[0m\u001b[0;34m.\u001b[0m\u001b[0mbatch\u001b[0m\u001b[0;34m(\u001b[0m\u001b[0;36m16\u001b[0m\u001b[0;34m)\u001b[0m\u001b[0;34m,\u001b[0m \u001b[0mepochs\u001b[0m\u001b[0;34m=\u001b[0m\u001b[0;36m1\u001b[0m\u001b[0;34m,\u001b[0m\u001b[0mvalidation_data\u001b[0m\u001b[0;34m=\u001b[0m\u001b[0mval_dataset\u001b[0m\u001b[0;34m,\u001b[0m \u001b[0mbatch_size\u001b[0m\u001b[0;34m=\u001b[0m\u001b[0;36m16\u001b[0m\u001b[0;34m)\u001b[0m\u001b[0;34m\u001b[0m\u001b[0;34m\u001b[0m\u001b[0m\n\u001b[0m",
            "\u001b[0;32m/usr/local/lib/python3.7/dist-packages/keras/utils/traceback_utils.py\u001b[0m in \u001b[0;36merror_handler\u001b[0;34m(*args, **kwargs)\u001b[0m\n\u001b[1;32m     65\u001b[0m     \u001b[0;32mexcept\u001b[0m \u001b[0mException\u001b[0m \u001b[0;32mas\u001b[0m \u001b[0me\u001b[0m\u001b[0;34m:\u001b[0m  \u001b[0;31m# pylint: disable=broad-except\u001b[0m\u001b[0;34m\u001b[0m\u001b[0;34m\u001b[0m\u001b[0m\n\u001b[1;32m     66\u001b[0m       \u001b[0mfiltered_tb\u001b[0m \u001b[0;34m=\u001b[0m \u001b[0m_process_traceback_frames\u001b[0m\u001b[0;34m(\u001b[0m\u001b[0me\u001b[0m\u001b[0;34m.\u001b[0m\u001b[0m__traceback__\u001b[0m\u001b[0;34m)\u001b[0m\u001b[0;34m\u001b[0m\u001b[0;34m\u001b[0m\u001b[0m\n\u001b[0;32m---> 67\u001b[0;31m       \u001b[0;32mraise\u001b[0m \u001b[0me\u001b[0m\u001b[0;34m.\u001b[0m\u001b[0mwith_traceback\u001b[0m\u001b[0;34m(\u001b[0m\u001b[0mfiltered_tb\u001b[0m\u001b[0;34m)\u001b[0m \u001b[0;32mfrom\u001b[0m \u001b[0;32mNone\u001b[0m\u001b[0;34m\u001b[0m\u001b[0;34m\u001b[0m\u001b[0m\n\u001b[0m\u001b[1;32m     68\u001b[0m     \u001b[0;32mfinally\u001b[0m\u001b[0;34m:\u001b[0m\u001b[0;34m\u001b[0m\u001b[0;34m\u001b[0m\u001b[0m\n\u001b[1;32m     69\u001b[0m       \u001b[0;32mdel\u001b[0m \u001b[0mfiltered_tb\u001b[0m\u001b[0;34m\u001b[0m\u001b[0;34m\u001b[0m\u001b[0m\n",
            "\u001b[0;32m/usr/local/lib/python3.7/dist-packages/tensorflow/python/eager/execute.py\u001b[0m in \u001b[0;36mquick_execute\u001b[0;34m(op_name, num_outputs, inputs, attrs, ctx, name)\u001b[0m\n\u001b[1;32m     57\u001b[0m     \u001b[0mctx\u001b[0m\u001b[0;34m.\u001b[0m\u001b[0mensure_initialized\u001b[0m\u001b[0;34m(\u001b[0m\u001b[0;34m)\u001b[0m\u001b[0;34m\u001b[0m\u001b[0;34m\u001b[0m\u001b[0m\n\u001b[1;32m     58\u001b[0m     tensors = pywrap_tfe.TFE_Py_Execute(ctx._handle, device_name, op_name,\n\u001b[0;32m---> 59\u001b[0;31m                                         inputs, attrs, num_outputs)\n\u001b[0m\u001b[1;32m     60\u001b[0m   \u001b[0;32mexcept\u001b[0m \u001b[0mcore\u001b[0m\u001b[0;34m.\u001b[0m\u001b[0m_NotOkStatusException\u001b[0m \u001b[0;32mas\u001b[0m \u001b[0me\u001b[0m\u001b[0;34m:\u001b[0m\u001b[0;34m\u001b[0m\u001b[0;34m\u001b[0m\u001b[0m\n\u001b[1;32m     61\u001b[0m     \u001b[0;32mif\u001b[0m \u001b[0mname\u001b[0m \u001b[0;32mis\u001b[0m \u001b[0;32mnot\u001b[0m \u001b[0;32mNone\u001b[0m\u001b[0;34m:\u001b[0m\u001b[0;34m\u001b[0m\u001b[0;34m\u001b[0m\u001b[0m\n",
            "\u001b[0;31mResourceExhaustedError\u001b[0m:  OOM when allocating tensor with shape[16,12,512,512] and type float on /job:localhost/replica:0/task:0/device:GPU:0 by allocator GPU_0_bfc\n\t [[node tf_bert_for_token_classification/bert/encoder/layer_._7/attention/self/MatMul\n (defined at /usr/local/lib/python3.7/dist-packages/transformers/models/bert/modeling_tf_bert.py:299)\n]]\nHint: If you want to see a list of allocated tensors when OOM happens, add report_tensor_allocations_upon_oom to RunOptions for current allocation info. This isn't available when running in Eager mode.\n [Op:__inference_train_function_24335]\n\nErrors may have originated from an input operation.\nInput Source operations connected to node tf_bert_for_token_classification/bert/encoder/layer_._7/attention/self/MatMul:\nIn[0] tf_bert_for_token_classification/bert/encoder/layer_._7/attention/self/transpose_2 (defined at /usr/local/lib/python3.7/dist-packages/transformers/models/bert/modeling_tf_bert.py:246)\t\nIn[1] tf_bert_for_token_classification/bert/encoder/layer_._7/attention/self/transpose:\n\nOperation defined at: (most recent call last)\n>>>   File \"/usr/lib/python3.7/runpy.py\", line 193, in _run_module_as_main\n>>>     \"__main__\", mod_spec)\n>>> \n>>>   File \"/usr/lib/python3.7/runpy.py\", line 85, in _run_code\n>>>     exec(code, run_globals)\n>>> \n>>>   File \"/usr/local/lib/python3.7/dist-packages/ipykernel_launcher.py\", line 16, in <module>\n>>>     app.launch_new_instance()\n>>> \n>>>   File \"/usr/local/lib/python3.7/dist-packages/traitlets/config/application.py\", line 846, in launch_instance\n>>>     app.start()\n>>> \n>>>   File \"/usr/local/lib/python3.7/dist-packages/ipykernel/kernelapp.py\", line 499, in start\n>>>     self.io_loop.start()\n>>> \n>>>   File \"/usr/local/lib/python3.7/dist-packages/tornado/platform/asyncio.py\", line 132, in start\n>>>     self.asyncio_loop.run_forever()\n>>> \n>>>   File \"/usr/lib/python3.7/asyncio/base_events.py\", line 541, in run_forever\n>>>     self._run_once()\n>>> \n>>>   File \"/usr/lib/python3.7/asyncio/base_events.py\", line 1786, in _run_once\n>>>     handle._run()\n>>> \n>>>   File \"/usr/lib/python3.7/asyncio/events.py\", line 88, in _run\n>>>     self._context.run(self._callback, *self._args)\n>>> \n>>>   File \"/usr/local/lib/python3.7/dist-packages/tornado/platform/asyncio.py\", line 122, in _handle_events\n>>>     handler_func(fileobj, events)\n>>> \n>>>   File \"/usr/local/lib/python3.7/dist-packages/tornado/stack_context.py\", line 300, in null_wrapper\n>>>     return fn(*args, **kwargs)\n>>> \n>>>   File \"/usr/local/lib/python3.7/dist-packages/zmq/eventloop/zmqstream.py\", line 452, in _handle_events\n>>>     self._handle_recv()\n>>> \n>>>   File \"/usr/local/lib/python3.7/dist-packages/zmq/eventloop/zmqstream.py\", line 481, in _handle_recv\n>>>     self._run_callback(callback, msg)\n>>> \n>>>   File \"/usr/local/lib/python3.7/dist-packages/zmq/eventloop/zmqstream.py\", line 431, in _run_callback\n>>>     callback(*args, **kwargs)\n>>> \n>>>   File \"/usr/local/lib/python3.7/dist-packages/tornado/stack_context.py\", line 300, in null_wrapper\n>>>     return fn(*args, **kwargs)\n>>> \n>>>   File \"/usr/local/lib/python3.7/dist-packages/ipykernel/kernelbase.py\", line 283, in dispatcher\n>>>     return self.dispatch_shell(stream, msg)\n>>> \n>>>   File \"/usr/local/lib/python3.7/dist-packages/ipykernel/kernelbase.py\", line 233, in dispatch_shell\n>>>     handler(stream, idents, msg)\n>>> \n>>>   File \"/usr/local/lib/python3.7/dist-packages/ipykernel/kernelbase.py\", line 399, in execute_request\n>>>     user_expressions, allow_stdin)\n>>> \n>>>   File \"/usr/local/lib/python3.7/dist-packages/ipykernel/ipkernel.py\", line 208, in do_execute\n>>>     res = shell.run_cell(code, store_history=store_history, silent=silent)\n>>> \n>>>   File \"/usr/local/lib/python3.7/dist-packages/ipykernel/zmqshell.py\", line 537, in run_cell\n>>>     return super(ZMQInteractiveShell, self).run_cell(*args, **kwargs)\n>>> \n>>>   File \"/usr/local/lib/python3.7/dist-packages/IPython/core/interactiveshell.py\", line 2718, in run_cell\n>>>     interactivity=interactivity, compiler=compiler, result=result)\n>>> \n>>>   File \"/usr/local/lib/python3.7/dist-packages/IPython/core/interactiveshell.py\", line 2828, in run_ast_nodes\n>>>     if self.run_code(code, result):\n>>> \n>>>   File \"/usr/local/lib/python3.7/dist-packages/IPython/core/interactiveshell.py\", line 2882, in run_code\n>>>     exec(code_obj, self.user_global_ns, self.user_ns)\n>>> \n>>>   File \"<ipython-input-37-dbbe77cc4d4f>\", line 5, in <module>\n>>>     model.fit(train_dataset.shuffle(1000).batch(16), epochs=1,validation_data=val_dataset, batch_size=16)\n>>> \n>>>   File \"/usr/local/lib/python3.7/dist-packages/keras/utils/traceback_utils.py\", line 64, in error_handler\n>>>     return fn(*args, **kwargs)\n>>> \n>>>   File \"/usr/local/lib/python3.7/dist-packages/keras/engine/training.py\", line 1216, in fit\n>>>     tmp_logs = self.train_function(iterator)\n>>> \n>>>   File \"/usr/local/lib/python3.7/dist-packages/keras/engine/training.py\", line 878, in train_function\n>>>     return step_function(self, iterator)\n>>> \n>>>   File \"/usr/local/lib/python3.7/dist-packages/keras/engine/training.py\", line 867, in step_function\n>>>     outputs = model.distribute_strategy.run(run_step, args=(data,))\n>>> \n>>>   File \"/usr/local/lib/python3.7/dist-packages/keras/engine/training.py\", line 860, in run_step\n>>>     outputs = model.train_step(data)\n>>> \n>>>   File \"/usr/local/lib/python3.7/dist-packages/transformers/modeling_tf_utils.py\", line 796, in train_step\n>>>     y_pred = self(x, training=True)\n>>> \n>>>   File \"/usr/local/lib/python3.7/dist-packages/keras/utils/traceback_utils.py\", line 64, in error_handler\n>>>     return fn(*args, **kwargs)\n>>> \n>>>   File \"/usr/local/lib/python3.7/dist-packages/keras/engine/base_layer.py\", line 1083, in __call__\n>>>     outputs = call_fn(inputs, *args, **kwargs)\n>>> \n>>>   File \"/usr/local/lib/python3.7/dist-packages/keras/utils/traceback_utils.py\", line 92, in error_handler\n>>>     return fn(*args, **kwargs)\n>>> \n>>>   File \"/usr/local/lib/python3.7/dist-packages/transformers/models/bert/modeling_tf_bert.py\", line 2017, in call\n>>>     outputs = self.bert(\n>>> \n>>>   File \"/usr/local/lib/python3.7/dist-packages/keras/utils/traceback_utils.py\", line 64, in error_handler\n>>>     return fn(*args, **kwargs)\n>>> \n>>>   File \"/usr/local/lib/python3.7/dist-packages/keras/engine/base_layer.py\", line 1083, in __call__\n>>>     outputs = call_fn(inputs, *args, **kwargs)\n>>> \n>>>   File \"/usr/local/lib/python3.7/dist-packages/keras/utils/traceback_utils.py\", line 92, in error_handler\n>>>     return fn(*args, **kwargs)\n>>> \n>>>   File \"/usr/local/lib/python3.7/dist-packages/transformers/models/bert/modeling_tf_bert.py\", line 870, in call\n>>>     encoder_outputs = self.encoder(\n>>> \n>>>   File \"/usr/local/lib/python3.7/dist-packages/keras/utils/traceback_utils.py\", line 64, in error_handler\n>>>     return fn(*args, **kwargs)\n>>> \n>>>   File \"/usr/local/lib/python3.7/dist-packages/keras/engine/base_layer.py\", line 1083, in __call__\n>>>     outputs = call_fn(inputs, *args, **kwargs)\n>>> \n>>>   File \"/usr/local/lib/python3.7/dist-packages/keras/utils/traceback_utils.py\", line 92, in error_handler\n>>>     return fn(*args, **kwargs)\n>>> \n>>>   File \"/usr/local/lib/python3.7/dist-packages/transformers/models/bert/modeling_tf_bert.py\", line 537, in call\n>>>     for i, layer_module in enumerate(self.layer):\n>>> \n>>>   File \"/usr/local/lib/python3.7/dist-packages/transformers/models/bert/modeling_tf_bert.py\", line 543, in call\n>>>     layer_outputs = layer_module(\n>>> \n>>>   File \"/usr/local/lib/python3.7/dist-packages/keras/utils/traceback_utils.py\", line 64, in error_handler\n>>>     return fn(*args, **kwargs)\n>>> \n>>>   File \"/usr/local/lib/python3.7/dist-packages/keras/engine/base_layer.py\", line 1083, in __call__\n>>>     outputs = call_fn(inputs, *args, **kwargs)\n>>> \n>>>   File \"/usr/local/lib/python3.7/dist-packages/keras/utils/traceback_utils.py\", line 92, in error_handler\n>>>     return fn(*args, **kwargs)\n>>> \n>>>   File \"/usr/local/lib/python3.7/dist-packages/transformers/models/bert/modeling_tf_bert.py\", line 453, in call\n>>>     self_attention_outputs = self.attention(\n>>> \n>>>   File \"/usr/local/lib/python3.7/dist-packages/keras/utils/traceback_utils.py\", line 64, in error_handler\n>>>     return fn(*args, **kwargs)\n>>> \n>>>   File \"/usr/local/lib/python3.7/dist-packages/keras/engine/base_layer.py\", line 1083, in __call__\n>>>     outputs = call_fn(inputs, *args, **kwargs)\n>>> \n>>>   File \"/usr/local/lib/python3.7/dist-packages/keras/utils/traceback_utils.py\", line 92, in error_handler\n>>>     return fn(*args, **kwargs)\n>>> \n>>>   File \"/usr/local/lib/python3.7/dist-packages/transformers/models/bert/modeling_tf_bert.py\", line 369, in call\n>>>     self_outputs = self.self_attention(\n>>> \n>>>   File \"/usr/local/lib/python3.7/dist-packages/keras/utils/traceback_utils.py\", line 64, in error_handler\n>>>     return fn(*args, **kwargs)\n>>> \n>>>   File \"/usr/local/lib/python3.7/dist-packages/keras/engine/base_layer.py\", line 1083, in __call__\n>>>     outputs = call_fn(inputs, *args, **kwargs)\n>>> \n>>>   File \"/usr/local/lib/python3.7/dist-packages/keras/utils/traceback_utils.py\", line 92, in error_handler\n>>>     return fn(*args, **kwargs)\n>>> \n>>>   File \"/usr/local/lib/python3.7/dist-packages/transformers/models/bert/modeling_tf_bert.py\", line 299, in call\n>>>     attention_scores = tf.matmul(query_layer, key_layer, transpose_b=True)\n>>> "
          ]
        }
      ]
    },
    {
      "cell_type": "code",
      "metadata": {
        "id": "pvUwucjKqF27"
      },
      "source": [
        "test_data = []\n",
        "all= \"\"\n",
        "data = test_data_df\n",
        "for index, row in data.iterrows():\n",
        "  sentence = \"\"\n",
        " \n",
        "  for x, value in row.iteritems():\n",
        "\n",
        "    sentence += str(value) + \" \"\n",
        "\n",
        "  test_data.append(sentence)"
      ],
      "execution_count": 58,
      "outputs": []
    },
    {
      "cell_type": "code",
      "metadata": {
        "id": "qgRNHKxcqt6L"
      },
      "source": [
        "from transformers import pipeline\n",
        "nlp = pipeline('ner', model=model, tokenizer=tokenizer,aggregation_strategy=\"first\")"
      ],
      "execution_count": 56,
      "outputs": []
    },
    {
      "cell_type": "code",
      "metadata": {
        "colab": {
          "base_uri": "https://localhost:8080/"
        },
        "id": "W5pGx9etdMqx",
        "outputId": "8cc37596-dc18-4221-f0e8-a82d7850da1f"
      },
      "source": [
        "print(test_data[200])\n",
        "nlp(test_data[200])"
      ],
      "execution_count": 59,
      "outputs": [
        {
          "output_type": "stream",
          "name": "stdout",
          "text": [
            "5 22 39563 M 4101971 MONCALIERI MRRMSM71R04F335M MORRIELLO MASSIMO TO MONCALIERI TO ITA 10024 24032017 51369 3 VIA SESTRIERE 53 4101971 29011964 12112021 05:49:25 CENS2011 \n"
          ]
        },
        {
          "output_type": "execute_result",
          "data": {
            "text/plain": [
              "[{'end': 110,\n",
              "  'entity_group': 'LABEL_4',\n",
              "  'score': 0.9966572,\n",
              "  'start': 0,\n",
              "  'word': '5 22 39563 M 4101971 MONCALIERI MRRMSM71R04F335M MORRIELLO MASSIMO TO MONCALIERI TO ITA 10024 24032017 51369 3'},\n",
              " {'end': 114,\n",
              "  'entity_group': 'LABEL_0',\n",
              "  'score': 0.9998611,\n",
              "  'start': 111,\n",
              "  'word': 'VIA'},\n",
              " {'end': 127,\n",
              "  'entity_group': 'LABEL_2',\n",
              "  'score': 0.9998846,\n",
              "  'start': 115,\n",
              "  'word': 'SESTRIERE 53'},\n",
              " {'end': 171,\n",
              "  'entity_group': 'LABEL_4',\n",
              "  'score': 0.99996877,\n",
              "  'start': 128,\n",
              "  'word': '4101971 29011964 12112021 05 : 49 : 25 CENS2011'}]"
            ]
          },
          "metadata": {},
          "execution_count": 59
        }
      ]
    },
    {
      "cell_type": "code",
      "metadata": {
        "colab": {
          "base_uri": "https://localhost:8080/",
          "height": 1000
        },
        "id": "0eQscEwaqcl6",
        "outputId": "e2c437b3-3eca-4b0c-f38e-d388b78daf00"
      },
      "source": [
        "for x in test_data:\n",
        "  print(nlp(x))"
      ],
      "execution_count": 31,
      "outputs": [
        {
          "output_type": "stream",
          "name": "stdout",
          "text": [
            "[{'entity_group': 'LABEL_3', 'score': 0.9998534, 'word': '5 22 38980 M 15091940 TORINO MNTGCR40P15L219H MONTICONE GIANCARLO TO MONCALIERI TO ITA 10024 24032017 51150 1', 'start': 0, 'end': 109}, {'entity_group': 'LABEL_2', 'score': 0.99971294, 'word': 'STRADA', 'start': 110, 'end': 116}, {'entity_group': 'LABEL_1', 'score': 0.99957955, 'word': 'VISONE 14', 'start': 117, 'end': 126}, {'entity_group': 'LABEL_3', 'score': 0.9998729, 'word': '6041970 6041970 12112021 05 : 49 : 25 CENS2011', 'start': 127, 'end': 169}]\n",
            "[{'entity_group': 'LABEL_3', 'score': 0.99986947, 'word': '5 22 38982 M 29081970 TORINO MNTGLI70M29L219D MONTICONE PIATINO', 'start': 0, 'end': 63}, {'entity_group': 'LABEL_0', 'score': 0.6962417, 'word': 'GIOELE', 'start': 64, 'end': 70}, {'entity_group': 'LABEL_3', 'score': 0.99985945, 'word': 'TO MONCALIERI TO ITA 10024 24032017 51150 3', 'start': 71, 'end': 114}, {'entity_group': 'LABEL_2', 'score': 0.99955386, 'word': 'STRADA', 'start': 115, 'end': 121}, {'entity_group': 'LABEL_1', 'score': 0.99944514, 'word': 'VISONE 14', 'start': 122, 'end': 131}, {'entity_group': 'LABEL_3', 'score': 0.9998737, 'word': '29081970 6041970 12112021 05 : 49 : 25 CENS2011', 'start': 132, 'end': 175}]\n",
            "[{'entity_group': 'LABEL_3', 'score': 0.99985516, 'word': \"5 22 38989 F 26061953 SAN DAMIANO D'ASTI MNTLGU53H66H811Q MONTICONE LUIGIA AT MONCALIERI TO ITA 10024 24032017 26536 1\", 'start': 0, 'end': 118}, {'entity_group': 'LABEL_2', 'score': 0.99965626, 'word': 'STRADA', 'start': 119, 'end': 125}, {'entity_group': 'LABEL_1', 'score': 0.999565, 'word': 'GENOVA 255', 'start': 126, 'end': 136}, {'entity_group': 'LABEL_3', 'score': 0.9829791, 'word': '/', 'start': 136, 'end': 137}, {'entity_group': 'LABEL_4', 'score': 0.8662638, 'word': 'BIS', 'start': 137, 'end': 140}, {'entity_group': 'LABEL_3', 'score': 0.9998485, 'word': '29082011 10091951 12112021 05 : 49 : 25 CENS2011', 'start': 141, 'end': 185}]\n",
            "[{'entity_group': 'LABEL_3', 'score': 0.99980927, 'word': '5 22 38999 F 2051955 MONCALIERI MNTMRN55E42F335M MONTICONE MARINA TO MONCALIERI TO ITA 10024 24032017 88301 2', 'start': 0, 'end': 109}, {'entity_group': 'LABEL_2', 'score': 0.9997304, 'word': 'STRADA', 'start': 110, 'end': 116}, {'entity_group': 'LABEL_1', 'score': 0.99956584, 'word': 'MIRAVALLE 24', 'start': 117, 'end': 129}, {'entity_group': 'LABEL_3', 'score': 0.9998756, 'word': '2051955 2051955 12112021 05 : 49 : 25 CENS2011', 'start': 130, 'end': 172}]\n",
            "[{'entity_group': 'LABEL_3', 'score': 0.99984986, 'word': '5 22 39000 F 11011972 TORINO MNTNDA72A51L219Y MONTICONE NADIA TO MONCALIERI TO ITA 10024 24032017 124093 23', 'start': 0, 'end': 107}, {'entity_group': 'LABEL_2', 'score': 0.9996665, 'word': 'STRADA', 'start': 108, 'end': 114}, {'entity_group': 'LABEL_1', 'score': 0.9995201, 'word': 'DELLA ROVERE 4', 'start': 115, 'end': 129}, {'entity_group': 'LABEL_3', 'score': 0.99988174, 'word': '2122009 2122009 12112021 05 : 49 : 25 CENS2011', 'start': 130, 'end': 172}]\n",
            "[{'entity_group': 'LABEL_3', 'score': 0.99984777, 'word': \"5 22 39001 M 12021927 SAN DAMIANO D'ASTI MNTVCN27B12H811Z MONTICONE VINCENZO AT MONCALIERI TO ITA 10024 24032017 51160 1\", 'start': 0, 'end': 120}, {'entity_group': 'LABEL_2', 'score': 0.9996136, 'word': 'VIA', 'start': 121, 'end': 124}, {'entity_group': 'LABEL_1', 'score': 0.99947274, 'word': 'GORIZIA 8', 'start': 125, 'end': 134}, {'entity_group': 'LABEL_3', 'score': 0.9998771, 'word': '6041972 6041972 12112021 05 : 49 : 25 CENS2011', 'start': 135, 'end': 177}]\n",
            "[{'entity_group': 'LABEL_3', 'score': 0.9836684, 'word': '5 22 39002 F 12041979 TORINO MNTVRN79D52L219M MONTICONE VIRNA TO MONCALIERI TO ITA 10024 24032017 51154 3', 'start': 0, 'end': 105}, {'entity_group': 'LABEL_2', 'score': 0.9997263, 'word': 'VIA', 'start': 106, 'end': 109}, {'entity_group': 'LABEL_1', 'score': 0.9985194, 'word': 'PASTRENGO 102', 'start': 110, 'end': 123}, {'entity_group': 'LABEL_3', 'score': 0.99987954, 'word': '12041979 12111968 12112021 05 : 49 : 25 CENS2011', 'start': 124, 'end': 168}]\n",
            "[{'entity_group': 'LABEL_3', 'score': 0.99987096, 'word': '5 22 39012 M 23011938 MONCALIERI MNTPTR38A23F335O MONTINI PIETRO TO MONCALIERI TO ITA 10024 24032017 51162 1', 'start': 0, 'end': 108}, {'entity_group': 'LABEL_2', 'score': 0.9991351, 'word': 'CORSO', 'start': 109, 'end': 114}, {'entity_group': 'LABEL_1', 'score': 0.9993296, 'word': 'FRATELLI ROSSELLI 10', 'start': 115, 'end': 135}, {'entity_group': 'LABEL_3', 'score': 0.9998756, 'word': '23011938 23011938 12112021 05 : 49 : 25 CENS2011', 'start': 136, 'end': 180}]\n",
            "[{'entity_group': 'LABEL_3', 'score': 0.99984574, 'word': \"5 22 39014 F 6081957 SAN NICOLO'D'ARCIDANO MNTLSE57M46A368F MONTIS ELISA OR MONCALIERI TO ITA 10024 24032017 19626 2\", 'start': 0, 'end': 117}, {'entity_group': 'LABEL_2', 'score': 0.99967426, 'word': 'STRADA', 'start': 118, 'end': 124}, {'entity_group': 'LABEL_1', 'score': 0.99935365, 'word': 'VILLASTELLONE 32', 'start': 125, 'end': 141}, {'entity_group': 'LABEL_3', 'score': 0.9829473, 'word': '/', 'start': 141, 'end': 142}, {'entity_group': 'LABEL_2', 'score': 0.85579914, 'word': 'BIS', 'start': 142, 'end': 145}, {'entity_group': 'LABEL_3', 'score': 0.99986964, 'word': '14031984 14031984 12112021 05 : 49 : 25 CENS2011', 'start': 146, 'end': 190}]\n",
            "[{'entity_group': 'LABEL_3', 'score': 0.99985415, 'word': \"5 22 39015 F 24041951 SAN NICOLO'D'ARCIDANO MNTMCL51D64A368L MONTIS MARCELLA OR MONCALIERI TO ITA 10024 24032017 86654 2\", 'start': 0, 'end': 121}, {'entity_group': 'LABEL_2', 'score': 0.9995875, 'word': 'VIA', 'start': 122, 'end': 125}, {'entity_group': 'LABEL_1', 'score': 0.99940264, 'word': 'MARENGO 10', 'start': 126, 'end': 136}, {'entity_group': 'LABEL_3', 'score': 0.9998771, 'word': '5101972 5101972 12112021 05 : 49 : 25 CENS2011', 'start': 137, 'end': 179}]\n",
            "[{'entity_group': 'LABEL_3', 'score': 0.9998482, 'word': '5 22 39016 F 10021947 SANLURI MNTMRA47B50H974B MONTIS MARIA CA MONCALIERI TO ITA 10024 24032017 85542 2', 'start': 0, 'end': 103}, {'entity_group': 'LABEL_2', 'score': 0.99960667, 'word': 'VIA', 'start': 104, 'end': 107}, {'entity_group': 'LABEL_1', 'score': 0.99945265, 'word': 'LUCREZIO CARO 35', 'start': 108, 'end': 124}, {'entity_group': 'LABEL_3', 'score': 0.9998773, 'word': '29091975 17121963 12112021 05 : 49 : 25 CENS2011', 'start': 125, 'end': 169}]\n",
            "[{'entity_group': 'LABEL_3', 'score': 0.9998365, 'word': '5 22 39023 M 16091956 PESARO MNTFNC56P16G479X MONTORSI FRANCO PS MONCALIERI TO ITA 10024 24032017 21388 1', 'start': 0, 'end': 105}, {'entity_group': 'LABEL_2', 'score': 0.9996945, 'word': 'STRADA', 'start': 106, 'end': 112}, {'entity_group': 'LABEL_1', 'score': 0.99945533, 'word': 'PASUBIO 38', 'start': 113, 'end': 123}, {'entity_group': 'LABEL_3', 'score': 0.99988365, 'word': '7011985 7011985 12112021 05 : 49 : 25 CENS2011', 'start': 124, 'end': 166}]\n",
            "[{'entity_group': 'LABEL_3', 'score': 0.9887732, 'word': '5 22 39024 F 15011949 GENOVA MNTSLV49A55D969U MONTORSI SILVIA GE MONCALIERI TO ITA 10024 24032017 18879 2', 'start': 0, 'end': 105}, {'entity_group': 'LABEL_2', 'score': 0.99970526, 'word': 'STRADA', 'start': 106, 'end': 112}, {'entity_group': 'LABEL_1', 'score': 0.9995534, 'word': 'STUPINIGI 6', 'start': 113, 'end': 124}, {'entity_group': 'LABEL_3', 'score': 0.9998812, 'word': '13092011 16041981 12112021 05 : 49 : 25 CENS2011', 'start': 125, 'end': 169}]\n",
            "[{'entity_group': 'LABEL_3', 'score': 0.99614066, 'word': '5 22 39031 F 20021976 TORINO MNTLSE76B60L219K MONTRUCCHIO ELISA TO MONCALIERI TO ITA 10024 24032017 134067 1', 'start': 0, 'end': 108}, {'entity_group': 'LABEL_2', 'score': 0.99973226, 'word': 'VIA', 'start': 109, 'end': 112}, {'entity_group': 'LABEL_1', 'score': 0.9995264, 'word': 'BOGINO 9', 'start': 113, 'end': 121}, {'entity_group': 'LABEL_3', 'score': 0.99987644, 'word': '17112016 17112016 12112021 05 : 49 : 25 CENS2011', 'start': 122, 'end': 166}]\n",
            "[{'entity_group': 'LABEL_3', 'score': 0.99987996, 'word': '5 22 39032 M 13091934 TORINO MNTNRC34P13L219Y MONTRUCCHIO', 'start': 0, 'end': 57}, {'entity_group': 'LABEL_0', 'score': 0.66194034, 'word': 'ENRICO', 'start': 58, 'end': 64}, {'entity_group': 'LABEL_3', 'score': 0.9998579, 'word': 'TO MONCALIERI TO ITA 10024 24032017 51166 1', 'start': 65, 'end': 108}, {'entity_group': 'LABEL_2', 'score': 0.99972486, 'word': 'VIA', 'start': 109, 'end': 112}, {'entity_group': 'LABEL_1', 'score': 0.99941194, 'word': 'MENTANA 11', 'start': 113, 'end': 123}, {'entity_group': 'LABEL_3', 'score': 0.99987495, 'word': '14091965 14091965 12112021 05 : 49 : 25 CENS2011', 'start': 124, 'end': 168}]\n",
            "[{'entity_group': 'LABEL_3', 'score': 0.9998426, 'word': '5 22 39033 F 7051945 ASTI MNTFNC45E47A479X MONTRUCCHIO FRANCA AT MONCALIERI TO ITA 10024 24032017 85706 2', 'start': 0, 'end': 105}, {'entity_group': 'LABEL_2', 'score': 0.9996125, 'word': 'VIA', 'start': 106, 'end': 109}, {'entity_group': 'LABEL_1', 'score': 0.9994096, 'word': 'AMILCARE PONCHIELLI 21', 'start': 110, 'end': 132}, {'entity_group': 'LABEL_3', 'score': 0.9998824, 'word': '29101975 13091972 12112021 05 : 49 : 25 CENS2011', 'start': 133, 'end': 177}]\n",
            "[{'entity_group': 'LABEL_3', 'score': 0.9994156, 'word': '5 22 39034 M 15031943 PANCALIERI MNTFNC43C15G303T MONTRUCCHIO FRANCO TO MONCALIERI TO ITA 10024 24032017 98327 1', 'start': 0, 'end': 112}, {'entity_group': 'LABEL_2', 'score': 0.9997131, 'word': 'VIA', 'start': 113, 'end': 116}, {'entity_group': 'LABEL_1', 'score': 0.9994991, 'word': 'BOGINO 9', 'start': 117, 'end': 125}, {'entity_group': 'LABEL_3', 'score': 0.999885, 'word': '26091979 26091979 12112021 05 : 49 : 25 CENS2011', 'start': 126, 'end': 170}]\n",
            "[{'entity_group': 'LABEL_3', 'score': 0.99466336, 'word': '5 22 39035 M 8021939 LIBIA MNTGNN39B08Z326M MONTRUCCHIO GIOVANNI EE MONCALIERI TO ITA 10024 24032017 51167 1', 'start': 0, 'end': 108}, {'entity_group': 'LABEL_2', 'score': 0.99848, 'word': 'BORGATA', 'start': 109, 'end': 116}, {'entity_group': 'LABEL_1', 'score': 0.9995414, 'word': 'TAGLIAFERRO 3', 'start': 117, 'end': 130}, {'entity_group': 'LABEL_3', 'score': 0.9677978, 'word': '/', 'start': 130, 'end': 131}, {'entity_group': 'LABEL_2', 'score': 0.97016144, 'word': 'TER', 'start': 131, 'end': 134}, {'entity_group': 'LABEL_3', 'score': 0.99986905, 'word': '5111973 5111973 12112021 05 : 49 : 25 CENS2011', 'start': 135, 'end': 177}]\n",
            "[{'entity_group': 'LABEL_3', 'score': 0.99988437, 'word': '5 22 39037 M 19101981 TORINO MNTMRC81R19L219Z MONTRUCCHIO', 'start': 0, 'end': 57}, {'entity_group': 'LABEL_0', 'score': 0.59090716, 'word': 'MARCO', 'start': 58, 'end': 63}, {'entity_group': 'LABEL_3', 'score': 0.9998661, 'word': 'TO MONCALIERI TO ITA 10024 24032017 131568 1', 'start': 64, 'end': 108}, {'entity_group': 'LABEL_2', 'score': 0.9997079, 'word': 'VIA', 'start': 109, 'end': 112}, {'entity_group': 'LABEL_1', 'score': 0.99951494, 'word': 'BOGINO 9', 'start': 113, 'end': 121}, {'entity_group': 'LABEL_3', 'score': 0.9998823, 'word': '15102015 23022015 12112021 05 : 49 : 25 CENS2011', 'start': 122, 'end': 166}]\n",
            "[{'entity_group': 'LABEL_3', 'score': 0.99988246, 'word': '5 22 39038 F 15121965 MONCALIERI MNTMRA65T55F335P MONTRUCCHIO', 'start': 0, 'end': 61}, {'entity_group': 'LABEL_0', 'score': 0.97620314, 'word': 'MAURA', 'start': 62, 'end': 67}, {'entity_group': 'LABEL_3', 'score': 0.9998497, 'word': 'TO MONCALIERI TO ITA 10024 24032017 2590 2', 'start': 68, 'end': 110}, {'entity_group': 'LABEL_2', 'score': 0.9989233, 'word': 'VIALE', 'start': 111, 'end': 116}, {'entity_group': 'LABEL_1', 'score': 0.9993997, 'word': 'ENRICO BERLINGUER 8', 'start': 117, 'end': 136}, {'entity_group': 'LABEL_3', 'score': 0.9998791, 'word': '15121965 15121965 12112021 05 : 49 : 25 CENS2011', 'start': 137, 'end': 181}]\n",
            "[{'entity_group': 'LABEL_3', 'score': 0.9998379, 'word': '5 22 39045 F 8041980 TORINO MNTCLD80D48L219L MONTUORI CLAUDIA TO MONCALIERI TO ITA 10024 24032017 115567 1', 'start': 0, 'end': 106}, {'entity_group': 'LABEL_2', 'score': 0.9996688, 'word': 'STRADA', 'start': 107, 'end': 113}, {'entity_group': 'LABEL_1', 'score': 0.9995721, 'word': 'RIGOLFO 10', 'start': 114, 'end': 124}, {'entity_group': 'LABEL_3', 'score': 0.9998758, 'word': '27022013 26022004 12112021 05 : 49 : 25 CENS2011', 'start': 125, 'end': 169}]\n",
            "[{'entity_group': 'LABEL_3', 'score': 0.9978113, 'word': '5 22 39048 M 22031938 TORINO MNZGCR38C22L219R MONZA GIAN CARLO TO MONCALIERI TO ITA 10024 24032017 51170 1', 'start': 0, 'end': 106}, {'entity_group': 'LABEL_2', 'score': 0.9996666, 'word': 'VIA', 'start': 107, 'end': 110}, {'entity_group': 'LABEL_1', 'score': 0.9994448, 'word': 'AMILCARE PONCHIELLI 65', 'start': 111, 'end': 133}, {'entity_group': 'LABEL_3', 'score': 0.9998704, 'word': '10091968 10091968 12112021 05 : 49 : 25 CENS2011', 'start': 134, 'end': 178}]\n",
            "[{'entity_group': 'LABEL_3', 'score': 0.99985963, 'word': '5 22 39049 F 22071966 TORINO MNZLDN66L62L219D MONZA LOREDANA TO MONCALIERI TO ITA 10024 24032017 1792 1', 'start': 0, 'end': 103}, {'entity_group': 'LABEL_2', 'score': 0.99973154, 'word': 'VIA', 'start': 104, 'end': 107}, {'entity_group': 'LABEL_1', 'score': 0.9995577, 'word': 'AMILCARE PONCHIELLI 55', 'start': 108, 'end': 130}, {'entity_group': 'LABEL_3', 'score': 0.99986756, 'word': '8062016 10091968 12112021 05 : 49 : 25 CENS2011', 'start': 131, 'end': 174}]\n",
            "[{'entity_group': 'LABEL_3', 'score': 0.9937766, 'word': '5 22 39053 M 2011947 REGGIO DI CALABRIA MRBLSS47A02H224R MORABITO ALESSIO RC MONCALIERI TO ITA 10024 24032017 51174 1', 'start': 0, 'end': 117}, {'entity_group': 'LABEL_2', 'score': 0.99954635, 'word': 'CORSO', 'start': 118, 'end': 123}, {'entity_group': 'LABEL_1', 'score': 0.9988123, 'word': 'ROMA 72', 'start': 124, 'end': 131}, {'entity_group': 'LABEL_3', 'score': 0.9998882, 'word': '8011992 25011974 12112021 05 : 49 : 25 CENS2011', 'start': 132, 'end': 175}]\n",
            "[{'entity_group': 'LABEL_3', 'score': 0.999884, 'word': '5 22 39054 M 21121973 TORINO MRBNDR73T21L219Q MORABITO', 'start': 0, 'end': 54}, {'entity_group': 'LABEL_0', 'score': 0.9405654, 'word': 'ANDREA', 'start': 55, 'end': 61}, {'entity_group': 'LABEL_3', 'score': 0.9998572, 'word': 'TO MONCALIERI TO ITA 10024 24032017 51175 3', 'start': 62, 'end': 105}, {'entity_group': 'LABEL_2', 'score': 0.99963766, 'word': 'STRADA', 'start': 106, 'end': 112}, {'entity_group': 'LABEL_1', 'score': 0.9987923, 'word': 'REVIGLIASCO 176', 'start': 113, 'end': 128}, {'entity_group': 'LABEL_3', 'score': 0.99988055, 'word': '3012014 6031975 12112021 05 : 49 : 25 CENS2011', 'start': 129, 'end': 171}]\n",
            "[{'entity_group': 'LABEL_3', 'score': 0.9977912, 'word': '5 22 39056 F 28081960 MONCALIERI MRBNMR60M68F335N MORABITO ANNA', 'start': 0, 'end': 63}, {'entity_group': 'LABEL_0', 'score': 0.92621696, 'word': 'MARIA', 'start': 64, 'end': 69}, {'entity_group': 'LABEL_3', 'score': 0.9998538, 'word': 'TO MONCALIERI TO ITA 10024 24032017 17895 2', 'start': 70, 'end': 113}, {'entity_group': 'LABEL_2', 'score': 0.99698883, 'word': 'PIAZZA', 'start': 114, 'end': 120}, {'entity_group': 'LABEL_1', 'score': 0.9993478, 'word': 'ARGIROUPOLI 6', 'start': 121, 'end': 134}, {'entity_group': 'LABEL_3', 'score': 0.99987006, 'word': '21081980 21081980 12112021 05 : 49 : 25 CENS2011', 'start': 135, 'end': 179}]\n",
            "[{'entity_group': 'LABEL_3', 'score': 0.99981016, 'word': '5 22 39057 M 24071975 REGGIO DI CALABRIA MRBNNN75L24H224L MORABITO ANTONINO RC MONCALIERI TO ITA 10024 24032017 51174 3', 'start': 0, 'end': 119}, {'entity_group': 'LABEL_2', 'score': 0.9995513, 'word': 'CORSO', 'start': 120, 'end': 125}, {'entity_group': 'LABEL_1', 'score': 0.9991808, 'word': 'ROMA 72', 'start': 126, 'end': 133}, {'entity_group': 'LABEL_3', 'score': 0.9998771, 'word': '24071975 25011974 12112021 05 : 49 : 25 CENS2011', 'start': 134, 'end': 178}]\n",
            "[{'entity_group': 'LABEL_3', 'score': 0.98247427, 'word': '5 22 39059 M 14101964 MONCALIERI MRBNTN64R14F335K MORABITO ANTONIO TO MONCALIERI TO ITA 10024 24032017 51181 3', 'start': 0, 'end': 110}, {'entity_group': 'LABEL_2', 'score': 0.99965477, 'word': 'VIA', 'start': 111, 'end': 114}, {'entity_group': 'LABEL_1', 'score': 0.9988911, 'word': 'S. MARIA 32', 'start': 115, 'end': 125}, {'entity_group': 'LABEL_3', 'score': 0.9998828, 'word': '7092009 22031963 12112021 05 : 49 : 25 CENS2011', 'start': 126, 'end': 169}]\n",
            "[{'entity_group': 'LABEL_3', 'score': 0.99906796, 'word': '5 22 39062 F 19051973 MONCALIERI MRBBBR73E59F335G MORABITO BARBARA TO MONCALIERI TO ITA 10024 24032017 129265 23', 'start': 0, 'end': 112}, {'entity_group': 'LABEL_2', 'score': 0.9996531, 'word': 'STRADA', 'start': 113, 'end': 119}, {'entity_group': 'LABEL_1', 'score': 0.9995928, 'word': 'GENOVA 66', 'start': 120, 'end': 129}, {'entity_group': 'LABEL_3', 'score': 0.9998811, 'word': '1072013 24062013 12112021 05 : 49 : 25 CENS2011', 'start': 130, 'end': 173}]\n",
            "[{'entity_group': 'LABEL_3', 'score': 0.99984515, 'word': '5 22 39064 M 11071978 MONCALIERI MRBDNL78L11F335X MORABITO DANIELE TO MONCALIERI TO ITA 10024 24032017 17944 3', 'start': 0, 'end': 110}, {'entity_group': 'LABEL_2', 'score': 0.9978218, 'word': 'BORGATA', 'start': 111, 'end': 118}, {'entity_group': 'LABEL_1', 'score': 0.99942577, 'word': 'BAUDUCCHI 17', 'start': 119, 'end': 131}, {'entity_group': 'LABEL_3', 'score': 0.99986935, 'word': '23061982 23061982 12112021 05 : 49 : 25 CENS2011', 'start': 132, 'end': 176}]\n",
            "[{'entity_group': 'LABEL_3', 'score': 0.9998723, 'word': '5 22 39065 M 19021955 REGGIO DI CALABRIA MRBDTR55B19H224C MORABITO', 'start': 0, 'end': 66}, {'entity_group': 'LABEL_4', 'score': 0.48181495, 'word': 'DEMETRIO', 'start': 67, 'end': 75}, {'entity_group': 'LABEL_3', 'score': 0.9998445, 'word': 'RC MONCALIERI TO ITA 10024 24032017 19106 1', 'start': 76, 'end': 119}, {'entity_group': 'LABEL_2', 'score': 0.9997595, 'word': 'VIA', 'start': 120, 'end': 123}, {'entity_group': 'LABEL_1', 'score': 0.99959624, 'word': 'SESTRIERE 24', 'start': 124, 'end': 136}, {'entity_group': 'LABEL_3', 'score': 0.99988437, 'word': '15061983 15061983 12112021 05 : 49 : 25 CENS2011', 'start': 137, 'end': 181}]\n",
            "[{'entity_group': 'LABEL_3', 'score': 0.999868, 'word': '5 22 39067 M 21121941 SAN GIORGIO MORGETO MRBDNC41T21H889L MORABITO DOMENICO RC MONCALIERI TO ITA 10024 24032017 51178 1', 'start': 0, 'end': 120}, {'entity_group': 'LABEL_2', 'score': 0.9913676, 'word': 'REGIONE', 'start': 121, 'end': 128}, {'entity_group': 'LABEL_1', 'score': 0.9993712, 'word': 'CARPICE 27', 'start': 129, 'end': 139}, {'entity_group': 'LABEL_3', 'score': 0.99986416, 'word': '22031963 22031963 12112021 05 : 49 : 25 CENS2011', 'start': 140, 'end': 184}]\n",
            "[{'entity_group': 'LABEL_3', 'score': 0.999587, 'word': '5 22 39069 M 16051955 TAURIANOVA MRBDNC55E16L063Y MORABITO DOMENICO RC MONCALIERI TO ITA 10024 24032017 85403 1', 'start': 0, 'end': 111}, {'entity_group': 'LABEL_2', 'score': 0.99965626, 'word': 'STRADA', 'start': 112, 'end': 118}, {'entity_group': 'LABEL_1', 'score': 0.99924374, 'word': 'GENOVA 179', 'start': 119, 'end': 129}, {'entity_group': 'LABEL_3', 'score': 0.99987507, 'word': '2091969 29031968 12112021 05 : 49 : 25 CENS2011', 'start': 130, 'end': 173}]\n",
            "[{'entity_group': 'LABEL_3', 'score': 0.9997566, 'word': '5 22 39070 F 14041952 SAN GIORGIO MORGETO MRBLNE52D54H889F MORABITO ELENA RC MONCALIERI TO ITA 10024 24032017 29973 2', 'start': 0, 'end': 117}, {'entity_group': 'LABEL_2', 'score': 0.9995522, 'word': 'VIA', 'start': 118, 'end': 121}, {'entity_group': 'LABEL_1', 'score': 0.9993662, 'word': 'GIUSEPPE ROMITA 3', 'start': 122, 'end': 139}, {'entity_group': 'LABEL_3', 'score': 0.9998733, 'word': '22031963 22031963 12112021 05 : 49 : 25 CENS2011', 'start': 140, 'end': 184}]\n",
            "[{'entity_group': 'LABEL_3', 'score': 0.9998426, 'word': '5 22 39074 M 13101966 BENESTARE MRBGNN66R13A780H MORABITO GIOVANNI RC MONCALIERI TO ITA 10024 24032017 127819 1', 'start': 0, 'end': 111}, {'entity_group': 'LABEL_2', 'score': 0.9995663, 'word': 'VIA', 'start': 112, 'end': 115}, {'entity_group': 'LABEL_1', 'score': 0.99957246, 'word': 'NILDE IOTTI 12', 'start': 116, 'end': 130}, {'entity_group': 'LABEL_3', 'score': 0.9998715, 'word': '28062012 28062012 12112021 05 : 49 : 25 CENS2011', 'start': 131, 'end': 175}]\n",
            "[{'entity_group': 'LABEL_3', 'score': 0.9998398, 'word': '5 22 39075 M 29091933 ARDORE MRBGPP33P29A385T MORABITO GIUSEPPE RC MONCALIERI TO ITA 10024 24032017 89809 1', 'start': 0, 'end': 107}, {'entity_group': 'LABEL_2', 'score': 0.9996646, 'word': 'STRADA', 'start': 108, 'end': 114}, {'entity_group': 'LABEL_1', 'score': 0.99944353, 'word': 'STUPINIGI 1', 'start': 115, 'end': 126}, {'entity_group': 'LABEL_3', 'score': 0.99988353, 'word': '5042012 12121978 12112021 05 : 49 : 25 CENS2011', 'start': 127, 'end': 170}]\n",
            "[{'entity_group': 'LABEL_3', 'score': 0.99980164, 'word': '5 22 39076 M 9091968 TORINO MRBGPP68P09L219O MORABITO GIUSEPPE TO MONCALIERI TO ITA 10024 24032017 51175 3', 'start': 0, 'end': 106}, {'entity_group': 'LABEL_2', 'score': 0.99952364, 'word': 'STRADA', 'start': 107, 'end': 113}, {'entity_group': 'LABEL_1', 'score': 0.99814856, 'word': 'REVIGLIASCO 176', 'start': 114, 'end': 129}, {'entity_group': 'LABEL_3', 'score': 0.99985844, 'word': '3012014 6031975 12112021 05 : 49 : 25 CENS2011', 'start': 130, 'end': 172}]\n",
            "[{'entity_group': 'LABEL_3', 'score': 0.99969435, 'word': '5 22 39081 F 8041939 REGGIO DI CALABRIA MRBMRA39D48H224U MORABITO MARIA RC MONCALIERI TO ITA 10024 24032017 51768 2', 'start': 0, 'end': 115}, {'entity_group': 'LABEL_2', 'score': 0.9996903, 'word': 'STRADA', 'start': 116, 'end': 122}, {'entity_group': 'LABEL_1', 'score': 0.99960226, 'word': 'GENOVA 85', 'start': 123, 'end': 132}, {'entity_group': 'LABEL_3', 'score': 0.99762684, 'word': '/', 'start': 132, 'end': 133}, {'entity_group': 'LABEL_2', 'score': 0.48768136, 'word': 'TER', 'start': 133, 'end': 136}, {'entity_group': 'LABEL_3', 'score': 0.9998668, 'word': '20091960 3021960 12112021 05 : 49 : 25 CENS2011', 'start': 137, 'end': 180}]\n",
            "[{'entity_group': 'LABEL_3', 'score': 0.9998016, 'word': '5 22 39082 F 21061942 FIERA DI PRIMIERO MRBMVT42H61D572I MORABITO MARIA', 'start': 0, 'end': 71}, {'entity_group': 'LABEL_0', 'score': 0.9951984, 'word': 'VITTORIA', 'start': 72, 'end': 80}, {'entity_group': 'LABEL_3', 'score': 0.99980783, 'word': 'TN MONCALIERI TO ITA 10024 24032017 85570 2', 'start': 81, 'end': 124}, {'entity_group': 'LABEL_2', 'score': 0.9996806, 'word': 'STRADA', 'start': 125, 'end': 131}, {'entity_group': 'LABEL_1', 'score': 0.99900556, 'word': 'GENOVA 129', 'start': 132, 'end': 142}, {'entity_group': 'LABEL_3', 'score': 0.98989654, 'word': '/', 'start': 142, 'end': 143}, {'entity_group': 'LABEL_4', 'score': 0.5996322, 'word': 'BIS', 'start': 143, 'end': 146}, {'entity_group': 'LABEL_3', 'score': 0.999858, 'word': '29091975 9011944 12112021 05 : 49 : 25 CENS2011', 'start': 147, 'end': 190}]\n",
            "[{'entity_group': 'LABEL_3', 'score': 0.99986666, 'word': '5 22 39083 M 17101937 SAN GIORGIO MORGETO MRBMRA37R17H889U MORABITO MARIO RC MONCALIERI TO ITA 10024 24032017 51181 1', 'start': 0, 'end': 117}, {'entity_group': 'LABEL_2', 'score': 0.9996305, 'word': 'VIA', 'start': 118, 'end': 121}, {'entity_group': 'LABEL_1', 'score': 0.9991335, 'word': 'S. MARIA 32', 'start': 122, 'end': 132}, {'entity_group': 'LABEL_3', 'score': 0.9998767, 'word': '22031963 22031963 12112021 05 : 49 : 25 CENS2011', 'start': 133, 'end': 177}]\n",
            "[{'entity_group': 'LABEL_3', 'score': 0.9998562, 'word': '5 22 39087 M 14041969 MONCALIERI MRBMHL69D14F335O MORABITO MICHELE TO MONCALIERI TO ITA 10024 24032017 107019 1', 'start': 0, 'end': 111}, {'entity_group': 'LABEL_2', 'score': 0.9926348, 'word': 'REGIONE', 'start': 112, 'end': 119}, {'entity_group': 'LABEL_1', 'score': 0.999153, 'word': 'CARPICE 27', 'start': 120, 'end': 130}, {'entity_group': 'LABEL_3', 'score': 0.99987876, 'word': '27091998 1041998 12112021 05 : 49 : 25 CENS2011', 'start': 131, 'end': 174}]\n",
            "[{'entity_group': 'LABEL_3', 'score': 0.9998678, 'word': '5 22 39088 M 2011950 SAN GIORGIO MORGETO MRBNLN50A02H889J MORABITO NATALINO RC MONCALIERI TO ITA 10024 24032017 51183 1', 'start': 0, 'end': 119}, {'entity_group': 'LABEL_2', 'score': 0.99962837, 'word': 'STRADA', 'start': 120, 'end': 126}, {'entity_group': 'LABEL_1', 'score': 0.9992375, 'word': 'GENOVA 179', 'start': 127, 'end': 137}, {'entity_group': 'LABEL_3', 'score': 0.9998692, 'word': '13031972 29031968 12112021 05 : 49 : 25 CENS2011', 'start': 138, 'end': 182}]\n",
            "[{'entity_group': 'LABEL_3', 'score': 0.9970259, 'word': '5 22 39089 F 30051969 MONCALIERI MRBRLL69E70F335G MORABITO ORNELLA TO MONCALIERI TO ITA 10024 24032017 123206 2', 'start': 0, 'end': 111}, {'entity_group': 'LABEL_2', 'score': 0.9981692, 'word': 'BORGATA', 'start': 112, 'end': 119}, {'entity_group': 'LABEL_1', 'score': 0.9994054, 'word': 'BAUDUCCHI 17', 'start': 120, 'end': 132}, {'entity_group': 'LABEL_3', 'score': 0.99987495, 'word': '17042009 17042009 12112021 05 : 49 : 25 CENS2011', 'start': 133, 'end': 177}]\n",
            "[{'entity_group': 'LABEL_3', 'score': 0.999763, 'word': '5 22 39091 F 12081949 BENESTARE MRBRSO49M52A780U MORABITO ROSA RC MONCALIERI TO ITA 10024 24032017 30735 2', 'start': 0, 'end': 106}, {'entity_group': 'LABEL_2', 'score': 0.996904, 'word': 'BORGATA', 'start': 107, 'end': 114}, {'entity_group': 'LABEL_1', 'score': 0.99847305, 'word': 'TAGLIAFERRO 2', 'start': 115, 'end': 128}, {'entity_group': 'LABEL_3', 'score': 0.9998725, 'word': '2091968 30061960 12112021 05 : 49 : 25 CENS2011', 'start': 129, 'end': 172}]\n",
            "[{'entity_group': 'LABEL_3', 'score': 0.99985975, 'word': '5 22 39092 F 20021939 SAN GIORGIO MORGETO MRBRSO39B60H889A MORABITO ROSA RC MONCALIERI TO ITA 10024 24032017 18963 2', 'start': 0, 'end': 116}, {'entity_group': 'LABEL_2', 'score': 0.99968326, 'word': 'STRADA', 'start': 117, 'end': 123}, {'entity_group': 'LABEL_1', 'score': 0.9994026, 'word': 'GENOVA 179', 'start': 124, 'end': 134}, {'entity_group': 'LABEL_3', 'score': 0.9998753, 'word': '26081983 26081983 12112021 05 : 49 : 25 CENS2011', 'start': 135, 'end': 179}]\n",
            "[{'entity_group': 'LABEL_3', 'score': 0.9998622, 'word': '5 22 39094 M 29021960 SAN GIORGIO MORGETO MRBMRT60B29H889L MORABITO UMBERTO RC MONCALIERI TO ITA 10024 24032017 3587 1', 'start': 0, 'end': 118}, {'entity_group': 'LABEL_2', 'score': 0.9996969, 'word': 'STRADA', 'start': 119, 'end': 125}, {'entity_group': 'LABEL_1', 'score': 0.9995508, 'word': 'GENOVA 76', 'start': 126, 'end': 135}, {'entity_group': 'LABEL_3', 'score': 0.96467966, 'word': '/ TER 2091969 2091969 12112021 05 : 49 : 25 CENS2011', 'start': 135, 'end': 182}]\n",
            "[{'entity_group': 'LABEL_3', 'score': 0.9997495, 'word': '5 22 39095 F 5091980 TORINO MRBVNT80P45L219Q MORABITO VALENTINA TO MONCALIERI TO ITA 10024 24032017 124486 1', 'start': 0, 'end': 108}, {'entity_group': 'LABEL_2', 'score': 0.9997196, 'word': 'STRADA', 'start': 109, 'end': 115}, {'entity_group': 'LABEL_1', 'score': 0.9991857, 'word': 'GENOVA 339', 'start': 116, 'end': 126}, {'entity_group': 'LABEL_3', 'score': 0.9998786, 'word': '7042010 7042010 12112021 05 : 49 : 25 CENS2011', 'start': 127, 'end': 169}]\n",
            "[{'entity_group': 'LABEL_3', 'score': 0.9998727, 'word': '5 22 39097 F 4021933 GIUGLIANO IN CAMPANIA MRCTRS33B44E054X MORACA TERESA NA MONCALIERI TO ITA 10024 24032017 48577 2', 'start': 0, 'end': 117}, {'entity_group': 'LABEL_2', 'score': 0.9996835, 'word': 'VIA', 'start': 118, 'end': 121}, {'entity_group': 'LABEL_1', 'score': 0.9993686, 'word': 'PESCHIERA 11', 'start': 122, 'end': 134}, {'entity_group': 'LABEL_3', 'score': 0.99986744, 'word': '7021972 7051965 12112021 05 : 49 : 25 CENS2011', 'start': 135, 'end': 177}]\n",
            "[{'entity_group': 'LABEL_3', 'score': 0.99087614, 'word': '5 22 39098 F 27051926 CASTINO MRGLVR26E67C323T MORAGLIO ELVIRA CN MONCALIERI TO ITA 10024 24032017 46027 1', 'start': 0, 'end': 106}, {'entity_group': 'LABEL_2', 'score': 0.9997161, 'word': 'VIA', 'start': 107, 'end': 110}, {'entity_group': 'LABEL_1', 'score': 0.9995338, 'word': 'FIUME 19', 'start': 111, 'end': 119}, {'entity_group': 'LABEL_3', 'score': 0.99987954, 'word': '20022012 17111956 12112021 05 : 49 : 25 CENS2011', 'start': 120, 'end': 164}]\n",
            "[{'entity_group': 'LABEL_3', 'score': 0.98470914, 'word': '5 22 39101 M 5071970 TORINO MRGWTR70L05L219T MORAGLIO WALTER TO MONCALIERI TO ITA 10024 24032017 19370 3', 'start': 0, 'end': 104}, {'entity_group': 'LABEL_2', 'score': 0.99974203, 'word': 'VIA', 'start': 105, 'end': 108}, {'entity_group': 'LABEL_1', 'score': 0.9993308, 'word': 'CRISTOFORO COLOMBO 10', 'start': 109, 'end': 130}, {'entity_group': 'LABEL_3', 'score': 0.99987113, 'word': '20121983 20121983 12112021 05 : 49 : 25 CENS2011', 'start': 131, 'end': 175}]\n",
            "[{'entity_group': 'LABEL_3', 'score': 0.9998436, 'word': '5 22 39105 F 12091965 TORINO MRMCLD65P52L219D MORAMARCO CLAUDIA TO MONCALIERI TO ITA 10024 24032017 107064 2', 'start': 0, 'end': 108}, {'entity_group': 'LABEL_2', 'score': 0.9996999, 'word': 'STRADA', 'start': 109, 'end': 115}, {'entity_group': 'LABEL_1', 'score': 0.99953586, 'word': 'GENOVA 66', 'start': 116, 'end': 125}, {'entity_group': 'LABEL_3', 'score': 0.9998811, 'word': '30031998 30031998 12112021 05 : 49 : 25 CENS2011', 'start': 126, 'end': 170}]\n",
            "[{'entity_group': 'LABEL_3', 'score': 0.99981064, 'word': '5 22 39106 F 9041969 TORINO MRMMRM69D49L219X MORAMARCO MIRIAM TO MONCALIERI TO ITA 10024 24032017 3737 2', 'start': 0, 'end': 104}, {'entity_group': 'LABEL_2', 'score': 0.9996163, 'word': 'VIA', 'start': 105, 'end': 108}, {'entity_group': 'LABEL_1', 'score': 0.9994362, 'word': 'MATILDE SERAO 3', 'start': 109, 'end': 124}, {'entity_group': 'LABEL_3', 'score': 0.9998786, 'word': '20031984 20031984 12112021 05 : 49 : 25 CENS2011', 'start': 125, 'end': 169}]\n",
            "[{'entity_group': 'LABEL_3', 'score': 0.999695, 'word': '5 22 39108 F 6111946 CASTIGLIONE DEL LAGO MRMCRN46S46C309W MORAMI CATERINA PG MONCALIERI TO ITA 10024 24032017 2113 1', 'start': 0, 'end': 117}, {'entity_group': 'LABEL_2', 'score': 0.9995709, 'word': 'VIA', 'start': 118, 'end': 121}, {'entity_group': 'LABEL_1', 'score': 0.9990198, 'word': \"MASSIMO D'AZEGLIO 3\", 'start': 122, 'end': 141}, {'entity_group': 'LABEL_3', 'score': 0.9998548, 'word': '12081960 28021938 12112021 05 : 49 : 25 CENS2011', 'start': 142, 'end': 186}]\n",
            "[{'entity_group': 'LABEL_3', 'score': 0.9993081, 'word': '5 22 39115 F 16081954 TUNISIA MRNCRN54M56Z352T MORANA CATERINA EE MONCALIERI TO ITA 10024 24032017 88076 2', 'start': 0, 'end': 106}, {'entity_group': 'LABEL_2', 'score': 0.9996804, 'word': 'STRADA', 'start': 107, 'end': 113}, {'entity_group': 'LABEL_1', 'score': 0.9991278, 'word': 'DEL PESCO 1', 'start': 114, 'end': 125}, {'entity_group': 'LABEL_3', 'score': 0.99987614, 'word': '21121970 21121970 12112021 05 : 49 : 25 CENS2011', 'start': 126, 'end': 170}]\n",
            "[{'entity_group': 'LABEL_3', 'score': 0.9998542, 'word': '5 22 39117 M 25081928 TUNISIA MRNTLI28M25Z352S MORANA ITALO', 'start': 0, 'end': 59}, {'entity_group': 'LABEL_0', 'score': 0.9618333, 'word': 'EE', 'start': 60, 'end': 62}, {'entity_group': 'LABEL_3', 'score': 0.99080855, 'word': 'MONCALIERI TO ITA 10024 24032017 51186 1', 'start': 63, 'end': 103}, {'entity_group': 'LABEL_2', 'score': 0.9996516, 'word': 'STRADA', 'start': 104, 'end': 110}, {'entity_group': 'LABEL_1', 'score': 0.9993437, 'word': 'DEL PESCO 1', 'start': 111, 'end': 122}, {'entity_group': 'LABEL_3', 'score': 0.99987537, 'word': '21121970 21121970 12112021 05 : 49 : 25 CENS2011', 'start': 123, 'end': 167}]\n",
            "[{'entity_group': 'LABEL_3', 'score': 0.99986166, 'word': '5 22 39120 F 30111975 MONCALIERI MRNBBR75S70F335N MORANDO BARBARA TO MONCALIERI TO ITA 10024 22032017 134665 25', 'start': 0, 'end': 111}, {'entity_group': 'LABEL_2', 'score': 0.99951005, 'word': 'STRADA', 'start': 112, 'end': 118}, {'entity_group': 'LABEL_1', 'score': 0.9993277, 'word': 'PRESERASCA 65', 'start': 119, 'end': 132}, {'entity_group': 'LABEL_3', 'score': 0.99987996, 'word': '14102014 30092014 12112021 05 : 49 : 25 CENS2011', 'start': 133, 'end': 177}]\n",
            "[{'entity_group': 'LABEL_3', 'score': 0.9998703, 'word': '5 22 39121 M 27021945 CERRO TANARO MRNGLL45B27C533E MORANDO GUGLIELMO AT MONCALIERI TO ITA 10024 24032017 51190 1', 'start': 0, 'end': 113}, {'entity_group': 'LABEL_2', 'score': 0.9995755, 'word': 'VIA', 'start': 114, 'end': 117}, {'entity_group': 'LABEL_1', 'score': 0.9995169, 'word': 'GIUSEPPE GIACOSA 16', 'start': 118, 'end': 137}, {'entity_group': 'LABEL_3', 'score': 0.9998636, 'word': '20031969 7091952 12112021 05 : 49 : 25 CENS2011', 'start': 138, 'end': 181}]\n",
            "[{'entity_group': 'LABEL_3', 'score': 0.99986523, 'word': '5 22 39125 M 29091976 MONCALIERI MRNMRC76P29F335Y MORANDO MARCO TO MONCALIERI TO ITA 10024 24032017 51190 3', 'start': 0, 'end': 107}, {'entity_group': 'LABEL_2', 'score': 0.9997374, 'word': 'VIA', 'start': 108, 'end': 111}, {'entity_group': 'LABEL_1', 'score': 0.9994815, 'word': 'GIUSEPPE GIACOSA 16', 'start': 112, 'end': 131}, {'entity_group': 'LABEL_3', 'score': 0.9998666, 'word': '29091976 7091952 12112021 05 : 49 : 25 CENS2011', 'start': 132, 'end': 175}]\n",
            "[{'entity_group': 'LABEL_3', 'score': 0.999861, 'word': '5 22 39126 F 4071966 MONCALIERI MRNNDA66L44F335L MORANDO NADIA TO MONCALIERI TO ITA 10024 24032017 24065 2', 'start': 0, 'end': 106}, {'entity_group': 'LABEL_2', 'score': 0.99958515, 'word': 'STRADA', 'start': 107, 'end': 113}, {'entity_group': 'LABEL_1', 'score': 0.9994073, 'word': 'DELLE MARGHERITE 4', 'start': 114, 'end': 132}, {'entity_group': 'LABEL_3', 'score': 0.9998627, 'word': '4071966 4071966 12112021 05 : 49 : 25 CENS2011', 'start': 133, 'end': 175}]\n",
            "[{'entity_group': 'LABEL_3', 'score': 0.9998623, 'word': '5 22 39130 F 3031935 BORGOMALE MRNRSN35C43B018R MORANDO ROSINA CN MONCALIERI TO ITA 10024 24032017 27220 1', 'start': 0, 'end': 106}, {'entity_group': 'LABEL_2', 'score': 0.9996366, 'word': 'VIA', 'start': 107, 'end': 110}, {'entity_group': 'LABEL_1', 'score': 0.9995963, 'word': 'AMILCARE PONCHIELLI 43', 'start': 111, 'end': 133}, {'entity_group': 'LABEL_3', 'score': 0.9982893, 'word': '/', 'start': 133, 'end': 134}, {'entity_group': 'LABEL_2', 'score': 0.57554096, 'word': 'BIS', 'start': 134, 'end': 137}, {'entity_group': 'LABEL_3', 'score': 0.99987197, 'word': '21122006 9101972 12112021 05 : 49 : 25 CENS2011', 'start': 138, 'end': 181}]\n",
            "[{'entity_group': 'LABEL_3', 'score': 0.9998563, 'word': '5 22 39132 F 10011936 BISACCIA MRNNNA36A50A881F MORANO ANNA AV MONCALIERI TO ITA 10024 24032017 49244 2', 'start': 0, 'end': 103}, {'entity_group': 'LABEL_2', 'score': 0.9997077, 'word': 'STRADA', 'start': 104, 'end': 110}, {'entity_group': 'LABEL_1', 'score': 0.99926376, 'word': 'GENOVA 79', 'start': 111, 'end': 120}, {'entity_group': 'LABEL_3', 'score': 0.99987465, 'word': '3061965 8031964 12112021 05 : 49 : 25 CENS2011', 'start': 121, 'end': 163}]\n",
            "[{'entity_group': 'LABEL_3', 'score': 0.99978817, 'word': '5 22 39140 M 6021931 POLONGHERA MRNGNN31B06G800N MORANO GIOVANNI CN MONCALIERI TO ITA 10024 24032017 51201 1', 'start': 0, 'end': 108}, {'entity_group': 'LABEL_2', 'score': 0.99953455, 'word': 'CORSO', 'start': 109, 'end': 114}, {'entity_group': 'LABEL_1', 'score': 0.9989389, 'word': 'ROMA 67', 'start': 115, 'end': 122}, {'entity_group': 'LABEL_3', 'score': 0.9998872, 'word': '15101959 15101959 12112021 05 : 49 : 25 CENS2011', 'start': 123, 'end': 167}]\n",
            "[{'entity_group': 'LABEL_3', 'score': 0.99911755, 'word': '5 22 39141 F 7031967 TORINO MRNLRA67C47L219E MORANO LAURA TO MONCALIERI TO ITA 10024 24032017 119874 1', 'start': 0, 'end': 102}, {'entity_group': 'LABEL_2', 'score': 0.9994264, 'word': 'CORSO', 'start': 103, 'end': 108}, {'entity_group': 'LABEL_1', 'score': 0.9988066, 'word': 'ROMA 69', 'start': 109, 'end': 116}, {'entity_group': 'LABEL_3', 'score': 0.9998796, 'word': '7052007 7052007 12112021 05 : 49 : 25 CENS2011', 'start': 117, 'end': 159}]\n",
            "[{'entity_group': 'LABEL_3', 'score': 0.99986523, 'word': '5 22 39142 F 14081946 TORINO MRNLCN46M54L219N MORANO LUCIANA TO MONCALIERI TO ITA 10024 24032017 28768 2', 'start': 0, 'end': 104}, {'entity_group': 'LABEL_2', 'score': 0.9997328, 'word': 'VIA', 'start': 105, 'end': 108}, {'entity_group': 'LABEL_1', 'score': 0.99938524, 'word': 'CAVOUR 54', 'start': 109, 'end': 118}, {'entity_group': 'LABEL_3', 'score': 0.9998685, 'word': '3061958 3061958 12112021 05 : 49 : 25 CENS2011', 'start': 119, 'end': 161}]\n",
            "[{'entity_group': 'LABEL_3', 'score': 0.9998694, 'word': '5 22 39144 F 29071960 TORINO MRNMRN60L69L219Q MORANO MARINA TO MONCALIERI TO ITA 10024 24032017 414 1', 'start': 0, 'end': 101}, {'entity_group': 'LABEL_2', 'score': 0.99952435, 'word': 'CORSO', 'start': 102, 'end': 107}, {'entity_group': 'LABEL_1', 'score': 0.99899226, 'word': 'ROMA 67', 'start': 108, 'end': 115}, {'entity_group': 'LABEL_3', 'score': 0.9998706, 'word': '22011998 29071960 12112021 05 : 49 : 25 CENS2011', 'start': 116, 'end': 160}]\n",
            "[{'entity_group': 'LABEL_3', 'score': 0.9998472, 'word': '5 22 39150 M 21111980 TORINO MRRFRZ80S21L219W MORARDO FABRIZIO TO MONCALIERI TO ITA 10024 24032017 129355 1', 'start': 0, 'end': 107}, {'entity_group': 'LABEL_2', 'score': 0.99964076, 'word': 'STRADA', 'start': 108, 'end': 114}, {'entity_group': 'LABEL_1', 'score': 0.9993033, 'word': 'CASTELVECCHIO 39', 'start': 115, 'end': 131}, {'entity_group': 'LABEL_3', 'score': 0.9998753, 'word': '17072013 16072013 12112021 05 : 49 : 25 CENS2011', 'start': 132, 'end': 176}]\n",
            "[{'entity_group': 'LABEL_3', 'score': 0.99874824, 'word': '5 22 39151 M 15071953 TORINO MRRGFR53L15L219V MORARDO GIAN FRANCO TO MONCALIERI TO ITA 10024 24032017 87436 1', 'start': 0, 'end': 109}, {'entity_group': 'LABEL_2', 'score': 0.99967563, 'word': 'STRADA', 'start': 110, 'end': 116}, {'entity_group': 'LABEL_1', 'score': 0.9994212, 'word': 'CASTELVECCHIO 39', 'start': 117, 'end': 133}, {'entity_group': 'LABEL_3', 'score': 0.9998734, 'word': '16072013 15071953 12112021 05 : 49 : 25 CENS2011', 'start': 134, 'end': 178}]\n",
            "[{'entity_group': 'LABEL_3', 'score': 0.99986154, 'word': '5 22 39155 M 21091958 TORINO MRBDRA58P21L219G MORBELLI DARIO TO MONCALIERI TO ITA 10024 24032017 19312 1', 'start': 0, 'end': 104}, {'entity_group': 'LABEL_2', 'score': 0.999624, 'word': 'STRADA', 'start': 105, 'end': 111}, {'entity_group': 'LABEL_1', 'score': 0.99958277, 'word': 'VECCHIA DEL MORIONDO 89', 'start': 112, 'end': 135}, {'entity_group': 'LABEL_3', 'score': 0.9997566, 'word': '/ A 21091958 21091958 12112021 05 : 49 : 25 CENS2011', 'start': 135, 'end': 182}]\n",
            "[{'entity_group': 'LABEL_3', 'score': 0.9998667, 'word': '5 22 39156 F 30081981 CARMAGNOLA MRBRKE81M70B791B MORBELLI ERIKA TO MONCALIERI TO ITA 10024 24032017 17338 3', 'start': 0, 'end': 108}, {'entity_group': 'LABEL_2', 'score': 0.99965376, 'word': 'STRADA', 'start': 109, 'end': 115}, {'entity_group': 'LABEL_1', 'score': 0.99936783, 'word': 'GENOVA 120', 'start': 116, 'end': 126}, {'entity_group': 'LABEL_3', 'score': 0.99987864, 'word': '30081981 1081952 12112021 05 : 49 : 25 CENS2011', 'start': 127, 'end': 170}]\n",
            "[{'entity_group': 'LABEL_3', 'score': 0.9998296, 'word': '5 22 39157 F 14091934 CASSINE MRBFNC34P54C027I MORBELLI FRANCA AL MONCALIERI TO ITA 10024 24032017 51210 1', 'start': 0, 'end': 106}, {'entity_group': 'LABEL_2', 'score': 0.99967945, 'word': 'STRADA', 'start': 107, 'end': 113}, {'entity_group': 'LABEL_1', 'score': 0.9994478, 'word': 'TORINO 73', 'start': 114, 'end': 123}, {'entity_group': 'LABEL_3', 'score': 0.9998811, 'word': '27082002 22111968 12112021 05 : 49 : 25 CENS2011', 'start': 124, 'end': 168}]\n",
            "[{'entity_group': 'LABEL_3', 'score': 0.9998703, 'word': '5 22 39158 M 1081952 TORINO MRBRRT52M01L219U MORBELLI ROBERTO TO MONCALIERI TO ITA 10024 24032017 17338 1', 'start': 0, 'end': 105}, {'entity_group': 'LABEL_2', 'score': 0.99970233, 'word': 'STRADA', 'start': 106, 'end': 112}, {'entity_group': 'LABEL_1', 'score': 0.9979379, 'word': 'GENOVA 120', 'start': 113, 'end': 123}, {'entity_group': 'LABEL_3', 'score': 0.99987954, 'word': '1081952 1081952 12112021 05 : 49 : 25 CENS2011', 'start': 124, 'end': 166}]\n",
            "[{'entity_group': 'LABEL_3', 'score': 0.9846748, 'word': '5 22 39161 F 12031979 TORINO MRBLRI79C52L219L MORBIDINI ILARIA TO MONCALIERI TO ITA 10024 24032017 19834 1', 'start': 0, 'end': 106}, {'entity_group': 'LABEL_2', 'score': 0.99971837, 'word': 'VIA', 'start': 107, 'end': 110}, {'entity_group': 'LABEL_1', 'score': 0.999419, 'word': 'MARIO PANNUNZIO 22', 'start': 111, 'end': 129}, {'entity_group': 'LABEL_3', 'score': 0.9998782, 'word': '2112011 26041984 12112021 05 : 49 : 25 CENS2011', 'start': 130, 'end': 173}]\n",
            "[{'entity_group': 'LABEL_3', 'score': 0.99914855, 'word': '5 22 39164 F 16091934 MILANO MRBGRL34P56F205N MORBILLI GABRIELLA MI MONCALIERI TO ITA 10024 24032017 51214 1', 'start': 0, 'end': 108}, {'entity_group': 'LABEL_2', 'score': 0.99922246, 'word': 'CORSO', 'start': 109, 'end': 114}, {'entity_group': 'LABEL_1', 'score': 0.99851954, 'word': 'TRIESTE 81', 'start': 115, 'end': 125}, {'entity_group': 'LABEL_3', 'score': 0.9998794, 'word': '18051973 18051973 12112021 05 : 49 : 25 CENS2011', 'start': 126, 'end': 170}]\n",
            "[{'entity_group': 'LABEL_3', 'score': 0.99986863, 'word': '5 22 39169 M 4121973 MONCALIERI MROFBA73T04F335S MOREA FABIO TO MONCALIERI TO ITA 10024 24032017 51215 3', 'start': 0, 'end': 104}, {'entity_group': 'LABEL_2', 'score': 0.99962705, 'word': 'VIA', 'start': 105, 'end': 108}, {'entity_group': 'LABEL_1', 'score': 0.9987701, 'word': 'S. GIOVANNI BOSCO 16', 'start': 109, 'end': 128}, {'entity_group': 'LABEL_3', 'score': 0.99987674, 'word': '10122011 2011970 12112021 05 : 49 : 25 CENS2011', 'start': 129, 'end': 172}]\n",
            "[{'entity_group': 'LABEL_3', 'score': 0.9998703, 'word': '5 22 39172 M 19121983 MONCALIERI MROMRZ83T19F335V MOREI MAURIZIO TO MONCALIERI TO ITA 10024 24032017 126929 1', 'start': 0, 'end': 109}, {'entity_group': 'LABEL_2', 'score': 0.99965274, 'word': 'STRADA', 'start': 110, 'end': 116}, {'entity_group': 'LABEL_1', 'score': 0.9995812, 'word': 'STUPINIGI 6', 'start': 117, 'end': 128}, {'entity_group': 'LABEL_3', 'score': 0.99762595, 'word': '/', 'start': 128, 'end': 129}, {'entity_group': 'LABEL_2', 'score': 0.95557874, 'word': 'BIS', 'start': 129, 'end': 132}, {'entity_group': 'LABEL_3', 'score': 0.9998733, 'word': '28122011 28122011 12112021 05 : 49 : 25 CENS2011', 'start': 133, 'end': 177}]\n",
            "[{'entity_group': 'LABEL_3', 'score': 0.9996375, 'word': '5 22 39179 F 22121939 SAN SEVERO MRLSNT39T62I158N MORELLI ASSUNTA FG MONCALIERI TO ITA 10024 24032017 29580 2', 'start': 0, 'end': 109}, {'entity_group': 'LABEL_2', 'score': 0.99964845, 'word': 'VIA', 'start': 110, 'end': 113}, {'entity_group': 'LABEL_1', 'score': 0.9988481, 'word': 'S. GIOVANNI BOSCO 18', 'start': 114, 'end': 133}, {'entity_group': 'LABEL_3', 'score': 0.99987096, 'word': '5091968 5091968 12112021 05 : 49 : 25 CENS2011', 'start': 134, 'end': 176}]\n",
            "[{'entity_group': 'LABEL_3', 'score': 0.9997191, 'word': '5 22 39185 F 23061954 ACRI MRLMRA54H63A053P MORELLI MARIA CS MONCALIERI TO ITA 10024 24032017 47259 2', 'start': 0, 'end': 101}, {'entity_group': 'LABEL_2', 'score': 0.99968845, 'word': 'VIA', 'start': 102, 'end': 105}, {'entity_group': 'LABEL_1', 'score': 0.9989912, 'word': 'S. CROCE 27', 'start': 106, 'end': 116}, {'entity_group': 'LABEL_3', 'score': 0.99988544, 'word': '14111973 14111973 12112021 05 : 49 : 25 CENS2011', 'start': 117, 'end': 161}]\n",
            "[{'entity_group': 'LABEL_3', 'score': 0.99759406, 'word': '5 22 39188 M 3071934 TORINO MRLSRG34L03L219B MORELLI SERGIO TO MONCALIERI TO ITA 10024 24032017 51221 1', 'start': 0, 'end': 103}, {'entity_group': 'LABEL_2', 'score': 0.9988592, 'word': 'VIALE', 'start': 104, 'end': 109}, {'entity_group': 'LABEL_1', 'score': 0.9994628, 'word': 'DEL CASTELLO 48', 'start': 110, 'end': 125}, {'entity_group': 'LABEL_3', 'score': 0.9998786, 'word': '3051965 3051965 12112021 05 : 49 : 25 CENS2011', 'start': 126, 'end': 168}]\n",
            "[{'entity_group': 'LABEL_3', 'score': 0.9998379, 'word': '5 22 39190 M 1041946 ISTRANA MRLDRN46D01E373G MORELLO ADRIANO TV MONCALIERI TO ITA 10024 24032017 51222 1', 'start': 0, 'end': 105}, {'entity_group': 'LABEL_2', 'score': 0.99817306, 'word': 'BORGATA', 'start': 106, 'end': 113}, {'entity_group': 'LABEL_1', 'score': 0.9993319, 'word': 'TETTI PIATTI 71', 'start': 114, 'end': 129}, {'entity_group': 'LABEL_3', 'score': 0.99988294, 'word': '9041969 9041969 12112021 05 : 49 : 25 CENS2011', 'start': 130, 'end': 172}]\n",
            "[{'entity_group': 'LABEL_3', 'score': 0.99986804, 'word': '5 22 39193 M 28111947 MONCALIERI MRLNGL47S28F335Z MORELLO ANGELO TO MONCALIERI TO ITA 10024 24032017 85184 1', 'start': 0, 'end': 108}, {'entity_group': 'LABEL_2', 'score': 0.99975586, 'word': 'VIA', 'start': 109, 'end': 112}, {'entity_group': 'LABEL_1', 'score': 0.9994772, 'word': 'ADA NEGRI 39', 'start': 113, 'end': 125}, {'entity_group': 'LABEL_3', 'score': 0.9998842, 'word': '28111947 28111947 12112021 05 : 49 : 25 CENS2011', 'start': 126, 'end': 170}]\n",
            "[{'entity_group': 'LABEL_3', 'score': 0.99974495, 'word': '5 22 39195 F 13041949 FUSCALDO MRLNNA49D53D828W MORELLO ANNA CS MONCALIERI TO ITA 10024 24032017 87639 2', 'start': 0, 'end': 104}, {'entity_group': 'LABEL_2', 'score': 0.9996935, 'word': 'VIA', 'start': 105, 'end': 108}, {'entity_group': 'LABEL_1', 'score': 0.9995047, 'word': 'PASTRENGO 25', 'start': 109, 'end': 121}, {'entity_group': 'LABEL_3', 'score': 0.99888635, 'word': '/', 'start': 121, 'end': 122}, {'entity_group': 'LABEL_2', 'score': 0.78067327, 'word': 'BIS', 'start': 122, 'end': 125}, {'entity_group': 'LABEL_3', 'score': 0.99988145, 'word': '8031972 8031972 12112021 05 : 49 : 25 CENS2011', 'start': 126, 'end': 168}]\n",
            "[{'entity_group': 'LABEL_3', 'score': 0.9998675, 'word': '5 22 39197 F 21081945 MONCALIERI MRLCRL45M61F335W MORELLO CARLA TO MONCALIERI TO ITA 10024 24032017 48383 2', 'start': 0, 'end': 107}, {'entity_group': 'LABEL_2', 'score': 0.9997201, 'word': 'VIA', 'start': 108, 'end': 111}, {'entity_group': 'LABEL_1', 'score': 0.99947065, 'word': 'PESCHIERA 16', 'start': 112, 'end': 124}, {'entity_group': 'LABEL_3', 'score': 0.99987155, 'word': '21081945 21081945 12112021 05 : 49 : 25 CENS2011', 'start': 125, 'end': 169}]\n",
            "[{'entity_group': 'LABEL_3', 'score': 0.9998711, 'word': '5 22 39198 M 3011915 MONCALIERI MRLCRL15A03F335X MORELLO CARLO TO MONCALIERI TO ITA 10024 24032017 51227 1', 'start': 0, 'end': 106}, {'entity_group': 'LABEL_2', 'score': 0.99970776, 'word': 'VIA', 'start': 107, 'end': 110}, {'entity_group': 'LABEL_1', 'score': 0.99944085, 'word': 'PESCHIERA 16', 'start': 111, 'end': 123}, {'entity_group': 'LABEL_3', 'score': 0.99987006, 'word': '3011915 3011915 12112021 05 : 49 : 25 CENS2011', 'start': 124, 'end': 166}]\n",
            "[{'entity_group': 'LABEL_3', 'score': 0.99986726, 'word': '5 22 39199 F 13101984 MONCALIERI MRLLNE84R53F335P MORELLO ELENA TO MONCALIERI TO ITA 10024 24032017 87122 3', 'start': 0, 'end': 107}, {'entity_group': 'LABEL_2', 'score': 0.9996351, 'word': 'STRADA', 'start': 108, 'end': 114}, {'entity_group': 'LABEL_1', 'score': 0.9993719, 'word': 'MAIOLE 65', 'start': 115, 'end': 124}, {'entity_group': 'LABEL_3', 'score': 0.99987537, 'word': '13101984 27061966 12112021 05 : 49 : 25 CENS2011', 'start': 125, 'end': 169}]\n",
            "[{'entity_group': 'LABEL_3', 'score': 0.999792, 'word': '5 22 39200 M 26011954 TORINO MRLGNE54A26L219M MORELLO EUGENIO TO MONCALIERI TO ITA 10024 24032017 19083 1', 'start': 0, 'end': 105}, {'entity_group': 'LABEL_2', 'score': 0.9996701, 'word': 'STRADA', 'start': 106, 'end': 112}, {'entity_group': 'LABEL_1', 'score': 0.99940777, 'word': 'MAIOLE 65', 'start': 113, 'end': 122}, {'entity_group': 'LABEL_3', 'score': 0.99988145, 'word': '28121981 28121981 12112021 05 : 49 : 25 CENS2011', 'start': 123, 'end': 167}]\n",
            "[{'entity_group': 'LABEL_3', 'score': 0.9998727, 'word': '5 22 39202 M 21011950 TORINO MRLFNC50A21L219Q MORELLO FRANCESCO TO MONCALIERI TO ITA 10024 24032017 118611 1', 'start': 0, 'end': 108}, {'entity_group': 'LABEL_2', 'score': 0.9996078, 'word': 'STRADA', 'start': 109, 'end': 115}, {'entity_group': 'LABEL_1', 'score': 0.99949294, 'word': 'REVIGLIASCO 35', 'start': 116, 'end': 130}, {'entity_group': 'LABEL_3', 'score': 0.9998717, 'word': '22062006 22062006 12112021 05 : 49 : 25 CENS2011', 'start': 131, 'end': 175}]\n",
            "[{'entity_group': 'LABEL_3', 'score': 0.99987084, 'word': '5 22 39203 M 29121947 TORINO MRLFNC47T29L219B MORELLO FRANCO TO MONCALIERI TO ITA 10024 24032017 51232 3', 'start': 0, 'end': 104}, {'entity_group': 'LABEL_2', 'score': 0.9996971, 'word': 'VIA', 'start': 105, 'end': 108}, {'entity_group': 'LABEL_1', 'score': 0.99940276, 'word': 'PESCHIERA 16', 'start': 109, 'end': 121}, {'entity_group': 'LABEL_3', 'score': 0.9998702, 'word': '29121947 7051912 12112021 05 : 49 : 25 CENS2011', 'start': 122, 'end': 165}]\n",
            "[{'entity_group': 'LABEL_3', 'score': 0.99987185, 'word': '5 22 39205 M 15071945 TORINO MRLGRG45L15L219Z MORELLO GIORGIO TO MONCALIERI TO ITA 10024 24032017 51233 1', 'start': 0, 'end': 105}, {'entity_group': 'LABEL_2', 'score': 0.9996603, 'word': 'STRADA', 'start': 106, 'end': 112}, {'entity_group': 'LABEL_1', 'score': 0.9995098, 'word': 'DEL CERVO 20', 'start': 113, 'end': 125}, {'entity_group': 'LABEL_3', 'score': 0.9998881, 'word': '15101973 15101973 12112021 05 : 49 : 25 CENS2011', 'start': 126, 'end': 170}]\n",
            "[{'entity_group': 'LABEL_3', 'score': 0.99987185, 'word': '5 22 39206 M 16011957 MONCALIERI MRLGNN57A16F335N MORELLO GIOVANNI TO MONCALIERI TO ITA 10024 24032017 120507 1', 'start': 0, 'end': 111}, {'entity_group': 'LABEL_2', 'score': 0.9996879, 'word': 'VIA', 'start': 112, 'end': 115}, {'entity_group': 'LABEL_1', 'score': 0.9995084, 'word': 'PESCHIERA 10', 'start': 116, 'end': 128}, {'entity_group': 'LABEL_3', 'score': 0.99986905, 'word': '14082007 14082007 12112021 05 : 49 : 25 CENS2011', 'start': 129, 'end': 173}]\n",
            "[{'entity_group': 'LABEL_3', 'score': 0.9998748, 'word': '5 22 39208 M 7051912 MONCALIERI MRLGNN12E07F335E MORELLO GIOVANNI TO MONCALIERI TO ITA 10024 24032017 51232 1', 'start': 0, 'end': 109}, {'entity_group': 'LABEL_2', 'score': 0.99973685, 'word': 'VIA', 'start': 110, 'end': 113}, {'entity_group': 'LABEL_1', 'score': 0.99949783, 'word': 'PESCHIERA 16', 'start': 114, 'end': 126}, {'entity_group': 'LABEL_3', 'score': 0.9998797, 'word': '7051912 7051912 12112021 05 : 49 : 25 CENS2011', 'start': 127, 'end': 169}]\n",
            "[{'entity_group': 'LABEL_3', 'score': 0.9997565, 'word': '5 22 39211 F 4041922 MONCALIERI MRLGPP22D44F335O MORELLO GIUSEPPINA TO MONCALIERI TO ITA 10024 24032017 30203 1', 'start': 0, 'end': 111}, {'entity_group': 'LABEL_2', 'score': 0.9997331, 'word': 'VIA', 'start': 112, 'end': 115}, {'entity_group': 'LABEL_1', 'score': 0.9994312, 'word': 'CERNAIA 3', 'start': 116, 'end': 125}, {'entity_group': 'LABEL_3', 'score': 0.9998804, 'word': '12052008 1121921 12112021 05 : 49 : 25 CENS2011', 'start': 126, 'end': 169}]\n",
            "[{'entity_group': 'LABEL_3', 'score': 0.9998661, 'word': '5 22 39212 M 22041973 TORINO MRLGZN73D22L219X MORELLO GRAZIANO TO MONCALIERI TO ITA 10024 24032017 118839 1', 'start': 0, 'end': 107}, {'entity_group': 'LABEL_2', 'score': 0.99835795, 'word': 'BORGATA', 'start': 108, 'end': 115}, {'entity_group': 'LABEL_1', 'score': 0.9988912, 'word': 'TETTI PIATTI 71', 'start': 116, 'end': 131}, {'entity_group': 'LABEL_3', 'score': 0.9998646, 'word': '3012013 19072006 12112021 05 : 49 : 25 CENS2011', 'start': 132, 'end': 175}]\n",
            "[{'entity_group': 'LABEL_3', 'score': 0.999875, 'word': '5 22 39213 F 26011935 MONCALIERI MRLDIA35A66F335T MORELLO IDA TO MONCALIERI TO ITA 10024 24032017 108148 6', 'start': 0, 'end': 106}, {'entity_group': 'LABEL_2', 'score': 0.99966145, 'word': 'VIA', 'start': 107, 'end': 110}, {'entity_group': 'LABEL_1', 'score': 0.9994336, 'word': 'ARMANDO DIAZ 4', 'start': 111, 'end': 125}, {'entity_group': 'LABEL_3', 'score': 0.9998824, 'word': '29032011 30031999 12112021 05 : 49 : 25 CENS2011', 'start': 126, 'end': 170}]\n",
            "[{'entity_group': 'LABEL_3', 'score': 0.9998689, 'word': '5 22 39217 M 24041954 MONCALIERI MRLLCN54D24F335B MORELLO LUCIANO TO MONCALIERI TO ITA 10024 24032017 51234 1', 'start': 0, 'end': 109}, {'entity_group': 'LABEL_2', 'score': 0.9996588, 'word': 'STRADA', 'start': 110, 'end': 116}, {'entity_group': 'LABEL_1', 'score': 0.9993574, 'word': 'DEI MUGHETTI 11', 'start': 117, 'end': 132}, {'entity_group': 'LABEL_3', 'score': 0.99987197, 'word': '17052012 19101915 12112021 05 : 49 : 25 CENS2011', 'start': 133, 'end': 177}]\n",
            "[{'entity_group': 'LABEL_3', 'score': 0.999808, 'word': '5 22 39218 M 29081952 TORINO MRLMRC52M29L219Z MORELLO MARCO TO MONCALIERI TO ITA 10024 24032017 87122 1', 'start': 0, 'end': 103}, {'entity_group': 'LABEL_2', 'score': 0.9996517, 'word': 'STRADA', 'start': 104, 'end': 110}, {'entity_group': 'LABEL_1', 'score': 0.9994271, 'word': 'MAIOLE 65', 'start': 111, 'end': 120}, {'entity_group': 'LABEL_3', 'score': 0.999876, 'word': '21121976 27061966 12112021 05 : 49 : 25 CENS2011', 'start': 121, 'end': 165}]\n",
            "[{'entity_group': 'LABEL_3', 'score': 0.99985623, 'word': '5 22 39221 F 11071941 TORINO MRLMGB41L51L219U MORELLO MARIA', 'start': 0, 'end': 59}, {'entity_group': 'LABEL_0', 'score': 0.88785857, 'word': 'GABRIELLA', 'start': 60, 'end': 69}, {'entity_group': 'LABEL_3', 'score': 0.99985343, 'word': 'TO MONCALIERI TO ITA 10024 24032017 48546 1', 'start': 70, 'end': 113}, {'entity_group': 'LABEL_2', 'score': 0.9996826, 'word': 'VIA', 'start': 114, 'end': 117}, {'entity_group': 'LABEL_1', 'score': 0.9994778, 'word': 'GIUSEPPE VERDI 9', 'start': 118, 'end': 134}, {'entity_group': 'LABEL_3', 'score': 0.9998673, 'word': '1012006 29101971 12112021 05 : 49 : 25 CENS2011', 'start': 135, 'end': 178}]\n",
            "[{'entity_group': 'LABEL_3', 'score': 0.9998108, 'word': '5 22 39224 F 6031938 MONCALIERI MRLMRA38C46F335W MORELLO MARIA TO MONCALIERI TO ITA 10024 24032017 114462 1', 'start': 0, 'end': 107}, {'entity_group': 'LABEL_2', 'score': 0.99970007, 'word': 'STRADA', 'start': 108, 'end': 114}, {'entity_group': 'LABEL_1', 'score': 0.9995072, 'word': 'LORETO 4', 'start': 115, 'end': 123}, {'entity_group': 'LABEL_3', 'score': 0.99988186, 'word': '6052003 6052003 12112021 05 : 49 : 25 CENS2011', 'start': 124, 'end': 166}]\n",
            "[{'entity_group': 'LABEL_3', 'score': 0.9998306, 'word': '5 22 39227 M 9051960 MONCALIERI MRLMRA60E09F335C MORELLO MAURO TO MONCALIERI TO ITA 10024 24032017 51227 3', 'start': 0, 'end': 106}, {'entity_group': 'LABEL_2', 'score': 0.99974704, 'word': 'VIA', 'start': 107, 'end': 110}, {'entity_group': 'LABEL_1', 'score': 0.9994829, 'word': 'PESCHIERA 16', 'start': 111, 'end': 123}, {'entity_group': 'LABEL_3', 'score': 0.99987537, 'word': '9051960 3011915 12112021 05 : 49 : 25 CENS2011', 'start': 124, 'end': 166}]\n",
            "[{'entity_group': 'LABEL_3', 'score': 0.99987155, 'word': '5 22 39229 M 23061956 MONCALIERI MRLMHL56H23F335W MORELLO MICHELE TO MONCALIERI TO ITA 10024 24032017 47782 1', 'start': 0, 'end': 109}, {'entity_group': 'LABEL_2', 'score': 0.9996572, 'word': 'VIA', 'start': 110, 'end': 113}, {'entity_group': 'LABEL_1', 'score': 0.99949074, 'word': 'LUCREZIO CARO 5', 'start': 114, 'end': 129}, {'entity_group': 'LABEL_3', 'score': 0.9998691, 'word': '21032017 7061934 12112021 05 : 49 : 25 CENS2011', 'start': 130, 'end': 173}]\n",
            "[{'entity_group': 'LABEL_3', 'score': 0.9998391, 'word': '5 22 39234 F 24061942 ISTRANA MRLRGN42H64E373W MORELLO REGINA TV MONCALIERI TO ITA 10024 24032017 26052 1', 'start': 0, 'end': 105}, {'entity_group': 'LABEL_2', 'score': 0.99972004, 'word': 'VIA', 'start': 106, 'end': 109}, {'entity_group': 'LABEL_1', 'score': 0.9995618, 'word': 'CARLO COLLODI 12', 'start': 110, 'end': 126}, {'entity_group': 'LABEL_3', 'score': 0.99988014, 'word': '2102012 8041969 12112021 05 : 49 : 25 CENS2011', 'start': 127, 'end': 169}]\n",
            "[{'entity_group': 'LABEL_3', 'score': 0.99987173, 'word': '5 22 39236 F 2121939 TORINO MRLRMI39T42L219D MORELLO IRMA TO MONCALIERI TO ITA 10024 24032017 13542 2', 'start': 0, 'end': 101}, {'entity_group': 'LABEL_2', 'score': 0.99957514, 'word': 'STRADA', 'start': 102, 'end': 108}, {'entity_group': 'LABEL_1', 'score': 0.99946976, 'word': 'LORETO 4', 'start': 109, 'end': 117}, {'entity_group': 'LABEL_3', 'score': 0.9998523, 'word': '5121953 27091937 12112021 05 : 49 : 25 CENS2011', 'start': 118, 'end': 161}]\n",
            "[{'entity_group': 'LABEL_3', 'score': 0.99985605, 'word': '5 22 39242 M 6111930 MONESIGLIO MRNBTS30S06F355W MORENA BATTISTA CN MONCALIERI TO ITA 10024 24032017 51243 1', 'start': 0, 'end': 108}, {'entity_group': 'LABEL_2', 'score': 0.9997293, 'word': 'VIA', 'start': 109, 'end': 112}, {'entity_group': 'LABEL_1', 'score': 0.9995491, 'word': 'GIOACCHINO ROSSINI 15', 'start': 113, 'end': 134}, {'entity_group': 'LABEL_3', 'score': 0.9998707, 'word': '28111968 28111968 12112021 05 : 49 : 25 CENS2011', 'start': 135, 'end': 179}]\n",
            "[{'entity_group': 'LABEL_3', 'score': 0.9997515, 'word': '5 22 39243 F 27051947 CALANNA MRNCRN47E67B379G MORENA CATERINA RC MONCALIERI TO ITA 10024 24032017 48862 2', 'start': 0, 'end': 106}, {'entity_group': 'LABEL_2', 'score': 0.99972653, 'word': 'STRADA', 'start': 107, 'end': 113}, {'entity_group': 'LABEL_1', 'score': 0.9992406, 'word': 'TORINO 1', 'start': 114, 'end': 122}, {'entity_group': 'LABEL_3', 'score': 0.9998773, 'word': '19111964 17011963 12112021 05 : 49 : 25 CENS2011', 'start': 123, 'end': 167}]\n",
            "[{'entity_group': 'LABEL_3', 'score': 0.9998656, 'word': '5 22 39244 F 19101934 CALANNA MRNCCL34R59B379Y MORENA CECILIA RC MONCALIERI TO ITA 10024 24032017 48549 1', 'start': 0, 'end': 105}, {'entity_group': 'LABEL_2', 'score': 0.9997075, 'word': 'VIA', 'start': 106, 'end': 109}, {'entity_group': 'LABEL_1', 'score': 0.9994049, 'word': 'CERNAIA 29', 'start': 110, 'end': 120}, {'entity_group': 'LABEL_3', 'score': 0.9998752, 'word': '22062006 10031962 12112021 05 : 49 : 25 CENS2011', 'start': 121, 'end': 165}]\n",
            "[{'entity_group': 'LABEL_3', 'score': 0.99987054, 'word': '5 22 39245 M 9071972 MONCALIERI MRNDGI72L09F335X MORENA DIEGO TO MONCALIERI TO ITA 10024 24032017 112103 23', 'start': 0, 'end': 107}, {'entity_group': 'LABEL_2', 'score': 0.99969435, 'word': 'VIA', 'start': 108, 'end': 111}, {'entity_group': 'LABEL_1', 'score': 0.9988711, 'word': 'S. VINCENZO 4', 'start': 112, 'end': 124}, {'entity_group': 'LABEL_3', 'score': 0.99987614, 'word': '26032013 22052001 12112021 05 : 49 : 25 CENS2011', 'start': 125, 'end': 169}]\n",
            "[{'entity_group': 'LABEL_3', 'score': 0.9998693, 'word': '5 22 39246 M 6091975 MONCALIERI MRNDNC75P06F335S MORENA DOMENICO TO MONCALIERI TO ITA 10024 24032017 126334 1', 'start': 0, 'end': 109}, {'entity_group': 'LABEL_2', 'score': 0.9997101, 'word': 'VIA', 'start': 110, 'end': 113}, {'entity_group': 'LABEL_1', 'score': 0.99946094, 'word': 'CERNAIA 29', 'start': 114, 'end': 124}, {'entity_group': 'LABEL_3', 'score': 0.9998772, 'word': '22082011 2082011 12112021 05 : 49 : 25 CENS2011', 'start': 125, 'end': 168}]\n",
            "[{'entity_group': 'LABEL_3', 'score': 0.9998613, 'word': '5 22 39249 M 18081953 CALANNA MRNFNC53M18B379Q MORENA FRANCESCO RC MONCALIERI TO ITA 10024 24032017 103787 1', 'start': 0, 'end': 108}, {'entity_group': 'LABEL_2', 'score': 0.9992792, 'word': 'CORSO', 'start': 109, 'end': 114}, {'entity_group': 'LABEL_1', 'score': 0.9993223, 'word': 'DANTE 6', 'start': 115, 'end': 122}, {'entity_group': 'LABEL_3', 'score': 0.9998807, 'word': '30031995 30031995 12112021 05 : 49 : 25 CENS2011', 'start': 123, 'end': 167}]\n",
            "[{'entity_group': 'LABEL_3', 'score': 0.99986076, 'word': '5 22 39253 F 9041937 CALANNA MRNMRA37D49B379B MORENA MARIA RC MONCALIERI TO ITA 10024 24032017 50328 1', 'start': 0, 'end': 102}, {'entity_group': 'LABEL_2', 'score': 0.9997163, 'word': 'VIA', 'start': 103, 'end': 106}, {'entity_group': 'LABEL_1', 'score': 0.9991865, 'word': 'MONTE NERO 30', 'start': 107, 'end': 120}, {'entity_group': 'LABEL_3', 'score': 0.9998773, 'word': '23112005 7031970 12112021 05 : 49 : 25 CENS2011', 'start': 121, 'end': 164}]\n",
            "[{'entity_group': 'LABEL_3', 'score': 0.99986714, 'word': '5 22 39254 M 28111940 CALANNA MRNPTR40S28B379X MORENA PIETRO RC MONCALIERI TO ITA 10024 24032017 51239 1', 'start': 0, 'end': 104}, {'entity_group': 'LABEL_2', 'score': 0.9982942, 'word': 'VICOLO', 'start': 105, 'end': 111}, {'entity_group': 'LABEL_1', 'score': 0.99937123, 'word': 'VINCENZO GIOBERTI 2', 'start': 112, 'end': 131}, {'entity_group': 'LABEL_3', 'score': 0.999876, 'word': '8061966 8061966 12112021 05 : 49 : 25 CENS2011', 'start': 132, 'end': 174}]\n",
            "[{'entity_group': 'LABEL_3', 'score': 0.99986506, 'word': '5 22 39256 M 21081981 MONCALIERI MRNSVT81M21F335O MORENA SALVATORE TO MONCALIERI TO ITA 10024 24032017 51246 3', 'start': 0, 'end': 110}, {'entity_group': 'LABEL_2', 'score': 0.9997401, 'word': 'VIA', 'start': 111, 'end': 114}, {'entity_group': 'LABEL_1', 'score': 0.99940705, 'word': 'CRISTOFORO COLOMBO 25', 'start': 115, 'end': 136}, {'entity_group': 'LABEL_3', 'score': 0.9998636, 'word': '21081981 15051961 12112021 05 : 49 : 25 CENS2011', 'start': 137, 'end': 181}]\n",
            "[{'entity_group': 'LABEL_3', 'score': 0.9998657, 'word': '5 22 39261 M 28011956 CANOSA DI PUGLIA MROSBN56A28B619A MOREO SABINO BA MONCALIERI TO ITA 10024 24032017 20598 1', 'start': 0, 'end': 112}, {'entity_group': 'LABEL_2', 'score': 0.9996132, 'word': 'STRADA', 'start': 113, 'end': 119}, {'entity_group': 'LABEL_1', 'score': 0.9994694, 'word': 'VILLASTELLONE 25', 'start': 120, 'end': 136}, {'entity_group': 'LABEL_3', 'score': 0.9871206, 'word': '/ 7 14091984 14091984 12112021 05 : 49 : 25 CENS2011', 'start': 136, 'end': 183}]\n",
            "[{'entity_group': 'LABEL_3', 'score': 0.99983037, 'word': '5 22 39264 F 21051946 PINEROLO MRRSVN46E61G674V MORERO SILVANA TO MONCALIERI TO ITA 10024 24032017 11331 1', 'start': 0, 'end': 106}, {'entity_group': 'LABEL_2', 'score': 0.9997071, 'word': 'VIA', 'start': 107, 'end': 110}, {'entity_group': 'LABEL_1', 'score': 0.9992857, 'word': 'QUINTINO SELLA 1', 'start': 111, 'end': 127}, {'entity_group': 'LABEL_3', 'score': 0.9998786, 'word': '24022004 5011970 12112021 05 : 49 : 25 CENS2011', 'start': 128, 'end': 171}]\n",
            "[{'entity_group': 'LABEL_3', 'score': 0.99986255, 'word': '5 22 39265 M 27081933 CARMAGNOLA MRSGNN33M27B791E MORESCHI GIOVANNI TO MONCALIERI TO ITA 10024 24032017 87799 1', 'start': 0, 'end': 111}, {'entity_group': 'LABEL_2', 'score': 0.9994426, 'word': 'CORSO', 'start': 112, 'end': 117}, {'entity_group': 'LABEL_1', 'score': 0.9991932, 'word': 'SAVONA 2', 'start': 118, 'end': 126}, {'entity_group': 'LABEL_3', 'score': 0.99987113, 'word': '9061977 9061977 12112021 05 : 49 : 25 CENS2011', 'start': 127, 'end': 169}]\n",
            "[{'entity_group': 'LABEL_3', 'score': 0.99984854, 'word': '5 22 39268 F 18031944 MONCALIERI MRSGPP44C58F335L MORESCO GIUSEPPINA TO MONCALIERI TO ITA 10024 24032017 28471 2', 'start': 0, 'end': 112}, {'entity_group': 'LABEL_2', 'score': 0.9997303, 'word': 'VIA', 'start': 113, 'end': 116}, {'entity_group': 'LABEL_1', 'score': 0.9994283, 'word': 'LUCREZIO CARO 8', 'start': 117, 'end': 132}, {'entity_group': 'LABEL_3', 'score': 0.9998782, 'word': '18031944 26081938 12112021 05 : 49 : 25 CENS2011', 'start': 133, 'end': 177}]\n",
            "[{'entity_group': 'LABEL_3', 'score': 0.9998717, 'word': '5 22 39275 M 14111965 MONCALIERI MRTLRT65S14F335B MORETTA ALBERTO TO MONCALIERI TO ITA 10024 24032017 101286 1', 'start': 0, 'end': 110}, {'entity_group': 'LABEL_2', 'score': 0.99853164, 'word': 'BORGATA', 'start': 111, 'end': 118}, {'entity_group': 'LABEL_1', 'score': 0.9991882, 'word': 'BAUDUCCHI 79', 'start': 119, 'end': 131}, {'entity_group': 'LABEL_3', 'score': 0.9998839, 'word': '9101992 9101992 12112021 05 : 49 : 25 CENS2011', 'start': 132, 'end': 174}]\n",
            "[{'entity_group': 'LABEL_3', 'score': 0.9998739, 'word': '5 22 39276 M 24111961 MONCALIERI MRTCRL61S24F335H MORETTA CARLO TO MONCALIERI TO ITA 10024 24032017 21498 1', 'start': 0, 'end': 107}, {'entity_group': 'LABEL_2', 'score': 0.99816537, 'word': 'BORGATA', 'start': 108, 'end': 115}, {'entity_group': 'LABEL_1', 'score': 0.99912447, 'word': 'BAUDUCCHI 79', 'start': 116, 'end': 128}, {'entity_group': 'LABEL_3', 'score': 0.99987495, 'word': '24111961 24111961 12112021 05 : 49 : 25 CENS2011', 'start': 129, 'end': 173}]\n",
            "[{'entity_group': 'LABEL_3', 'score': 0.99986124, 'word': '5 22 39277 F 26121932 MONCALIERI MRTCRN32T66F335O MORETTA CESARINA TO MONCALIERI TO ITA 10024 24032017 29249 1', 'start': 0, 'end': 110}, {'entity_group': 'LABEL_2', 'score': 0.9996205, 'word': 'STRADA', 'start': 111, 'end': 117}, {'entity_group': 'LABEL_1', 'score': 0.99955094, 'word': 'REVIGLIASCO 14', 'start': 118, 'end': 132}, {'entity_group': 'LABEL_3', 'score': 0.9998756, 'word': '26121932 26121932 12112021 05 : 49 : 25 CENS2011', 'start': 133, 'end': 177}]\n",
            "[{'entity_group': 'LABEL_3', 'score': 0.9998711, 'word': '5 22 39278 F 28091967 MONCALIERI MRTCLD67P68F335G MORETTA CLAUDIA TO MONCALIERI TO ITA 10024 24032017 86670 1', 'start': 0, 'end': 109}, {'entity_group': 'LABEL_2', 'score': 0.9997037, 'word': 'STRADA', 'start': 110, 'end': 116}, {'entity_group': 'LABEL_1', 'score': 0.99956906, 'word': 'GENOVA 206', 'start': 117, 'end': 127}, {'entity_group': 'LABEL_3', 'score': 0.9974648, 'word': '/', 'start': 127, 'end': 128}, {'entity_group': 'LABEL_2', 'score': 0.67027897, 'word': 'BIS', 'start': 128, 'end': 131}, {'entity_group': 'LABEL_3', 'score': 0.9998725, 'word': '8022003 18081976 12112021 05 : 49 : 25 CENS2011', 'start': 132, 'end': 175}]\n",
            "[{'entity_group': 'LABEL_3', 'score': 0.999863, 'word': '5 22 39279 F 6041985 MONCALIERI MRTLSE85D46F335Y MORETTA ELISA TO MONCALIERI TO ITA 10024 24032017 21498 3', 'start': 0, 'end': 106}, {'entity_group': 'LABEL_2', 'score': 0.9969539, 'word': 'BORGATA', 'start': 107, 'end': 114}, {'entity_group': 'LABEL_1', 'score': 0.99896425, 'word': 'BAUDUCCHI 79', 'start': 115, 'end': 127}, {'entity_group': 'LABEL_3', 'score': 0.9998725, 'word': '6041985 24111961 12112021 05 : 49 : 25 CENS2011', 'start': 128, 'end': 171}]\n",
            "[{'entity_group': 'LABEL_3', 'score': 0.99987173, 'word': '5 22 39283 M 22021967 TORINO MRTGPL67B22L219G MORETTA GIANPAOLO TO MONCALIERI TO ITA 10024 24032017 114232 1', 'start': 0, 'end': 108}, {'entity_group': 'LABEL_2', 'score': 0.99965584, 'word': 'STRADA', 'start': 109, 'end': 115}, {'entity_group': 'LABEL_1', 'score': 0.9993342, 'word': 'VECCHIA DEL MORIONDO 41', 'start': 116, 'end': 139}, {'entity_group': 'LABEL_3', 'score': 0.99986386, 'word': '6022003 6022003 12112021 05 : 49 : 25 CENS2011', 'start': 140, 'end': 182}]\n",
            "[{'entity_group': 'LABEL_3', 'score': 0.9998661, 'word': '5 22 39285 F 26121932 MONCALIERI MRTGPP32T66F335P MORETTA GIUSEPPINA TO MONCALIERI TO ITA 10024 24032017 46624 1', 'start': 0, 'end': 112}, {'entity_group': 'LABEL_2', 'score': 0.99963695, 'word': 'STRADA', 'start': 113, 'end': 119}, {'entity_group': 'LABEL_1', 'score': 0.9994055, 'word': 'REVIGLIASCO 14', 'start': 120, 'end': 134}, {'entity_group': 'LABEL_3', 'score': 0.9998714, 'word': '6081995 26121932 12112021 05 : 49 : 25 CENS2011', 'start': 135, 'end': 178}]\n",
            "[{'entity_group': 'LABEL_3', 'score': 0.999866, 'word': '5 22 39287 F 17071955 MONCALIERI MRTVNI55L57F335O MORETTA IVANA TO MONCALIERI TO ITA 10024 24032017 86387 2', 'start': 0, 'end': 107}, {'entity_group': 'LABEL_2', 'score': 0.9996519, 'word': 'STRADA', 'start': 108, 'end': 114}, {'entity_group': 'LABEL_1', 'score': 0.999508, 'word': 'VECCHIA DEL MORIONDO 35', 'start': 115, 'end': 138}, {'entity_group': 'LABEL_3', 'score': 0.9998719, 'word': '17071955 17071955 12112021 05 : 49 : 25 CENS2011', 'start': 139, 'end': 183}]\n",
            "[{'entity_group': 'LABEL_3', 'score': 0.99986786, 'word': '5 22 39288 F 24011942 MONCALIERI MRTLCU42A64F335K MORETTA LUCIA TO MONCALIERI TO ITA 10024 24032017 27123 1', 'start': 0, 'end': 107}, {'entity_group': 'LABEL_2', 'score': 0.9994241, 'word': 'CORSO', 'start': 108, 'end': 113}, {'entity_group': 'LABEL_1', 'score': 0.99931145, 'word': 'SAVONA 4', 'start': 114, 'end': 122}, {'entity_group': 'LABEL_3', 'score': 0.9973946, 'word': '/', 'start': 122, 'end': 123}, {'entity_group': 'LABEL_2', 'score': 0.98217404, 'word': 'BIS', 'start': 123, 'end': 126}, {'entity_group': 'LABEL_3', 'score': 0.99987763, 'word': '1012006 1121921 12112021 05 : 49 : 25 CENS2011', 'start': 127, 'end': 169}]\n",
            "[{'entity_group': 'LABEL_3', 'score': 0.99986076, 'word': '5 22 39293 F 8051939 BERRA MRTLRT39E48A806N MORETTI ALBERTA FE MONCALIERI TO ITA 10024 24032017 104105 2', 'start': 0, 'end': 104}, {'entity_group': 'LABEL_2', 'score': 0.9995799, 'word': 'VIA', 'start': 105, 'end': 108}, {'entity_group': 'LABEL_1', 'score': 0.9994683, 'word': 'RENZO CATTANEO 8', 'start': 109, 'end': 125}, {'entity_group': 'LABEL_3', 'score': 0.99988145, 'word': '9081995 9081995 12112021 05 : 49 : 25 CENS2011', 'start': 126, 'end': 168}]\n",
            "[{'entity_group': 'LABEL_3', 'score': 0.9993145, 'word': '5 22 39295 M 18031941 TORINO MRTLSN41C18L219C MORETTI ALESSANDRO TO MONCALIERI TO ITA 10024 24032017 51260 1', 'start': 0, 'end': 108}, {'entity_group': 'LABEL_2', 'score': 0.9995377, 'word': 'STRADA', 'start': 109, 'end': 115}, {'entity_group': 'LABEL_1', 'score': 0.99953717, 'word': 'GIORGIO DEVALLE 52', 'start': 116, 'end': 134}, {'entity_group': 'LABEL_3', 'score': 0.99988705, 'word': '4051973 4051973 12112021 05 : 49 : 25 CENS2011', 'start': 135, 'end': 177}]\n",
            "[{'entity_group': 'LABEL_3', 'score': 0.9998255, 'word': '5 22 39297 M 16111935 PORTO TOLLE MRTNGL35S16G923I MORETTI ANGELO RO MONCALIERI TO ITA 10024 24032017 51261 1', 'start': 0, 'end': 109}, {'entity_group': 'LABEL_2', 'score': 0.99971586, 'word': 'VIA', 'start': 110, 'end': 113}, {'entity_group': 'LABEL_1', 'score': 0.9995373, 'word': 'AMILCARE PONCHIELLI 39', 'start': 114, 'end': 136}, {'entity_group': 'LABEL_3', 'score': 0.99987876, 'word': '13051964 13051964 12112021 05 : 49 : 25 CENS2011', 'start': 137, 'end': 181}]\n",
            "[{'entity_group': 'LABEL_3', 'score': 0.9998583, 'word': '5 22 39298 M 14111949 TORINO MRTRND49S14L219L MORETTI ARMANDO TO MONCALIERI TO ITA 10024 24032017 51267 1', 'start': 0, 'end': 105}, {'entity_group': 'LABEL_2', 'score': 0.9996991, 'word': 'VIA', 'start': 106, 'end': 109}, {'entity_group': 'LABEL_1', 'score': 0.9987291, 'word': 'S. MARIA 37', 'start': 110, 'end': 120}, {'entity_group': 'LABEL_3', 'score': 0.99987817, 'word': '20122008 1121921 12112021 05 : 49 : 25 CENS2011', 'start': 121, 'end': 164}]\n",
            "[{'entity_group': 'LABEL_3', 'score': 0.9993622, 'word': '5 22 39302 M 20041969 FERRARA MRTDVD69D20D548I MORETTI DAVIDE FE MONCALIERI TO ITA 10024 24032017 107221 1', 'start': 0, 'end': 106}, {'entity_group': 'LABEL_2', 'score': 0.9996996, 'word': 'STRADA', 'start': 107, 'end': 113}, {'entity_group': 'LABEL_1', 'score': 0.9993442, 'word': 'TORINO 71', 'start': 114, 'end': 123}, {'entity_group': 'LABEL_3', 'score': 0.99987984, 'word': '16052011 30051998 12112021 05 : 49 : 25 CENS2011', 'start': 124, 'end': 168}]\n",
            "[{'entity_group': 'LABEL_3', 'score': 0.9998637, 'word': '5 22 39304 F 2051980 TORINO MRTFBN80E42L219M MORETTI FABIANA TO MONCALIERI TO ITA 10024 24032017 51260 3', 'start': 0, 'end': 104}, {'entity_group': 'LABEL_2', 'score': 0.9994587, 'word': 'STRADA', 'start': 105, 'end': 111}, {'entity_group': 'LABEL_1', 'score': 0.9995393, 'word': 'GIORGIO DEVALLE 52', 'start': 112, 'end': 130}, {'entity_group': 'LABEL_3', 'score': 0.9998797, 'word': '2051980 4051973 12112021 05 : 49 : 25 CENS2011', 'start': 131, 'end': 173}]\n",
            "[{'entity_group': 'LABEL_3', 'score': 0.999294, 'word': '5 22 39305 M 30081962 PORTO TOLLE MRTFLV62M30G923Y MORETTI FLAVIO RO MONCALIERI TO ITA 10024 24032017 51261 3', 'start': 0, 'end': 109}, {'entity_group': 'LABEL_2', 'score': 0.9997475, 'word': 'VIA', 'start': 110, 'end': 113}, {'entity_group': 'LABEL_1', 'score': 0.9994304, 'word': 'AMILCARE PONCHIELLI 39', 'start': 114, 'end': 136}, {'entity_group': 'LABEL_3', 'score': 0.9998691, 'word': '13051964 13051964 12112021 05 : 49 : 25 CENS2011', 'start': 137, 'end': 181}]\n",
            "[{'entity_group': 'LABEL_3', 'score': 0.9997665, 'word': '5 22 39308 F 29061953 BASTIA MRTGRG53H69A710S MORETTI GIORGIA CN MONCALIERI TO ITA 10024 24032017 29787 1', 'start': 0, 'end': 105}, {'entity_group': 'LABEL_2', 'score': 0.999692, 'word': 'VIA', 'start': 106, 'end': 109}, {'entity_group': 'LABEL_1', 'score': 0.99950075, 'word': 'SOMALIA 37', 'start': 110, 'end': 120}, {'entity_group': 'LABEL_3', 'score': 0.99988216, 'word': '23102014 7011972 12112021 05 : 49 : 25 CENS2011', 'start': 121, 'end': 164}]\n",
            "[{'entity_group': 'LABEL_3', 'score': 0.9998637, 'word': '5 22 39311 M 11061948 TAGLIO DI PO MRTLCN48H11L026M MORETTI LUCIANO RO MONCALIERI TO ITA 10024 24032017 51268 1', 'start': 0, 'end': 111}, {'entity_group': 'LABEL_2', 'score': 0.99970245, 'word': 'STRADA', 'start': 112, 'end': 118}, {'entity_group': 'LABEL_1', 'score': 0.999448, 'word': 'TORINO 67', 'start': 119, 'end': 128}, {'entity_group': 'LABEL_3', 'score': 0.999879, 'word': '24041972 24041972 12112021 05 : 49 : 25 CENS2011', 'start': 129, 'end': 173}]\n",
            "[{'entity_group': 'LABEL_3', 'score': 0.9776468, 'word': '5 22 39314 F 20021942 TORINO MRTMGR42B60L219T MORETTI MARIA GRAZIA TO MONCALIERI TO ITA 10024 24032017 29603 1', 'start': 0, 'end': 110}, {'entity_group': 'LABEL_2', 'score': 0.99970406, 'word': 'STRADA', 'start': 111, 'end': 117}, {'entity_group': 'LABEL_1', 'score': 0.9995779, 'word': 'STUPINIGI 8', 'start': 118, 'end': 129}, {'entity_group': 'LABEL_3', 'score': 0.9998828, 'word': '2072006 10061966 12112021 05 : 49 : 25 CENS2011', 'start': 130, 'end': 173}]\n",
            "[{'entity_group': 'LABEL_3', 'score': 0.9998103, 'word': '5 22 39316 F 19091941 MONTAGNANA MRTMLL41P59F394P MORETTI MIRELLA PD MONCALIERI TO ITA 10024 24032017 46163 1', 'start': 0, 'end': 109}, {'entity_group': 'LABEL_2', 'score': 0.9997395, 'word': 'VIA', 'start': 110, 'end': 113}, {'entity_group': 'LABEL_1', 'score': 0.9995017, 'word': 'JUGLARIS 58', 'start': 114, 'end': 125}, {'entity_group': 'LABEL_3', 'score': 0.9998794, 'word': '28082013 26091960 12112021 05 : 49 : 25 CENS2011', 'start': 126, 'end': 170}]\n",
            "[{'entity_group': 'LABEL_3', 'score': 0.9998315, 'word': '5 22 39319 F 17011975 MONCALIERI MRTSRN75A57F335F MORETTI SABRINA TO MONCALIERI TO ITA 10024 24032017 51267 3', 'start': 0, 'end': 109}, {'entity_group': 'LABEL_2', 'score': 0.99964994, 'word': 'VIA', 'start': 110, 'end': 113}, {'entity_group': 'LABEL_1', 'score': 0.9987437, 'word': 'S. MARIA 37', 'start': 114, 'end': 124}, {'entity_group': 'LABEL_3', 'score': 0.9998805, 'word': '20122008 1121921 12112021 05 : 49 : 25 CENS2011', 'start': 125, 'end': 168}]\n",
            "[{'entity_group': 'LABEL_3', 'score': 0.9998674, 'word': '5 22 39320 M 7111966 MONCALIERI MRTSFN66S07F335P MORETTI STEFANO TO MONCALIERI TO ITA 10024 24032017 117151 1', 'start': 0, 'end': 109}, {'entity_group': 'LABEL_2', 'score': 0.9991879, 'word': 'VIALE', 'start': 110, 'end': 115}, {'entity_group': 'LABEL_1', 'score': 0.9992117, 'word': 'ENRICO BERLINGUER 6', 'start': 116, 'end': 135}, {'entity_group': 'LABEL_3', 'score': 0.99985343, 'word': '4042005 4042005 12112021 05 : 49 : 25 CENS2011', 'start': 136, 'end': 178}]\n",
            "[{'entity_group': 'LABEL_3', 'score': 0.99984634, 'word': '5 22 39323 F 28081941 PORTO TOLLE MRTLGN41M68G923V MORETTO LUIGINA RO MONCALIERI TO ITA 10024 24032017 51261 2', 'start': 0, 'end': 110}, {'entity_group': 'LABEL_2', 'score': 0.99973035, 'word': 'VIA', 'start': 111, 'end': 114}, {'entity_group': 'LABEL_1', 'score': 0.9994162, 'word': 'AMILCARE PONCHIELLI 39', 'start': 115, 'end': 137}, {'entity_group': 'LABEL_3', 'score': 0.99986935, 'word': '13051964 13051964 12112021 05 : 49 : 25 CENS2011', 'start': 138, 'end': 182}]\n",
            "[{'entity_group': 'LABEL_3', 'score': 0.9992753, 'word': '5 22 39324 F 10121939 FRANCIA MRTMGR39T50Z110A MORETTO MARGUERITE EE MONCALIERI TO ITA 10024 24032017 17603 1', 'start': 0, 'end': 109}, {'entity_group': 'LABEL_2', 'score': 0.9997114, 'word': 'VIA', 'start': 110, 'end': 113}, {'entity_group': 'LABEL_1', 'score': 0.99905777, 'word': 'S. MATTEO 6', 'start': 114, 'end': 124}, {'entity_group': 'LABEL_3', 'score': 0.9998778, 'word': '16022004 9111981 12112021 05 : 49 : 25 CENS2011', 'start': 125, 'end': 168}]\n",
            "[{'entity_group': 'LABEL_3', 'score': 0.9998343, 'word': '5 22 39327 M 1051957 TORINO MRGFRC57E01L219C MORGANDO FEDERICO TO MONCALIERI TO ITA 10024 24032017 17605 1', 'start': 0, 'end': 106}, {'entity_group': 'LABEL_2', 'score': 0.99967486, 'word': 'STRADA', 'start': 107, 'end': 113}, {'entity_group': 'LABEL_1', 'score': 0.99939203, 'word': 'CASTELVECCHIO 27', 'start': 114, 'end': 130}, {'entity_group': 'LABEL_3', 'score': 0.99987674, 'word': '7071992 2111981 12112021 05 : 49 : 25 CENS2011', 'start': 131, 'end': 173}]\n",
            "[{'entity_group': 'LABEL_3', 'score': 0.99750924, 'word': '5 22 39328 F 21101953 TORINO MRGMRP53R61L219X MORGANDO MARIA PIA TO MONCALIERI TO ITA 10024 24032017 21022 1', 'start': 0, 'end': 108}, {'entity_group': 'LABEL_2', 'score': 0.99967, 'word': 'STRADA', 'start': 109, 'end': 115}, {'entity_group': 'LABEL_1', 'score': 0.9994494, 'word': 'CASTELVECCHIO 37', 'start': 116, 'end': 132}, {'entity_group': 'LABEL_3', 'score': 0.99988055, 'word': '2102006 15091983 12112021 05 : 49 : 25 CENS2011', 'start': 133, 'end': 176}]\n",
            "[{'entity_group': 'LABEL_3', 'score': 0.999863, 'word': '5 22 39332 M 11031956 TORINO MRGRNT56C11L219N MORGANTI RENATO TO MONCALIERI TO ITA 10024 24032017 51272 1', 'start': 0, 'end': 105}, {'entity_group': 'LABEL_2', 'score': 0.99964136, 'word': 'STRADA', 'start': 106, 'end': 112}, {'entity_group': 'LABEL_1', 'score': 0.99955505, 'word': 'GENOVA 147', 'start': 113, 'end': 123}, {'entity_group': 'LABEL_3', 'score': 0.95058435, 'word': '/ BIS 19102015 15021957 12112021 05 : 49 : 25 CENS2011', 'start': 123, 'end': 172}]\n",
            "[{'entity_group': 'LABEL_3', 'score': 0.99986917, 'word': '5 22 39338 F 28041954 PIACENZA MRODNL54D68G535I MORI DANILA PC MONCALIERI TO ITA 10024 24032017 86946 2', 'start': 0, 'end': 103}, {'entity_group': 'LABEL_2', 'score': 0.9997144, 'word': 'VIA', 'start': 104, 'end': 107}, {'entity_group': 'LABEL_1', 'score': 0.99925345, 'word': 'PASTRENGO 82', 'start': 108, 'end': 120}, {'entity_group': 'LABEL_3', 'score': 0.99988055, 'word': '21101976 25021954 12112021 05 : 49 : 25 CENS2011', 'start': 121, 'end': 165}]\n",
            "[{'entity_group': 'LABEL_3', 'score': 0.9998695, 'word': '5 22 39341 M 23071970 RIVOLI MROGNN70L23H355R MORI GIOVANNI TO MONCALIERI TO ITA 10024 24032017 51281 3', 'start': 0, 'end': 103}, {'entity_group': 'LABEL_2', 'score': 0.9996526, 'word': 'STRADA', 'start': 104, 'end': 110}, {'entity_group': 'LABEL_1', 'score': 0.9994469, 'word': 'GENOVA 82', 'start': 111, 'end': 120}, {'entity_group': 'LABEL_3', 'score': 0.99988216, 'word': '17081973 17081973 12112021 05 : 49 : 25 CENS2011', 'start': 121, 'end': 165}]\n",
            "[{'entity_group': 'LABEL_3', 'score': 0.9998712, 'word': '5 22 39345 M 12011973 MONCALIERI MRGLRT73A12F335N MORIGGIA ALBERTO TO MONCALIERI TO ITA 10024 24032017 111773 1', 'start': 0, 'end': 111}, {'entity_group': 'LABEL_2', 'score': 0.99963313, 'word': 'VIA', 'start': 112, 'end': 115}, {'entity_group': 'LABEL_1', 'score': 0.99951965, 'word': 'UGO FOSCOLO 4', 'start': 116, 'end': 129}, {'entity_group': 'LABEL_3', 'score': 0.99986947, 'word': '7022001 7022001 12112021 05 : 49 : 25 CENS2011', 'start': 130, 'end': 172}]\n",
            "[{'entity_group': 'LABEL_3', 'score': 0.9994025, 'word': '5 22 39351 M 25121948 MANCIANO MRNNGL48T25E875B MORINI ANGELO GR MONCALIERI TO ITA 10024 24032017 51287 1', 'start': 0, 'end': 105}, {'entity_group': 'LABEL_2', 'score': 0.99970764, 'word': 'STRADA', 'start': 106, 'end': 112}, {'entity_group': 'LABEL_1', 'score': 0.9994863, 'word': 'TORINO 3', 'start': 113, 'end': 121}, {'entity_group': 'LABEL_3', 'score': 0.9998824, 'word': '4112011 17011972 12112021 05 : 49 : 25 CENS2011', 'start': 122, 'end': 165}]\n",
            "[{'entity_group': 'LABEL_3', 'score': 0.98700875, 'word': '5 22 39354 M 20081950 FERRARA MRNGCR50M20D548A MORINI GIAN CARLO FE MONCALIERI TO ITA 10024 24032017 51289 1', 'start': 0, 'end': 108}, {'entity_group': 'LABEL_2', 'score': 0.9996491, 'word': 'STRADA', 'start': 109, 'end': 115}, {'entity_group': 'LABEL_1', 'score': 0.9996287, 'word': 'PRIVATA NASI 7', 'start': 116, 'end': 130}, {'entity_group': 'LABEL_3', 'score': 0.99988395, 'word': '5081963 5081963 12112021 05 : 49 : 25 CENS2011', 'start': 131, 'end': 173}]\n",
            "[{'entity_group': 'LABEL_3', 'score': 0.99987525, 'word': '5 22 39355 F 8121979 MONCALIERI MRNGRG79T48F335K MORINI GIORGIA TO MONCALIERI TO ITA 10024 24032017 124545 23', 'start': 0, 'end': 109}, {'entity_group': 'LABEL_2', 'score': 0.9995316, 'word': 'STRADA', 'start': 110, 'end': 116}, {'entity_group': 'LABEL_1', 'score': 0.99949783, 'word': 'PRIVATA NASI 29', 'start': 117, 'end': 132}, {'entity_group': 'LABEL_3', 'score': 0.99987656, 'word': '10022010 10022010 12112021 05 : 49 : 25 CENS2011', 'start': 133, 'end': 177}]\n",
            "[{'entity_group': 'LABEL_3', 'score': 0.99965644, 'word': '5 22 39356 M 5051947 FERRARA MRNLRD47E05D548Y MORINI LEONARDO FE MONCALIERI TO ITA 10024 24032017 51291 1', 'start': 0, 'end': 105}, {'entity_group': 'LABEL_2', 'score': 0.9996871, 'word': 'STRADA', 'start': 106, 'end': 112}, {'entity_group': 'LABEL_1', 'score': 0.999488, 'word': 'GENOVA 255', 'start': 113, 'end': 123}, {'entity_group': 'LABEL_3', 'score': 0.9998816, 'word': '5081963 22041959 12112021 05 : 49 : 25 CENS2011', 'start': 124, 'end': 167}]\n",
            "[{'entity_group': 'LABEL_3', 'score': 0.9998711, 'word': '5 22 39358 M 1031974 MONCALIERI MRNRNI74C01F335Y MORINI RINO TO MONCALIERI TO ITA 10024 24032017 127811 23', 'start': 0, 'end': 106}, {'entity_group': 'LABEL_2', 'score': 0.99971604, 'word': 'STRADA', 'start': 107, 'end': 113}, {'entity_group': 'LABEL_1', 'score': 0.999639, 'word': 'VILLASTELLONE 32', 'start': 114, 'end': 130}, {'entity_group': 'LABEL_3', 'score': 0.99729085, 'word': '/ TER 14012017 25062012 12112021 05 : 49 : 25 CENS2011', 'start': 130, 'end': 179}]\n",
            "[{'entity_group': 'LABEL_3', 'score': 0.99975395, 'word': '5 22 39366 F 21021938 MONCALIERI MRNNGL38B61F335N MORIONDO ANGELA TO MONCALIERI TO ITA 10024 24032017 25604 1', 'start': 0, 'end': 109}, {'entity_group': 'LABEL_2', 'score': 0.9997172, 'word': 'VIA', 'start': 110, 'end': 113}, {'entity_group': 'LABEL_1', 'score': 0.99937725, 'word': 'PIAVE 1', 'start': 114, 'end': 121}, {'entity_group': 'LABEL_3', 'score': 0.99987644, 'word': '7022016 23061937 12112021 05 : 49 : 25 CENS2011', 'start': 122, 'end': 165}]\n",
            "[{'entity_group': 'LABEL_3', 'score': 0.9997903, 'word': '5 22 39371 F 8121940 TROFARELLO MRNBRN40T48L445E MORIONDO BRUNA TO MONCALIERI TO ITA 10024 24032017 10786 2', 'start': 0, 'end': 107}, {'entity_group': 'LABEL_2', 'score': 0.9997864, 'word': 'STRADA', 'start': 108, 'end': 114}, {'entity_group': 'LABEL_1', 'score': 0.9994665, 'word': 'GENOVA 323', 'start': 115, 'end': 125}, {'entity_group': 'LABEL_3', 'score': 0.9998849, 'word': '8071959 8071959 12112021 05 : 49 : 25 CENS2011', 'start': 126, 'end': 168}]\n",
            "[{'entity_group': 'LABEL_3', 'score': 0.9998673, 'word': '5 22 39380 F 2031944 MORIONDO TORINESE MRNMLN44C42F733N MORIONDO EMILIANA TO MONCALIERI TO ITA 10024 24032017 47171 2', 'start': 0, 'end': 117}, {'entity_group': 'LABEL_2', 'score': 0.9996265, 'word': 'VIA', 'start': 118, 'end': 121}, {'entity_group': 'LABEL_1', 'score': 0.999434, 'word': 'FRATELLI CAIROLI 8', 'start': 122, 'end': 140}, {'entity_group': 'LABEL_3', 'score': 0.99987113, 'word': '10071967 10071967 12112021 05 : 49 : 25 CENS2011', 'start': 141, 'end': 185}]\n",
            "[{'entity_group': 'LABEL_3', 'score': 0.9998319, 'word': '5 22 39381 M 5081956 TORINO MRNNRC56M05L219K MORIONDO ENRICO TO MONCALIERI TO ITA 10024 24032017 51313 3', 'start': 0, 'end': 104}, {'entity_group': 'LABEL_2', 'score': 0.9996514, 'word': 'STRADA', 'start': 105, 'end': 111}, {'entity_group': 'LABEL_1', 'score': 0.99942946, 'word': 'BARAUDA 23', 'start': 112, 'end': 122}, {'entity_group': 'LABEL_3', 'score': 0.9998756, 'word': '15061962 15061962 12112021 05 : 49 : 25 CENS2011', 'start': 123, 'end': 167}]\n",
            "[{'entity_group': 'LABEL_3', 'score': 0.99614054, 'word': '5 22 39382 M 12121930 TORINO MRNTTR30T12L219O MORIONDO ETTORE TO MONCALIERI TO ITA 10024 24032017 51300 1', 'start': 0, 'end': 105}, {'entity_group': 'LABEL_2', 'score': 0.9962186, 'word': 'LUNGO', 'start': 106, 'end': 111}, {'entity_group': 'LABEL_1', 'score': 0.99946433, 'word': 'PO ABELLONIO 12', 'start': 112, 'end': 127}, {'entity_group': 'LABEL_3', 'score': 0.99987644, 'word': '12121930 12121930 12112021 05 : 49 : 25 CENS2011', 'start': 128, 'end': 172}]\n",
            "[{'entity_group': 'LABEL_3', 'score': 0.9996708, 'word': '5 22 39392 F 14051947 TORINO MRNGRL47E54L219B MORIONDO GABRIELLA TO MONCALIERI TO ITA 10024 24032017 117897 1', 'start': 0, 'end': 109}, {'entity_group': 'LABEL_2', 'score': 0.9997198, 'word': 'VIA', 'start': 110, 'end': 113}, {'entity_group': 'LABEL_1', 'score': 0.99942315, 'word': 'PUBLIO VIRGILIO MARONE 5', 'start': 114, 'end': 138}, {'entity_group': 'LABEL_3', 'score': 0.99987054, 'word': '14122005 14122005 12112021 05 : 49 : 25 CENS2011', 'start': 139, 'end': 183}]\n",
            "[{'entity_group': 'LABEL_3', 'score': 0.99986875, 'word': '5 22 39394 F 28101935 MONCALIERI MRNGNN35R68F335L MORIONDO GIOVANNA TO MONCALIERI TO ITA 10024 24032017 131783 1', 'start': 0, 'end': 112}, {'entity_group': 'LABEL_2', 'score': 0.9996511, 'word': 'VIA', 'start': 113, 'end': 116}, {'entity_group': 'LABEL_1', 'score': 0.99939555, 'word': 'ALFONSO LAMARMORA 4', 'start': 117, 'end': 136}, {'entity_group': 'LABEL_3', 'score': 0.9998722, 'word': '20042015 20042015 12112021 05 : 49 : 25 CENS2011', 'start': 137, 'end': 181}]\n",
            "[{'entity_group': 'LABEL_3', 'score': 0.99987197, 'word': '5 22 39397 M 13041938 MONCALIERI MRNGNN38D13F335W MORIONDO GIOVANNI', 'start': 0, 'end': 67}, {'entity_group': 'LABEL_0', 'score': 0.9525743, 'word': 'BATTISTA', 'start': 68, 'end': 76}, {'entity_group': 'LABEL_3', 'score': 0.9998577, 'word': 'TO MONCALIERI TO ITA 10024 24032017 51311 1', 'start': 77, 'end': 120}, {'entity_group': 'LABEL_2', 'score': 0.99957085, 'word': 'VIA', 'start': 121, 'end': 124}, {'entity_group': 'LABEL_1', 'score': 0.9994173, 'word': 'GIUSEPPE BOCCARDO 10', 'start': 125, 'end': 145}, {'entity_group': 'LABEL_3', 'score': 0.9998538, 'word': '13041938 13041938 12112021 05 : 49 : 25 CENS2011', 'start': 146, 'end': 190}]\n",
            "[{'entity_group': 'LABEL_3', 'score': 0.99984473, 'word': '5 22 39405 F 19051952 MONCALIERI MRNGPP52E59F335B MORIONDO GIUSEPPINA TO MONCALIERI TO ITA 10024 24032017 98459 1', 'start': 0, 'end': 113}, {'entity_group': 'LABEL_2', 'score': 0.9996495, 'word': 'STRADA', 'start': 114, 'end': 120}, {'entity_group': 'LABEL_1', 'score': 0.99924994, 'word': 'CUNIOLI ALTI 90', 'start': 121, 'end': 136}, {'entity_group': 'LABEL_3', 'score': 0.9998677, 'word': '22061979 2101975 12112021 05 : 49 : 25 CENS2011', 'start': 137, 'end': 180}]\n",
            "[{'entity_group': 'LABEL_3', 'score': 0.9998426, 'word': '5 22 39411 F 26081966 MONCALIERI MRNLLL66M66F335N MORIONDO LUISELLA TO MONCALIERI TO ITA 10024 24032017 112819 1', 'start': 0, 'end': 112}, {'entity_group': 'LABEL_2', 'score': 0.9996486, 'word': 'VIA', 'start': 113, 'end': 116}, {'entity_group': 'LABEL_1', 'score': 0.99948967, 'word': 'BOCCACCIO 7', 'start': 117, 'end': 128}, {'entity_group': 'LABEL_3', 'score': 0.99987984, 'word': '27012014 12012002 12112021 05 : 49 : 25 CENS2011', 'start': 129, 'end': 173}]\n",
            "[{'entity_group': 'LABEL_3', 'score': 0.9997884, 'word': '5 22 39413 F 14071926 MONCALIERI MRNMGH26L54F335Q MORIONDO MARGHERITA TO MONCALIERI TO ITA 10024 24032017 13972 1', 'start': 0, 'end': 113}, {'entity_group': 'LABEL_2', 'score': 0.9972362, 'word': 'LUNGO', 'start': 114, 'end': 119}, {'entity_group': 'LABEL_1', 'score': 0.9993744, 'word': 'PO ABELLONIO 12', 'start': 120, 'end': 135}, {'entity_group': 'LABEL_3', 'score': 0.999862, 'word': '14071926 14071926 12112021 05 : 49 : 25 CENS2011', 'start': 136, 'end': 180}]\n",
            "[{'entity_group': 'LABEL_3', 'score': 0.99984705, 'word': '5 22 39416 F 3021921 MONCALIERI MRNMRA21B43F335Q MORIONDO MARIA TO MONCALIERI TO ITA 10024 24032017 50108 1', 'start': 0, 'end': 107}, {'entity_group': 'LABEL_2', 'score': 0.9996822, 'word': 'VIA', 'start': 108, 'end': 111}, {'entity_group': 'LABEL_1', 'score': 0.9993364, 'word': 'MONTE GRAPPA 5', 'start': 112, 'end': 126}, {'entity_group': 'LABEL_3', 'score': 0.9998782, 'word': '17112007 3021921 12112021 05 : 49 : 25 CENS2011', 'start': 127, 'end': 170}]\n",
            "[{'entity_group': 'LABEL_3', 'score': 0.9998584, 'word': '5 22 39417 F 27031938 MONCALIERI MRNMRA38C67F335Q MORIONDO MARIA TO MONCALIERI TO ITA 10024 24032017 19321 2', 'start': 0, 'end': 108}, {'entity_group': 'LABEL_2', 'score': 0.9997006, 'word': 'STRADA', 'start': 109, 'end': 115}, {'entity_group': 'LABEL_1', 'score': 0.9994917, 'word': 'BELLAVISTA 8', 'start': 116, 'end': 128}, {'entity_group': 'LABEL_3', 'score': 0.9998792, 'word': '4101983 4101983 12112021 05 : 49 : 25 CENS2011', 'start': 129, 'end': 171}]\n",
            "[{'entity_group': 'LABEL_3', 'score': 0.99982643, 'word': '5 22 39420 F 10071935 MONCALIERI MRNMRA35L50F335V MORIONDO MARIA TO MONCALIERI TO ITA 10024 24032017 47778 2', 'start': 0, 'end': 108}, {'entity_group': 'LABEL_2', 'score': 0.9997077, 'word': 'STRADA', 'start': 109, 'end': 115}, {'entity_group': 'LABEL_1', 'score': 0.99952465, 'word': 'GENOVA 254', 'start': 116, 'end': 126}, {'entity_group': 'LABEL_3', 'score': 0.9998804, 'word': '8071968 10071935 12112021 05 : 49 : 25 CENS2011', 'start': 127, 'end': 170}]\n",
            "[{'entity_group': 'LABEL_3', 'score': 0.9985803, 'word': '5 22 39421 F 11041938 TORINO MRNMLN38D51L219T MORIONDO MARILENA TO MONCALIERI TO ITA 10024 24032017 45412 1', 'start': 0, 'end': 107}, {'entity_group': 'LABEL_2', 'score': 0.9993073, 'word': 'CORSO', 'start': 108, 'end': 113}, {'entity_group': 'LABEL_1', 'score': 0.9992274, 'word': 'TRIESTE 27', 'start': 114, 'end': 124}, {'entity_group': 'LABEL_3', 'score': 0.9998807, 'word': '22012001 26061962 12112021 05 : 49 : 25 CENS2011', 'start': 125, 'end': 169}]\n",
            "[{'entity_group': 'LABEL_3', 'score': 0.99986726, 'word': '5 22 39423 M 31121947 TORINO MRNMRA47T31L219Q MORIONDO MARIO TO MONCALIERI TO ITA 10024 24032017 51318 2', 'start': 0, 'end': 104}, {'entity_group': 'LABEL_2', 'score': 0.9996064, 'word': 'VIA', 'start': 105, 'end': 108}, {'entity_group': 'LABEL_1', 'score': 0.99945, 'word': 'GIUSEPPE BOCCARDO 10', 'start': 109, 'end': 129}, {'entity_group': 'LABEL_3', 'score': 0.9998796, 'word': '21022004 16021973 12112021 05 : 49 : 25 CENS2011', 'start': 130, 'end': 174}]\n",
            "[{'entity_group': 'LABEL_3', 'score': 0.99986064, 'word': '5 22 39428 M 23061968 MONCALIERI MRNPLA68H23F335V MORIONDO PAOLO TO MONCALIERI TO ITA 10024 24032017 118315 1', 'start': 0, 'end': 109}, {'entity_group': 'LABEL_2', 'score': 0.9996239, 'word': 'STRADA', 'start': 110, 'end': 116}, {'entity_group': 'LABEL_1', 'score': 0.99943125, 'word': 'REVIGLIASCO 10', 'start': 117, 'end': 131}, {'entity_group': 'LABEL_3', 'score': 0.9998729, 'word': '1122005 1122005 12112021 05 : 49 : 25 CENS2011', 'start': 132, 'end': 174}]\n",
            "[{'entity_group': 'LABEL_3', 'score': 0.9998361, 'word': '5 22 39429 F 5031968 MONCALIERI MRNRFL68C45F335N MORIONDO RAFFAELLA TO MONCALIERI TO ITA 10024 24032017 51326 3', 'start': 0, 'end': 111}, {'entity_group': 'LABEL_2', 'score': 0.9997127, 'word': 'VIA', 'start': 112, 'end': 115}, {'entity_group': 'LABEL_1', 'score': 0.99945813, 'word': 'FRATELLI CAIROLI 19', 'start': 116, 'end': 135}, {'entity_group': 'LABEL_3', 'score': 0.9998737, 'word': '5031968 20061938 12112021 05 : 49 : 25 CENS2011', 'start': 136, 'end': 179}]\n",
            "[{'entity_group': 'LABEL_3', 'score': 0.9998401, 'word': '5 22 39433 M 20061938 MONCALIERI MRNRLF38H20F335O MORIONDO RODOLFO', 'start': 0, 'end': 66}, {'entity_group': 'LABEL_0', 'score': 0.4897742, 'word': 'GIOVANNI', 'start': 67, 'end': 75}, {'entity_group': 'LABEL_3', 'score': 0.99986166, 'word': 'TO MONCALIERI TO ITA 10024 24032017 51326 1', 'start': 76, 'end': 119}, {'entity_group': 'LABEL_2', 'score': 0.99960685, 'word': 'VIA', 'start': 120, 'end': 123}, {'entity_group': 'LABEL_1', 'score': 0.9994096, 'word': 'FRATELLI CAIROLI 19', 'start': 124, 'end': 143}, {'entity_group': 'LABEL_3', 'score': 0.9998583, 'word': '20061938 20061938 12112021 05 : 49 : 25 CENS2011', 'start': 144, 'end': 188}]\n",
            "[{'entity_group': 'LABEL_3', 'score': 0.9998033, 'word': '5 22 39438 M 22041961 MONCALIERI MRNSRG61D22F335P MORIONDO SERGIO TO MONCALIERI TO ITA 10024 24032017 51299 3', 'start': 0, 'end': 109}, {'entity_group': 'LABEL_2', 'score': 0.9996964, 'word': 'STRADA', 'start': 110, 'end': 116}, {'entity_group': 'LABEL_1', 'score': 0.99948514, 'word': 'GENOVA 349', 'start': 117, 'end': 127}, {'entity_group': 'LABEL_3', 'score': 0.99319357, 'word': '/', 'start': 127, 'end': 128}, {'entity_group': 'LABEL_4', 'score': 0.5456808, 'word': 'BIS', 'start': 128, 'end': 131}, {'entity_group': 'LABEL_3', 'score': 0.9998703, 'word': '22041961 28111922 12112021 05 : 49 : 25 CENS2011', 'start': 132, 'end': 176}]\n"
          ]
        },
        {
          "output_type": "error",
          "ename": "KeyboardInterrupt",
          "evalue": "ignored",
          "traceback": [
            "\u001b[0;31m---------------------------------------------------------------------------\u001b[0m",
            "\u001b[0;31mKeyboardInterrupt\u001b[0m                         Traceback (most recent call last)",
            "\u001b[0;32m<ipython-input-31-4e7565c7c12e>\u001b[0m in \u001b[0;36m<module>\u001b[0;34m()\u001b[0m\n\u001b[1;32m      1\u001b[0m \u001b[0;32mfor\u001b[0m \u001b[0mx\u001b[0m \u001b[0;32min\u001b[0m \u001b[0mtest_data\u001b[0m\u001b[0;34m:\u001b[0m\u001b[0;34m\u001b[0m\u001b[0;34m\u001b[0m\u001b[0m\n\u001b[0;32m----> 2\u001b[0;31m   \u001b[0mprint\u001b[0m\u001b[0;34m(\u001b[0m\u001b[0mnlp\u001b[0m\u001b[0;34m(\u001b[0m\u001b[0mx\u001b[0m\u001b[0;34m)\u001b[0m\u001b[0;34m)\u001b[0m\u001b[0;34m\u001b[0m\u001b[0;34m\u001b[0m\u001b[0m\n\u001b[0m",
            "\u001b[0;32m/usr/local/lib/python3.7/dist-packages/transformers/pipelines/token_classification.py\u001b[0m in \u001b[0;36m__call__\u001b[0;34m(self, inputs, **kwargs)\u001b[0m\n\u001b[1;32m    179\u001b[0m         \u001b[0mself\u001b[0m\u001b[0;34m.\u001b[0m\u001b[0moffset_mappings\u001b[0m \u001b[0;34m=\u001b[0m \u001b[0moffset_mappings\u001b[0m\u001b[0;34m\u001b[0m\u001b[0;34m\u001b[0m\u001b[0m\n\u001b[1;32m    180\u001b[0m \u001b[0;34m\u001b[0m\u001b[0m\n\u001b[0;32m--> 181\u001b[0;31m         \u001b[0;32mreturn\u001b[0m \u001b[0msuper\u001b[0m\u001b[0;34m(\u001b[0m\u001b[0;34m)\u001b[0m\u001b[0;34m.\u001b[0m\u001b[0m__call__\u001b[0m\u001b[0;34m(\u001b[0m\u001b[0minputs\u001b[0m\u001b[0;34m,\u001b[0m \u001b[0;34m**\u001b[0m\u001b[0mkwargs\u001b[0m\u001b[0;34m)\u001b[0m\u001b[0;34m\u001b[0m\u001b[0;34m\u001b[0m\u001b[0m\n\u001b[0m\u001b[1;32m    182\u001b[0m \u001b[0;34m\u001b[0m\u001b[0m\n\u001b[1;32m    183\u001b[0m     \u001b[0;32mdef\u001b[0m \u001b[0mpreprocess\u001b[0m\u001b[0;34m(\u001b[0m\u001b[0mself\u001b[0m\u001b[0;34m,\u001b[0m \u001b[0msentence\u001b[0m\u001b[0;34m)\u001b[0m\u001b[0;34m:\u001b[0m\u001b[0;34m\u001b[0m\u001b[0;34m\u001b[0m\u001b[0m\n",
            "\u001b[0;32m/usr/local/lib/python3.7/dist-packages/transformers/pipelines/base.py\u001b[0m in \u001b[0;36m__call__\u001b[0;34m(self, inputs, num_workers, *args, **kwargs)\u001b[0m\n\u001b[1;32m    922\u001b[0m             \u001b[0;32mreturn\u001b[0m \u001b[0mself\u001b[0m\u001b[0;34m.\u001b[0m\u001b[0mget_iterator\u001b[0m\u001b[0;34m(\u001b[0m\u001b[0minputs\u001b[0m\u001b[0;34m,\u001b[0m \u001b[0mnum_workers\u001b[0m\u001b[0;34m,\u001b[0m \u001b[0mpreprocess_params\u001b[0m\u001b[0;34m,\u001b[0m \u001b[0mforward_params\u001b[0m\u001b[0;34m,\u001b[0m \u001b[0mpostprocess_params\u001b[0m\u001b[0;34m)\u001b[0m\u001b[0;34m\u001b[0m\u001b[0;34m\u001b[0m\u001b[0m\n\u001b[1;32m    923\u001b[0m         \u001b[0;32melse\u001b[0m\u001b[0;34m:\u001b[0m\u001b[0;34m\u001b[0m\u001b[0;34m\u001b[0m\u001b[0m\n\u001b[0;32m--> 924\u001b[0;31m             \u001b[0;32mreturn\u001b[0m \u001b[0mself\u001b[0m\u001b[0;34m.\u001b[0m\u001b[0mrun_single\u001b[0m\u001b[0;34m(\u001b[0m\u001b[0minputs\u001b[0m\u001b[0;34m,\u001b[0m \u001b[0mpreprocess_params\u001b[0m\u001b[0;34m,\u001b[0m \u001b[0mforward_params\u001b[0m\u001b[0;34m,\u001b[0m \u001b[0mpostprocess_params\u001b[0m\u001b[0;34m)\u001b[0m\u001b[0;34m\u001b[0m\u001b[0;34m\u001b[0m\u001b[0m\n\u001b[0m\u001b[1;32m    925\u001b[0m \u001b[0;34m\u001b[0m\u001b[0m\n\u001b[1;32m    926\u001b[0m     \u001b[0;32mdef\u001b[0m \u001b[0mrun_multi\u001b[0m\u001b[0;34m(\u001b[0m\u001b[0mself\u001b[0m\u001b[0;34m,\u001b[0m \u001b[0minputs\u001b[0m\u001b[0;34m,\u001b[0m \u001b[0mpreprocess_params\u001b[0m\u001b[0;34m,\u001b[0m \u001b[0mforward_params\u001b[0m\u001b[0;34m,\u001b[0m \u001b[0mpostprocess_params\u001b[0m\u001b[0;34m)\u001b[0m\u001b[0;34m:\u001b[0m\u001b[0;34m\u001b[0m\u001b[0;34m\u001b[0m\u001b[0m\n",
            "\u001b[0;32m/usr/local/lib/python3.7/dist-packages/transformers/pipelines/base.py\u001b[0m in \u001b[0;36mrun_single\u001b[0;34m(self, inputs, preprocess_params, forward_params, postprocess_params)\u001b[0m\n\u001b[1;32m    929\u001b[0m     \u001b[0;32mdef\u001b[0m \u001b[0mrun_single\u001b[0m\u001b[0;34m(\u001b[0m\u001b[0mself\u001b[0m\u001b[0;34m,\u001b[0m \u001b[0minputs\u001b[0m\u001b[0;34m,\u001b[0m \u001b[0mpreprocess_params\u001b[0m\u001b[0;34m,\u001b[0m \u001b[0mforward_params\u001b[0m\u001b[0;34m,\u001b[0m \u001b[0mpostprocess_params\u001b[0m\u001b[0;34m)\u001b[0m\u001b[0;34m:\u001b[0m\u001b[0;34m\u001b[0m\u001b[0;34m\u001b[0m\u001b[0m\n\u001b[1;32m    930\u001b[0m         \u001b[0mmodel_inputs\u001b[0m \u001b[0;34m=\u001b[0m \u001b[0mself\u001b[0m\u001b[0;34m.\u001b[0m\u001b[0mpreprocess\u001b[0m\u001b[0;34m(\u001b[0m\u001b[0minputs\u001b[0m\u001b[0;34m,\u001b[0m \u001b[0;34m**\u001b[0m\u001b[0mpreprocess_params\u001b[0m\u001b[0;34m)\u001b[0m\u001b[0;34m\u001b[0m\u001b[0;34m\u001b[0m\u001b[0m\n\u001b[0;32m--> 931\u001b[0;31m         \u001b[0mmodel_outputs\u001b[0m \u001b[0;34m=\u001b[0m \u001b[0mself\u001b[0m\u001b[0;34m.\u001b[0m\u001b[0mforward\u001b[0m\u001b[0;34m(\u001b[0m\u001b[0mmodel_inputs\u001b[0m\u001b[0;34m,\u001b[0m \u001b[0;34m**\u001b[0m\u001b[0mforward_params\u001b[0m\u001b[0;34m)\u001b[0m\u001b[0;34m\u001b[0m\u001b[0;34m\u001b[0m\u001b[0m\n\u001b[0m\u001b[1;32m    932\u001b[0m         \u001b[0moutputs\u001b[0m \u001b[0;34m=\u001b[0m \u001b[0mself\u001b[0m\u001b[0;34m.\u001b[0m\u001b[0mpostprocess\u001b[0m\u001b[0;34m(\u001b[0m\u001b[0mmodel_outputs\u001b[0m\u001b[0;34m,\u001b[0m \u001b[0;34m**\u001b[0m\u001b[0mpostprocess_params\u001b[0m\u001b[0;34m)\u001b[0m\u001b[0;34m\u001b[0m\u001b[0;34m\u001b[0m\u001b[0m\n\u001b[1;32m    933\u001b[0m         \u001b[0;32mreturn\u001b[0m \u001b[0moutputs\u001b[0m\u001b[0;34m\u001b[0m\u001b[0;34m\u001b[0m\u001b[0m\n",
            "\u001b[0;32m/usr/local/lib/python3.7/dist-packages/transformers/pipelines/base.py\u001b[0m in \u001b[0;36mforward\u001b[0;34m(self, model_inputs, **forward_params)\u001b[0m\n\u001b[1;32m    873\u001b[0m             \u001b[0;32mif\u001b[0m \u001b[0mself\u001b[0m\u001b[0;34m.\u001b[0m\u001b[0mframework\u001b[0m \u001b[0;34m==\u001b[0m \u001b[0;34m\"tf\"\u001b[0m\u001b[0;34m:\u001b[0m\u001b[0;34m\u001b[0m\u001b[0;34m\u001b[0m\u001b[0m\n\u001b[1;32m    874\u001b[0m                 \u001b[0mmodel_inputs\u001b[0m\u001b[0;34m[\u001b[0m\u001b[0;34m\"training\"\u001b[0m\u001b[0;34m]\u001b[0m \u001b[0;34m=\u001b[0m \u001b[0;32mFalse\u001b[0m\u001b[0;34m\u001b[0m\u001b[0;34m\u001b[0m\u001b[0m\n\u001b[0;32m--> 875\u001b[0;31m                 \u001b[0mmodel_outputs\u001b[0m \u001b[0;34m=\u001b[0m \u001b[0mself\u001b[0m\u001b[0;34m.\u001b[0m\u001b[0m_forward\u001b[0m\u001b[0;34m(\u001b[0m\u001b[0mmodel_inputs\u001b[0m\u001b[0;34m,\u001b[0m \u001b[0;34m**\u001b[0m\u001b[0mforward_params\u001b[0m\u001b[0;34m)\u001b[0m\u001b[0;34m\u001b[0m\u001b[0;34m\u001b[0m\u001b[0m\n\u001b[0m\u001b[1;32m    876\u001b[0m             \u001b[0;32melif\u001b[0m \u001b[0mself\u001b[0m\u001b[0;34m.\u001b[0m\u001b[0mframework\u001b[0m \u001b[0;34m==\u001b[0m \u001b[0;34m\"pt\"\u001b[0m\u001b[0;34m:\u001b[0m\u001b[0;34m\u001b[0m\u001b[0;34m\u001b[0m\u001b[0m\n\u001b[1;32m    877\u001b[0m                 \u001b[0minference_context\u001b[0m \u001b[0;34m=\u001b[0m \u001b[0mself\u001b[0m\u001b[0;34m.\u001b[0m\u001b[0mget_inference_context\u001b[0m\u001b[0;34m(\u001b[0m\u001b[0;34m)\u001b[0m\u001b[0;34m\u001b[0m\u001b[0;34m\u001b[0m\u001b[0m\n",
            "\u001b[0;32m/usr/local/lib/python3.7/dist-packages/transformers/pipelines/token_classification.py\u001b[0m in \u001b[0;36m_forward\u001b[0;34m(self, model_inputs)\u001b[0m\n\u001b[1;32m    205\u001b[0m         \u001b[0msentence\u001b[0m \u001b[0;34m=\u001b[0m \u001b[0mmodel_inputs\u001b[0m\u001b[0;34m.\u001b[0m\u001b[0mpop\u001b[0m\u001b[0;34m(\u001b[0m\u001b[0;34m\"sentence\"\u001b[0m\u001b[0;34m)\u001b[0m\u001b[0;34m\u001b[0m\u001b[0;34m\u001b[0m\u001b[0m\n\u001b[1;32m    206\u001b[0m         \u001b[0;32mif\u001b[0m \u001b[0mself\u001b[0m\u001b[0;34m.\u001b[0m\u001b[0mframework\u001b[0m \u001b[0;34m==\u001b[0m \u001b[0;34m\"tf\"\u001b[0m\u001b[0;34m:\u001b[0m\u001b[0;34m\u001b[0m\u001b[0;34m\u001b[0m\u001b[0m\n\u001b[0;32m--> 207\u001b[0;31m             \u001b[0moutputs\u001b[0m \u001b[0;34m=\u001b[0m \u001b[0mself\u001b[0m\u001b[0;34m.\u001b[0m\u001b[0mmodel\u001b[0m\u001b[0;34m(\u001b[0m\u001b[0mmodel_inputs\u001b[0m\u001b[0;34m.\u001b[0m\u001b[0mdata\u001b[0m\u001b[0;34m)\u001b[0m\u001b[0;34m[\u001b[0m\u001b[0;36m0\u001b[0m\u001b[0;34m]\u001b[0m\u001b[0;34m[\u001b[0m\u001b[0;36m0\u001b[0m\u001b[0;34m]\u001b[0m\u001b[0;34m\u001b[0m\u001b[0;34m\u001b[0m\u001b[0m\n\u001b[0m\u001b[1;32m    208\u001b[0m         \u001b[0;32melse\u001b[0m\u001b[0;34m:\u001b[0m\u001b[0;34m\u001b[0m\u001b[0;34m\u001b[0m\u001b[0m\n\u001b[1;32m    209\u001b[0m             \u001b[0moutputs\u001b[0m \u001b[0;34m=\u001b[0m \u001b[0mself\u001b[0m\u001b[0;34m.\u001b[0m\u001b[0mmodel\u001b[0m\u001b[0;34m(\u001b[0m\u001b[0;34m**\u001b[0m\u001b[0mmodel_inputs\u001b[0m\u001b[0;34m)\u001b[0m\u001b[0;34m[\u001b[0m\u001b[0;36m0\u001b[0m\u001b[0;34m]\u001b[0m\u001b[0;34m[\u001b[0m\u001b[0;36m0\u001b[0m\u001b[0;34m]\u001b[0m\u001b[0;34m\u001b[0m\u001b[0;34m\u001b[0m\u001b[0m\n",
            "\u001b[0;32m/usr/local/lib/python3.7/dist-packages/keras/utils/traceback_utils.py\u001b[0m in \u001b[0;36merror_handler\u001b[0;34m(*args, **kwargs)\u001b[0m\n\u001b[1;32m     62\u001b[0m     \u001b[0mfiltered_tb\u001b[0m \u001b[0;34m=\u001b[0m \u001b[0;32mNone\u001b[0m\u001b[0;34m\u001b[0m\u001b[0;34m\u001b[0m\u001b[0m\n\u001b[1;32m     63\u001b[0m     \u001b[0;32mtry\u001b[0m\u001b[0;34m:\u001b[0m\u001b[0;34m\u001b[0m\u001b[0;34m\u001b[0m\u001b[0m\n\u001b[0;32m---> 64\u001b[0;31m       \u001b[0;32mreturn\u001b[0m \u001b[0mfn\u001b[0m\u001b[0;34m(\u001b[0m\u001b[0;34m*\u001b[0m\u001b[0margs\u001b[0m\u001b[0;34m,\u001b[0m \u001b[0;34m**\u001b[0m\u001b[0mkwargs\u001b[0m\u001b[0;34m)\u001b[0m\u001b[0;34m\u001b[0m\u001b[0;34m\u001b[0m\u001b[0m\n\u001b[0m\u001b[1;32m     65\u001b[0m     \u001b[0;32mexcept\u001b[0m \u001b[0mException\u001b[0m \u001b[0;32mas\u001b[0m \u001b[0me\u001b[0m\u001b[0;34m:\u001b[0m  \u001b[0;31m# pylint: disable=broad-except\u001b[0m\u001b[0;34m\u001b[0m\u001b[0;34m\u001b[0m\u001b[0m\n\u001b[1;32m     66\u001b[0m       \u001b[0mfiltered_tb\u001b[0m \u001b[0;34m=\u001b[0m \u001b[0m_process_traceback_frames\u001b[0m\u001b[0;34m(\u001b[0m\u001b[0me\u001b[0m\u001b[0;34m.\u001b[0m\u001b[0m__traceback__\u001b[0m\u001b[0;34m)\u001b[0m\u001b[0;34m\u001b[0m\u001b[0;34m\u001b[0m\u001b[0m\n",
            "\u001b[0;32m/usr/local/lib/python3.7/dist-packages/keras/engine/base_layer.py\u001b[0m in \u001b[0;36m__call__\u001b[0;34m(self, *args, **kwargs)\u001b[0m\n\u001b[1;32m   1081\u001b[0m         with autocast_variable.enable_auto_cast_variables(\n\u001b[1;32m   1082\u001b[0m             self._compute_dtype_object):\n\u001b[0;32m-> 1083\u001b[0;31m           \u001b[0moutputs\u001b[0m \u001b[0;34m=\u001b[0m \u001b[0mcall_fn\u001b[0m\u001b[0;34m(\u001b[0m\u001b[0minputs\u001b[0m\u001b[0;34m,\u001b[0m \u001b[0;34m*\u001b[0m\u001b[0margs\u001b[0m\u001b[0;34m,\u001b[0m \u001b[0;34m**\u001b[0m\u001b[0mkwargs\u001b[0m\u001b[0;34m)\u001b[0m\u001b[0;34m\u001b[0m\u001b[0;34m\u001b[0m\u001b[0m\n\u001b[0m\u001b[1;32m   1084\u001b[0m \u001b[0;34m\u001b[0m\u001b[0m\n\u001b[1;32m   1085\u001b[0m         \u001b[0;32mif\u001b[0m \u001b[0mself\u001b[0m\u001b[0;34m.\u001b[0m\u001b[0m_activity_regularizer\u001b[0m\u001b[0;34m:\u001b[0m\u001b[0;34m\u001b[0m\u001b[0;34m\u001b[0m\u001b[0m\n",
            "\u001b[0;32m/usr/local/lib/python3.7/dist-packages/keras/utils/traceback_utils.py\u001b[0m in \u001b[0;36merror_handler\u001b[0;34m(*args, **kwargs)\u001b[0m\n\u001b[1;32m     90\u001b[0m     \u001b[0mbound_signature\u001b[0m \u001b[0;34m=\u001b[0m \u001b[0;32mNone\u001b[0m\u001b[0;34m\u001b[0m\u001b[0;34m\u001b[0m\u001b[0m\n\u001b[1;32m     91\u001b[0m     \u001b[0;32mtry\u001b[0m\u001b[0;34m:\u001b[0m\u001b[0;34m\u001b[0m\u001b[0;34m\u001b[0m\u001b[0m\n\u001b[0;32m---> 92\u001b[0;31m       \u001b[0;32mreturn\u001b[0m \u001b[0mfn\u001b[0m\u001b[0;34m(\u001b[0m\u001b[0;34m*\u001b[0m\u001b[0margs\u001b[0m\u001b[0;34m,\u001b[0m \u001b[0;34m**\u001b[0m\u001b[0mkwargs\u001b[0m\u001b[0;34m)\u001b[0m\u001b[0;34m\u001b[0m\u001b[0;34m\u001b[0m\u001b[0m\n\u001b[0m\u001b[1;32m     93\u001b[0m     \u001b[0;32mexcept\u001b[0m \u001b[0mException\u001b[0m \u001b[0;32mas\u001b[0m \u001b[0me\u001b[0m\u001b[0;34m:\u001b[0m  \u001b[0;31m# pylint: disable=broad-except\u001b[0m\u001b[0;34m\u001b[0m\u001b[0;34m\u001b[0m\u001b[0m\n\u001b[1;32m     94\u001b[0m       \u001b[0;32mif\u001b[0m \u001b[0mhasattr\u001b[0m\u001b[0;34m(\u001b[0m\u001b[0me\u001b[0m\u001b[0;34m,\u001b[0m \u001b[0;34m'_keras_call_info_injected'\u001b[0m\u001b[0;34m)\u001b[0m\u001b[0;34m:\u001b[0m\u001b[0;34m\u001b[0m\u001b[0;34m\u001b[0m\u001b[0m\n",
            "\u001b[0;32m/usr/local/lib/python3.7/dist-packages/transformers/models/distilbert/modeling_tf_distilbert.py\u001b[0m in \u001b[0;36mcall\u001b[0;34m(self, input_ids, attention_mask, head_mask, inputs_embeds, output_attentions, output_hidden_states, return_dict, labels, training, **kwargs)\u001b[0m\n\u001b[1;32m    900\u001b[0m             \u001b[0moutput_hidden_states\u001b[0m\u001b[0;34m=\u001b[0m\u001b[0minputs\u001b[0m\u001b[0;34m[\u001b[0m\u001b[0;34m\"output_hidden_states\"\u001b[0m\u001b[0;34m]\u001b[0m\u001b[0;34m,\u001b[0m\u001b[0;34m\u001b[0m\u001b[0;34m\u001b[0m\u001b[0m\n\u001b[1;32m    901\u001b[0m             \u001b[0mreturn_dict\u001b[0m\u001b[0;34m=\u001b[0m\u001b[0minputs\u001b[0m\u001b[0;34m[\u001b[0m\u001b[0;34m\"return_dict\"\u001b[0m\u001b[0;34m]\u001b[0m\u001b[0;34m,\u001b[0m\u001b[0;34m\u001b[0m\u001b[0;34m\u001b[0m\u001b[0m\n\u001b[0;32m--> 902\u001b[0;31m             \u001b[0mtraining\u001b[0m\u001b[0;34m=\u001b[0m\u001b[0minputs\u001b[0m\u001b[0;34m[\u001b[0m\u001b[0;34m\"training\"\u001b[0m\u001b[0;34m]\u001b[0m\u001b[0;34m,\u001b[0m\u001b[0;34m\u001b[0m\u001b[0;34m\u001b[0m\u001b[0m\n\u001b[0m\u001b[1;32m    903\u001b[0m         )\n\u001b[1;32m    904\u001b[0m         \u001b[0msequence_output\u001b[0m \u001b[0;34m=\u001b[0m \u001b[0moutputs\u001b[0m\u001b[0;34m[\u001b[0m\u001b[0;36m0\u001b[0m\u001b[0;34m]\u001b[0m\u001b[0;34m\u001b[0m\u001b[0;34m\u001b[0m\u001b[0m\n",
            "\u001b[0;32m/usr/local/lib/python3.7/dist-packages/keras/utils/traceback_utils.py\u001b[0m in \u001b[0;36merror_handler\u001b[0;34m(*args, **kwargs)\u001b[0m\n\u001b[1;32m     62\u001b[0m     \u001b[0mfiltered_tb\u001b[0m \u001b[0;34m=\u001b[0m \u001b[0;32mNone\u001b[0m\u001b[0;34m\u001b[0m\u001b[0;34m\u001b[0m\u001b[0m\n\u001b[1;32m     63\u001b[0m     \u001b[0;32mtry\u001b[0m\u001b[0;34m:\u001b[0m\u001b[0;34m\u001b[0m\u001b[0;34m\u001b[0m\u001b[0m\n\u001b[0;32m---> 64\u001b[0;31m       \u001b[0;32mreturn\u001b[0m \u001b[0mfn\u001b[0m\u001b[0;34m(\u001b[0m\u001b[0;34m*\u001b[0m\u001b[0margs\u001b[0m\u001b[0;34m,\u001b[0m \u001b[0;34m**\u001b[0m\u001b[0mkwargs\u001b[0m\u001b[0;34m)\u001b[0m\u001b[0;34m\u001b[0m\u001b[0;34m\u001b[0m\u001b[0m\n\u001b[0m\u001b[1;32m     65\u001b[0m     \u001b[0;32mexcept\u001b[0m \u001b[0mException\u001b[0m \u001b[0;32mas\u001b[0m \u001b[0me\u001b[0m\u001b[0;34m:\u001b[0m  \u001b[0;31m# pylint: disable=broad-except\u001b[0m\u001b[0;34m\u001b[0m\u001b[0;34m\u001b[0m\u001b[0m\n\u001b[1;32m     66\u001b[0m       \u001b[0mfiltered_tb\u001b[0m \u001b[0;34m=\u001b[0m \u001b[0m_process_traceback_frames\u001b[0m\u001b[0;34m(\u001b[0m\u001b[0me\u001b[0m\u001b[0;34m.\u001b[0m\u001b[0m__traceback__\u001b[0m\u001b[0;34m)\u001b[0m\u001b[0;34m\u001b[0m\u001b[0;34m\u001b[0m\u001b[0m\n",
            "\u001b[0;32m/usr/local/lib/python3.7/dist-packages/keras/engine/base_layer.py\u001b[0m in \u001b[0;36m__call__\u001b[0;34m(self, *args, **kwargs)\u001b[0m\n\u001b[1;32m   1081\u001b[0m         with autocast_variable.enable_auto_cast_variables(\n\u001b[1;32m   1082\u001b[0m             self._compute_dtype_object):\n\u001b[0;32m-> 1083\u001b[0;31m           \u001b[0moutputs\u001b[0m \u001b[0;34m=\u001b[0m \u001b[0mcall_fn\u001b[0m\u001b[0;34m(\u001b[0m\u001b[0minputs\u001b[0m\u001b[0;34m,\u001b[0m \u001b[0;34m*\u001b[0m\u001b[0margs\u001b[0m\u001b[0;34m,\u001b[0m \u001b[0;34m**\u001b[0m\u001b[0mkwargs\u001b[0m\u001b[0;34m)\u001b[0m\u001b[0;34m\u001b[0m\u001b[0;34m\u001b[0m\u001b[0m\n\u001b[0m\u001b[1;32m   1084\u001b[0m \u001b[0;34m\u001b[0m\u001b[0m\n\u001b[1;32m   1085\u001b[0m         \u001b[0;32mif\u001b[0m \u001b[0mself\u001b[0m\u001b[0;34m.\u001b[0m\u001b[0m_activity_regularizer\u001b[0m\u001b[0;34m:\u001b[0m\u001b[0;34m\u001b[0m\u001b[0;34m\u001b[0m\u001b[0m\n",
            "\u001b[0;32m/usr/local/lib/python3.7/dist-packages/keras/utils/traceback_utils.py\u001b[0m in \u001b[0;36merror_handler\u001b[0;34m(*args, **kwargs)\u001b[0m\n\u001b[1;32m     90\u001b[0m     \u001b[0mbound_signature\u001b[0m \u001b[0;34m=\u001b[0m \u001b[0;32mNone\u001b[0m\u001b[0;34m\u001b[0m\u001b[0;34m\u001b[0m\u001b[0m\n\u001b[1;32m     91\u001b[0m     \u001b[0;32mtry\u001b[0m\u001b[0;34m:\u001b[0m\u001b[0;34m\u001b[0m\u001b[0;34m\u001b[0m\u001b[0m\n\u001b[0;32m---> 92\u001b[0;31m       \u001b[0;32mreturn\u001b[0m \u001b[0mfn\u001b[0m\u001b[0;34m(\u001b[0m\u001b[0;34m*\u001b[0m\u001b[0margs\u001b[0m\u001b[0;34m,\u001b[0m \u001b[0;34m**\u001b[0m\u001b[0mkwargs\u001b[0m\u001b[0;34m)\u001b[0m\u001b[0;34m\u001b[0m\u001b[0;34m\u001b[0m\u001b[0m\n\u001b[0m\u001b[1;32m     93\u001b[0m     \u001b[0;32mexcept\u001b[0m \u001b[0mException\u001b[0m \u001b[0;32mas\u001b[0m \u001b[0me\u001b[0m\u001b[0;34m:\u001b[0m  \u001b[0;31m# pylint: disable=broad-except\u001b[0m\u001b[0;34m\u001b[0m\u001b[0;34m\u001b[0m\u001b[0m\n\u001b[1;32m     94\u001b[0m       \u001b[0;32mif\u001b[0m \u001b[0mhasattr\u001b[0m\u001b[0;34m(\u001b[0m\u001b[0me\u001b[0m\u001b[0;34m,\u001b[0m \u001b[0;34m'_keras_call_info_injected'\u001b[0m\u001b[0;34m)\u001b[0m\u001b[0;34m:\u001b[0m\u001b[0;34m\u001b[0m\u001b[0;34m\u001b[0m\u001b[0m\n",
            "\u001b[0;32m/usr/local/lib/python3.7/dist-packages/transformers/models/distilbert/modeling_tf_distilbert.py\u001b[0m in \u001b[0;36mcall\u001b[0;34m(self, input_ids, attention_mask, head_mask, inputs_embeds, output_attentions, output_hidden_states, return_dict, training, **kwargs)\u001b[0m\n\u001b[1;32m    423\u001b[0m             \u001b[0minputs\u001b[0m\u001b[0;34m[\u001b[0m\u001b[0;34m\"output_hidden_states\"\u001b[0m\u001b[0;34m]\u001b[0m\u001b[0;34m,\u001b[0m\u001b[0;34m\u001b[0m\u001b[0;34m\u001b[0m\u001b[0m\n\u001b[1;32m    424\u001b[0m             \u001b[0minputs\u001b[0m\u001b[0;34m[\u001b[0m\u001b[0;34m\"return_dict\"\u001b[0m\u001b[0;34m]\u001b[0m\u001b[0;34m,\u001b[0m\u001b[0;34m\u001b[0m\u001b[0;34m\u001b[0m\u001b[0m\n\u001b[0;32m--> 425\u001b[0;31m             \u001b[0mtraining\u001b[0m\u001b[0;34m=\u001b[0m\u001b[0minputs\u001b[0m\u001b[0;34m[\u001b[0m\u001b[0;34m\"training\"\u001b[0m\u001b[0;34m]\u001b[0m\u001b[0;34m,\u001b[0m\u001b[0;34m\u001b[0m\u001b[0;34m\u001b[0m\u001b[0m\n\u001b[0m\u001b[1;32m    426\u001b[0m         )\n\u001b[1;32m    427\u001b[0m \u001b[0;34m\u001b[0m\u001b[0m\n",
            "\u001b[0;32m/usr/local/lib/python3.7/dist-packages/keras/utils/traceback_utils.py\u001b[0m in \u001b[0;36merror_handler\u001b[0;34m(*args, **kwargs)\u001b[0m\n\u001b[1;32m     62\u001b[0m     \u001b[0mfiltered_tb\u001b[0m \u001b[0;34m=\u001b[0m \u001b[0;32mNone\u001b[0m\u001b[0;34m\u001b[0m\u001b[0;34m\u001b[0m\u001b[0m\n\u001b[1;32m     63\u001b[0m     \u001b[0;32mtry\u001b[0m\u001b[0;34m:\u001b[0m\u001b[0;34m\u001b[0m\u001b[0;34m\u001b[0m\u001b[0m\n\u001b[0;32m---> 64\u001b[0;31m       \u001b[0;32mreturn\u001b[0m \u001b[0mfn\u001b[0m\u001b[0;34m(\u001b[0m\u001b[0;34m*\u001b[0m\u001b[0margs\u001b[0m\u001b[0;34m,\u001b[0m \u001b[0;34m**\u001b[0m\u001b[0mkwargs\u001b[0m\u001b[0;34m)\u001b[0m\u001b[0;34m\u001b[0m\u001b[0;34m\u001b[0m\u001b[0m\n\u001b[0m\u001b[1;32m     65\u001b[0m     \u001b[0;32mexcept\u001b[0m \u001b[0mException\u001b[0m \u001b[0;32mas\u001b[0m \u001b[0me\u001b[0m\u001b[0;34m:\u001b[0m  \u001b[0;31m# pylint: disable=broad-except\u001b[0m\u001b[0;34m\u001b[0m\u001b[0;34m\u001b[0m\u001b[0m\n\u001b[1;32m     66\u001b[0m       \u001b[0mfiltered_tb\u001b[0m \u001b[0;34m=\u001b[0m \u001b[0m_process_traceback_frames\u001b[0m\u001b[0;34m(\u001b[0m\u001b[0me\u001b[0m\u001b[0;34m.\u001b[0m\u001b[0m__traceback__\u001b[0m\u001b[0;34m)\u001b[0m\u001b[0;34m\u001b[0m\u001b[0;34m\u001b[0m\u001b[0m\n",
            "\u001b[0;32m/usr/local/lib/python3.7/dist-packages/keras/engine/base_layer.py\u001b[0m in \u001b[0;36m__call__\u001b[0;34m(self, *args, **kwargs)\u001b[0m\n\u001b[1;32m   1081\u001b[0m         with autocast_variable.enable_auto_cast_variables(\n\u001b[1;32m   1082\u001b[0m             self._compute_dtype_object):\n\u001b[0;32m-> 1083\u001b[0;31m           \u001b[0moutputs\u001b[0m \u001b[0;34m=\u001b[0m \u001b[0mcall_fn\u001b[0m\u001b[0;34m(\u001b[0m\u001b[0minputs\u001b[0m\u001b[0;34m,\u001b[0m \u001b[0;34m*\u001b[0m\u001b[0margs\u001b[0m\u001b[0;34m,\u001b[0m \u001b[0;34m**\u001b[0m\u001b[0mkwargs\u001b[0m\u001b[0;34m)\u001b[0m\u001b[0;34m\u001b[0m\u001b[0;34m\u001b[0m\u001b[0m\n\u001b[0m\u001b[1;32m   1084\u001b[0m \u001b[0;34m\u001b[0m\u001b[0m\n\u001b[1;32m   1085\u001b[0m         \u001b[0;32mif\u001b[0m \u001b[0mself\u001b[0m\u001b[0;34m.\u001b[0m\u001b[0m_activity_regularizer\u001b[0m\u001b[0;34m:\u001b[0m\u001b[0;34m\u001b[0m\u001b[0;34m\u001b[0m\u001b[0m\n",
            "\u001b[0;32m/usr/local/lib/python3.7/dist-packages/keras/utils/traceback_utils.py\u001b[0m in \u001b[0;36merror_handler\u001b[0;34m(*args, **kwargs)\u001b[0m\n\u001b[1;32m     90\u001b[0m     \u001b[0mbound_signature\u001b[0m \u001b[0;34m=\u001b[0m \u001b[0;32mNone\u001b[0m\u001b[0;34m\u001b[0m\u001b[0;34m\u001b[0m\u001b[0m\n\u001b[1;32m     91\u001b[0m     \u001b[0;32mtry\u001b[0m\u001b[0;34m:\u001b[0m\u001b[0;34m\u001b[0m\u001b[0;34m\u001b[0m\u001b[0m\n\u001b[0;32m---> 92\u001b[0;31m       \u001b[0;32mreturn\u001b[0m \u001b[0mfn\u001b[0m\u001b[0;34m(\u001b[0m\u001b[0;34m*\u001b[0m\u001b[0margs\u001b[0m\u001b[0;34m,\u001b[0m \u001b[0;34m**\u001b[0m\u001b[0mkwargs\u001b[0m\u001b[0;34m)\u001b[0m\u001b[0;34m\u001b[0m\u001b[0;34m\u001b[0m\u001b[0m\n\u001b[0m\u001b[1;32m     93\u001b[0m     \u001b[0;32mexcept\u001b[0m \u001b[0mException\u001b[0m \u001b[0;32mas\u001b[0m \u001b[0me\u001b[0m\u001b[0;34m:\u001b[0m  \u001b[0;31m# pylint: disable=broad-except\u001b[0m\u001b[0;34m\u001b[0m\u001b[0;34m\u001b[0m\u001b[0m\n\u001b[1;32m     94\u001b[0m       \u001b[0;32mif\u001b[0m \u001b[0mhasattr\u001b[0m\u001b[0;34m(\u001b[0m\u001b[0me\u001b[0m\u001b[0;34m,\u001b[0m \u001b[0;34m'_keras_call_info_injected'\u001b[0m\u001b[0;34m)\u001b[0m\u001b[0;34m:\u001b[0m\u001b[0;34m\u001b[0m\u001b[0;34m\u001b[0m\u001b[0m\n",
            "\u001b[0;32m/usr/local/lib/python3.7/dist-packages/transformers/models/distilbert/modeling_tf_distilbert.py\u001b[0m in \u001b[0;36mcall\u001b[0;34m(self, x, attn_mask, head_mask, output_attentions, output_hidden_states, return_dict, training)\u001b[0m\n\u001b[1;32m    316\u001b[0m                 \u001b[0mall_hidden_states\u001b[0m \u001b[0;34m=\u001b[0m \u001b[0mall_hidden_states\u001b[0m \u001b[0;34m+\u001b[0m \u001b[0;34m(\u001b[0m\u001b[0mhidden_state\u001b[0m\u001b[0;34m,\u001b[0m\u001b[0;34m)\u001b[0m\u001b[0;34m\u001b[0m\u001b[0;34m\u001b[0m\u001b[0m\n\u001b[1;32m    317\u001b[0m \u001b[0;34m\u001b[0m\u001b[0m\n\u001b[0;32m--> 318\u001b[0;31m             \u001b[0mlayer_outputs\u001b[0m \u001b[0;34m=\u001b[0m \u001b[0mlayer_module\u001b[0m\u001b[0;34m(\u001b[0m\u001b[0mhidden_state\u001b[0m\u001b[0;34m,\u001b[0m \u001b[0mattn_mask\u001b[0m\u001b[0;34m,\u001b[0m \u001b[0mhead_mask\u001b[0m\u001b[0;34m[\u001b[0m\u001b[0mi\u001b[0m\u001b[0;34m]\u001b[0m\u001b[0;34m,\u001b[0m \u001b[0moutput_attentions\u001b[0m\u001b[0;34m,\u001b[0m \u001b[0mtraining\u001b[0m\u001b[0;34m=\u001b[0m\u001b[0mtraining\u001b[0m\u001b[0;34m)\u001b[0m\u001b[0;34m\u001b[0m\u001b[0;34m\u001b[0m\u001b[0m\n\u001b[0m\u001b[1;32m    319\u001b[0m             \u001b[0mhidden_state\u001b[0m \u001b[0;34m=\u001b[0m \u001b[0mlayer_outputs\u001b[0m\u001b[0;34m[\u001b[0m\u001b[0;34m-\u001b[0m\u001b[0;36m1\u001b[0m\u001b[0;34m]\u001b[0m\u001b[0;34m\u001b[0m\u001b[0;34m\u001b[0m\u001b[0m\n\u001b[1;32m    320\u001b[0m \u001b[0;34m\u001b[0m\u001b[0m\n",
            "\u001b[0;32m/usr/local/lib/python3.7/dist-packages/keras/utils/traceback_utils.py\u001b[0m in \u001b[0;36merror_handler\u001b[0;34m(*args, **kwargs)\u001b[0m\n\u001b[1;32m     62\u001b[0m     \u001b[0mfiltered_tb\u001b[0m \u001b[0;34m=\u001b[0m \u001b[0;32mNone\u001b[0m\u001b[0;34m\u001b[0m\u001b[0;34m\u001b[0m\u001b[0m\n\u001b[1;32m     63\u001b[0m     \u001b[0;32mtry\u001b[0m\u001b[0;34m:\u001b[0m\u001b[0;34m\u001b[0m\u001b[0;34m\u001b[0m\u001b[0m\n\u001b[0;32m---> 64\u001b[0;31m       \u001b[0;32mreturn\u001b[0m \u001b[0mfn\u001b[0m\u001b[0;34m(\u001b[0m\u001b[0;34m*\u001b[0m\u001b[0margs\u001b[0m\u001b[0;34m,\u001b[0m \u001b[0;34m**\u001b[0m\u001b[0mkwargs\u001b[0m\u001b[0;34m)\u001b[0m\u001b[0;34m\u001b[0m\u001b[0;34m\u001b[0m\u001b[0m\n\u001b[0m\u001b[1;32m     65\u001b[0m     \u001b[0;32mexcept\u001b[0m \u001b[0mException\u001b[0m \u001b[0;32mas\u001b[0m \u001b[0me\u001b[0m\u001b[0;34m:\u001b[0m  \u001b[0;31m# pylint: disable=broad-except\u001b[0m\u001b[0;34m\u001b[0m\u001b[0;34m\u001b[0m\u001b[0m\n\u001b[1;32m     66\u001b[0m       \u001b[0mfiltered_tb\u001b[0m \u001b[0;34m=\u001b[0m \u001b[0m_process_traceback_frames\u001b[0m\u001b[0;34m(\u001b[0m\u001b[0me\u001b[0m\u001b[0;34m.\u001b[0m\u001b[0m__traceback__\u001b[0m\u001b[0;34m)\u001b[0m\u001b[0;34m\u001b[0m\u001b[0;34m\u001b[0m\u001b[0m\n",
            "\u001b[0;32m/usr/local/lib/python3.7/dist-packages/keras/engine/base_layer.py\u001b[0m in \u001b[0;36m__call__\u001b[0;34m(self, *args, **kwargs)\u001b[0m\n\u001b[1;32m   1081\u001b[0m         with autocast_variable.enable_auto_cast_variables(\n\u001b[1;32m   1082\u001b[0m             self._compute_dtype_object):\n\u001b[0;32m-> 1083\u001b[0;31m           \u001b[0moutputs\u001b[0m \u001b[0;34m=\u001b[0m \u001b[0mcall_fn\u001b[0m\u001b[0;34m(\u001b[0m\u001b[0minputs\u001b[0m\u001b[0;34m,\u001b[0m \u001b[0;34m*\u001b[0m\u001b[0margs\u001b[0m\u001b[0;34m,\u001b[0m \u001b[0;34m**\u001b[0m\u001b[0mkwargs\u001b[0m\u001b[0;34m)\u001b[0m\u001b[0;34m\u001b[0m\u001b[0;34m\u001b[0m\u001b[0m\n\u001b[0m\u001b[1;32m   1084\u001b[0m \u001b[0;34m\u001b[0m\u001b[0m\n\u001b[1;32m   1085\u001b[0m         \u001b[0;32mif\u001b[0m \u001b[0mself\u001b[0m\u001b[0;34m.\u001b[0m\u001b[0m_activity_regularizer\u001b[0m\u001b[0;34m:\u001b[0m\u001b[0;34m\u001b[0m\u001b[0;34m\u001b[0m\u001b[0m\n",
            "\u001b[0;32m/usr/local/lib/python3.7/dist-packages/keras/utils/traceback_utils.py\u001b[0m in \u001b[0;36merror_handler\u001b[0;34m(*args, **kwargs)\u001b[0m\n\u001b[1;32m     90\u001b[0m     \u001b[0mbound_signature\u001b[0m \u001b[0;34m=\u001b[0m \u001b[0;32mNone\u001b[0m\u001b[0;34m\u001b[0m\u001b[0;34m\u001b[0m\u001b[0m\n\u001b[1;32m     91\u001b[0m     \u001b[0;32mtry\u001b[0m\u001b[0;34m:\u001b[0m\u001b[0;34m\u001b[0m\u001b[0;34m\u001b[0m\u001b[0m\n\u001b[0;32m---> 92\u001b[0;31m       \u001b[0;32mreturn\u001b[0m \u001b[0mfn\u001b[0m\u001b[0;34m(\u001b[0m\u001b[0;34m*\u001b[0m\u001b[0margs\u001b[0m\u001b[0;34m,\u001b[0m \u001b[0;34m**\u001b[0m\u001b[0mkwargs\u001b[0m\u001b[0;34m)\u001b[0m\u001b[0;34m\u001b[0m\u001b[0;34m\u001b[0m\u001b[0m\n\u001b[0m\u001b[1;32m     93\u001b[0m     \u001b[0;32mexcept\u001b[0m \u001b[0mException\u001b[0m \u001b[0;32mas\u001b[0m \u001b[0me\u001b[0m\u001b[0;34m:\u001b[0m  \u001b[0;31m# pylint: disable=broad-except\u001b[0m\u001b[0;34m\u001b[0m\u001b[0;34m\u001b[0m\u001b[0m\n\u001b[1;32m     94\u001b[0m       \u001b[0;32mif\u001b[0m \u001b[0mhasattr\u001b[0m\u001b[0;34m(\u001b[0m\u001b[0me\u001b[0m\u001b[0;34m,\u001b[0m \u001b[0;34m'_keras_call_info_injected'\u001b[0m\u001b[0;34m)\u001b[0m\u001b[0;34m:\u001b[0m\u001b[0;34m\u001b[0m\u001b[0;34m\u001b[0m\u001b[0m\n",
            "\u001b[0;32m/usr/local/lib/python3.7/dist-packages/transformers/models/distilbert/modeling_tf_distilbert.py\u001b[0m in \u001b[0;36mcall\u001b[0;34m(self, x, attn_mask, head_mask, output_attentions, training)\u001b[0m\n\u001b[1;32m    273\u001b[0m \u001b[0;34m\u001b[0m\u001b[0m\n\u001b[1;32m    274\u001b[0m         \u001b[0;31m# Feed Forward Network\u001b[0m\u001b[0;34m\u001b[0m\u001b[0;34m\u001b[0m\u001b[0;34m\u001b[0m\u001b[0m\n\u001b[0;32m--> 275\u001b[0;31m         \u001b[0mffn_output\u001b[0m \u001b[0;34m=\u001b[0m \u001b[0mself\u001b[0m\u001b[0;34m.\u001b[0m\u001b[0mffn\u001b[0m\u001b[0;34m(\u001b[0m\u001b[0msa_output\u001b[0m\u001b[0;34m,\u001b[0m \u001b[0mtraining\u001b[0m\u001b[0;34m=\u001b[0m\u001b[0mtraining\u001b[0m\u001b[0;34m)\u001b[0m  \u001b[0;31m# (bs, seq_length, dim)\u001b[0m\u001b[0;34m\u001b[0m\u001b[0;34m\u001b[0m\u001b[0m\n\u001b[0m\u001b[1;32m    276\u001b[0m         \u001b[0mffn_output\u001b[0m \u001b[0;34m=\u001b[0m \u001b[0mself\u001b[0m\u001b[0;34m.\u001b[0m\u001b[0moutput_layer_norm\u001b[0m\u001b[0;34m(\u001b[0m\u001b[0mffn_output\u001b[0m \u001b[0;34m+\u001b[0m \u001b[0msa_output\u001b[0m\u001b[0;34m)\u001b[0m  \u001b[0;31m# (bs, seq_length, dim)\u001b[0m\u001b[0;34m\u001b[0m\u001b[0;34m\u001b[0m\u001b[0m\n\u001b[1;32m    277\u001b[0m \u001b[0;34m\u001b[0m\u001b[0m\n",
            "\u001b[0;32m/usr/local/lib/python3.7/dist-packages/keras/utils/traceback_utils.py\u001b[0m in \u001b[0;36merror_handler\u001b[0;34m(*args, **kwargs)\u001b[0m\n\u001b[1;32m     62\u001b[0m     \u001b[0mfiltered_tb\u001b[0m \u001b[0;34m=\u001b[0m \u001b[0;32mNone\u001b[0m\u001b[0;34m\u001b[0m\u001b[0;34m\u001b[0m\u001b[0m\n\u001b[1;32m     63\u001b[0m     \u001b[0;32mtry\u001b[0m\u001b[0;34m:\u001b[0m\u001b[0;34m\u001b[0m\u001b[0;34m\u001b[0m\u001b[0m\n\u001b[0;32m---> 64\u001b[0;31m       \u001b[0;32mreturn\u001b[0m \u001b[0mfn\u001b[0m\u001b[0;34m(\u001b[0m\u001b[0;34m*\u001b[0m\u001b[0margs\u001b[0m\u001b[0;34m,\u001b[0m \u001b[0;34m**\u001b[0m\u001b[0mkwargs\u001b[0m\u001b[0;34m)\u001b[0m\u001b[0;34m\u001b[0m\u001b[0;34m\u001b[0m\u001b[0m\n\u001b[0m\u001b[1;32m     65\u001b[0m     \u001b[0;32mexcept\u001b[0m \u001b[0mException\u001b[0m \u001b[0;32mas\u001b[0m \u001b[0me\u001b[0m\u001b[0;34m:\u001b[0m  \u001b[0;31m# pylint: disable=broad-except\u001b[0m\u001b[0;34m\u001b[0m\u001b[0;34m\u001b[0m\u001b[0m\n\u001b[1;32m     66\u001b[0m       \u001b[0mfiltered_tb\u001b[0m \u001b[0;34m=\u001b[0m \u001b[0m_process_traceback_frames\u001b[0m\u001b[0;34m(\u001b[0m\u001b[0me\u001b[0m\u001b[0;34m.\u001b[0m\u001b[0m__traceback__\u001b[0m\u001b[0;34m)\u001b[0m\u001b[0;34m\u001b[0m\u001b[0;34m\u001b[0m\u001b[0m\n",
            "\u001b[0;32m/usr/local/lib/python3.7/dist-packages/keras/engine/base_layer.py\u001b[0m in \u001b[0;36m__call__\u001b[0;34m(self, *args, **kwargs)\u001b[0m\n\u001b[1;32m   1081\u001b[0m         with autocast_variable.enable_auto_cast_variables(\n\u001b[1;32m   1082\u001b[0m             self._compute_dtype_object):\n\u001b[0;32m-> 1083\u001b[0;31m           \u001b[0moutputs\u001b[0m \u001b[0;34m=\u001b[0m \u001b[0mcall_fn\u001b[0m\u001b[0;34m(\u001b[0m\u001b[0minputs\u001b[0m\u001b[0;34m,\u001b[0m \u001b[0;34m*\u001b[0m\u001b[0margs\u001b[0m\u001b[0;34m,\u001b[0m \u001b[0;34m**\u001b[0m\u001b[0mkwargs\u001b[0m\u001b[0;34m)\u001b[0m\u001b[0;34m\u001b[0m\u001b[0;34m\u001b[0m\u001b[0m\n\u001b[0m\u001b[1;32m   1084\u001b[0m \u001b[0;34m\u001b[0m\u001b[0m\n\u001b[1;32m   1085\u001b[0m         \u001b[0;32mif\u001b[0m \u001b[0mself\u001b[0m\u001b[0;34m.\u001b[0m\u001b[0m_activity_regularizer\u001b[0m\u001b[0;34m:\u001b[0m\u001b[0;34m\u001b[0m\u001b[0;34m\u001b[0m\u001b[0m\n",
            "\u001b[0;32m/usr/local/lib/python3.7/dist-packages/keras/utils/traceback_utils.py\u001b[0m in \u001b[0;36merror_handler\u001b[0;34m(*args, **kwargs)\u001b[0m\n\u001b[1;32m     90\u001b[0m     \u001b[0mbound_signature\u001b[0m \u001b[0;34m=\u001b[0m \u001b[0;32mNone\u001b[0m\u001b[0;34m\u001b[0m\u001b[0;34m\u001b[0m\u001b[0m\n\u001b[1;32m     91\u001b[0m     \u001b[0;32mtry\u001b[0m\u001b[0;34m:\u001b[0m\u001b[0;34m\u001b[0m\u001b[0;34m\u001b[0m\u001b[0m\n\u001b[0;32m---> 92\u001b[0;31m       \u001b[0;32mreturn\u001b[0m \u001b[0mfn\u001b[0m\u001b[0;34m(\u001b[0m\u001b[0;34m*\u001b[0m\u001b[0margs\u001b[0m\u001b[0;34m,\u001b[0m \u001b[0;34m**\u001b[0m\u001b[0mkwargs\u001b[0m\u001b[0;34m)\u001b[0m\u001b[0;34m\u001b[0m\u001b[0;34m\u001b[0m\u001b[0m\n\u001b[0m\u001b[1;32m     93\u001b[0m     \u001b[0;32mexcept\u001b[0m \u001b[0mException\u001b[0m \u001b[0;32mas\u001b[0m \u001b[0me\u001b[0m\u001b[0;34m:\u001b[0m  \u001b[0;31m# pylint: disable=broad-except\u001b[0m\u001b[0;34m\u001b[0m\u001b[0;34m\u001b[0m\u001b[0m\n\u001b[1;32m     94\u001b[0m       \u001b[0;32mif\u001b[0m \u001b[0mhasattr\u001b[0m\u001b[0;34m(\u001b[0m\u001b[0me\u001b[0m\u001b[0;34m,\u001b[0m \u001b[0;34m'_keras_call_info_injected'\u001b[0m\u001b[0;34m)\u001b[0m\u001b[0;34m:\u001b[0m\u001b[0;34m\u001b[0m\u001b[0;34m\u001b[0m\u001b[0m\n",
            "\u001b[0;32m/usr/local/lib/python3.7/dist-packages/transformers/models/distilbert/modeling_tf_distilbert.py\u001b[0m in \u001b[0;36mcall\u001b[0;34m(self, input, training)\u001b[0m\n\u001b[1;32m    226\u001b[0m \u001b[0;34m\u001b[0m\u001b[0m\n\u001b[1;32m    227\u001b[0m     \u001b[0;32mdef\u001b[0m \u001b[0mcall\u001b[0m\u001b[0;34m(\u001b[0m\u001b[0mself\u001b[0m\u001b[0;34m,\u001b[0m \u001b[0minput\u001b[0m\u001b[0;34m,\u001b[0m \u001b[0mtraining\u001b[0m\u001b[0;34m=\u001b[0m\u001b[0;32mFalse\u001b[0m\u001b[0;34m)\u001b[0m\u001b[0;34m:\u001b[0m\u001b[0;34m\u001b[0m\u001b[0;34m\u001b[0m\u001b[0m\n\u001b[0;32m--> 228\u001b[0;31m         \u001b[0mx\u001b[0m \u001b[0;34m=\u001b[0m \u001b[0mself\u001b[0m\u001b[0;34m.\u001b[0m\u001b[0mlin1\u001b[0m\u001b[0;34m(\u001b[0m\u001b[0minput\u001b[0m\u001b[0;34m)\u001b[0m\u001b[0;34m\u001b[0m\u001b[0;34m\u001b[0m\u001b[0m\n\u001b[0m\u001b[1;32m    229\u001b[0m         \u001b[0mx\u001b[0m \u001b[0;34m=\u001b[0m \u001b[0mself\u001b[0m\u001b[0;34m.\u001b[0m\u001b[0mactivation\u001b[0m\u001b[0;34m(\u001b[0m\u001b[0mx\u001b[0m\u001b[0;34m)\u001b[0m\u001b[0;34m\u001b[0m\u001b[0;34m\u001b[0m\u001b[0m\n\u001b[1;32m    230\u001b[0m         \u001b[0mx\u001b[0m \u001b[0;34m=\u001b[0m \u001b[0mself\u001b[0m\u001b[0;34m.\u001b[0m\u001b[0mlin2\u001b[0m\u001b[0;34m(\u001b[0m\u001b[0mx\u001b[0m\u001b[0;34m)\u001b[0m\u001b[0;34m\u001b[0m\u001b[0;34m\u001b[0m\u001b[0m\n",
            "\u001b[0;32m/usr/local/lib/python3.7/dist-packages/keras/utils/traceback_utils.py\u001b[0m in \u001b[0;36merror_handler\u001b[0;34m(*args, **kwargs)\u001b[0m\n\u001b[1;32m     62\u001b[0m     \u001b[0mfiltered_tb\u001b[0m \u001b[0;34m=\u001b[0m \u001b[0;32mNone\u001b[0m\u001b[0;34m\u001b[0m\u001b[0;34m\u001b[0m\u001b[0m\n\u001b[1;32m     63\u001b[0m     \u001b[0;32mtry\u001b[0m\u001b[0;34m:\u001b[0m\u001b[0;34m\u001b[0m\u001b[0;34m\u001b[0m\u001b[0m\n\u001b[0;32m---> 64\u001b[0;31m       \u001b[0;32mreturn\u001b[0m \u001b[0mfn\u001b[0m\u001b[0;34m(\u001b[0m\u001b[0;34m*\u001b[0m\u001b[0margs\u001b[0m\u001b[0;34m,\u001b[0m \u001b[0;34m**\u001b[0m\u001b[0mkwargs\u001b[0m\u001b[0;34m)\u001b[0m\u001b[0;34m\u001b[0m\u001b[0;34m\u001b[0m\u001b[0m\n\u001b[0m\u001b[1;32m     65\u001b[0m     \u001b[0;32mexcept\u001b[0m \u001b[0mException\u001b[0m \u001b[0;32mas\u001b[0m \u001b[0me\u001b[0m\u001b[0;34m:\u001b[0m  \u001b[0;31m# pylint: disable=broad-except\u001b[0m\u001b[0;34m\u001b[0m\u001b[0;34m\u001b[0m\u001b[0m\n\u001b[1;32m     66\u001b[0m       \u001b[0mfiltered_tb\u001b[0m \u001b[0;34m=\u001b[0m \u001b[0m_process_traceback_frames\u001b[0m\u001b[0;34m(\u001b[0m\u001b[0me\u001b[0m\u001b[0;34m.\u001b[0m\u001b[0m__traceback__\u001b[0m\u001b[0;34m)\u001b[0m\u001b[0;34m\u001b[0m\u001b[0;34m\u001b[0m\u001b[0m\n",
            "\u001b[0;32m/usr/local/lib/python3.7/dist-packages/keras/engine/base_layer.py\u001b[0m in \u001b[0;36m__call__\u001b[0;34m(self, *args, **kwargs)\u001b[0m\n\u001b[1;32m   1081\u001b[0m         with autocast_variable.enable_auto_cast_variables(\n\u001b[1;32m   1082\u001b[0m             self._compute_dtype_object):\n\u001b[0;32m-> 1083\u001b[0;31m           \u001b[0moutputs\u001b[0m \u001b[0;34m=\u001b[0m \u001b[0mcall_fn\u001b[0m\u001b[0;34m(\u001b[0m\u001b[0minputs\u001b[0m\u001b[0;34m,\u001b[0m \u001b[0;34m*\u001b[0m\u001b[0margs\u001b[0m\u001b[0;34m,\u001b[0m \u001b[0;34m**\u001b[0m\u001b[0mkwargs\u001b[0m\u001b[0;34m)\u001b[0m\u001b[0;34m\u001b[0m\u001b[0;34m\u001b[0m\u001b[0m\n\u001b[0m\u001b[1;32m   1084\u001b[0m \u001b[0;34m\u001b[0m\u001b[0m\n\u001b[1;32m   1085\u001b[0m         \u001b[0;32mif\u001b[0m \u001b[0mself\u001b[0m\u001b[0;34m.\u001b[0m\u001b[0m_activity_regularizer\u001b[0m\u001b[0;34m:\u001b[0m\u001b[0;34m\u001b[0m\u001b[0;34m\u001b[0m\u001b[0m\n",
            "\u001b[0;32m/usr/local/lib/python3.7/dist-packages/keras/utils/traceback_utils.py\u001b[0m in \u001b[0;36merror_handler\u001b[0;34m(*args, **kwargs)\u001b[0m\n\u001b[1;32m     90\u001b[0m     \u001b[0mbound_signature\u001b[0m \u001b[0;34m=\u001b[0m \u001b[0;32mNone\u001b[0m\u001b[0;34m\u001b[0m\u001b[0;34m\u001b[0m\u001b[0m\n\u001b[1;32m     91\u001b[0m     \u001b[0;32mtry\u001b[0m\u001b[0;34m:\u001b[0m\u001b[0;34m\u001b[0m\u001b[0;34m\u001b[0m\u001b[0m\n\u001b[0;32m---> 92\u001b[0;31m       \u001b[0;32mreturn\u001b[0m \u001b[0mfn\u001b[0m\u001b[0;34m(\u001b[0m\u001b[0;34m*\u001b[0m\u001b[0margs\u001b[0m\u001b[0;34m,\u001b[0m \u001b[0;34m**\u001b[0m\u001b[0mkwargs\u001b[0m\u001b[0;34m)\u001b[0m\u001b[0;34m\u001b[0m\u001b[0;34m\u001b[0m\u001b[0m\n\u001b[0m\u001b[1;32m     93\u001b[0m     \u001b[0;32mexcept\u001b[0m \u001b[0mException\u001b[0m \u001b[0;32mas\u001b[0m \u001b[0me\u001b[0m\u001b[0;34m:\u001b[0m  \u001b[0;31m# pylint: disable=broad-except\u001b[0m\u001b[0;34m\u001b[0m\u001b[0;34m\u001b[0m\u001b[0m\n\u001b[1;32m     94\u001b[0m       \u001b[0;32mif\u001b[0m \u001b[0mhasattr\u001b[0m\u001b[0;34m(\u001b[0m\u001b[0me\u001b[0m\u001b[0;34m,\u001b[0m \u001b[0;34m'_keras_call_info_injected'\u001b[0m\u001b[0;34m)\u001b[0m\u001b[0;34m:\u001b[0m\u001b[0;34m\u001b[0m\u001b[0;34m\u001b[0m\u001b[0m\n",
            "\u001b[0;32m/usr/local/lib/python3.7/dist-packages/keras/layers/core/dense.py\u001b[0m in \u001b[0;36mcall\u001b[0;34m(self, inputs)\u001b[0m\n\u001b[1;32m    200\u001b[0m     \u001b[0;31m# Broadcast kernel to inputs.\u001b[0m\u001b[0;34m\u001b[0m\u001b[0;34m\u001b[0m\u001b[0;34m\u001b[0m\u001b[0m\n\u001b[1;32m    201\u001b[0m     \u001b[0;32melse\u001b[0m\u001b[0;34m:\u001b[0m\u001b[0;34m\u001b[0m\u001b[0;34m\u001b[0m\u001b[0m\n\u001b[0;32m--> 202\u001b[0;31m       \u001b[0moutputs\u001b[0m \u001b[0;34m=\u001b[0m \u001b[0mtf\u001b[0m\u001b[0;34m.\u001b[0m\u001b[0mtensordot\u001b[0m\u001b[0;34m(\u001b[0m\u001b[0minputs\u001b[0m\u001b[0;34m,\u001b[0m \u001b[0mself\u001b[0m\u001b[0;34m.\u001b[0m\u001b[0mkernel\u001b[0m\u001b[0;34m,\u001b[0m \u001b[0;34m[\u001b[0m\u001b[0;34m[\u001b[0m\u001b[0mrank\u001b[0m \u001b[0;34m-\u001b[0m \u001b[0;36m1\u001b[0m\u001b[0;34m]\u001b[0m\u001b[0;34m,\u001b[0m \u001b[0;34m[\u001b[0m\u001b[0;36m0\u001b[0m\u001b[0;34m]\u001b[0m\u001b[0;34m]\u001b[0m\u001b[0;34m)\u001b[0m\u001b[0;34m\u001b[0m\u001b[0;34m\u001b[0m\u001b[0m\n\u001b[0m\u001b[1;32m    203\u001b[0m       \u001b[0;31m# Reshape the output back to the original ndim of the input.\u001b[0m\u001b[0;34m\u001b[0m\u001b[0;34m\u001b[0m\u001b[0;34m\u001b[0m\u001b[0m\n\u001b[1;32m    204\u001b[0m       \u001b[0;32mif\u001b[0m \u001b[0;32mnot\u001b[0m \u001b[0mtf\u001b[0m\u001b[0;34m.\u001b[0m\u001b[0mexecuting_eagerly\u001b[0m\u001b[0;34m(\u001b[0m\u001b[0;34m)\u001b[0m\u001b[0;34m:\u001b[0m\u001b[0;34m\u001b[0m\u001b[0;34m\u001b[0m\u001b[0m\n",
            "\u001b[0;32m/usr/local/lib/python3.7/dist-packages/tensorflow/python/util/traceback_utils.py\u001b[0m in \u001b[0;36merror_handler\u001b[0;34m(*args, **kwargs)\u001b[0m\n\u001b[1;32m    148\u001b[0m     \u001b[0mfiltered_tb\u001b[0m \u001b[0;34m=\u001b[0m \u001b[0;32mNone\u001b[0m\u001b[0;34m\u001b[0m\u001b[0;34m\u001b[0m\u001b[0m\n\u001b[1;32m    149\u001b[0m     \u001b[0;32mtry\u001b[0m\u001b[0;34m:\u001b[0m\u001b[0;34m\u001b[0m\u001b[0;34m\u001b[0m\u001b[0m\n\u001b[0;32m--> 150\u001b[0;31m       \u001b[0;32mreturn\u001b[0m \u001b[0mfn\u001b[0m\u001b[0;34m(\u001b[0m\u001b[0;34m*\u001b[0m\u001b[0margs\u001b[0m\u001b[0;34m,\u001b[0m \u001b[0;34m**\u001b[0m\u001b[0mkwargs\u001b[0m\u001b[0;34m)\u001b[0m\u001b[0;34m\u001b[0m\u001b[0;34m\u001b[0m\u001b[0m\n\u001b[0m\u001b[1;32m    151\u001b[0m     \u001b[0;32mexcept\u001b[0m \u001b[0mException\u001b[0m \u001b[0;32mas\u001b[0m \u001b[0me\u001b[0m\u001b[0;34m:\u001b[0m\u001b[0;34m\u001b[0m\u001b[0;34m\u001b[0m\u001b[0m\n\u001b[1;32m    152\u001b[0m       \u001b[0mfiltered_tb\u001b[0m \u001b[0;34m=\u001b[0m \u001b[0m_process_traceback_frames\u001b[0m\u001b[0;34m(\u001b[0m\u001b[0me\u001b[0m\u001b[0;34m.\u001b[0m\u001b[0m__traceback__\u001b[0m\u001b[0;34m)\u001b[0m\u001b[0;34m\u001b[0m\u001b[0;34m\u001b[0m\u001b[0m\n",
            "\u001b[0;32m/usr/local/lib/python3.7/dist-packages/tensorflow/python/util/dispatch.py\u001b[0m in \u001b[0;36mop_dispatch_handler\u001b[0;34m(*args, **kwargs)\u001b[0m\n\u001b[1;32m   1094\u001b[0m       \u001b[0;31m# Fallback dispatch system (dispatch v1):\u001b[0m\u001b[0;34m\u001b[0m\u001b[0;34m\u001b[0m\u001b[0;34m\u001b[0m\u001b[0m\n\u001b[1;32m   1095\u001b[0m       \u001b[0;32mtry\u001b[0m\u001b[0;34m:\u001b[0m\u001b[0;34m\u001b[0m\u001b[0;34m\u001b[0m\u001b[0m\n\u001b[0;32m-> 1096\u001b[0;31m         \u001b[0;32mreturn\u001b[0m \u001b[0mdispatch_target\u001b[0m\u001b[0;34m(\u001b[0m\u001b[0;34m*\u001b[0m\u001b[0margs\u001b[0m\u001b[0;34m,\u001b[0m \u001b[0;34m**\u001b[0m\u001b[0mkwargs\u001b[0m\u001b[0;34m)\u001b[0m\u001b[0;34m\u001b[0m\u001b[0;34m\u001b[0m\u001b[0m\n\u001b[0m\u001b[1;32m   1097\u001b[0m       \u001b[0;32mexcept\u001b[0m \u001b[0;34m(\u001b[0m\u001b[0mTypeError\u001b[0m\u001b[0;34m,\u001b[0m \u001b[0mValueError\u001b[0m\u001b[0;34m)\u001b[0m\u001b[0;34m:\u001b[0m\u001b[0;34m\u001b[0m\u001b[0;34m\u001b[0m\u001b[0m\n\u001b[1;32m   1098\u001b[0m         \u001b[0;31m# Note: convert_to_eager_tensor currently raises a ValueError, not a\u001b[0m\u001b[0;34m\u001b[0m\u001b[0;34m\u001b[0m\u001b[0;34m\u001b[0m\u001b[0m\n",
            "\u001b[0;32m/usr/local/lib/python3.7/dist-packages/tensorflow/python/ops/math_ops.py\u001b[0m in \u001b[0;36mtensordot\u001b[0;34m(a, b, axes, name)\u001b[0m\n\u001b[1;32m   5087\u001b[0m     b_reshape, b_free_dims, b_free_dims_static = _tensordot_reshape(\n\u001b[1;32m   5088\u001b[0m         b, b_axes, True)\n\u001b[0;32m-> 5089\u001b[0;31m     \u001b[0mab_matmul\u001b[0m \u001b[0;34m=\u001b[0m \u001b[0mmatmul\u001b[0m\u001b[0;34m(\u001b[0m\u001b[0ma_reshape\u001b[0m\u001b[0;34m,\u001b[0m \u001b[0mb_reshape\u001b[0m\u001b[0;34m)\u001b[0m\u001b[0;34m\u001b[0m\u001b[0;34m\u001b[0m\u001b[0m\n\u001b[0m\u001b[1;32m   5090\u001b[0m     \u001b[0;32mif\u001b[0m \u001b[0misinstance\u001b[0m\u001b[0;34m(\u001b[0m\u001b[0ma_free_dims\u001b[0m\u001b[0;34m,\u001b[0m \u001b[0mlist\u001b[0m\u001b[0;34m)\u001b[0m \u001b[0;32mand\u001b[0m \u001b[0misinstance\u001b[0m\u001b[0;34m(\u001b[0m\u001b[0mb_free_dims\u001b[0m\u001b[0;34m,\u001b[0m \u001b[0mlist\u001b[0m\u001b[0;34m)\u001b[0m\u001b[0;34m:\u001b[0m\u001b[0;34m\u001b[0m\u001b[0;34m\u001b[0m\u001b[0m\n\u001b[1;32m   5091\u001b[0m       if (ab_matmul.get_shape().is_fully_defined() and\n",
            "\u001b[0;32m/usr/local/lib/python3.7/dist-packages/tensorflow/python/util/traceback_utils.py\u001b[0m in \u001b[0;36merror_handler\u001b[0;34m(*args, **kwargs)\u001b[0m\n\u001b[1;32m    148\u001b[0m     \u001b[0mfiltered_tb\u001b[0m \u001b[0;34m=\u001b[0m \u001b[0;32mNone\u001b[0m\u001b[0;34m\u001b[0m\u001b[0;34m\u001b[0m\u001b[0m\n\u001b[1;32m    149\u001b[0m     \u001b[0;32mtry\u001b[0m\u001b[0;34m:\u001b[0m\u001b[0;34m\u001b[0m\u001b[0;34m\u001b[0m\u001b[0m\n\u001b[0;32m--> 150\u001b[0;31m       \u001b[0;32mreturn\u001b[0m \u001b[0mfn\u001b[0m\u001b[0;34m(\u001b[0m\u001b[0;34m*\u001b[0m\u001b[0margs\u001b[0m\u001b[0;34m,\u001b[0m \u001b[0;34m**\u001b[0m\u001b[0mkwargs\u001b[0m\u001b[0;34m)\u001b[0m\u001b[0;34m\u001b[0m\u001b[0;34m\u001b[0m\u001b[0m\n\u001b[0m\u001b[1;32m    151\u001b[0m     \u001b[0;32mexcept\u001b[0m \u001b[0mException\u001b[0m \u001b[0;32mas\u001b[0m \u001b[0me\u001b[0m\u001b[0;34m:\u001b[0m\u001b[0;34m\u001b[0m\u001b[0;34m\u001b[0m\u001b[0m\n\u001b[1;32m    152\u001b[0m       \u001b[0mfiltered_tb\u001b[0m \u001b[0;34m=\u001b[0m \u001b[0m_process_traceback_frames\u001b[0m\u001b[0;34m(\u001b[0m\u001b[0me\u001b[0m\u001b[0;34m.\u001b[0m\u001b[0m__traceback__\u001b[0m\u001b[0;34m)\u001b[0m\u001b[0;34m\u001b[0m\u001b[0;34m\u001b[0m\u001b[0m\n",
            "\u001b[0;32m/usr/local/lib/python3.7/dist-packages/tensorflow/python/util/dispatch.py\u001b[0m in \u001b[0;36mop_dispatch_handler\u001b[0;34m(*args, **kwargs)\u001b[0m\n\u001b[1;32m   1094\u001b[0m       \u001b[0;31m# Fallback dispatch system (dispatch v1):\u001b[0m\u001b[0;34m\u001b[0m\u001b[0;34m\u001b[0m\u001b[0;34m\u001b[0m\u001b[0m\n\u001b[1;32m   1095\u001b[0m       \u001b[0;32mtry\u001b[0m\u001b[0;34m:\u001b[0m\u001b[0;34m\u001b[0m\u001b[0;34m\u001b[0m\u001b[0m\n\u001b[0;32m-> 1096\u001b[0;31m         \u001b[0;32mreturn\u001b[0m \u001b[0mdispatch_target\u001b[0m\u001b[0;34m(\u001b[0m\u001b[0;34m*\u001b[0m\u001b[0margs\u001b[0m\u001b[0;34m,\u001b[0m \u001b[0;34m**\u001b[0m\u001b[0mkwargs\u001b[0m\u001b[0;34m)\u001b[0m\u001b[0;34m\u001b[0m\u001b[0;34m\u001b[0m\u001b[0m\n\u001b[0m\u001b[1;32m   1097\u001b[0m       \u001b[0;32mexcept\u001b[0m \u001b[0;34m(\u001b[0m\u001b[0mTypeError\u001b[0m\u001b[0;34m,\u001b[0m \u001b[0mValueError\u001b[0m\u001b[0;34m)\u001b[0m\u001b[0;34m:\u001b[0m\u001b[0;34m\u001b[0m\u001b[0;34m\u001b[0m\u001b[0m\n\u001b[1;32m   1098\u001b[0m         \u001b[0;31m# Note: convert_to_eager_tensor currently raises a ValueError, not a\u001b[0m\u001b[0;34m\u001b[0m\u001b[0;34m\u001b[0m\u001b[0;34m\u001b[0m\u001b[0m\n",
            "\u001b[0;32m/usr/local/lib/python3.7/dist-packages/tensorflow/python/ops/math_ops.py\u001b[0m in \u001b[0;36mmatmul\u001b[0;34m(a, b, transpose_a, transpose_b, adjoint_a, adjoint_b, a_is_sparse, b_is_sparse, output_type, name)\u001b[0m\n\u001b[1;32m   3699\u001b[0m       \u001b[0;32melse\u001b[0m\u001b[0;34m:\u001b[0m\u001b[0;34m\u001b[0m\u001b[0;34m\u001b[0m\u001b[0m\n\u001b[1;32m   3700\u001b[0m         return gen_math_ops.mat_mul(\n\u001b[0;32m-> 3701\u001b[0;31m             a, b, transpose_a=transpose_a, transpose_b=transpose_b, name=name)\n\u001b[0m\u001b[1;32m   3702\u001b[0m \u001b[0;34m\u001b[0m\u001b[0m\n\u001b[1;32m   3703\u001b[0m \u001b[0;34m\u001b[0m\u001b[0m\n",
            "\u001b[0;32m/usr/local/lib/python3.7/dist-packages/tensorflow/python/ops/gen_math_ops.py\u001b[0m in \u001b[0;36mmat_mul\u001b[0;34m(a, b, transpose_a, transpose_b, name)\u001b[0m\n\u001b[1;32m   6013\u001b[0m       _result = pywrap_tfe.TFE_Py_FastPathExecute(\n\u001b[1;32m   6014\u001b[0m         \u001b[0m_ctx\u001b[0m\u001b[0;34m,\u001b[0m \u001b[0;34m\"MatMul\"\u001b[0m\u001b[0;34m,\u001b[0m \u001b[0mname\u001b[0m\u001b[0;34m,\u001b[0m \u001b[0ma\u001b[0m\u001b[0;34m,\u001b[0m \u001b[0mb\u001b[0m\u001b[0;34m,\u001b[0m \u001b[0;34m\"transpose_a\"\u001b[0m\u001b[0;34m,\u001b[0m \u001b[0mtranspose_a\u001b[0m\u001b[0;34m,\u001b[0m \u001b[0;34m\"transpose_b\"\u001b[0m\u001b[0;34m,\u001b[0m\u001b[0;34m\u001b[0m\u001b[0;34m\u001b[0m\u001b[0m\n\u001b[0;32m-> 6015\u001b[0;31m         transpose_b)\n\u001b[0m\u001b[1;32m   6016\u001b[0m       \u001b[0;32mreturn\u001b[0m \u001b[0m_result\u001b[0m\u001b[0;34m\u001b[0m\u001b[0;34m\u001b[0m\u001b[0m\n\u001b[1;32m   6017\u001b[0m     \u001b[0;32mexcept\u001b[0m \u001b[0m_core\u001b[0m\u001b[0;34m.\u001b[0m\u001b[0m_NotOkStatusException\u001b[0m \u001b[0;32mas\u001b[0m \u001b[0me\u001b[0m\u001b[0;34m:\u001b[0m\u001b[0;34m\u001b[0m\u001b[0;34m\u001b[0m\u001b[0m\n",
            "\u001b[0;31mKeyboardInterrupt\u001b[0m: "
          ]
        }
      ]
    },
    {
      "cell_type": "code",
      "metadata": {
        "id": "nZsdraxpl-jG"
      },
      "source": [
        "model.save('saved_model/my_model')\n",
        "new_model = tf.keras.models.load_model('saved_model/my_model')"
      ],
      "execution_count": null,
      "outputs": []
    },
    {
      "cell_type": "code",
      "metadata": {
        "id": "Pdrbq8OEgYeb"
      },
      "source": [
        ">>> from seqeval.metrics import accuracy_score\n",
        ">>> from seqeval.metrics import classification_report\n",
        ">>> from seqeval.metrics import f1_score"
      ],
      "execution_count": null,
      "outputs": []
    }
  ]
}