{
  "nbformat": 4,
  "nbformat_minor": 0,
  "metadata": {
    "colab": {
      "name": "Untitled5.ipynb",
      "provenance": [],
      "authorship_tag": "ABX9TyNMsNiFt/UbWA7SUFPXcB8u",
      "include_colab_link": true
    },
    "kernelspec": {
      "name": "python3",
      "display_name": "Python 3"
    },
    "language_info": {
      "name": "python"
    },
    "accelerator": "GPU"
  },
  "cells": [
    {
      "cell_type": "markdown",
      "metadata": {
        "id": "view-in-github",
        "colab_type": "text"
      },
      "source": [
        "<a href=\"https://colab.research.google.com/github/sergiorolnic/anonim/blob/main/Untitled5.ipynb\" target=\"_parent\"><img src=\"https://colab.research.google.com/assets/colab-badge.svg\" alt=\"Open In Colab\"/></a>"
      ]
    },
    {
      "cell_type": "code",
      "metadata": {
        "id": "NppV22s2Jpky"
      },
      "source": [
        "import os.path\n",
        "import numpy as np\n",
        "import pandas as pd"
      ],
      "execution_count": 91,
      "outputs": []
    },
    {
      "cell_type": "code",
      "metadata": {
        "id": "GERTBNmi1W9m",
        "colab": {
          "base_uri": "https://localhost:8080/"
        },
        "outputId": "cb2306b2-17e6-4dcb-97f9-a0d99ed0ac0d"
      },
      "source": [
        "pip install seqeval"
      ],
      "execution_count": 92,
      "outputs": [
        {
          "output_type": "stream",
          "name": "stdout",
          "text": [
            "Requirement already satisfied: seqeval in /usr/local/lib/python3.7/dist-packages (1.2.2)\n",
            "Requirement already satisfied: numpy>=1.14.0 in /usr/local/lib/python3.7/dist-packages (from seqeval) (1.19.5)\n",
            "Requirement already satisfied: scikit-learn>=0.21.3 in /usr/local/lib/python3.7/dist-packages (from seqeval) (1.0.1)\n",
            "Requirement already satisfied: threadpoolctl>=2.0.0 in /usr/local/lib/python3.7/dist-packages (from scikit-learn>=0.21.3->seqeval) (3.0.0)\n",
            "Requirement already satisfied: scipy>=1.1.0 in /usr/local/lib/python3.7/dist-packages (from scikit-learn>=0.21.3->seqeval) (1.4.1)\n",
            "Requirement already satisfied: joblib>=0.11 in /usr/local/lib/python3.7/dist-packages (from scikit-learn>=0.21.3->seqeval) (1.1.0)\n"
          ]
        }
      ]
    },
    {
      "cell_type": "code",
      "metadata": {
        "colab": {
          "base_uri": "https://localhost:8080/"
        },
        "id": "fqRGxLjBPZd3",
        "outputId": "e9064f6a-006c-457b-9630-b28d7a12cf06"
      },
      "source": [
        "pip install transformers datasets\n"
      ],
      "execution_count": 93,
      "outputs": [
        {
          "output_type": "stream",
          "name": "stdout",
          "text": [
            "Requirement already satisfied: transformers in /usr/local/lib/python3.7/dist-packages (4.13.0)\n",
            "Requirement already satisfied: datasets in /usr/local/lib/python3.7/dist-packages (1.16.1)\n",
            "Requirement already satisfied: numpy>=1.17 in /usr/local/lib/python3.7/dist-packages (from transformers) (1.19.5)\n",
            "Requirement already satisfied: regex!=2019.12.17 in /usr/local/lib/python3.7/dist-packages (from transformers) (2019.12.20)\n",
            "Requirement already satisfied: pyyaml>=5.1 in /usr/local/lib/python3.7/dist-packages (from transformers) (6.0)\n",
            "Requirement already satisfied: requests in /usr/local/lib/python3.7/dist-packages (from transformers) (2.23.0)\n",
            "Requirement already satisfied: huggingface-hub<1.0,>=0.1.0 in /usr/local/lib/python3.7/dist-packages (from transformers) (0.2.1)\n",
            "Requirement already satisfied: filelock in /usr/local/lib/python3.7/dist-packages (from transformers) (3.4.0)\n",
            "Requirement already satisfied: packaging>=20.0 in /usr/local/lib/python3.7/dist-packages (from transformers) (21.3)\n",
            "Requirement already satisfied: tqdm>=4.27 in /usr/local/lib/python3.7/dist-packages (from transformers) (4.62.3)\n",
            "Requirement already satisfied: tokenizers<0.11,>=0.10.1 in /usr/local/lib/python3.7/dist-packages (from transformers) (0.10.3)\n",
            "Requirement already satisfied: importlib-metadata in /usr/local/lib/python3.7/dist-packages (from transformers) (4.8.2)\n",
            "Requirement already satisfied: sacremoses in /usr/local/lib/python3.7/dist-packages (from transformers) (0.0.46)\n",
            "Requirement already satisfied: typing-extensions>=3.7.4.3 in /usr/local/lib/python3.7/dist-packages (from huggingface-hub<1.0,>=0.1.0->transformers) (3.10.0.2)\n",
            "Requirement already satisfied: pyparsing!=3.0.5,>=2.0.2 in /usr/local/lib/python3.7/dist-packages (from packaging>=20.0->transformers) (3.0.6)\n",
            "Requirement already satisfied: fsspec[http]>=2021.05.0 in /usr/local/lib/python3.7/dist-packages (from datasets) (2021.11.1)\n",
            "Requirement already satisfied: aiohttp in /usr/local/lib/python3.7/dist-packages (from datasets) (3.8.1)\n",
            "Requirement already satisfied: pyarrow!=4.0.0,>=3.0.0 in /usr/local/lib/python3.7/dist-packages (from datasets) (3.0.0)\n",
            "Requirement already satisfied: dill in /usr/local/lib/python3.7/dist-packages (from datasets) (0.3.4)\n",
            "Requirement already satisfied: xxhash in /usr/local/lib/python3.7/dist-packages (from datasets) (2.0.2)\n",
            "Requirement already satisfied: multiprocess in /usr/local/lib/python3.7/dist-packages (from datasets) (0.70.12.2)\n",
            "Requirement already satisfied: pandas in /usr/local/lib/python3.7/dist-packages (from datasets) (1.1.5)\n",
            "Requirement already satisfied: certifi>=2017.4.17 in /usr/local/lib/python3.7/dist-packages (from requests->transformers) (2021.10.8)\n",
            "Requirement already satisfied: urllib3!=1.25.0,!=1.25.1,<1.26,>=1.21.1 in /usr/local/lib/python3.7/dist-packages (from requests->transformers) (1.24.3)\n",
            "Requirement already satisfied: chardet<4,>=3.0.2 in /usr/local/lib/python3.7/dist-packages (from requests->transformers) (3.0.4)\n",
            "Requirement already satisfied: idna<3,>=2.5 in /usr/local/lib/python3.7/dist-packages (from requests->transformers) (2.10)\n",
            "Requirement already satisfied: aiosignal>=1.1.2 in /usr/local/lib/python3.7/dist-packages (from aiohttp->datasets) (1.2.0)\n",
            "Requirement already satisfied: yarl<2.0,>=1.0 in /usr/local/lib/python3.7/dist-packages (from aiohttp->datasets) (1.7.2)\n",
            "Requirement already satisfied: async-timeout<5.0,>=4.0.0a3 in /usr/local/lib/python3.7/dist-packages (from aiohttp->datasets) (4.0.1)\n",
            "Requirement already satisfied: asynctest==0.13.0 in /usr/local/lib/python3.7/dist-packages (from aiohttp->datasets) (0.13.0)\n",
            "Requirement already satisfied: charset-normalizer<3.0,>=2.0 in /usr/local/lib/python3.7/dist-packages (from aiohttp->datasets) (2.0.8)\n",
            "Requirement already satisfied: frozenlist>=1.1.1 in /usr/local/lib/python3.7/dist-packages (from aiohttp->datasets) (1.2.0)\n",
            "Requirement already satisfied: attrs>=17.3.0 in /usr/local/lib/python3.7/dist-packages (from aiohttp->datasets) (21.2.0)\n",
            "Requirement already satisfied: multidict<7.0,>=4.5 in /usr/local/lib/python3.7/dist-packages (from aiohttp->datasets) (5.2.0)\n",
            "Requirement already satisfied: zipp>=0.5 in /usr/local/lib/python3.7/dist-packages (from importlib-metadata->transformers) (3.6.0)\n",
            "Requirement already satisfied: pytz>=2017.2 in /usr/local/lib/python3.7/dist-packages (from pandas->datasets) (2018.9)\n",
            "Requirement already satisfied: python-dateutil>=2.7.3 in /usr/local/lib/python3.7/dist-packages (from pandas->datasets) (2.8.2)\n",
            "Requirement already satisfied: six>=1.5 in /usr/local/lib/python3.7/dist-packages (from python-dateutil>=2.7.3->pandas->datasets) (1.15.0)\n",
            "Requirement already satisfied: joblib in /usr/local/lib/python3.7/dist-packages (from sacremoses->transformers) (1.1.0)\n",
            "Requirement already satisfied: click in /usr/local/lib/python3.7/dist-packages (from sacremoses->transformers) (7.1.2)\n"
          ]
        }
      ]
    },
    {
      "cell_type": "markdown",
      "metadata": {
        "id": "r8_fVsdKPNYI"
      },
      "source": [
        "# Create Data"
      ]
    },
    {
      "cell_type": "code",
      "metadata": {
        "id": "vQlaW4iQJsTH"
      },
      "source": [
        "df = pd.read_json(\"https://raw.githubusercontent.com/sergiorolnic/anonim/main/data/esempio.json\")"
      ],
      "execution_count": 94,
      "outputs": []
    },
    {
      "cell_type": "code",
      "metadata": {
        "id": "KQF_m3qk2LYa",
        "colab": {
          "base_uri": "https://localhost:8080/",
          "height": 400
        },
        "outputId": "a5a536ee-47d6-4d90-cf93-32c0a9dc1580"
      },
      "source": [
        "df.head(5)"
      ],
      "execution_count": 95,
      "outputs": [
        {
          "output_type": "execute_result",
          "data": {
            "text/html": [
              "<div>\n",
              "<style scoped>\n",
              "    .dataframe tbody tr th:only-of-type {\n",
              "        vertical-align: middle;\n",
              "    }\n",
              "\n",
              "    .dataframe tbody tr th {\n",
              "        vertical-align: top;\n",
              "    }\n",
              "\n",
              "    .dataframe thead th {\n",
              "        text-align: right;\n",
              "    }\n",
              "</style>\n",
              "<table border=\"1\" class=\"dataframe\">\n",
              "  <thead>\n",
              "    <tr style=\"text-align: right;\">\n",
              "      <th></th>\n",
              "      <th>cod_prv</th>\n",
              "      <th>cod_com</th>\n",
              "      <th>id</th>\n",
              "      <th>cognome</th>\n",
              "      <th>nome</th>\n",
              "      <th>sesso</th>\n",
              "      <th>data_nascita</th>\n",
              "      <th>luogo_nascita</th>\n",
              "      <th>cf</th>\n",
              "      <th>prov_nascita</th>\n",
              "      <th>comune_res</th>\n",
              "      <th>prov_res</th>\n",
              "      <th>citt</th>\n",
              "      <th>indirizzo</th>\n",
              "      <th>cap</th>\n",
              "      <th>dato1</th>\n",
              "      <th>dato2</th>\n",
              "      <th>dato3</th>\n",
              "      <th>dato4</th>\n",
              "      <th>dato5</th>\n",
              "      <th>dato6</th>\n",
              "      <th>dato7</th>\n",
              "    </tr>\n",
              "  </thead>\n",
              "  <tbody>\n",
              "    <tr>\n",
              "      <th>0</th>\n",
              "      <td>5</td>\n",
              "      <td>22</td>\n",
              "      <td>1</td>\n",
              "      <td>AHMETOVIC</td>\n",
              "      <td>MEHO</td>\n",
              "      <td>M</td>\n",
              "      <td>20051974</td>\n",
              "      <td>BOSNIA-ERZEGOVINA</td>\n",
              "      <td>HMTMHE74E20Z153Q</td>\n",
              "      <td>EE</td>\n",
              "      <td>MONCALIERI</td>\n",
              "      <td>TO</td>\n",
              "      <td>BIH</td>\n",
              "      <td>STRADA VINOVO SNC</td>\n",
              "      <td>10024</td>\n",
              "      <td>9032017</td>\n",
              "      <td>122049</td>\n",
              "      <td>23</td>\n",
              "      <td>9032017</td>\n",
              "      <td>16072008</td>\n",
              "      <td>12112021 05:49:25</td>\n",
              "      <td>CENS2011</td>\n",
              "    </tr>\n",
              "    <tr>\n",
              "      <th>1</th>\n",
              "      <td>5</td>\n",
              "      <td>22</td>\n",
              "      <td>2</td>\n",
              "      <td>GIORDANI</td>\n",
              "      <td>SILVIA</td>\n",
              "      <td>F</td>\n",
              "      <td>29061981</td>\n",
              "      <td>TORINO</td>\n",
              "      <td>GRDSLV81H69L219C</td>\n",
              "      <td>TO</td>\n",
              "      <td>MONCALIERI</td>\n",
              "      <td>TO</td>\n",
              "      <td>ITA</td>\n",
              "      <td>VIA AMILCARE PONCHIELLI 26</td>\n",
              "      <td>10024</td>\n",
              "      <td>24032017</td>\n",
              "      <td>124156</td>\n",
              "      <td>1</td>\n",
              "      <td>25062011</td>\n",
              "      <td>14012010</td>\n",
              "      <td>12112021 05:49:25</td>\n",
              "      <td>CENS2011</td>\n",
              "    </tr>\n",
              "    <tr>\n",
              "      <th>2</th>\n",
              "      <td>5</td>\n",
              "      <td>22</td>\n",
              "      <td>8</td>\n",
              "      <td>ABATE</td>\n",
              "      <td>CALOGERA</td>\n",
              "      <td>F</td>\n",
              "      <td>15071970</td>\n",
              "      <td>MONCALIERI</td>\n",
              "      <td>BTACGR70L55F335R</td>\n",
              "      <td>TO</td>\n",
              "      <td>MONCALIERI</td>\n",
              "      <td>TO</td>\n",
              "      <td>ITA</td>\n",
              "      <td>VIA JUGLARIS 66</td>\n",
              "      <td>10024</td>\n",
              "      <td>24032017</td>\n",
              "      <td>10005</td>\n",
              "      <td>1</td>\n",
              "      <td>12052010</td>\n",
              "      <td>29011968</td>\n",
              "      <td>12112021 05:49:25</td>\n",
              "      <td>CENS2011</td>\n",
              "    </tr>\n",
              "    <tr>\n",
              "      <th>3</th>\n",
              "      <td>5</td>\n",
              "      <td>22</td>\n",
              "      <td>11</td>\n",
              "      <td>ABATE</td>\n",
              "      <td>ELENA</td>\n",
              "      <td>F</td>\n",
              "      <td>19031946</td>\n",
              "      <td>MONTALTO UFFUGO</td>\n",
              "      <td>BTALNE46C59F416B</td>\n",
              "      <td>CS</td>\n",
              "      <td>MONCALIERI</td>\n",
              "      <td>TO</td>\n",
              "      <td>ITA</td>\n",
              "      <td>VIA JUGLARIS 27</td>\n",
              "      <td>10024</td>\n",
              "      <td>24032017</td>\n",
              "      <td>27848</td>\n",
              "      <td>1</td>\n",
              "      <td>20022014</td>\n",
              "      <td>11041972</td>\n",
              "      <td>12112021 05:49:25</td>\n",
              "      <td>CENS2011</td>\n",
              "    </tr>\n",
              "    <tr>\n",
              "      <th>4</th>\n",
              "      <td>5</td>\n",
              "      <td>22</td>\n",
              "      <td>13</td>\n",
              "      <td>ABATE</td>\n",
              "      <td>EZIO</td>\n",
              "      <td>M</td>\n",
              "      <td>8031935</td>\n",
              "      <td>BIANZE'</td>\n",
              "      <td>BTAZEI35C08A847I</td>\n",
              "      <td>VC</td>\n",
              "      <td>MONCALIERI</td>\n",
              "      <td>TO</td>\n",
              "      <td>ITA</td>\n",
              "      <td>STRADA GENOVA 58</td>\n",
              "      <td>10024</td>\n",
              "      <td>24032017</td>\n",
              "      <td>10002</td>\n",
              "      <td>1</td>\n",
              "      <td>3101963</td>\n",
              "      <td>3101963</td>\n",
              "      <td>12112021 05:49:25</td>\n",
              "      <td>CENS2011</td>\n",
              "    </tr>\n",
              "  </tbody>\n",
              "</table>\n",
              "</div>"
            ],
            "text/plain": [
              "   cod_prv  cod_com  id  ...     dato5              dato6     dato7\n",
              "0        5       22   1  ...  16072008  12112021 05:49:25  CENS2011\n",
              "1        5       22   2  ...  14012010  12112021 05:49:25  CENS2011\n",
              "2        5       22   8  ...  29011968  12112021 05:49:25  CENS2011\n",
              "3        5       22  11  ...  11041972  12112021 05:49:25  CENS2011\n",
              "4        5       22  13  ...   3101963  12112021 05:49:25  CENS2011\n",
              "\n",
              "[5 rows x 22 columns]"
            ]
          },
          "metadata": {},
          "execution_count": 95
        }
      ]
    },
    {
      "cell_type": "code",
      "metadata": {
        "id": "dIncDACs7zoU",
        "outputId": "83e95134-6800-453d-c0c0-6f813c232439",
        "colab": {
          "base_uri": "https://localhost:8080/",
          "height": 202
        }
      },
      "source": [
        "df[df[\"cognome\"] == \"INTILI\"]"
      ],
      "execution_count": 96,
      "outputs": [
        {
          "output_type": "execute_result",
          "data": {
            "text/html": [
              "<div>\n",
              "<style scoped>\n",
              "    .dataframe tbody tr th:only-of-type {\n",
              "        vertical-align: middle;\n",
              "    }\n",
              "\n",
              "    .dataframe tbody tr th {\n",
              "        vertical-align: top;\n",
              "    }\n",
              "\n",
              "    .dataframe thead th {\n",
              "        text-align: right;\n",
              "    }\n",
              "</style>\n",
              "<table border=\"1\" class=\"dataframe\">\n",
              "  <thead>\n",
              "    <tr style=\"text-align: right;\">\n",
              "      <th></th>\n",
              "      <th>cod_prv</th>\n",
              "      <th>cod_com</th>\n",
              "      <th>id</th>\n",
              "      <th>cognome</th>\n",
              "      <th>nome</th>\n",
              "      <th>sesso</th>\n",
              "      <th>data_nascita</th>\n",
              "      <th>luogo_nascita</th>\n",
              "      <th>cf</th>\n",
              "      <th>prov_nascita</th>\n",
              "      <th>comune_res</th>\n",
              "      <th>prov_res</th>\n",
              "      <th>citt</th>\n",
              "      <th>indirizzo</th>\n",
              "      <th>cap</th>\n",
              "      <th>dato1</th>\n",
              "      <th>dato2</th>\n",
              "      <th>dato3</th>\n",
              "      <th>dato4</th>\n",
              "      <th>dato5</th>\n",
              "      <th>dato6</th>\n",
              "      <th>dato7</th>\n",
              "    </tr>\n",
              "  </thead>\n",
              "  <tbody>\n",
              "    <tr>\n",
              "      <th>11030</th>\n",
              "      <td>5</td>\n",
              "      <td>22</td>\n",
              "      <td>30650</td>\n",
              "      <td>INTILI</td>\n",
              "      <td>ANTONIO</td>\n",
              "      <td>M</td>\n",
              "      <td>10061931</td>\n",
              "      <td>CERAMI</td>\n",
              "      <td>NTLNTN31H10C480A</td>\n",
              "      <td>EN</td>\n",
              "      <td>MONCALIERI</td>\n",
              "      <td>TO</td>\n",
              "      <td>ITA</td>\n",
              "      <td>VIA MONTE BIANCO 9</td>\n",
              "      <td>10024</td>\n",
              "      <td>24032017</td>\n",
              "      <td>48501</td>\n",
              "      <td>1</td>\n",
              "      <td>2101970</td>\n",
              "      <td>2101970</td>\n",
              "      <td>12112021 05:49:25</td>\n",
              "      <td>CENS2011</td>\n",
              "    </tr>\n",
              "    <tr>\n",
              "      <th>11031</th>\n",
              "      <td>5</td>\n",
              "      <td>22</td>\n",
              "      <td>30651</td>\n",
              "      <td>INTILI</td>\n",
              "      <td>DAVIDE</td>\n",
              "      <td>M</td>\n",
              "      <td>28111977</td>\n",
              "      <td>TORINO</td>\n",
              "      <td>NTLDVD77S28L219Y</td>\n",
              "      <td>TO</td>\n",
              "      <td>MONCALIERI</td>\n",
              "      <td>TO</td>\n",
              "      <td>ITA</td>\n",
              "      <td>VIA ANGELO BROFFERIO 10</td>\n",
              "      <td>10024</td>\n",
              "      <td>24032017</td>\n",
              "      <td>116877</td>\n",
              "      <td>1</td>\n",
              "      <td>13122004</td>\n",
              "      <td>13122004</td>\n",
              "      <td>12112021 05:49:25</td>\n",
              "      <td>CENS2011</td>\n",
              "    </tr>\n",
              "  </tbody>\n",
              "</table>\n",
              "</div>"
            ],
            "text/plain": [
              "       cod_prv  cod_com     id  ...     dato5              dato6     dato7\n",
              "11030        5       22  30650  ...   2101970  12112021 05:49:25  CENS2011\n",
              "11031        5       22  30651  ...  13122004  12112021 05:49:25  CENS2011\n",
              "\n",
              "[2 rows x 22 columns]"
            ]
          },
          "metadata": {},
          "execution_count": 96
        }
      ]
    },
    {
      "cell_type": "code",
      "metadata": {
        "id": "CoMgn5-wPsW_"
      },
      "source": [
        ""
      ],
      "execution_count": 96,
      "outputs": []
    },
    {
      "cell_type": "code",
      "metadata": {
        "id": "4WBQT83FPjbf"
      },
      "source": [
        "cn = pd.read_csv('https://raw.githubusercontent.com/nicolomantini/lista_cognomi_italiani/master/cognomi.txt', header=None)\n",
        "cn.columns = [\"cognome\"]"
      ],
      "execution_count": 97,
      "outputs": []
    },
    {
      "cell_type": "code",
      "metadata": {
        "id": "EXhbzU357oxW"
      },
      "source": [
        ""
      ],
      "execution_count": 97,
      "outputs": []
    },
    {
      "cell_type": "code",
      "metadata": {
        "colab": {
          "base_uri": "https://localhost:8080/",
          "height": 112
        },
        "id": "JFdXeVjrQyjN",
        "outputId": "dac259ff-f7f8-457b-efd6-547da7036c1f"
      },
      "source": [
        "cn.head(2)"
      ],
      "execution_count": 98,
      "outputs": [
        {
          "output_type": "execute_result",
          "data": {
            "text/html": [
              "<div>\n",
              "<style scoped>\n",
              "    .dataframe tbody tr th:only-of-type {\n",
              "        vertical-align: middle;\n",
              "    }\n",
              "\n",
              "    .dataframe tbody tr th {\n",
              "        vertical-align: top;\n",
              "    }\n",
              "\n",
              "    .dataframe thead th {\n",
              "        text-align: right;\n",
              "    }\n",
              "</style>\n",
              "<table border=\"1\" class=\"dataframe\">\n",
              "  <thead>\n",
              "    <tr style=\"text-align: right;\">\n",
              "      <th></th>\n",
              "      <th>cognome</th>\n",
              "    </tr>\n",
              "  </thead>\n",
              "  <tbody>\n",
              "    <tr>\n",
              "      <th>0</th>\n",
              "      <td>Abagnale</td>\n",
              "    </tr>\n",
              "    <tr>\n",
              "      <th>1</th>\n",
              "      <td>Abagnali</td>\n",
              "    </tr>\n",
              "  </tbody>\n",
              "</table>\n",
              "</div>"
            ],
            "text/plain": [
              "    cognome\n",
              "0  Abagnale\n",
              "1  Abagnali"
            ]
          },
          "metadata": {},
          "execution_count": 98
        }
      ]
    },
    {
      "cell_type": "code",
      "metadata": {
        "id": "MF52bFdaSVRm"
      },
      "source": [
        "femal_name = pd.read_json('https://raw.githubusercontent.com/sergiorolnic/anonim/main/data/ITGivenFemale.json')\n"
      ],
      "execution_count": 99,
      "outputs": []
    },
    {
      "cell_type": "code",
      "metadata": {
        "colab": {
          "base_uri": "https://localhost:8080/",
          "height": 423
        },
        "id": "Rn6jDLvCSjER",
        "outputId": "7e0d9d79-ea71-4ddc-ada4-e350759c8fd9"
      },
      "source": [
        "femal_name[100:200]"
      ],
      "execution_count": 100,
      "outputs": [
        {
          "output_type": "execute_result",
          "data": {
            "text/html": [
              "<div>\n",
              "<style scoped>\n",
              "    .dataframe tbody tr th:only-of-type {\n",
              "        vertical-align: middle;\n",
              "    }\n",
              "\n",
              "    .dataframe tbody tr th {\n",
              "        vertical-align: top;\n",
              "    }\n",
              "\n",
              "    .dataframe thead th {\n",
              "        text-align: right;\n",
              "    }\n",
              "</style>\n",
              "<table border=\"1\" class=\"dataframe\">\n",
              "  <thead>\n",
              "    <tr style=\"text-align: right;\">\n",
              "      <th></th>\n",
              "      <th>name</th>\n",
              "      <th>gender</th>\n",
              "      <th>culture</th>\n",
              "    </tr>\n",
              "  </thead>\n",
              "  <tbody>\n",
              "    <tr>\n",
              "      <th>100</th>\n",
              "      <td>Albsana</td>\n",
              "      <td>F</td>\n",
              "      <td>IT</td>\n",
              "    </tr>\n",
              "    <tr>\n",
              "      <th>101</th>\n",
              "      <td>Albania</td>\n",
              "      <td>F</td>\n",
              "      <td>IT</td>\n",
              "    </tr>\n",
              "    <tr>\n",
              "      <th>102</th>\n",
              "      <td>Albarosa</td>\n",
              "      <td>F</td>\n",
              "      <td>IT</td>\n",
              "    </tr>\n",
              "    <tr>\n",
              "      <th>103</th>\n",
              "      <td>Alberica</td>\n",
              "      <td>F</td>\n",
              "      <td>IT</td>\n",
              "    </tr>\n",
              "    <tr>\n",
              "      <th>104</th>\n",
              "      <td>Alberice</td>\n",
              "      <td>F</td>\n",
              "      <td>IT</td>\n",
              "    </tr>\n",
              "    <tr>\n",
              "      <th>...</th>\n",
              "      <td>...</td>\n",
              "      <td>...</td>\n",
              "      <td>...</td>\n",
              "    </tr>\n",
              "    <tr>\n",
              "      <th>195</th>\n",
              "      <td>Alvara</td>\n",
              "      <td>F</td>\n",
              "      <td>IT</td>\n",
              "    </tr>\n",
              "    <tr>\n",
              "      <th>196</th>\n",
              "      <td>Alvarina</td>\n",
              "      <td>F</td>\n",
              "      <td>IT</td>\n",
              "    </tr>\n",
              "    <tr>\n",
              "      <th>197</th>\n",
              "      <td>Alvisa</td>\n",
              "      <td>F</td>\n",
              "      <td>IT</td>\n",
              "    </tr>\n",
              "    <tr>\n",
              "      <th>198</th>\n",
              "      <td>Alvisia</td>\n",
              "      <td>F</td>\n",
              "      <td>IT</td>\n",
              "    </tr>\n",
              "    <tr>\n",
              "      <th>199</th>\n",
              "      <td>Amabile</td>\n",
              "      <td>F</td>\n",
              "      <td>IT</td>\n",
              "    </tr>\n",
              "  </tbody>\n",
              "</table>\n",
              "<p>100 rows × 3 columns</p>\n",
              "</div>"
            ],
            "text/plain": [
              "         name gender culture\n",
              "100   Albsana      F      IT\n",
              "101   Albania      F      IT\n",
              "102  Albarosa      F      IT\n",
              "103  Alberica      F      IT\n",
              "104  Alberice      F      IT\n",
              "..        ...    ...     ...\n",
              "195    Alvara      F      IT\n",
              "196  Alvarina      F      IT\n",
              "197    Alvisa      F      IT\n",
              "198   Alvisia      F      IT\n",
              "199   Amabile      F      IT\n",
              "\n",
              "[100 rows x 3 columns]"
            ]
          },
          "metadata": {},
          "execution_count": 100
        }
      ]
    },
    {
      "cell_type": "code",
      "metadata": {
        "id": "3s4ku6PPR_Fq"
      },
      "source": [
        "male_name = pd.read_json('https://raw.githubusercontent.com/sergiorolnic/anonim/main/data/ITGivenMale.json')"
      ],
      "execution_count": 101,
      "outputs": []
    },
    {
      "cell_type": "code",
      "metadata": {
        "colab": {
          "base_uri": "https://localhost:8080/",
          "height": 423
        },
        "id": "wcy43VpCUVis",
        "outputId": "a68b9684-9bad-4a90-ba1c-644ab4e7d840"
      },
      "source": [
        "male_name"
      ],
      "execution_count": 102,
      "outputs": [
        {
          "output_type": "execute_result",
          "data": {
            "text/html": [
              "<div>\n",
              "<style scoped>\n",
              "    .dataframe tbody tr th:only-of-type {\n",
              "        vertical-align: middle;\n",
              "    }\n",
              "\n",
              "    .dataframe tbody tr th {\n",
              "        vertical-align: top;\n",
              "    }\n",
              "\n",
              "    .dataframe thead th {\n",
              "        text-align: right;\n",
              "    }\n",
              "</style>\n",
              "<table border=\"1\" class=\"dataframe\">\n",
              "  <thead>\n",
              "    <tr style=\"text-align: right;\">\n",
              "      <th></th>\n",
              "      <th>name</th>\n",
              "      <th>gender</th>\n",
              "      <th>culture</th>\n",
              "    </tr>\n",
              "  </thead>\n",
              "  <tbody>\n",
              "    <tr>\n",
              "      <th>0</th>\n",
              "      <td>Abaco</td>\n",
              "      <td>M</td>\n",
              "      <td>IT</td>\n",
              "    </tr>\n",
              "    <tr>\n",
              "      <th>1</th>\n",
              "      <td>Abbondanzio</td>\n",
              "      <td>M</td>\n",
              "      <td>IT</td>\n",
              "    </tr>\n",
              "    <tr>\n",
              "      <th>2</th>\n",
              "      <td>Abbondazio</td>\n",
              "      <td>M</td>\n",
              "      <td>IT</td>\n",
              "    </tr>\n",
              "    <tr>\n",
              "      <th>3</th>\n",
              "      <td>Abbondio</td>\n",
              "      <td>M</td>\n",
              "      <td>IT</td>\n",
              "    </tr>\n",
              "    <tr>\n",
              "      <th>4</th>\n",
              "      <td>Abdenago</td>\n",
              "      <td>M</td>\n",
              "      <td>IT</td>\n",
              "    </tr>\n",
              "    <tr>\n",
              "      <th>...</th>\n",
              "      <td>...</td>\n",
              "      <td>...</td>\n",
              "      <td>...</td>\n",
              "    </tr>\n",
              "    <tr>\n",
              "      <th>4994</th>\n",
              "      <td>Zolferino</td>\n",
              "      <td>M</td>\n",
              "      <td>IT</td>\n",
              "    </tr>\n",
              "    <tr>\n",
              "      <th>4995</th>\n",
              "      <td>Zopito</td>\n",
              "      <td>M</td>\n",
              "      <td>IT</td>\n",
              "    </tr>\n",
              "    <tr>\n",
              "      <th>4996</th>\n",
              "      <td>Zoraido</td>\n",
              "      <td>M</td>\n",
              "      <td>IT</td>\n",
              "    </tr>\n",
              "    <tr>\n",
              "      <th>4997</th>\n",
              "      <td>Zosimo</td>\n",
              "      <td>M</td>\n",
              "      <td>IT</td>\n",
              "    </tr>\n",
              "    <tr>\n",
              "      <th>4998</th>\n",
              "      <td>Zulino</td>\n",
              "      <td>M</td>\n",
              "      <td>IT</td>\n",
              "    </tr>\n",
              "  </tbody>\n",
              "</table>\n",
              "<p>4999 rows × 3 columns</p>\n",
              "</div>"
            ],
            "text/plain": [
              "             name gender culture\n",
              "0           Abaco      M      IT\n",
              "1     Abbondanzio      M      IT\n",
              "2      Abbondazio      M      IT\n",
              "3        Abbondio      M      IT\n",
              "4        Abdenago      M      IT\n",
              "...           ...    ...     ...\n",
              "4994    Zolferino      M      IT\n",
              "4995       Zopito      M      IT\n",
              "4996      Zoraido      M      IT\n",
              "4997       Zosimo      M      IT\n",
              "4998       Zulino      M      IT\n",
              "\n",
              "[4999 rows x 3 columns]"
            ]
          },
          "metadata": {},
          "execution_count": 102
        }
      ]
    },
    {
      "cell_type": "code",
      "metadata": {
        "id": "GhhZBbJaVcow"
      },
      "source": [
        "mixt = pd.concat([male_name,femal_name])"
      ],
      "execution_count": 103,
      "outputs": []
    },
    {
      "cell_type": "code",
      "metadata": {
        "id": "baEODYdtcacm",
        "colab": {
          "base_uri": "https://localhost:8080/",
          "height": 423
        },
        "outputId": "2a7adb83-ca86-40be-ab2b-a4ae94a3ba99"
      },
      "source": [
        "mixt"
      ],
      "execution_count": 104,
      "outputs": [
        {
          "output_type": "execute_result",
          "data": {
            "text/html": [
              "<div>\n",
              "<style scoped>\n",
              "    .dataframe tbody tr th:only-of-type {\n",
              "        vertical-align: middle;\n",
              "    }\n",
              "\n",
              "    .dataframe tbody tr th {\n",
              "        vertical-align: top;\n",
              "    }\n",
              "\n",
              "    .dataframe thead th {\n",
              "        text-align: right;\n",
              "    }\n",
              "</style>\n",
              "<table border=\"1\" class=\"dataframe\">\n",
              "  <thead>\n",
              "    <tr style=\"text-align: right;\">\n",
              "      <th></th>\n",
              "      <th>name</th>\n",
              "      <th>gender</th>\n",
              "      <th>culture</th>\n",
              "    </tr>\n",
              "  </thead>\n",
              "  <tbody>\n",
              "    <tr>\n",
              "      <th>0</th>\n",
              "      <td>Abaco</td>\n",
              "      <td>M</td>\n",
              "      <td>IT</td>\n",
              "    </tr>\n",
              "    <tr>\n",
              "      <th>1</th>\n",
              "      <td>Abbondanzio</td>\n",
              "      <td>M</td>\n",
              "      <td>IT</td>\n",
              "    </tr>\n",
              "    <tr>\n",
              "      <th>2</th>\n",
              "      <td>Abbondazio</td>\n",
              "      <td>M</td>\n",
              "      <td>IT</td>\n",
              "    </tr>\n",
              "    <tr>\n",
              "      <th>3</th>\n",
              "      <td>Abbondio</td>\n",
              "      <td>M</td>\n",
              "      <td>IT</td>\n",
              "    </tr>\n",
              "    <tr>\n",
              "      <th>4</th>\n",
              "      <td>Abdenago</td>\n",
              "      <td>M</td>\n",
              "      <td>IT</td>\n",
              "    </tr>\n",
              "    <tr>\n",
              "      <th>...</th>\n",
              "      <td>...</td>\n",
              "      <td>...</td>\n",
              "      <td>...</td>\n",
              "    </tr>\n",
              "    <tr>\n",
              "      <th>4082</th>\n",
              "      <td>Zola</td>\n",
              "      <td>F</td>\n",
              "      <td>IT</td>\n",
              "    </tr>\n",
              "    <tr>\n",
              "      <th>4083</th>\n",
              "      <td>Zolia</td>\n",
              "      <td>F</td>\n",
              "      <td>IT</td>\n",
              "    </tr>\n",
              "    <tr>\n",
              "      <th>4084</th>\n",
              "      <td>Zopita</td>\n",
              "      <td>F</td>\n",
              "      <td>IT</td>\n",
              "    </tr>\n",
              "    <tr>\n",
              "      <th>4085</th>\n",
              "      <td>Zoraide</td>\n",
              "      <td>F</td>\n",
              "      <td>IT</td>\n",
              "    </tr>\n",
              "    <tr>\n",
              "      <th>4086</th>\n",
              "      <td>Zulina</td>\n",
              "      <td>F</td>\n",
              "      <td>IT</td>\n",
              "    </tr>\n",
              "  </tbody>\n",
              "</table>\n",
              "<p>9086 rows × 3 columns</p>\n",
              "</div>"
            ],
            "text/plain": [
              "             name gender culture\n",
              "0           Abaco      M      IT\n",
              "1     Abbondanzio      M      IT\n",
              "2      Abbondazio      M      IT\n",
              "3        Abbondio      M      IT\n",
              "4        Abdenago      M      IT\n",
              "...           ...    ...     ...\n",
              "4082         Zola      F      IT\n",
              "4083        Zolia      F      IT\n",
              "4084       Zopita      F      IT\n",
              "4085      Zoraide      F      IT\n",
              "4086       Zulina      F      IT\n",
              "\n",
              "[9086 rows x 3 columns]"
            ]
          },
          "metadata": {},
          "execution_count": 104
        }
      ]
    },
    {
      "cell_type": "code",
      "metadata": {
        "id": "_so-HNWJdADm"
      },
      "source": [
        "index = pd.Index(range(1, 9087, 1))"
      ],
      "execution_count": 105,
      "outputs": []
    },
    {
      "cell_type": "code",
      "metadata": {
        "id": "kwxobDwxZ3x4",
        "colab": {
          "base_uri": "https://localhost:8080/",
          "height": 423
        },
        "outputId": "d3bab1af-f5ec-4d60-cc9b-38a25784bd37"
      },
      "source": [
        "mixt.set_index(index)"
      ],
      "execution_count": 106,
      "outputs": [
        {
          "output_type": "execute_result",
          "data": {
            "text/html": [
              "<div>\n",
              "<style scoped>\n",
              "    .dataframe tbody tr th:only-of-type {\n",
              "        vertical-align: middle;\n",
              "    }\n",
              "\n",
              "    .dataframe tbody tr th {\n",
              "        vertical-align: top;\n",
              "    }\n",
              "\n",
              "    .dataframe thead th {\n",
              "        text-align: right;\n",
              "    }\n",
              "</style>\n",
              "<table border=\"1\" class=\"dataframe\">\n",
              "  <thead>\n",
              "    <tr style=\"text-align: right;\">\n",
              "      <th></th>\n",
              "      <th>name</th>\n",
              "      <th>gender</th>\n",
              "      <th>culture</th>\n",
              "    </tr>\n",
              "  </thead>\n",
              "  <tbody>\n",
              "    <tr>\n",
              "      <th>1</th>\n",
              "      <td>Abaco</td>\n",
              "      <td>M</td>\n",
              "      <td>IT</td>\n",
              "    </tr>\n",
              "    <tr>\n",
              "      <th>2</th>\n",
              "      <td>Abbondanzio</td>\n",
              "      <td>M</td>\n",
              "      <td>IT</td>\n",
              "    </tr>\n",
              "    <tr>\n",
              "      <th>3</th>\n",
              "      <td>Abbondazio</td>\n",
              "      <td>M</td>\n",
              "      <td>IT</td>\n",
              "    </tr>\n",
              "    <tr>\n",
              "      <th>4</th>\n",
              "      <td>Abbondio</td>\n",
              "      <td>M</td>\n",
              "      <td>IT</td>\n",
              "    </tr>\n",
              "    <tr>\n",
              "      <th>5</th>\n",
              "      <td>Abdenago</td>\n",
              "      <td>M</td>\n",
              "      <td>IT</td>\n",
              "    </tr>\n",
              "    <tr>\n",
              "      <th>...</th>\n",
              "      <td>...</td>\n",
              "      <td>...</td>\n",
              "      <td>...</td>\n",
              "    </tr>\n",
              "    <tr>\n",
              "      <th>9082</th>\n",
              "      <td>Zola</td>\n",
              "      <td>F</td>\n",
              "      <td>IT</td>\n",
              "    </tr>\n",
              "    <tr>\n",
              "      <th>9083</th>\n",
              "      <td>Zolia</td>\n",
              "      <td>F</td>\n",
              "      <td>IT</td>\n",
              "    </tr>\n",
              "    <tr>\n",
              "      <th>9084</th>\n",
              "      <td>Zopita</td>\n",
              "      <td>F</td>\n",
              "      <td>IT</td>\n",
              "    </tr>\n",
              "    <tr>\n",
              "      <th>9085</th>\n",
              "      <td>Zoraide</td>\n",
              "      <td>F</td>\n",
              "      <td>IT</td>\n",
              "    </tr>\n",
              "    <tr>\n",
              "      <th>9086</th>\n",
              "      <td>Zulina</td>\n",
              "      <td>F</td>\n",
              "      <td>IT</td>\n",
              "    </tr>\n",
              "  </tbody>\n",
              "</table>\n",
              "<p>9086 rows × 3 columns</p>\n",
              "</div>"
            ],
            "text/plain": [
              "             name gender culture\n",
              "1           Abaco      M      IT\n",
              "2     Abbondanzio      M      IT\n",
              "3      Abbondazio      M      IT\n",
              "4        Abbondio      M      IT\n",
              "5        Abdenago      M      IT\n",
              "...           ...    ...     ...\n",
              "9082         Zola      F      IT\n",
              "9083        Zolia      F      IT\n",
              "9084       Zopita      F      IT\n",
              "9085      Zoraide      F      IT\n",
              "9086       Zulina      F      IT\n",
              "\n",
              "[9086 rows x 3 columns]"
            ]
          },
          "metadata": {},
          "execution_count": 106
        }
      ]
    },
    {
      "cell_type": "code",
      "metadata": {
        "id": "N5u-VlZNakkS",
        "colab": {
          "base_uri": "https://localhost:8080/",
          "height": 35
        },
        "outputId": "e3428b7f-b170-47a9-b17b-e797f622cff0"
      },
      "source": [
        "mixt[\"name\"].iloc[9085]"
      ],
      "execution_count": 107,
      "outputs": [
        {
          "output_type": "execute_result",
          "data": {
            "application/vnd.google.colaboratory.intrinsic+json": {
              "type": "string"
            },
            "text/plain": [
              "'Zulina'"
            ]
          },
          "metadata": {},
          "execution_count": 107
        }
      ]
    },
    {
      "cell_type": "code",
      "metadata": {
        "id": "ebXA2B2hXMgH"
      },
      "source": [
        "def fill_missing(column_val):\n",
        "    if column_val == \"\": \n",
        "        column_val = mixt[\"name\"].iloc[np.random.randint(9086)]\n",
        "    else:\n",
        "         column_val = column_val\n",
        "    return column_val"
      ],
      "execution_count": 108,
      "outputs": []
    },
    {
      "cell_type": "code",
      "metadata": {
        "id": "C6Z5znClep7I"
      },
      "source": [
        "cn[\"nome\"] = \"\""
      ],
      "execution_count": 109,
      "outputs": []
    },
    {
      "cell_type": "code",
      "metadata": {
        "id": "wTKgg12nZwQa"
      },
      "source": [
        "cn['nome'] = cn['nome'].apply(fill_missing) "
      ],
      "execution_count": 110,
      "outputs": []
    },
    {
      "cell_type": "code",
      "metadata": {
        "id": "B7_JajrQfBCV"
      },
      "source": [
        "cn[\"nome\"] = cn[\"nome\"].str.upper()"
      ],
      "execution_count": 111,
      "outputs": []
    },
    {
      "cell_type": "code",
      "metadata": {
        "id": "LgtaOEe78gCR"
      },
      "source": [
        "cn[\"cognome\"] = cn[\"cognome\"].str.upper()"
      ],
      "execution_count": 112,
      "outputs": []
    },
    {
      "cell_type": "code",
      "source": [
        "df"
      ],
      "metadata": {
        "id": "X1__K8GrZMX-",
        "outputId": "bc17d1ab-01d3-4745-8eee-75edbe41b7de",
        "colab": {
          "base_uri": "https://localhost:8080/",
          "height": 721
        }
      },
      "execution_count": 113,
      "outputs": [
        {
          "output_type": "execute_result",
          "data": {
            "text/html": [
              "<div>\n",
              "<style scoped>\n",
              "    .dataframe tbody tr th:only-of-type {\n",
              "        vertical-align: middle;\n",
              "    }\n",
              "\n",
              "    .dataframe tbody tr th {\n",
              "        vertical-align: top;\n",
              "    }\n",
              "\n",
              "    .dataframe thead th {\n",
              "        text-align: right;\n",
              "    }\n",
              "</style>\n",
              "<table border=\"1\" class=\"dataframe\">\n",
              "  <thead>\n",
              "    <tr style=\"text-align: right;\">\n",
              "      <th></th>\n",
              "      <th>cod_prv</th>\n",
              "      <th>cod_com</th>\n",
              "      <th>id</th>\n",
              "      <th>cognome</th>\n",
              "      <th>nome</th>\n",
              "      <th>sesso</th>\n",
              "      <th>data_nascita</th>\n",
              "      <th>luogo_nascita</th>\n",
              "      <th>cf</th>\n",
              "      <th>prov_nascita</th>\n",
              "      <th>comune_res</th>\n",
              "      <th>prov_res</th>\n",
              "      <th>citt</th>\n",
              "      <th>indirizzo</th>\n",
              "      <th>cap</th>\n",
              "      <th>dato1</th>\n",
              "      <th>dato2</th>\n",
              "      <th>dato3</th>\n",
              "      <th>dato4</th>\n",
              "      <th>dato5</th>\n",
              "      <th>dato6</th>\n",
              "      <th>dato7</th>\n",
              "    </tr>\n",
              "  </thead>\n",
              "  <tbody>\n",
              "    <tr>\n",
              "      <th>0</th>\n",
              "      <td>5</td>\n",
              "      <td>22</td>\n",
              "      <td>1</td>\n",
              "      <td>AHMETOVIC</td>\n",
              "      <td>MEHO</td>\n",
              "      <td>M</td>\n",
              "      <td>20051974</td>\n",
              "      <td>BOSNIA-ERZEGOVINA</td>\n",
              "      <td>HMTMHE74E20Z153Q</td>\n",
              "      <td>EE</td>\n",
              "      <td>MONCALIERI</td>\n",
              "      <td>TO</td>\n",
              "      <td>BIH</td>\n",
              "      <td>STRADA VINOVO SNC</td>\n",
              "      <td>10024</td>\n",
              "      <td>9032017</td>\n",
              "      <td>122049</td>\n",
              "      <td>23</td>\n",
              "      <td>9032017</td>\n",
              "      <td>16072008</td>\n",
              "      <td>12112021 05:49:25</td>\n",
              "      <td>CENS2011</td>\n",
              "    </tr>\n",
              "    <tr>\n",
              "      <th>1</th>\n",
              "      <td>5</td>\n",
              "      <td>22</td>\n",
              "      <td>2</td>\n",
              "      <td>GIORDANI</td>\n",
              "      <td>SILVIA</td>\n",
              "      <td>F</td>\n",
              "      <td>29061981</td>\n",
              "      <td>TORINO</td>\n",
              "      <td>GRDSLV81H69L219C</td>\n",
              "      <td>TO</td>\n",
              "      <td>MONCALIERI</td>\n",
              "      <td>TO</td>\n",
              "      <td>ITA</td>\n",
              "      <td>VIA AMILCARE PONCHIELLI 26</td>\n",
              "      <td>10024</td>\n",
              "      <td>24032017</td>\n",
              "      <td>124156</td>\n",
              "      <td>1</td>\n",
              "      <td>25062011</td>\n",
              "      <td>14012010</td>\n",
              "      <td>12112021 05:49:25</td>\n",
              "      <td>CENS2011</td>\n",
              "    </tr>\n",
              "    <tr>\n",
              "      <th>2</th>\n",
              "      <td>5</td>\n",
              "      <td>22</td>\n",
              "      <td>8</td>\n",
              "      <td>ABATE</td>\n",
              "      <td>CALOGERA</td>\n",
              "      <td>F</td>\n",
              "      <td>15071970</td>\n",
              "      <td>MONCALIERI</td>\n",
              "      <td>BTACGR70L55F335R</td>\n",
              "      <td>TO</td>\n",
              "      <td>MONCALIERI</td>\n",
              "      <td>TO</td>\n",
              "      <td>ITA</td>\n",
              "      <td>VIA JUGLARIS 66</td>\n",
              "      <td>10024</td>\n",
              "      <td>24032017</td>\n",
              "      <td>10005</td>\n",
              "      <td>1</td>\n",
              "      <td>12052010</td>\n",
              "      <td>29011968</td>\n",
              "      <td>12112021 05:49:25</td>\n",
              "      <td>CENS2011</td>\n",
              "    </tr>\n",
              "    <tr>\n",
              "      <th>3</th>\n",
              "      <td>5</td>\n",
              "      <td>22</td>\n",
              "      <td>11</td>\n",
              "      <td>ABATE</td>\n",
              "      <td>ELENA</td>\n",
              "      <td>F</td>\n",
              "      <td>19031946</td>\n",
              "      <td>MONTALTO UFFUGO</td>\n",
              "      <td>BTALNE46C59F416B</td>\n",
              "      <td>CS</td>\n",
              "      <td>MONCALIERI</td>\n",
              "      <td>TO</td>\n",
              "      <td>ITA</td>\n",
              "      <td>VIA JUGLARIS 27</td>\n",
              "      <td>10024</td>\n",
              "      <td>24032017</td>\n",
              "      <td>27848</td>\n",
              "      <td>1</td>\n",
              "      <td>20022014</td>\n",
              "      <td>11041972</td>\n",
              "      <td>12112021 05:49:25</td>\n",
              "      <td>CENS2011</td>\n",
              "    </tr>\n",
              "    <tr>\n",
              "      <th>4</th>\n",
              "      <td>5</td>\n",
              "      <td>22</td>\n",
              "      <td>13</td>\n",
              "      <td>ABATE</td>\n",
              "      <td>EZIO</td>\n",
              "      <td>M</td>\n",
              "      <td>8031935</td>\n",
              "      <td>BIANZE'</td>\n",
              "      <td>BTAZEI35C08A847I</td>\n",
              "      <td>VC</td>\n",
              "      <td>MONCALIERI</td>\n",
              "      <td>TO</td>\n",
              "      <td>ITA</td>\n",
              "      <td>STRADA GENOVA 58</td>\n",
              "      <td>10024</td>\n",
              "      <td>24032017</td>\n",
              "      <td>10002</td>\n",
              "      <td>1</td>\n",
              "      <td>3101963</td>\n",
              "      <td>3101963</td>\n",
              "      <td>12112021 05:49:25</td>\n",
              "      <td>CENS2011</td>\n",
              "    </tr>\n",
              "    <tr>\n",
              "      <th>...</th>\n",
              "      <td>...</td>\n",
              "      <td>...</td>\n",
              "      <td>...</td>\n",
              "      <td>...</td>\n",
              "      <td>...</td>\n",
              "      <td>...</td>\n",
              "      <td>...</td>\n",
              "      <td>...</td>\n",
              "      <td>...</td>\n",
              "      <td>...</td>\n",
              "      <td>...</td>\n",
              "      <td>...</td>\n",
              "      <td>...</td>\n",
              "      <td>...</td>\n",
              "      <td>...</td>\n",
              "      <td>...</td>\n",
              "      <td>...</td>\n",
              "      <td>...</td>\n",
              "      <td>...</td>\n",
              "      <td>...</td>\n",
              "      <td>...</td>\n",
              "      <td>...</td>\n",
              "    </tr>\n",
              "    <tr>\n",
              "      <th>14995</th>\n",
              "      <td>5</td>\n",
              "      <td>22</td>\n",
              "      <td>41887</td>\n",
              "      <td>PACE</td>\n",
              "      <td>SALVATORE</td>\n",
              "      <td>M</td>\n",
              "      <td>11101945</td>\n",
              "      <td>PETILIA POLICASTRO</td>\n",
              "      <td>PCASVT45R11G508K</td>\n",
              "      <td>KR</td>\n",
              "      <td>MONCALIERI</td>\n",
              "      <td>TO</td>\n",
              "      <td>ITA</td>\n",
              "      <td>VIA GRAZIA DELEDDA 23/BIS</td>\n",
              "      <td>10024</td>\n",
              "      <td>24032017</td>\n",
              "      <td>52101</td>\n",
              "      <td>1</td>\n",
              "      <td>6051968</td>\n",
              "      <td>6051968</td>\n",
              "      <td>12112021 05:49:25</td>\n",
              "      <td>CENS2011</td>\n",
              "    </tr>\n",
              "    <tr>\n",
              "      <th>14996</th>\n",
              "      <td>5</td>\n",
              "      <td>22</td>\n",
              "      <td>41888</td>\n",
              "      <td>PACE</td>\n",
              "      <td>SIMONE</td>\n",
              "      <td>M</td>\n",
              "      <td>16011976</td>\n",
              "      <td>TORINO</td>\n",
              "      <td>PCASMN76A16L219D</td>\n",
              "      <td>TO</td>\n",
              "      <td>MONCALIERI</td>\n",
              "      <td>TO</td>\n",
              "      <td>ITA</td>\n",
              "      <td>VIA MATILDE SERAO 9</td>\n",
              "      <td>10024</td>\n",
              "      <td>24032017</td>\n",
              "      <td>118174</td>\n",
              "      <td>1</td>\n",
              "      <td>25012006</td>\n",
              "      <td>25012006</td>\n",
              "      <td>12112021 05:49:25</td>\n",
              "      <td>CENS2011</td>\n",
              "    </tr>\n",
              "    <tr>\n",
              "      <th>14997</th>\n",
              "      <td>5</td>\n",
              "      <td>22</td>\n",
              "      <td>41890</td>\n",
              "      <td>PACE</td>\n",
              "      <td>TERESA</td>\n",
              "      <td>F</td>\n",
              "      <td>3011951</td>\n",
              "      <td>PETILIA POLICASTRO</td>\n",
              "      <td>PCATRS51A43G508L</td>\n",
              "      <td>KR</td>\n",
              "      <td>MONCALIERI</td>\n",
              "      <td>TO</td>\n",
              "      <td>ITA</td>\n",
              "      <td>VIA GRAZIA DELEDDA 23/BIS</td>\n",
              "      <td>10024</td>\n",
              "      <td>24032017</td>\n",
              "      <td>50636</td>\n",
              "      <td>2</td>\n",
              "      <td>6051968</td>\n",
              "      <td>6051968</td>\n",
              "      <td>12112021 05:49:25</td>\n",
              "      <td>CENS2011</td>\n",
              "    </tr>\n",
              "    <tr>\n",
              "      <th>14998</th>\n",
              "      <td>5</td>\n",
              "      <td>22</td>\n",
              "      <td>41892</td>\n",
              "      <td>PACE</td>\n",
              "      <td>VITO</td>\n",
              "      <td>M</td>\n",
              "      <td>23011948</td>\n",
              "      <td>ATELLA</td>\n",
              "      <td>PCAVTI48A23A482U</td>\n",
              "      <td>PZ</td>\n",
              "      <td>MONCALIERI</td>\n",
              "      <td>TO</td>\n",
              "      <td>ITA</td>\n",
              "      <td>STRADA PECENASCO 9</td>\n",
              "      <td>10024</td>\n",
              "      <td>24032017</td>\n",
              "      <td>52102</td>\n",
              "      <td>1</td>\n",
              "      <td>17031964</td>\n",
              "      <td>17031964</td>\n",
              "      <td>12112021 05:49:25</td>\n",
              "      <td>CENS2011</td>\n",
              "    </tr>\n",
              "    <tr>\n",
              "      <th>14999</th>\n",
              "      <td>5</td>\n",
              "      <td>22</td>\n",
              "      <td>41893</td>\n",
              "      <td>PACELLA</td>\n",
              "      <td>ANTONIO</td>\n",
              "      <td>M</td>\n",
              "      <td>22041977</td>\n",
              "      <td>MONCALIERI</td>\n",
              "      <td>PCLNTN77D22F335L</td>\n",
              "      <td>TO</td>\n",
              "      <td>MONCALIERI</td>\n",
              "      <td>TO</td>\n",
              "      <td>ITA</td>\n",
              "      <td>STRADA DELLE FINANZE 23</td>\n",
              "      <td>10024</td>\n",
              "      <td>24032017</td>\n",
              "      <td>52103</td>\n",
              "      <td>3</td>\n",
              "      <td>22041977</td>\n",
              "      <td>21111974</td>\n",
              "      <td>12112021 05:49:25</td>\n",
              "      <td>CENS2011</td>\n",
              "    </tr>\n",
              "  </tbody>\n",
              "</table>\n",
              "<p>15000 rows × 22 columns</p>\n",
              "</div>"
            ],
            "text/plain": [
              "       cod_prv  cod_com     id  ...     dato5              dato6     dato7\n",
              "0            5       22      1  ...  16072008  12112021 05:49:25  CENS2011\n",
              "1            5       22      2  ...  14012010  12112021 05:49:25  CENS2011\n",
              "2            5       22      8  ...  29011968  12112021 05:49:25  CENS2011\n",
              "3            5       22     11  ...  11041972  12112021 05:49:25  CENS2011\n",
              "4            5       22     13  ...   3101963  12112021 05:49:25  CENS2011\n",
              "...        ...      ...    ...  ...       ...                ...       ...\n",
              "14995        5       22  41887  ...   6051968  12112021 05:49:25  CENS2011\n",
              "14996        5       22  41888  ...  25012006  12112021 05:49:25  CENS2011\n",
              "14997        5       22  41890  ...   6051968  12112021 05:49:25  CENS2011\n",
              "14998        5       22  41892  ...  17031964  12112021 05:49:25  CENS2011\n",
              "14999        5       22  41893  ...  21111974  12112021 05:49:25  CENS2011\n",
              "\n",
              "[15000 rows x 22 columns]"
            ]
          },
          "metadata": {},
          "execution_count": 113
        }
      ]
    },
    {
      "cell_type": "code",
      "metadata": {
        "id": "o-g9clDz4KTb"
      },
      "source": [
        "#dataframe =df.append(cn, ignore_index = True)"
      ],
      "execution_count": 114,
      "outputs": []
    },
    {
      "cell_type": "code",
      "source": [
        "dataframe = pd.DataFrame(df)"
      ],
      "metadata": {
        "id": "Tcc7e4jfZcPQ"
      },
      "execution_count": 115,
      "outputs": []
    },
    {
      "cell_type": "code",
      "source": [
        "dataframe[\"cognome\"] = cn[\"cognome\"][0:15000]\n",
        "dataframe[\"nome\"] = cn[\"nome\"][0:15000]"
      ],
      "metadata": {
        "id": "c_bGQ_Sjbk6w"
      },
      "execution_count": 116,
      "outputs": []
    },
    {
      "cell_type": "code",
      "source": [
        "dataframe2 = pd.DataFrame(df[0:6740])"
      ],
      "metadata": {
        "id": "ZOQfeJEkcMu2"
      },
      "execution_count": 117,
      "outputs": []
    },
    {
      "cell_type": "code",
      "source": [
        "dataframe2[\"cognome\"] = list(cn[\"cognome\"][15000:21740])\n",
        "dataframe2[\"nome\"] = list(cn[\"nome\"][15000:21740])\n",
        "dataframe2"
      ],
      "metadata": {
        "id": "qnr8_G6icezk",
        "outputId": "b6919e12-f7d7-4485-c274-4f44eff34cb6",
        "colab": {
          "base_uri": "https://localhost:8080/",
          "height": 669
        }
      },
      "execution_count": 118,
      "outputs": [
        {
          "output_type": "execute_result",
          "data": {
            "text/html": [
              "<div>\n",
              "<style scoped>\n",
              "    .dataframe tbody tr th:only-of-type {\n",
              "        vertical-align: middle;\n",
              "    }\n",
              "\n",
              "    .dataframe tbody tr th {\n",
              "        vertical-align: top;\n",
              "    }\n",
              "\n",
              "    .dataframe thead th {\n",
              "        text-align: right;\n",
              "    }\n",
              "</style>\n",
              "<table border=\"1\" class=\"dataframe\">\n",
              "  <thead>\n",
              "    <tr style=\"text-align: right;\">\n",
              "      <th></th>\n",
              "      <th>cod_prv</th>\n",
              "      <th>cod_com</th>\n",
              "      <th>id</th>\n",
              "      <th>cognome</th>\n",
              "      <th>nome</th>\n",
              "      <th>sesso</th>\n",
              "      <th>data_nascita</th>\n",
              "      <th>luogo_nascita</th>\n",
              "      <th>cf</th>\n",
              "      <th>prov_nascita</th>\n",
              "      <th>comune_res</th>\n",
              "      <th>prov_res</th>\n",
              "      <th>citt</th>\n",
              "      <th>indirizzo</th>\n",
              "      <th>cap</th>\n",
              "      <th>dato1</th>\n",
              "      <th>dato2</th>\n",
              "      <th>dato3</th>\n",
              "      <th>dato4</th>\n",
              "      <th>dato5</th>\n",
              "      <th>dato6</th>\n",
              "      <th>dato7</th>\n",
              "    </tr>\n",
              "  </thead>\n",
              "  <tbody>\n",
              "    <tr>\n",
              "      <th>0</th>\n",
              "      <td>5</td>\n",
              "      <td>22</td>\n",
              "      <td>1</td>\n",
              "      <td>PANTONI</td>\n",
              "      <td>ELVIRIO</td>\n",
              "      <td>M</td>\n",
              "      <td>20051974</td>\n",
              "      <td>BOSNIA-ERZEGOVINA</td>\n",
              "      <td>HMTMHE74E20Z153Q</td>\n",
              "      <td>EE</td>\n",
              "      <td>MONCALIERI</td>\n",
              "      <td>TO</td>\n",
              "      <td>BIH</td>\n",
              "      <td>STRADA VINOVO SNC</td>\n",
              "      <td>10024</td>\n",
              "      <td>9032017</td>\n",
              "      <td>122049</td>\n",
              "      <td>23</td>\n",
              "      <td>9032017</td>\n",
              "      <td>16072008</td>\n",
              "      <td>12112021 05:49:25</td>\n",
              "      <td>CENS2011</td>\n",
              "    </tr>\n",
              "    <tr>\n",
              "      <th>1</th>\n",
              "      <td>5</td>\n",
              "      <td>22</td>\n",
              "      <td>2</td>\n",
              "      <td>PANUCCI</td>\n",
              "      <td>RIZZI</td>\n",
              "      <td>F</td>\n",
              "      <td>29061981</td>\n",
              "      <td>TORINO</td>\n",
              "      <td>GRDSLV81H69L219C</td>\n",
              "      <td>TO</td>\n",
              "      <td>MONCALIERI</td>\n",
              "      <td>TO</td>\n",
              "      <td>ITA</td>\n",
              "      <td>VIA AMILCARE PONCHIELLI 26</td>\n",
              "      <td>10024</td>\n",
              "      <td>24032017</td>\n",
              "      <td>124156</td>\n",
              "      <td>1</td>\n",
              "      <td>25062011</td>\n",
              "      <td>14012010</td>\n",
              "      <td>12112021 05:49:25</td>\n",
              "      <td>CENS2011</td>\n",
              "    </tr>\n",
              "    <tr>\n",
              "      <th>2</th>\n",
              "      <td>5</td>\n",
              "      <td>22</td>\n",
              "      <td>8</td>\n",
              "      <td>PANUCCIO</td>\n",
              "      <td>BUONFIGLIO</td>\n",
              "      <td>F</td>\n",
              "      <td>15071970</td>\n",
              "      <td>MONCALIERI</td>\n",
              "      <td>BTACGR70L55F335R</td>\n",
              "      <td>TO</td>\n",
              "      <td>MONCALIERI</td>\n",
              "      <td>TO</td>\n",
              "      <td>ITA</td>\n",
              "      <td>VIA JUGLARIS 66</td>\n",
              "      <td>10024</td>\n",
              "      <td>24032017</td>\n",
              "      <td>10005</td>\n",
              "      <td>1</td>\n",
              "      <td>12052010</td>\n",
              "      <td>29011968</td>\n",
              "      <td>12112021 05:49:25</td>\n",
              "      <td>CENS2011</td>\n",
              "    </tr>\n",
              "    <tr>\n",
              "      <th>3</th>\n",
              "      <td>5</td>\n",
              "      <td>22</td>\n",
              "      <td>11</td>\n",
              "      <td>PANUNTI</td>\n",
              "      <td>OMERINA</td>\n",
              "      <td>F</td>\n",
              "      <td>19031946</td>\n",
              "      <td>MONTALTO UFFUGO</td>\n",
              "      <td>BTALNE46C59F416B</td>\n",
              "      <td>CS</td>\n",
              "      <td>MONCALIERI</td>\n",
              "      <td>TO</td>\n",
              "      <td>ITA</td>\n",
              "      <td>VIA JUGLARIS 27</td>\n",
              "      <td>10024</td>\n",
              "      <td>24032017</td>\n",
              "      <td>27848</td>\n",
              "      <td>1</td>\n",
              "      <td>20022014</td>\n",
              "      <td>11041972</td>\n",
              "      <td>12112021 05:49:25</td>\n",
              "      <td>CENS2011</td>\n",
              "    </tr>\n",
              "    <tr>\n",
              "      <th>4</th>\n",
              "      <td>5</td>\n",
              "      <td>22</td>\n",
              "      <td>13</td>\n",
              "      <td>PANUNZI</td>\n",
              "      <td>ILVA</td>\n",
              "      <td>M</td>\n",
              "      <td>8031935</td>\n",
              "      <td>BIANZE'</td>\n",
              "      <td>BTAZEI35C08A847I</td>\n",
              "      <td>VC</td>\n",
              "      <td>MONCALIERI</td>\n",
              "      <td>TO</td>\n",
              "      <td>ITA</td>\n",
              "      <td>STRADA GENOVA 58</td>\n",
              "      <td>10024</td>\n",
              "      <td>24032017</td>\n",
              "      <td>10002</td>\n",
              "      <td>1</td>\n",
              "      <td>3101963</td>\n",
              "      <td>3101963</td>\n",
              "      <td>12112021 05:49:25</td>\n",
              "      <td>CENS2011</td>\n",
              "    </tr>\n",
              "    <tr>\n",
              "      <th>...</th>\n",
              "      <td>...</td>\n",
              "      <td>...</td>\n",
              "      <td>...</td>\n",
              "      <td>...</td>\n",
              "      <td>...</td>\n",
              "      <td>...</td>\n",
              "      <td>...</td>\n",
              "      <td>...</td>\n",
              "      <td>...</td>\n",
              "      <td>...</td>\n",
              "      <td>...</td>\n",
              "      <td>...</td>\n",
              "      <td>...</td>\n",
              "      <td>...</td>\n",
              "      <td>...</td>\n",
              "      <td>...</td>\n",
              "      <td>...</td>\n",
              "      <td>...</td>\n",
              "      <td>...</td>\n",
              "      <td>...</td>\n",
              "      <td>...</td>\n",
              "      <td>...</td>\n",
              "    </tr>\n",
              "    <tr>\n",
              "      <th>6735</th>\n",
              "      <td>5</td>\n",
              "      <td>22</td>\n",
              "      <td>18788</td>\n",
              "      <td>ZURLO</td>\n",
              "      <td>SMERALDO</td>\n",
              "      <td>M</td>\n",
              "      <td>23111933</td>\n",
              "      <td>BELVEDERE MARITTIMO</td>\n",
              "      <td>DLCNTN33S23A773V</td>\n",
              "      <td>CS</td>\n",
              "      <td>MONCALIERI</td>\n",
              "      <td>TO</td>\n",
              "      <td>ITA</td>\n",
              "      <td>STRADA PRACIOSA 23</td>\n",
              "      <td>10024</td>\n",
              "      <td>24032017</td>\n",
              "      <td>16465</td>\n",
              "      <td>1</td>\n",
              "      <td>18091970</td>\n",
              "      <td>18091970</td>\n",
              "      <td>12112021 05:49:25</td>\n",
              "      <td>CENS2011</td>\n",
              "    </tr>\n",
              "    <tr>\n",
              "      <th>6736</th>\n",
              "      <td>5</td>\n",
              "      <td>22</td>\n",
              "      <td>18796</td>\n",
              "      <td>ZUROLO</td>\n",
              "      <td>CARMINELLA</td>\n",
              "      <td>M</td>\n",
              "      <td>10061927</td>\n",
              "      <td>PALERMO</td>\n",
              "      <td>DLCFTN27H10G273H</td>\n",
              "      <td>PA</td>\n",
              "      <td>MONCALIERI</td>\n",
              "      <td>TO</td>\n",
              "      <td>ITA</td>\n",
              "      <td>VIA MONTE BIANCO 10</td>\n",
              "      <td>10024</td>\n",
              "      <td>24032017</td>\n",
              "      <td>16469</td>\n",
              "      <td>1</td>\n",
              "      <td>24021970</td>\n",
              "      <td>24021970</td>\n",
              "      <td>12112021 05:49:25</td>\n",
              "      <td>CENS2011</td>\n",
              "    </tr>\n",
              "    <tr>\n",
              "      <th>6737</th>\n",
              "      <td>5</td>\n",
              "      <td>22</td>\n",
              "      <td>18797</td>\n",
              "      <td>ZURRI</td>\n",
              "      <td>ANNALAURA</td>\n",
              "      <td>F</td>\n",
              "      <td>18101973</td>\n",
              "      <td>MONCALIERI</td>\n",
              "      <td>DLCFNC73R58F335A</td>\n",
              "      <td>TO</td>\n",
              "      <td>MONCALIERI</td>\n",
              "      <td>TO</td>\n",
              "      <td>ITA</td>\n",
              "      <td>CORSO ROMA 13</td>\n",
              "      <td>10024</td>\n",
              "      <td>24032017</td>\n",
              "      <td>113166</td>\n",
              "      <td>2</td>\n",
              "      <td>13042002</td>\n",
              "      <td>13042002</td>\n",
              "      <td>12112021 05:49:25</td>\n",
              "      <td>CENS2011</td>\n",
              "    </tr>\n",
              "    <tr>\n",
              "      <th>6738</th>\n",
              "      <td>5</td>\n",
              "      <td>22</td>\n",
              "      <td>18798</td>\n",
              "      <td>ZURRIDA</td>\n",
              "      <td>FOLCO</td>\n",
              "      <td>M</td>\n",
              "      <td>11111946</td>\n",
              "      <td>ROSARNO</td>\n",
              "      <td>DLCFNC46S11H558S</td>\n",
              "      <td>RC</td>\n",
              "      <td>MONCALIERI</td>\n",
              "      <td>TO</td>\n",
              "      <td>ITA</td>\n",
              "      <td>STRADA REVIGLIASCO 37</td>\n",
              "      <td>10024</td>\n",
              "      <td>24032017</td>\n",
              "      <td>16970</td>\n",
              "      <td>1</td>\n",
              "      <td>7052013</td>\n",
              "      <td>3121980</td>\n",
              "      <td>12112021 05:49:25</td>\n",
              "      <td>CENS2011</td>\n",
              "    </tr>\n",
              "    <tr>\n",
              "      <th>6739</th>\n",
              "      <td>5</td>\n",
              "      <td>22</td>\n",
              "      <td>18799</td>\n",
              "      <td>ZURRO</td>\n",
              "      <td>MILKO</td>\n",
              "      <td>M</td>\n",
              "      <td>7121942</td>\n",
              "      <td>VERBANIA</td>\n",
              "      <td>DLCFNC42T07L746J</td>\n",
              "      <td>VB</td>\n",
              "      <td>MONCALIERI</td>\n",
              "      <td>TO</td>\n",
              "      <td>ITA</td>\n",
              "      <td>STRADA TORINO 73</td>\n",
              "      <td>10024</td>\n",
              "      <td>24032017</td>\n",
              "      <td>19746</td>\n",
              "      <td>1</td>\n",
              "      <td>30051983</td>\n",
              "      <td>24111969</td>\n",
              "      <td>12112021 05:49:25</td>\n",
              "      <td>CENS2011</td>\n",
              "    </tr>\n",
              "  </tbody>\n",
              "</table>\n",
              "<p>6740 rows × 22 columns</p>\n",
              "</div>"
            ],
            "text/plain": [
              "      cod_prv  cod_com     id  ...     dato5              dato6     dato7\n",
              "0           5       22      1  ...  16072008  12112021 05:49:25  CENS2011\n",
              "1           5       22      2  ...  14012010  12112021 05:49:25  CENS2011\n",
              "2           5       22      8  ...  29011968  12112021 05:49:25  CENS2011\n",
              "3           5       22     11  ...  11041972  12112021 05:49:25  CENS2011\n",
              "4           5       22     13  ...   3101963  12112021 05:49:25  CENS2011\n",
              "...       ...      ...    ...  ...       ...                ...       ...\n",
              "6735        5       22  18788  ...  18091970  12112021 05:49:25  CENS2011\n",
              "6736        5       22  18796  ...  24021970  12112021 05:49:25  CENS2011\n",
              "6737        5       22  18797  ...  13042002  12112021 05:49:25  CENS2011\n",
              "6738        5       22  18798  ...   3121980  12112021 05:49:25  CENS2011\n",
              "6739        5       22  18799  ...  24111969  12112021 05:49:25  CENS2011\n",
              "\n",
              "[6740 rows x 22 columns]"
            ]
          },
          "metadata": {},
          "execution_count": 118
        }
      ]
    },
    {
      "cell_type": "code",
      "source": [
        "dataframe =dataframe.append(df, ignore_index = True)"
      ],
      "metadata": {
        "id": "FOAN3kiwe_ym"
      },
      "execution_count": 119,
      "outputs": []
    },
    {
      "cell_type": "code",
      "source": [
        "dataframe =dataframe.append(dataframe2, ignore_index = True)\n",
        "dataframe"
      ],
      "metadata": {
        "id": "lN7Z8ZfvfMoH",
        "outputId": "e9c4b141-3398-4d1c-d880-2494caf774aa",
        "colab": {
          "base_uri": "https://localhost:8080/",
          "height": 669
        }
      },
      "execution_count": 120,
      "outputs": [
        {
          "output_type": "execute_result",
          "data": {
            "text/html": [
              "<div>\n",
              "<style scoped>\n",
              "    .dataframe tbody tr th:only-of-type {\n",
              "        vertical-align: middle;\n",
              "    }\n",
              "\n",
              "    .dataframe tbody tr th {\n",
              "        vertical-align: top;\n",
              "    }\n",
              "\n",
              "    .dataframe thead th {\n",
              "        text-align: right;\n",
              "    }\n",
              "</style>\n",
              "<table border=\"1\" class=\"dataframe\">\n",
              "  <thead>\n",
              "    <tr style=\"text-align: right;\">\n",
              "      <th></th>\n",
              "      <th>cod_prv</th>\n",
              "      <th>cod_com</th>\n",
              "      <th>id</th>\n",
              "      <th>cognome</th>\n",
              "      <th>nome</th>\n",
              "      <th>sesso</th>\n",
              "      <th>data_nascita</th>\n",
              "      <th>luogo_nascita</th>\n",
              "      <th>cf</th>\n",
              "      <th>prov_nascita</th>\n",
              "      <th>comune_res</th>\n",
              "      <th>prov_res</th>\n",
              "      <th>citt</th>\n",
              "      <th>indirizzo</th>\n",
              "      <th>cap</th>\n",
              "      <th>dato1</th>\n",
              "      <th>dato2</th>\n",
              "      <th>dato3</th>\n",
              "      <th>dato4</th>\n",
              "      <th>dato5</th>\n",
              "      <th>dato6</th>\n",
              "      <th>dato7</th>\n",
              "    </tr>\n",
              "  </thead>\n",
              "  <tbody>\n",
              "    <tr>\n",
              "      <th>0</th>\n",
              "      <td>5</td>\n",
              "      <td>22</td>\n",
              "      <td>1</td>\n",
              "      <td>PANTONI</td>\n",
              "      <td>ELVIRIO</td>\n",
              "      <td>M</td>\n",
              "      <td>20051974</td>\n",
              "      <td>BOSNIA-ERZEGOVINA</td>\n",
              "      <td>HMTMHE74E20Z153Q</td>\n",
              "      <td>EE</td>\n",
              "      <td>MONCALIERI</td>\n",
              "      <td>TO</td>\n",
              "      <td>BIH</td>\n",
              "      <td>STRADA VINOVO SNC</td>\n",
              "      <td>10024</td>\n",
              "      <td>9032017</td>\n",
              "      <td>122049</td>\n",
              "      <td>23</td>\n",
              "      <td>9032017</td>\n",
              "      <td>16072008</td>\n",
              "      <td>12112021 05:49:25</td>\n",
              "      <td>CENS2011</td>\n",
              "    </tr>\n",
              "    <tr>\n",
              "      <th>1</th>\n",
              "      <td>5</td>\n",
              "      <td>22</td>\n",
              "      <td>2</td>\n",
              "      <td>PANUCCI</td>\n",
              "      <td>RIZZI</td>\n",
              "      <td>F</td>\n",
              "      <td>29061981</td>\n",
              "      <td>TORINO</td>\n",
              "      <td>GRDSLV81H69L219C</td>\n",
              "      <td>TO</td>\n",
              "      <td>MONCALIERI</td>\n",
              "      <td>TO</td>\n",
              "      <td>ITA</td>\n",
              "      <td>VIA AMILCARE PONCHIELLI 26</td>\n",
              "      <td>10024</td>\n",
              "      <td>24032017</td>\n",
              "      <td>124156</td>\n",
              "      <td>1</td>\n",
              "      <td>25062011</td>\n",
              "      <td>14012010</td>\n",
              "      <td>12112021 05:49:25</td>\n",
              "      <td>CENS2011</td>\n",
              "    </tr>\n",
              "    <tr>\n",
              "      <th>2</th>\n",
              "      <td>5</td>\n",
              "      <td>22</td>\n",
              "      <td>8</td>\n",
              "      <td>PANUCCIO</td>\n",
              "      <td>BUONFIGLIO</td>\n",
              "      <td>F</td>\n",
              "      <td>15071970</td>\n",
              "      <td>MONCALIERI</td>\n",
              "      <td>BTACGR70L55F335R</td>\n",
              "      <td>TO</td>\n",
              "      <td>MONCALIERI</td>\n",
              "      <td>TO</td>\n",
              "      <td>ITA</td>\n",
              "      <td>VIA JUGLARIS 66</td>\n",
              "      <td>10024</td>\n",
              "      <td>24032017</td>\n",
              "      <td>10005</td>\n",
              "      <td>1</td>\n",
              "      <td>12052010</td>\n",
              "      <td>29011968</td>\n",
              "      <td>12112021 05:49:25</td>\n",
              "      <td>CENS2011</td>\n",
              "    </tr>\n",
              "    <tr>\n",
              "      <th>3</th>\n",
              "      <td>5</td>\n",
              "      <td>22</td>\n",
              "      <td>11</td>\n",
              "      <td>PANUNTI</td>\n",
              "      <td>OMERINA</td>\n",
              "      <td>F</td>\n",
              "      <td>19031946</td>\n",
              "      <td>MONTALTO UFFUGO</td>\n",
              "      <td>BTALNE46C59F416B</td>\n",
              "      <td>CS</td>\n",
              "      <td>MONCALIERI</td>\n",
              "      <td>TO</td>\n",
              "      <td>ITA</td>\n",
              "      <td>VIA JUGLARIS 27</td>\n",
              "      <td>10024</td>\n",
              "      <td>24032017</td>\n",
              "      <td>27848</td>\n",
              "      <td>1</td>\n",
              "      <td>20022014</td>\n",
              "      <td>11041972</td>\n",
              "      <td>12112021 05:49:25</td>\n",
              "      <td>CENS2011</td>\n",
              "    </tr>\n",
              "    <tr>\n",
              "      <th>4</th>\n",
              "      <td>5</td>\n",
              "      <td>22</td>\n",
              "      <td>13</td>\n",
              "      <td>PANUNZI</td>\n",
              "      <td>ILVA</td>\n",
              "      <td>M</td>\n",
              "      <td>8031935</td>\n",
              "      <td>BIANZE'</td>\n",
              "      <td>BTAZEI35C08A847I</td>\n",
              "      <td>VC</td>\n",
              "      <td>MONCALIERI</td>\n",
              "      <td>TO</td>\n",
              "      <td>ITA</td>\n",
              "      <td>STRADA GENOVA 58</td>\n",
              "      <td>10024</td>\n",
              "      <td>24032017</td>\n",
              "      <td>10002</td>\n",
              "      <td>1</td>\n",
              "      <td>3101963</td>\n",
              "      <td>3101963</td>\n",
              "      <td>12112021 05:49:25</td>\n",
              "      <td>CENS2011</td>\n",
              "    </tr>\n",
              "    <tr>\n",
              "      <th>...</th>\n",
              "      <td>...</td>\n",
              "      <td>...</td>\n",
              "      <td>...</td>\n",
              "      <td>...</td>\n",
              "      <td>...</td>\n",
              "      <td>...</td>\n",
              "      <td>...</td>\n",
              "      <td>...</td>\n",
              "      <td>...</td>\n",
              "      <td>...</td>\n",
              "      <td>...</td>\n",
              "      <td>...</td>\n",
              "      <td>...</td>\n",
              "      <td>...</td>\n",
              "      <td>...</td>\n",
              "      <td>...</td>\n",
              "      <td>...</td>\n",
              "      <td>...</td>\n",
              "      <td>...</td>\n",
              "      <td>...</td>\n",
              "      <td>...</td>\n",
              "      <td>...</td>\n",
              "    </tr>\n",
              "    <tr>\n",
              "      <th>36735</th>\n",
              "      <td>5</td>\n",
              "      <td>22</td>\n",
              "      <td>18788</td>\n",
              "      <td>ZURLO</td>\n",
              "      <td>SMERALDO</td>\n",
              "      <td>M</td>\n",
              "      <td>23111933</td>\n",
              "      <td>BELVEDERE MARITTIMO</td>\n",
              "      <td>DLCNTN33S23A773V</td>\n",
              "      <td>CS</td>\n",
              "      <td>MONCALIERI</td>\n",
              "      <td>TO</td>\n",
              "      <td>ITA</td>\n",
              "      <td>STRADA PRACIOSA 23</td>\n",
              "      <td>10024</td>\n",
              "      <td>24032017</td>\n",
              "      <td>16465</td>\n",
              "      <td>1</td>\n",
              "      <td>18091970</td>\n",
              "      <td>18091970</td>\n",
              "      <td>12112021 05:49:25</td>\n",
              "      <td>CENS2011</td>\n",
              "    </tr>\n",
              "    <tr>\n",
              "      <th>36736</th>\n",
              "      <td>5</td>\n",
              "      <td>22</td>\n",
              "      <td>18796</td>\n",
              "      <td>ZUROLO</td>\n",
              "      <td>CARMINELLA</td>\n",
              "      <td>M</td>\n",
              "      <td>10061927</td>\n",
              "      <td>PALERMO</td>\n",
              "      <td>DLCFTN27H10G273H</td>\n",
              "      <td>PA</td>\n",
              "      <td>MONCALIERI</td>\n",
              "      <td>TO</td>\n",
              "      <td>ITA</td>\n",
              "      <td>VIA MONTE BIANCO 10</td>\n",
              "      <td>10024</td>\n",
              "      <td>24032017</td>\n",
              "      <td>16469</td>\n",
              "      <td>1</td>\n",
              "      <td>24021970</td>\n",
              "      <td>24021970</td>\n",
              "      <td>12112021 05:49:25</td>\n",
              "      <td>CENS2011</td>\n",
              "    </tr>\n",
              "    <tr>\n",
              "      <th>36737</th>\n",
              "      <td>5</td>\n",
              "      <td>22</td>\n",
              "      <td>18797</td>\n",
              "      <td>ZURRI</td>\n",
              "      <td>ANNALAURA</td>\n",
              "      <td>F</td>\n",
              "      <td>18101973</td>\n",
              "      <td>MONCALIERI</td>\n",
              "      <td>DLCFNC73R58F335A</td>\n",
              "      <td>TO</td>\n",
              "      <td>MONCALIERI</td>\n",
              "      <td>TO</td>\n",
              "      <td>ITA</td>\n",
              "      <td>CORSO ROMA 13</td>\n",
              "      <td>10024</td>\n",
              "      <td>24032017</td>\n",
              "      <td>113166</td>\n",
              "      <td>2</td>\n",
              "      <td>13042002</td>\n",
              "      <td>13042002</td>\n",
              "      <td>12112021 05:49:25</td>\n",
              "      <td>CENS2011</td>\n",
              "    </tr>\n",
              "    <tr>\n",
              "      <th>36738</th>\n",
              "      <td>5</td>\n",
              "      <td>22</td>\n",
              "      <td>18798</td>\n",
              "      <td>ZURRIDA</td>\n",
              "      <td>FOLCO</td>\n",
              "      <td>M</td>\n",
              "      <td>11111946</td>\n",
              "      <td>ROSARNO</td>\n",
              "      <td>DLCFNC46S11H558S</td>\n",
              "      <td>RC</td>\n",
              "      <td>MONCALIERI</td>\n",
              "      <td>TO</td>\n",
              "      <td>ITA</td>\n",
              "      <td>STRADA REVIGLIASCO 37</td>\n",
              "      <td>10024</td>\n",
              "      <td>24032017</td>\n",
              "      <td>16970</td>\n",
              "      <td>1</td>\n",
              "      <td>7052013</td>\n",
              "      <td>3121980</td>\n",
              "      <td>12112021 05:49:25</td>\n",
              "      <td>CENS2011</td>\n",
              "    </tr>\n",
              "    <tr>\n",
              "      <th>36739</th>\n",
              "      <td>5</td>\n",
              "      <td>22</td>\n",
              "      <td>18799</td>\n",
              "      <td>ZURRO</td>\n",
              "      <td>MILKO</td>\n",
              "      <td>M</td>\n",
              "      <td>7121942</td>\n",
              "      <td>VERBANIA</td>\n",
              "      <td>DLCFNC42T07L746J</td>\n",
              "      <td>VB</td>\n",
              "      <td>MONCALIERI</td>\n",
              "      <td>TO</td>\n",
              "      <td>ITA</td>\n",
              "      <td>STRADA TORINO 73</td>\n",
              "      <td>10024</td>\n",
              "      <td>24032017</td>\n",
              "      <td>19746</td>\n",
              "      <td>1</td>\n",
              "      <td>30051983</td>\n",
              "      <td>24111969</td>\n",
              "      <td>12112021 05:49:25</td>\n",
              "      <td>CENS2011</td>\n",
              "    </tr>\n",
              "  </tbody>\n",
              "</table>\n",
              "<p>36740 rows × 22 columns</p>\n",
              "</div>"
            ],
            "text/plain": [
              "       cod_prv  cod_com     id  ...     dato5              dato6     dato7\n",
              "0            5       22      1  ...  16072008  12112021 05:49:25  CENS2011\n",
              "1            5       22      2  ...  14012010  12112021 05:49:25  CENS2011\n",
              "2            5       22      8  ...  29011968  12112021 05:49:25  CENS2011\n",
              "3            5       22     11  ...  11041972  12112021 05:49:25  CENS2011\n",
              "4            5       22     13  ...   3101963  12112021 05:49:25  CENS2011\n",
              "...        ...      ...    ...  ...       ...                ...       ...\n",
              "36735        5       22  18788  ...  18091970  12112021 05:49:25  CENS2011\n",
              "36736        5       22  18796  ...  24021970  12112021 05:49:25  CENS2011\n",
              "36737        5       22  18797  ...  13042002  12112021 05:49:25  CENS2011\n",
              "36738        5       22  18798  ...   3121980  12112021 05:49:25  CENS2011\n",
              "36739        5       22  18799  ...  24111969  12112021 05:49:25  CENS2011\n",
              "\n",
              "[36740 rows x 22 columns]"
            ]
          },
          "metadata": {},
          "execution_count": 120
        }
      ]
    },
    {
      "cell_type": "code",
      "source": [
        "dataframe = dataframe.sample(frac=1).reset_index(drop=True)\n",
        "dataframe"
      ],
      "metadata": {
        "id": "Olfv-SV5f9W8",
        "outputId": "95d20b3e-8d5c-4f2c-8722-b0d46dd6ce85",
        "colab": {
          "base_uri": "https://localhost:8080/",
          "height": 704
        }
      },
      "execution_count": 121,
      "outputs": [
        {
          "output_type": "execute_result",
          "data": {
            "text/html": [
              "<div>\n",
              "<style scoped>\n",
              "    .dataframe tbody tr th:only-of-type {\n",
              "        vertical-align: middle;\n",
              "    }\n",
              "\n",
              "    .dataframe tbody tr th {\n",
              "        vertical-align: top;\n",
              "    }\n",
              "\n",
              "    .dataframe thead th {\n",
              "        text-align: right;\n",
              "    }\n",
              "</style>\n",
              "<table border=\"1\" class=\"dataframe\">\n",
              "  <thead>\n",
              "    <tr style=\"text-align: right;\">\n",
              "      <th></th>\n",
              "      <th>cod_prv</th>\n",
              "      <th>cod_com</th>\n",
              "      <th>id</th>\n",
              "      <th>cognome</th>\n",
              "      <th>nome</th>\n",
              "      <th>sesso</th>\n",
              "      <th>data_nascita</th>\n",
              "      <th>luogo_nascita</th>\n",
              "      <th>cf</th>\n",
              "      <th>prov_nascita</th>\n",
              "      <th>comune_res</th>\n",
              "      <th>prov_res</th>\n",
              "      <th>citt</th>\n",
              "      <th>indirizzo</th>\n",
              "      <th>cap</th>\n",
              "      <th>dato1</th>\n",
              "      <th>dato2</th>\n",
              "      <th>dato3</th>\n",
              "      <th>dato4</th>\n",
              "      <th>dato5</th>\n",
              "      <th>dato6</th>\n",
              "      <th>dato7</th>\n",
              "    </tr>\n",
              "  </thead>\n",
              "  <tbody>\n",
              "    <tr>\n",
              "      <th>0</th>\n",
              "      <td>5</td>\n",
              "      <td>22</td>\n",
              "      <td>13319</td>\n",
              "      <td>TASINATO</td>\n",
              "      <td>FLAUTO</td>\n",
              "      <td>F</td>\n",
              "      <td>24081940</td>\n",
              "      <td>VILLASTELLONE</td>\n",
              "      <td>CVGGMM40M64M027V</td>\n",
              "      <td>TO</td>\n",
              "      <td>MONCALIERI</td>\n",
              "      <td>TO</td>\n",
              "      <td>ITA</td>\n",
              "      <td>STRADA MAIOLE 85</td>\n",
              "      <td>10024</td>\n",
              "      <td>24032017</td>\n",
              "      <td>14988</td>\n",
              "      <td>1</td>\n",
              "      <td>19072012</td>\n",
              "      <td>16011965</td>\n",
              "      <td>12112021 05:49:25</td>\n",
              "      <td>CENS2011</td>\n",
              "    </tr>\n",
              "    <tr>\n",
              "      <th>1</th>\n",
              "      <td>5</td>\n",
              "      <td>22</td>\n",
              "      <td>3224</td>\n",
              "      <td>PIZZO</td>\n",
              "      <td>SEMPRONIO</td>\n",
              "      <td>M</td>\n",
              "      <td>21011976</td>\n",
              "      <td>TORINO</td>\n",
              "      <td>BLSNNL76A21L219B</td>\n",
              "      <td>TO</td>\n",
              "      <td>MONCALIERI</td>\n",
              "      <td>TO</td>\n",
              "      <td>ITA</td>\n",
              "      <td>VIA CAVOUR 2</td>\n",
              "      <td>10024</td>\n",
              "      <td>24032017</td>\n",
              "      <td>122747</td>\n",
              "      <td>1</td>\n",
              "      <td>5012009</td>\n",
              "      <td>5012009</td>\n",
              "      <td>12112021 05:49:25</td>\n",
              "      <td>CENS2011</td>\n",
              "    </tr>\n",
              "    <tr>\n",
              "      <th>2</th>\n",
              "      <td>5</td>\n",
              "      <td>22</td>\n",
              "      <td>21662</td>\n",
              "      <td>DIANNI</td>\n",
              "      <td>ANATOLIA</td>\n",
              "      <td>F</td>\n",
              "      <td>2091979</td>\n",
              "      <td>TORINO</td>\n",
              "      <td>SPSMCR79P42L219T</td>\n",
              "      <td>TO</td>\n",
              "      <td>MONCALIERI</td>\n",
              "      <td>TO</td>\n",
              "      <td>ITA</td>\n",
              "      <td>BORGATA TAGLIAFERRO 133</td>\n",
              "      <td>10024</td>\n",
              "      <td>24032017</td>\n",
              "      <td>115115</td>\n",
              "      <td>2</td>\n",
              "      <td>16092003</td>\n",
              "      <td>16092003</td>\n",
              "      <td>12112021 05:49:25</td>\n",
              "      <td>CENS2011</td>\n",
              "    </tr>\n",
              "    <tr>\n",
              "      <th>3</th>\n",
              "      <td>5</td>\n",
              "      <td>22</td>\n",
              "      <td>13810</td>\n",
              "      <td>TIBERIO</td>\n",
              "      <td>DIOMIRA</td>\n",
              "      <td>F</td>\n",
              "      <td>2031971</td>\n",
              "      <td>TORINO</td>\n",
              "      <td>CLZDNL71C42L219N</td>\n",
              "      <td>TO</td>\n",
              "      <td>MONCALIERI</td>\n",
              "      <td>TO</td>\n",
              "      <td>ITA</td>\n",
              "      <td>VIA GRAZIA DELEDDA 23/BIS</td>\n",
              "      <td>10024</td>\n",
              "      <td>24032017</td>\n",
              "      <td>110215</td>\n",
              "      <td>1</td>\n",
              "      <td>1032012</td>\n",
              "      <td>3111999</td>\n",
              "      <td>12112021 05:49:25</td>\n",
              "      <td>CENS2011</td>\n",
              "    </tr>\n",
              "    <tr>\n",
              "      <th>4</th>\n",
              "      <td>5</td>\n",
              "      <td>22</td>\n",
              "      <td>13750</td>\n",
              "      <td>TESTI</td>\n",
              "      <td>LOREDANO</td>\n",
              "      <td>F</td>\n",
              "      <td>22121942</td>\n",
              "      <td>POLONGHERA</td>\n",
              "      <td>CRNGZL42T62G800O</td>\n",
              "      <td>CN</td>\n",
              "      <td>MONCALIERI</td>\n",
              "      <td>TO</td>\n",
              "      <td>ITA</td>\n",
              "      <td>VIA FRATELLI MASERA 16</td>\n",
              "      <td>10024</td>\n",
              "      <td>24032017</td>\n",
              "      <td>45316</td>\n",
              "      <td>2</td>\n",
              "      <td>21051952</td>\n",
              "      <td>21051952</td>\n",
              "      <td>12112021 05:49:25</td>\n",
              "      <td>CENS2011</td>\n",
              "    </tr>\n",
              "    <tr>\n",
              "      <th>...</th>\n",
              "      <td>...</td>\n",
              "      <td>...</td>\n",
              "      <td>...</td>\n",
              "      <td>...</td>\n",
              "      <td>...</td>\n",
              "      <td>...</td>\n",
              "      <td>...</td>\n",
              "      <td>...</td>\n",
              "      <td>...</td>\n",
              "      <td>...</td>\n",
              "      <td>...</td>\n",
              "      <td>...</td>\n",
              "      <td>...</td>\n",
              "      <td>...</td>\n",
              "      <td>...</td>\n",
              "      <td>...</td>\n",
              "      <td>...</td>\n",
              "      <td>...</td>\n",
              "      <td>...</td>\n",
              "      <td>...</td>\n",
              "      <td>...</td>\n",
              "      <td>...</td>\n",
              "    </tr>\n",
              "    <tr>\n",
              "      <th>36735</th>\n",
              "      <td>5</td>\n",
              "      <td>22</td>\n",
              "      <td>4143</td>\n",
              "      <td>PRENCE</td>\n",
              "      <td>PAOLICO</td>\n",
              "      <td>F</td>\n",
              "      <td>15021956</td>\n",
              "      <td>MONCALIERI</td>\n",
              "      <td>BSLBRN56B55F335F</td>\n",
              "      <td>TO</td>\n",
              "      <td>MONCALIERI</td>\n",
              "      <td>TO</td>\n",
              "      <td>ITA</td>\n",
              "      <td>VIA DON MINZONI 19</td>\n",
              "      <td>10024</td>\n",
              "      <td>24032017</td>\n",
              "      <td>18194</td>\n",
              "      <td>2</td>\n",
              "      <td>19031979</td>\n",
              "      <td>19031979</td>\n",
              "      <td>12112021 05:49:25</td>\n",
              "      <td>CENS2011</td>\n",
              "    </tr>\n",
              "    <tr>\n",
              "      <th>36736</th>\n",
              "      <td>5</td>\n",
              "      <td>22</td>\n",
              "      <td>503</td>\n",
              "      <td>PASQUALONI</td>\n",
              "      <td>ORVIERO</td>\n",
              "      <td>F</td>\n",
              "      <td>8041938</td>\n",
              "      <td>BOVALINO</td>\n",
              "      <td>GAUGPP38D48B098A</td>\n",
              "      <td>RC</td>\n",
              "      <td>MONCALIERI</td>\n",
              "      <td>TO</td>\n",
              "      <td>ITA</td>\n",
              "      <td>STRADA C. FERRERO DI CAMBIANO 17</td>\n",
              "      <td>10024</td>\n",
              "      <td>24032017</td>\n",
              "      <td>47027</td>\n",
              "      <td>2</td>\n",
              "      <td>2091974</td>\n",
              "      <td>2091974</td>\n",
              "      <td>12112021 05:49:25</td>\n",
              "      <td>CENS2011</td>\n",
              "    </tr>\n",
              "    <tr>\n",
              "      <th>36737</th>\n",
              "      <td>5</td>\n",
              "      <td>22</td>\n",
              "      <td>4382</td>\n",
              "      <td>PROMENZIO</td>\n",
              "      <td>PINA</td>\n",
              "      <td>M</td>\n",
              "      <td>15101938</td>\n",
              "      <td>TEOLO</td>\n",
              "      <td>BAUSRN38R15L100A</td>\n",
              "      <td>PD</td>\n",
              "      <td>MONCALIERI</td>\n",
              "      <td>TO</td>\n",
              "      <td>ITA</td>\n",
              "      <td>STRADA GENOVA 269/TER</td>\n",
              "      <td>10024</td>\n",
              "      <td>24032017</td>\n",
              "      <td>11481</td>\n",
              "      <td>1</td>\n",
              "      <td>22031962</td>\n",
              "      <td>22031962</td>\n",
              "      <td>12112021 05:49:25</td>\n",
              "      <td>CENS2011</td>\n",
              "    </tr>\n",
              "    <tr>\n",
              "      <th>36738</th>\n",
              "      <td>5</td>\n",
              "      <td>22</td>\n",
              "      <td>39976</td>\n",
              "      <td>NIRO</td>\n",
              "      <td>ROMO</td>\n",
              "      <td>F</td>\n",
              "      <td>10081957</td>\n",
              "      <td>SORGONO</td>\n",
              "      <td>MRRNMR57M50I851L</td>\n",
              "      <td>NU</td>\n",
              "      <td>MONCALIERI</td>\n",
              "      <td>TO</td>\n",
              "      <td>ITA</td>\n",
              "      <td>CORSO ROMA 75</td>\n",
              "      <td>10024</td>\n",
              "      <td>24032017</td>\n",
              "      <td>20631</td>\n",
              "      <td>2</td>\n",
              "      <td>18022015</td>\n",
              "      <td>8111983</td>\n",
              "      <td>12112021 05:49:25</td>\n",
              "      <td>CENS2011</td>\n",
              "    </tr>\n",
              "    <tr>\n",
              "      <th>36739</th>\n",
              "      <td>5</td>\n",
              "      <td>22</td>\n",
              "      <td>11097</td>\n",
              "      <td>SINIS</td>\n",
              "      <td>NEERO</td>\n",
              "      <td>F</td>\n",
              "      <td>18061936</td>\n",
              "      <td>CROPANI</td>\n",
              "      <td>CNDCLN36H58D181F</td>\n",
              "      <td>CZ</td>\n",
              "      <td>MONCALIERI</td>\n",
              "      <td>TO</td>\n",
              "      <td>ITA</td>\n",
              "      <td>STRADA GENOVA 174/BIS</td>\n",
              "      <td>10024</td>\n",
              "      <td>24032017</td>\n",
              "      <td>14555</td>\n",
              "      <td>1</td>\n",
              "      <td>17012011</td>\n",
              "      <td>16031962</td>\n",
              "      <td>12112021 05:49:25</td>\n",
              "      <td>CENS2011</td>\n",
              "    </tr>\n",
              "  </tbody>\n",
              "</table>\n",
              "<p>36740 rows × 22 columns</p>\n",
              "</div>"
            ],
            "text/plain": [
              "       cod_prv  cod_com     id  ...     dato5              dato6     dato7\n",
              "0            5       22  13319  ...  16011965  12112021 05:49:25  CENS2011\n",
              "1            5       22   3224  ...   5012009  12112021 05:49:25  CENS2011\n",
              "2            5       22  21662  ...  16092003  12112021 05:49:25  CENS2011\n",
              "3            5       22  13810  ...   3111999  12112021 05:49:25  CENS2011\n",
              "4            5       22  13750  ...  21051952  12112021 05:49:25  CENS2011\n",
              "...        ...      ...    ...  ...       ...                ...       ...\n",
              "36735        5       22   4143  ...  19031979  12112021 05:49:25  CENS2011\n",
              "36736        5       22    503  ...   2091974  12112021 05:49:25  CENS2011\n",
              "36737        5       22   4382  ...  22031962  12112021 05:49:25  CENS2011\n",
              "36738        5       22  39976  ...   8111983  12112021 05:49:25  CENS2011\n",
              "36739        5       22  11097  ...  16031962  12112021 05:49:25  CENS2011\n",
              "\n",
              "[36740 rows x 22 columns]"
            ]
          },
          "metadata": {},
          "execution_count": 121
        }
      ]
    },
    {
      "cell_type": "markdown",
      "metadata": {
        "id": "2Q_P86SDPVo5"
      },
      "source": [
        "# Preprocessing"
      ]
    },
    {
      "cell_type": "code",
      "metadata": {
        "id": "O9rRVu4AMkza"
      },
      "source": [
        "dataframe[\"full_name\"] = dataframe[\"cognome\"] + \" \" +dataframe[\"nome\"]"
      ],
      "execution_count": 122,
      "outputs": []
    },
    {
      "cell_type": "code",
      "source": [
        "cognomi_veri = list(dataframe[36000:36100][\"cognome\"].str.lower())\n",
        "nomi_veri = list(dataframe[36000:36100][\"nome\"].str.lower())"
      ],
      "metadata": {
        "id": "xKOESvzUI6Tj"
      },
      "execution_count": 126,
      "outputs": []
    },
    {
      "cell_type": "code",
      "metadata": {
        "id": "mu4pRhUWMola"
      },
      "source": [
        "dataframe.drop(columns=[\"cognome\", \"nome\"], inplace=True)"
      ],
      "execution_count": null,
      "outputs": []
    },
    {
      "cell_type": "code",
      "metadata": {
        "id": "Y_8s-ghaLwhp"
      },
      "source": [
        "cols = df.columns.tolist()"
      ],
      "execution_count": null,
      "outputs": []
    },
    {
      "cell_type": "code",
      "metadata": {
        "id": "VCGQ0lwEL6nV"
      },
      "source": [
        "cols = ['cod_prv',\n",
        " 'cod_com',\n",
        " 'id',\n",
        " 'full_name',\n",
        " 'sesso',\n",
        " 'data_nascita',\n",
        " 'luogo_nascita',\n",
        " 'cf',\n",
        " 'prov_nascita',\n",
        " 'comune_res',\n",
        " 'prov_res',\n",
        " 'citt',\n",
        " 'indirizzo',\n",
        " 'cap',\n",
        " 'dato1',\n",
        " 'dato2',\n",
        " 'dato3',\n",
        " 'dato4',\n",
        " 'dato5',\n",
        " 'dato6',\n",
        " 'dato7']\n"
      ],
      "execution_count": null,
      "outputs": []
    },
    {
      "cell_type": "code",
      "metadata": {
        "id": "_leuUY-fNjTA"
      },
      "source": [
        "dataframe = dataframe[cols]"
      ],
      "execution_count": null,
      "outputs": []
    },
    {
      "cell_type": "code",
      "metadata": {
        "id": "rmNLmzm2J-NM"
      },
      "source": [
        "dataframe.head(2)"
      ],
      "execution_count": null,
      "outputs": []
    },
    {
      "cell_type": "code",
      "metadata": {
        "id": "v7vJm2fhOGT8"
      },
      "source": [
        "cols = ['cod_prv',\n",
        " 'cod_com',\n",
        " 'id',\n",
        " 'sesso',\n",
        " 'data_nascita',\n",
        " 'luogo_nascita',\n",
        " 'cf',\n",
        " 'prov_nascita',\n",
        " 'comune_res',\n",
        " 'prov_res',\n",
        " 'full_name',\n",
        " 'citt',\n",
        " 'cap',\n",
        " 'dato1',\n",
        " 'dato2',\n",
        " 'dato3',\n",
        " 'indirizzo',\n",
        " 'dato4',\n",
        " 'dato5',\n",
        " 'dato6',\n",
        " 'dato7']"
      ],
      "execution_count": null,
      "outputs": []
    },
    {
      "cell_type": "code",
      "metadata": {
        "id": "ZkK-1YzXNuUJ"
      },
      "source": [
        "first_shuffle_data = dataframe[10000:20000][cols]"
      ],
      "execution_count": null,
      "outputs": []
    },
    {
      "cell_type": "code",
      "metadata": {
        "id": "ujrnz_ivOTKr"
      },
      "source": [
        "first_shuffle_data.head(2)"
      ],
      "execution_count": null,
      "outputs": []
    },
    {
      "cell_type": "code",
      "metadata": {
        "id": "UZdBUhKdOaT-"
      },
      "source": [
        "cols = ['cod_prv',\n",
        " 'cod_com',\n",
        " 'indirizzo',\n",
        " 'id',\n",
        " 'sesso',\n",
        " 'data_nascita',\n",
        " 'luogo_nascita',\n",
        " 'cf',\n",
        " 'prov_nascita',\n",
        " 'comune_res',\n",
        " 'prov_res',\n",
        " \n",
        " 'citt',\n",
        " 'cap',\n",
        " 'dato1',\n",
        " 'dato2',\n",
        " 'full_name',\n",
        " 'dato3',\n",
        " \n",
        " 'dato4',\n",
        " 'dato5',\n",
        " 'dato6',\n",
        " 'dato7']"
      ],
      "execution_count": null,
      "outputs": []
    },
    {
      "cell_type": "code",
      "metadata": {
        "id": "WfERZTB9OdZM"
      },
      "source": [
        "second_shuffle_data = dataframe[20000:32000][cols]"
      ],
      "execution_count": null,
      "outputs": []
    },
    {
      "cell_type": "code",
      "metadata": {
        "id": "A1xDhuIZWmGC"
      },
      "source": [
        "cols = ['cod_prv',\n",
        " 'cod_com',\n",
        " 'id',\n",
        " 'sesso',\n",
        " 'data_nascita',\n",
        " 'luogo_nascita',\n",
        " 'cf',\n",
        " 'full_name',\n",
        " 'prov_nascita',\n",
        " 'comune_res',\n",
        " 'prov_res',\n",
        " \n",
        " 'citt',\n",
        " 'cap',\n",
        " 'dato1',\n",
        " 'dato2',\n",
        " 'dato3',\n",
        " 'indirizzo',\n",
        " 'dato4',\n",
        " 'dato5',\n",
        " 'dato6',\n",
        " 'dato7']"
      ],
      "execution_count": null,
      "outputs": []
    },
    {
      "cell_type": "code",
      "metadata": {
        "id": "9E6LfM340Rt2"
      },
      "source": [
        "second_shuffle_data"
      ],
      "execution_count": null,
      "outputs": []
    },
    {
      "cell_type": "markdown",
      "metadata": {
        "id": "ohbTQx7_PCWt"
      },
      "source": [
        "Prova definitiva"
      ]
    },
    {
      "cell_type": "code",
      "metadata": {
        "id": "kAdrgYpkP24_"
      },
      "source": [
        "def create_token_and_labels(dataset, token_array, tag_array):\n",
        "  data = dataset\n",
        "\n",
        " \n",
        "  for index, row in data.iterrows():\n",
        "    tokens = []\n",
        "    tags = []\n",
        "\n",
        "    for x, value in row.iteritems():\n",
        "    \n",
        "  \n",
        "      if x == \"indirizzo\":\n",
        "        y = value.split()\n",
        "        first= True;\n",
        "        for word in y:\n",
        "          tokens.append(str(word))\n",
        "          if first:\n",
        "            tags.append(\"B-Ind\")\n",
        "            first = False\n",
        "          else:\n",
        "            tags.append(\"I-Ind\") \n",
        "      elif x == \"full_name\":\n",
        "        y = value.split()\n",
        "        first= True;\n",
        "        for word in y:\n",
        "          tokens.append(str(word))\n",
        "          if first:\n",
        "            tags.append(\"B-Per\")\n",
        "            first = False\n",
        "          else:\n",
        "            tags.append(\"I-Per\")     \n",
        "\n",
        "      else:\n",
        "        tokens.append(str(value))\n",
        "        tags.append(\"O\") \n",
        "  \n",
        "    token_array.append(tokens)\n",
        "    tag_array.append(tags)"
      ],
      "execution_count": null,
      "outputs": []
    },
    {
      "cell_type": "code",
      "metadata": {
        "id": "Ti5_0rVbRHV_"
      },
      "source": [
        "token_docs = []\n",
        "tag_docs = []\n",
        "create_token_and_labels(dataframe[0:10000],token_docs,tag_docs)\n",
        "create_token_and_labels(first_shuffle_data,token_docs,tag_docs)\n",
        "create_token_and_labels(second_shuffle_data,token_docs,tag_docs)"
      ],
      "execution_count": null,
      "outputs": []
    },
    {
      "cell_type": "code",
      "metadata": {
        "id": "e_LgMdXOSWnz"
      },
      "source": [
        "test_tag= []\n",
        "test_token = []\n",
        "create_token_and_labels(dataframe[32000:36000],test_token,test_tag)"
      ],
      "execution_count": null,
      "outputs": []
    },
    {
      "cell_type": "code",
      "source": [
        "test_token"
      ],
      "metadata": {
        "id": "3OuKc-3ulpLp"
      },
      "execution_count": null,
      "outputs": []
    },
    {
      "cell_type": "code",
      "source": [
        "test_tag\n"
      ],
      "metadata": {
        "id": "9wTHeu_8kMxf"
      },
      "execution_count": null,
      "outputs": []
    },
    {
      "cell_type": "code",
      "metadata": {
        "id": "MEk-pC5IRmAO"
      },
      "source": [
        "print(token_docs[500])\n",
        "print(tag_docs[500])"
      ],
      "execution_count": null,
      "outputs": []
    },
    {
      "cell_type": "code",
      "metadata": {
        "id": "s1Lz6zbWD65b"
      },
      "source": [
        "texts, tags = token_docs, tag_docs"
      ],
      "execution_count": null,
      "outputs": []
    },
    {
      "cell_type": "code",
      "metadata": {
        "id": "ybzhLD7AIjgd"
      },
      "source": [
        "from sklearn.model_selection import train_test_split\n",
        "train_texts, val_texts, train_tags, val_tags = train_test_split(texts, tags, test_size=.2)"
      ],
      "execution_count": null,
      "outputs": []
    },
    {
      "cell_type": "code",
      "metadata": {
        "id": "JBbVzuohoSG5"
      },
      "source": [
        "print(train_texts, train_tags)"
      ],
      "execution_count": null,
      "outputs": []
    },
    {
      "cell_type": "code",
      "metadata": {
        "id": "R3fVFAhOJ121"
      },
      "source": [
        "unique_tags = set(tag for doc in tags for tag in doc)\n",
        "tag2id = {tag: id for id, tag in enumerate(unique_tags)}\n",
        "id2tag = {id: tag for tag, id in tag2id.items()}"
      ],
      "execution_count": null,
      "outputs": []
    },
    {
      "cell_type": "code",
      "metadata": {
        "id": "ALqT5EOXD3qw"
      },
      "source": [
        "id2tag"
      ],
      "execution_count": null,
      "outputs": []
    },
    {
      "cell_type": "code",
      "metadata": {
        "id": "HUpukEtjtsx2"
      },
      "source": [
        "from transformers import BertTokenizerFast\n",
        "\n",
        "tokenizer = BertTokenizerFast.from_pretrained('bert-base-uncased')\n",
        "\n",
        "train_encodings = tokenizer(train_texts, is_split_into_words=True, padding=\"max_length\",return_offsets_mapping=True)\n",
        "val_encodings = tokenizer(val_texts, is_split_into_words=True,padding=\"max_length\", return_offsets_mapping=True)"
      ],
      "execution_count": null,
      "outputs": []
    },
    {
      "cell_type": "code",
      "metadata": {
        "id": "SE4YDwYyepdG"
      },
      "source": [
        "test_encodings = tokenizer(test_token, is_split_into_words=True,padding=\"max_length\", return_offsets_mapping=True)"
      ],
      "execution_count": null,
      "outputs": []
    },
    {
      "cell_type": "code",
      "metadata": {
        "id": "X0MmZBPqO4O7"
      },
      "source": [
        "\n",
        "def encode_tags(tags, encodings):\n",
        "    labels = [[tag2id[tag] for tag in doc] for doc in tags]\n",
        "    encoded_labels = []\n",
        "    for doc_labels, doc_offset in zip(labels, encodings.offset_mapping):\n",
        "        # create an empty array of -100\n",
        "        doc_enc_labels = np.ones(len(doc_offset),dtype=int) * -100\n",
        "        arr_offset = np.array(doc_offset)\n",
        "\n",
        "        # set labels whose first offset position is 0 and the second is not 0\n",
        "        mask = (arr_offset[:, 0] == 0) & (arr_offset[:, 1] != 0)\n",
        "        doc_enc_labels[mask] = doc_labels[:np.sum(mask)]\n",
        "        encoded_labels.append(doc_enc_labels.tolist())\n",
        "        \n",
        "      #  doc_enc_labels[(arr_offset[:,0] == 0) & (arr_offset[:,1] != 0)] = doc_labels\n",
        "       # encoded_labels.append(doc_enc_labels.tolist())\n",
        "\n",
        "    return encoded_labels\n",
        "train_labels = encode_tags(train_tags, train_encodings)\n",
        "val_labels = encode_tags(val_tags, val_encodings)\n"
      ],
      "execution_count": null,
      "outputs": []
    },
    {
      "cell_type": "code",
      "metadata": {
        "id": "uVKn5KABfuXF"
      },
      "source": [
        "test_labels = encode_tags(test_tag, test_encodings)"
      ],
      "execution_count": null,
      "outputs": []
    },
    {
      "cell_type": "code",
      "source": [
        "test_labels"
      ],
      "metadata": {
        "id": "oGeWcj96j_3J"
      },
      "execution_count": null,
      "outputs": []
    },
    {
      "cell_type": "code",
      "metadata": {
        "id": "IfuPKwyXHTXA"
      },
      "source": [
        "import tensorflow as tf"
      ],
      "execution_count": null,
      "outputs": []
    },
    {
      "cell_type": "code",
      "metadata": {
        "id": "HGFQiAaHQijv"
      },
      "source": [
        "\n",
        "\n",
        "train_encodings.pop(\"offset_mapping\") # we don't want to pass this to the model\n",
        "val_encodings.pop(\"offset_mapping\")\n",
        "\n",
        "train_dataset = tf.data.Dataset.from_tensor_slices((\n",
        "    dict(train_encodings),\n",
        "    train_labels\n",
        "))\n",
        "val_dataset = tf.data.Dataset.from_tensor_slices((\n",
        "    dict(val_encodings),\n",
        "    val_labels\n",
        "))"
      ],
      "execution_count": null,
      "outputs": []
    },
    {
      "cell_type": "code",
      "metadata": {
        "id": "bphLCg2qf9DT"
      },
      "source": [
        "test_encodings.pop(\"offset_mapping\")\n",
        "test_dataset = tf.data.Dataset.from_tensor_slices((\n",
        "    dict(test_encodings),\n",
        "    test_labels\n",
        "))"
      ],
      "execution_count": null,
      "outputs": []
    },
    {
      "cell_type": "code",
      "metadata": {
        "id": "zUgr909e3hSx"
      },
      "source": [
        "from transformers import TFBertForTokenClassification"
      ],
      "execution_count": null,
      "outputs": []
    },
    {
      "cell_type": "code",
      "metadata": {
        "id": "Kj1lvOQWt1Fp"
      },
      "source": [
        "model = TFBertForTokenClassification.from_pretrained(\"bert-base-uncased\",num_labels=len(unique_tags))"
      ],
      "execution_count": null,
      "outputs": []
    },
    {
      "cell_type": "code",
      "metadata": {
        "id": "fCzKI2pkAvYV"
      },
      "source": [
        ""
      ],
      "execution_count": null,
      "outputs": []
    },
    {
      "cell_type": "markdown",
      "metadata": {
        "id": "mpB3Rlorv3hl"
      },
      "source": [
        "# Normal training"
      ]
    },
    {
      "cell_type": "code",
      "metadata": {
        "id": "JrNkKwZYl1O6"
      },
      "source": [
        ""
      ],
      "execution_count": null,
      "outputs": []
    },
    {
      "cell_type": "code",
      "metadata": {
        "id": "hiaEQv7hrN1x"
      },
      "source": [
        "#model.layers[-1].activation = tf.keras.activations.softmax\n",
        "#optimizer = tf.keras.optimizers.Adam(learning_rate=1e-6)\n",
        "#loss = tf.keras.losses.SparseCategoricalCrossentropy(from_logits=True)\n",
        "#modell.layers[2].activation = tf.keras.activations.softmax\n",
        "metric = tf.keras.metrics.SparseCategoricalAccuracy('accuracy')\n",
        "#model.compile(optimizer=optimizer, loss=loss, metrics=[metric])\n",
        "\n",
        "#model.summary()"
      ],
      "execution_count": null,
      "outputs": []
    },
    {
      "cell_type": "code",
      "metadata": {
        "id": "9xPH4jc5A7sA"
      },
      "source": [
        "\n",
        "\n",
        "optimizer = tf.keras.optimizers.Adam(learning_rate=5e-5)\n",
        "model.compile(optimizer=optimizer, loss=model.compute_loss,metrics=metric) # can also use any keras loss fn\n",
        "model.summary()"
      ],
      "execution_count": null,
      "outputs": []
    },
    {
      "cell_type": "code",
      "source": [
        "fdg"
      ],
      "metadata": {
        "id": "tfbX92b7DHbO"
      },
      "execution_count": null,
      "outputs": []
    },
    {
      "cell_type": "code",
      "metadata": {
        "id": "XHFkSv0n_6wL"
      },
      "source": [
        "model.fit(train_dataset.shuffle(1000).batch(8), epochs=1,validation_data=val_dataset, batch_size=8)"
      ],
      "execution_count": null,
      "outputs": []
    },
    {
      "cell_type": "code",
      "metadata": {
        "id": "Ph10MkAbrvBH"
      },
      "source": [
        "model.save_pretrained(\"saved_model\")"
      ],
      "execution_count": null,
      "outputs": []
    },
    {
      "cell_type": "code",
      "source": [
        "model = TFBertForTokenClassification.from_pretrained(\"saved_model\")"
      ],
      "metadata": {
        "id": "21vGpPEQDW6h",
        "outputId": "7e9896d1-5a5c-44d5-fb39-122cffa112d0",
        "colab": {
          "base_uri": "https://localhost:8080/"
        }
      },
      "execution_count": 127,
      "outputs": [
        {
          "output_type": "stream",
          "name": "stderr",
          "text": [
            "Some layers from the model checkpoint at saved_model were not used when initializing TFBertForTokenClassification: ['dropout_37']\n",
            "- This IS expected if you are initializing TFBertForTokenClassification from the checkpoint of a model trained on another task or with another architecture (e.g. initializing a BertForSequenceClassification model from a BertForPreTraining model).\n",
            "- This IS NOT expected if you are initializing TFBertForTokenClassification from the checkpoint of a model that you expect to be exactly identical (initializing a BertForSequenceClassification model from a BertForSequenceClassification model).\n",
            "All the layers of TFBertForTokenClassification were initialized from the model checkpoint at saved_model.\n",
            "If your task is similar to the task the model of the checkpoint was trained on, you can already use TFBertForTokenClassification for predictions without further training.\n"
          ]
        }
      ]
    },
    {
      "cell_type": "code",
      "metadata": {
        "id": "Irqi_05tEdGP"
      },
      "source": [
        "x = test_dataset.shuffle(3)\n",
        "#result = model.predict(x.batch(8))\n",
        "#print(result)"
      ],
      "execution_count": null,
      "outputs": []
    },
    {
      "cell_type": "code",
      "metadata": {
        "id": "zSUhKyOqBwSy"
      },
      "source": [
        "ris =model.evaluate(x.batch(8))"
      ],
      "execution_count": null,
      "outputs": []
    },
    {
      "cell_type": "code",
      "metadata": {
        "id": "OOonM6CREO46"
      },
      "source": [
        "model.metrics_names"
      ],
      "execution_count": null,
      "outputs": []
    },
    {
      "cell_type": "code",
      "metadata": {
        "id": "co8Cw9zSiy5L"
      },
      "source": [
        "history_dict = model.history\n",
        "print(history_dict.keys())\n",
        "\n",
        "acc = history_dict['accuracy']\n",
        "val_acc = history_dict['val_accuracy']\n",
        "loss = history_dict['loss']\n",
        "val_loss = history_dict['val_loss']\n",
        "\n",
        "epochs = range(1, len(acc) + 1)\n",
        "fig = plt.figure(figsize=(10, 6))\n",
        "fig.tight_layout()\n",
        "\n",
        "plt.subplot(2, 1, 1)\n",
        "# r is for \"solid red line\"\n",
        "plt.plot(epochs, loss, 'r', label='Training loss')\n",
        "# b is for \"solid blue line\"\n",
        "plt.plot(epochs, val_loss, 'b', label='Validation loss')\n",
        "plt.title('Training and validation loss')\n",
        "# plt.xlabel('Epochs')\n",
        "plt.ylabel('Loss')\n",
        "plt.legend()\n",
        "\n",
        "plt.subplot(2, 1, 2)\n",
        "plt.plot(epochs, acc, 'r', label='Training acc')\n",
        "plt.plot(epochs, val_acc, 'b', label='Validation acc')\n",
        "plt.title('Training and validation accuracy')\n",
        "plt.xlabel('Epochs')\n",
        "plt.ylabel('Accuracy')\n",
        "plt.legend(loc='lower right')"
      ],
      "execution_count": null,
      "outputs": []
    },
    {
      "cell_type": "code",
      "metadata": {
        "id": "0slpJmON6_9c"
      },
      "source": [
        "from transformers import pipeline\n",
        "#nlp = pipeline('ner', model=model, tokenizer=tokenizer)\n",
        "nlp = pipeline('ner', model=model, tokenizer=tokenizer,aggregation_strategy=\"first\")"
      ],
      "execution_count": 128,
      "outputs": []
    },
    {
      "cell_type": "code",
      "metadata": {
        "id": "pNk2buzV7e1g"
      },
      "source": [
        "test_data = []\n",
        "data = dataframe[36000:36100]\n",
        "for index, row in data.iterrows():\n",
        "  sentence = \"\"\n",
        " \n",
        "  for x, value in row.iteritems():\n",
        "\n",
        "    sentence += str(value) + \" \"\n",
        "\n",
        "  test_data.append(sentence)"
      ],
      "execution_count": 129,
      "outputs": []
    },
    {
      "cell_type": "code",
      "metadata": {
        "id": "K73oLOjsGOPv"
      },
      "source": [
        "nlp(test_data[4])"
      ],
      "execution_count": null,
      "outputs": []
    },
    {
      "cell_type": "code",
      "metadata": {
        "id": "UYOH_zBh8dkW"
      },
      "source": [
        "true_predictions = []\n",
        "nomi=[]\n",
        "cognomi = []\n",
        "indirizzi= []\n",
        "true_names = []\n",
        "for x in test_data:\n",
        "   \n",
        "    ris = nlp(x)\n",
        "    indirizzo = \"\"\n",
        "    cognome = \"\"\n",
        "    nome = \"\"\n",
        "    true_name = \"\"\n",
        "    for t in ris:\n",
        "      \n",
        "      if t[\"entity_group\"] == \"LABEL_4\":\n",
        "        indirizzo = t[\"word\"]\n",
        "      if t[\"entity_group\"] == \"LABEL_0\":\n",
        "        indirizzo += \" \" + t[\"word\"]\n",
        "        indirizzi.append(indirizzo)\n",
        "      if t[\"entity_group\"] == \"LABEL_3\":\n",
        "        cognome =t[\"word\"]\n",
        "        true_name = t[\"word\"]\n",
        "      if t[\"entity_group\"] == \"LABEL_1\":\n",
        "        nome = t[\"word\"]\n",
        "        true_name += \" \" + t[\"word\"]\n",
        "        true_names.append(true_name)\n",
        "\n",
        "    cognomi.append(cognome)  \n",
        "    nomi.append(nome)\n",
        "\n"
      ],
      "execution_count": 130,
      "outputs": []
    },
    {
      "cell_type": "code",
      "metadata": {
        "id": "RQ0nxQMuAbYC"
      },
      "source": [
        "id2tag"
      ],
      "execution_count": null,
      "outputs": []
    },
    {
      "cell_type": "code",
      "metadata": {
        "id": "PT3swtCStidt"
      },
      "source": [
        "from sklearn.metrics import f1_score"
      ],
      "execution_count": null,
      "outputs": []
    },
    {
      "cell_type": "code",
      "source": [
        "from sklearn.metrics import classification_report"
      ],
      "metadata": {
        "id": "Qaw9wVOhE0Hs"
      },
      "execution_count": null,
      "outputs": []
    },
    {
      "cell_type": "code",
      "source": [
        "cognomi"
      ],
      "metadata": {
        "id": "qj8I2np7Ikxz",
        "outputId": "27fe65f7-42d4-479a-a3d5-3e7ee03cf497",
        "colab": {
          "base_uri": "https://localhost:8080/"
        }
      },
      "execution_count": 131,
      "outputs": [
        {
          "output_type": "execute_result",
          "data": {
            "text/plain": [
              "['masulli',\n",
              " 'palamuso',\n",
              " 'slaviero',\n",
              " 'rocconi',\n",
              " 'eletti',\n",
              " 'tamponi',\n",
              " 'gifuni',\n",
              " 'saraceno',\n",
              " 'fregoso',\n",
              " 'secciani',\n",
              " 'giusto',\n",
              " 'zili',\n",
              " 'reza',\n",
              " 'rangone',\n",
              " 'pautasso',\n",
              " 'pettinaro',\n",
              " 'dragoni',\n",
              " 'lanzavecchia',\n",
              " 'scudero',\n",
              " 'pizzini',\n",
              " 'serani',\n",
              " 'luberti',\n",
              " 'onorato',\n",
              " 'liotta',\n",
              " 'pelu',\n",
              " 'pulega',\n",
              " 'masiero',\n",
              " 'turcone',\n",
              " 'strano',\n",
              " 'sarai',\n",
              " 'perosa',\n",
              " 'luperti',\n",
              " 'pasco',\n",
              " 'paganelli',\n",
              " 'fagianelli',\n",
              " 'saruggia',\n",
              " 'malfatti',\n",
              " 'ravasi',\n",
              " 'pietroni',\n",
              " 'nalesso',\n",
              " 'ferruccio',\n",
              " 'tosatti',\n",
              " 'mazzini',\n",
              " 'ottaviano',\n",
              " 'scaccabarozzi',\n",
              " 'di',\n",
              " 'savelli',\n",
              " 'manganelli',\n",
              " 'rolfi',\n",
              " 'patrignani',\n",
              " 'valania',\n",
              " 'intellisano',\n",
              " 'rigato',\n",
              " 'marcis',\n",
              " 'pietrantoni',\n",
              " 'savoriti',\n",
              " 'stallona',\n",
              " 'zoso',\n",
              " 'manni',\n",
              " 'viscardi',\n",
              " 'pezzato',\n",
              " 'rombaldi',\n",
              " 'fusti',\n",
              " 'todone',\n",
              " 'manco',\n",
              " 'liccese',\n",
              " 'di',\n",
              " 'regazzo',\n",
              " 'pangrazi',\n",
              " 'scutellari',\n",
              " 'reni',\n",
              " 'monachella',\n",
              " 'senigaglia',\n",
              " 'santacroce',\n",
              " 'vasallo',\n",
              " 'ravenni',\n",
              " 'pillai',\n",
              " 'di',\n",
              " 'sapa',\n",
              " 'noceti',\n",
              " 'ioppi',\n",
              " 'sciannamblo',\n",
              " 'maruccia',\n",
              " 'sibani',\n",
              " 'lagana',\n",
              " 'zenobini',\n",
              " 'sarubbo',\n",
              " 'fasoli',\n",
              " 'vizzi',\n",
              " 'miceli',\n",
              " 'privitera',\n",
              " 'paganin',\n",
              " 'filia',\n",
              " 'di',\n",
              " 'iaccarino',\n",
              " 'segnan',\n",
              " 'tamanzi',\n",
              " 'minet',\n",
              " 'gandelli',\n",
              " 'omodei']"
            ]
          },
          "metadata": {},
          "execution_count": 131
        }
      ]
    },
    {
      "cell_type": "code",
      "source": [
        "true_ind = list(dataframe[36000:36100][\"indirizzo\"].str.lower())\n",
        "true_full_name =list(dataframe[36000:36100][\"full_name\"].str.lower())"
      ],
      "metadata": {
        "id": "8urzdSkVCiVJ"
      },
      "execution_count": 137,
      "outputs": []
    },
    {
      "cell_type": "code",
      "metadata": {
        "id": "Um7cYnaMt0dn",
        "outputId": "17be9a2e-9a81-407d-da52-c1c1531c77df",
        "colab": {
          "base_uri": "https://localhost:8080/"
        }
      },
      "source": [
        "f1_score(true_ind, indirizzi, average=\"micro\")"
      ],
      "execution_count": 149,
      "outputs": [
        {
          "output_type": "execute_result",
          "data": {
            "text/plain": [
              "0.8000000000000002"
            ]
          },
          "metadata": {},
          "execution_count": 149
        }
      ]
    },
    {
      "cell_type": "code",
      "source": [
        "list(set(true_ind) - set(indirizzi))"
      ],
      "metadata": {
        "id": "KSII2BZmMA9i",
        "outputId": "4ad76aaf-a7a2-4e0f-e633-eb9915e44b22",
        "colab": {
          "base_uri": "https://localhost:8080/"
        }
      },
      "execution_count": 150,
      "outputs": [
        {
          "output_type": "execute_result",
          "data": {
            "text/plain": [
              "['corso roma 4/bis',\n",
              " 'via grazia deledda 23/bis',\n",
              " 'strada genova 199/ter',\n",
              " 'strada villastellone 15/bis',\n",
              " 'via cristoforo colombo 22/bis',\n",
              " 'via giuseppe verdi 4/bis',\n",
              " 'via s.martino 18',\n",
              " 'via juglaris 23/a',\n",
              " 'via cavour 22/ter',\n",
              " 'strada s.brigida 68',\n",
              " 'strada loreto 16/bis',\n",
              " 'strada s.brigida 178',\n",
              " 'strada genova 74/bis',\n",
              " 'strada genova 147/bis',\n",
              " 'via giacomo puccini 17/bis',\n",
              " \"strada marse' 3\",\n",
              " \"piazza caduti per la liberta' 7\",\n",
              " 'strada carignano 45/d',\n",
              " 'strada genova 114/bis',\n",
              " 'via s.croce 42']"
            ]
          },
          "metadata": {},
          "execution_count": 150
        }
      ]
    },
    {
      "cell_type": "code",
      "source": [
        "f1_score(cognomi_veri, cognomi, average=\"micro\")"
      ],
      "metadata": {
        "id": "qmviimDFGf2R",
        "outputId": "5e6d6a07-b1f3-446d-f747-539390b2a87a",
        "colab": {
          "base_uri": "https://localhost:8080/"
        }
      },
      "execution_count": 136,
      "outputs": [
        {
          "output_type": "execute_result",
          "data": {
            "text/plain": [
              "0.94"
            ]
          },
          "metadata": {},
          "execution_count": 136
        }
      ]
    },
    {
      "cell_type": "code",
      "source": [
        "list(set(cognomi_veri) - set(cognomi))"
      ],
      "metadata": {
        "id": "mkWTCCAjLi-X",
        "outputId": "f1b2a82e-03a9-4e43-f517-3ad8dfdee83a",
        "colab": {
          "base_uri": "https://localhost:8080/"
        }
      },
      "execution_count": 146,
      "outputs": [
        {
          "output_type": "execute_result",
          "data": {
            "text/plain": [
              "['pelù', 'di meo', 'di paolo', \"lagana'\", 'di cataldi', 'di febo']"
            ]
          },
          "metadata": {},
          "execution_count": 146
        }
      ]
    },
    {
      "cell_type": "code",
      "source": [
        "f1_score(nomi_veri, nomi, average=\"micro\")"
      ],
      "metadata": {
        "id": "GG73MpjJKNP0",
        "outputId": "2c2d6f6d-4b99-4e71-98f2-356cdcc00fc2",
        "colab": {
          "base_uri": "https://localhost:8080/"
        }
      },
      "execution_count": 138,
      "outputs": [
        {
          "output_type": "execute_result",
          "data": {
            "text/plain": [
              "0.9500000000000001"
            ]
          },
          "metadata": {},
          "execution_count": 138
        }
      ]
    },
    {
      "cell_type": "code",
      "source": [
        "list(set(nomi_veri) - set(nomi))"
      ],
      "metadata": {
        "id": "5ovj0Wn2LP3I",
        "outputId": "84ab2b10-b105-4383-d3c2-f706ee84a21f",
        "colab": {
          "base_uri": "https://localhost:8080/"
        }
      },
      "execution_count": 147,
      "outputs": [
        {
          "output_type": "execute_result",
          "data": {
            "text/plain": [
              "['callimaco', 'simonino', 'giunia', 'rineo', 'eudossia']"
            ]
          },
          "metadata": {},
          "execution_count": 147
        }
      ]
    },
    {
      "cell_type": "code",
      "source": [
        "list(set(cognomi) - set(cognomi_veri))"
      ],
      "metadata": {
        "id": "OHGJ9a9SLXrj",
        "outputId": "09cce4ff-34e4-4487-dc68-eb11d9f1db88",
        "colab": {
          "base_uri": "https://localhost:8080/"
        }
      },
      "execution_count": 145,
      "outputs": [
        {
          "output_type": "execute_result",
          "data": {
            "text/plain": [
              "['pelu', 'di', 'lagana']"
            ]
          },
          "metadata": {},
          "execution_count": 145
        }
      ]
    },
    {
      "cell_type": "code",
      "source": [
        "\n",
        "print(len(indirizzi))"
      ],
      "metadata": {
        "id": "yPFhbgKkGyNQ",
        "outputId": "ec00744b-538f-4fa5-dcf3-a2f522a5c312",
        "colab": {
          "base_uri": "https://localhost:8080/"
        }
      },
      "execution_count": 142,
      "outputs": [
        {
          "output_type": "stream",
          "name": "stdout",
          "text": [
            "100\n"
          ]
        }
      ]
    },
    {
      "cell_type": "code",
      "source": [
        "print(len(cognomi))"
      ],
      "metadata": {
        "id": "LPddaIzfGxq5",
        "outputId": "47ea9c15-41ab-499f-86ad-6e92559aec66",
        "colab": {
          "base_uri": "https://localhost:8080/"
        }
      },
      "execution_count": 143,
      "outputs": [
        {
          "output_type": "stream",
          "name": "stdout",
          "text": [
            "100\n"
          ]
        }
      ]
    },
    {
      "cell_type": "code",
      "source": [
        ""
      ],
      "metadata": {
        "id": "8GfIwDKULNvo"
      },
      "execution_count": null,
      "outputs": []
    },
    {
      "cell_type": "code",
      "source": [
        "print(len(indirizzi))"
      ],
      "metadata": {
        "id": "Op4c1AOoHWFk"
      },
      "execution_count": null,
      "outputs": []
    }
  ]
}