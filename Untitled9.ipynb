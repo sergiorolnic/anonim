{
  "nbformat": 4,
  "nbformat_minor": 0,
  "metadata": {
    "colab": {
      "name": "Untitled9.ipynb",
      "provenance": [],
      "authorship_tag": "ABX9TyOoOZ6J3wDLu66CTrjuy4Y1",
      "include_colab_link": true
    },
    "kernelspec": {
      "name": "python3",
      "display_name": "Python 3"
    },
    "language_info": {
      "name": "python"
    },
    "accelerator": "GPU",
    "widgets": {
      "application/vnd.jupyter.widget-state+json": {
        "1087378ece9241f8aaae37040f57e34b": {
          "model_module": "@jupyter-widgets/controls",
          "model_name": "HBoxModel",
          "model_module_version": "1.5.0",
          "state": {
            "_view_name": "HBoxView",
            "_dom_classes": [],
            "_model_name": "HBoxModel",
            "_view_module": "@jupyter-widgets/controls",
            "_model_module_version": "1.5.0",
            "_view_count": null,
            "_view_module_version": "1.5.0",
            "box_style": "",
            "layout": "IPY_MODEL_6d1756e6e0094f8e927f1f76904259c1",
            "_model_module": "@jupyter-widgets/controls",
            "children": [
              "IPY_MODEL_9533e187fd8742c89e53ad577400e016",
              "IPY_MODEL_4fb11d883a9d47c7ac3877413c108d0f",
              "IPY_MODEL_bae4397c00bd4e60bd9371bd28a43b69"
            ]
          }
        },
        "6d1756e6e0094f8e927f1f76904259c1": {
          "model_module": "@jupyter-widgets/base",
          "model_name": "LayoutModel",
          "model_module_version": "1.2.0",
          "state": {
            "_view_name": "LayoutView",
            "grid_template_rows": null,
            "right": null,
            "justify_content": null,
            "_view_module": "@jupyter-widgets/base",
            "overflow": null,
            "_model_module_version": "1.2.0",
            "_view_count": null,
            "flex_flow": null,
            "width": null,
            "min_width": null,
            "border": null,
            "align_items": null,
            "bottom": null,
            "_model_module": "@jupyter-widgets/base",
            "top": null,
            "grid_column": null,
            "overflow_y": null,
            "overflow_x": null,
            "grid_auto_flow": null,
            "grid_area": null,
            "grid_template_columns": null,
            "flex": null,
            "_model_name": "LayoutModel",
            "justify_items": null,
            "grid_row": null,
            "max_height": null,
            "align_content": null,
            "visibility": null,
            "align_self": null,
            "height": null,
            "min_height": null,
            "padding": null,
            "grid_auto_rows": null,
            "grid_gap": null,
            "max_width": null,
            "order": null,
            "_view_module_version": "1.2.0",
            "grid_template_areas": null,
            "object_position": null,
            "object_fit": null,
            "grid_auto_columns": null,
            "margin": null,
            "display": null,
            "left": null
          }
        },
        "9533e187fd8742c89e53ad577400e016": {
          "model_module": "@jupyter-widgets/controls",
          "model_name": "HTMLModel",
          "model_module_version": "1.5.0",
          "state": {
            "_view_name": "HTMLView",
            "style": "IPY_MODEL_9252caf06dd9404c9f4f7e8be0bfaa65",
            "_dom_classes": [],
            "description": "",
            "_model_name": "HTMLModel",
            "placeholder": "​",
            "_view_module": "@jupyter-widgets/controls",
            "_model_module_version": "1.5.0",
            "value": "Downloading: 100%",
            "_view_count": null,
            "_view_module_version": "1.5.0",
            "description_tooltip": null,
            "_model_module": "@jupyter-widgets/controls",
            "layout": "IPY_MODEL_14e2912706d8458fa59d68e574a77f71"
          }
        },
        "4fb11d883a9d47c7ac3877413c108d0f": {
          "model_module": "@jupyter-widgets/controls",
          "model_name": "FloatProgressModel",
          "model_module_version": "1.5.0",
          "state": {
            "_view_name": "ProgressView",
            "style": "IPY_MODEL_feebcf06f82a456da242101d125151d4",
            "_dom_classes": [],
            "description": "",
            "_model_name": "FloatProgressModel",
            "bar_style": "success",
            "max": 539629488,
            "_view_module": "@jupyter-widgets/controls",
            "_model_module_version": "1.5.0",
            "value": 539629488,
            "_view_count": null,
            "_view_module_version": "1.5.0",
            "orientation": "horizontal",
            "min": 0,
            "description_tooltip": null,
            "_model_module": "@jupyter-widgets/controls",
            "layout": "IPY_MODEL_5aa96f0ebdf844cb8c9c97616cde3de1"
          }
        },
        "bae4397c00bd4e60bd9371bd28a43b69": {
          "model_module": "@jupyter-widgets/controls",
          "model_name": "HTMLModel",
          "model_module_version": "1.5.0",
          "state": {
            "_view_name": "HTMLView",
            "style": "IPY_MODEL_9fe155f01ef540d29c687e4da839f729",
            "_dom_classes": [],
            "description": "",
            "_model_name": "HTMLModel",
            "placeholder": "​",
            "_view_module": "@jupyter-widgets/controls",
            "_model_module_version": "1.5.0",
            "value": " 515M/515M [00:24&lt;00:00, 30.1MB/s]",
            "_view_count": null,
            "_view_module_version": "1.5.0",
            "description_tooltip": null,
            "_model_module": "@jupyter-widgets/controls",
            "layout": "IPY_MODEL_f7ce64dacad84328b705849e5e3bbb10"
          }
        },
        "9252caf06dd9404c9f4f7e8be0bfaa65": {
          "model_module": "@jupyter-widgets/controls",
          "model_name": "DescriptionStyleModel",
          "model_module_version": "1.5.0",
          "state": {
            "_view_name": "StyleView",
            "_model_name": "DescriptionStyleModel",
            "description_width": "",
            "_view_module": "@jupyter-widgets/base",
            "_model_module_version": "1.5.0",
            "_view_count": null,
            "_view_module_version": "1.2.0",
            "_model_module": "@jupyter-widgets/controls"
          }
        },
        "14e2912706d8458fa59d68e574a77f71": {
          "model_module": "@jupyter-widgets/base",
          "model_name": "LayoutModel",
          "model_module_version": "1.2.0",
          "state": {
            "_view_name": "LayoutView",
            "grid_template_rows": null,
            "right": null,
            "justify_content": null,
            "_view_module": "@jupyter-widgets/base",
            "overflow": null,
            "_model_module_version": "1.2.0",
            "_view_count": null,
            "flex_flow": null,
            "width": null,
            "min_width": null,
            "border": null,
            "align_items": null,
            "bottom": null,
            "_model_module": "@jupyter-widgets/base",
            "top": null,
            "grid_column": null,
            "overflow_y": null,
            "overflow_x": null,
            "grid_auto_flow": null,
            "grid_area": null,
            "grid_template_columns": null,
            "flex": null,
            "_model_name": "LayoutModel",
            "justify_items": null,
            "grid_row": null,
            "max_height": null,
            "align_content": null,
            "visibility": null,
            "align_self": null,
            "height": null,
            "min_height": null,
            "padding": null,
            "grid_auto_rows": null,
            "grid_gap": null,
            "max_width": null,
            "order": null,
            "_view_module_version": "1.2.0",
            "grid_template_areas": null,
            "object_position": null,
            "object_fit": null,
            "grid_auto_columns": null,
            "margin": null,
            "display": null,
            "left": null
          }
        },
        "feebcf06f82a456da242101d125151d4": {
          "model_module": "@jupyter-widgets/controls",
          "model_name": "ProgressStyleModel",
          "model_module_version": "1.5.0",
          "state": {
            "_view_name": "StyleView",
            "_model_name": "ProgressStyleModel",
            "description_width": "",
            "_view_module": "@jupyter-widgets/base",
            "_model_module_version": "1.5.0",
            "_view_count": null,
            "_view_module_version": "1.2.0",
            "bar_color": null,
            "_model_module": "@jupyter-widgets/controls"
          }
        },
        "5aa96f0ebdf844cb8c9c97616cde3de1": {
          "model_module": "@jupyter-widgets/base",
          "model_name": "LayoutModel",
          "model_module_version": "1.2.0",
          "state": {
            "_view_name": "LayoutView",
            "grid_template_rows": null,
            "right": null,
            "justify_content": null,
            "_view_module": "@jupyter-widgets/base",
            "overflow": null,
            "_model_module_version": "1.2.0",
            "_view_count": null,
            "flex_flow": null,
            "width": null,
            "min_width": null,
            "border": null,
            "align_items": null,
            "bottom": null,
            "_model_module": "@jupyter-widgets/base",
            "top": null,
            "grid_column": null,
            "overflow_y": null,
            "overflow_x": null,
            "grid_auto_flow": null,
            "grid_area": null,
            "grid_template_columns": null,
            "flex": null,
            "_model_name": "LayoutModel",
            "justify_items": null,
            "grid_row": null,
            "max_height": null,
            "align_content": null,
            "visibility": null,
            "align_self": null,
            "height": null,
            "min_height": null,
            "padding": null,
            "grid_auto_rows": null,
            "grid_gap": null,
            "max_width": null,
            "order": null,
            "_view_module_version": "1.2.0",
            "grid_template_areas": null,
            "object_position": null,
            "object_fit": null,
            "grid_auto_columns": null,
            "margin": null,
            "display": null,
            "left": null
          }
        },
        "9fe155f01ef540d29c687e4da839f729": {
          "model_module": "@jupyter-widgets/controls",
          "model_name": "DescriptionStyleModel",
          "model_module_version": "1.5.0",
          "state": {
            "_view_name": "StyleView",
            "_model_name": "DescriptionStyleModel",
            "description_width": "",
            "_view_module": "@jupyter-widgets/base",
            "_model_module_version": "1.5.0",
            "_view_count": null,
            "_view_module_version": "1.2.0",
            "_model_module": "@jupyter-widgets/controls"
          }
        },
        "f7ce64dacad84328b705849e5e3bbb10": {
          "model_module": "@jupyter-widgets/base",
          "model_name": "LayoutModel",
          "model_module_version": "1.2.0",
          "state": {
            "_view_name": "LayoutView",
            "grid_template_rows": null,
            "right": null,
            "justify_content": null,
            "_view_module": "@jupyter-widgets/base",
            "overflow": null,
            "_model_module_version": "1.2.0",
            "_view_count": null,
            "flex_flow": null,
            "width": null,
            "min_width": null,
            "border": null,
            "align_items": null,
            "bottom": null,
            "_model_module": "@jupyter-widgets/base",
            "top": null,
            "grid_column": null,
            "overflow_y": null,
            "overflow_x": null,
            "grid_auto_flow": null,
            "grid_area": null,
            "grid_template_columns": null,
            "flex": null,
            "_model_name": "LayoutModel",
            "justify_items": null,
            "grid_row": null,
            "max_height": null,
            "align_content": null,
            "visibility": null,
            "align_self": null,
            "height": null,
            "min_height": null,
            "padding": null,
            "grid_auto_rows": null,
            "grid_gap": null,
            "max_width": null,
            "order": null,
            "_view_module_version": "1.2.0",
            "grid_template_areas": null,
            "object_position": null,
            "object_fit": null,
            "grid_auto_columns": null,
            "margin": null,
            "display": null,
            "left": null
          }
        }
      }
    }
  },
  "cells": [
    {
      "cell_type": "markdown",
      "metadata": {
        "id": "view-in-github",
        "colab_type": "text"
      },
      "source": [
        "<a href=\"https://colab.research.google.com/github/sergiorolnic/anonim/blob/main/Untitled9.ipynb\" target=\"_parent\"><img src=\"https://colab.research.google.com/assets/colab-badge.svg\" alt=\"Open In Colab\"/></a>"
      ]
    },
    {
      "cell_type": "code",
      "execution_count": 208,
      "metadata": {
        "id": "N0UIqbzDRBAR"
      },
      "outputs": [],
      "source": [
        "import os.path\n",
        "import numpy as np\n",
        "import pandas as pd"
      ]
    },
    {
      "cell_type": "code",
      "source": [
        "pip install seqeval"
      ],
      "metadata": {
        "colab": {
          "base_uri": "https://localhost:8080/"
        },
        "id": "pF5QG99HRUou",
        "outputId": "ceb95873-4df2-406e-fc63-ecb3d907d3dc"
      },
      "execution_count": null,
      "outputs": [
        {
          "output_type": "stream",
          "name": "stdout",
          "text": [
            "Requirement already satisfied: seqeval in /usr/local/lib/python3.7/dist-packages (1.2.2)\n",
            "Requirement already satisfied: scikit-learn>=0.21.3 in /usr/local/lib/python3.7/dist-packages (from seqeval) (1.0.1)\n",
            "Requirement already satisfied: numpy>=1.14.0 in /usr/local/lib/python3.7/dist-packages (from seqeval) (1.19.5)\n",
            "Requirement already satisfied: scipy>=1.1.0 in /usr/local/lib/python3.7/dist-packages (from scikit-learn>=0.21.3->seqeval) (1.4.1)\n",
            "Requirement already satisfied: joblib>=0.11 in /usr/local/lib/python3.7/dist-packages (from scikit-learn>=0.21.3->seqeval) (1.1.0)\n",
            "Requirement already satisfied: threadpoolctl>=2.0.0 in /usr/local/lib/python3.7/dist-packages (from scikit-learn>=0.21.3->seqeval) (3.0.0)\n"
          ]
        }
      ]
    },
    {
      "cell_type": "code",
      "source": [
        "pip install transformers datasets"
      ],
      "metadata": {
        "id": "kVff7CKtRXD9"
      },
      "execution_count": null,
      "outputs": []
    },
    {
      "cell_type": "code",
      "source": [
        "df1 = pd.read_json(\"https://github.com/sergiorolnic/anonim/blob/main/data/esempio.json?raw=true\")\n",
        "cn = pd.read_csv('https://raw.githubusercontent.com/nicolomantini/lista_cognomi_italiani/master/cognomi.txt', header=None)\n",
        "cn.columns = [\"cognome\"]\n",
        "femal_name = pd.read_json('https://github.com/sergiorolnic/anonim/blob/main/data/ITGivenFemale.json?raw=true')\n",
        "male_name = pd.read_json('https://github.com/sergiorolnic/anonim/blob/main/data/ITGivenMale.json?raw=true')\n",
        "mixt = pd.concat([male_name,femal_name])\n",
        "index = pd.Index(range(1, 9087, 1))\n",
        "mixt.set_index(index)\n",
        "\n",
        "def fill_missing(column_val):\n",
        "    if column_val == \"\": \n",
        "        column_val = mixt[\"name\"].iloc[np.random.randint(9086)]\n",
        "    else:\n",
        "         column_val = column_val\n",
        "    return column_val\n",
        "\n",
        "cn[\"nome\"] = \"\"\n",
        "cn['nome'] = cn['nome'].apply(fill_missing) \n",
        "cn[\"nome\"] = cn[\"nome\"].str.upper()\n",
        "cn[\"cognome\"] = cn[\"cognome\"].str.upper()\n",
        "dataframe = pd.DataFrame(df1)\n",
        "dataframe[\"cognome\"] = cn[\"cognome\"][0:15000]\n",
        "dataframe[\"nome\"] = cn[\"nome\"][0:15000]\n",
        "dataframe2 = pd.DataFrame(df1[0:6740])\n",
        "dataframe2[\"cognome\"] = list(cn[\"cognome\"][15000:21740])\n",
        "dataframe2[\"nome\"] = list(cn[\"nome\"][15000:21740])\n",
        "\n",
        "dataframe =dataframe.append(df1, ignore_index = True)\n",
        "dataframe =dataframe.append(dataframe2, ignore_index = True)\n",
        "dataframe = dataframe.sample(frac=1).reset_index(drop=True)\n",
        "test_data_df =dataframe[35000:36000]\n",
        "dataframe = dataframe[0:35000]"
      ],
      "metadata": {
        "id": "0cCfmLF6XMO0"
      },
      "execution_count": null,
      "outputs": []
    },
    {
      "cell_type": "code",
      "source": [
        "dataframe[\"full_name\"] = dataframe[\"cognome\"] + \" \" +dataframe[\"nome\"]\n"
      ],
      "metadata": {
        "id": "tkZxMMroazDd"
      },
      "execution_count": 212,
      "outputs": []
    },
    {
      "cell_type": "code",
      "source": [
        "dataframe.head(1)"
      ],
      "metadata": {
        "id": "9NmYUGLI5vmn",
        "outputId": "27581748-02db-4497-dc46-4dc0b3c6c9c4",
        "colab": {
          "base_uri": "https://localhost:8080/",
          "height": 197
        }
      },
      "execution_count": 213,
      "outputs": [
        {
          "output_type": "execute_result",
          "data": {
            "text/html": [
              "\n",
              "  <div id=\"df-fd8a5810-9048-4e74-a5dc-4e3fddb17488\">\n",
              "    <div class=\"colab-df-container\">\n",
              "      <div>\n",
              "<style scoped>\n",
              "    .dataframe tbody tr th:only-of-type {\n",
              "        vertical-align: middle;\n",
              "    }\n",
              "\n",
              "    .dataframe tbody tr th {\n",
              "        vertical-align: top;\n",
              "    }\n",
              "\n",
              "    .dataframe thead th {\n",
              "        text-align: right;\n",
              "    }\n",
              "</style>\n",
              "<table border=\"1\" class=\"dataframe\">\n",
              "  <thead>\n",
              "    <tr style=\"text-align: right;\">\n",
              "      <th></th>\n",
              "      <th>cod_prv</th>\n",
              "      <th>cod_com</th>\n",
              "      <th>id</th>\n",
              "      <th>cognome</th>\n",
              "      <th>nome</th>\n",
              "      <th>sesso</th>\n",
              "      <th>data_nascita</th>\n",
              "      <th>luogo_nascita</th>\n",
              "      <th>cf</th>\n",
              "      <th>prov_nascita</th>\n",
              "      <th>comune_res</th>\n",
              "      <th>prov_res</th>\n",
              "      <th>citt</th>\n",
              "      <th>indirizzo</th>\n",
              "      <th>cap</th>\n",
              "      <th>dato1</th>\n",
              "      <th>dato2</th>\n",
              "      <th>dato3</th>\n",
              "      <th>dato4</th>\n",
              "      <th>dato5</th>\n",
              "      <th>dato6</th>\n",
              "      <th>dato7</th>\n",
              "      <th>full_name</th>\n",
              "    </tr>\n",
              "  </thead>\n",
              "  <tbody>\n",
              "    <tr>\n",
              "      <th>0</th>\n",
              "      <td>5</td>\n",
              "      <td>22</td>\n",
              "      <td>37088</td>\n",
              "      <td>MIGHETTO</td>\n",
              "      <td>CABIRIO</td>\n",
              "      <td>M</td>\n",
              "      <td>18121947</td>\n",
              "      <td>SAN VITO</td>\n",
              "      <td>MLNNTN47T18I402F</td>\n",
              "      <td>CA</td>\n",
              "      <td>MONCALIERI</td>\n",
              "      <td>TO</td>\n",
              "      <td>ITA</td>\n",
              "      <td>VIA GIOSUE' CARDUCCI 5</td>\n",
              "      <td>10024</td>\n",
              "      <td>24032017</td>\n",
              "      <td>50512</td>\n",
              "      <td>1</td>\n",
              "      <td>21111972</td>\n",
              "      <td>27071964</td>\n",
              "      <td>12112021 05:49:25</td>\n",
              "      <td>CENS2011</td>\n",
              "      <td>MIGHETTO CABIRIO</td>\n",
              "    </tr>\n",
              "  </tbody>\n",
              "</table>\n",
              "</div>\n",
              "      <button class=\"colab-df-convert\" onclick=\"convertToInteractive('df-fd8a5810-9048-4e74-a5dc-4e3fddb17488')\"\n",
              "              title=\"Convert this dataframe to an interactive table.\"\n",
              "              style=\"display:none;\">\n",
              "        \n",
              "  <svg xmlns=\"http://www.w3.org/2000/svg\" height=\"24px\"viewBox=\"0 0 24 24\"\n",
              "       width=\"24px\">\n",
              "    <path d=\"M0 0h24v24H0V0z\" fill=\"none\"/>\n",
              "    <path d=\"M18.56 5.44l.94 2.06.94-2.06 2.06-.94-2.06-.94-.94-2.06-.94 2.06-2.06.94zm-11 1L8.5 8.5l.94-2.06 2.06-.94-2.06-.94L8.5 2.5l-.94 2.06-2.06.94zm10 10l.94 2.06.94-2.06 2.06-.94-2.06-.94-.94-2.06-.94 2.06-2.06.94z\"/><path d=\"M17.41 7.96l-1.37-1.37c-.4-.4-.92-.59-1.43-.59-.52 0-1.04.2-1.43.59L10.3 9.45l-7.72 7.72c-.78.78-.78 2.05 0 2.83L4 21.41c.39.39.9.59 1.41.59.51 0 1.02-.2 1.41-.59l7.78-7.78 2.81-2.81c.8-.78.8-2.07 0-2.86zM5.41 20L4 18.59l7.72-7.72 1.47 1.35L5.41 20z\"/>\n",
              "  </svg>\n",
              "      </button>\n",
              "      \n",
              "  <style>\n",
              "    .colab-df-container {\n",
              "      display:flex;\n",
              "      flex-wrap:wrap;\n",
              "      gap: 12px;\n",
              "    }\n",
              "\n",
              "    .colab-df-convert {\n",
              "      background-color: #E8F0FE;\n",
              "      border: none;\n",
              "      border-radius: 50%;\n",
              "      cursor: pointer;\n",
              "      display: none;\n",
              "      fill: #1967D2;\n",
              "      height: 32px;\n",
              "      padding: 0 0 0 0;\n",
              "      width: 32px;\n",
              "    }\n",
              "\n",
              "    .colab-df-convert:hover {\n",
              "      background-color: #E2EBFA;\n",
              "      box-shadow: 0px 1px 2px rgba(60, 64, 67, 0.3), 0px 1px 3px 1px rgba(60, 64, 67, 0.15);\n",
              "      fill: #174EA6;\n",
              "    }\n",
              "\n",
              "    [theme=dark] .colab-df-convert {\n",
              "      background-color: #3B4455;\n",
              "      fill: #D2E3FC;\n",
              "    }\n",
              "\n",
              "    [theme=dark] .colab-df-convert:hover {\n",
              "      background-color: #434B5C;\n",
              "      box-shadow: 0px 1px 3px 1px rgba(0, 0, 0, 0.15);\n",
              "      filter: drop-shadow(0px 1px 2px rgba(0, 0, 0, 0.3));\n",
              "      fill: #FFFFFF;\n",
              "    }\n",
              "  </style>\n",
              "\n",
              "      <script>\n",
              "        const buttonEl =\n",
              "          document.querySelector('#df-fd8a5810-9048-4e74-a5dc-4e3fddb17488 button.colab-df-convert');\n",
              "        buttonEl.style.display =\n",
              "          google.colab.kernel.accessAllowed ? 'block' : 'none';\n",
              "\n",
              "        async function convertToInteractive(key) {\n",
              "          const element = document.querySelector('#df-fd8a5810-9048-4e74-a5dc-4e3fddb17488');\n",
              "          const dataTable =\n",
              "            await google.colab.kernel.invokeFunction('convertToInteractive',\n",
              "                                                     [key], {});\n",
              "          if (!dataTable) return;\n",
              "\n",
              "          const docLinkHtml = 'Like what you see? Visit the ' +\n",
              "            '<a target=\"_blank\" href=https://colab.research.google.com/notebooks/data_table.ipynb>data table notebook</a>'\n",
              "            + ' to learn more about interactive tables.';\n",
              "          element.innerHTML = '';\n",
              "          dataTable['output_type'] = 'display_data';\n",
              "          await google.colab.output.renderOutput(dataTable, element);\n",
              "          const docLink = document.createElement('div');\n",
              "          docLink.innerHTML = docLinkHtml;\n",
              "          element.appendChild(docLink);\n",
              "        }\n",
              "      </script>\n",
              "    </div>\n",
              "  </div>\n",
              "  "
            ],
            "text/plain": [
              "   cod_prv  cod_com     id  ...              dato6     dato7         full_name\n",
              "0        5       22  37088  ...  12112021 05:49:25  CENS2011  MIGHETTO CABIRIO\n",
              "\n",
              "[1 rows x 23 columns]"
            ]
          },
          "metadata": {},
          "execution_count": 213
        }
      ]
    },
    {
      "cell_type": "code",
      "source": [
        "df = pd.read_json(\"https://github.com/sergiorolnic/anonim/blob/main/data/popolamento_ina_20211112_header.csv.json?raw=true\")"
      ],
      "metadata": {
        "id": "BC1EElQ3RuKt"
      },
      "execution_count": 214,
      "outputs": []
    },
    {
      "cell_type": "code",
      "source": [
        "dataframe2 = df.sample(frac=1).reset_index(drop=True)\n",
        "dataframe2[\"full_name\"] = dataframe2[\"cognome\"] + \" \" +dataframe2[\"nome\"]\n",
        "#dataframe2.drop(columns=[\"cognome\", \"nome\"], inplace=True)"
      ],
      "metadata": {
        "id": "jl43x-SnSIfw"
      },
      "execution_count": 215,
      "outputs": []
    },
    {
      "cell_type": "code",
      "source": [
        "dataframe2[\"cap\"] = \"\""
      ],
      "metadata": {
        "id": "IBdMe5kH6aaS"
      },
      "execution_count": 216,
      "outputs": []
    },
    {
      "cell_type": "code",
      "source": [
        "dataframe = dataframe.append(dataframe2,ignore_index = True)"
      ],
      "metadata": {
        "id": "mJASP27h6hoa"
      },
      "execution_count": 217,
      "outputs": []
    },
    {
      "cell_type": "code",
      "source": [
        "test_dataframe = dataframe[90000:91000]\n",
        "true_indirizzi = list(test_dataframe[\"indirizzo\"])\n",
        "true_nomi = list(test_dataframe[\"nome\"])\n",
        "true_cognomi = list(test_dataframe[\"cognome\"])\n",
        "dataframe.drop(columns=[\"cognome\", \"nome\"], inplace=True)\n",
        "test_dataframe.drop(columns=[\"full_name\"], inplace=True)"
      ],
      "metadata": {
        "id": "E33xy3sASpwx",
        "outputId": "7876e387-8d4f-4d36-861b-4fec7e08de37",
        "colab": {
          "base_uri": "https://localhost:8080/"
        }
      },
      "execution_count": 218,
      "outputs": [
        {
          "output_type": "stream",
          "name": "stderr",
          "text": [
            "/usr/local/lib/python3.7/dist-packages/pandas/core/frame.py:4174: SettingWithCopyWarning: \n",
            "A value is trying to be set on a copy of a slice from a DataFrame\n",
            "\n",
            "See the caveats in the documentation: https://pandas.pydata.org/pandas-docs/stable/user_guide/indexing.html#returning-a-view-versus-a-copy\n",
            "  errors=errors,\n"
          ]
        }
      ]
    },
    {
      "cell_type": "code",
      "source": [
        "test_dataframe"
      ],
      "metadata": {
        "id": "SrVVoOrrop2G",
        "outputId": "366183a9-699c-41d4-f8ee-3cbc21d0939d",
        "colab": {
          "base_uri": "https://localhost:8080/",
          "height": 765
        }
      },
      "execution_count": 206,
      "outputs": [
        {
          "output_type": "execute_result",
          "data": {
            "text/html": [
              "\n",
              "  <div id=\"df-bdfbacea-d2bf-4d92-94de-fc98db2baa08\">\n",
              "    <div class=\"colab-df-container\">\n",
              "      <div>\n",
              "<style scoped>\n",
              "    .dataframe tbody tr th:only-of-type {\n",
              "        vertical-align: middle;\n",
              "    }\n",
              "\n",
              "    .dataframe tbody tr th {\n",
              "        vertical-align: top;\n",
              "    }\n",
              "\n",
              "    .dataframe thead th {\n",
              "        text-align: right;\n",
              "    }\n",
              "</style>\n",
              "<table border=\"1\" class=\"dataframe\">\n",
              "  <thead>\n",
              "    <tr style=\"text-align: right;\">\n",
              "      <th></th>\n",
              "      <th>cod_prv</th>\n",
              "      <th>cod_com</th>\n",
              "      <th>id</th>\n",
              "      <th>cognome</th>\n",
              "      <th>nome</th>\n",
              "      <th>sesso</th>\n",
              "      <th>data_nascita</th>\n",
              "      <th>luogo_nascita</th>\n",
              "      <th>cf</th>\n",
              "      <th>prov_nascita</th>\n",
              "      <th>comune_res</th>\n",
              "      <th>prov_res</th>\n",
              "      <th>citt</th>\n",
              "      <th>indirizzo</th>\n",
              "      <th>cap</th>\n",
              "      <th>dato1</th>\n",
              "      <th>dato2</th>\n",
              "      <th>dato3</th>\n",
              "      <th>dato4</th>\n",
              "      <th>dato5</th>\n",
              "      <th>dato6</th>\n",
              "      <th>dato7</th>\n",
              "    </tr>\n",
              "  </thead>\n",
              "  <tbody>\n",
              "    <tr>\n",
              "      <th>90000</th>\n",
              "      <td>5</td>\n",
              "      <td>22</td>\n",
              "      <td>125381</td>\n",
              "      <td>CASTELLETTO</td>\n",
              "      <td>LUCA</td>\n",
              "      <td>M</td>\n",
              "      <td>3082011</td>\n",
              "      <td>TORINO</td>\n",
              "      <td>CSTLCU11M03L219H</td>\n",
              "      <td>TO</td>\n",
              "      <td>MONCALIERI</td>\n",
              "      <td>TO</td>\n",
              "      <td>ITA</td>\n",
              "      <td>STRADA PECENASCO 5</td>\n",
              "      <td></td>\n",
              "      <td>NaN</td>\n",
              "      <td>NaN</td>\n",
              "      <td>NaN</td>\n",
              "      <td>NaN</td>\n",
              "      <td>NaN</td>\n",
              "      <td>NaN</td>\n",
              "      <td>NaN</td>\n",
              "    </tr>\n",
              "    <tr>\n",
              "      <th>90001</th>\n",
              "      <td>5</td>\n",
              "      <td>22</td>\n",
              "      <td>109129</td>\n",
              "      <td>BLANDI</td>\n",
              "      <td>MATTEO</td>\n",
              "      <td>M</td>\n",
              "      <td>18062005</td>\n",
              "      <td>MONCALIERI</td>\n",
              "      <td>BLNMTT05H18F335R</td>\n",
              "      <td>TO</td>\n",
              "      <td>MONCALIERI</td>\n",
              "      <td>TO</td>\n",
              "      <td>ITA</td>\n",
              "      <td>VIA GIORDANO BRUNO 4 B</td>\n",
              "      <td></td>\n",
              "      <td>NaN</td>\n",
              "      <td>NaN</td>\n",
              "      <td>NaN</td>\n",
              "      <td>NaN</td>\n",
              "      <td>NaN</td>\n",
              "      <td>NaN</td>\n",
              "      <td>NaN</td>\n",
              "    </tr>\n",
              "    <tr>\n",
              "      <th>90002</th>\n",
              "      <td>5</td>\n",
              "      <td>22</td>\n",
              "      <td>62077</td>\n",
              "      <td>FRANZOLINI</td>\n",
              "      <td>VANIA</td>\n",
              "      <td>F</td>\n",
              "      <td>1061949</td>\n",
              "      <td>PAGNACCO</td>\n",
              "      <td>FRNVNA49H41G238H</td>\n",
              "      <td>UD</td>\n",
              "      <td>MONCALIERI</td>\n",
              "      <td>TO</td>\n",
              "      <td>ITA</td>\n",
              "      <td>STRADA TORINO 65</td>\n",
              "      <td></td>\n",
              "      <td>NaN</td>\n",
              "      <td>NaN</td>\n",
              "      <td>NaN</td>\n",
              "      <td>NaN</td>\n",
              "      <td>NaN</td>\n",
              "      <td>NaN</td>\n",
              "      <td>NaN</td>\n",
              "    </tr>\n",
              "    <tr>\n",
              "      <th>90003</th>\n",
              "      <td>5</td>\n",
              "      <td>22</td>\n",
              "      <td>4287</td>\n",
              "      <td>BATTAGLINO</td>\n",
              "      <td>MONICA</td>\n",
              "      <td>F</td>\n",
              "      <td>4101973</td>\n",
              "      <td>MONCALIERI</td>\n",
              "      <td>BTTMNC73R44F335G</td>\n",
              "      <td>TO</td>\n",
              "      <td>MONCALIERI</td>\n",
              "      <td>TO</td>\n",
              "      <td>ITA</td>\n",
              "      <td>VIALE STAZIONE 1 BIS</td>\n",
              "      <td></td>\n",
              "      <td>NaN</td>\n",
              "      <td>NaN</td>\n",
              "      <td>NaN</td>\n",
              "      <td>NaN</td>\n",
              "      <td>NaN</td>\n",
              "      <td>NaN</td>\n",
              "      <td>NaN</td>\n",
              "    </tr>\n",
              "    <tr>\n",
              "      <th>90004</th>\n",
              "      <td>5</td>\n",
              "      <td>22</td>\n",
              "      <td>106111</td>\n",
              "      <td>URUCI</td>\n",
              "      <td>KLESTOR</td>\n",
              "      <td>M</td>\n",
              "      <td>4041984</td>\n",
              "      <td>ALBANIA</td>\n",
              "      <td>RCUKST84D04Z100C</td>\n",
              "      <td>EE</td>\n",
              "      <td>MONCALIERI</td>\n",
              "      <td>TO</td>\n",
              "      <td>ALB</td>\n",
              "      <td>STRADA GENOVA 191 BIS</td>\n",
              "      <td></td>\n",
              "      <td>NaN</td>\n",
              "      <td>NaN</td>\n",
              "      <td>NaN</td>\n",
              "      <td>NaN</td>\n",
              "      <td>NaN</td>\n",
              "      <td>NaN</td>\n",
              "      <td>NaN</td>\n",
              "    </tr>\n",
              "    <tr>\n",
              "      <th>...</th>\n",
              "      <td>...</td>\n",
              "      <td>...</td>\n",
              "      <td>...</td>\n",
              "      <td>...</td>\n",
              "      <td>...</td>\n",
              "      <td>...</td>\n",
              "      <td>...</td>\n",
              "      <td>...</td>\n",
              "      <td>...</td>\n",
              "      <td>...</td>\n",
              "      <td>...</td>\n",
              "      <td>...</td>\n",
              "      <td>...</td>\n",
              "      <td>...</td>\n",
              "      <td>...</td>\n",
              "      <td>...</td>\n",
              "      <td>...</td>\n",
              "      <td>...</td>\n",
              "      <td>...</td>\n",
              "      <td>...</td>\n",
              "      <td>...</td>\n",
              "      <td>...</td>\n",
              "    </tr>\n",
              "    <tr>\n",
              "      <th>90995</th>\n",
              "      <td>5</td>\n",
              "      <td>22</td>\n",
              "      <td>70282</td>\n",
              "      <td>CELESTINO</td>\n",
              "      <td>PAOLA</td>\n",
              "      <td>F</td>\n",
              "      <td>28111988</td>\n",
              "      <td>TORINO</td>\n",
              "      <td>CLSPLA88S68L219T</td>\n",
              "      <td>TO</td>\n",
              "      <td>MONCALIERI</td>\n",
              "      <td>TO</td>\n",
              "      <td>ITA</td>\n",
              "      <td>CORSO TRIESTE 65</td>\n",
              "      <td></td>\n",
              "      <td>NaN</td>\n",
              "      <td>NaN</td>\n",
              "      <td>NaN</td>\n",
              "      <td>NaN</td>\n",
              "      <td>NaN</td>\n",
              "      <td>NaN</td>\n",
              "      <td>NaN</td>\n",
              "    </tr>\n",
              "    <tr>\n",
              "      <th>90996</th>\n",
              "      <td>5</td>\n",
              "      <td>22</td>\n",
              "      <td>91748</td>\n",
              "      <td>CAVALLA</td>\n",
              "      <td>PAOLA</td>\n",
              "      <td>F</td>\n",
              "      <td>22061966</td>\n",
              "      <td>TORINO</td>\n",
              "      <td>CVLPLA66H62L219G</td>\n",
              "      <td>TO</td>\n",
              "      <td>MONCALIERI</td>\n",
              "      <td>TO</td>\n",
              "      <td>ITA</td>\n",
              "      <td>VIA DELLE ACACIE 16 5</td>\n",
              "      <td></td>\n",
              "      <td>NaN</td>\n",
              "      <td>NaN</td>\n",
              "      <td>NaN</td>\n",
              "      <td>NaN</td>\n",
              "      <td>NaN</td>\n",
              "      <td>NaN</td>\n",
              "      <td>NaN</td>\n",
              "    </tr>\n",
              "    <tr>\n",
              "      <th>90997</th>\n",
              "      <td>5</td>\n",
              "      <td>22</td>\n",
              "      <td>40480</td>\n",
              "      <td>NAVARRO</td>\n",
              "      <td>ORIANA</td>\n",
              "      <td>F</td>\n",
              "      <td>21071949</td>\n",
              "      <td>CIVITAVECCHIA</td>\n",
              "      <td>NVRRNO49L61C773F</td>\n",
              "      <td>RM</td>\n",
              "      <td>MONCALIERI</td>\n",
              "      <td>TO</td>\n",
              "      <td>ITA</td>\n",
              "      <td>VIA LUIGI EINAUDI 14</td>\n",
              "      <td></td>\n",
              "      <td>NaN</td>\n",
              "      <td>NaN</td>\n",
              "      <td>NaN</td>\n",
              "      <td>NaN</td>\n",
              "      <td>NaN</td>\n",
              "      <td>NaN</td>\n",
              "      <td>NaN</td>\n",
              "    </tr>\n",
              "    <tr>\n",
              "      <th>90998</th>\n",
              "      <td>5</td>\n",
              "      <td>22</td>\n",
              "      <td>78200</td>\n",
              "      <td>LANZA</td>\n",
              "      <td>STEFANO</td>\n",
              "      <td>M</td>\n",
              "      <td>15021992</td>\n",
              "      <td>MONCALIERI</td>\n",
              "      <td>LNZSFN92B15F335T</td>\n",
              "      <td>TO</td>\n",
              "      <td>MONCALIERI</td>\n",
              "      <td>TO</td>\n",
              "      <td>ITA</td>\n",
              "      <td>STRADA STUPINIGI 19</td>\n",
              "      <td></td>\n",
              "      <td>NaN</td>\n",
              "      <td>NaN</td>\n",
              "      <td>NaN</td>\n",
              "      <td>NaN</td>\n",
              "      <td>NaN</td>\n",
              "      <td>NaN</td>\n",
              "      <td>NaN</td>\n",
              "    </tr>\n",
              "    <tr>\n",
              "      <th>90999</th>\n",
              "      <td>5</td>\n",
              "      <td>22</td>\n",
              "      <td>135580</td>\n",
              "      <td>NEJNEC</td>\n",
              "      <td>LIDIA</td>\n",
              "      <td>F</td>\n",
              "      <td>4031978</td>\n",
              "      <td>ROMANIA</td>\n",
              "      <td>NJNLDI78C44Z129K</td>\n",
              "      <td>EE</td>\n",
              "      <td>MONCALIERI</td>\n",
              "      <td>TO</td>\n",
              "      <td>ROU</td>\n",
              "      <td>VIA VINCENZO BELLINI 7</td>\n",
              "      <td></td>\n",
              "      <td>NaN</td>\n",
              "      <td>NaN</td>\n",
              "      <td>NaN</td>\n",
              "      <td>NaN</td>\n",
              "      <td>NaN</td>\n",
              "      <td>NaN</td>\n",
              "      <td>NaN</td>\n",
              "    </tr>\n",
              "  </tbody>\n",
              "</table>\n",
              "<p>1000 rows × 22 columns</p>\n",
              "</div>\n",
              "      <button class=\"colab-df-convert\" onclick=\"convertToInteractive('df-bdfbacea-d2bf-4d92-94de-fc98db2baa08')\"\n",
              "              title=\"Convert this dataframe to an interactive table.\"\n",
              "              style=\"display:none;\">\n",
              "        \n",
              "  <svg xmlns=\"http://www.w3.org/2000/svg\" height=\"24px\"viewBox=\"0 0 24 24\"\n",
              "       width=\"24px\">\n",
              "    <path d=\"M0 0h24v24H0V0z\" fill=\"none\"/>\n",
              "    <path d=\"M18.56 5.44l.94 2.06.94-2.06 2.06-.94-2.06-.94-.94-2.06-.94 2.06-2.06.94zm-11 1L8.5 8.5l.94-2.06 2.06-.94-2.06-.94L8.5 2.5l-.94 2.06-2.06.94zm10 10l.94 2.06.94-2.06 2.06-.94-2.06-.94-.94-2.06-.94 2.06-2.06.94z\"/><path d=\"M17.41 7.96l-1.37-1.37c-.4-.4-.92-.59-1.43-.59-.52 0-1.04.2-1.43.59L10.3 9.45l-7.72 7.72c-.78.78-.78 2.05 0 2.83L4 21.41c.39.39.9.59 1.41.59.51 0 1.02-.2 1.41-.59l7.78-7.78 2.81-2.81c.8-.78.8-2.07 0-2.86zM5.41 20L4 18.59l7.72-7.72 1.47 1.35L5.41 20z\"/>\n",
              "  </svg>\n",
              "      </button>\n",
              "      \n",
              "  <style>\n",
              "    .colab-df-container {\n",
              "      display:flex;\n",
              "      flex-wrap:wrap;\n",
              "      gap: 12px;\n",
              "    }\n",
              "\n",
              "    .colab-df-convert {\n",
              "      background-color: #E8F0FE;\n",
              "      border: none;\n",
              "      border-radius: 50%;\n",
              "      cursor: pointer;\n",
              "      display: none;\n",
              "      fill: #1967D2;\n",
              "      height: 32px;\n",
              "      padding: 0 0 0 0;\n",
              "      width: 32px;\n",
              "    }\n",
              "\n",
              "    .colab-df-convert:hover {\n",
              "      background-color: #E2EBFA;\n",
              "      box-shadow: 0px 1px 2px rgba(60, 64, 67, 0.3), 0px 1px 3px 1px rgba(60, 64, 67, 0.15);\n",
              "      fill: #174EA6;\n",
              "    }\n",
              "\n",
              "    [theme=dark] .colab-df-convert {\n",
              "      background-color: #3B4455;\n",
              "      fill: #D2E3FC;\n",
              "    }\n",
              "\n",
              "    [theme=dark] .colab-df-convert:hover {\n",
              "      background-color: #434B5C;\n",
              "      box-shadow: 0px 1px 3px 1px rgba(0, 0, 0, 0.15);\n",
              "      filter: drop-shadow(0px 1px 2px rgba(0, 0, 0, 0.3));\n",
              "      fill: #FFFFFF;\n",
              "    }\n",
              "  </style>\n",
              "\n",
              "      <script>\n",
              "        const buttonEl =\n",
              "          document.querySelector('#df-bdfbacea-d2bf-4d92-94de-fc98db2baa08 button.colab-df-convert');\n",
              "        buttonEl.style.display =\n",
              "          google.colab.kernel.accessAllowed ? 'block' : 'none';\n",
              "\n",
              "        async function convertToInteractive(key) {\n",
              "          const element = document.querySelector('#df-bdfbacea-d2bf-4d92-94de-fc98db2baa08');\n",
              "          const dataTable =\n",
              "            await google.colab.kernel.invokeFunction('convertToInteractive',\n",
              "                                                     [key], {});\n",
              "          if (!dataTable) return;\n",
              "\n",
              "          const docLinkHtml = 'Like what you see? Visit the ' +\n",
              "            '<a target=\"_blank\" href=https://colab.research.google.com/notebooks/data_table.ipynb>data table notebook</a>'\n",
              "            + ' to learn more about interactive tables.';\n",
              "          element.innerHTML = '';\n",
              "          dataTable['output_type'] = 'display_data';\n",
              "          await google.colab.output.renderOutput(dataTable, element);\n",
              "          const docLink = document.createElement('div');\n",
              "          docLink.innerHTML = docLinkHtml;\n",
              "          element.appendChild(docLink);\n",
              "        }\n",
              "      </script>\n",
              "    </div>\n",
              "  </div>\n",
              "  "
            ],
            "text/plain": [
              "       cod_prv  cod_com      id      cognome  ... dato4 dato5  dato6 dato7\n",
              "90000        5       22  125381  CASTELLETTO  ...   NaN   NaN    NaN   NaN\n",
              "90001        5       22  109129       BLANDI  ...   NaN   NaN    NaN   NaN\n",
              "90002        5       22   62077   FRANZOLINI  ...   NaN   NaN    NaN   NaN\n",
              "90003        5       22    4287   BATTAGLINO  ...   NaN   NaN    NaN   NaN\n",
              "90004        5       22  106111        URUCI  ...   NaN   NaN    NaN   NaN\n",
              "...        ...      ...     ...          ...  ...   ...   ...    ...   ...\n",
              "90995        5       22   70282    CELESTINO  ...   NaN   NaN    NaN   NaN\n",
              "90996        5       22   91748      CAVALLA  ...   NaN   NaN    NaN   NaN\n",
              "90997        5       22   40480      NAVARRO  ...   NaN   NaN    NaN   NaN\n",
              "90998        5       22   78200        LANZA  ...   NaN   NaN    NaN   NaN\n",
              "90999        5       22  135580       NEJNEC  ...   NaN   NaN    NaN   NaN\n",
              "\n",
              "[1000 rows x 22 columns]"
            ]
          },
          "metadata": {},
          "execution_count": 206
        }
      ]
    },
    {
      "cell_type": "code",
      "source": [
        "cols1 = dataframe.columns.tolist()\n",
        "cols2 = dataframe2.columns.tolist()"
      ],
      "metadata": {
        "id": "Z8TTCdaiSYOS"
      },
      "execution_count": 81,
      "outputs": []
    },
    {
      "cell_type": "code",
      "source": [
        "import random"
      ],
      "metadata": {
        "id": "K05nMwncTyaP"
      },
      "execution_count": 82,
      "outputs": []
    },
    {
      "cell_type": "code",
      "source": [
        "random.shuffle(cols1)\n",
        "random.shuffle(cols2)"
      ],
      "metadata": {
        "id": "9OzD4Uz0SpWd"
      },
      "execution_count": 83,
      "outputs": []
    },
    {
      "cell_type": "code",
      "source": [
        "first_shuffle_data = dataframe[cols1][0:10000]\n",
        "#first_shuffle_data2 = dataframe2[cols2][0:4000]"
      ],
      "metadata": {
        "id": "F-ZjcJVUUVM8"
      },
      "execution_count": 84,
      "outputs": []
    },
    {
      "cell_type": "code",
      "source": [
        "random.shuffle(cols1)\n",
        "random.shuffle(cols2)\n",
        "second_shuffle_data = dataframe[cols1][10000:20000]\n",
        "#second_shuffle_data2 = dataframe2[cols2][4000:8000]"
      ],
      "metadata": {
        "id": "F2EcNdtaVDww"
      },
      "execution_count": null,
      "outputs": []
    },
    {
      "cell_type": "code",
      "source": [
        "random.shuffle(cols1)\n",
        "random.shuffle(cols2)\n",
        "third_shuffle_data = dataframe[cols1][20000:30000]\n",
        "#third_shuffle_data2 = dataframe2[cols2][8000:12000]"
      ],
      "metadata": {
        "id": "NcLpDP6RgKZh"
      },
      "execution_count": null,
      "outputs": []
    },
    {
      "cell_type": "code",
      "source": [
        "random.shuffle(cols1)\n",
        "random.shuffle(cols2)\n",
        "fourth_shuffle_data = dataframe[cols1][30000:40000]\n",
        "#fourth_shuffle_data2 = dataframe2[cols2][12000:15000]"
      ],
      "metadata": {
        "id": "ISoRTqrLgVxy"
      },
      "execution_count": null,
      "outputs": []
    },
    {
      "cell_type": "code",
      "source": [
        "random.shuffle(cols1)\n",
        "random.shuffle(cols2)\n",
        "five_shuffle_data = dataframe[cols1][40000:60000]\n",
        "#five_shuffle_data2 = dataframe2[cols2][15000:17000]"
      ],
      "metadata": {
        "id": "wtHTRCJCcgxT"
      },
      "execution_count": null,
      "outputs": []
    },
    {
      "cell_type": "code",
      "source": [
        "random.shuffle(cols1)\n",
        "random.shuffle(cols2)\n",
        "six_shuffle_data = dataframe[cols1][60000:80000]\n",
        "six_shuffle_data2 = dataframe2[cols2][25000:35000]"
      ],
      "metadata": {
        "id": "HkVJOuiAcrn2"
      },
      "execution_count": null,
      "outputs": []
    },
    {
      "cell_type": "code",
      "source": [
        "def create_token_and_labels(dataset, token_array, tag_array):\n",
        "  data = dataset\n",
        "\n",
        " \n",
        "  for index, row in data.iterrows():\n",
        "    tokens = []\n",
        "    tags = []\n",
        "\n",
        "    for x, value in row.iteritems():\n",
        "    \n",
        "  \n",
        "      if x == \"indirizzo\":\n",
        "        y = value.split()\n",
        "        first= True;\n",
        "        for word in y:\n",
        "          tokens.append(str(word))\n",
        "          if first:\n",
        "            tags.append(\"B-Ind\")\n",
        "            first = False\n",
        "          else:\n",
        "            tags.append(\"I-Ind\") \n",
        "      elif x == \"full_name\":\n",
        "        y = value.split()\n",
        "        first= True;\n",
        "        for word in y:\n",
        "          tokens.append(str(word))\n",
        "          if first:\n",
        "            tags.append(\"B-Per\")\n",
        "            first = False\n",
        "          else:\n",
        "            if row[\"sesso\"] == \"M\":\n",
        "              tags.append(\"I-Per-M\")\n",
        "            else:\n",
        "              tags.append(\"I-Per-F\")\n",
        "\n",
        "\n",
        "               \n",
        "\n",
        "      else:\n",
        "        tokens.append(str(value))\n",
        "        tags.append(\"O\") \n",
        "  \n",
        "    token_array.append(tokens)\n",
        "    tag_array.append(tags)"
      ],
      "metadata": {
        "id": "7Ou9IF7AVQs_"
      },
      "execution_count": 85,
      "outputs": []
    },
    {
      "cell_type": "code",
      "source": [
        "token_docs = []\n",
        "tag_docs = []\n",
        "#create_token_and_labels(dataframe,token_docs,tag_docs)\n",
        "create_token_and_labels(first_shuffle_data,token_docs,tag_docs)\n",
        "#create_token_and_labels(second_shuffle_data,token_docs,tag_docs)\n",
        "#create_token_and_labels(third_shuffle_data,token_docs,tag_docs)\n",
        "#create_token_and_labels(fourth_shuffle_data,token_docs,tag_docs)\n",
        "#create_token_and_labels(five_shuffle_data,token_docs,tag_docs)\n",
        "#create_token_and_labels(six_shuffle_data,token_docs,tag_docs)\n",
        "\n",
        "#create_token_and_labels(dataframe2,token_docs,tag_docs)\n",
        "#create_token_and_labels(first_shuffle_data2,token_docs,tag_docs)\n",
        "#create_token_and_labels(second_shuffle_data2,token_docs,tag_docs)\n",
        "#create_token_and_labels(third_shuffle_data2,token_docs,tag_docs)\n",
        "#create_token_and_labels(fourth_shuffle_data2,token_docs,tag_docs)\n",
        "#create_token_and_labels(five_shuffle_data2,token_docs,tag_docs)\n",
        "#create_token_and_labels(six_shuffle_data2,token_docs,tag_docs)\n",
        "\n"
      ],
      "metadata": {
        "id": "za1VpNRcVWg5"
      },
      "execution_count": 86,
      "outputs": []
    },
    {
      "cell_type": "code",
      "source": [
        "test_tag= []\n",
        "test_token = []\n",
        "create_token_and_labels(test_dataframe,test_token,test_tag)"
      ],
      "metadata": {
        "id": "ajhFnTqgnwxd"
      },
      "execution_count": 117,
      "outputs": []
    },
    {
      "cell_type": "code",
      "source": [
        "len(test_token)"
      ],
      "metadata": {
        "id": "NiZ46ZNroUbg",
        "outputId": "894235b8-fa66-499f-ba92-95fb7bbb61d9",
        "colab": {
          "base_uri": "https://localhost:8080/"
        }
      },
      "execution_count": 63,
      "outputs": [
        {
          "output_type": "execute_result",
          "data": {
            "text/plain": [
              "0"
            ]
          },
          "metadata": {},
          "execution_count": 63
        }
      ]
    },
    {
      "cell_type": "code",
      "source": [
        "len(token_docs)"
      ],
      "metadata": {
        "id": "6peeaGgmjJo5",
        "outputId": "2b742b8d-2bbc-47e2-f0a0-524dad44ba34",
        "colab": {
          "base_uri": "https://localhost:8080/"
        }
      },
      "execution_count": null,
      "outputs": [
        {
          "output_type": "execute_result",
          "data": {
            "text/plain": [
              "70000"
            ]
          },
          "metadata": {},
          "execution_count": 23
        }
      ]
    },
    {
      "cell_type": "code",
      "source": [
        "texts, tags = token_docs, tag_docs\n",
        "from sklearn.model_selection import train_test_split\n",
        "train_texts, val_texts, train_tags, val_tags = train_test_split(texts, tags, test_size=.2)"
      ],
      "metadata": {
        "id": "0r3b2kvvVr0i"
      },
      "execution_count": 88,
      "outputs": []
    },
    {
      "cell_type": "code",
      "source": [
        "unique_tags = set(tag for doc in tags for tag in doc)\n",
        "tag2id = {tag: id for id, tag in enumerate(unique_tags)}\n",
        "id2tag = {id: tag for tag, id in tag2id.items()}\n",
        "id2tag"
      ],
      "metadata": {
        "id": "Wz2AUvTGVwsl",
        "outputId": "61654685-960a-4c86-d93b-dcfec5ed6fbf",
        "colab": {
          "base_uri": "https://localhost:8080/"
        }
      },
      "execution_count": 89,
      "outputs": [
        {
          "output_type": "execute_result",
          "data": {
            "text/plain": [
              "{0: 'O', 1: 'B-Per', 2: 'I-Ind', 3: 'I-Per-F', 4: 'B-Ind', 5: 'I-Per-M'}"
            ]
          },
          "metadata": {},
          "execution_count": 89
        }
      ]
    },
    {
      "cell_type": "code",
      "source": [
        "from transformers import BertTokenizerFast\n",
        "\n",
        "#tokenizer = BertTokenizerFast.from_pretrained('bert-base-uncased')\n",
        "tokenizer = BertTokenizerFast.from_pretrained('dbmdz/bert-base-italian-cased')\n",
        "\n",
        "\n"
      ],
      "metadata": {
        "id": "kbaDR_H4V94L"
      },
      "execution_count": 90,
      "outputs": []
    },
    {
      "cell_type": "code",
      "source": [
        "train_encodings = tokenizer(train_texts, is_split_into_words=True, padding=\"max_length\",return_offsets_mapping=True)"
      ],
      "metadata": {
        "id": "4xV1wy3xf1cn"
      },
      "execution_count": 91,
      "outputs": []
    },
    {
      "cell_type": "code",
      "source": [
        "val_encodings = tokenizer(val_texts, is_split_into_words=True,padding=\"max_length\", return_offsets_mapping=True)\n"
      ],
      "metadata": {
        "id": "03uqhy_KlrzI"
      },
      "execution_count": 92,
      "outputs": []
    },
    {
      "cell_type": "code",
      "source": [
        "test_encodings = tokenizer(test_token, is_split_into_words=True,padding=\"max_length\", return_offsets_mapping=True)"
      ],
      "metadata": {
        "id": "_k6z9IqwltXB"
      },
      "execution_count": 118,
      "outputs": []
    },
    {
      "cell_type": "code",
      "source": [
        "\n",
        "def encode_tags(tags, encodings):\n",
        "    labels = [[tag2id[tag] for tag in doc] for doc in tags]\n",
        "    encoded_labels = []\n",
        "    for doc_labels, doc_offset in zip(labels, encodings.offset_mapping):\n",
        "        # create an empty array of -100\n",
        "        doc_enc_labels = np.ones(len(doc_offset),dtype=int) * -100\n",
        "        arr_offset = np.array(doc_offset)\n",
        "\n",
        "        # set labels whose first offset position is 0 and the second is not 0\n",
        "        mask = (arr_offset[:, 0] == 0) & (arr_offset[:, 1] != 0)\n",
        "        doc_enc_labels[mask] = doc_labels[:np.sum(mask)]\n",
        "        encoded_labels.append(doc_enc_labels.tolist())\n",
        "        \n",
        "      #  doc_enc_labels[(arr_offset[:,0] == 0) & (arr_offset[:,1] != 0)] = doc_labels\n",
        "       # encoded_labels.append(doc_enc_labels.tolist())\n",
        "\n",
        "    return encoded_labels\n",
        "train_labels = encode_tags(train_tags, train_encodings)\n",
        "val_labels = encode_tags(val_tags, val_encodings)"
      ],
      "metadata": {
        "id": "JKkNgP1ZWEyV"
      },
      "execution_count": 94,
      "outputs": []
    },
    {
      "cell_type": "code",
      "source": [
        "test_labels = encode_tags(test_tag, test_encodings)"
      ],
      "metadata": {
        "id": "aC3RJHtmWHYv"
      },
      "execution_count": 119,
      "outputs": []
    },
    {
      "cell_type": "code",
      "source": [
        "import tensorflow as tf"
      ],
      "metadata": {
        "id": "ybbToaBgWKKL"
      },
      "execution_count": 96,
      "outputs": []
    },
    {
      "cell_type": "code",
      "source": [
        "\n",
        "train_encodings.pop(\"offset_mapping\") # we don't want to pass this to the model\n",
        "val_encodings.pop(\"offset_mapping\")\n",
        "\n",
        "train_dataset = tf.data.Dataset.from_tensor_slices((\n",
        "    dict(train_encodings),\n",
        "    train_labels\n",
        "))\n"
      ],
      "metadata": {
        "id": "V9CqvMktWMv5"
      },
      "execution_count": 97,
      "outputs": []
    },
    {
      "cell_type": "code",
      "source": [
        "val_dataset = tf.data.Dataset.from_tensor_slices((\n",
        "    dict(val_encodings),\n",
        "    val_labels\n",
        "))\n",
        "\n"
      ],
      "metadata": {
        "id": "2OZao1woj5yE"
      },
      "execution_count": 98,
      "outputs": []
    },
    {
      "cell_type": "code",
      "source": [
        "test_encodings.pop(\"offset_mapping\")\n",
        "test_dataset = tf.data.Dataset.from_tensor_slices((\n",
        "    dict(test_encodings),\n",
        "    test_labels\n",
        "))"
      ],
      "metadata": {
        "id": "Utaawtygj7XM"
      },
      "execution_count": 120,
      "outputs": []
    },
    {
      "cell_type": "code",
      "source": [
        "from transformers import TFBertForTokenClassification"
      ],
      "metadata": {
        "id": "ewYg9LV0WRdc"
      },
      "execution_count": 71,
      "outputs": []
    },
    {
      "cell_type": "code",
      "source": [
        "model = TFBertForTokenClassification.from_pretrained('dbmdz/bert-base-italian-cased',num_labels=len(unique_tags))\n",
        "metric = tf.keras.metrics.SparseCategoricalAccuracy('accuracy')\n",
        "optimizer = tf.keras.optimizers.Adam(learning_rate=5e-5)\n",
        "model.compile(optimizer=optimizer, loss=model.compute_loss,metrics=metric) # can also use any keras loss fn\n",
        "model.summary()"
      ],
      "metadata": {
        "id": "lWhPUYYYWUHJ",
        "outputId": "13da6e1d-efeb-47fc-9716-df8904060d0b",
        "colab": {
          "base_uri": "https://localhost:8080/",
          "height": 379,
          "referenced_widgets": [
            "1087378ece9241f8aaae37040f57e34b",
            "6d1756e6e0094f8e927f1f76904259c1",
            "9533e187fd8742c89e53ad577400e016",
            "4fb11d883a9d47c7ac3877413c108d0f",
            "bae4397c00bd4e60bd9371bd28a43b69",
            "9252caf06dd9404c9f4f7e8be0bfaa65",
            "14e2912706d8458fa59d68e574a77f71",
            "feebcf06f82a456da242101d125151d4",
            "5aa96f0ebdf844cb8c9c97616cde3de1",
            "9fe155f01ef540d29c687e4da839f729",
            "f7ce64dacad84328b705849e5e3bbb10"
          ]
        }
      },
      "execution_count": null,
      "outputs": [
        {
          "output_type": "display_data",
          "data": {
            "application/vnd.jupyter.widget-view+json": {
              "model_id": "1087378ece9241f8aaae37040f57e34b",
              "version_minor": 0,
              "version_major": 2
            },
            "text/plain": [
              "Downloading:   0%|          | 0.00/515M [00:00<?, ?B/s]"
            ]
          },
          "metadata": {}
        },
        {
          "output_type": "stream",
          "name": "stderr",
          "text": [
            "All model checkpoint layers were used when initializing TFBertForTokenClassification.\n",
            "\n",
            "Some layers of TFBertForTokenClassification were not initialized from the model checkpoint at dbmdz/bert-base-italian-cased and are newly initialized: ['classifier']\n",
            "You should probably TRAIN this model on a down-stream task to be able to use it for predictions and inference.\n"
          ]
        },
        {
          "output_type": "stream",
          "name": "stdout",
          "text": [
            "Model: \"tf_bert_for_token_classification\"\n",
            "_________________________________________________________________\n",
            " Layer (type)                Output Shape              Param #   \n",
            "=================================================================\n",
            " bert (TFBertMainLayer)      multiple                  109337088 \n",
            "                                                                 \n",
            " dropout_37 (Dropout)        multiple                  0         \n",
            "                                                                 \n",
            " classifier (Dense)          multiple                  4614      \n",
            "                                                                 \n",
            "=================================================================\n",
            "Total params: 109,341,702\n",
            "Trainable params: 109,341,702\n",
            "Non-trainable params: 0\n",
            "_________________________________________________________________\n"
          ]
        }
      ]
    },
    {
      "cell_type": "code",
      "source": [
        "model.fit(train_dataset.shuffle(1000).batch(8), epochs=1,validation_data=val_dataset, batch_size=8)"
      ],
      "metadata": {
        "id": "Zfc3nqCCWbqr",
        "outputId": "cfecf14e-b4c0-4b20-d0b5-38eb0551a48c",
        "colab": {
          "base_uri": "https://localhost:8080/"
        }
      },
      "execution_count": null,
      "outputs": [
        {
          "output_type": "stream",
          "name": "stderr",
          "text": [
            "/usr/local/lib/python3.7/dist-packages/tensorflow/python/autograph/impl/api.py:377: UserWarning: Using `-1` to mask the loss for the token is deprecated. Please use `-100` instead.\n",
            "  return py_builtins.overload_of(f)(*args)\n"
          ]
        },
        {
          "output_type": "stream",
          "name": "stdout",
          "text": [
            "2468/7000 [=========>....................] - ETA: 2:09:19 - loss: 0.0205 - accuracy: 0.0475"
          ]
        }
      ]
    },
    {
      "cell_type": "code",
      "source": [
        "model = TFBertForTokenClassification.from_pretrained(\"load_model\")"
      ],
      "metadata": {
        "id": "h9xV8geRo4mn",
        "outputId": "7d16fdaf-1177-4d1b-f3cd-a884be2ac14b",
        "colab": {
          "base_uri": "https://localhost:8080/"
        }
      },
      "execution_count": 72,
      "outputs": [
        {
          "output_type": "stream",
          "name": "stderr",
          "text": [
            "All model checkpoint layers were used when initializing TFBertForTokenClassification.\n",
            "\n",
            "All the layers of TFBertForTokenClassification were initialized from the model checkpoint at load_model.\n",
            "If your task is similar to the task the model of the checkpoint was trained on, you can already use TFBertForTokenClassification for predictions without further training.\n"
          ]
        }
      ]
    },
    {
      "cell_type": "code",
      "source": [
        "import time"
      ],
      "metadata": {
        "id": "jA6qD5FIqrFP"
      },
      "execution_count": 104,
      "outputs": []
    },
    {
      "cell_type": "code",
      "source": [
        "start= time.time()\n",
        "x = test_dataset.shuffle(3)\n",
        "result = model.predict(x.batch(8))\n",
        "stop= time.time()\n",
        "print((stop-start)/10)"
      ],
      "metadata": {
        "id": "W3EEiIlUqhsu",
        "outputId": "24420d36-1835-43d0-c143-da69bff5d0e5",
        "colab": {
          "base_uri": "https://localhost:8080/"
        }
      },
      "execution_count": 122,
      "outputs": [
        {
          "output_type": "stream",
          "name": "stdout",
          "text": [
            "26.203273582458497\n"
          ]
        }
      ]
    },
    {
      "cell_type": "code",
      "source": [
        "prediction = np.argmax(result, axis=-1)\n",
        "#prediction = [id2tag[i] for i in prediction]\n",
        "\n",
        "# eu -> B-ORG, german -> B-MISC, british -> B-MISC\n",
        "print(prediction)"
      ],
      "metadata": {
        "id": "r1mtWnTtsj2M",
        "outputId": "7335df06-1d61-4029-b2a2-94d19074f4e2",
        "colab": {
          "base_uri": "https://localhost:8080/"
        }
      },
      "execution_count": 127,
      "outputs": [
        {
          "output_type": "stream",
          "name": "stdout",
          "text": [
            "0\n"
          ]
        }
      ]
    },
    {
      "cell_type": "code",
      "source": [
        "prediction"
      ],
      "metadata": {
        "id": "2HTquv5CuHhx",
        "outputId": "55b7e2a3-1ffa-4072-eca2-bc5a132cab73",
        "colab": {
          "base_uri": "https://localhost:8080/"
        }
      },
      "execution_count": 125,
      "outputs": [
        {
          "output_type": "execute_result",
          "data": {
            "text/plain": [
              "0"
            ]
          },
          "metadata": {},
          "execution_count": 125
        }
      ]
    },
    {
      "cell_type": "code",
      "source": [
        "from transformers import pipeline\n",
        "\n",
        "nlp = pipeline('ner', model=model, tokenizer=tokenizer,aggregation_strategy=\"first\")"
      ],
      "metadata": {
        "id": "jtybsBEra7rL"
      },
      "execution_count": 100,
      "outputs": []
    },
    {
      "cell_type": "code",
      "source": [
        "nlp(\"5 10 SERGIU ROLNIC M 8031935 BIANZE BTAZEI35C08A847I VC MONCALIERI TO ITA STRADA GENOVA 58 10024 24032017 10003 13101963 3101963 12112021 05:49:25 CENS2011\")"
      ],
      "metadata": {
        "id": "gLIWJo5CyUFl",
        "outputId": "c9487f15-2790-4384-9e6b-39a0594d5e9b",
        "colab": {
          "base_uri": "https://localhost:8080/"
        }
      },
      "execution_count": 141,
      "outputs": [
        {
          "output_type": "execute_result",
          "data": {
            "text/plain": [
              "[{'end': 4,\n",
              "  'entity_group': 'LABEL_0',\n",
              "  'score': 0.9999425,\n",
              "  'start': 0,\n",
              "  'word': '5 10'},\n",
              " {'end': 11,\n",
              "  'entity_group': 'LABEL_3',\n",
              "  'score': 0.99803275,\n",
              "  'start': 5,\n",
              "  'word': 'SERGIU'},\n",
              " {'end': 18,\n",
              "  'entity_group': 'LABEL_2',\n",
              "  'score': 0.96980053,\n",
              "  'start': 12,\n",
              "  'word': 'ROLNIC'},\n",
              " {'end': 73,\n",
              "  'entity_group': 'LABEL_0',\n",
              "  'score': 0.9999405,\n",
              "  'start': 19,\n",
              "  'word': 'M 8031935 BIANZE BTAZEI35C08A847I VC MONCALIERI TO ITA'},\n",
              " {'end': 80,\n",
              "  'entity_group': 'LABEL_1',\n",
              "  'score': 0.99974257,\n",
              "  'start': 74,\n",
              "  'word': 'STRADA'},\n",
              " {'end': 90,\n",
              "  'entity_group': 'LABEL_4',\n",
              "  'score': 0.99895275,\n",
              "  'start': 81,\n",
              "  'word': 'GENOVA 58'},\n",
              " {'end': 155,\n",
              "  'entity_group': 'LABEL_0',\n",
              "  'score': 0.9999304,\n",
              "  'start': 91,\n",
              "  'word': '10024 24032017 10003 13101963 3101963 12112021 05 : 49 : 25 CENS2011'}]"
            ]
          },
          "metadata": {},
          "execution_count": 141
        }
      ]
    },
    {
      "cell_type": "code",
      "source": [
        "print(id2tag)"
      ],
      "metadata": {
        "id": "ZaT1zHRrcdH0",
        "outputId": "87b9b77c-abb2-413a-9455-a9d821b533ea",
        "colab": {
          "base_uri": "https://localhost:8080/"
        }
      },
      "execution_count": 101,
      "outputs": [
        {
          "output_type": "stream",
          "name": "stdout",
          "text": [
            "{0: 'O', 1: 'B-Per', 2: 'I-Ind', 3: 'I-Per-F', 4: 'B-Ind', 5: 'I-Per-M'}\n"
          ]
        }
      ]
    },
    {
      "cell_type": "code",
      "source": [
        "test_dataframe"
      ],
      "metadata": {
        "id": "zdug2wco01A4",
        "outputId": "1852054e-bef3-4aff-d795-268f1b41c65b",
        "colab": {
          "base_uri": "https://localhost:8080/",
          "height": 113
        }
      },
      "execution_count": 194,
      "outputs": [
        {
          "output_type": "execute_result",
          "data": {
            "text/html": [
              "\n",
              "  <div id=\"df-2e2bec95-2814-45d9-bb6a-585ed281fc07\">\n",
              "    <div class=\"colab-df-container\">\n",
              "      <div>\n",
              "<style scoped>\n",
              "    .dataframe tbody tr th:only-of-type {\n",
              "        vertical-align: middle;\n",
              "    }\n",
              "\n",
              "    .dataframe tbody tr th {\n",
              "        vertical-align: top;\n",
              "    }\n",
              "\n",
              "    .dataframe thead th {\n",
              "        text-align: right;\n",
              "    }\n",
              "</style>\n",
              "<table border=\"1\" class=\"dataframe\">\n",
              "  <thead>\n",
              "    <tr style=\"text-align: right;\">\n",
              "      <th></th>\n",
              "      <th>cod_prv</th>\n",
              "      <th>cod_com</th>\n",
              "      <th>id</th>\n",
              "      <th>cognome</th>\n",
              "      <th>nome</th>\n",
              "      <th>sesso</th>\n",
              "      <th>data_nascita</th>\n",
              "      <th>luogo_nascita</th>\n",
              "      <th>cf</th>\n",
              "      <th>prov_nascita</th>\n",
              "      <th>comune_res</th>\n",
              "      <th>prov_res</th>\n",
              "      <th>citt</th>\n",
              "      <th>indirizzo</th>\n",
              "      <th>cap</th>\n",
              "      <th>dato1</th>\n",
              "      <th>dato2</th>\n",
              "      <th>dato3</th>\n",
              "      <th>dato4</th>\n",
              "      <th>dato5</th>\n",
              "      <th>dato6</th>\n",
              "      <th>dato7</th>\n",
              "    </tr>\n",
              "  </thead>\n",
              "  <tbody>\n",
              "  </tbody>\n",
              "</table>\n",
              "</div>\n",
              "      <button class=\"colab-df-convert\" onclick=\"convertToInteractive('df-2e2bec95-2814-45d9-bb6a-585ed281fc07')\"\n",
              "              title=\"Convert this dataframe to an interactive table.\"\n",
              "              style=\"display:none;\">\n",
              "        \n",
              "  <svg xmlns=\"http://www.w3.org/2000/svg\" height=\"24px\"viewBox=\"0 0 24 24\"\n",
              "       width=\"24px\">\n",
              "    <path d=\"M0 0h24v24H0V0z\" fill=\"none\"/>\n",
              "    <path d=\"M18.56 5.44l.94 2.06.94-2.06 2.06-.94-2.06-.94-.94-2.06-.94 2.06-2.06.94zm-11 1L8.5 8.5l.94-2.06 2.06-.94-2.06-.94L8.5 2.5l-.94 2.06-2.06.94zm10 10l.94 2.06.94-2.06 2.06-.94-2.06-.94-.94-2.06-.94 2.06-2.06.94z\"/><path d=\"M17.41 7.96l-1.37-1.37c-.4-.4-.92-.59-1.43-.59-.52 0-1.04.2-1.43.59L10.3 9.45l-7.72 7.72c-.78.78-.78 2.05 0 2.83L4 21.41c.39.39.9.59 1.41.59.51 0 1.02-.2 1.41-.59l7.78-7.78 2.81-2.81c.8-.78.8-2.07 0-2.86zM5.41 20L4 18.59l7.72-7.72 1.47 1.35L5.41 20z\"/>\n",
              "  </svg>\n",
              "      </button>\n",
              "      \n",
              "  <style>\n",
              "    .colab-df-container {\n",
              "      display:flex;\n",
              "      flex-wrap:wrap;\n",
              "      gap: 12px;\n",
              "    }\n",
              "\n",
              "    .colab-df-convert {\n",
              "      background-color: #E8F0FE;\n",
              "      border: none;\n",
              "      border-radius: 50%;\n",
              "      cursor: pointer;\n",
              "      display: none;\n",
              "      fill: #1967D2;\n",
              "      height: 32px;\n",
              "      padding: 0 0 0 0;\n",
              "      width: 32px;\n",
              "    }\n",
              "\n",
              "    .colab-df-convert:hover {\n",
              "      background-color: #E2EBFA;\n",
              "      box-shadow: 0px 1px 2px rgba(60, 64, 67, 0.3), 0px 1px 3px 1px rgba(60, 64, 67, 0.15);\n",
              "      fill: #174EA6;\n",
              "    }\n",
              "\n",
              "    [theme=dark] .colab-df-convert {\n",
              "      background-color: #3B4455;\n",
              "      fill: #D2E3FC;\n",
              "    }\n",
              "\n",
              "    [theme=dark] .colab-df-convert:hover {\n",
              "      background-color: #434B5C;\n",
              "      box-shadow: 0px 1px 3px 1px rgba(0, 0, 0, 0.15);\n",
              "      filter: drop-shadow(0px 1px 2px rgba(0, 0, 0, 0.3));\n",
              "      fill: #FFFFFF;\n",
              "    }\n",
              "  </style>\n",
              "\n",
              "      <script>\n",
              "        const buttonEl =\n",
              "          document.querySelector('#df-2e2bec95-2814-45d9-bb6a-585ed281fc07 button.colab-df-convert');\n",
              "        buttonEl.style.display =\n",
              "          google.colab.kernel.accessAllowed ? 'block' : 'none';\n",
              "\n",
              "        async function convertToInteractive(key) {\n",
              "          const element = document.querySelector('#df-2e2bec95-2814-45d9-bb6a-585ed281fc07');\n",
              "          const dataTable =\n",
              "            await google.colab.kernel.invokeFunction('convertToInteractive',\n",
              "                                                     [key], {});\n",
              "          if (!dataTable) return;\n",
              "\n",
              "          const docLinkHtml = 'Like what you see? Visit the ' +\n",
              "            '<a target=\"_blank\" href=https://colab.research.google.com/notebooks/data_table.ipynb>data table notebook</a>'\n",
              "            + ' to learn more about interactive tables.';\n",
              "          element.innerHTML = '';\n",
              "          dataTable['output_type'] = 'display_data';\n",
              "          await google.colab.output.renderOutput(dataTable, element);\n",
              "          const docLink = document.createElement('div');\n",
              "          docLink.innerHTML = docLinkHtml;\n",
              "          element.appendChild(docLink);\n",
              "        }\n",
              "      </script>\n",
              "    </div>\n",
              "  </div>\n",
              "  "
            ],
            "text/plain": [
              "Empty DataFrame\n",
              "Columns: [cod_prv, cod_com, id, cognome, nome, sesso, data_nascita, luogo_nascita, cf, prov_nascita, comune_res, prov_res, citt, indirizzo, cap, dato1, dato2, dato3, dato4, dato5, dato6, dato7]\n",
              "Index: []"
            ]
          },
          "metadata": {},
          "execution_count": 194
        }
      ]
    },
    {
      "cell_type": "code",
      "source": [
        "import time"
      ],
      "metadata": {
        "id": "wdr_JHP705oP"
      },
      "execution_count": 189,
      "outputs": []
    },
    {
      "cell_type": "code",
      "source": [
        "\n",
        "list_durata = []\n",
        "test_data = []\n",
        "pred_nomi=[]\n",
        "pred_cognomi = []\n",
        "pred_indirizzi= []\n",
        "data = test_dataframe\n",
        "for index, row in data.iterrows():\n",
        "  start = time.time()\n",
        "  sentence = \"\"\n",
        " \n",
        "  for x, value in row.iteritems():\n",
        "\n",
        "    sentence += str(value) + \" \"\n",
        "\n",
        "  test_data.append(sentence)\n",
        "  ris = nlp(sentence)\n",
        "  indirizzo = \"\"\n",
        "  cognome = \"\"\n",
        "  nome = \"\"\n",
        "  for t in ris:\n",
        "      \n",
        "      if t[\"entity_group\"] == \"LABEL_1\":\n",
        "        indirizzo = t[\"word\"]\n",
        "      if t[\"entity_group\"] == \"LABEL_4\":\n",
        "        indirizzo += \" \" + t[\"word\"]\n",
        "        \n",
        "      if t[\"entity_group\"] == \"LABEL_3\":\n",
        "        cognome =t[\"word\"]\n",
        "      \n",
        "      if t[\"entity_group\"] == \"LABEL_2\":\n",
        "        nome = t[\"word\"]\n",
        "      \n",
        " \n",
        "  pred_indirizzi.append(indirizzo)\n",
        "  pred_cognomi.append(cognome)  \n",
        "  pred_nomi.append(nome)\n",
        "  stop = time.time()\n",
        "  list_durata.append(stop-start)\n",
        "      \n",
        "      "
      ],
      "metadata": {
        "id": "SgJGFqEubD3x",
        "outputId": "713a3336-bf23-4209-cd44-b1c837ff6b3b",
        "colab": {
          "base_uri": "https://localhost:8080/",
          "height": 380
        }
      },
      "execution_count": 207,
      "outputs": [
        {
          "output_type": "error",
          "ename": "KeyboardInterrupt",
          "evalue": "ignored",
          "traceback": [
            "\u001b[0;31m---------------------------------------------------------------------------\u001b[0m",
            "\u001b[0;31mKeyboardInterrupt\u001b[0m                         Traceback (most recent call last)",
            "\u001b[0;32m<ipython-input-207-1083955f51ef>\u001b[0m in \u001b[0;36m<module>\u001b[0;34m()\u001b[0m\n\u001b[1;32m     15\u001b[0m \u001b[0;34m\u001b[0m\u001b[0m\n\u001b[1;32m     16\u001b[0m   \u001b[0mtest_data\u001b[0m\u001b[0;34m.\u001b[0m\u001b[0mappend\u001b[0m\u001b[0;34m(\u001b[0m\u001b[0msentence\u001b[0m\u001b[0;34m)\u001b[0m\u001b[0;34m\u001b[0m\u001b[0;34m\u001b[0m\u001b[0m\n\u001b[0;32m---> 17\u001b[0;31m   \u001b[0mris\u001b[0m \u001b[0;34m=\u001b[0m \u001b[0mnlp\u001b[0m\u001b[0;34m(\u001b[0m\u001b[0msentence\u001b[0m\u001b[0;34m)\u001b[0m\u001b[0;34m\u001b[0m\u001b[0;34m\u001b[0m\u001b[0m\n\u001b[0m\u001b[1;32m     18\u001b[0m   \u001b[0mindirizzo\u001b[0m \u001b[0;34m=\u001b[0m \u001b[0;34m\"\"\u001b[0m\u001b[0;34m\u001b[0m\u001b[0;34m\u001b[0m\u001b[0m\n\u001b[1;32m     19\u001b[0m   \u001b[0mcognome\u001b[0m \u001b[0;34m=\u001b[0m \u001b[0;34m\"\"\u001b[0m\u001b[0;34m\u001b[0m\u001b[0;34m\u001b[0m\u001b[0m\n",
            "\u001b[0;32m/usr/local/lib/python3.7/dist-packages/transformers/pipelines/token_classification.py\u001b[0m in \u001b[0;36m__call__\u001b[0;34m(self, inputs, **kwargs)\u001b[0m\n\u001b[1;32m    187\u001b[0m             \u001b[0mkwargs\u001b[0m\u001b[0;34m[\u001b[0m\u001b[0;34m\"offset_mapping\"\u001b[0m\u001b[0;34m]\u001b[0m \u001b[0;34m=\u001b[0m \u001b[0moffset_mapping\u001b[0m\u001b[0;34m\u001b[0m\u001b[0;34m\u001b[0m\u001b[0m\n\u001b[1;32m    188\u001b[0m \u001b[0;34m\u001b[0m\u001b[0m\n\u001b[0;32m--> 189\u001b[0;31m         \u001b[0;32mreturn\u001b[0m \u001b[0msuper\u001b[0m\u001b[0;34m(\u001b[0m\u001b[0;34m)\u001b[0m\u001b[0;34m.\u001b[0m\u001b[0m__call__\u001b[0m\u001b[0;34m(\u001b[0m\u001b[0minputs\u001b[0m\u001b[0;34m,\u001b[0m \u001b[0;34m**\u001b[0m\u001b[0mkwargs\u001b[0m\u001b[0;34m)\u001b[0m\u001b[0;34m\u001b[0m\u001b[0;34m\u001b[0m\u001b[0m\n\u001b[0m\u001b[1;32m    190\u001b[0m \u001b[0;34m\u001b[0m\u001b[0m\n\u001b[1;32m    191\u001b[0m     \u001b[0;32mdef\u001b[0m \u001b[0mpreprocess\u001b[0m\u001b[0;34m(\u001b[0m\u001b[0mself\u001b[0m\u001b[0;34m,\u001b[0m \u001b[0msentence\u001b[0m\u001b[0;34m,\u001b[0m \u001b[0moffset_mapping\u001b[0m\u001b[0;34m=\u001b[0m\u001b[0;32mNone\u001b[0m\u001b[0;34m)\u001b[0m\u001b[0;34m:\u001b[0m\u001b[0;34m\u001b[0m\u001b[0;34m\u001b[0m\u001b[0m\n",
            "\u001b[0;32m/usr/local/lib/python3.7/dist-packages/transformers/pipelines/base.py\u001b[0m in \u001b[0;36m__call__\u001b[0;34m(self, inputs, num_workers, batch_size, *args, **kwargs)\u001b[0m\n\u001b[1;32m   1099\u001b[0m                 \u001b[0;32mreturn\u001b[0m \u001b[0mself\u001b[0m\u001b[0;34m.\u001b[0m\u001b[0miterate\u001b[0m\u001b[0;34m(\u001b[0m\u001b[0minputs\u001b[0m\u001b[0;34m,\u001b[0m \u001b[0mpreprocess_params\u001b[0m\u001b[0;34m,\u001b[0m \u001b[0mforward_params\u001b[0m\u001b[0;34m,\u001b[0m \u001b[0mpostprocess_params\u001b[0m\u001b[0;34m)\u001b[0m\u001b[0;34m\u001b[0m\u001b[0;34m\u001b[0m\u001b[0m\n\u001b[1;32m   1100\u001b[0m         \u001b[0;32melse\u001b[0m\u001b[0;34m:\u001b[0m\u001b[0;34m\u001b[0m\u001b[0;34m\u001b[0m\u001b[0m\n\u001b[0;32m-> 1101\u001b[0;31m             \u001b[0;32mreturn\u001b[0m \u001b[0mself\u001b[0m\u001b[0;34m.\u001b[0m\u001b[0mrun_single\u001b[0m\u001b[0;34m(\u001b[0m\u001b[0minputs\u001b[0m\u001b[0;34m,\u001b[0m \u001b[0mpreprocess_params\u001b[0m\u001b[0;34m,\u001b[0m \u001b[0mforward_params\u001b[0m\u001b[0;34m,\u001b[0m \u001b[0mpostprocess_params\u001b[0m\u001b[0;34m)\u001b[0m\u001b[0;34m\u001b[0m\u001b[0;34m\u001b[0m\u001b[0m\n\u001b[0m\u001b[1;32m   1102\u001b[0m \u001b[0;34m\u001b[0m\u001b[0m\n\u001b[1;32m   1103\u001b[0m     \u001b[0;32mdef\u001b[0m \u001b[0mrun_multi\u001b[0m\u001b[0;34m(\u001b[0m\u001b[0mself\u001b[0m\u001b[0;34m,\u001b[0m \u001b[0minputs\u001b[0m\u001b[0;34m,\u001b[0m \u001b[0mpreprocess_params\u001b[0m\u001b[0;34m,\u001b[0m \u001b[0mforward_params\u001b[0m\u001b[0;34m,\u001b[0m \u001b[0mpostprocess_params\u001b[0m\u001b[0;34m)\u001b[0m\u001b[0;34m:\u001b[0m\u001b[0;34m\u001b[0m\u001b[0;34m\u001b[0m\u001b[0m\n",
            "\u001b[0;32m/usr/local/lib/python3.7/dist-packages/transformers/pipelines/base.py\u001b[0m in \u001b[0;36mrun_single\u001b[0;34m(self, inputs, preprocess_params, forward_params, postprocess_params)\u001b[0m\n\u001b[1;32m   1106\u001b[0m     \u001b[0;32mdef\u001b[0m \u001b[0mrun_single\u001b[0m\u001b[0;34m(\u001b[0m\u001b[0mself\u001b[0m\u001b[0;34m,\u001b[0m \u001b[0minputs\u001b[0m\u001b[0;34m,\u001b[0m \u001b[0mpreprocess_params\u001b[0m\u001b[0;34m,\u001b[0m \u001b[0mforward_params\u001b[0m\u001b[0;34m,\u001b[0m \u001b[0mpostprocess_params\u001b[0m\u001b[0;34m)\u001b[0m\u001b[0;34m:\u001b[0m\u001b[0;34m\u001b[0m\u001b[0;34m\u001b[0m\u001b[0m\n\u001b[1;32m   1107\u001b[0m         \u001b[0mmodel_inputs\u001b[0m \u001b[0;34m=\u001b[0m \u001b[0mself\u001b[0m\u001b[0;34m.\u001b[0m\u001b[0mpreprocess\u001b[0m\u001b[0;34m(\u001b[0m\u001b[0minputs\u001b[0m\u001b[0;34m,\u001b[0m \u001b[0;34m**\u001b[0m\u001b[0mpreprocess_params\u001b[0m\u001b[0;34m)\u001b[0m\u001b[0;34m\u001b[0m\u001b[0;34m\u001b[0m\u001b[0m\n\u001b[0;32m-> 1108\u001b[0;31m         \u001b[0mmodel_outputs\u001b[0m \u001b[0;34m=\u001b[0m \u001b[0mself\u001b[0m\u001b[0;34m.\u001b[0m\u001b[0mforward\u001b[0m\u001b[0;34m(\u001b[0m\u001b[0mmodel_inputs\u001b[0m\u001b[0;34m,\u001b[0m \u001b[0;34m**\u001b[0m\u001b[0mforward_params\u001b[0m\u001b[0;34m)\u001b[0m\u001b[0;34m\u001b[0m\u001b[0;34m\u001b[0m\u001b[0m\n\u001b[0m\u001b[1;32m   1109\u001b[0m         \u001b[0moutputs\u001b[0m \u001b[0;34m=\u001b[0m \u001b[0mself\u001b[0m\u001b[0;34m.\u001b[0m\u001b[0mpostprocess\u001b[0m\u001b[0;34m(\u001b[0m\u001b[0mmodel_outputs\u001b[0m\u001b[0;34m,\u001b[0m \u001b[0;34m**\u001b[0m\u001b[0mpostprocess_params\u001b[0m\u001b[0;34m)\u001b[0m\u001b[0;34m\u001b[0m\u001b[0;34m\u001b[0m\u001b[0m\n\u001b[1;32m   1110\u001b[0m         \u001b[0;32mreturn\u001b[0m \u001b[0moutputs\u001b[0m\u001b[0;34m\u001b[0m\u001b[0;34m\u001b[0m\u001b[0m\n",
            "\u001b[0;32m/usr/local/lib/python3.7/dist-packages/transformers/pipelines/base.py\u001b[0m in \u001b[0;36mforward\u001b[0;34m(self, model_inputs, **forward_params)\u001b[0m\n\u001b[1;32m   1027\u001b[0m             \u001b[0;32mif\u001b[0m \u001b[0mself\u001b[0m\u001b[0;34m.\u001b[0m\u001b[0mframework\u001b[0m \u001b[0;34m==\u001b[0m \u001b[0;34m\"tf\"\u001b[0m\u001b[0;34m:\u001b[0m\u001b[0;34m\u001b[0m\u001b[0;34m\u001b[0m\u001b[0m\n\u001b[1;32m   1028\u001b[0m                 \u001b[0mmodel_inputs\u001b[0m\u001b[0;34m[\u001b[0m\u001b[0;34m\"training\"\u001b[0m\u001b[0;34m]\u001b[0m \u001b[0;34m=\u001b[0m \u001b[0;32mFalse\u001b[0m\u001b[0;34m\u001b[0m\u001b[0;34m\u001b[0m\u001b[0m\n\u001b[0;32m-> 1029\u001b[0;31m                 \u001b[0mmodel_outputs\u001b[0m \u001b[0;34m=\u001b[0m \u001b[0mself\u001b[0m\u001b[0;34m.\u001b[0m\u001b[0m_forward\u001b[0m\u001b[0;34m(\u001b[0m\u001b[0mmodel_inputs\u001b[0m\u001b[0;34m,\u001b[0m \u001b[0;34m**\u001b[0m\u001b[0mforward_params\u001b[0m\u001b[0;34m)\u001b[0m\u001b[0;34m\u001b[0m\u001b[0;34m\u001b[0m\u001b[0m\n\u001b[0m\u001b[1;32m   1030\u001b[0m             \u001b[0;32melif\u001b[0m \u001b[0mself\u001b[0m\u001b[0;34m.\u001b[0m\u001b[0mframework\u001b[0m \u001b[0;34m==\u001b[0m \u001b[0;34m\"pt\"\u001b[0m\u001b[0;34m:\u001b[0m\u001b[0;34m\u001b[0m\u001b[0;34m\u001b[0m\u001b[0m\n\u001b[1;32m   1031\u001b[0m                 \u001b[0minference_context\u001b[0m \u001b[0;34m=\u001b[0m \u001b[0mself\u001b[0m\u001b[0;34m.\u001b[0m\u001b[0mget_inference_context\u001b[0m\u001b[0;34m(\u001b[0m\u001b[0;34m)\u001b[0m\u001b[0;34m\u001b[0m\u001b[0;34m\u001b[0m\u001b[0m\n",
            "\u001b[0;32m/usr/local/lib/python3.7/dist-packages/transformers/pipelines/token_classification.py\u001b[0m in \u001b[0;36m_forward\u001b[0;34m(self, model_inputs)\u001b[0m\n\u001b[1;32m    212\u001b[0m         \u001b[0msentence\u001b[0m \u001b[0;34m=\u001b[0m \u001b[0mmodel_inputs\u001b[0m\u001b[0;34m.\u001b[0m\u001b[0mpop\u001b[0m\u001b[0;34m(\u001b[0m\u001b[0;34m\"sentence\"\u001b[0m\u001b[0;34m)\u001b[0m\u001b[0;34m\u001b[0m\u001b[0;34m\u001b[0m\u001b[0m\n\u001b[1;32m    213\u001b[0m         \u001b[0;32mif\u001b[0m \u001b[0mself\u001b[0m\u001b[0;34m.\u001b[0m\u001b[0mframework\u001b[0m \u001b[0;34m==\u001b[0m \u001b[0;34m\"tf\"\u001b[0m\u001b[0;34m:\u001b[0m\u001b[0;34m\u001b[0m\u001b[0;34m\u001b[0m\u001b[0m\n\u001b[0;32m--> 214\u001b[0;31m             \u001b[0mlogits\u001b[0m \u001b[0;34m=\u001b[0m \u001b[0mself\u001b[0m\u001b[0;34m.\u001b[0m\u001b[0mmodel\u001b[0m\u001b[0;34m(\u001b[0m\u001b[0mmodel_inputs\u001b[0m\u001b[0;34m.\u001b[0m\u001b[0mdata\u001b[0m\u001b[0;34m)\u001b[0m\u001b[0;34m[\u001b[0m\u001b[0;36m0\u001b[0m\u001b[0;34m]\u001b[0m\u001b[0;34m\u001b[0m\u001b[0;34m\u001b[0m\u001b[0m\n\u001b[0m\u001b[1;32m    215\u001b[0m         \u001b[0;32melse\u001b[0m\u001b[0;34m:\u001b[0m\u001b[0;34m\u001b[0m\u001b[0;34m\u001b[0m\u001b[0m\n\u001b[1;32m    216\u001b[0m             \u001b[0mlogits\u001b[0m \u001b[0;34m=\u001b[0m \u001b[0mself\u001b[0m\u001b[0;34m.\u001b[0m\u001b[0mmodel\u001b[0m\u001b[0;34m(\u001b[0m\u001b[0;34m**\u001b[0m\u001b[0mmodel_inputs\u001b[0m\u001b[0;34m)\u001b[0m\u001b[0;34m[\u001b[0m\u001b[0;36m0\u001b[0m\u001b[0;34m]\u001b[0m\u001b[0;34m\u001b[0m\u001b[0;34m\u001b[0m\u001b[0m\n",
            "\u001b[0;32m/usr/local/lib/python3.7/dist-packages/keras/utils/traceback_utils.py\u001b[0m in \u001b[0;36merror_handler\u001b[0;34m(*args, **kwargs)\u001b[0m\n\u001b[1;32m     62\u001b[0m     \u001b[0mfiltered_tb\u001b[0m \u001b[0;34m=\u001b[0m \u001b[0;32mNone\u001b[0m\u001b[0;34m\u001b[0m\u001b[0;34m\u001b[0m\u001b[0m\n\u001b[1;32m     63\u001b[0m     \u001b[0;32mtry\u001b[0m\u001b[0;34m:\u001b[0m\u001b[0;34m\u001b[0m\u001b[0;34m\u001b[0m\u001b[0m\n\u001b[0;32m---> 64\u001b[0;31m       \u001b[0;32mreturn\u001b[0m \u001b[0mfn\u001b[0m\u001b[0;34m(\u001b[0m\u001b[0;34m*\u001b[0m\u001b[0margs\u001b[0m\u001b[0;34m,\u001b[0m \u001b[0;34m**\u001b[0m\u001b[0mkwargs\u001b[0m\u001b[0;34m)\u001b[0m\u001b[0;34m\u001b[0m\u001b[0;34m\u001b[0m\u001b[0m\n\u001b[0m\u001b[1;32m     65\u001b[0m     \u001b[0;32mexcept\u001b[0m \u001b[0mException\u001b[0m \u001b[0;32mas\u001b[0m \u001b[0me\u001b[0m\u001b[0;34m:\u001b[0m  \u001b[0;31m# pylint: disable=broad-except\u001b[0m\u001b[0;34m\u001b[0m\u001b[0;34m\u001b[0m\u001b[0m\n\u001b[1;32m     66\u001b[0m       \u001b[0mfiltered_tb\u001b[0m \u001b[0;34m=\u001b[0m \u001b[0m_process_traceback_frames\u001b[0m\u001b[0;34m(\u001b[0m\u001b[0me\u001b[0m\u001b[0;34m.\u001b[0m\u001b[0m__traceback__\u001b[0m\u001b[0;34m)\u001b[0m\u001b[0;34m\u001b[0m\u001b[0;34m\u001b[0m\u001b[0m\n",
            "\u001b[0;32m/usr/local/lib/python3.7/dist-packages/keras/engine/base_layer.py\u001b[0m in \u001b[0;36m__call__\u001b[0;34m(self, *args, **kwargs)\u001b[0m\n\u001b[1;32m   1081\u001b[0m         with autocast_variable.enable_auto_cast_variables(\n\u001b[1;32m   1082\u001b[0m             self._compute_dtype_object):\n\u001b[0;32m-> 1083\u001b[0;31m           \u001b[0moutputs\u001b[0m \u001b[0;34m=\u001b[0m \u001b[0mcall_fn\u001b[0m\u001b[0;34m(\u001b[0m\u001b[0minputs\u001b[0m\u001b[0;34m,\u001b[0m \u001b[0;34m*\u001b[0m\u001b[0margs\u001b[0m\u001b[0;34m,\u001b[0m \u001b[0;34m**\u001b[0m\u001b[0mkwargs\u001b[0m\u001b[0;34m)\u001b[0m\u001b[0;34m\u001b[0m\u001b[0;34m\u001b[0m\u001b[0m\n\u001b[0m\u001b[1;32m   1084\u001b[0m \u001b[0;34m\u001b[0m\u001b[0m\n\u001b[1;32m   1085\u001b[0m         \u001b[0;32mif\u001b[0m \u001b[0mself\u001b[0m\u001b[0;34m.\u001b[0m\u001b[0m_activity_regularizer\u001b[0m\u001b[0;34m:\u001b[0m\u001b[0;34m\u001b[0m\u001b[0;34m\u001b[0m\u001b[0m\n",
            "\u001b[0;32m/usr/local/lib/python3.7/dist-packages/keras/utils/traceback_utils.py\u001b[0m in \u001b[0;36merror_handler\u001b[0;34m(*args, **kwargs)\u001b[0m\n\u001b[1;32m     90\u001b[0m     \u001b[0mbound_signature\u001b[0m \u001b[0;34m=\u001b[0m \u001b[0;32mNone\u001b[0m\u001b[0;34m\u001b[0m\u001b[0;34m\u001b[0m\u001b[0m\n\u001b[1;32m     91\u001b[0m     \u001b[0;32mtry\u001b[0m\u001b[0;34m:\u001b[0m\u001b[0;34m\u001b[0m\u001b[0;34m\u001b[0m\u001b[0m\n\u001b[0;32m---> 92\u001b[0;31m       \u001b[0;32mreturn\u001b[0m \u001b[0mfn\u001b[0m\u001b[0;34m(\u001b[0m\u001b[0;34m*\u001b[0m\u001b[0margs\u001b[0m\u001b[0;34m,\u001b[0m \u001b[0;34m**\u001b[0m\u001b[0mkwargs\u001b[0m\u001b[0;34m)\u001b[0m\u001b[0;34m\u001b[0m\u001b[0;34m\u001b[0m\u001b[0m\n\u001b[0m\u001b[1;32m     93\u001b[0m     \u001b[0;32mexcept\u001b[0m \u001b[0mException\u001b[0m \u001b[0;32mas\u001b[0m \u001b[0me\u001b[0m\u001b[0;34m:\u001b[0m  \u001b[0;31m# pylint: disable=broad-except\u001b[0m\u001b[0;34m\u001b[0m\u001b[0;34m\u001b[0m\u001b[0m\n\u001b[1;32m     94\u001b[0m       \u001b[0;32mif\u001b[0m \u001b[0mhasattr\u001b[0m\u001b[0;34m(\u001b[0m\u001b[0me\u001b[0m\u001b[0;34m,\u001b[0m \u001b[0;34m'_keras_call_info_injected'\u001b[0m\u001b[0;34m)\u001b[0m\u001b[0;34m:\u001b[0m\u001b[0;34m\u001b[0m\u001b[0;34m\u001b[0m\u001b[0m\n",
            "\u001b[0;32m/usr/local/lib/python3.7/dist-packages/transformers/models/bert/modeling_tf_bert.py\u001b[0m in \u001b[0;36mcall\u001b[0;34m(self, input_ids, attention_mask, token_type_ids, position_ids, head_mask, inputs_embeds, output_attentions, output_hidden_states, return_dict, labels, training, **kwargs)\u001b[0m\n\u001b[1;32m   2017\u001b[0m             \u001b[0moutput_hidden_states\u001b[0m\u001b[0;34m=\u001b[0m\u001b[0minputs\u001b[0m\u001b[0;34m[\u001b[0m\u001b[0;34m\"output_hidden_states\"\u001b[0m\u001b[0;34m]\u001b[0m\u001b[0;34m,\u001b[0m\u001b[0;34m\u001b[0m\u001b[0;34m\u001b[0m\u001b[0m\n\u001b[1;32m   2018\u001b[0m             \u001b[0mreturn_dict\u001b[0m\u001b[0;34m=\u001b[0m\u001b[0minputs\u001b[0m\u001b[0;34m[\u001b[0m\u001b[0;34m\"return_dict\"\u001b[0m\u001b[0;34m]\u001b[0m\u001b[0;34m,\u001b[0m\u001b[0;34m\u001b[0m\u001b[0;34m\u001b[0m\u001b[0m\n\u001b[0;32m-> 2019\u001b[0;31m             \u001b[0mtraining\u001b[0m\u001b[0;34m=\u001b[0m\u001b[0minputs\u001b[0m\u001b[0;34m[\u001b[0m\u001b[0;34m\"training\"\u001b[0m\u001b[0;34m]\u001b[0m\u001b[0;34m,\u001b[0m\u001b[0;34m\u001b[0m\u001b[0;34m\u001b[0m\u001b[0m\n\u001b[0m\u001b[1;32m   2020\u001b[0m         )\n\u001b[1;32m   2021\u001b[0m         \u001b[0msequence_output\u001b[0m \u001b[0;34m=\u001b[0m \u001b[0moutputs\u001b[0m\u001b[0;34m[\u001b[0m\u001b[0;36m0\u001b[0m\u001b[0;34m]\u001b[0m\u001b[0;34m\u001b[0m\u001b[0;34m\u001b[0m\u001b[0m\n",
            "\u001b[0;32m/usr/local/lib/python3.7/dist-packages/keras/utils/traceback_utils.py\u001b[0m in \u001b[0;36merror_handler\u001b[0;34m(*args, **kwargs)\u001b[0m\n\u001b[1;32m     62\u001b[0m     \u001b[0mfiltered_tb\u001b[0m \u001b[0;34m=\u001b[0m \u001b[0;32mNone\u001b[0m\u001b[0;34m\u001b[0m\u001b[0;34m\u001b[0m\u001b[0m\n\u001b[1;32m     63\u001b[0m     \u001b[0;32mtry\u001b[0m\u001b[0;34m:\u001b[0m\u001b[0;34m\u001b[0m\u001b[0;34m\u001b[0m\u001b[0m\n\u001b[0;32m---> 64\u001b[0;31m       \u001b[0;32mreturn\u001b[0m \u001b[0mfn\u001b[0m\u001b[0;34m(\u001b[0m\u001b[0;34m*\u001b[0m\u001b[0margs\u001b[0m\u001b[0;34m,\u001b[0m \u001b[0;34m**\u001b[0m\u001b[0mkwargs\u001b[0m\u001b[0;34m)\u001b[0m\u001b[0;34m\u001b[0m\u001b[0;34m\u001b[0m\u001b[0m\n\u001b[0m\u001b[1;32m     65\u001b[0m     \u001b[0;32mexcept\u001b[0m \u001b[0mException\u001b[0m \u001b[0;32mas\u001b[0m \u001b[0me\u001b[0m\u001b[0;34m:\u001b[0m  \u001b[0;31m# pylint: disable=broad-except\u001b[0m\u001b[0;34m\u001b[0m\u001b[0;34m\u001b[0m\u001b[0m\n\u001b[1;32m     66\u001b[0m       \u001b[0mfiltered_tb\u001b[0m \u001b[0;34m=\u001b[0m \u001b[0m_process_traceback_frames\u001b[0m\u001b[0;34m(\u001b[0m\u001b[0me\u001b[0m\u001b[0;34m.\u001b[0m\u001b[0m__traceback__\u001b[0m\u001b[0;34m)\u001b[0m\u001b[0;34m\u001b[0m\u001b[0;34m\u001b[0m\u001b[0m\n",
            "\u001b[0;32m/usr/local/lib/python3.7/dist-packages/keras/engine/base_layer.py\u001b[0m in \u001b[0;36m__call__\u001b[0;34m(self, *args, **kwargs)\u001b[0m\n\u001b[1;32m   1081\u001b[0m         with autocast_variable.enable_auto_cast_variables(\n\u001b[1;32m   1082\u001b[0m             self._compute_dtype_object):\n\u001b[0;32m-> 1083\u001b[0;31m           \u001b[0moutputs\u001b[0m \u001b[0;34m=\u001b[0m \u001b[0mcall_fn\u001b[0m\u001b[0;34m(\u001b[0m\u001b[0minputs\u001b[0m\u001b[0;34m,\u001b[0m \u001b[0;34m*\u001b[0m\u001b[0margs\u001b[0m\u001b[0;34m,\u001b[0m \u001b[0;34m**\u001b[0m\u001b[0mkwargs\u001b[0m\u001b[0;34m)\u001b[0m\u001b[0;34m\u001b[0m\u001b[0;34m\u001b[0m\u001b[0m\n\u001b[0m\u001b[1;32m   1084\u001b[0m \u001b[0;34m\u001b[0m\u001b[0m\n\u001b[1;32m   1085\u001b[0m         \u001b[0;32mif\u001b[0m \u001b[0mself\u001b[0m\u001b[0;34m.\u001b[0m\u001b[0m_activity_regularizer\u001b[0m\u001b[0;34m:\u001b[0m\u001b[0;34m\u001b[0m\u001b[0;34m\u001b[0m\u001b[0m\n",
            "\u001b[0;32m/usr/local/lib/python3.7/dist-packages/keras/utils/traceback_utils.py\u001b[0m in \u001b[0;36merror_handler\u001b[0;34m(*args, **kwargs)\u001b[0m\n\u001b[1;32m     90\u001b[0m     \u001b[0mbound_signature\u001b[0m \u001b[0;34m=\u001b[0m \u001b[0;32mNone\u001b[0m\u001b[0;34m\u001b[0m\u001b[0;34m\u001b[0m\u001b[0m\n\u001b[1;32m     91\u001b[0m     \u001b[0;32mtry\u001b[0m\u001b[0;34m:\u001b[0m\u001b[0;34m\u001b[0m\u001b[0;34m\u001b[0m\u001b[0m\n\u001b[0;32m---> 92\u001b[0;31m       \u001b[0;32mreturn\u001b[0m \u001b[0mfn\u001b[0m\u001b[0;34m(\u001b[0m\u001b[0;34m*\u001b[0m\u001b[0margs\u001b[0m\u001b[0;34m,\u001b[0m \u001b[0;34m**\u001b[0m\u001b[0mkwargs\u001b[0m\u001b[0;34m)\u001b[0m\u001b[0;34m\u001b[0m\u001b[0;34m\u001b[0m\u001b[0m\n\u001b[0m\u001b[1;32m     93\u001b[0m     \u001b[0;32mexcept\u001b[0m \u001b[0mException\u001b[0m \u001b[0;32mas\u001b[0m \u001b[0me\u001b[0m\u001b[0;34m:\u001b[0m  \u001b[0;31m# pylint: disable=broad-except\u001b[0m\u001b[0;34m\u001b[0m\u001b[0;34m\u001b[0m\u001b[0m\n\u001b[1;32m     94\u001b[0m       \u001b[0;32mif\u001b[0m \u001b[0mhasattr\u001b[0m\u001b[0;34m(\u001b[0m\u001b[0me\u001b[0m\u001b[0;34m,\u001b[0m \u001b[0;34m'_keras_call_info_injected'\u001b[0m\u001b[0;34m)\u001b[0m\u001b[0;34m:\u001b[0m\u001b[0;34m\u001b[0m\u001b[0;34m\u001b[0m\u001b[0m\n",
            "\u001b[0;32m/usr/local/lib/python3.7/dist-packages/transformers/models/bert/modeling_tf_bert.py\u001b[0m in \u001b[0;36mcall\u001b[0;34m(self, input_ids, attention_mask, token_type_ids, position_ids, head_mask, inputs_embeds, encoder_hidden_states, encoder_attention_mask, past_key_values, use_cache, output_attentions, output_hidden_states, return_dict, training, **kwargs)\u001b[0m\n\u001b[1;32m    877\u001b[0m             \u001b[0moutput_hidden_states\u001b[0m\u001b[0;34m=\u001b[0m\u001b[0minputs\u001b[0m\u001b[0;34m[\u001b[0m\u001b[0;34m\"output_hidden_states\"\u001b[0m\u001b[0;34m]\u001b[0m\u001b[0;34m,\u001b[0m\u001b[0;34m\u001b[0m\u001b[0;34m\u001b[0m\u001b[0m\n\u001b[1;32m    878\u001b[0m             \u001b[0mreturn_dict\u001b[0m\u001b[0;34m=\u001b[0m\u001b[0minputs\u001b[0m\u001b[0;34m[\u001b[0m\u001b[0;34m\"return_dict\"\u001b[0m\u001b[0;34m]\u001b[0m\u001b[0;34m,\u001b[0m\u001b[0;34m\u001b[0m\u001b[0;34m\u001b[0m\u001b[0m\n\u001b[0;32m--> 879\u001b[0;31m             \u001b[0mtraining\u001b[0m\u001b[0;34m=\u001b[0m\u001b[0minputs\u001b[0m\u001b[0;34m[\u001b[0m\u001b[0;34m\"training\"\u001b[0m\u001b[0;34m]\u001b[0m\u001b[0;34m,\u001b[0m\u001b[0;34m\u001b[0m\u001b[0;34m\u001b[0m\u001b[0m\n\u001b[0m\u001b[1;32m    880\u001b[0m         )\n\u001b[1;32m    881\u001b[0m \u001b[0;34m\u001b[0m\u001b[0m\n",
            "\u001b[0;32m/usr/local/lib/python3.7/dist-packages/keras/utils/traceback_utils.py\u001b[0m in \u001b[0;36merror_handler\u001b[0;34m(*args, **kwargs)\u001b[0m\n\u001b[1;32m     62\u001b[0m     \u001b[0mfiltered_tb\u001b[0m \u001b[0;34m=\u001b[0m \u001b[0;32mNone\u001b[0m\u001b[0;34m\u001b[0m\u001b[0;34m\u001b[0m\u001b[0m\n\u001b[1;32m     63\u001b[0m     \u001b[0;32mtry\u001b[0m\u001b[0;34m:\u001b[0m\u001b[0;34m\u001b[0m\u001b[0;34m\u001b[0m\u001b[0m\n\u001b[0;32m---> 64\u001b[0;31m       \u001b[0;32mreturn\u001b[0m \u001b[0mfn\u001b[0m\u001b[0;34m(\u001b[0m\u001b[0;34m*\u001b[0m\u001b[0margs\u001b[0m\u001b[0;34m,\u001b[0m \u001b[0;34m**\u001b[0m\u001b[0mkwargs\u001b[0m\u001b[0;34m)\u001b[0m\u001b[0;34m\u001b[0m\u001b[0;34m\u001b[0m\u001b[0m\n\u001b[0m\u001b[1;32m     65\u001b[0m     \u001b[0;32mexcept\u001b[0m \u001b[0mException\u001b[0m \u001b[0;32mas\u001b[0m \u001b[0me\u001b[0m\u001b[0;34m:\u001b[0m  \u001b[0;31m# pylint: disable=broad-except\u001b[0m\u001b[0;34m\u001b[0m\u001b[0;34m\u001b[0m\u001b[0m\n\u001b[1;32m     66\u001b[0m       \u001b[0mfiltered_tb\u001b[0m \u001b[0;34m=\u001b[0m \u001b[0m_process_traceback_frames\u001b[0m\u001b[0;34m(\u001b[0m\u001b[0me\u001b[0m\u001b[0;34m.\u001b[0m\u001b[0m__traceback__\u001b[0m\u001b[0;34m)\u001b[0m\u001b[0;34m\u001b[0m\u001b[0;34m\u001b[0m\u001b[0m\n",
            "\u001b[0;32m/usr/local/lib/python3.7/dist-packages/keras/engine/base_layer.py\u001b[0m in \u001b[0;36m__call__\u001b[0;34m(self, *args, **kwargs)\u001b[0m\n\u001b[1;32m   1081\u001b[0m         with autocast_variable.enable_auto_cast_variables(\n\u001b[1;32m   1082\u001b[0m             self._compute_dtype_object):\n\u001b[0;32m-> 1083\u001b[0;31m           \u001b[0moutputs\u001b[0m \u001b[0;34m=\u001b[0m \u001b[0mcall_fn\u001b[0m\u001b[0;34m(\u001b[0m\u001b[0minputs\u001b[0m\u001b[0;34m,\u001b[0m \u001b[0;34m*\u001b[0m\u001b[0margs\u001b[0m\u001b[0;34m,\u001b[0m \u001b[0;34m**\u001b[0m\u001b[0mkwargs\u001b[0m\u001b[0;34m)\u001b[0m\u001b[0;34m\u001b[0m\u001b[0;34m\u001b[0m\u001b[0m\n\u001b[0m\u001b[1;32m   1084\u001b[0m \u001b[0;34m\u001b[0m\u001b[0m\n\u001b[1;32m   1085\u001b[0m         \u001b[0;32mif\u001b[0m \u001b[0mself\u001b[0m\u001b[0;34m.\u001b[0m\u001b[0m_activity_regularizer\u001b[0m\u001b[0;34m:\u001b[0m\u001b[0;34m\u001b[0m\u001b[0;34m\u001b[0m\u001b[0m\n",
            "\u001b[0;32m/usr/local/lib/python3.7/dist-packages/keras/utils/traceback_utils.py\u001b[0m in \u001b[0;36merror_handler\u001b[0;34m(*args, **kwargs)\u001b[0m\n\u001b[1;32m     90\u001b[0m     \u001b[0mbound_signature\u001b[0m \u001b[0;34m=\u001b[0m \u001b[0;32mNone\u001b[0m\u001b[0;34m\u001b[0m\u001b[0;34m\u001b[0m\u001b[0m\n\u001b[1;32m     91\u001b[0m     \u001b[0;32mtry\u001b[0m\u001b[0;34m:\u001b[0m\u001b[0;34m\u001b[0m\u001b[0;34m\u001b[0m\u001b[0m\n\u001b[0;32m---> 92\u001b[0;31m       \u001b[0;32mreturn\u001b[0m \u001b[0mfn\u001b[0m\u001b[0;34m(\u001b[0m\u001b[0;34m*\u001b[0m\u001b[0margs\u001b[0m\u001b[0;34m,\u001b[0m \u001b[0;34m**\u001b[0m\u001b[0mkwargs\u001b[0m\u001b[0;34m)\u001b[0m\u001b[0;34m\u001b[0m\u001b[0;34m\u001b[0m\u001b[0m\n\u001b[0m\u001b[1;32m     93\u001b[0m     \u001b[0;32mexcept\u001b[0m \u001b[0mException\u001b[0m \u001b[0;32mas\u001b[0m \u001b[0me\u001b[0m\u001b[0;34m:\u001b[0m  \u001b[0;31m# pylint: disable=broad-except\u001b[0m\u001b[0;34m\u001b[0m\u001b[0;34m\u001b[0m\u001b[0m\n\u001b[1;32m     94\u001b[0m       \u001b[0;32mif\u001b[0m \u001b[0mhasattr\u001b[0m\u001b[0;34m(\u001b[0m\u001b[0me\u001b[0m\u001b[0;34m,\u001b[0m \u001b[0;34m'_keras_call_info_injected'\u001b[0m\u001b[0;34m)\u001b[0m\u001b[0;34m:\u001b[0m\u001b[0;34m\u001b[0m\u001b[0;34m\u001b[0m\u001b[0m\n",
            "\u001b[0;32m/usr/local/lib/python3.7/dist-packages/transformers/models/bert/modeling_tf_bert.py\u001b[0m in \u001b[0;36mcall\u001b[0;34m(self, hidden_states, attention_mask, head_mask, encoder_hidden_states, encoder_attention_mask, past_key_values, use_cache, output_attentions, output_hidden_states, return_dict, training)\u001b[0m\n\u001b[1;32m    547\u001b[0m                 \u001b[0mpast_key_value\u001b[0m\u001b[0;34m=\u001b[0m\u001b[0mpast_key_value\u001b[0m\u001b[0;34m,\u001b[0m\u001b[0;34m\u001b[0m\u001b[0;34m\u001b[0m\u001b[0m\n\u001b[1;32m    548\u001b[0m                 \u001b[0moutput_attentions\u001b[0m\u001b[0;34m=\u001b[0m\u001b[0moutput_attentions\u001b[0m\u001b[0;34m,\u001b[0m\u001b[0;34m\u001b[0m\u001b[0;34m\u001b[0m\u001b[0m\n\u001b[0;32m--> 549\u001b[0;31m                 \u001b[0mtraining\u001b[0m\u001b[0;34m=\u001b[0m\u001b[0mtraining\u001b[0m\u001b[0;34m,\u001b[0m\u001b[0;34m\u001b[0m\u001b[0;34m\u001b[0m\u001b[0m\n\u001b[0m\u001b[1;32m    550\u001b[0m             )\n\u001b[1;32m    551\u001b[0m             \u001b[0mhidden_states\u001b[0m \u001b[0;34m=\u001b[0m \u001b[0mlayer_outputs\u001b[0m\u001b[0;34m[\u001b[0m\u001b[0;36m0\u001b[0m\u001b[0;34m]\u001b[0m\u001b[0;34m\u001b[0m\u001b[0;34m\u001b[0m\u001b[0m\n",
            "\u001b[0;32m/usr/local/lib/python3.7/dist-packages/keras/utils/traceback_utils.py\u001b[0m in \u001b[0;36merror_handler\u001b[0;34m(*args, **kwargs)\u001b[0m\n\u001b[1;32m     62\u001b[0m     \u001b[0mfiltered_tb\u001b[0m \u001b[0;34m=\u001b[0m \u001b[0;32mNone\u001b[0m\u001b[0;34m\u001b[0m\u001b[0;34m\u001b[0m\u001b[0m\n\u001b[1;32m     63\u001b[0m     \u001b[0;32mtry\u001b[0m\u001b[0;34m:\u001b[0m\u001b[0;34m\u001b[0m\u001b[0;34m\u001b[0m\u001b[0m\n\u001b[0;32m---> 64\u001b[0;31m       \u001b[0;32mreturn\u001b[0m \u001b[0mfn\u001b[0m\u001b[0;34m(\u001b[0m\u001b[0;34m*\u001b[0m\u001b[0margs\u001b[0m\u001b[0;34m,\u001b[0m \u001b[0;34m**\u001b[0m\u001b[0mkwargs\u001b[0m\u001b[0;34m)\u001b[0m\u001b[0;34m\u001b[0m\u001b[0;34m\u001b[0m\u001b[0m\n\u001b[0m\u001b[1;32m     65\u001b[0m     \u001b[0;32mexcept\u001b[0m \u001b[0mException\u001b[0m \u001b[0;32mas\u001b[0m \u001b[0me\u001b[0m\u001b[0;34m:\u001b[0m  \u001b[0;31m# pylint: disable=broad-except\u001b[0m\u001b[0;34m\u001b[0m\u001b[0;34m\u001b[0m\u001b[0m\n\u001b[1;32m     66\u001b[0m       \u001b[0mfiltered_tb\u001b[0m \u001b[0;34m=\u001b[0m \u001b[0m_process_traceback_frames\u001b[0m\u001b[0;34m(\u001b[0m\u001b[0me\u001b[0m\u001b[0;34m.\u001b[0m\u001b[0m__traceback__\u001b[0m\u001b[0;34m)\u001b[0m\u001b[0;34m\u001b[0m\u001b[0;34m\u001b[0m\u001b[0m\n",
            "\u001b[0;32m/usr/local/lib/python3.7/dist-packages/keras/engine/base_layer.py\u001b[0m in \u001b[0;36m__call__\u001b[0;34m(self, *args, **kwargs)\u001b[0m\n\u001b[1;32m   1081\u001b[0m         with autocast_variable.enable_auto_cast_variables(\n\u001b[1;32m   1082\u001b[0m             self._compute_dtype_object):\n\u001b[0;32m-> 1083\u001b[0;31m           \u001b[0moutputs\u001b[0m \u001b[0;34m=\u001b[0m \u001b[0mcall_fn\u001b[0m\u001b[0;34m(\u001b[0m\u001b[0minputs\u001b[0m\u001b[0;34m,\u001b[0m \u001b[0;34m*\u001b[0m\u001b[0margs\u001b[0m\u001b[0;34m,\u001b[0m \u001b[0;34m**\u001b[0m\u001b[0mkwargs\u001b[0m\u001b[0;34m)\u001b[0m\u001b[0;34m\u001b[0m\u001b[0;34m\u001b[0m\u001b[0m\n\u001b[0m\u001b[1;32m   1084\u001b[0m \u001b[0;34m\u001b[0m\u001b[0m\n\u001b[1;32m   1085\u001b[0m         \u001b[0;32mif\u001b[0m \u001b[0mself\u001b[0m\u001b[0;34m.\u001b[0m\u001b[0m_activity_regularizer\u001b[0m\u001b[0;34m:\u001b[0m\u001b[0;34m\u001b[0m\u001b[0;34m\u001b[0m\u001b[0m\n",
            "\u001b[0;32m/usr/local/lib/python3.7/dist-packages/keras/utils/traceback_utils.py\u001b[0m in \u001b[0;36merror_handler\u001b[0;34m(*args, **kwargs)\u001b[0m\n\u001b[1;32m     90\u001b[0m     \u001b[0mbound_signature\u001b[0m \u001b[0;34m=\u001b[0m \u001b[0;32mNone\u001b[0m\u001b[0;34m\u001b[0m\u001b[0;34m\u001b[0m\u001b[0m\n\u001b[1;32m     91\u001b[0m     \u001b[0;32mtry\u001b[0m\u001b[0;34m:\u001b[0m\u001b[0;34m\u001b[0m\u001b[0;34m\u001b[0m\u001b[0m\n\u001b[0;32m---> 92\u001b[0;31m       \u001b[0;32mreturn\u001b[0m \u001b[0mfn\u001b[0m\u001b[0;34m(\u001b[0m\u001b[0;34m*\u001b[0m\u001b[0margs\u001b[0m\u001b[0;34m,\u001b[0m \u001b[0;34m**\u001b[0m\u001b[0mkwargs\u001b[0m\u001b[0;34m)\u001b[0m\u001b[0;34m\u001b[0m\u001b[0;34m\u001b[0m\u001b[0m\n\u001b[0m\u001b[1;32m     93\u001b[0m     \u001b[0;32mexcept\u001b[0m \u001b[0mException\u001b[0m \u001b[0;32mas\u001b[0m \u001b[0me\u001b[0m\u001b[0;34m:\u001b[0m  \u001b[0;31m# pylint: disable=broad-except\u001b[0m\u001b[0;34m\u001b[0m\u001b[0;34m\u001b[0m\u001b[0m\n\u001b[1;32m     94\u001b[0m       \u001b[0;32mif\u001b[0m \u001b[0mhasattr\u001b[0m\u001b[0;34m(\u001b[0m\u001b[0me\u001b[0m\u001b[0;34m,\u001b[0m \u001b[0;34m'_keras_call_info_injected'\u001b[0m\u001b[0;34m)\u001b[0m\u001b[0;34m:\u001b[0m\u001b[0;34m\u001b[0m\u001b[0;34m\u001b[0m\u001b[0m\n",
            "\u001b[0;32m/usr/local/lib/python3.7/dist-packages/transformers/models/bert/modeling_tf_bert.py\u001b[0m in \u001b[0;36mcall\u001b[0;34m(self, hidden_states, attention_mask, head_mask, encoder_hidden_states, encoder_attention_mask, past_key_value, output_attentions, training)\u001b[0m\n\u001b[1;32m    457\u001b[0m             \u001b[0mpast_key_value\u001b[0m\u001b[0;34m=\u001b[0m\u001b[0mself_attn_past_key_value\u001b[0m\u001b[0;34m,\u001b[0m\u001b[0;34m\u001b[0m\u001b[0;34m\u001b[0m\u001b[0m\n\u001b[1;32m    458\u001b[0m             \u001b[0moutput_attentions\u001b[0m\u001b[0;34m=\u001b[0m\u001b[0moutput_attentions\u001b[0m\u001b[0;34m,\u001b[0m\u001b[0;34m\u001b[0m\u001b[0;34m\u001b[0m\u001b[0m\n\u001b[0;32m--> 459\u001b[0;31m             \u001b[0mtraining\u001b[0m\u001b[0;34m=\u001b[0m\u001b[0mtraining\u001b[0m\u001b[0;34m,\u001b[0m\u001b[0;34m\u001b[0m\u001b[0;34m\u001b[0m\u001b[0m\n\u001b[0m\u001b[1;32m    460\u001b[0m         )\n\u001b[1;32m    461\u001b[0m         \u001b[0mattention_output\u001b[0m \u001b[0;34m=\u001b[0m \u001b[0mself_attention_outputs\u001b[0m\u001b[0;34m[\u001b[0m\u001b[0;36m0\u001b[0m\u001b[0;34m]\u001b[0m\u001b[0;34m\u001b[0m\u001b[0;34m\u001b[0m\u001b[0m\n",
            "\u001b[0;32m/usr/local/lib/python3.7/dist-packages/keras/utils/traceback_utils.py\u001b[0m in \u001b[0;36merror_handler\u001b[0;34m(*args, **kwargs)\u001b[0m\n\u001b[1;32m     62\u001b[0m     \u001b[0mfiltered_tb\u001b[0m \u001b[0;34m=\u001b[0m \u001b[0;32mNone\u001b[0m\u001b[0;34m\u001b[0m\u001b[0;34m\u001b[0m\u001b[0m\n\u001b[1;32m     63\u001b[0m     \u001b[0;32mtry\u001b[0m\u001b[0;34m:\u001b[0m\u001b[0;34m\u001b[0m\u001b[0;34m\u001b[0m\u001b[0m\n\u001b[0;32m---> 64\u001b[0;31m       \u001b[0;32mreturn\u001b[0m \u001b[0mfn\u001b[0m\u001b[0;34m(\u001b[0m\u001b[0;34m*\u001b[0m\u001b[0margs\u001b[0m\u001b[0;34m,\u001b[0m \u001b[0;34m**\u001b[0m\u001b[0mkwargs\u001b[0m\u001b[0;34m)\u001b[0m\u001b[0;34m\u001b[0m\u001b[0;34m\u001b[0m\u001b[0m\n\u001b[0m\u001b[1;32m     65\u001b[0m     \u001b[0;32mexcept\u001b[0m \u001b[0mException\u001b[0m \u001b[0;32mas\u001b[0m \u001b[0me\u001b[0m\u001b[0;34m:\u001b[0m  \u001b[0;31m# pylint: disable=broad-except\u001b[0m\u001b[0;34m\u001b[0m\u001b[0;34m\u001b[0m\u001b[0m\n\u001b[1;32m     66\u001b[0m       \u001b[0mfiltered_tb\u001b[0m \u001b[0;34m=\u001b[0m \u001b[0m_process_traceback_frames\u001b[0m\u001b[0;34m(\u001b[0m\u001b[0me\u001b[0m\u001b[0;34m.\u001b[0m\u001b[0m__traceback__\u001b[0m\u001b[0;34m)\u001b[0m\u001b[0;34m\u001b[0m\u001b[0;34m\u001b[0m\u001b[0m\n",
            "\u001b[0;32m/usr/local/lib/python3.7/dist-packages/keras/engine/base_layer.py\u001b[0m in \u001b[0;36m__call__\u001b[0;34m(self, *args, **kwargs)\u001b[0m\n\u001b[1;32m   1081\u001b[0m         with autocast_variable.enable_auto_cast_variables(\n\u001b[1;32m   1082\u001b[0m             self._compute_dtype_object):\n\u001b[0;32m-> 1083\u001b[0;31m           \u001b[0moutputs\u001b[0m \u001b[0;34m=\u001b[0m \u001b[0mcall_fn\u001b[0m\u001b[0;34m(\u001b[0m\u001b[0minputs\u001b[0m\u001b[0;34m,\u001b[0m \u001b[0;34m*\u001b[0m\u001b[0margs\u001b[0m\u001b[0;34m,\u001b[0m \u001b[0;34m**\u001b[0m\u001b[0mkwargs\u001b[0m\u001b[0;34m)\u001b[0m\u001b[0;34m\u001b[0m\u001b[0;34m\u001b[0m\u001b[0m\n\u001b[0m\u001b[1;32m   1084\u001b[0m \u001b[0;34m\u001b[0m\u001b[0m\n\u001b[1;32m   1085\u001b[0m         \u001b[0;32mif\u001b[0m \u001b[0mself\u001b[0m\u001b[0;34m.\u001b[0m\u001b[0m_activity_regularizer\u001b[0m\u001b[0;34m:\u001b[0m\u001b[0;34m\u001b[0m\u001b[0;34m\u001b[0m\u001b[0m\n",
            "\u001b[0;32m/usr/local/lib/python3.7/dist-packages/keras/utils/traceback_utils.py\u001b[0m in \u001b[0;36merror_handler\u001b[0;34m(*args, **kwargs)\u001b[0m\n\u001b[1;32m     90\u001b[0m     \u001b[0mbound_signature\u001b[0m \u001b[0;34m=\u001b[0m \u001b[0;32mNone\u001b[0m\u001b[0;34m\u001b[0m\u001b[0;34m\u001b[0m\u001b[0m\n\u001b[1;32m     91\u001b[0m     \u001b[0;32mtry\u001b[0m\u001b[0;34m:\u001b[0m\u001b[0;34m\u001b[0m\u001b[0;34m\u001b[0m\u001b[0m\n\u001b[0;32m---> 92\u001b[0;31m       \u001b[0;32mreturn\u001b[0m \u001b[0mfn\u001b[0m\u001b[0;34m(\u001b[0m\u001b[0;34m*\u001b[0m\u001b[0margs\u001b[0m\u001b[0;34m,\u001b[0m \u001b[0;34m**\u001b[0m\u001b[0mkwargs\u001b[0m\u001b[0;34m)\u001b[0m\u001b[0;34m\u001b[0m\u001b[0;34m\u001b[0m\u001b[0m\n\u001b[0m\u001b[1;32m     93\u001b[0m     \u001b[0;32mexcept\u001b[0m \u001b[0mException\u001b[0m \u001b[0;32mas\u001b[0m \u001b[0me\u001b[0m\u001b[0;34m:\u001b[0m  \u001b[0;31m# pylint: disable=broad-except\u001b[0m\u001b[0;34m\u001b[0m\u001b[0;34m\u001b[0m\u001b[0m\n\u001b[1;32m     94\u001b[0m       \u001b[0;32mif\u001b[0m \u001b[0mhasattr\u001b[0m\u001b[0;34m(\u001b[0m\u001b[0me\u001b[0m\u001b[0;34m,\u001b[0m \u001b[0;34m'_keras_call_info_injected'\u001b[0m\u001b[0;34m)\u001b[0m\u001b[0;34m:\u001b[0m\u001b[0;34m\u001b[0m\u001b[0;34m\u001b[0m\u001b[0m\n",
            "\u001b[0;32m/usr/local/lib/python3.7/dist-packages/transformers/models/bert/modeling_tf_bert.py\u001b[0m in \u001b[0;36mcall\u001b[0;34m(self, input_tensor, attention_mask, head_mask, encoder_hidden_states, encoder_attention_mask, past_key_value, output_attentions, training)\u001b[0m\n\u001b[1;32m    373\u001b[0m             \u001b[0mpast_key_value\u001b[0m\u001b[0;34m=\u001b[0m\u001b[0mpast_key_value\u001b[0m\u001b[0;34m,\u001b[0m\u001b[0;34m\u001b[0m\u001b[0;34m\u001b[0m\u001b[0m\n\u001b[1;32m    374\u001b[0m             \u001b[0moutput_attentions\u001b[0m\u001b[0;34m=\u001b[0m\u001b[0moutput_attentions\u001b[0m\u001b[0;34m,\u001b[0m\u001b[0;34m\u001b[0m\u001b[0;34m\u001b[0m\u001b[0m\n\u001b[0;32m--> 375\u001b[0;31m             \u001b[0mtraining\u001b[0m\u001b[0;34m=\u001b[0m\u001b[0mtraining\u001b[0m\u001b[0;34m,\u001b[0m\u001b[0;34m\u001b[0m\u001b[0;34m\u001b[0m\u001b[0m\n\u001b[0m\u001b[1;32m    376\u001b[0m         )\n\u001b[1;32m    377\u001b[0m         attention_output = self.dense_output(\n",
            "\u001b[0;32m/usr/local/lib/python3.7/dist-packages/keras/utils/traceback_utils.py\u001b[0m in \u001b[0;36merror_handler\u001b[0;34m(*args, **kwargs)\u001b[0m\n\u001b[1;32m     62\u001b[0m     \u001b[0mfiltered_tb\u001b[0m \u001b[0;34m=\u001b[0m \u001b[0;32mNone\u001b[0m\u001b[0;34m\u001b[0m\u001b[0;34m\u001b[0m\u001b[0m\n\u001b[1;32m     63\u001b[0m     \u001b[0;32mtry\u001b[0m\u001b[0;34m:\u001b[0m\u001b[0;34m\u001b[0m\u001b[0;34m\u001b[0m\u001b[0m\n\u001b[0;32m---> 64\u001b[0;31m       \u001b[0;32mreturn\u001b[0m \u001b[0mfn\u001b[0m\u001b[0;34m(\u001b[0m\u001b[0;34m*\u001b[0m\u001b[0margs\u001b[0m\u001b[0;34m,\u001b[0m \u001b[0;34m**\u001b[0m\u001b[0mkwargs\u001b[0m\u001b[0;34m)\u001b[0m\u001b[0;34m\u001b[0m\u001b[0;34m\u001b[0m\u001b[0m\n\u001b[0m\u001b[1;32m     65\u001b[0m     \u001b[0;32mexcept\u001b[0m \u001b[0mException\u001b[0m \u001b[0;32mas\u001b[0m \u001b[0me\u001b[0m\u001b[0;34m:\u001b[0m  \u001b[0;31m# pylint: disable=broad-except\u001b[0m\u001b[0;34m\u001b[0m\u001b[0;34m\u001b[0m\u001b[0m\n\u001b[1;32m     66\u001b[0m       \u001b[0mfiltered_tb\u001b[0m \u001b[0;34m=\u001b[0m \u001b[0m_process_traceback_frames\u001b[0m\u001b[0;34m(\u001b[0m\u001b[0me\u001b[0m\u001b[0;34m.\u001b[0m\u001b[0m__traceback__\u001b[0m\u001b[0;34m)\u001b[0m\u001b[0;34m\u001b[0m\u001b[0;34m\u001b[0m\u001b[0m\n",
            "\u001b[0;32m/usr/local/lib/python3.7/dist-packages/keras/engine/base_layer.py\u001b[0m in \u001b[0;36m__call__\u001b[0;34m(self, *args, **kwargs)\u001b[0m\n\u001b[1;32m   1081\u001b[0m         with autocast_variable.enable_auto_cast_variables(\n\u001b[1;32m   1082\u001b[0m             self._compute_dtype_object):\n\u001b[0;32m-> 1083\u001b[0;31m           \u001b[0moutputs\u001b[0m \u001b[0;34m=\u001b[0m \u001b[0mcall_fn\u001b[0m\u001b[0;34m(\u001b[0m\u001b[0minputs\u001b[0m\u001b[0;34m,\u001b[0m \u001b[0;34m*\u001b[0m\u001b[0margs\u001b[0m\u001b[0;34m,\u001b[0m \u001b[0;34m**\u001b[0m\u001b[0mkwargs\u001b[0m\u001b[0;34m)\u001b[0m\u001b[0;34m\u001b[0m\u001b[0;34m\u001b[0m\u001b[0m\n\u001b[0m\u001b[1;32m   1084\u001b[0m \u001b[0;34m\u001b[0m\u001b[0m\n\u001b[1;32m   1085\u001b[0m         \u001b[0;32mif\u001b[0m \u001b[0mself\u001b[0m\u001b[0;34m.\u001b[0m\u001b[0m_activity_regularizer\u001b[0m\u001b[0;34m:\u001b[0m\u001b[0;34m\u001b[0m\u001b[0;34m\u001b[0m\u001b[0m\n",
            "\u001b[0;32m/usr/local/lib/python3.7/dist-packages/keras/utils/traceback_utils.py\u001b[0m in \u001b[0;36merror_handler\u001b[0;34m(*args, **kwargs)\u001b[0m\n\u001b[1;32m     90\u001b[0m     \u001b[0mbound_signature\u001b[0m \u001b[0;34m=\u001b[0m \u001b[0;32mNone\u001b[0m\u001b[0;34m\u001b[0m\u001b[0;34m\u001b[0m\u001b[0m\n\u001b[1;32m     91\u001b[0m     \u001b[0;32mtry\u001b[0m\u001b[0;34m:\u001b[0m\u001b[0;34m\u001b[0m\u001b[0;34m\u001b[0m\u001b[0m\n\u001b[0;32m---> 92\u001b[0;31m       \u001b[0;32mreturn\u001b[0m \u001b[0mfn\u001b[0m\u001b[0;34m(\u001b[0m\u001b[0;34m*\u001b[0m\u001b[0margs\u001b[0m\u001b[0;34m,\u001b[0m \u001b[0;34m**\u001b[0m\u001b[0mkwargs\u001b[0m\u001b[0;34m)\u001b[0m\u001b[0;34m\u001b[0m\u001b[0;34m\u001b[0m\u001b[0m\n\u001b[0m\u001b[1;32m     93\u001b[0m     \u001b[0;32mexcept\u001b[0m \u001b[0mException\u001b[0m \u001b[0;32mas\u001b[0m \u001b[0me\u001b[0m\u001b[0;34m:\u001b[0m  \u001b[0;31m# pylint: disable=broad-except\u001b[0m\u001b[0;34m\u001b[0m\u001b[0;34m\u001b[0m\u001b[0m\n\u001b[1;32m     94\u001b[0m       \u001b[0;32mif\u001b[0m \u001b[0mhasattr\u001b[0m\u001b[0;34m(\u001b[0m\u001b[0me\u001b[0m\u001b[0;34m,\u001b[0m \u001b[0;34m'_keras_call_info_injected'\u001b[0m\u001b[0;34m)\u001b[0m\u001b[0;34m:\u001b[0m\u001b[0;34m\u001b[0m\u001b[0;34m\u001b[0m\u001b[0m\n",
            "\u001b[0;32m/usr/local/lib/python3.7/dist-packages/transformers/models/bert/modeling_tf_bert.py\u001b[0m in \u001b[0;36mcall\u001b[0;34m(self, hidden_states, attention_mask, head_mask, encoder_hidden_states, encoder_attention_mask, past_key_value, output_attentions, training)\u001b[0m\n\u001b[1;32m    301\u001b[0m         \u001b[0;32mif\u001b[0m \u001b[0mattention_mask\u001b[0m \u001b[0;32mis\u001b[0m \u001b[0;32mnot\u001b[0m \u001b[0;32mNone\u001b[0m\u001b[0;34m:\u001b[0m\u001b[0;34m\u001b[0m\u001b[0;34m\u001b[0m\u001b[0m\n\u001b[1;32m    302\u001b[0m             \u001b[0;31m# Apply the attention mask is (precomputed for all layers in TFBertModel call() function)\u001b[0m\u001b[0;34m\u001b[0m\u001b[0;34m\u001b[0m\u001b[0;34m\u001b[0m\u001b[0m\n\u001b[0;32m--> 303\u001b[0;31m             \u001b[0mattention_scores\u001b[0m \u001b[0;34m=\u001b[0m \u001b[0mtf\u001b[0m\u001b[0;34m.\u001b[0m\u001b[0madd\u001b[0m\u001b[0;34m(\u001b[0m\u001b[0mattention_scores\u001b[0m\u001b[0;34m,\u001b[0m \u001b[0mattention_mask\u001b[0m\u001b[0;34m)\u001b[0m\u001b[0;34m\u001b[0m\u001b[0;34m\u001b[0m\u001b[0m\n\u001b[0m\u001b[1;32m    304\u001b[0m \u001b[0;34m\u001b[0m\u001b[0m\n\u001b[1;32m    305\u001b[0m         \u001b[0;31m# Normalize the attention scores to probabilities.\u001b[0m\u001b[0;34m\u001b[0m\u001b[0;34m\u001b[0m\u001b[0;34m\u001b[0m\u001b[0m\n",
            "\u001b[0;32m/usr/local/lib/python3.7/dist-packages/tensorflow/python/util/traceback_utils.py\u001b[0m in \u001b[0;36merror_handler\u001b[0;34m(*args, **kwargs)\u001b[0m\n\u001b[1;32m    148\u001b[0m     \u001b[0mfiltered_tb\u001b[0m \u001b[0;34m=\u001b[0m \u001b[0;32mNone\u001b[0m\u001b[0;34m\u001b[0m\u001b[0;34m\u001b[0m\u001b[0m\n\u001b[1;32m    149\u001b[0m     \u001b[0;32mtry\u001b[0m\u001b[0;34m:\u001b[0m\u001b[0;34m\u001b[0m\u001b[0;34m\u001b[0m\u001b[0m\n\u001b[0;32m--> 150\u001b[0;31m       \u001b[0;32mreturn\u001b[0m \u001b[0mfn\u001b[0m\u001b[0;34m(\u001b[0m\u001b[0;34m*\u001b[0m\u001b[0margs\u001b[0m\u001b[0;34m,\u001b[0m \u001b[0;34m**\u001b[0m\u001b[0mkwargs\u001b[0m\u001b[0;34m)\u001b[0m\u001b[0;34m\u001b[0m\u001b[0;34m\u001b[0m\u001b[0m\n\u001b[0m\u001b[1;32m    151\u001b[0m     \u001b[0;32mexcept\u001b[0m \u001b[0mException\u001b[0m \u001b[0;32mas\u001b[0m \u001b[0me\u001b[0m\u001b[0;34m:\u001b[0m\u001b[0;34m\u001b[0m\u001b[0;34m\u001b[0m\u001b[0m\n\u001b[1;32m    152\u001b[0m       \u001b[0mfiltered_tb\u001b[0m \u001b[0;34m=\u001b[0m \u001b[0m_process_traceback_frames\u001b[0m\u001b[0;34m(\u001b[0m\u001b[0me\u001b[0m\u001b[0;34m.\u001b[0m\u001b[0m__traceback__\u001b[0m\u001b[0;34m)\u001b[0m\u001b[0;34m\u001b[0m\u001b[0;34m\u001b[0m\u001b[0m\n",
            "\u001b[0;32m/usr/local/lib/python3.7/dist-packages/tensorflow/python/util/dispatch.py\u001b[0m in \u001b[0;36mop_dispatch_handler\u001b[0;34m(*args, **kwargs)\u001b[0m\n\u001b[1;32m   1094\u001b[0m       \u001b[0;31m# Fallback dispatch system (dispatch v1):\u001b[0m\u001b[0;34m\u001b[0m\u001b[0;34m\u001b[0m\u001b[0;34m\u001b[0m\u001b[0m\n\u001b[1;32m   1095\u001b[0m       \u001b[0;32mtry\u001b[0m\u001b[0;34m:\u001b[0m\u001b[0;34m\u001b[0m\u001b[0;34m\u001b[0m\u001b[0m\n\u001b[0;32m-> 1096\u001b[0;31m         \u001b[0;32mreturn\u001b[0m \u001b[0mdispatch_target\u001b[0m\u001b[0;34m(\u001b[0m\u001b[0;34m*\u001b[0m\u001b[0margs\u001b[0m\u001b[0;34m,\u001b[0m \u001b[0;34m**\u001b[0m\u001b[0mkwargs\u001b[0m\u001b[0;34m)\u001b[0m\u001b[0;34m\u001b[0m\u001b[0;34m\u001b[0m\u001b[0m\n\u001b[0m\u001b[1;32m   1097\u001b[0m       \u001b[0;32mexcept\u001b[0m \u001b[0;34m(\u001b[0m\u001b[0mTypeError\u001b[0m\u001b[0;34m,\u001b[0m \u001b[0mValueError\u001b[0m\u001b[0;34m)\u001b[0m\u001b[0;34m:\u001b[0m\u001b[0;34m\u001b[0m\u001b[0;34m\u001b[0m\u001b[0m\n\u001b[1;32m   1098\u001b[0m         \u001b[0;31m# Note: convert_to_eager_tensor currently raises a ValueError, not a\u001b[0m\u001b[0;34m\u001b[0m\u001b[0;34m\u001b[0m\u001b[0;34m\u001b[0m\u001b[0m\n",
            "\u001b[0;32m/usr/local/lib/python3.7/dist-packages/tensorflow/python/ops/math_ops.py\u001b[0m in \u001b[0;36madd\u001b[0;34m(x, y, name)\u001b[0m\n\u001b[1;32m   3988\u001b[0m       \u001b[0;32mreturn\u001b[0m \u001b[0mgen_math_ops\u001b[0m\u001b[0;34m.\u001b[0m\u001b[0madd\u001b[0m\u001b[0;34m(\u001b[0m\u001b[0mx\u001b[0m\u001b[0;34m,\u001b[0m \u001b[0my\u001b[0m\u001b[0;34m,\u001b[0m \u001b[0mname\u001b[0m\u001b[0;34m=\u001b[0m\u001b[0mname\u001b[0m\u001b[0;34m)\u001b[0m\u001b[0;34m\u001b[0m\u001b[0;34m\u001b[0m\u001b[0m\n\u001b[1;32m   3989\u001b[0m     \u001b[0;32melse\u001b[0m\u001b[0;34m:\u001b[0m\u001b[0;34m\u001b[0m\u001b[0;34m\u001b[0m\u001b[0m\n\u001b[0;32m-> 3990\u001b[0;31m       \u001b[0;32mreturn\u001b[0m \u001b[0mgen_math_ops\u001b[0m\u001b[0;34m.\u001b[0m\u001b[0madd_v2\u001b[0m\u001b[0;34m(\u001b[0m\u001b[0mx\u001b[0m\u001b[0;34m,\u001b[0m \u001b[0my\u001b[0m\u001b[0;34m,\u001b[0m \u001b[0mname\u001b[0m\u001b[0;34m=\u001b[0m\u001b[0mname\u001b[0m\u001b[0;34m)\u001b[0m\u001b[0;34m\u001b[0m\u001b[0;34m\u001b[0m\u001b[0m\n\u001b[0m\u001b[1;32m   3991\u001b[0m \u001b[0;34m\u001b[0m\u001b[0m\n\u001b[1;32m   3992\u001b[0m \u001b[0;34m\u001b[0m\u001b[0m\n",
            "\u001b[0;32m/usr/local/lib/python3.7/dist-packages/tensorflow/python/ops/gen_math_ops.py\u001b[0m in \u001b[0;36madd_v2\u001b[0;34m(x, y, name)\u001b[0m\n\u001b[1;32m    461\u001b[0m     \u001b[0;32mtry\u001b[0m\u001b[0;34m:\u001b[0m\u001b[0;34m\u001b[0m\u001b[0;34m\u001b[0m\u001b[0m\n\u001b[1;32m    462\u001b[0m       _result = pywrap_tfe.TFE_Py_FastPathExecute(\n\u001b[0;32m--> 463\u001b[0;31m         _ctx, \"AddV2\", name, x, y)\n\u001b[0m\u001b[1;32m    464\u001b[0m       \u001b[0;32mreturn\u001b[0m \u001b[0m_result\u001b[0m\u001b[0;34m\u001b[0m\u001b[0;34m\u001b[0m\u001b[0m\n\u001b[1;32m    465\u001b[0m     \u001b[0;32mexcept\u001b[0m \u001b[0m_core\u001b[0m\u001b[0;34m.\u001b[0m\u001b[0m_NotOkStatusException\u001b[0m \u001b[0;32mas\u001b[0m \u001b[0me\u001b[0m\u001b[0;34m:\u001b[0m\u001b[0;34m\u001b[0m\u001b[0;34m\u001b[0m\u001b[0m\n",
            "\u001b[0;31mKeyboardInterrupt\u001b[0m: "
          ]
        }
      ]
    },
    {
      "cell_type": "code",
      "source": [
        "list_def = []\n",
        "for x in list_durata:\n",
        "\n",
        "  list_def.append((x-(sum(list_durata)/1000))**2)\n",
        "    \n",
        "varianza = sum(list_def)/1000\n",
        "\n",
        "dizi = {\"righe\":1000,  \"media\": sum(list_durata)/1000, \"varianza\":varianza}\n",
        "print(dizi)"
      ],
      "metadata": {
        "id": "YhdPsJu19G3H",
        "outputId": "7866d09b-c177-4447-e52d-458babba74df",
        "colab": {
          "base_uri": "https://localhost:8080/"
        }
      },
      "execution_count": 191,
      "outputs": [
        {
          "output_type": "stream",
          "name": "stdout",
          "text": [
            "{'righe': 1000, 'media': 0.0, 'varianza': 0.0}\n"
          ]
        }
      ]
    },
    {
      "cell_type": "code",
      "source": [
        "from sklearn.metrics import f1_score\n",
        "from sklearn.metrics import classification_report\n",
        "from sklearn.metrics import accuracy_score"
      ],
      "metadata": {
        "id": "eez-f3kNwA5x"
      },
      "execution_count": 170,
      "outputs": []
    },
    {
      "cell_type": "code",
      "source": [
        "nlp(test_data[0])"
      ],
      "metadata": {
        "id": "-OR-XUl91weK",
        "outputId": "c634aff2-e909-4f4d-806b-d5a3ae633db5",
        "colab": {
          "base_uri": "https://localhost:8080/",
          "height": 166
        }
      },
      "execution_count": 193,
      "outputs": [
        {
          "output_type": "error",
          "ename": "IndexError",
          "evalue": "ignored",
          "traceback": [
            "\u001b[0;31m---------------------------------------------------------------------------\u001b[0m",
            "\u001b[0;31mIndexError\u001b[0m                                Traceback (most recent call last)",
            "\u001b[0;32m<ipython-input-193-4c0735fe9692>\u001b[0m in \u001b[0;36m<module>\u001b[0;34m()\u001b[0m\n\u001b[0;32m----> 1\u001b[0;31m \u001b[0mnlp\u001b[0m\u001b[0;34m(\u001b[0m\u001b[0mtest_data\u001b[0m\u001b[0;34m[\u001b[0m\u001b[0;36m0\u001b[0m\u001b[0;34m]\u001b[0m\u001b[0;34m)\u001b[0m\u001b[0;34m\u001b[0m\u001b[0;34m\u001b[0m\u001b[0m\n\u001b[0m",
            "\u001b[0;31mIndexError\u001b[0m: list index out of range"
          ]
        }
      ]
    },
    {
      "cell_type": "code",
      "source": [
        "print(f1_score(true_nomi, pred_nomi, average=\"micro\"))"
      ],
      "metadata": {
        "id": "7V0eE5FsxHGs",
        "outputId": "20e9b497-67c9-48c4-8d9c-30abc7a7cc04",
        "colab": {
          "base_uri": "https://localhost:8080/"
        }
      },
      "execution_count": 171,
      "outputs": [
        {
          "output_type": "stream",
          "name": "stdout",
          "text": [
            "0.9\n"
          ]
        }
      ]
    },
    {
      "cell_type": "code",
      "source": [
        "print(accuracy_score(true_nomi, pred_nomi))"
      ],
      "metadata": {
        "id": "rWn5gIe35Hsx",
        "outputId": "39bc89e2-8b6c-4725-a4f6-13413c5051b2",
        "colab": {
          "base_uri": "https://localhost:8080/"
        }
      },
      "execution_count": 172,
      "outputs": [
        {
          "output_type": "stream",
          "name": "stdout",
          "text": [
            "0.9\n"
          ]
        }
      ]
    },
    {
      "cell_type": "code",
      "source": [
        "print(f1_score(true_cognomi, pred_cognomi, average=\"micro\"))"
      ],
      "metadata": {
        "id": "quw2Lxis30hh",
        "outputId": "7f050bf6-60a8-4c63-a8ec-276e9dfb7164",
        "colab": {
          "base_uri": "https://localhost:8080/"
        }
      },
      "execution_count": 173,
      "outputs": [
        {
          "output_type": "stream",
          "name": "stdout",
          "text": [
            "0.904\n"
          ]
        }
      ]
    },
    {
      "cell_type": "code",
      "source": [
        "print(accuracy_score(true_cognomi, pred_cognomi))"
      ],
      "metadata": {
        "id": "lfN1NoGh5QMv",
        "outputId": "510512ed-88fc-4da1-ba60-423622b7f240",
        "colab": {
          "base_uri": "https://localhost:8080/"
        }
      },
      "execution_count": 174,
      "outputs": [
        {
          "output_type": "stream",
          "name": "stdout",
          "text": [
            "0.904\n"
          ]
        }
      ]
    },
    {
      "cell_type": "code",
      "source": [
        "print(f1_score(true_indirizzi, pred_indirizzi, average=\"micro\"))"
      ],
      "metadata": {
        "id": "9gGp7XcX4BNV",
        "outputId": "55f09894-d350-4dd0-99fb-bc4aac3673af",
        "colab": {
          "base_uri": "https://localhost:8080/"
        }
      },
      "execution_count": 175,
      "outputs": [
        {
          "output_type": "stream",
          "name": "stdout",
          "text": [
            "0.153\n"
          ]
        }
      ]
    },
    {
      "cell_type": "code",
      "source": [
        "print(true_indirizzi)\n",
        "print(pred_indirizzi)"
      ],
      "metadata": {
        "id": "MeG3uvhB6PoP",
        "outputId": "86f2ca52-76ed-4b6a-de2a-faddba281ea8",
        "colab": {
          "base_uri": "https://localhost:8080/"
        }
      },
      "execution_count": 176,
      "outputs": [
        {
          "output_type": "stream",
          "name": "stdout",
          "text": [
            "['STRADA VISONE 11 BIS', 'CORSO ROMA 4 BIS', 'STRADA S. VITTORIA 30 BIS', 'STRADA GENOVA 206 BIS', 'BORGATA TETTI PIATTI 18', 'VIA GIUSEPPE UNGARETTI 16', 'STRADA VILLASTELLONE 53', 'STRADA REBAUDE 180 3', 'STRADA DEI MUGHETTI 8', 'VIA PASTRENGO 68 A', 'VIA CAVOUR 2 BIS', 'STRADA DEL CERVO 25', 'BORGATA TETTI PIATTI 24', 'VIA S.VINCENZO 5', 'VIA CAVOUR 37', 'BORGATA TAGLIAFERRO 86 12', 'VIA VINCENZO BELLINI 25', 'VIA S.MATTEO 19', 'VIA FORTUNATO POSTIGLIONE 24', 'STRADA REVIGLIASCO 73', 'VIA REAL COLLEGIO 14', 'STRADA STUPINIGI 1 6', 'VIA GIORDANO BRUNO 14', 'VIA GIUSEPPE ROMITA 4', 'VIA GIACOMO PUCCINI 28', 'VIA MONVISO 27', 'STRADA MADDALENA 63', \"PIAZZA CADUTI PER LA LIBERTA' 7\", 'VIA GIACOMO PUCCINI 24', 'VIA VENTIQUATTRO MAGGIO 6', 'CORSO ROMA 40', 'STRADA VILLASTELLONE 46', 'STRADA VIVERO 15 5', 'VIA PASTRENGO 33', 'STRADA REBAUDE 94 3', 'BORGATA TETTI PIATTI 69 2', 'STRADA SANDA 63', 'STRADA PASUBIO 60', 'STRADA PRESERASCA 39', 'VIA MARIO PANNUNZIO 24', 'BORGATA TETTI PIATTI 29 10', 'CORSO TRIESTE 57', 'STRADA REVIGLIASCO 51', 'STRADA GENOVA 269 TER', 'STRADA DEL PESCO 9', 'VIA SOMALIA 37', \"STRADA MARSE' 23\", 'VIA CRISTOFORO COLOMBO 26', 'VIA CAVOUR 27', 'VIA TORQUATO TASSO 20', 'STRADA MADDALENA 44 3', \"STRADA MARSE' 27 2\", 'STRADA GENOVA 339', 'VIA LUIGI PIRANDELLO 4', 'VIA VILLAFRANCA 30', 'STRADA CARIGNANO 151', 'VIA GOITO 15', 'STRADA VIVERO 47 TER', 'VIA MONTEBELLO 7', \"VIA ASILO DUBBIE' 6\", 'VIA MARIO PANNUNZIO 32', 'VIA MONTE BIANCO 36', 'VIA CARLO ALBERTO 5', 'VIA REAL COLLEGIO 23', 'STRADA TORINO 67 3', \"VIA MASSIMO D'AZEGLIO 4\", 'VIA AMILCARE PONCHIELLI 39', 'VIA TORQUATO TASSO 16', 'STRADA BRANDINA 2 BIS', 'VIA TIEPOLO 11', 'CORSO SAVONA 74', 'STRADA GENOVA 58 1', 'VIA S.CROCE 29', 'STRADA STUPINIGI 12', 'STRADA DEL CERVO 15 B', 'VIA MARIO PANNUNZIO 20', 'LUNGO PO ABELLONIO 4 TER', 'VIA CESARE PAVESE 11', 'VIALE PORTA PIACENTINA 47', 'STRADA RIGOLINO 2', 'VIA GIUSEPPE ROMITA 4', 'STRADA DEL CERVO 25', 'BORGATA TAGLIAFERRO 9 7', 'VIA GRAZIA DELEDDA 7', 'VIA MARTIRI DI CEFALONIA 5', 'BORGATA TETTI PIATTI 43', 'VIA CRISTOFORO COLOMBO 43', 'BORGATA TETTI ROLLE 20', 'VIA MONTE NERO 13', 'VIA CESARE PAVESE 13', 'STRADA REVIGLIASCO 72 1', 'CORSO SAVONA 6 BIS', 'STRADA STUPINIGI 4', 'VIA MARIO PANNUNZIO 7', 'VIA VILLAFRANCA 7', 'STRADA GENOVA 34 1', 'STRADA S. VITTORIA 19', 'VIA SALUZZO 32', 'VIA MONVISO 27', 'VIA PESCHIERA 7', 'VIA S.GIOVANNI BOSCO 18', 'STRADA TORINO 73', 'STRADA CARIGNANO 22', 'VIA LUIGI PIRANDELLO 2', 'STRADA VILLASTELLONE 25 7', 'VIA GIACOMO LEOPARDI 7', 'STRADA S.BRIGIDA 214', 'STRADA MADDALENA 102 6', 'VIA PAPA GIOVANNI XXIII 25', \"STRADA BOCCIA D'ORO 14\", 'STRADA CASTELVECCHIO 23', 'STRADA PASUBIO 34', 'STRADA CARIGNANO 13', 'VIA JUGLARIS 29', 'STRADA VILLASTELLONE 25 3', 'BORGATA TETTI PIATTI 31', \"STRADA MARSE' 27\", 'STRADA PRIVATA NASI 4', 'STRADA RIGOLINO 7', 'VIA LODOVICO ARIOSTO 14', 'CORSO ROMA 41 1', 'BORGATA TAGLIAFERRO 14 B', 'BORGATA PALERA 31', 'LARGO LEONARDO DA VINCI 1', 'CORSO ROMA 24', 'LUNGO PO ABELLONIO 12 5', 'VIA CAVOUR 9', 'VIA GRAZIA DELEDDA 21', 'VIA ZARA 30 TER', 'VIA SESTRIERE 53', 'STRADA VILLASTELLONE 32 TER', 'VIA AMILCARE PONCHIELLI 54', 'CORSO FRATELLI ROSSELLI 12', 'VIA VINCENZO LANCIA 2', 'VIA BENVENUTO CELLINI 5', 'BORGATA TAGLIAFERRO 111', 'VIA CERNAIA 1', 'VIA SESTRIERE 53 4', 'VIA PASTRENGO 94', 'VIA SALUZZO 46 1', 'VIA FRATELLI CAIROLI 31', 'VIA DE FERNEX 3', 'STRADA DEL BOSSOLO 5 BIS', 'VIA S.GIOVANNI BOSCO 14', 'VIA SESTRIERE 9 BIS', 'BORGATA TAGLIAFERRO 38', 'STRADA MADDALENA 109 24', 'VIA GIORDANO BRUNO 12 B', 'VIALE STAZIONE 7', 'VIA AMILCARE PONCHIELLI 7', 'STRADA DEL PESCO 5', 'STRADA REVIGLIASCO 72 3', 'VIA GIOACCHINO ROSSINI 26', 'VIA FRATELLI CAIROLI 13', 'STRADA GENOVA 174', 'VIA COL DI CADIBONA 25', 'VIA PASTRENGO 78', 'VIA MIRAFIORI 15', 'VIA CESARE BATTISTI 8', 'VIA PIER CAPPONI 12', 'CORSO ROMA 37 BIS', 'STRADA PASUBIO 34', 'CORSO TRIESTE 53', 'VIA MONTE BIANCO 1', 'VIA GIUSEPPE GIACOSA 12', 'VIA PIERO GOBETTI 3', 'VIA SESTRIERE 25', 'STRADA VILLASTELLONE 39', 'STRADA DEI BUSSI 8', 'VICOLO GEROLAMO SAVONAROLA 2 A', 'BORGATA TAGLIAFERRO 10', 'STRADA REBAUDE 94', 'VIA MATILDE SERAO 3', 'STRADA CARIGNANO 38', 'VIALE DEI CILIEGI 20', 'STRADA CARIGNANO 22', 'STRADA DEL REDENTORE 150', 'BORGATA TETTI PIATTI 59 15', 'VIA S.MARTINO 18', 'VIA GIORDANO BRUNO 8', 'VIA MONTE BIANCO 1', 'VIA DELLA CAVA 6', 'STRADA LORETO 24', 'VIA AMILCARE PONCHIELLI 30', 'STRADA DEL REDENTORE 17', 'STRADA GENOVA 191 BIS', 'CORSO ROMA 95', 'STRADA S.AMBROGIO 4', 'STRADA CARIGNANO 115 7', 'STRADA CARIGNANO 32 1', 'STRADA GIORGIO DEVALLE 17 1', 'VIA LUCREZIO CARO 14', 'VIA S.MARIA 47', 'STRADA VILLASTELLONE 6 BIS', 'STRADA RIGOLINO 13 3', 'VIA MONTE GRAPPA 13 BIS', 'STRADA DEL BOSSOLO 46', 'STRADA TORINO 96', 'STRADA MILIUS RONSAGLIA 14', 'STRADA VILLASTELLONE 25 4', 'LUNGO PO ABELLONIO 12 6', 'STRADA CASTELVECCHIO 23 2', 'CORSO ROMA 71', 'STRADA LORETO 22', 'BORGATA TETTI PIATTI 52', 'VIA TIEPOLO 14', 'STRADA GENOVA 195', 'BORGATA TETTI PIATTI 77 19', 'VIA JUGLARIS 66', 'VIA S.GIOVANNI BOSCO 4', 'BORGATA TAGLIAFERRO 21', \"VIA MARTIRI DELLA LIBERTA' 7\", 'STRADA VILLASTELLONE 4 TER', 'CORSO TRIESTE 25', 'BORGATA TETTI PIATTI 17 BIS', 'VIA SESTRIERE 47 BIS', 'STRADA MAIOLE 3 2', 'VIA GIACOMO LEOPARDI 9', 'VIA GIUSEPPE GIACOSA 14', 'STRADA CASTELVECCHIO 37', 'VIA SESTRIERE 13 BIS', 'PIAZZA GIUSEPPE FAILLA 3 BIS', 'VIA S.MARIA 64', 'STRADA STUPINIGI 6', 'PIAZZA ARGIROUPOLI 12', 'VIA SESTRIERE 23', 'STRADA VISONE 6', 'LARGO LEONARDO DA VINCI 1', 'VIA PIETRO MARONCELLI 3', 'CORSO ROMA 17 13', 'VIA AMILCARE PONCHIELLI 51', 'VIA PRIMO MAGGIO 2', 'VIALE DEL CASTELLO 2', 'STRADA DEL BOSSOLO 52', 'VIA S.GIOVANNI BOSCO 14', 'VIA GORIZIA 7', 'VIA TIEPOLO 11', 'STRADA LORETO 22 BIS', 'BORGATA TETTI ROLLE 29', 'STRADA VINOVO SNC', 'VIA FILIPPO TURATI 10', 'VIALE DEL CASTELLO 34', 'STRADA GENOVA 251', 'VIA GOFFREDO MAMELI 11', 'STRADA GENOVA 82 10', 'STRADA VINOVO SNC', 'VIA SOMALIA 21', 'CORSO TRIESTE 73', 'STRADA S.MICHELE 9', 'VIA GIOACCHINO ROSSINI 21', 'VIA PRIVATA ALTA ITALIA 2', 'VIA PIETRO MASCAGNI 9', 'VIA MONTE BIANCO 34', 'STRADA SANDA 57', 'VIA JUGLARIS 17', 'VIA GIUSEPPE ROMITA 3 4', 'STRADA MADDALENA 19', 'STRADA GENOVA 56', 'STRADA GAVONI 4', 'VIA CRISTOFORO COLOMBO 16', 'VIA SESTRIERE 31', 'STRADA S.MICHELE 3 D', 'VIA SESTRIERE 53 2', 'PIAZZA DEL FIENO 3', 'STRADA PRACIOSA 6', 'VIA S.MATTEO 19', 'VIA NILDE IOTTI 12', 'STRADA LORETO 32', 'VIA MENTANA 1', 'VIA PAPA GIOVANNI XXIII 37 A', \"STRADA VADO' 7\", 'CORSO ROMA 79', 'VIALE PORTA PIACENTINA 43', 'STRADA GENOVA 239 BIS', 'STRADA VISONE 6', 'CORSO TRIESTE 67', 'CORSO ROMA 72 BIS', 'STRADA DELLE MARGHERITE 8 9', 'VIA GIORDANO BRUNO 4', 'CORSO ROMA 41 4', 'VIA JUGLARIS 68', 'STRADA PIOBBA 2', 'CORSO DANTE 8', 'VIA PESCHIERA 11', 'STRADA PECETTO 2 BIS', 'VIA SESTRIERE 25', 'STRADA GENOVA 64 BIS', 'STRADA PASUBIO 36', 'VIALE DEL CASTELLO 19', 'VIA PIAVE 14', 'STRADA MONCALVO 66 BIS 6', 'VIA GIACOMO LEOPARDI 12', 'VIALE DEL CASTELLO 42 BIS', 'VIA SESTRIERE 49 TER', 'VIA SOMALIA 13', 'VIA CRISTOFORO COLOMBO 42 BIS', 'STRADA DELLE FINANZE 17', 'VIA GIOVANNI SEGANTINI 26', 'CORSO TRIESTE 75', 'STRADA PRIVATA NASI 29', 'STRADA BELMONTE 6', 'STRADA VILLASTELLONE 28 BIS', 'STRADA BARAUDA 45 BIS', 'CORSO ROMA 75', 'VIA CAVOUR 27', 'VIA GIORDANO BRUNO 8', 'VIA GIUSEPPE ROMITA 2', 'STRADA PRESERASCA 6', 'STRADA SCALETTE 23', 'STRADA DEL BOSSOLO 12', 'VIA SESTRIERE 49 TER', 'VIA ALCIDE DE GASPERI 7', 'VIA SESTRIERE 47', 'REGIONE VALLERE 10', 'STRADA GENOVA 228 1', 'CORSO ROMA 24 BIS', 'VIA MONTE NERO 11', 'STRADA LORETO 28', 'CORSO TRIESTE 81', 'VIA COL DI CADIBONA 28', 'STRADA GENOVA 173', 'STRADA VIVERO 9', 'LARGO LEONARDO DA VINCI 1', 'VIA MIRAFIORI 15', 'VIA SESTRIERE 13', 'VIA PRIVATA ALTA ITALIA 3 A', 'VIA S.VINCENZO 5', 'STRADA DELLE FINANZE 23 6', 'VIA ALFONSO LAMARMORA 6', 'VIA MIRAFIORI 15', 'STRADA GENOVA 241 1', 'CORSO SAVONA 4', 'VIA CAVOUR 52 BIS', 'VIA VINCENZO BELLINI 23', 'VIA DELLE MIMOSE 3', 'CORSO GIUSEPPE PARINI 15 B', 'VIA MATILDE SERAO 3', 'VIA PATERI 25', 'CORSO TRIESTE 67', 'VIA NILDE IOTTI 6', 'VIA S.VINCENZO 1', 'VIA GIACOMO BOSSO 20', 'STRADA GENOVA 219', 'VIA JUGLARIS 23 B', \"STRADA MARSE' 33\", 'VIA VINCENZO BELLINI 6', 'VIA SESTRIERE 23', 'VIALE ENRICO BERLINGUER 8 10', \"PIAZZA CADUTI PER LA LIBERTA' 13\", 'VIA CRISTOFORO COLOMBO 23', 'VIA AMILCARE PONCHIELLI 39', 'CORSO ROMA 14 2', 'STRADA PASUBIO 5', 'STRADA CASTELVECCHIO 16 1', 'VIA DELLE ACACIE 16 10', 'VIA GRAZIA DELEDDA 23', 'VIA ORAZIO FLACCO 12', 'STRADA DEL BOSSOLO 48', 'VIA FRATELLI MASERA 5', 'CORSO ROMA 93', 'PIAZZA VITTORIO EMANUELE 3', 'VIA S.MARIA 35', 'VIA VENTIQUATTRO MAGGIO 23', 'STRADA DELLE FINANZE 23 5', 'VIA VINCENZO BELLINI 7', 'VIA MONTE BIANCO 40 B', 'VIA VITTORIO ALFIERI 27', \"VIA MARTIRI DELLA LIBERTA' 2\", 'VIA S.CROCE 3', 'VIA GIACOMO PUCCINI 4', 'VIA MONVISO 1', 'CORSO TRIESTE 31', 'CORSO ROMA 10 1', 'VIA NILDE IOTTI 12 4', 'STRADA MONCALVO 20', 'VIA JUGLARIS 29', 'VIA SESTRIERE 53 3', 'VICOLO DEL FORNO 6', 'VIA VENTIQUATTRO MAGGIO 29', 'STRADA GENOVA 174', 'STRADA GENOVA 349 BIS', 'VIA TEOFILO GAUTHIER 19', 'STRADA CIGALA 41', 'STRADA S.MICHELE 8', 'VIA S.GIOVANNI BOSCO 22', 'STRADA RIGOLFO 24', 'BORGATA TETTI PIATTI 10 8', 'STRADA DELLE FINANZE 3', 'STRADA PASUBIO 36', 'STRADA REVIGLIASCO 173', 'STRADA GENOVA 241 1', 'STRADA PRACIOSA 12', 'STRADA CUNIOLI ALTI 76 BIS', 'VIA MARIO PANNUNZIO 30', 'CORSO ROMA 27', 'STRADA GENOVA 257', 'VIA PASTRENGO 92 A', 'STRADA DEL BOSSOLO 8', 'VIA GIUSEPPE MAZZINI 15', 'VIA DEI TIGLI 13', 'VIA DON MINZONI 2', 'VIA LUIGI SETTEMBRINI 20', 'VIA SESTRIERE 53', 'VIA GIACOMO PUCCINI 17', 'VIA PASTRENGO 68 BIS', 'VIA VENTIQUATTRO MAGGIO 23', 'VIA FRANCESCO BARACCA 20', 'VIA GIORDANO BRUNO 4 B', 'STRADA C. FERRERO DI CAMBIANO SNC', 'VIA SESTRIERE 39', 'VIA GIUSEPPE ROMITA 6', 'CORSO ROMA 24 BIS', 'VIA MAURIZIO BERIA 21', 'VIA NAZARIO SAURO 17', 'VIA QUINTINO SELLA 31', 'STRADA PECETTO 23', 'STRADA MADDALENA 120 9', 'VIA GIUSEPPE MAZZINI 12', 'VIA LUIGI PIRANDELLO 15', 'VIA AMILCARE PONCHIELLI 43 BIS', 'VIA TENIVELLI 39', 'VIA SESTRIERE 9', 'VIA GIUSEPPE ROBALDO 1', 'STRADA GENOVA 45', 'CORSO ROMA 86', 'STRADA C. FERRERO DI CAMBIANO 25', 'CORSO ROMA 31 BIS', 'STRADA C. FERRERO DI CAMBIANO 43', 'STRADA CASTELVECCHIO 21 2', 'STRADA REVIGLIASCO 71 1', 'STRADA COSTALUNGA 10 7', 'STRADA SCALETTE 4 4', 'VIA TRENTO 17', 'VIA ZARA 11 BIS', 'STRADA GENOVA 315', 'VIA S.GIOVANNI BOSCO 22', 'VIA GAETANO DONIZETTI 7', 'STRADA REBAUDE 80 1', 'STRADA ROCCACATENE 95', 'CORSO ROMA 62', 'CORSO TRIESTE 25', 'VIA LUIGI EINAUDI 38', 'VIA S.GIOVANNI BOSCO 18', 'VIA S.CROCE 29', \"PIAZZA CADUTI PER LA LIBERTA' 11\", 'STRADA STUPINIGI 1 3', 'STRADA GENOVA 321', 'STRADA S. VITTORIA 10', 'CORSO SAVONA 6 TER', 'BORGATA TETTI ROLLE 35', 'PIAZZA S.CROCE 2', 'VIA S.GIOVANNI BOSCO 6', 'VIA PIAVE 9', 'VIA MENTANA 5', 'VIA SESTRIERE 33 A', 'BORGATA TETTI PIATTI 7127 27A', 'VIA PASTRENGO 49', 'STRADA VISONE 2 4', 'CORSO ROMA 39 BIS', 'VIA MAURIZIO BERIA 16', 'CORSO TRIESTE 37', 'CORSO ROMA 14', 'VIA MONTE NERO 14', 'VIA PALESTRO 12', 'VIA S.MARIA 30', 'STRADA S.BRIGIDA 37 7', 'STRADA GENOVA 167', 'STRADA S.SEBASTIANO 1', 'VIA PAPA GIOVANNI XXIII 23', 'VIA MAURIZIO BERIA 44', 'VIA AMILCARE PONCHIELLI 26', 'STRADA GENOVA 89 BIS', 'STRADA COLOMBETTO 8', 'CORSO ROMA 37 BIS', 'STRADA ROCCACATENE 9', 'VIA CESARE PAVESE 17', 'VIA GIOTTO 17', 'VIA GIACOMO PUCCINI 6', 'BORGATA TAGLIAFERRO 72 30', 'VIA S.GIOVANNI BOSCO 22', 'STRADA PRACIOSA 8', 'VIA CESARE BATTISTI 8', 'STRADA PRESERASCA 39', 'STRADA REVIGLIASCO 80 4', 'VIA SESTRIERE 9', 'VIA MONVISO 21', 'VIALE ENRICO BERLINGUER 8 8', 'VIA SESTRIERE 13 BIS', 'STRADA MAIOLE 200', 'STRADA GENOVA 78', 'BORGATA TAGLIAFERRO 5', 'VIA DELLE ACACIE 16 11', 'BORGATA TAGLIAFERRO 7 1', 'CORSO SAVONA 137', 'VIA GIUSEPPE MAZZINI 7', 'CORSO ROMA 39', 'VIA GRAZIA DELEDDA 21', 'STRADA CASTELVECCHIO 9', 'VIA AMILCARE PONCHIELLI 63', 'VIA GIACOMO PUCCINI 34', 'VIA LUIGI EINAUDI 1', \"STRADA MARSE' 33\", 'STRADA S.ANSELMO 12', 'STRADA REVIGLIASCO 7', 'STRADA CARIGNANO 13', 'STRADA CARIGNANO 32 1', 'VIA CESARE PAVESE 17', 'STRADA CARIGNANO 62 3', 'VIA PRIMO MAGGIO 4', 'CORSO DANTE 11', 'VIA LUIGI EINAUDI 40', 'VIA DELLA CASA COMUNALE 1', 'CORSO DANTE 7', 'CORSO SAVONA 94 BIS', 'STRADA GENOVA 58 6', 'STRADA S.MICHELE 31', 'VIA CAVOUR 30', 'STRADA GENOVA 74 BIS', 'STRADA CARIGNANO 36 1', \"VIA GIOSUE' CARDUCCI 13 BIS\", 'STRADA S.BRIGIDA 37 7', 'VIA SESTRIERE 11', 'STRADA REVIGLIASCO 15 BIS', 'VIA ALCIDE DE GASPERI 50', 'VIA MONTE BIANCO 10', 'STRADA GENOVA 147 BIS/6', 'STRADA TORINO 73', 'STRADA MADDALENA 25', 'STRADA GENOVA 167', 'VIA ALFONSO LAMARMORA 3', 'CORSO ROMA 32', 'STRADA GENOVA 74', 'VIA GIACOMO PUCCINI 26', 'STRADA DEL BOSSOLO 9', 'STRADA DEL CERVO 40', 'STRADA GAVONI 14', \"STRADA MARSE' 25 2\", 'STRADA TORINO 65', 'STRADA PASUBIO 40', 'VIA MARENGO 4', 'VIALE DEL CASTELLO 21', 'BORGATA BAUDUCCHI 4 BIS', 'CORSO TRIESTE 31 1', 'STRADA GENOVA 147 BIS 6', 'STRADA GENOVA 132', \"VIA GIOSUE' CARDUCCI 12 3\", 'VIA PIETRO MARONCELLI 14', 'VIA S.GIOVANNI BOSCO 4', 'STRADA CARIGNANO 19', 'VIA PASTRENGO 134', 'VIA BENVENUTO CELLINI 4', 'VIA GRAZIA DELEDDA 15 3', 'VIA MARENGO 9', 'STRADA GENOVA 127', 'PIAZZA ARGIROUPOLI 2', 'VIA S.MARIA 35 5', 'CORSO ROMA 53', 'STRADA S. VITTORIA 38', 'CORSO GIUSEPPE PARINI 5 BIS', 'PIAZZA AMEDEO FERDINANDO 2', 'STRADA CENASCO 38', 'PIAZZA BRENNERO 3', 'VIA GIOACCHINO ROSSINI 18', 'VIA LUIGI EINAUDI 2 BIS', 'STRADA PRESERASCA 3', 'VIA CAVOUR 78', 'STRADA VIGNOTTO 38', 'VIA JUGLARIS 17 1', 'STRADA VILLASTELLONE 32 BIS', 'STRADA REBAUDE 53', 'VIA SOFIA NOVELLIS DI COARAZZE 4', 'VIA TIEPOLO 18', 'BORGATA BAUDUCCHI 27', 'VIA MAURIZIO BERIA 42', 'VIA SOMALIA 39', 'VIA CRISTOFORO COLOMBO 22 BIS', 'CORSO ROMA 24', 'STRADA STUPINIGI 33', 'STRADA BARAUDA 45 6', 'STRADA CARIGNANO 22 1', 'STRADA GENOVA 58 1', 'STRADA DEL PESCO 13', 'VIA VINCENZO BELLINI 7', 'VIA TIEPOLO 10', 'STRADA GIORGIO DEVALLE 68', 'VIA ADOLFO ARDUINO 4', 'VIA DELLA CAVA 6', 'VIA NILDE IOTTI 6', 'VIA S.CROCE 27', 'VIALE DEL PARCO 3', 'STRADA VILLASTELLONE 15 BIS', 'VIA CESARE PAVESE 17', 'STRADA REVIGLIASCO 194', 'STRADA DEL REDENTORE 35', 'VIALE STAZIONE 18', 'VIA DEI MILLE 5', 'VIA AMILCARE PONCHIELLI 28', 'VIA MONVISO 27', 'STRADA VILLASTELLONE 39 BIS', 'VIA TIEPOLO 18', \"VIA GIOSUE' CARDUCCI 5\", 'STRADA REVIGLIASCO 56', 'STRADA ROCCACATENE 3', 'VIA GIAMBATTISTA VICO 8', 'STRADA PASUBIO 40', 'STRADA VIVERO 8', 'CORSO GIUSEPPE PARINI 12', 'STRADA CENASCO 116', 'STRADA CARIGNANO 30 1', 'STRADA CARIGNANO 36 1', 'VIA MARENGO 5', 'BORGATA TAGLIAFERRO 10', 'VIA PETRARCA 25', 'VIA CAVOUR 58', 'VIA CAVOUR 24 BIS', 'STRADA GENOVA 261 BIS', 'VIA VENTIQUATTRO MAGGIO 12', 'VIA JUGLARIS 66', 'VIA CRISTOFORO COLOMBO 23 BIS', 'VIA PESCHIERA 10 BIS', 'STRADA VILLASTELLONE 39 BIS', 'VIA SESTRIERE 24', 'CORSO TRIESTE 41 1', 'VIA BOGINO 5', 'VIA MONTEBELLO 3', 'STRADA GENOVA 74', 'VIA FRANCESCO BARACCA 32', 'STRADA GENOVA 148', 'VIA AMILCARE PONCHIELLI 65', 'STRADA CARIGNANO 27', 'CORSO TRIESTE 57', 'STRADA VINOVO 5', 'VIA PAPA GIOVANNI XXIII 23', 'VIA PIAVE 3', 'VIA MONTE BIANCO 32', 'VIA GIACOMO LEOPARDI 2', 'VIALE STAZIONE 1 BIS', 'STRADA LORETO 12 B', 'VIA AMILCARE PONCHIELLI 17', 'VIALE STAZIONE 7 1', 'CORSO DANTE 11', 'VIA GALILEO GALILEI 24', 'VIA AMILCARE PONCHIELLI 27', 'VIA S.VINCENZO 1', 'STRADA GENOVA 353', 'STRADA GENOVA 85 TER', 'VIA FIUME 17', 'VIA MARENGO 10', 'VIA JUGLARIS 68', 'STRADA PRIVATA NASI 21', 'VIA MARENGO 8', 'VIA ANTONIO GRAMSCI 8', 'STRADA STUPINIGI 1 1', 'CORSO ROMA 41 3', 'VIA DEI MILLE 12', 'BORGATA BAUDUCCHI 41', 'CORSO TRIESTE 71', 'VIA JOHN F. KENNEDY 3', 'STRADA TORINO 96', 'STRADA STAZIONE SANGONE 17', 'VIA FRATELLI CAIROLI 38', 'VIA FIUME 21', 'STRADA BARAUDA 57', \"VIA ASILO DUBBIE' 7\", 'VIA BENVENUTO CELLINI 6', 'VIA S.MARIA 46', 'STRADA CASTELVECCHIO 6 TER', 'STRADA REVIGLIASCO 73', 'VIA PIAVE 1', 'VIA GRAZIA DELEDDA 14', \"STRADA BOCCIA D'ORO 1\", 'VIA ALESSANDRO MANZONI 4', 'STRADA GENOVA 158', 'VIA PIAVE 14', 'VIA PATERI 25', 'STRADA GENOVA 315 BIS', 'VIA S.GIOVANNI BOSCO 22', 'STRADA PASUBIO 12', 'CORSO ROMA 91', 'VIA PASTRENGO 102 5', 'CORSO ROMA 83', 'VIA RENZO CATTANEO 11', 'VIA MONTE BIANCO 11', 'VIA S.VINCENZO 1', 'STRADA TORINO 73', 'VIA CAVOUR 34', 'VIA PASTRENGO 110 2', 'VIA PASTRENGO 7 BIS', 'STRADA GENOVA 93 2', 'STRADA VECCHIA DEL MORIONDO 89 A', \"PIAZZA CADUTI PER LA LIBERTA' 3\", 'CORSO TRIESTE 26', 'VIA GIUSEPPE UNGARETTI 8', 'STRADA STUPINIGI 8 1', 'STRADA REVIGLIASCO 109', 'VIA MAURIZIO BERIA 38', 'STRADA GENOVA 275', 'STRADA ROSARIO SCALERO 6', 'VIA MAURIZIO BERIA 21', 'VIA JUGLARIS 58', 'STRADA GORREE 51 3', 'BORGATA TETTI SAPINI 128', 'VIA MONVISO 25', 'STRADA SANDA 8 TER', 'VIA PESCHIERA 7', 'VIA CAVOUR 68', 'VIA JUGLARIS 58', 'VIA PASTRENGO 122', 'VIA FRATELLI MASERA 18', 'VIA SESTRIERE 28 BIS', 'CORSO FRATELLI ROSSELLI 10', 'VIA GRAZIA DELEDDA 27', 'STRADA MADDALENA 20 14', 'STRADA GENOVA 253 3', 'VIA PIERO GOBETTI 3', 'STRADA VILLASTELLONE 21', 'STRADA SANDA 63', 'STRADA C. FERRERO DI CAMBIANO 22', 'VIA PATERI 10', 'VIA TAMAGNONE 9', 'VIA GIACOMO LEOPARDI 7', 'VIA GOFFREDO MAMELI 3', 'BORGATA BAUDUCCHI 30 BIS', 'VIA DEI MILLE 10', 'VIA ADA NEGRI 25', 'VIA AMILCARE PONCHIELLI 50', 'BORGATA TETTI ROLLE 6', 'STRADA BARAUDINA 12', 'CORSO SAVONA 56', 'VIA DEI TIGLI 16 15', 'VIA SALUZZO 46 5', 'STRADA STUPINIGI 47', 'VIA LUIGI EINAUDI 14', 'STRADA REVIGLIASCO 207', 'STRADA VINOVO 16', 'CORSO SAVONA 4 BIS', 'STRADA REVIGLIASCO 37 1', 'STRADA GENOVA 291', 'STRADA CARIGNANO 17', 'STRADA GENOVA 249 B', 'PIAZZA BENGASI 26', 'VIA CRISTOFORO COLOMBO 24 BIS', 'VIA SESTRIERE 52', 'VIALE STAZIONE 7', 'STRADA REVIGLIASCO 118', 'BORGATA BAUDUCCHI 40', 'VIA ZARA 7', 'VIALE DEL CASTELLO 48', 'STRADA GENOVA 85 TER', 'STRADA DEL PESCO 37', 'STRADA S.AMBROGIO 4', 'STRADA CARIGNANO 44', 'STRADA S. VITTORIA 30', 'STRADA TORINO 81', 'CORSO ROMA 23', 'VIA PESCHIERA 4', \"VIA MARTIRI DELLA LIBERTA' 8\", 'STRADA DEI MANZI 6', 'VIA FIUME 22', 'VIA GIACOMO LEOPARDI 20', 'STRADA CUNIOLI ALTI 118', 'VIA GIACOMO PUCCINI 32', 'VIA PAPA GIOVANNI XXIII 35 B', 'PIAZZA ARGIROUPOLI 28', 'VIA GRAZIA DELEDDA 23', 'STRADA DELLA ROVERE 6 BIS', 'STRADA DELLA ROVERE 16', 'VIA CARLO ALBERTO 4', 'BORGATA TAGLIAFERRO 72 5', 'STRADA S.ANSELMO 25', 'STRADA REVIGLIASCO 255', 'STRADA MAIOLE 3 4', 'VIA DELLA FONDERIA 5', 'STRADA BARAUDINA 3', 'CORSO TRIESTE 67', 'VIA MONTEBELLO 5', 'STRADA ROSARIO SCALERO 14', \"VIA MARTIRI DELLA LIBERTA' 2\", 'VIA MONTE BIANCO 38', 'VIA PESCHIERA 11', 'VIA DELLE ACACIE 16', 'VIA AMILCARE PONCHIELLI 30', 'VIA FRATELLI CAIROLI 32', 'VIA S.MARTINO 17', 'STRADA RIGOLINO 1 BIS', 'VIA GIUSEPPE DI VITTORIO 7', 'VIA NAZARIO SAURO 18', 'VIA S.MATTEO 23', 'VIA GALILEO GALILEI 8', 'VIALE DEI CILIEGI 6', 'VIA PADRE GIUSEPPE COLOMBO 7', 'VIA JUGLARIS 6', 'CORSO TRIESTE 51', 'VIA DELLE MIMOSE 14', 'BORGATA TAGLIAFERRO 11 14', 'PIAZZA GUGLIELMO MARCONI 2', 'VIA GARIBALDI 12', 'VIA PIERO GOBETTI 7', 'VIA PETRARCA 14', 'BORGATA TAGLIAFERRO 22', 'STRADA TORINO 10', 'STRADA PASUBIO 40', 'CORSO ROMA 45 3', 'VIA TAMAGNONE 5', 'VIA GIACOMO BOSSO 16', 'CORSO GIUSEPPE PARINI 5', 'STRADA DEL BOSSOLO 9 BIS', 'VIA CARLO COLLODI 2', 'VIA MONTE BIANCO 18', 'STRADA GENOVA 52', 'BORGATA TAGLIAFERRO 38', 'VIA PAPA GIOVANNI XXIII 31', 'VIA GIACOMO MATTEOTTI 8', 'CORSO ROMA 91', 'STRADA S.AMBROGIO 4', 'CORSO ROMA 38', \"STRADA MARSE' 27 2\", 'STRADA REBAUDE 9', 'STRADA GENOVA 172', 'STRADA CARIGNANO 58 BIS', 'VIA S.GIOVANNI BOSCO 18', 'STRADA GENOVA 38', 'STRADA REVIGLIASCO 99 2', 'CORSO SAVONA 179', 'VIA MONTE BIANCO 36', 'STRADA C. FERRERO DI CAMBIANO 1 TER', 'VIA CRISTOFORO COLOMBO 22 BIS', 'STRADA REVIGLIASCO 46 BIS', 'VIA ADA NEGRI 52 C', 'VIA CARLO COLLODI 2', 'CORSO SAVONA 119', 'VIA GRAZIA DELEDDA 27', 'CORSO SAVONA 109', 'CORSO TRIESTE 67', 'STRADA GENOVA 145', 'VIA CAVOUR 19', 'STRADA S.ANSELMO 21', 'STRADA S.BRIGIDA 131', 'STRADA DEL PESCO 37', 'STRADA GENOVA 58 3', 'VIA JUGLARIS 27', 'STRADA REVIGLIASCO 194', 'STRADA CARIGNANO 32 BIS', 'VIA SESTRIERE 49 BIS', 'VIA PESCHIERA 7', 'STRADA CASTELVECCHIO 21', 'STRADA TORINO 73 3', 'STRADA PRIVATA NASI 18', 'VIA TITO SPERI 3', 'STRADA CARIGNANO 25 2', 'STRADA GENOVA 152', 'VIA IPPOLITO NIEVO 4', 'STRADA RIVAMARE 24', 'VIA SOMALIA 37', 'STRADA DEL BOSSOLO 6', 'STRADA PRESERASCA 53', 'STRADA DEL CERVO 25', 'STRADA PASUBIO 38', 'BORGATA TAGLIAFERRO 11 20', 'STRADA VECCHIA DEL MORIONDO 60', 'VIA GIUSEPPE GIACOSA 5', 'CORSO ROMA 45 4', 'STRADA DEL REDENTORE 21', 'VIA SESTRIERE 4 1', 'BORGATA PALERA 7', 'VIA GIUSEPPE UNGARETTI 10', 'STRADA MONGINA 2', 'CORSO ROMA 95', 'VIA VITTORIO ALFIERI 17', 'STRADA REVIGLIASCO 37 13', 'VIA GIUSEPPE ROMITA 4', 'VIA UGO FOSCOLO 7', 'STRADA DELLE FINANZE 23 8', 'STRADA PASUBIO 59', 'VIA NAZARIO SAURO 16', 'STRADA GENOVA 259 BIS', 'VIA TORQUATO TASSO 4', 'STRADA DEL BOSSOLO 10 4', 'STRADA TORINO 73', 'VIA GRAZIA DELEDDA 17 4', 'VIA NILDE IOTTI 10', 'STRADA GENOVA 120 4', 'VIA MAURIZIO BERIA 2', 'VIA EDMONDO DE AMICIS 9', \"STRADA MARSE' 20 5\", 'BORGATA PALERA 43', 'STRADA GENOVA 323', 'STRADA GENOVA 58 4', 'STRADA DEL CERVO 38', 'VIALE STAZIONE 14', 'STRADA S. VITTORIA 15', 'VIA GRAZIA DELEDDA 25', 'STRADA REVIGLIASCO 78', 'VIA UGO FOSCOLO 18', 'VIA CAVOUR 17 1', 'VIA GIUSEPPE ROBALDO 11', 'BORGATA TETTI PIATTI 74 BIS', 'VIA CESARE BATTISTI 2 TER', 'VIA GIORDANO BRUNO 14', 'VIA TRENTO 22', 'BORGATA TAGLIAFERRO 78', 'STRADA MIRAVALLE 19 1', 'VIA PAPA GIOVANNI XXIII 29', 'STRADA REVIGLIASCO 27', 'STRADA REBAUDE 15', 'STRADA VINOVO 56 BIS', 'VIA LUCIO CATULLO 9', 'VIA TENIVELLI 39', 'STRADA PIOBBA 2', 'CORSO ROMA 75', 'STRADA REVIGLIASCO 22', 'REGIONE VALLERE 6', 'STRADA GENOVA 138', 'STRADA CARIGNANO 62 4', 'VIA REAL COLLEGIO 10', 'VIA PASTRENGO 82', 'STRADA STUPINIGI 1 6', 'VIA CAVOUR 17', 'STRADA MILIUS RONSAGLIA 6', 'VIA PIETRO MARONCELLI 26 BIS', 'VIA S.VINCENZO 7', 'BORGATA TETTI PIATTI 43', 'BORGATA TETTI PIATTI 19', 'STRADA REVIGLIASCO 195', 'VIA FRATELLI CAIROLI 26', 'STRADA REVIGLIASCO 156', 'VIA GIACOMO PUCCINI 4', 'STRADA MONGINA 2', 'PIAZZA ARGIROUPOLI 2', 'STRADA GIORGIO DEVALLE 60', \"STRADA BOCCIA D'ORO 24\", \"VIA MARTIRI DELLA LIBERTA' 12\", 'VIA LUIGI PIRANDELLO 17', 'STRADA VILLASTELLONE 39', 'BORGATA TAGLIAFERRO 133', 'VIA FRATELLI CERVI 1', 'STRADA VINOVO 18 BIS', 'STRADA REVIGLIASCO 21', 'CORSO ROMA 46 BIS', 'BORGATA TAGLIAFERRO 60', 'VIA ANGELO BROFFERIO 2', 'STRADA GENOVA 160', \"VIA MARTIRI DELLA LIBERTA' 10\", 'STRADA GENOVA 138', 'STRADA GENOVA 76', 'VIA PASTRENGO 47', 'BORGATA TETTI PIATTI 10', 'VIA MONTEBELLO 2', 'VIA S.CROCE 29', 'STRADA MAIOLE 26 A', 'CORSO ROMA 88', 'VIALE DEI CILIEGI 24', 'VIA PASTRENGO 47', 'STRADA MIRAVALLE 19', 'STRADA VILLASTELLONE 20', \"VIA MARTIRI DELLA LIBERTA' 7\", 'VIALE DEL CASTELLO 42', 'STRADA CIGALA 32 1', 'VIA CRISTOFORO COLOMBO 42 BIS', 'BORGATA BAUDUCCHI 36 3', 'VIA ALESSANDRO MANZONI 5', 'VIA PESCHIERA 11', 'STRADA PRIVATA NASI 17', 'LUNGO PO ABELLONIO 6', 'CORSO GIUSEPPE PARINI 15 C', 'CORSO SAVONA 110', 'STRADA PASUBIO 38', 'VIA FRATELLI CAIROLI 12', 'VIA CAVOUR 22 BIS', 'VIA PIETRO MARONCELLI 14', 'VIA GIOACCHINO ROSSINI 11', 'CORSO DANTE 7', 'STRADA VILLASTELLONE 32 TER', 'VIA MONTE BIANCO 53', 'STRADA REVIGLIASCO 330', 'VIA ADA NEGRI 7', 'VIA PESCHIERA 5', 'VIA GIUSEPPE ROMITA 2', 'VIA JUGLARIS 54', 'STRADA DELLA ROVERE 12', 'VIA ANTONIO GRAMSCI 7', 'VIA PIAVE 3', 'VIALE ENRICO BERLINGUER 8 12', 'VIA CRISTOFORO COLOMBO 22 BIS', 'STRADA MAIOLE 26', 'STRADA TORINO 16 TER', 'VIA MONTE NERO 13', 'VIA TAMAGNONE 11', 'STRADA GENOVA 147 BIS 2', 'PIAZZA BENGASI 26', 'VIA SESTRIERE 53 4', 'LUNGO PO ABELLONIO 12 10', 'VIA AMILCARE PONCHIELLI 60', 'VIA FRATELLI CAIROLI 30', 'CORSO TRIESTE 37', 'VIA AMILCARE PONCHIELLI 61', 'VIA SESTRIERE 17', 'CORSO GIUSEPPE PARINI 15', 'BORGATA TAGLIAFERRO 33', 'STRADA S.MICHELE 32 BIS']\n",
            "['STRADA VISONE 11 ENRICO', 'CORSO ROMA 4 CREACO ALESSANDRA', 'STRADA S. VITTORIA 30 COSTANZA', 'STRADA GENOVA 206', 'BORGATA TETTI PIATTI 18', 'VIA GIUSEPPE UNGARETTI 16 CAVALLO CATTERINA', 'STRADA VILLASTELLONE 53 DANIELA', 'STRADA REBAUDE 180 ALBERTO', 'STRADA DEI MUGHETTI 8 CAPELLO STEFANO', 'VIA PASTRENGO 68 LUIGI', 'VIA CAVOUR 2 NICOLA', 'STRADA DEL CERVO 25', 'BORGATA PIATTI 24 AUDISIO SILVANA', 'VIA S. VINCENZO 5 MARCO AURELIO', 'VIA CAVOUR 37 BISIGNANO VINCENZO', 'BORGATA TAGLIAFERRO 86 GIACOMO VINCENZO', 'VIA VINCENZO BELLINI 25 EDOARDO', 'VIA S. MATTEO 19 GIUSEPPINA', 'VIA FORTUNATO POSTIGLIONE 24 AMILCARE', 'STRADA REVIGLIASCO 73 ENRICO', \"VIA REAL COLLEGIO 14 ' DAVIDE\", 'STRADA STUPINIGI 1 PATRIZIA FEDERICA', 'VIA GIORDANO BRUNO 14 PONCHIONE CARLA', 'VIA GIUSEPPE ROMITA 4 GIOVANNI BIAGIO', 'VIA GIACOMO PUCCINI 28 GAIA', 'VIA MONVISO 27 FLOREA ALEX ANDREI', 'STRADA MADDALENA 63 LUCIANA', \"PIAZZA CADUTI PER LA LIBERTA'7\", 'VIA GIACOMO PUCCINI 24', 'VIA VENTIQUATTRO MAGGIO 6 NUNZIO', 'CORSO ROMA 40', 'STRADA VILLASTELLONE 46 ALESSANDRA', 'STRADA VIVERO 15 SALVATORE', \"VIA PASTRENGO 33 ' ANGIOLINA\", 'BOSIO ETTORE', 'BORGATA TETTI PIATTI 69 MICHELE', 'STRADA SANDA 63 GIAMMARIA GABRIELE', 'STRADA PASUBIO 60', 'STRADA PRESERASCA 39', 'VIA MARIO PANNUNZIO 24 PATRIZIA', 'BORGATA PIATTI 29 CARMELA', 'CORSO TRIESTE 57 GIUSEPPINA', 'STRADA REVIGLIASCO 51 MATTEO', 'STRADA GENOVA 269 CLAUDIO', 'STRADA DEL PESCO 9', 'VIA SOMALIA 37 CHAKER', \"STRADA MARSE'23\", 'VIA CRISTOFORO COLOMBO 26', 'VIA CAVOUR 27 DONATA', 'VIA TORQUATO TASSO 20 DOMENICO', 'BOSCO REBECCA', \"STRADA MARSE'27 ROCCA SIMONA\", 'STRADA GENOVA 339', 'VIA LUIGI PIRANDELLO 4 ALESSIA', 'VIA VILLAFRANCA 30 GHIBAUDO PAOLA', 'STRADA CARIGNANO 151', 'VIA GOITO 15', 'STRADA VIVERO 47 MARCO', 'VIA MONTEBELLO 7 CUTERI DOMENICO', \"VIA ASILO DUBBIE'6 ALLISIO TERESA\", 'VIA MARIO PANNUNZIO 32 ELENA', 'VIA MONTE BIANCO 36 VASILE', 'VIA CARLO ALBERTO 5', 'VIA REAL COLLEGIO 23 CALLIGARO ANDREA', 'BOSCO ALESSIO', \"VIA MASSIMO D'AZEGLIO 4\", 'VIA AMILCARE PONCHIELLI 39', 'VIA TORQUATO TASSO 16 CARISTIA MICHELE', 'STRADA BRANDINA 2 GIOVANNI', 'VIA TIEPOLO 11', 'CORSO SAVONA 74', 'STRADA GENOVA 58 FEDERICO ALESSIO', 'VIA S. CROCE 29 GIUSEPPINA', 'STRADA STUPINIGI 12 MELO SUELI', 'STRADA DEL CERVO 15 VINCENZO', 'VIA MARIO PANNUNZIO 20 MARCO', 'LUNGO PO ABELLONIO 4 DANIEL', 'VIA CESARE PAVESE 11', 'VIALE PORTA PIACENTINA 47 FERRERO ANNIKA', 'STRADA RIGOLINO 2', \"VIA GIUSEPPE ROMITA 4 ' ANTONIO\", 'STRADA DEL CERVO 25 TAMARA', 'BORGATA TAGLIAFERRO 9 CRIVELLARI STEFANO', 'VIA GRAZIA DELEDDA 7', 'VIA MARTIRI DI CEFALONIA 5 ARJOUN', 'BORGATA TETTI PIATTI 43 ELVIRA', 'VIA CRISTOFORO COLOMBO 43 LEUCI MARIA', 'BORGATA TETTI ROLLE 20 ANTONELLA', 'VIA MONTE NERO 13', 'VIA CESARE PAVESE 13', 'STRADA REVIGLIASCO 72 MARIA RICCARDO', 'CORSO SAVONA 6 EMANUELE', 'STRADA STUPINIGI 4 MATTIA', 'VIA MARIO PANNUNZIO 7 ANTONIO', 'VIA VILLAFRANCA 7 ROMERO VILA MAYCON JORDAN', 'STRADA GENOVA 34 SILVANO', 'CORRADO ANDREA', 'VIA SALUZZO 32 TERESA', 'VIA MONVISO 27 CRISTINEL', 'VIA PESCHIERA 7 GABRIELE', 'VIA S. GIOVANNI BOSCO 18', 'STRADA TORINO 73 PALLANTE MARCELLO', 'STRADA CARIGNANO 22 VINCENZO', 'VIA LUIGI PIRANDELLO 2 GABRIELE', 'STRADA VILLASTELLONE 25', 'VIA GIACOMO LEOPARDI 7', 'STRADA S. BRIGIDA 214 WESLEY', 'STRADA MADDALENA 102 PINGITORE SARA', 'VIA PAPA GIOVANNI XXIII 25 BRANCIFORTE ADELE', 'STRADA BOCCIA D ORO 14 INDELLICATI', 'STRADA CASTELVECCHIO 23', 'STRADA PASUBIO 34 ROSARIA', 'STRADA CARIGNANO 13 GRAZIA', 'VIA JUGLARIS 29', 'STRADA VILLASTELLONE 25 LUCIA', 'BORGATA TETTI PIATTI 31 EMMET', \"STRADA MARSE'27 PAVESIO SILVIA\", 'STRADA PRIVATA NASI 4', 'STRADA RIGOLINO 7 BIANCA', 'VIA LODOVICO ARIOSTO 14 MARCO', 'CORSO ROMA 41 NICOLA', 'ROU BORGATA TAGLIAFERRO 14', 'BORGATA PALERA 31 LUCA', 'LARGO LEONARDO DA VINCI 1 MARIO', 'CORSO ROMA 24 PERRELLA STELIO', 'LUNGO PO ABELLONIO 12 ROBERTA', 'VIA CAVOUR 9', 'VIA GRAZIA DELEDDA 21 ROBERTA', 'VIA ZARA 30 GABRIEL', 'VIA SESTRIERE 53 ORNELLA', 'STRADA VILLASTELLONE 32 EVELINO', 'VIA AMILCARE PONCHIELLI 54', 'CORSO FRATELLI ROSSELLI 12 LORENA', 'VIA VINCENZO LANCIA 2 RICCARDO', 'VIA BENVENUTO CELLINI 5', 'BORGATA TAGLIAFERRO 111', 'VIA CERNAIA 1 SORISIO LILIANA', 'VIA SESTRIERE 53', 'VIA PASTRENGO 94', 'VIA SALUZZO 46 ADELE', 'VIA FRATELLI CAIROLI 31 GABRIELE', 'VIA DE FERNEX 3 ALBERTO', 'STRADA DEL BOSSOLO 5 BERTOLA CATERINA', 'VIA S. GIOVANNI BOSCO 14 MASSIMO', 'VIA SESTRIERE 9 SCORDINO FRANCESCA', 'BORGATA TAGLIAFERRO 38 CLARA', 'STRADA MADDALENA 109', 'VIA GIORDANO BRUNO 12 VALERIA', 'VIALE STAZIONE 7 VILLELLA SALVATORE', 'VIA AMILCARE PONCHIELLI 7 CRAVERO FRANCA', 'STRADA DEL PESCO 5', 'STRADA REVIGLIASCO 72', 'VIA GIOACCHINO ROSSINI 26 ROSITANO DANIELE', 'VIA FRATELLI CAIROLI 13 PETRILLO ETTORE', 'STRADA GENOVA 174 GARIGLIO ALBINA', 'VIA COL DI CADIBONA 25 MARIA ELENA', 'VIA PASTRENGO 78 SARA', 'VIA MIRAFIORI 15', 'VIA CESARE BATTISTI 8 STOCHINO LUCA', 'VIA PIER CAPPONI 12 CLAUDIO', 'CORSO ROMA 37', \"STRADA PASUBIO 34 ' ANITA\", 'CORSO TRIESTE 53 MARCO', \"VIA MONTE BIANCO 1 ROMBOLA'GIUSEPPE\", 'VIA GIUSEPPE GIACOSA 12', 'VIA PIERO GOBETTI 3 TURCO MARISA', 'VIA SESTRIERE 25 MANUEL', 'STRADA VILLASTELLONE 39 PACCHIOTTI CHIARA', 'STRADA DEI BUSSI 8 VERONESE GIOVANNI', 'BORRI LOREDANA', 'BORGATA TAGLIAFERRO 10 SARA', 'RAUTA GABRIEL IONEL', 'SUPPA MICHELINA', 'STRADA CARIGNANO 38 CIATTINO MARIA GRAZIA', 'VIALE DEI CILIEGI 20', 'STRADA CARIGNANO 22 ARTURI MARCELLO', 'STRADA DEL REDENTORE 150 ENRICO', 'BORGATA PIATTI 59 GIORGIO', 'VIA S. MARTINO 18 ROMINA', 'VIA GIORDANO BRUNO 8 INTOCCIA SIMONE', 'VIA MONTE BIANCO 1 CHECCHIN', 'VIA DELLA CAVA 6 DAVIDE', 'STRADA LORETO 24 SETTIMO GIANFRANCO', 'VIA AMILCARE PONCHIELLI 30 GIACOMO', 'STRADA DEL REDENTORE 17 PATRIZIA', 'STRADA GENOVA 191 MARILENA', 'CORREALE FABIANA', 'STRADA S. AMBROGIO 4 DAVIDE', 'STRADA CARIGNANO 115', \"STRADA CARIGNANO 32 CAVAGLIA'LAURA\", 'STRADA GIORGIO DEVALLE 17 MONICA', 'VIA LUCREZIO CARO 14', 'VIA S. MARIA 47 TRUDA PASQUALE', 'STRADA VILLASTELLONE 6 TREIER KASPAR', 'STRADA RIGOLINO 13', 'VIA MONTE GRAPPA 13 GONELLA MARIA', 'STRADA DEL BOSSOLO 46 DOMENICO', 'STRADA TORINO 96 DEJANIRA', 'STRADA MILIUS RONSAGLIA 14 GIORGIA', 'STRADA VILLASTELLONE 25 VIRGINIA', 'LUNGO PO ABELLONIO 12 CARMELO', 'STRADA CASTELVECCHIO 23 SANINO ROBERTO', 'CORSO ROMA 71 GIOVANNA', 'STRADA LORETO 22 MASSIMO', 'BORGATA TETTI PIATTI 52 VINCENZO', 'VIA TIEPOLO 14 ALFIERI CALOGERO', 'STRADA GENOVA 195', 'BORGATA PIATTI 77 ANTONIO', 'VIA JUGLARIS 66 DIANA CAROLINA', 'VIA S. GIOVANNI BOSCO 4 MARRAFFINO SILVANA', 'BORGATA TAGLIAFERRO 21 VITTORIA', \"VIA MARTIRI DELLA LIBERTA'7\", 'STRADA VILLASTELLONE 4 PISTORINO THOMAS', 'CORSO TRIESTE 25', 'BORGATA TETTI PIATTI 17 ROCCO', 'VIA SESTRIERE 47 MILITELLO SIMONE', 'STRADA MAIOLE 3 BAUDINO MORENA', 'VIA GIACOMO LEOPARDI 9 GIOVANNINO', 'VIA GIUSEPPE GIACOSA 14 PAUTASSO BEATRICE', 'STRADA CASTELVECCHIO 37 DANILO', 'VIA SESTRIERE 13', 'PIAZZA GIUSEPPE FAILLA 3 MAURO', 'VIA S. MARIA 64 GARAGLIANO TERESA', 'STRADA STUPINIGI 6 CLEMENTINA', 'nan GIOVANNI', 'VIA SESTRIERE 23', 'STRADA VISONE 6 LINO', 'LARGO LEONARDO DA VINCI 1 VINCENZO', 'VIA PIETRO MARONCELLI 3 MARIA LUISA', 'CORSO ROMA 17 CARLA', 'VIA AMILCARE PONCHIELLI 51 CHIARA', 'VIA PRIMO MAGGIO 2 LUCIA', 'VIALE DEL CASTELLO 2 ANGELO', 'STRADA DEL BOSSOLO 52 ADRIANA', 'VIA S. GIOVANNI BOSCO 14 SANDRO', 'VIA GORIZIA 7 RENATA', 'VIA TIEPOLO 11', 'STRADA LORETO 22 FRANCO', 'BONGIOVANNI GEMMA ROSA', 'STRADA VINOVO SNC ASCANIO', 'VIA FILIPPO TURATI 10 CARLA', 'VIALE DEL CASTELLO 34 MAURO', 'STRADA GENOVA 251 TALIANO MATTIA', 'VIA GOFFREDO MAMELI 11 SIMONE', 'STRADA GENOVA 82 UGO', 'STRADA VINOVO SNC', 'VIA SOMALIA 21 MINUCCI VELIA', 'CORSO TRIESTE 73', 'STRADA S. MICHELE 9', 'VIA GIOACCHINO ROSSINI 21 BARBERO VALERIA', 'VIA PRIVATA ALTA ITALIA 2', 'VIA PIETRO MASCAGNI 9 FILIPPO', 'VIA MONTE BIANCO 34 MESIANO ELISABETTA', 'STRADA SANDA 57 SIMONE', 'VIA JUGLARIS 17', 'VIA GIUSEPPE ROMITA 3 ALESSIO', 'BORCA TOMMASO', 'STRADA GENOVA 56 GIOVANNI GUIDO GIUSEPPE', 'STRADA GAVONI 4 TURATO', 'VIA CRISTOFORO COLOMBO 16 FRANCESCO', 'VIA SESTRIERE 31 GABRIELLA', 'STRADA S. MICHELE 3 GALATO MARIA PIA', 'VIA SESTRIERE 53 FRANCESCO FRANCO', 'PIAZZA DEL FIENO 3', 'STRADA PRACIOSA 6', 'VIA S. MATTEO 19 VARVARO DANIELA', 'VIA NILDE IOTTI 12 CRISTINA', 'STRADA LORETO 32 MARISA', 'VIA MENTANA 1', 'VIA PAPA GIOVANNI XXIII 37 PIERRO GIULIA', \"STRADA VADO'7 CARPINELLO BARBARA\", 'CORSO ROMA 79', 'VIALE PORTA PIACENTINA 43 SARDEO FLORA', 'STRADA GENOVA 239', 'STRADA VISONE 6 MARCHETTI VIRGINIA', 'CORSO TRIESTE 67 MONTE LUCIA', 'CORSO ROMA 72 MARIA', 'STRADA DELLE MARGHERITE 8', 'VIA GIORDANO BRUNO 4 PAVAN ESTER', 'CORSO ROMA 41 MARIO', 'VIA JUGLARIS 68 AMINA', 'STRADA PIOBBA 2 BORETTO FEDERICO', 'CORSO DANTE 8', 'VIA PESCHIERA 11', 'STRADA PECETTO 2 MARCO', 'VIA SESTRIERE 25', 'STRADA GENOVA 64 DOMENICO', 'STRADA PASUBIO 36 BRUNO FRANCESCO', 'VIALE DEL CASTELLO 19 CABELLA SILVANA', 'VIA PIAVE 14 BRUNA', 'STRADA MONCALVO 66 FERRARIS GIOVANNA', 'VIA GIACOMO LEOPARDI 12 CONTARDO GERARDO', 'VIALE DEL CASTELLO 42 CRISTINA', 'VIA SESTRIERE 49 CRISTINA', 'VIA SOMALIA 13', 'VIA CRISTOFORO COLOMBO 42 DIMICHINO GREGORIO', 'STRADA DELLE FINANZE 17 CHIARA', 'VIA GIOVANNI SEGANTINI 26 NAPOLIONE PAOLO', 'CORSO TRIESTE 75 ALEO SALVATORE', 'STRADA PRIVATA NASI 29 ROCCO', 'STRADA BELMONTE 6 MORETTI MARCO', 'STRADA VILLASTELLONE 28 CATERINA', 'STRADA BARAUDA 45 AURORA', 'CORSO ROMA 75 LUIGI', 'VIA CAVOUR 27 VINCENZO', 'VIA GIORDANO BRUNO 8', 'VIA GIUSEPPE ROMITA 2 MARIKA', 'STRADA PRESERASCA 6 BENCHEA IULIAN', 'BORDONE DANIELE', 'STRADA DEL BOSSOLO 12 ANTONINO', 'VIA SESTRIERE 49 PIACENTINO ELISABETTA', 'VIA ALCIDE DE GASPERI 7 GIULIA', 'VIA SESTRIERE 47 BURZIO DAVIDE', 'REGIONE VALLERE 10', 'STRADA GENOVA 228 FRANCA', 'CORSO ROMA 24 LIVIO', 'VIA MONTE NERO 11', 'STRADA LORETO 28 LORENZO', 'CORSO TRIESTE 81 TAVELLA ANTONIO', 'VIA COL DI CADIBONA 28 PAOLA', 'STRADA GENOVA 173 ALEINA', 'STRADA VIVERO 9', 'LARGO LEONARDO DA VINCI 1', 'VIA MIRAFIORI 15 MURGIA MAURO', 'VIA SESTRIERE 13', 'VIA PRIVATA ALTA ITALIA 3 DUMITRU CORNELIU', 'VIA S . VINCENZO 5 MASSIMO', 'STRADA DELLE FINANZE 23 ENRICO', 'VIA ALFONSO LAMARMORA 6 GIANPAOLO', 'VIA MIRAFIORI 15 CONCETTA', 'STRADA GENOVA 241 STEFANO', 'CORSO SAVONA 4 CARDONE RITA', 'VIA CAVOUR 52 MICHELA', 'VIA VINCENZO BELLINI 23 VONA FILOMENA', 'VIA DELLE MIMOSE 3 PAOLA', 'CORSO GIUSEPPE PARINI 15', 'VIA MATILDE SERAO 3 LUIGIA', 'VIA PATERI 25 ENRICO', 'CORSO TRIESTE 67 ACCOTO FRANCESCO', 'VIA NILDE IOTTI 6 PIETRO', 'VIA S. VINCENZO 1 ANGELA', 'VIA GIACOMO BOSSO 20 MARIANNA', 'STRADA GENOVA 219 ANTONIO', 'VIA JUGLARIS 23 AIELLO ANNA MARIA', \"STRADA MARSE'33 PALERMO GIORGIA\", 'VIA VINCENZO BELLINI 6 FLORESTA VINCENZO', 'VIA SESTRIERE 23', 'VIALE ENRICO BERLINGUER 8 ERIKA', \"PIAZZA CADUTI PER LA LIBERTA'13 FISSORE RICCARDO\", 'VIA CRISTOFORO COLOMBO 23 MARTINA', 'VIA AMILCARE PONCHIELLI 39', 'CORSO ROMA 14 CALOGERA', 'STRADA PASUBIO 5 GRAZIELLA', 'STRADA CASTELVECCHIO 16', 'VIA DELLE ACACIE 16 RAFFAELLA', 'VIA GRAZIA DELEDDA 23 VENTRICE GIULIA', 'VIA ORAZIO FLACCO 12 COSTANZA', 'STRADA DEL BOSSOLO 48 OMIZZOLO LORENZO', 'VIA FRATELLI MASERA 5 CARLA', 'CORSO ROMA 93 VICTOR VASILE', 'PIAZZA VITTORIO EMANUELE 3 CLAUDIA', 'VIA S. MARIA 35 FABIO', 'VIA VENTIQUATTRO MAGGIO 23 ERMANNO', 'STRADA DELLE FINANZE 23 VIRGINIA', 'VIA VINCENZO BELLINI 7 CRISTINA MIHAELA', 'VIA MONTE BIANCO 40 VOERZIO ANNA', 'VIA VITTORIO ALFIERI 27 CARLO', \"VIA MARTIRI DELLA LIBERTA'2 GUIDO\", 'VIA S. CROCE 3 AIELLO ELIDE JOLANDA', 'VIA GIACOMO PUCCINI 4 MARIUS MARCELIN', 'VIA MONVISO 1 TREVISANI GIUSEPPE', 'CORSO TRIESTE 31 BOSINI FRANCO', 'CORSO ROMA 10 GIOVANNI', 'VIA NILDE IOTTI 12 BELLAZ ROBERTO', 'STRADA MONCALVO 20 LEOPOLDO', 'VIA JUGLARIS 29', 'VIA SESTRIERE 53 DARIO', 'VICOLO DEL FORNO 6 TRINGOLO MIRIANA', 'VIA VENTIQUATTRO MAGGIO 29 GAIDA FRANCESCO', 'STRADA GENOVA 174 CURATOLO NEYLA', 'STRADA GENOVA 349 GAUTERO STEFANIA', 'VIA TEOFILO GAUTHIER 19 GIOVANNI LUIGI', 'STRADA CIGALA 41 FRANCESCO', 'STRADA S. MICHELE 8 UMBERTA', 'VIA S. GIOVANNI BOSCO 22 ROCCELLA RITA', 'STRADA RIGOLFO 24', 'BORGATA TETTI PIATTI 10 ELENA', 'STRADA DELLE FINANZE 3 MARGHERITA', 'STRADA PASUBIO 36 LEONARDO', 'STRADA REVIGLIASCO 173 ALESSANDRO', 'STRADA GENOVA 241 ACCOSSATO MARCO', 'MAR STRADA PRACIOSA 12', 'STRADA CUNIOLI ALTI 76 GIORDANO', 'VIA MARIO PANNUNZIO 30 BERNARDI MARIA TERESA', 'CORSO ROMA 27', 'STRADA GENOVA 257', 'VIA PASTRENGO 92 GRAZZI UBERTINA', 'STRADA DEL BOSSOLO 8 SIMONE', 'VIA GIUSEPPE MAZZINI 15 GRAZIANO LUCIA', 'VIA DEI TIGLI 13', 'VIA DON MINZONI 2 ANDREA', 'VIA LUIGI SETTEMBRINI 20 LIBERA LUCA', 'VIA SESTRIERE 53', 'VIA GIACOMO PUCCINI 17 LORICO LORENZO', 'VIA PASTRENGO 68 ADRIANA', 'VIA VENTIQUATTRO MAGGIO 23 MATTIA', 'VIA FRANCESCO BARACCA 20 GIANCARLO', 'VIA GIORDANO BRUNO 4 CASELLATO EMMA', 'STRADA C. FERRERO DI CAMBIANO SNC', 'VIA SESTRIERE 39 GIANCARLO', 'VIA GIUSEPPE ROMITA 6 CHIARA', 'CORSO ROMA 24', 'VIA MAURIZIO BERIA 21 TASSONE JACOPO', 'VIA NAZARIO SAURO 17 GIUSEPPE', 'MAR VIA QUINTINO SELLA 31 KHALID', 'STRADA PECETTO 23 VIRGILIO', 'STRADA MADDALENA 120 9 CLAUDIO', 'VIA GIUSEPPE MAZZINI 12', 'VIA LUIGI PIRANDELLO 15 MUSOLINO ILARIO', 'VIA AMILCARE PONCHIELLI 43', 'VIA TENIVELLI 39 BOCCARDO CLAUDIO', 'VIA SESTRIERE 9 ISABELLA', 'VIA GIUSEPPE ROBALDO 1', 'STRADA GENOVA 45 SANDRO', 'CORSO ROMA 86', 'STRADA C. FERRERO DI CAMBIANO 25', 'CORSO ROMA 31 DANIELE', 'STRADA C. FERRERO DI CAMBIANO 43 VITTORIO', 'STRADA CASTELVECCHIO 21 GIANLUCA', 'STRADA REVIGLIASCO 71 ENZO', 'STRADA COSTALUNGA 10 ROLLA VALMI', 'STRADA SCALETTE 4 CAMURATI ANNA', 'VIA TRENTO 17 CAVALLOTTO REBECCA', 'VIA ZARA 11 SOMANO MARIA ELISABETTA', 'STRADA GENOVA 315 ORAZIO', 'VIA S. GIOVANNI BOSCO 22 GORZA ELENA', 'VIA GAETANO DONIZETTI 7 COSMIN DANUT', 'STRADA REBAUDE 80', 'STRADA ROCCACATENE 95 OLIVIA', 'CORSO ROMA 62', 'CORSO TRIESTE 25 FRANCESCO', 'VIA LUIGI EINAUDI 38 LORENZO', 'VIA S. GIOVANNI BOSCO 18 MARIA', 'VIA S. CROCE 29 ROMANO PATRIZIA', \"PIAZZA CADUTI PER LA LIBERTA'11 VIOLA\", 'STRADA STUPINIGI 1 ROSARIA', 'STRADA GENOVA 321 GIUSEPPINA', 'STRADA S. VITTORIA 10 FRANCESCA', 'CORSO SAVONA 6 MARIA CONCETTA', 'BORGATA ROLLE 35 RAPETTO ANGELO', 'PIAZZA S. CROCE 2 CONSOLINA', 'VIA S. GIOVANNI BOSCO 6 FILIPPA', 'VIA PIAVE 9 GEORGIANA', 'VIA MENTANA 5 ROSA', 'VIA SESTRIERE 33 MASSIMOMICHELE', 'BORGATA TETTI PIATTI 7127', 'VIA PASTRENGO 49 SONCIN ETTORE', 'STRADA VISONE 2 FABRIZIO', 'CORSO ROMA 39 MAFALDA', 'VIA MAURIZIO BERIA 16 ROSA LUIGINA', \"CORSO TRIESTE 37 ' MARIA DORNELLA\", 'CORSO ROMA 14 LUCIA ANNA MARIA', 'VIA MONTE NERO 14', 'VIA PALESTRO 12', 'VIA S. MARIA 30 STECCA MAURIZIA', 'STRADA S. BRIGIDA 37 GIROLAMO', 'STRADA GENOVA 167 BIAGIO', 'STRADA S. SEBASTIANO 1', 'VIA PAPA GIOVANNI XXIII 23', 'VIA MAURIZIO BERIA 44 FIORINDO MAURIZIO', 'VIA AMILCARE PONCHIELLI 26 AVALIS BERNARDO', 'STRADA GENOVA 89 PARAGONE VINCENZO', 'STRADA COLOMBETTO 8', 'CORSO ROMA 37 FISSORE GIUSEPPE', 'STRADA ROCCACATENE 9 MILANO ALDO', 'VIA CESARE PAVESE 17 ELENA', 'VIA GIOTTO 17', 'VIA GIACOMO PUCCINI 6 ROVERO GABRIELLA', ' BORGATA TAGLIAFERRO 72', 'BOSCO DOMENICA PIERINA', 'STRADA PRACIOSA 8', 'VIA CESARE BATTISTI 8 ANGIOLINO', 'STRADA PRESERASCA 39', 'STRADA REVIGLIASCO 80 VALTER', 'VIA SESTRIERE 9', 'VIA MONVISO 21', 'VIALE ENRICO BERLINGUER 8 GIADA', 'VIA SESTRIERE 13 VISENTINI ANNA MARIA', 'STRADA MAIOLE 200 IRENE', 'STRADA GENOVA 78', 'BORGATA TAGLIAFERRO 5 IVAN', 'VIA DELLE ACACIE 16 VIRGINIA', 'BORGATA TAGLIAFERRO 7 LUCA', 'CORSO SAVONA 137 MIGLIACCIO FABIO', 'VIA GIUSEPPE MAZZINI 7 FRASCELLA CARMELINA', \"CORSO ROMA 39 ' RITA\", 'VIA GRAZIA DELEDDA 21 BELTRAME CECILIA', 'STRADA CASTELVECCHIO 9', 'VIA AMILCARE PONCHIELLI 63 BOSCOLO GALLO EMILIA', 'VIA GIACOMO PUCCINI 34 GIUSEPPE', 'VIA LUIGI EINAUDI 1 BELLANCA RITA', \"STRADA MARSE'33 CARMELO ROBERTO\", 'STRADA S. ANSELMO 12', 'STRADA REVIGLIASCO 7 MARIA IPPOLITA', 'STRADA CARIGNANO 13 MARIA', 'STRADA CARIGNANO 32 LILIANA', 'VIA CESARE PAVESE 17 DE SONJA', 'STRADA CARIGNANO 62', 'VIA PRIMO MAGGIO 4 PALEMBURGI ANDREA', 'CORSO DANTE 11 LUPOLI FRANCESCO', 'VIA LUIGI EINAUDI 40 ROSINA', 'VIA DELLA CASA COMUNALE 1 BRAGANTE MASSIMO', 'CORSO DANTE 7 PETROLO VINCENZINA', 'CORSO SAVONA 94', 'STRADA GENOVA 58 INCORVAIA CARLO', 'STRADA S. MICHELE 31 GALLINO LUIGI', 'VIA CAVOUR 30 LORUSSO FRANCESCO', 'STRADA GENOVA 74 SILVIA', 'STRADA CARIGNANO 36 MICHELA', \"VIA GIOSUE'CARDUCCI 13\", 'STRADA S. BRIGIDA 37 MARILENA', 'VIA SESTRIERE 11', 'STRADA REVIGLIASCO 15 ADRIANO', 'VIA ALCIDE DE GASPERI 50 MARRETTA ROSARIO', 'VIA MONTE BIANCO 10 BERTRANDO GIUSEPPE', 'STRADA GENOVA 147 ALESSANDRA', 'STRADA TORINO 73 MARCO', 'STRADA MADDALENA 25 PAOLA', 'STRADA GENOVA 167', 'VIA ALFONSO LAMARMORA 3 DAVICO EMMANUEL', 'CORSO ROMA 32 BELLONI CLARA', 'STRADA GENOVA 74', 'VIA GIACOMO PUCCINI 26 MARCO', 'STRADA DEL BOSSOLO 9 ROSINA', 'STRADA DEL CERVO 40 GIULIANA', 'STRADA GAVONI 14 HANS THOMAS', \"STRADA MARSE'25\", 'STRADA TORINO 65 GUNETTI MARIA GRAZIA', 'STRADA PASUBIO 40 ELLISY', 'VIA MARENGO 4 RUGGIERO NICOLETTA', 'VIALE DEL CASTELLO 21 ANDREA', 'BORGATA BAUDUCCHI 4 SILVIO', 'CORSO TRIESTE 31 GIULIA', 'STRADA GENOVA 147', 'STRADA GENOVA 132 PALMA', \"VIA GIOSUE'CARDUCCI 12\", 'VIA PIETRO MARONCELLI 14', 'VIA S. GIOVANNI BOSCO 4 SABRINA', 'STRADA CARIGNANO 19', 'VIA PASTRENGO 134 MAUGERI', 'VIA BENVENUTO CELLINI 4 FAVATA LUIGI', 'VIA GRAZIA DELEDDA 15 GILARDI SERGIO', 'VIA MARENGO 9', 'STRADA GENOVA 127', 'PIAZZA ARGIROUPOLI 2 MARIANNA MICHELA', 'VIA S. MARIA 35 ELEONORA', 'CORSO ROMA 53 ELISA', 'STRADA S. VITTORIA 38 FERRARIO CESARE', 'CORSO GIUSEPPE PARINI 5 SERGIO', 'PIAZZA AMEDEO FERDINANDO 2 PAOLO', 'STRADA CENASCO 38', 'PIAZZA BRENNERO 3 LEONARDO', 'VIA GIOACCHINO ROSSINI 18 MICHELE', 'VIA LUIGI EINAUDI 2 BERTANA EMANUELA', 'STRADA PRESERASCA 3 FEDERICO KATIA', 'VIA CAVOUR 78 CAVALLO MARCELLA', 'STRADA VIGNOTTO 38', 'VIA JUGLARIS 17', 'STRADA VILLASTELLONE 32 MORRONE MARCO', 'STRADA REBAUDE 53 BIAGINI', 'VIA SOFIA NOVELLIS DI COARAZZE 4 FERRARA GIOELE', 'VIA TIEPOLO 18 TATIANA', 'BORGATA BAUDUCCHI 27 GLORIA', 'VIA MAURIZIO BERIA 42', 'VIA SOMALIA 39 FORTUNATA', 'VIA CRISTOFORO COLOMBO 22 AURELIA', 'CORSO ROMA 24', 'STRADA STUPINIGI 33 FRANCO', 'STRADA BARAUDA 45 IRENE', 'STRADA CARIGNANO 22 RUGIADA', 'STRADA GENOVA 58 STEFANIA', 'STRADA DEL PESCO 13 PARAGONE EUDOSIA', 'VIA VINCENZO BELLINI 7', 'VIA TIEPOLO 10 MARENGO GIUSEPPE', 'STRADA GIORGIO DEVALLE 68', 'VIA ADOLFO ARDUINO 4 GAGLIANONE MONICA', 'VIA DELLA CAVA 6', 'VIA NILDE IOTTI 6 CAMERLENGO GIUSEPPE', 'VIA S. CROCE 27 ALESSANDRO', 'VIALE DEL PARCO 3', 'STRADA VILLASTELLONE 15', 'VIA CESARE PAVESE 17 GIUSEPPE GIOVANNI LUIGI', 'STRADA REVIGLIASCO 194 LEONARD', 'STRADA DEL REDENTORE 35 MARIA OMBRETTA', 'VIALE STAZIONE 18 GIUSEPPINA', 'VIA DEI MILLE 5 MARIAROSA', 'VIA AMILCARE PONCHIELLI 28', 'VIA MONVISO 27 VINCENZO', \"STRADA VILLASTELLONE 39 ' GINEVRA\", 'VIA TIEPOLO 18 MATICIUC', \"VIA GIOSUE'CARDUCCI 5 ROBERTO ANTONIO\", 'STRADA REVIGLIASCO 56', 'STRADA ROCCACATENE 3', 'VIA GIAMBATTISTA VICO 8 GERARDINA', 'STRADA PASUBIO 40', 'STRADA VIVERO 8 LUCIANO', 'CORSO GIUSEPPE PARINI 12 MAROTTA SERENA', 'STRADA CENASCO 116 PIETRO', 'STRADA CARIGNANO 30 ELISABETTA', 'STRADA CARIGNANO 36', 'VIA MARENGO 5', 'BORGATA TAGLIAFERRO 10 GIADA', 'VIA PETRARCA 25 SERENA', 'VIA CAVOUR 58 BASILE FRANCESCO', 'VIA CAVOUR 24 MICHELA', 'STRADA GENOVA 261 MAURO', 'VIA VENTIQUATTRO MAGGIO 12 CURATOLO MAIRE', 'VIA JUGLARIS 66 FEUDALE MARIA', 'VIA CRISTOFORO COLOMBO 23 TIZIANA', 'VIA PESCHIERA 10 MAURIZIO', 'STRADA VILLASTELLONE 39 ROSALIA', 'VIA SESTRIERE 24', 'CORSO TRIESTE 41 GIOACHINO', 'VIA BOGINO 5 GIRIBALDI GIORGIO', 'VIA MONTEBELLO 3 MONTERISI DONATO', 'STRADA GENOVA 74 ADRIANO', 'VIA FRANCESCO BARACCA 32 SANTAMARIA EMANUELA', 'STRADA GENOVA 148', 'VIA AMILCARE PONCHIELLI 65', 'STRADA CARIGNANO 27 ADELINA', 'CORSO TRIESTE 57 BUONERBA CARLO', 'STRADA VINOVO 5 GIUSEPPE', 'VIA PAPA GIOVANNI XXIII 23 ERNESTO', 'VIA PIAVE 3', 'VIA MONTE BIANCO 32 FRANCESCO', 'VIA GIACOMO LEOPARDI 2', 'VIALE STAZIONE 1', 'STRADA LORETO 12 SERGIO', 'VIA AMILCARE PONCHIELLI 17 ZABETTA RENATO', 'VIALE STAZIONE 7', 'CORSO DANTE 11 DANIELA', 'VIA GALILEO GALILEI 24 CHRISTIAN', 'VIA AMILCARE PONCHIELLI 27', 'VIA S. VINCENZO 1 MAURIZIO', 'STRADA GENOVA 353 LUCIANA', 'STRADA GENOVA 85 MARIA', 'VIA FIUME 17 CRUDO GIUSEPPE', 'VIA MARENGO 10 PAOLO', 'VIA JUGLARIS 68 ORNELLA', 'STRADA PRIVATA NASI 21 MARCO', 'VIA MARENGO 8 GERGANA', \"VIA ANTONIO GRAMSCI 8 ' VANESSA\", 'STRADA STUPINIGI 1 BERNARDINA', 'CORSO ROMA 41 ROBERTO', 'VIA DEI MILLE 12 PIROSCIA SIMONE', 'BOSCOLO SILVANA', 'CORSO TRIESTE 71 RUGGIERO STEFANO', 'VIA JOHN F. KENNEDY 3 RAFFAELLA', 'STRADA TORINO 96 MAURIZIO', 'STRADA STAZIONE SANGONE 17 LUCIANA', 'VIA FRATELLI CAIROLI 38 SOFIA', 'VIA FIUME 21 ROBERTA', 'STRADA BARAUDA 57 ROSALIA', \"VIA ASILO DUBBIE'7\", 'VIA BENVENUTO CELLINI 6 MARGHERITA', 'VIA S. MARIA 46 PIERINA', 'STRADA CASTELVECCHIO 6', 'STRADA REVIGLIASCO 73 ANNA', 'VIA PIAVE 1 LEONARDO', 'VIA GRAZIA DELEDDA 14 GIUSEPPE', \"STRADA BOCCIA D'ORO 1\", 'VIA ALESSANDRO MANZONI 4 GIOIA MAIKOL', 'STRADA GENOVA 158', 'VIA PIAVE 14 GREGORIO', 'VIA PATERI 25', 'STRADA GENOVA 315 ORNELLA', 'VIA S. GIOVANNI BOSCO 22 CRISTINA', 'STRADA PASUBIO 12', 'CORSO ROMA 91 MARCO', 'VIA PASTRENGO 102 BIANCHI LEONELLO', 'CORSO ROMA 83 ANCUTA MIHAELA', 'VIA RENZO CATTANEO 11 ANTONIETTA', 'VIA MONTE BIANCO 11 LUIGI', 'VIA S. VINCENZO 1 CESARO ADRIANO', 'STRADA TORINO 73 SANFILIPPO MARIA', 'VIA CAVOUR 34 JARRE ALESSANDRA', 'VIA PASTRENGO 110 YLENIA', 'VIA PASTRENGO 7 CURCIO GIACOMA', 'STRADA GENOVA 93 CRISTINA', 'STRADA VECCHIA DEL MORIONDO 89 GIULIANA', \"PIAZZA CADUTI PER LA LIBERTA'3 BAGLIO MARGHERITA\", 'CORSO TRIESTE 26', 'VIA GIUSEPPE UNGARETTI 8 STEFANIZZI MARIA', 'STRADA STUPINIGI 8 GENUZIO GIUSEPPE', 'STRADA REVIGLIASCO 109 CORRADO CARMINE', 'VIA MAURIZIO BERIA 38', 'STRADA GENOVA 275 DAVIDE', 'STRADA ROSARIO SCALERO 6', 'VIA MAURIZIO BERIA 21 FREGA NICOLINO', 'VIA JUGLARIS 58 VALASTRO PAOLO', 'STRADA GORREE 51', 'BORGATA TETTI SAPINI 128 SERENA', 'VIA MONVISO 25 ANDREA', 'STRADA SANDA 8', 'VIA PESCHIERA 7', 'VIA CAVOUR 68 EDUARD', 'VIA JUGLARIS 58', 'VIA PASTRENGO 122 LORENZO', 'VIA FRATELLI MASERA 18 CARBONATTO MARIA', 'VIA SESTRIERE 28 MERAGLIA PAOLO', 'CORSO FRATELLI ROSSELLI 10 NOCERA GIOVANNI', 'VIA GRAZIA DELEDDA 27 PAOLA GABRIELA', 'STRADA MADDALENA 20 TEREZA', 'STRADA GENOVA 253 FEDERICO', 'VIA PIERO GOBETTI 3 COSTANZA', 'STRADA VILLASTELLONE 21', 'STRADA SANDA 63 ENRICA', 'STRADA C. FERRERO DI CAMBIANO 22', 'VIA PATERI 10 SANTERAMO MARZIA VANNA', 'VIA 9', 'VIA GIACOMO LEOPARDI 7 GIOVANNI', 'VIA GOFFREDO MAMELI 3 ISABELLA', 'BORGATA BAUDUCCHI 30 MAURO ANDREA', 'VIA DEI MILLE 10 DOMENICO', 'VIA ADA NEGRI 25 PATRUCCO STEFANO', 'VIA AMILCARE PONCHIELLI 50 PASQUALE', 'BORGATA ROLLE 6 MARANZANA FEDERICA', 'STRADA BARAUDINA 12 ROBERTO', 'CORSO SAVONA 56 SOFFIA CLARA', 'VIA DEI TIGLI 16 GIUFFRIDA FRANCESCO', 'VIA SALUZZO 46', 'STRADA STUPINIGI 47', 'VIA LUIGI EINAUDI 14 SANSONE GIUSEPPE', 'STRADA REVIGLIASCO 207 CLAUDIO', 'STRADA VINOVO 16', 'CORSO SAVONA 4 PECCHIO ANNA MARIA', 'STRADA REVIGLIASCO 37', 'STRADA GENOVA 291 GIACOMO', 'ROU STRADA CARIGNANO 17', 'STRADA GENOVA 249 GIOVANNI', 'MAR PIAZZA BENGASI 26 BOUHALI MUSTAPHA', 'VIA CRISTOFORO COLOMBO 24', 'VIA SESTRIERE 52 GIUSEPPE', 'VIALE STAZIONE 7', 'STRADA REVIGLIASCO 118 STEFANO', 'BORGATA BAUDUCCHI 40 GRETA', 'VIA ZARA 7 FLESER LUMINITA MARIANA', 'VIALE DEL CASTELLO 48 ALESSANDRA', 'STRADA GENOVA 85 ANDREA', 'STRADA DEL PESCO 37 GIRAUDO GIOVANNI', 'STRADA S. AMBROGIO 4', 'STRADA CARIGNANO 44 TRICARICO MARIA', 'STRADA S. VITTORIA 30', 'STRADA TORINO 81 BARBARA', 'CORSO ROMA 23 PASQUALE', 'VIA PESCHIERA 4 NICOLE', \"VIA MARTIRI DELLA LIBERTA'8 BERTUCCI GINEVRA\", 'STRADA DEI MANZI 6 VIOLA', 'VIA FIUME 22 DE FABIO', 'VIA GIACOMO LEOPARDI 20 BERTERO MARCO', 'STRADA CUNIOLI ALTI 118 FRANCESCA', 'VIA GIACOMO PUCCINI 32 SAMIRA', 'VIA PAPA GIOVANNI XXIII 35 LAVAZZA PAOLO', 'PIAZZA ARGIROUPOLI 28', 'VIA GRAZIA DELEDDA 23 MELTION', 'STRADA DELLA ROVERE 6', 'STRADA DELLA ROVERE 16', 'VIA CARLO ALBERTO 4 FLORIAN SARA', 'BORGATA TAGLIAFERRO 72 EMILIO', 'STRADA S. ANSELMO 25', 'STRADA REVIGLIASCO 255', 'STRADA MAIOLE 3 DANIELA', 'VIA DELLA FONDERIA 5 ALESSANDRA', 'STRADA BARAUDINA 3 BARBARA', 'CORSO TRIESTE 67 MIRUNA', 'VIA MONTEBELLO 5', 'STRADA ROSARIO SCALERO 14', \"VIA MARTIRI DELLA LIBERTA'2\", 'VIA MONTE BIANCO 38 PIETRO MARIA CARMELA', 'VIA PESCHIERA 11 ALESSANDRO', 'VIA DELLE ACACIE 16 CARESIO ROSANNA', 'VIA AMILCARE PONCHIELLI 30 STEFANO', 'VIA FRATELLI CAIROLI 32 DONATELLA', 'VIA S. MARTINO 17 DE FRANCESCO BRUNA', 'STRADA RIGOLINO 1 LORENZA', 'VIA GIUSEPPE DI VITTORIO 7 MARCO', 'VIA NAZARIO SAURO 18 DARIO', 'VIA S. MATTEO 23 TUFANO ROSA', 'VIA GALILEO GALILEI 8 MARTINA', 'VIALE DEI CILIEGI 6 GAREL DAVIDE', 'VIA PADRE GIUSEPPE COLOMBO 7 GERACE ANGELA', 'VIA JUGLARIS 6 MARINA', 'CORSO TRIESTE 51 SCIACCA GIUSEPPINA', 'VIA DELLE MIMOSE 14 LUIGINO', 'BORGATA TAGLIAFERRO 11 PIETRO', 'PIAZZA GUGLIELMO MARCONI 2 GUGLIELMO', 'VIA GARIBALDI 12 LEFTERIS', 'VIA PIERO GOBETTI 7', 'VIA PETRARCA 14 ANGELA', 'BORGATA TAGLIAFERRO 22 AMEDEO PAOLA', 'STRADA TORINO 10 AMARILLI', 'STRADA PASUBIO 40', 'CORSO ROMA 45 BAZZETTO PIERINA', 'VIA TAMAGNONE 5 GERACE MARIANTONIA', 'VIA GIACOMO BOSSO 16 MASSIMO', 'CORSO GIUSEPPE PARINI 5 FEDERICO', 'STRADA DEL BOSSOLO 9', 'VIA CARLO COLLODI 2 ROSINA', 'VIA MONTE BIANCO 18 MERCURIO', 'STRADA GENOVA 52', 'BORGATA TAGLIAFERRO 38 DELFINO MARIO', 'VIA PAPA GIOVANNI XXIII 31 RENZA', 'VIA GIACOMO MATTEOTTI 8 ROSANNA', 'CORSO 91', 'STRADA S. AMBROGIO 4 VALENTINA PAMELA', 'CORSO ROMA 38 TEALDO ALMA ORIANA', \"STRADA MARSE'27\", \"STRADA REBAUDE 9 PRATICO'MARISA\", 'STRADA GENOVA 172', 'STRADA CARIGNANO 58', 'VIA S . GIOVANNI BOSCO 18 CIRO ANTONIO', 'STRADA GENOVA 38 FRANCESCO GIOVANNI', 'STRADA REVIGLIASCO 99 GIOVANNI', 'CORSO SAVONA 179 SESONA ALESSIA GIOVANNA', 'VIA MONTE BIANCO 36 ELISEO', 'STRADA C. FERRERO DI CAMBIANO 1', 'VIA CRISTOFORO COLOMBO 22', 'STRADA REVIGLIASCO 46 SERGIO', 'VIA ADA NEGRI 52 ROSSELLA', 'VIA CARLO COLLODI 2', 'CORSO SAVONA 119 MARGHERITA', 'VIA GRAZIA DELEDDA 27', 'CORSO SAVONA 109 NADIA', 'CORSO TRIESTE 67 GIANPAOLO', 'STRADA GENOVA 145 LUCIANO', 'VIA CAVOUR 19', 'STRADA S. ANSELMO 21', 'STRADA S. BRIGIDA 131 MARIA', 'STRADA DEL PESCO 37 ELEONORA', 'STRADA GENOVA 58 FRANCESCO', \"VIA JUGLARIS 27 ' NUNZIATA\", 'STRADA REVIGLIASCO 194 SABRINA', 'STRADA CARIGNANO 32 EDOARDO GIOVANNI', 'VIA SESTRIERE 49', 'VIA PESCHIERA 7', 'STRADA CASTELVECCHIO 21 MATTEO', 'STRADA TORINO 73', 'STRADA PRIVATA NASI 18 LUCIANA', 'VIA TITO SPERI 3 GIROLAMO', 'STRADA CARIGNANO 25 CATERINA', 'STRADA GENOVA 152', 'VIA IPPOLITO NIEVO 4 RICCARDO GUY', 'STRADA RIVAMARE 24 EMANUELE GIUSEPPE', 'VIA SOMALIA 37 DAVIDE', 'STRADA DEL BOSSOLO 6 MUTA CRISTINA', 'STRADA PRESERASCA 53 CINZIA', 'STRADA DEL CERVO 25 PAOLA', 'STRADA PASUBIO 38 IACOPINO GIORGIA', 'BORGATA TAGLIAFERRO 11 ALESSIO', 'STRADA VECCHIA DEL MORIONDO 60 SIMONE', 'VIA GIUSEPPE GIACOSA 5', 'CORSO ROMA 45', 'STRADA DEL REDENTORE 21', 'VIA SESTRIERE 4 FALCONIERI', 'BORGATA PALERA 7 PERSICO VINCENZO', 'VIA GIUSEPPE UNGARETTI 10 CATTERINA', 'STRADA MONGINA 2 GUERRA SAMANTHA', 'CORSO ROMA 95', 'VIA VITTORIO ALFIERI 17 PECCHIO VALENTINA FUSIA', 'STRADA REVIGLIASCO 37 ANTONIO', 'VIA GIUSEPPE ROMITA 4', 'VIA UGO FOSCOLO 7 ESPOSITO ANTONIO', 'STRADA DELLE FINANZE 23 FILIPPI LORELLA', 'STRADA PASUBIO 59 MICHELE', 'VIA NAZARIO SAURO 16 KETTANI', 'STRADA GENOVA 259 LAPPANO VINCENZO', 'VIA TORQUATO 4', 'STRADA DEL BOSSOLO 10 MATTEO', 'STRADA TORINO 73 CAMILLA', 'VIA GRAZIA DELEDDA 17 GIACOMO', 'VIA NILDE IOTTI 10 FERRANTE FEDERICA', 'STRADA GENOVA 120', 'VIA MAURIZIO BERIA 2 GALLEA MARIA', 'VIA EDMONDO DE AMICIS 9 MANFREDDI GERMANO', \"STRADA MARSE'20\", 'BORGATA PALERA 43 MARIA', 'STRADA GENOVA 323 GIUSEPPE', 'STRADA GENOVA 58 ARGIA', 'STRADA DEL CERVO 38 DEANGELI LORETTA', 'VIALE STAZIONE 14 GIANFRANCO', 'STRADA S. VITTORIA 15 LETICIA', 'VIA GRAZIA DELEDDA 25 OREGLIA ELISA', 'STRADA REVIGLIASCO 78', 'VIA UGO FOSCOLO 18 INGRAO MARTINA', 'VIA CAVOUR 17 SCIGLIANO ANGELINA', 'VIA GIUSEPPE ROBALDO 11 MARIA', 'BORGATA TETTI PIATTI 74 MARCHINA ADELE', 'VIA CESARE BATTISTI 2 MARA', 'VIA GIORDANO BRUNO 14 DUCA MARIA GRAZIA', 'VIA TRENTO 22', 'BOCCARDO DANIELA', 'STRADA MIRAVALLE 19 JEAN', 'VIA PAPA GIOVANNI XXIII 29 ANTONIO', 'STRADA REVIGLIASCO 27 LORENZO', 'STRADA REBAUDE 15', 'STRADA VINOVO 56 ALESSANDRO', 'VIA LUCIO CATULLO 9 MARINIS FEDERICA', 'VIA TENIVELLI 39 BOCCARDO EMMA', 'STRADA PIOBBA 2 BORETTO MARCO', 'CORSO ROMA 75 MATTEO', 'STRADA REVIGLIASCO 22 VITTORIA', 'REGIONE VALLERE 6 CARAMELLINO RITA ROSA', 'STRADA GENOVA 138 ILARIA', 'STRADA CARIGNANO 62 DOMENICO', 'VIA REAL COLLEGIO 10 MARIA', 'VIA PASTRENGO 82 BOCCARDO ADRIANO', 'STRADA STUPINIGI 1', 'VIA CAVOUR 17 DESIMONE GIUSEPPE', 'STRADA MILIUS RONSAGLIA 6 RITA', 'VIA PIETRO MARONCELLI 26 MIRKO', 'BORLO GIOVANNI', 'BORGATA TETTI PIATTI 43 SIMONA', 'BORGATA TETTI PIATTI 19', 'STRADA REVIGLIASCO 195 FERNANDA', 'VIA FRATELLI CAIROLI 26 BARBERO VALTER', 'STRADA REVIGLIASCO 156 ANNA', 'VIA GIACOMO PUCCINI 4 DUMITRU', 'STRADA MONGINA 2 RICCHIARDI MANUELA', 'LA LEGGIA CONCETTA', 'STRADA GIORGIO DEVALLE 60 VALENTINA', \"STRADA BOCCIA D'ORO 24 TURCO LAURA\", \"VIA MARTIRI DELLA LIBERTA'12 VITTORIO\", 'VIA LUIGI PIRANDELLO 17 ADRIANA', 'STRADA VILLASTELLONE 39 GAVEGLIO MARCO', 'BORGATA TAGLIAFERRO MANNORI GIOVANNI', 'VIA FRATELLI CERVI 1 ROSINA', 'STRADA VINOVO 18 GIUSEPPE', 'STRADA REVIGLIASCO 21', 'CORSO ROMA 46 DUTRA GIANLUCA', 'BORGATA TAGLIAFERRO 60 PEDRO GIOELE', 'VIA ANGELO BROFFERIO 2 MARINO GINO', 'STRADA GENOVA 160 SABRINA', \"VIA MARTIRI DELLA LIBERTA'10 CANITANO PIETRO\", 'BONGARZONE FRANCESCHINA', 'STRADA GENOVA 76', 'VIA PASTRENGO 47 TIZIANA CRISTINA', 'BORGATA TETTI PIATTI 10 PAOLA', 'VIA MONTEBELLO 2 SISI', 'VIA S. CROCE 29', 'STRADA MAIOLE 26 FRANCO', 'CORSO ROMA 88 ONGARO MARA', 'VIALE DEI CILIEGI 24 TIZIANA', 'VIA PASTRENGO 47', 'STRADA MIRAVALLE 19 ALBERTO', 'STRADA VILLASTELLONE 20 PERTILE', \"VIA MARTIRI DELLA LIBERTA'7 BOCCARDO INES\", 'VIALE DEL CASTELLO 42 OLIVA MARIO', 'STRADA CIGALA 32', 'VIA CRISTOFORO COLOMBO 42', 'BORGATA BAUDUCCHI 36 SILVANO', 'VIA ALESSANDRO MANZONI 5 FRANCESCA', 'VIA PESCHIERA 11', 'STRADA PRIVATA NASI 17 FRANCESCA', 'LUNGO PO ABELLONIO 6 ROSANNA', 'CORSO GIUSEPPE PARINI 15 CARBONE GIUSEPPE', 'CORSO SAVONA 110 CAROPPOLI MARIO', 'STRADA PASUBIO 38 APOLITO CLAUDIO', 'VIA FRATELLI CAIROLI 12 CRISTINA', 'VIA CAVOUR 22 FELICE ROSA', 'VIA PIETRO MARONCELLI 14', 'VIA GIOACCHINO ROSSINI 11 GENEROSO GINO', 'CORSO DANTE 7 DRAGOS', 'STRADA VILLASTELLONE 32 COLUCCI FRANCESCA', 'VIA MONTE BIANCO 53', 'STRADA REVIGLIASCO 330 BROMBIN ALBERTO', 'VIA ADA NEGRI 7 ANTONELLA', 'VIA PESCHIERA 5', 'VIA GIUSEPPE ROMITA 2 DANIELE', 'VIA JUGLARIS 54 GARBARINI', 'STRADA DELLA ROVERE 12 FRIGERIO GIOVANNI', 'VIA ANTONIO GRAMSCI 7 VALTER', 'VIA PIAVE 3 MONICA', 'VIALE ENRICO BERLINGUER 8', 'VIA CRISTOFORO COLOMBO 22', 'STRADA MAIOLE 26 BARLETTA MARIA', 'STRADA TORINO 16 RENZO', 'VIA MONTE NERO 13 GERBI TERESA', 'VIA TAMAGNONE 11 CAVAGNERO MARIA TERESA', 'STRADA GENOVA 147 MARTINO FRANCESCA', 'PIAZZA BENGASI 26 ALESSIA', 'VIA SESTRIERE 53', 'LUNGO PO ABELLONIO 12 GRAZIA TERESA', 'VIA AMILCARE PONCHIELLI 60 MARIA GRAZIA', 'VIA FRATELLI CAIROLI 30 ALESSIA', 'CORSO TRIESTE 37', 'VIA AMILCARE PONCHIELLI 61 AMALIA', 'VIA SESTRIERE 17 MAINARDI MARTA', 'CORSO GIUSEPPE PARINI 15 CRESCENZO LUIGI', 'BORGATA TAGLIAFERRO 33 EMANUELE', 'STRADA S. MICHELE 32']\n"
          ]
        }
      ]
    },
    {
      "cell_type": "code",
      "source": [
        "print(accuracy_score(true_indirizzi, pred_indirizzi))"
      ],
      "metadata": {
        "id": "K6uO-UQn5Rv2"
      },
      "execution_count": null,
      "outputs": []
    },
    {
      "cell_type": "code",
      "source": [
        ""
      ],
      "metadata": {
        "id": "0LKPBzhW5Af4"
      },
      "execution_count": null,
      "outputs": []
    },
    {
      "cell_type": "code",
      "source": [
        "from prettytable import PrettyTable\n",
        "x.field_names = [\"Accuracy\",\"F1_score\"]\n",
        "\n",
        "\n",
        "x.add_row(['Indirizzo',0.80,f1_score(true_indirizzi, pred_indirizi, average=\"micro\")))\n",
        "x.add_row(['Nome',0.95, f1_score(true_nomi, pred_nomi, average=\"micro\") ])\n",
        "x.add_row(['Cognome',0.94, f1_score(true_cognomi, pred_cognomi, average=\"micro\")) ])\n",
        "\n",
        "\n",
        "\n",
        "\n",
        "print(x)"
      ],
      "metadata": {
        "id": "sdcr9b9xhNLk"
      },
      "execution_count": null,
      "outputs": []
    }
  ]
}