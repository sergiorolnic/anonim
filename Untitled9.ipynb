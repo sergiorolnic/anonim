{
  "nbformat": 4,
  "nbformat_minor": 0,
  "metadata": {
    "colab": {
      "name": "Untitled9.ipynb",
      "provenance": [],
      "authorship_tag": "ABX9TyPYeQtjHW4KWsvvOTKBlwMK",
      "include_colab_link": true
    },
    "kernelspec": {
      "name": "python3",
      "display_name": "Python 3"
    },
    "language_info": {
      "name": "python"
    },
    "accelerator": "GPU"
  },
  "cells": [
    {
      "cell_type": "markdown",
      "metadata": {
        "id": "view-in-github",
        "colab_type": "text"
      },
      "source": [
        "<a href=\"https://colab.research.google.com/github/sergiorolnic/anonim/blob/main/Untitled9.ipynb\" target=\"_parent\"><img src=\"https://colab.research.google.com/assets/colab-badge.svg\" alt=\"Open In Colab\"/></a>"
      ]
    },
    {
      "cell_type": "code",
      "execution_count": 34,
      "metadata": {
        "id": "N0UIqbzDRBAR"
      },
      "outputs": [],
      "source": [
        "import os.path\n",
        "import numpy as np\n",
        "import pandas as pd"
      ]
    },
    {
      "cell_type": "code",
      "source": [
        "pip install seqeval"
      ],
      "metadata": {
        "colab": {
          "base_uri": "https://localhost:8080/"
        },
        "id": "pF5QG99HRUou",
        "outputId": "6fd0a984-4d1f-4fe3-f1f9-b21969983921"
      },
      "execution_count": 35,
      "outputs": [
        {
          "output_type": "stream",
          "name": "stdout",
          "text": [
            "Requirement already satisfied: seqeval in /usr/local/lib/python3.7/dist-packages (1.2.2)\n",
            "Requirement already satisfied: scikit-learn>=0.21.3 in /usr/local/lib/python3.7/dist-packages (from seqeval) (1.0.1)\n",
            "Requirement already satisfied: numpy>=1.14.0 in /usr/local/lib/python3.7/dist-packages (from seqeval) (1.19.5)\n",
            "Requirement already satisfied: scipy>=1.1.0 in /usr/local/lib/python3.7/dist-packages (from scikit-learn>=0.21.3->seqeval) (1.4.1)\n",
            "Requirement already satisfied: threadpoolctl>=2.0.0 in /usr/local/lib/python3.7/dist-packages (from scikit-learn>=0.21.3->seqeval) (3.0.0)\n",
            "Requirement already satisfied: joblib>=0.11 in /usr/local/lib/python3.7/dist-packages (from scikit-learn>=0.21.3->seqeval) (1.1.0)\n"
          ]
        }
      ]
    },
    {
      "cell_type": "code",
      "source": [
        "pip install transformers datasets"
      ],
      "metadata": {
        "id": "kVff7CKtRXD9",
        "outputId": "ad024a9f-95fa-4f04-ee96-1cdd5a425725",
        "colab": {
          "base_uri": "https://localhost:8080/"
        }
      },
      "execution_count": 36,
      "outputs": [
        {
          "output_type": "stream",
          "name": "stdout",
          "text": [
            "Requirement already satisfied: transformers in /usr/local/lib/python3.7/dist-packages (4.15.0)\n",
            "Requirement already satisfied: datasets in /usr/local/lib/python3.7/dist-packages (1.17.0)\n",
            "Requirement already satisfied: regex!=2019.12.17 in /usr/local/lib/python3.7/dist-packages (from transformers) (2019.12.20)\n",
            "Requirement already satisfied: requests in /usr/local/lib/python3.7/dist-packages (from transformers) (2.23.0)\n",
            "Requirement already satisfied: tqdm>=4.27 in /usr/local/lib/python3.7/dist-packages (from transformers) (4.62.3)\n",
            "Requirement already satisfied: sacremoses in /usr/local/lib/python3.7/dist-packages (from transformers) (0.0.46)\n",
            "Requirement already satisfied: filelock in /usr/local/lib/python3.7/dist-packages (from transformers) (3.4.0)\n",
            "Requirement already satisfied: numpy>=1.17 in /usr/local/lib/python3.7/dist-packages (from transformers) (1.19.5)\n",
            "Requirement already satisfied: tokenizers<0.11,>=0.10.1 in /usr/local/lib/python3.7/dist-packages (from transformers) (0.10.3)\n",
            "Requirement already satisfied: pyyaml>=5.1 in /usr/local/lib/python3.7/dist-packages (from transformers) (6.0)\n",
            "Requirement already satisfied: huggingface-hub<1.0,>=0.1.0 in /usr/local/lib/python3.7/dist-packages (from transformers) (0.2.1)\n",
            "Requirement already satisfied: packaging>=20.0 in /usr/local/lib/python3.7/dist-packages (from transformers) (21.3)\n",
            "Requirement already satisfied: importlib-metadata in /usr/local/lib/python3.7/dist-packages (from transformers) (4.8.2)\n",
            "Requirement already satisfied: typing-extensions>=3.7.4.3 in /usr/local/lib/python3.7/dist-packages (from huggingface-hub<1.0,>=0.1.0->transformers) (3.10.0.2)\n",
            "Requirement already satisfied: pyparsing!=3.0.5,>=2.0.2 in /usr/local/lib/python3.7/dist-packages (from packaging>=20.0->transformers) (3.0.6)\n",
            "Requirement already satisfied: multiprocess in /usr/local/lib/python3.7/dist-packages (from datasets) (0.70.12.2)\n",
            "Requirement already satisfied: aiohttp in /usr/local/lib/python3.7/dist-packages (from datasets) (3.8.1)\n",
            "Requirement already satisfied: fsspec[http]>=2021.05.0 in /usr/local/lib/python3.7/dist-packages (from datasets) (2021.11.1)\n",
            "Requirement already satisfied: dill in /usr/local/lib/python3.7/dist-packages (from datasets) (0.3.4)\n",
            "Requirement already satisfied: xxhash in /usr/local/lib/python3.7/dist-packages (from datasets) (2.0.2)\n",
            "Requirement already satisfied: pandas in /usr/local/lib/python3.7/dist-packages (from datasets) (1.1.5)\n",
            "Requirement already satisfied: pyarrow!=4.0.0,>=3.0.0 in /usr/local/lib/python3.7/dist-packages (from datasets) (3.0.0)\n",
            "Requirement already satisfied: chardet<4,>=3.0.2 in /usr/local/lib/python3.7/dist-packages (from requests->transformers) (3.0.4)\n",
            "Requirement already satisfied: certifi>=2017.4.17 in /usr/local/lib/python3.7/dist-packages (from requests->transformers) (2021.10.8)\n",
            "Requirement already satisfied: idna<3,>=2.5 in /usr/local/lib/python3.7/dist-packages (from requests->transformers) (2.10)\n",
            "Requirement already satisfied: urllib3!=1.25.0,!=1.25.1,<1.26,>=1.21.1 in /usr/local/lib/python3.7/dist-packages (from requests->transformers) (1.24.3)\n",
            "Requirement already satisfied: async-timeout<5.0,>=4.0.0a3 in /usr/local/lib/python3.7/dist-packages (from aiohttp->datasets) (4.0.2)\n",
            "Requirement already satisfied: yarl<2.0,>=1.0 in /usr/local/lib/python3.7/dist-packages (from aiohttp->datasets) (1.7.2)\n",
            "Requirement already satisfied: attrs>=17.3.0 in /usr/local/lib/python3.7/dist-packages (from aiohttp->datasets) (21.2.0)\n",
            "Requirement already satisfied: aiosignal>=1.1.2 in /usr/local/lib/python3.7/dist-packages (from aiohttp->datasets) (1.2.0)\n",
            "Requirement already satisfied: frozenlist>=1.1.1 in /usr/local/lib/python3.7/dist-packages (from aiohttp->datasets) (1.2.0)\n",
            "Requirement already satisfied: charset-normalizer<3.0,>=2.0 in /usr/local/lib/python3.7/dist-packages (from aiohttp->datasets) (2.0.8)\n",
            "Requirement already satisfied: asynctest==0.13.0 in /usr/local/lib/python3.7/dist-packages (from aiohttp->datasets) (0.13.0)\n",
            "Requirement already satisfied: multidict<7.0,>=4.5 in /usr/local/lib/python3.7/dist-packages (from aiohttp->datasets) (5.2.0)\n",
            "Requirement already satisfied: zipp>=0.5 in /usr/local/lib/python3.7/dist-packages (from importlib-metadata->transformers) (3.6.0)\n",
            "Requirement already satisfied: python-dateutil>=2.7.3 in /usr/local/lib/python3.7/dist-packages (from pandas->datasets) (2.8.2)\n",
            "Requirement already satisfied: pytz>=2017.2 in /usr/local/lib/python3.7/dist-packages (from pandas->datasets) (2018.9)\n",
            "Requirement already satisfied: six>=1.5 in /usr/local/lib/python3.7/dist-packages (from python-dateutil>=2.7.3->pandas->datasets) (1.15.0)\n",
            "Requirement already satisfied: click in /usr/local/lib/python3.7/dist-packages (from sacremoses->transformers) (7.1.2)\n",
            "Requirement already satisfied: joblib in /usr/local/lib/python3.7/dist-packages (from sacremoses->transformers) (1.1.0)\n"
          ]
        }
      ]
    },
    {
      "cell_type": "code",
      "source": [
        "df1 = pd.read_json(\"https://github.com/sergiorolnic/anonim/blob/main/data/esempio.json?raw=true\")\n",
        "cn = pd.read_csv('https://raw.githubusercontent.com/nicolomantini/lista_cognomi_italiani/master/cognomi.txt', header=None)\n",
        "cn.columns = [\"cognome\"]\n",
        "femal_name = pd.read_json('https://github.com/sergiorolnic/anonim/blob/main/data/ITGivenFemale.json?raw=true')\n",
        "male_name = pd.read_json('https://github.com/sergiorolnic/anonim/blob/main/data/ITGivenMale.json?raw=true')\n",
        "mixt = pd.concat([male_name,femal_name])\n",
        "index = pd.Index(range(1, 9087, 1))\n",
        "mixt.set_index(index)\n",
        "\n",
        "def fill_missing(column_val):\n",
        "    if column_val == \"\": \n",
        "        column_val = mixt[\"name\"].iloc[np.random.randint(9086)]\n",
        "    else:\n",
        "         column_val = column_val\n",
        "    return column_val\n",
        "\n",
        "cn[\"nome\"] = \"\"\n",
        "cn['nome'] = cn['nome'].apply(fill_missing) \n",
        "cn[\"nome\"] = cn[\"nome\"].str.upper()\n",
        "cn[\"cognome\"] = cn[\"cognome\"].str.upper()\n",
        "dataframe = pd.DataFrame(df1)\n",
        "dataframe[\"cognome\"] = cn[\"cognome\"][0:15000]\n",
        "dataframe[\"nome\"] = cn[\"nome\"][0:15000]\n",
        "dataframe2 = pd.DataFrame(df1[0:6740])\n",
        "dataframe2[\"cognome\"] = list(cn[\"cognome\"][15000:21740])\n",
        "dataframe2[\"nome\"] = list(cn[\"nome\"][15000:21740])\n",
        "\n",
        "dataframe =dataframe.append(df1, ignore_index = True)\n",
        "dataframe =dataframe.append(dataframe2, ignore_index = True)\n",
        "dataframe = dataframe.sample(frac=1).reset_index(drop=True)\n",
        "test_data_df =dataframe[35000:36000]\n",
        "dataframe = dataframe[0:35000]"
      ],
      "metadata": {
        "id": "0cCfmLF6XMO0"
      },
      "execution_count": 37,
      "outputs": []
    },
    {
      "cell_type": "code",
      "source": [
        "dataframe[\"full_name\"] = dataframe[\"cognome\"] + \" \" +dataframe[\"nome\"]\n",
        "dataframe.drop(columns=[\"cognome\", \"nome\"], inplace=True)"
      ],
      "metadata": {
        "id": "tkZxMMroazDd"
      },
      "execution_count": 38,
      "outputs": []
    },
    {
      "cell_type": "code",
      "source": [
        "dataframe.head(1)"
      ],
      "metadata": {
        "id": "9NmYUGLI5vmn",
        "outputId": "16d233a1-5c0f-4c41-c915-cf71ee64c4ed",
        "colab": {
          "base_uri": "https://localhost:8080/",
          "height": 179
        }
      },
      "execution_count": 39,
      "outputs": [
        {
          "output_type": "execute_result",
          "data": {
            "text/html": [
              "\n",
              "  <div id=\"df-26d64a32-712a-4e1d-869a-d03da00b55b8\">\n",
              "    <div class=\"colab-df-container\">\n",
              "      <div>\n",
              "<style scoped>\n",
              "    .dataframe tbody tr th:only-of-type {\n",
              "        vertical-align: middle;\n",
              "    }\n",
              "\n",
              "    .dataframe tbody tr th {\n",
              "        vertical-align: top;\n",
              "    }\n",
              "\n",
              "    .dataframe thead th {\n",
              "        text-align: right;\n",
              "    }\n",
              "</style>\n",
              "<table border=\"1\" class=\"dataframe\">\n",
              "  <thead>\n",
              "    <tr style=\"text-align: right;\">\n",
              "      <th></th>\n",
              "      <th>cod_prv</th>\n",
              "      <th>cod_com</th>\n",
              "      <th>id</th>\n",
              "      <th>sesso</th>\n",
              "      <th>data_nascita</th>\n",
              "      <th>luogo_nascita</th>\n",
              "      <th>cf</th>\n",
              "      <th>prov_nascita</th>\n",
              "      <th>comune_res</th>\n",
              "      <th>prov_res</th>\n",
              "      <th>citt</th>\n",
              "      <th>indirizzo</th>\n",
              "      <th>cap</th>\n",
              "      <th>dato1</th>\n",
              "      <th>dato2</th>\n",
              "      <th>dato3</th>\n",
              "      <th>dato4</th>\n",
              "      <th>dato5</th>\n",
              "      <th>dato6</th>\n",
              "      <th>dato7</th>\n",
              "      <th>full_name</th>\n",
              "    </tr>\n",
              "  </thead>\n",
              "  <tbody>\n",
              "    <tr>\n",
              "      <th>0</th>\n",
              "      <td>5</td>\n",
              "      <td>22</td>\n",
              "      <td>536</td>\n",
              "      <td>F</td>\n",
              "      <td>31051946</td>\n",
              "      <td>BOTRICELLO</td>\n",
              "      <td>LLATRS46E71B085L</td>\n",
              "      <td>CZ</td>\n",
              "      <td>MONCALIERI</td>\n",
              "      <td>TO</td>\n",
              "      <td>ITA</td>\n",
              "      <td>VIA S.MARTINO 18</td>\n",
              "      <td>10024</td>\n",
              "      <td>24032017</td>\n",
              "      <td>15399</td>\n",
              "      <td>1</td>\n",
              "      <td>4021994</td>\n",
              "      <td>18071967</td>\n",
              "      <td>12112021 05:49:25</td>\n",
              "      <td>CENS2011</td>\n",
              "      <td>PASSALACQUA ALDESINA</td>\n",
              "    </tr>\n",
              "  </tbody>\n",
              "</table>\n",
              "</div>\n",
              "      <button class=\"colab-df-convert\" onclick=\"convertToInteractive('df-26d64a32-712a-4e1d-869a-d03da00b55b8')\"\n",
              "              title=\"Convert this dataframe to an interactive table.\"\n",
              "              style=\"display:none;\">\n",
              "        \n",
              "  <svg xmlns=\"http://www.w3.org/2000/svg\" height=\"24px\"viewBox=\"0 0 24 24\"\n",
              "       width=\"24px\">\n",
              "    <path d=\"M0 0h24v24H0V0z\" fill=\"none\"/>\n",
              "    <path d=\"M18.56 5.44l.94 2.06.94-2.06 2.06-.94-2.06-.94-.94-2.06-.94 2.06-2.06.94zm-11 1L8.5 8.5l.94-2.06 2.06-.94-2.06-.94L8.5 2.5l-.94 2.06-2.06.94zm10 10l.94 2.06.94-2.06 2.06-.94-2.06-.94-.94-2.06-.94 2.06-2.06.94z\"/><path d=\"M17.41 7.96l-1.37-1.37c-.4-.4-.92-.59-1.43-.59-.52 0-1.04.2-1.43.59L10.3 9.45l-7.72 7.72c-.78.78-.78 2.05 0 2.83L4 21.41c.39.39.9.59 1.41.59.51 0 1.02-.2 1.41-.59l7.78-7.78 2.81-2.81c.8-.78.8-2.07 0-2.86zM5.41 20L4 18.59l7.72-7.72 1.47 1.35L5.41 20z\"/>\n",
              "  </svg>\n",
              "      </button>\n",
              "      \n",
              "  <style>\n",
              "    .colab-df-container {\n",
              "      display:flex;\n",
              "      flex-wrap:wrap;\n",
              "      gap: 12px;\n",
              "    }\n",
              "\n",
              "    .colab-df-convert {\n",
              "      background-color: #E8F0FE;\n",
              "      border: none;\n",
              "      border-radius: 50%;\n",
              "      cursor: pointer;\n",
              "      display: none;\n",
              "      fill: #1967D2;\n",
              "      height: 32px;\n",
              "      padding: 0 0 0 0;\n",
              "      width: 32px;\n",
              "    }\n",
              "\n",
              "    .colab-df-convert:hover {\n",
              "      background-color: #E2EBFA;\n",
              "      box-shadow: 0px 1px 2px rgba(60, 64, 67, 0.3), 0px 1px 3px 1px rgba(60, 64, 67, 0.15);\n",
              "      fill: #174EA6;\n",
              "    }\n",
              "\n",
              "    [theme=dark] .colab-df-convert {\n",
              "      background-color: #3B4455;\n",
              "      fill: #D2E3FC;\n",
              "    }\n",
              "\n",
              "    [theme=dark] .colab-df-convert:hover {\n",
              "      background-color: #434B5C;\n",
              "      box-shadow: 0px 1px 3px 1px rgba(0, 0, 0, 0.15);\n",
              "      filter: drop-shadow(0px 1px 2px rgba(0, 0, 0, 0.3));\n",
              "      fill: #FFFFFF;\n",
              "    }\n",
              "  </style>\n",
              "\n",
              "      <script>\n",
              "        const buttonEl =\n",
              "          document.querySelector('#df-26d64a32-712a-4e1d-869a-d03da00b55b8 button.colab-df-convert');\n",
              "        buttonEl.style.display =\n",
              "          google.colab.kernel.accessAllowed ? 'block' : 'none';\n",
              "\n",
              "        async function convertToInteractive(key) {\n",
              "          const element = document.querySelector('#df-26d64a32-712a-4e1d-869a-d03da00b55b8');\n",
              "          const dataTable =\n",
              "            await google.colab.kernel.invokeFunction('convertToInteractive',\n",
              "                                                     [key], {});\n",
              "          if (!dataTable) return;\n",
              "\n",
              "          const docLinkHtml = 'Like what you see? Visit the ' +\n",
              "            '<a target=\"_blank\" href=https://colab.research.google.com/notebooks/data_table.ipynb>data table notebook</a>'\n",
              "            + ' to learn more about interactive tables.';\n",
              "          element.innerHTML = '';\n",
              "          dataTable['output_type'] = 'display_data';\n",
              "          await google.colab.output.renderOutput(dataTable, element);\n",
              "          const docLink = document.createElement('div');\n",
              "          docLink.innerHTML = docLinkHtml;\n",
              "          element.appendChild(docLink);\n",
              "        }\n",
              "      </script>\n",
              "    </div>\n",
              "  </div>\n",
              "  "
            ],
            "text/plain": [
              "   cod_prv  cod_com   id  ...              dato6     dato7             full_name\n",
              "0        5       22  536  ...  12112021 05:49:25  CENS2011  PASSALACQUA ALDESINA\n",
              "\n",
              "[1 rows x 21 columns]"
            ]
          },
          "metadata": {},
          "execution_count": 39
        }
      ]
    },
    {
      "cell_type": "code",
      "source": [
        "df = pd.read_json(\"https://github.com/sergiorolnic/anonim/blob/main/data/popolamento_ina_20211112_header.csv.json?raw=true\")"
      ],
      "metadata": {
        "id": "BC1EElQ3RuKt"
      },
      "execution_count": 40,
      "outputs": []
    },
    {
      "cell_type": "code",
      "source": [
        "dataframe2 = df.sample(frac=1).reset_index(drop=True)\n",
        "dataframe2[\"full_name\"] = dataframe2[\"cognome\"] + \" \" +dataframe2[\"nome\"]\n",
        "dataframe2.drop(columns=[\"cognome\", \"nome\"], inplace=True)"
      ],
      "metadata": {
        "id": "jl43x-SnSIfw"
      },
      "execution_count": 41,
      "outputs": []
    },
    {
      "cell_type": "code",
      "source": [
        "dataframe2[\"cap\"] = \"\""
      ],
      "metadata": {
        "id": "IBdMe5kH6aaS"
      },
      "execution_count": 42,
      "outputs": []
    },
    {
      "cell_type": "code",
      "source": [
        "dataframe.append(dataframe2,ignore_index = True)"
      ],
      "metadata": {
        "id": "mJASP27h6hoa",
        "outputId": "c1f3d4b0-07cd-45c9-d615-a4bc6701aff9",
        "colab": {
          "base_uri": "https://localhost:8080/",
          "height": 730
        }
      },
      "execution_count": 43,
      "outputs": [
        {
          "output_type": "execute_result",
          "data": {
            "text/html": [
              "\n",
              "  <div id=\"df-b420d228-8e22-4ebd-8b3c-fddf106388af\">\n",
              "    <div class=\"colab-df-container\">\n",
              "      <div>\n",
              "<style scoped>\n",
              "    .dataframe tbody tr th:only-of-type {\n",
              "        vertical-align: middle;\n",
              "    }\n",
              "\n",
              "    .dataframe tbody tr th {\n",
              "        vertical-align: top;\n",
              "    }\n",
              "\n",
              "    .dataframe thead th {\n",
              "        text-align: right;\n",
              "    }\n",
              "</style>\n",
              "<table border=\"1\" class=\"dataframe\">\n",
              "  <thead>\n",
              "    <tr style=\"text-align: right;\">\n",
              "      <th></th>\n",
              "      <th>cod_prv</th>\n",
              "      <th>cod_com</th>\n",
              "      <th>id</th>\n",
              "      <th>sesso</th>\n",
              "      <th>data_nascita</th>\n",
              "      <th>luogo_nascita</th>\n",
              "      <th>cf</th>\n",
              "      <th>prov_nascita</th>\n",
              "      <th>comune_res</th>\n",
              "      <th>prov_res</th>\n",
              "      <th>citt</th>\n",
              "      <th>indirizzo</th>\n",
              "      <th>cap</th>\n",
              "      <th>dato1</th>\n",
              "      <th>dato2</th>\n",
              "      <th>dato3</th>\n",
              "      <th>dato4</th>\n",
              "      <th>dato5</th>\n",
              "      <th>dato6</th>\n",
              "      <th>dato7</th>\n",
              "      <th>full_name</th>\n",
              "    </tr>\n",
              "  </thead>\n",
              "  <tbody>\n",
              "    <tr>\n",
              "      <th>0</th>\n",
              "      <td>5</td>\n",
              "      <td>22</td>\n",
              "      <td>536</td>\n",
              "      <td>F</td>\n",
              "      <td>31051946</td>\n",
              "      <td>BOTRICELLO</td>\n",
              "      <td>LLATRS46E71B085L</td>\n",
              "      <td>CZ</td>\n",
              "      <td>MONCALIERI</td>\n",
              "      <td>TO</td>\n",
              "      <td>ITA</td>\n",
              "      <td>VIA S.MARTINO 18</td>\n",
              "      <td>10024</td>\n",
              "      <td>24032017.0</td>\n",
              "      <td>15399.0</td>\n",
              "      <td>1.0</td>\n",
              "      <td>4021994.0</td>\n",
              "      <td>18071967.0</td>\n",
              "      <td>12112021 05:49:25</td>\n",
              "      <td>CENS2011</td>\n",
              "      <td>PASSALACQUA ALDESINA</td>\n",
              "    </tr>\n",
              "    <tr>\n",
              "      <th>1</th>\n",
              "      <td>5</td>\n",
              "      <td>22</td>\n",
              "      <td>30195</td>\n",
              "      <td>M</td>\n",
              "      <td>28071944</td>\n",
              "      <td>OSPEDALETTO EUGANEO</td>\n",
              "      <td>GSLVST44L28G167A</td>\n",
              "      <td>PD</td>\n",
              "      <td>MONCALIERI</td>\n",
              "      <td>TO</td>\n",
              "      <td>ITA</td>\n",
              "      <td>VIA FIUME 6/TER</td>\n",
              "      <td>10024</td>\n",
              "      <td>24032017.0</td>\n",
              "      <td>48387.0</td>\n",
              "      <td>1.0</td>\n",
              "      <td>11081955.0</td>\n",
              "      <td>11081955.0</td>\n",
              "      <td>12112021 05:49:25</td>\n",
              "      <td>CENS2011</td>\n",
              "      <td>INTERISANO LISANNA</td>\n",
              "    </tr>\n",
              "    <tr>\n",
              "      <th>2</th>\n",
              "      <td>5</td>\n",
              "      <td>22</td>\n",
              "      <td>7063</td>\n",
              "      <td>F</td>\n",
              "      <td>5121970</td>\n",
              "      <td>TORINO</td>\n",
              "      <td>BCCSLV70T45L219G</td>\n",
              "      <td>TO</td>\n",
              "      <td>MONCALIERI</td>\n",
              "      <td>TO</td>\n",
              "      <td>ITA</td>\n",
              "      <td>STRADA VIVERO 45</td>\n",
              "      <td>10024</td>\n",
              "      <td>24032017.0</td>\n",
              "      <td>119631.0</td>\n",
              "      <td>2.0</td>\n",
              "      <td>27122006.0</td>\n",
              "      <td>27122006.0</td>\n",
              "      <td>12112021 05:49:25</td>\n",
              "      <td>CENS2011</td>\n",
              "      <td>ROSITO FIDES</td>\n",
              "    </tr>\n",
              "    <tr>\n",
              "      <th>3</th>\n",
              "      <td>5</td>\n",
              "      <td>22</td>\n",
              "      <td>36276</td>\n",
              "      <td>F</td>\n",
              "      <td>9031946</td>\n",
              "      <td>MONCALIERI</td>\n",
              "      <td>MSSRRA46C49F335Q</td>\n",
              "      <td>TO</td>\n",
              "      <td>MONCALIERI</td>\n",
              "      <td>TO</td>\n",
              "      <td>ITA</td>\n",
              "      <td>VIALE STAZIONE 4</td>\n",
              "      <td>10024</td>\n",
              "      <td>24032017.0</td>\n",
              "      <td>85.0</td>\n",
              "      <td>1.0</td>\n",
              "      <td>9031946.0</td>\n",
              "      <td>9031946.0</td>\n",
              "      <td>12112021 05:49:25</td>\n",
              "      <td>CENS2011</td>\n",
              "      <td>MEDICO VULMARO</td>\n",
              "    </tr>\n",
              "    <tr>\n",
              "      <th>4</th>\n",
              "      <td>5</td>\n",
              "      <td>22</td>\n",
              "      <td>17124</td>\n",
              "      <td>F</td>\n",
              "      <td>31031943</td>\n",
              "      <td>MONCALIERI</td>\n",
              "      <td>CRVMRP43C71F335P</td>\n",
              "      <td>TO</td>\n",
              "      <td>MONCALIERI</td>\n",
              "      <td>TO</td>\n",
              "      <td>ITA</td>\n",
              "      <td>STRADA VILLASTELLONE 39/BIS</td>\n",
              "      <td>10024</td>\n",
              "      <td>24032017.0</td>\n",
              "      <td>12896.0</td>\n",
              "      <td>2.0</td>\n",
              "      <td>31031943.0</td>\n",
              "      <td>31031943.0</td>\n",
              "      <td>12112021 05:49:25</td>\n",
              "      <td>CENS2011</td>\n",
              "      <td>VIOLANTI ORSINO</td>\n",
              "    </tr>\n",
              "    <tr>\n",
              "      <th>...</th>\n",
              "      <td>...</td>\n",
              "      <td>...</td>\n",
              "      <td>...</td>\n",
              "      <td>...</td>\n",
              "      <td>...</td>\n",
              "      <td>...</td>\n",
              "      <td>...</td>\n",
              "      <td>...</td>\n",
              "      <td>...</td>\n",
              "      <td>...</td>\n",
              "      <td>...</td>\n",
              "      <td>...</td>\n",
              "      <td>...</td>\n",
              "      <td>...</td>\n",
              "      <td>...</td>\n",
              "      <td>...</td>\n",
              "      <td>...</td>\n",
              "      <td>...</td>\n",
              "      <td>...</td>\n",
              "      <td>...</td>\n",
              "      <td>...</td>\n",
              "    </tr>\n",
              "    <tr>\n",
              "      <th>92727</th>\n",
              "      <td>5</td>\n",
              "      <td>22</td>\n",
              "      <td>59506</td>\n",
              "      <td>M</td>\n",
              "      <td>29051942</td>\n",
              "      <td>POLIGNANO A MARE</td>\n",
              "      <td>VNIFNC42E29G787E</td>\n",
              "      <td>BA</td>\n",
              "      <td>MONCALIERI</td>\n",
              "      <td>TO</td>\n",
              "      <td>ITA</td>\n",
              "      <td>STRADA GENOVA 66</td>\n",
              "      <td></td>\n",
              "      <td>NaN</td>\n",
              "      <td>NaN</td>\n",
              "      <td>NaN</td>\n",
              "      <td>NaN</td>\n",
              "      <td>NaN</td>\n",
              "      <td>NaN</td>\n",
              "      <td>NaN</td>\n",
              "      <td>VINO FRANCESCO</td>\n",
              "    </tr>\n",
              "    <tr>\n",
              "      <th>92728</th>\n",
              "      <td>5</td>\n",
              "      <td>22</td>\n",
              "      <td>127507</td>\n",
              "      <td>M</td>\n",
              "      <td>27111970</td>\n",
              "      <td>TORINO</td>\n",
              "      <td>LMBLRT70S27L219K</td>\n",
              "      <td>TO</td>\n",
              "      <td>MONCALIERI</td>\n",
              "      <td>TO</td>\n",
              "      <td>ITA</td>\n",
              "      <td>STRADA REVIGLIASCO 36</td>\n",
              "      <td></td>\n",
              "      <td>NaN</td>\n",
              "      <td>NaN</td>\n",
              "      <td>NaN</td>\n",
              "      <td>NaN</td>\n",
              "      <td>NaN</td>\n",
              "      <td>NaN</td>\n",
              "      <td>NaN</td>\n",
              "      <td>LOMBARDO ALBERTO PIERANGELO</td>\n",
              "    </tr>\n",
              "    <tr>\n",
              "      <th>92729</th>\n",
              "      <td>5</td>\n",
              "      <td>22</td>\n",
              "      <td>117508</td>\n",
              "      <td>F</td>\n",
              "      <td>9081968</td>\n",
              "      <td>COSTA D'AVORIO</td>\n",
              "      <td>YSSNRB68M49Z313A</td>\n",
              "      <td>EE</td>\n",
              "      <td>MONCALIERI</td>\n",
              "      <td>TO</td>\n",
              "      <td>ITA</td>\n",
              "      <td>VIA S.MARTINO 6</td>\n",
              "      <td></td>\n",
              "      <td>NaN</td>\n",
              "      <td>NaN</td>\n",
              "      <td>NaN</td>\n",
              "      <td>NaN</td>\n",
              "      <td>NaN</td>\n",
              "      <td>NaN</td>\n",
              "      <td>NaN</td>\n",
              "      <td>YESSO N'ZROBLA MADELEINE</td>\n",
              "    </tr>\n",
              "    <tr>\n",
              "      <th>92730</th>\n",
              "      <td>5</td>\n",
              "      <td>22</td>\n",
              "      <td>96939</td>\n",
              "      <td>F</td>\n",
              "      <td>1051973</td>\n",
              "      <td>TORINO</td>\n",
              "      <td>PRLPLA73E41L219K</td>\n",
              "      <td>TO</td>\n",
              "      <td>MONCALIERI</td>\n",
              "      <td>TO</td>\n",
              "      <td>ITA</td>\n",
              "      <td>VIA DELLE ACACIE 16 12</td>\n",
              "      <td></td>\n",
              "      <td>NaN</td>\n",
              "      <td>NaN</td>\n",
              "      <td>NaN</td>\n",
              "      <td>NaN</td>\n",
              "      <td>NaN</td>\n",
              "      <td>NaN</td>\n",
              "      <td>NaN</td>\n",
              "      <td>PIRELLI PAOLA</td>\n",
              "    </tr>\n",
              "    <tr>\n",
              "      <th>92731</th>\n",
              "      <td>5</td>\n",
              "      <td>22</td>\n",
              "      <td>126902</td>\n",
              "      <td>F</td>\n",
              "      <td>29091977</td>\n",
              "      <td>PAGANI</td>\n",
              "      <td>LNDVLR77P69G230F</td>\n",
              "      <td>SA</td>\n",
              "      <td>MONCALIERI</td>\n",
              "      <td>TO</td>\n",
              "      <td>ITA</td>\n",
              "      <td>VIA VENTIQUATTRO MAGGIO 27</td>\n",
              "      <td></td>\n",
              "      <td>NaN</td>\n",
              "      <td>NaN</td>\n",
              "      <td>NaN</td>\n",
              "      <td>NaN</td>\n",
              "      <td>NaN</td>\n",
              "      <td>NaN</td>\n",
              "      <td>NaN</td>\n",
              "      <td>LANDI VALERIA</td>\n",
              "    </tr>\n",
              "  </tbody>\n",
              "</table>\n",
              "<p>92732 rows × 21 columns</p>\n",
              "</div>\n",
              "      <button class=\"colab-df-convert\" onclick=\"convertToInteractive('df-b420d228-8e22-4ebd-8b3c-fddf106388af')\"\n",
              "              title=\"Convert this dataframe to an interactive table.\"\n",
              "              style=\"display:none;\">\n",
              "        \n",
              "  <svg xmlns=\"http://www.w3.org/2000/svg\" height=\"24px\"viewBox=\"0 0 24 24\"\n",
              "       width=\"24px\">\n",
              "    <path d=\"M0 0h24v24H0V0z\" fill=\"none\"/>\n",
              "    <path d=\"M18.56 5.44l.94 2.06.94-2.06 2.06-.94-2.06-.94-.94-2.06-.94 2.06-2.06.94zm-11 1L8.5 8.5l.94-2.06 2.06-.94-2.06-.94L8.5 2.5l-.94 2.06-2.06.94zm10 10l.94 2.06.94-2.06 2.06-.94-2.06-.94-.94-2.06-.94 2.06-2.06.94z\"/><path d=\"M17.41 7.96l-1.37-1.37c-.4-.4-.92-.59-1.43-.59-.52 0-1.04.2-1.43.59L10.3 9.45l-7.72 7.72c-.78.78-.78 2.05 0 2.83L4 21.41c.39.39.9.59 1.41.59.51 0 1.02-.2 1.41-.59l7.78-7.78 2.81-2.81c.8-.78.8-2.07 0-2.86zM5.41 20L4 18.59l7.72-7.72 1.47 1.35L5.41 20z\"/>\n",
              "  </svg>\n",
              "      </button>\n",
              "      \n",
              "  <style>\n",
              "    .colab-df-container {\n",
              "      display:flex;\n",
              "      flex-wrap:wrap;\n",
              "      gap: 12px;\n",
              "    }\n",
              "\n",
              "    .colab-df-convert {\n",
              "      background-color: #E8F0FE;\n",
              "      border: none;\n",
              "      border-radius: 50%;\n",
              "      cursor: pointer;\n",
              "      display: none;\n",
              "      fill: #1967D2;\n",
              "      height: 32px;\n",
              "      padding: 0 0 0 0;\n",
              "      width: 32px;\n",
              "    }\n",
              "\n",
              "    .colab-df-convert:hover {\n",
              "      background-color: #E2EBFA;\n",
              "      box-shadow: 0px 1px 2px rgba(60, 64, 67, 0.3), 0px 1px 3px 1px rgba(60, 64, 67, 0.15);\n",
              "      fill: #174EA6;\n",
              "    }\n",
              "\n",
              "    [theme=dark] .colab-df-convert {\n",
              "      background-color: #3B4455;\n",
              "      fill: #D2E3FC;\n",
              "    }\n",
              "\n",
              "    [theme=dark] .colab-df-convert:hover {\n",
              "      background-color: #434B5C;\n",
              "      box-shadow: 0px 1px 3px 1px rgba(0, 0, 0, 0.15);\n",
              "      filter: drop-shadow(0px 1px 2px rgba(0, 0, 0, 0.3));\n",
              "      fill: #FFFFFF;\n",
              "    }\n",
              "  </style>\n",
              "\n",
              "      <script>\n",
              "        const buttonEl =\n",
              "          document.querySelector('#df-b420d228-8e22-4ebd-8b3c-fddf106388af button.colab-df-convert');\n",
              "        buttonEl.style.display =\n",
              "          google.colab.kernel.accessAllowed ? 'block' : 'none';\n",
              "\n",
              "        async function convertToInteractive(key) {\n",
              "          const element = document.querySelector('#df-b420d228-8e22-4ebd-8b3c-fddf106388af');\n",
              "          const dataTable =\n",
              "            await google.colab.kernel.invokeFunction('convertToInteractive',\n",
              "                                                     [key], {});\n",
              "          if (!dataTable) return;\n",
              "\n",
              "          const docLinkHtml = 'Like what you see? Visit the ' +\n",
              "            '<a target=\"_blank\" href=https://colab.research.google.com/notebooks/data_table.ipynb>data table notebook</a>'\n",
              "            + ' to learn more about interactive tables.';\n",
              "          element.innerHTML = '';\n",
              "          dataTable['output_type'] = 'display_data';\n",
              "          await google.colab.output.renderOutput(dataTable, element);\n",
              "          const docLink = document.createElement('div');\n",
              "          docLink.innerHTML = docLinkHtml;\n",
              "          element.appendChild(docLink);\n",
              "        }\n",
              "      </script>\n",
              "    </div>\n",
              "  </div>\n",
              "  "
            ],
            "text/plain": [
              "       cod_prv  cod_com  ...     dato7                    full_name\n",
              "0            5       22  ...  CENS2011         PASSALACQUA ALDESINA\n",
              "1            5       22  ...  CENS2011           INTERISANO LISANNA\n",
              "2            5       22  ...  CENS2011                 ROSITO FIDES\n",
              "3            5       22  ...  CENS2011               MEDICO VULMARO\n",
              "4            5       22  ...  CENS2011              VIOLANTI ORSINO\n",
              "...        ...      ...  ...       ...                          ...\n",
              "92727        5       22  ...       NaN               VINO FRANCESCO\n",
              "92728        5       22  ...       NaN  LOMBARDO ALBERTO PIERANGELO\n",
              "92729        5       22  ...       NaN     YESSO N'ZROBLA MADELEINE\n",
              "92730        5       22  ...       NaN                PIRELLI PAOLA\n",
              "92731        5       22  ...       NaN                LANDI VALERIA\n",
              "\n",
              "[92732 rows x 21 columns]"
            ]
          },
          "metadata": {},
          "execution_count": 43
        }
      ]
    },
    {
      "cell_type": "code",
      "source": [
        "test_dataframe = dataframe[90000:92000]\n"
      ],
      "metadata": {
        "id": "E33xy3sASpwx"
      },
      "execution_count": 44,
      "outputs": []
    },
    {
      "cell_type": "code",
      "source": [
        "cols1 = dataframe.columns.tolist()\n",
        "cols2 = dataframe2.columns.tolist()"
      ],
      "metadata": {
        "id": "Z8TTCdaiSYOS"
      },
      "execution_count": 45,
      "outputs": []
    },
    {
      "cell_type": "code",
      "source": [
        "import random"
      ],
      "metadata": {
        "id": "K05nMwncTyaP"
      },
      "execution_count": 46,
      "outputs": []
    },
    {
      "cell_type": "code",
      "source": [
        "random.shuffle(cols1)\n",
        "random.shuffle(cols2)"
      ],
      "metadata": {
        "id": "9OzD4Uz0SpWd"
      },
      "execution_count": 47,
      "outputs": []
    },
    {
      "cell_type": "code",
      "source": [
        "first_shuffle_data = dataframe[cols1][0:10000]\n",
        "#first_shuffle_data2 = dataframe2[cols2][0:4000]"
      ],
      "metadata": {
        "id": "F-ZjcJVUUVM8"
      },
      "execution_count": 48,
      "outputs": []
    },
    {
      "cell_type": "code",
      "source": [
        "random.shuffle(cols1)\n",
        "random.shuffle(cols2)\n",
        "second_shuffle_data = dataframe[cols1][10000:20000]\n",
        "#second_shuffle_data2 = dataframe2[cols2][4000:8000]"
      ],
      "metadata": {
        "id": "F2EcNdtaVDww"
      },
      "execution_count": 49,
      "outputs": []
    },
    {
      "cell_type": "code",
      "source": [
        "random.shuffle(cols1)\n",
        "random.shuffle(cols2)\n",
        "third_shuffle_data = dataframe[cols1][20000:30000]\n",
        "#third_shuffle_data2 = dataframe2[cols2][8000:12000]"
      ],
      "metadata": {
        "id": "NcLpDP6RgKZh"
      },
      "execution_count": 50,
      "outputs": []
    },
    {
      "cell_type": "code",
      "source": [
        "random.shuffle(cols1)\n",
        "random.shuffle(cols2)\n",
        "fourth_shuffle_data = dataframe[cols1][30000:40000]\n",
        "#fourth_shuffle_data2 = dataframe2[cols2][12000:15000]"
      ],
      "metadata": {
        "id": "ISoRTqrLgVxy"
      },
      "execution_count": 51,
      "outputs": []
    },
    {
      "cell_type": "code",
      "source": [
        "random.shuffle(cols1)\n",
        "random.shuffle(cols2)\n",
        "five_shuffle_data = dataframe[cols1][40000:60000]\n",
        "#five_shuffle_data2 = dataframe2[cols2][15000:17000]"
      ],
      "metadata": {
        "id": "wtHTRCJCcgxT"
      },
      "execution_count": 52,
      "outputs": []
    },
    {
      "cell_type": "code",
      "source": [
        "random.shuffle(cols1)\n",
        "random.shuffle(cols2)\n",
        "six_shuffle_data = dataframe[cols1][60000:80000]\n",
        "six_shuffle_data2 = dataframe2[cols2][25000:35000]"
      ],
      "metadata": {
        "id": "HkVJOuiAcrn2"
      },
      "execution_count": 53,
      "outputs": []
    },
    {
      "cell_type": "code",
      "source": [
        "def create_token_and_labels(dataset, token_array, tag_array):\n",
        "  data = dataset\n",
        "\n",
        " \n",
        "  for index, row in data.iterrows():\n",
        "    tokens = []\n",
        "    tags = []\n",
        "\n",
        "    for x, value in row.iteritems():\n",
        "    \n",
        "  \n",
        "      if x == \"indirizzo\":\n",
        "        y = value.split()\n",
        "        first= True;\n",
        "        for word in y:\n",
        "          tokens.append(str(word))\n",
        "          if first:\n",
        "            tags.append(\"B-Ind\")\n",
        "            first = False\n",
        "          else:\n",
        "            tags.append(\"I-Ind\") \n",
        "      elif x == \"full_name\":\n",
        "        y = value.split()\n",
        "        first= True;\n",
        "        for word in y:\n",
        "          tokens.append(str(word))\n",
        "          if first:\n",
        "            tags.append(\"B-Per\")\n",
        "            first = False\n",
        "          else:\n",
        "            if row[\"sesso\"] == \"M\":\n",
        "              tags.append(\"I-Per-M\")\n",
        "            else:\n",
        "              tags.append(\"I-Per-F\")\n",
        "\n",
        "\n",
        "               \n",
        "\n",
        "      else:\n",
        "        tokens.append(str(value))\n",
        "        tags.append(\"O\") \n",
        "  \n",
        "    token_array.append(tokens)\n",
        "    tag_array.append(tags)"
      ],
      "metadata": {
        "id": "7Ou9IF7AVQs_"
      },
      "execution_count": 54,
      "outputs": []
    },
    {
      "cell_type": "code",
      "source": [
        "token_docs = []\n",
        "tag_docs = []\n",
        "create_token_and_labels(dataframe,token_docs,tag_docs)\n",
        "create_token_and_labels(first_shuffle_data,token_docs,tag_docs)\n",
        "create_token_and_labels(second_shuffle_data,token_docs,tag_docs)\n",
        "create_token_and_labels(third_shuffle_data,token_docs,tag_docs)\n",
        "create_token_and_labels(fourth_shuffle_data,token_docs,tag_docs)\n",
        "create_token_and_labels(five_shuffle_data,token_docs,tag_docs)\n",
        "create_token_and_labels(six_shuffle_data,token_docs,tag_docs)\n",
        "\n",
        "#create_token_and_labels(dataframe2,token_docs,tag_docs)\n",
        "#create_token_and_labels(first_shuffle_data2,token_docs,tag_docs)\n",
        "#create_token_and_labels(second_shuffle_data2,token_docs,tag_docs)\n",
        "#create_token_and_labels(third_shuffle_data2,token_docs,tag_docs)\n",
        "#create_token_and_labels(fourth_shuffle_data2,token_docs,tag_docs)\n",
        "#create_token_and_labels(five_shuffle_data2,token_docs,tag_docs)\n",
        "#create_token_and_labels(six_shuffle_data2,token_docs,tag_docs)\n",
        "\n"
      ],
      "metadata": {
        "id": "za1VpNRcVWg5"
      },
      "execution_count": 55,
      "outputs": []
    },
    {
      "cell_type": "code",
      "source": [
        "len(token_docs)"
      ],
      "metadata": {
        "id": "6peeaGgmjJo5",
        "outputId": "acbadbdb-80f6-438a-a653-4a02e87c7149",
        "colab": {
          "base_uri": "https://localhost:8080/"
        }
      },
      "execution_count": 56,
      "outputs": [
        {
          "output_type": "execute_result",
          "data": {
            "text/plain": [
              "70000"
            ]
          },
          "metadata": {},
          "execution_count": 56
        }
      ]
    },
    {
      "cell_type": "code",
      "source": [
        "texts, tags = token_docs, tag_docs\n",
        "from sklearn.model_selection import train_test_split\n",
        "train_texts, val_texts, train_tags, val_tags = train_test_split(texts, tags, test_size=.2)"
      ],
      "metadata": {
        "id": "0r3b2kvvVr0i"
      },
      "execution_count": 57,
      "outputs": []
    },
    {
      "cell_type": "code",
      "source": [
        "unique_tags = set(tag for doc in tags for tag in doc)\n",
        "tag2id = {tag: id for id, tag in enumerate(unique_tags)}\n",
        "id2tag = {id: tag for tag, id in tag2id.items()}\n",
        "id2tag"
      ],
      "metadata": {
        "id": "Wz2AUvTGVwsl",
        "outputId": "0780e45e-5fc1-451a-c0c0-4c0b7a95de8b",
        "colab": {
          "base_uri": "https://localhost:8080/"
        }
      },
      "execution_count": 58,
      "outputs": [
        {
          "output_type": "execute_result",
          "data": {
            "text/plain": [
              "{0: 'I-Per-F', 1: 'B-Per', 2: 'B-Ind', 3: 'O', 4: 'I-Ind', 5: 'I-Per-M'}"
            ]
          },
          "metadata": {},
          "execution_count": 58
        }
      ]
    },
    {
      "cell_type": "code",
      "source": [
        "from transformers import BertTokenizerFast\n",
        "\n",
        "#tokenizer = BertTokenizerFast.from_pretrained('bert-base-uncased')\n",
        "tokenizer = BertTokenizerFast.from_pretrained('dbmdz/bert-base-italian-cased')\n",
        "\n",
        "\n"
      ],
      "metadata": {
        "id": "kbaDR_H4V94L"
      },
      "execution_count": 59,
      "outputs": []
    },
    {
      "cell_type": "code",
      "source": [
        "train_encodings = tokenizer(train_texts, is_split_into_words=True, padding=\"max_length\",return_offsets_mapping=True)"
      ],
      "metadata": {
        "id": "4xV1wy3xf1cn"
      },
      "execution_count": null,
      "outputs": []
    },
    {
      "cell_type": "code",
      "source": [
        "val_encodings = tokenizer(val_texts, is_split_into_words=True,padding=\"max_length\", return_offsets_mapping=True)\n"
      ],
      "metadata": {
        "id": "03uqhy_KlrzI"
      },
      "execution_count": null,
      "outputs": []
    },
    {
      "cell_type": "code",
      "source": [
        "#test_encodings = tokenizer(test_token, is_split_into_words=True,padding=\"max_length\", return_offsets_mapping=True)"
      ],
      "metadata": {
        "id": "_k6z9IqwltXB"
      },
      "execution_count": null,
      "outputs": []
    },
    {
      "cell_type": "code",
      "source": [
        "\n",
        "def encode_tags(tags, encodings):\n",
        "    labels = [[tag2id[tag] for tag in doc] for doc in tags]\n",
        "    encoded_labels = []\n",
        "    for doc_labels, doc_offset in zip(labels, encodings.offset_mapping):\n",
        "        # create an empty array of -100\n",
        "        doc_enc_labels = np.ones(len(doc_offset),dtype=int) * -100\n",
        "        arr_offset = np.array(doc_offset)\n",
        "\n",
        "        # set labels whose first offset position is 0 and the second is not 0\n",
        "        mask = (arr_offset[:, 0] == 0) & (arr_offset[:, 1] != 0)\n",
        "        doc_enc_labels[mask] = doc_labels[:np.sum(mask)]\n",
        "        encoded_labels.append(doc_enc_labels.tolist())\n",
        "        \n",
        "      #  doc_enc_labels[(arr_offset[:,0] == 0) & (arr_offset[:,1] != 0)] = doc_labels\n",
        "       # encoded_labels.append(doc_enc_labels.tolist())\n",
        "\n",
        "    return encoded_labels\n",
        "train_labels = encode_tags(train_tags, train_encodings)\n",
        "val_labels = encode_tags(val_tags, val_encodings)"
      ],
      "metadata": {
        "id": "JKkNgP1ZWEyV"
      },
      "execution_count": null,
      "outputs": []
    },
    {
      "cell_type": "code",
      "source": [
        "#test_labels = encode_tags(test_tag, test_encodings)"
      ],
      "metadata": {
        "id": "aC3RJHtmWHYv"
      },
      "execution_count": null,
      "outputs": []
    },
    {
      "cell_type": "code",
      "source": [
        "import tensorflow as tf"
      ],
      "metadata": {
        "id": "ybbToaBgWKKL"
      },
      "execution_count": null,
      "outputs": []
    },
    {
      "cell_type": "code",
      "source": [
        "\n",
        "train_encodings.pop(\"offset_mapping\") # we don't want to pass this to the model\n",
        "val_encodings.pop(\"offset_mapping\")\n",
        "\n",
        "train_dataset = tf.data.Dataset.from_tensor_slices((\n",
        "    dict(train_encodings),\n",
        "    train_labels\n",
        "))\n"
      ],
      "metadata": {
        "id": "V9CqvMktWMv5"
      },
      "execution_count": null,
      "outputs": []
    },
    {
      "cell_type": "code",
      "source": [
        "val_dataset = tf.data.Dataset.from_tensor_slices((\n",
        "    dict(val_encodings),\n",
        "    val_labels\n",
        "))\n",
        "\n"
      ],
      "metadata": {
        "id": "2OZao1woj5yE"
      },
      "execution_count": null,
      "outputs": []
    },
    {
      "cell_type": "code",
      "source": [
        ""
      ],
      "metadata": {
        "id": "Utaawtygj7XM"
      },
      "execution_count": null,
      "outputs": []
    },
    {
      "cell_type": "code",
      "source": [
        "from transformers import TFBertForTokenClassification"
      ],
      "metadata": {
        "id": "ewYg9LV0WRdc"
      },
      "execution_count": null,
      "outputs": []
    },
    {
      "cell_type": "code",
      "source": [
        "model = TFBertForTokenClassification.from_pretrained('dbmdz/bert-base-italian-cased',num_labels=len(unique_tags))\n",
        "metric = tf.keras.metrics.SparseCategoricalAccuracy('accuracy')\n",
        "optimizer = tf.keras.optimizers.Adam(learning_rate=5e-5)\n",
        "model.compile(optimizer=optimizer, loss=model.compute_loss,metrics=metric) # can also use any keras loss fn\n",
        "model.summary()"
      ],
      "metadata": {
        "id": "lWhPUYYYWUHJ"
      },
      "execution_count": null,
      "outputs": []
    },
    {
      "cell_type": "code",
      "source": [
        "model.fit(train_dataset.shuffle(1000).batch(8), epochs=1,validation_data=val_dataset, batch_size=8)"
      ],
      "metadata": {
        "id": "Zfc3nqCCWbqr"
      },
      "execution_count": null,
      "outputs": []
    }
  ]
}