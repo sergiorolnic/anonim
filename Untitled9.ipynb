{
  "nbformat": 4,
  "nbformat_minor": 0,
  "metadata": {
    "colab": {
      "name": "Untitled9.ipynb",
      "provenance": [],
      "authorship_tag": "ABX9TyMI1/y/oCsvbv144ezQ23/g",
      "include_colab_link": true
    },
    "kernelspec": {
      "name": "python3",
      "display_name": "Python 3"
    },
    "language_info": {
      "name": "python"
    },
    "accelerator": "GPU",
    "widgets": {
      "application/vnd.jupyter.widget-state+json": {
        "1087378ece9241f8aaae37040f57e34b": {
          "model_module": "@jupyter-widgets/controls",
          "model_name": "HBoxModel",
          "model_module_version": "1.5.0",
          "state": {
            "_view_name": "HBoxView",
            "_dom_classes": [],
            "_model_name": "HBoxModel",
            "_view_module": "@jupyter-widgets/controls",
            "_model_module_version": "1.5.0",
            "_view_count": null,
            "_view_module_version": "1.5.0",
            "box_style": "",
            "layout": "IPY_MODEL_6d1756e6e0094f8e927f1f76904259c1",
            "_model_module": "@jupyter-widgets/controls",
            "children": [
              "IPY_MODEL_9533e187fd8742c89e53ad577400e016",
              "IPY_MODEL_4fb11d883a9d47c7ac3877413c108d0f",
              "IPY_MODEL_bae4397c00bd4e60bd9371bd28a43b69"
            ]
          }
        },
        "6d1756e6e0094f8e927f1f76904259c1": {
          "model_module": "@jupyter-widgets/base",
          "model_name": "LayoutModel",
          "model_module_version": "1.2.0",
          "state": {
            "_view_name": "LayoutView",
            "grid_template_rows": null,
            "right": null,
            "justify_content": null,
            "_view_module": "@jupyter-widgets/base",
            "overflow": null,
            "_model_module_version": "1.2.0",
            "_view_count": null,
            "flex_flow": null,
            "width": null,
            "min_width": null,
            "border": null,
            "align_items": null,
            "bottom": null,
            "_model_module": "@jupyter-widgets/base",
            "top": null,
            "grid_column": null,
            "overflow_y": null,
            "overflow_x": null,
            "grid_auto_flow": null,
            "grid_area": null,
            "grid_template_columns": null,
            "flex": null,
            "_model_name": "LayoutModel",
            "justify_items": null,
            "grid_row": null,
            "max_height": null,
            "align_content": null,
            "visibility": null,
            "align_self": null,
            "height": null,
            "min_height": null,
            "padding": null,
            "grid_auto_rows": null,
            "grid_gap": null,
            "max_width": null,
            "order": null,
            "_view_module_version": "1.2.0",
            "grid_template_areas": null,
            "object_position": null,
            "object_fit": null,
            "grid_auto_columns": null,
            "margin": null,
            "display": null,
            "left": null
          }
        },
        "9533e187fd8742c89e53ad577400e016": {
          "model_module": "@jupyter-widgets/controls",
          "model_name": "HTMLModel",
          "model_module_version": "1.5.0",
          "state": {
            "_view_name": "HTMLView",
            "style": "IPY_MODEL_9252caf06dd9404c9f4f7e8be0bfaa65",
            "_dom_classes": [],
            "description": "",
            "_model_name": "HTMLModel",
            "placeholder": "​",
            "_view_module": "@jupyter-widgets/controls",
            "_model_module_version": "1.5.0",
            "value": "Downloading: 100%",
            "_view_count": null,
            "_view_module_version": "1.5.0",
            "description_tooltip": null,
            "_model_module": "@jupyter-widgets/controls",
            "layout": "IPY_MODEL_14e2912706d8458fa59d68e574a77f71"
          }
        },
        "4fb11d883a9d47c7ac3877413c108d0f": {
          "model_module": "@jupyter-widgets/controls",
          "model_name": "FloatProgressModel",
          "model_module_version": "1.5.0",
          "state": {
            "_view_name": "ProgressView",
            "style": "IPY_MODEL_feebcf06f82a456da242101d125151d4",
            "_dom_classes": [],
            "description": "",
            "_model_name": "FloatProgressModel",
            "bar_style": "success",
            "max": 539629488,
            "_view_module": "@jupyter-widgets/controls",
            "_model_module_version": "1.5.0",
            "value": 539629488,
            "_view_count": null,
            "_view_module_version": "1.5.0",
            "orientation": "horizontal",
            "min": 0,
            "description_tooltip": null,
            "_model_module": "@jupyter-widgets/controls",
            "layout": "IPY_MODEL_5aa96f0ebdf844cb8c9c97616cde3de1"
          }
        },
        "bae4397c00bd4e60bd9371bd28a43b69": {
          "model_module": "@jupyter-widgets/controls",
          "model_name": "HTMLModel",
          "model_module_version": "1.5.0",
          "state": {
            "_view_name": "HTMLView",
            "style": "IPY_MODEL_9fe155f01ef540d29c687e4da839f729",
            "_dom_classes": [],
            "description": "",
            "_model_name": "HTMLModel",
            "placeholder": "​",
            "_view_module": "@jupyter-widgets/controls",
            "_model_module_version": "1.5.0",
            "value": " 515M/515M [00:24&lt;00:00, 30.1MB/s]",
            "_view_count": null,
            "_view_module_version": "1.5.0",
            "description_tooltip": null,
            "_model_module": "@jupyter-widgets/controls",
            "layout": "IPY_MODEL_f7ce64dacad84328b705849e5e3bbb10"
          }
        },
        "9252caf06dd9404c9f4f7e8be0bfaa65": {
          "model_module": "@jupyter-widgets/controls",
          "model_name": "DescriptionStyleModel",
          "model_module_version": "1.5.0",
          "state": {
            "_view_name": "StyleView",
            "_model_name": "DescriptionStyleModel",
            "description_width": "",
            "_view_module": "@jupyter-widgets/base",
            "_model_module_version": "1.5.0",
            "_view_count": null,
            "_view_module_version": "1.2.0",
            "_model_module": "@jupyter-widgets/controls"
          }
        },
        "14e2912706d8458fa59d68e574a77f71": {
          "model_module": "@jupyter-widgets/base",
          "model_name": "LayoutModel",
          "model_module_version": "1.2.0",
          "state": {
            "_view_name": "LayoutView",
            "grid_template_rows": null,
            "right": null,
            "justify_content": null,
            "_view_module": "@jupyter-widgets/base",
            "overflow": null,
            "_model_module_version": "1.2.0",
            "_view_count": null,
            "flex_flow": null,
            "width": null,
            "min_width": null,
            "border": null,
            "align_items": null,
            "bottom": null,
            "_model_module": "@jupyter-widgets/base",
            "top": null,
            "grid_column": null,
            "overflow_y": null,
            "overflow_x": null,
            "grid_auto_flow": null,
            "grid_area": null,
            "grid_template_columns": null,
            "flex": null,
            "_model_name": "LayoutModel",
            "justify_items": null,
            "grid_row": null,
            "max_height": null,
            "align_content": null,
            "visibility": null,
            "align_self": null,
            "height": null,
            "min_height": null,
            "padding": null,
            "grid_auto_rows": null,
            "grid_gap": null,
            "max_width": null,
            "order": null,
            "_view_module_version": "1.2.0",
            "grid_template_areas": null,
            "object_position": null,
            "object_fit": null,
            "grid_auto_columns": null,
            "margin": null,
            "display": null,
            "left": null
          }
        },
        "feebcf06f82a456da242101d125151d4": {
          "model_module": "@jupyter-widgets/controls",
          "model_name": "ProgressStyleModel",
          "model_module_version": "1.5.0",
          "state": {
            "_view_name": "StyleView",
            "_model_name": "ProgressStyleModel",
            "description_width": "",
            "_view_module": "@jupyter-widgets/base",
            "_model_module_version": "1.5.0",
            "_view_count": null,
            "_view_module_version": "1.2.0",
            "bar_color": null,
            "_model_module": "@jupyter-widgets/controls"
          }
        },
        "5aa96f0ebdf844cb8c9c97616cde3de1": {
          "model_module": "@jupyter-widgets/base",
          "model_name": "LayoutModel",
          "model_module_version": "1.2.0",
          "state": {
            "_view_name": "LayoutView",
            "grid_template_rows": null,
            "right": null,
            "justify_content": null,
            "_view_module": "@jupyter-widgets/base",
            "overflow": null,
            "_model_module_version": "1.2.0",
            "_view_count": null,
            "flex_flow": null,
            "width": null,
            "min_width": null,
            "border": null,
            "align_items": null,
            "bottom": null,
            "_model_module": "@jupyter-widgets/base",
            "top": null,
            "grid_column": null,
            "overflow_y": null,
            "overflow_x": null,
            "grid_auto_flow": null,
            "grid_area": null,
            "grid_template_columns": null,
            "flex": null,
            "_model_name": "LayoutModel",
            "justify_items": null,
            "grid_row": null,
            "max_height": null,
            "align_content": null,
            "visibility": null,
            "align_self": null,
            "height": null,
            "min_height": null,
            "padding": null,
            "grid_auto_rows": null,
            "grid_gap": null,
            "max_width": null,
            "order": null,
            "_view_module_version": "1.2.0",
            "grid_template_areas": null,
            "object_position": null,
            "object_fit": null,
            "grid_auto_columns": null,
            "margin": null,
            "display": null,
            "left": null
          }
        },
        "9fe155f01ef540d29c687e4da839f729": {
          "model_module": "@jupyter-widgets/controls",
          "model_name": "DescriptionStyleModel",
          "model_module_version": "1.5.0",
          "state": {
            "_view_name": "StyleView",
            "_model_name": "DescriptionStyleModel",
            "description_width": "",
            "_view_module": "@jupyter-widgets/base",
            "_model_module_version": "1.5.0",
            "_view_count": null,
            "_view_module_version": "1.2.0",
            "_model_module": "@jupyter-widgets/controls"
          }
        },
        "f7ce64dacad84328b705849e5e3bbb10": {
          "model_module": "@jupyter-widgets/base",
          "model_name": "LayoutModel",
          "model_module_version": "1.2.0",
          "state": {
            "_view_name": "LayoutView",
            "grid_template_rows": null,
            "right": null,
            "justify_content": null,
            "_view_module": "@jupyter-widgets/base",
            "overflow": null,
            "_model_module_version": "1.2.0",
            "_view_count": null,
            "flex_flow": null,
            "width": null,
            "min_width": null,
            "border": null,
            "align_items": null,
            "bottom": null,
            "_model_module": "@jupyter-widgets/base",
            "top": null,
            "grid_column": null,
            "overflow_y": null,
            "overflow_x": null,
            "grid_auto_flow": null,
            "grid_area": null,
            "grid_template_columns": null,
            "flex": null,
            "_model_name": "LayoutModel",
            "justify_items": null,
            "grid_row": null,
            "max_height": null,
            "align_content": null,
            "visibility": null,
            "align_self": null,
            "height": null,
            "min_height": null,
            "padding": null,
            "grid_auto_rows": null,
            "grid_gap": null,
            "max_width": null,
            "order": null,
            "_view_module_version": "1.2.0",
            "grid_template_areas": null,
            "object_position": null,
            "object_fit": null,
            "grid_auto_columns": null,
            "margin": null,
            "display": null,
            "left": null
          }
        },
        "739f24cbca004c7da79e1d26b927436e": {
          "model_module": "@jupyter-widgets/controls",
          "model_name": "HBoxModel",
          "model_module_version": "1.5.0",
          "state": {
            "_view_name": "HBoxView",
            "_dom_classes": [],
            "_model_name": "HBoxModel",
            "_view_module": "@jupyter-widgets/controls",
            "_model_module_version": "1.5.0",
            "_view_count": null,
            "_view_module_version": "1.5.0",
            "box_style": "",
            "layout": "IPY_MODEL_f43937307c3b4d40b078ebd9c39730f9",
            "_model_module": "@jupyter-widgets/controls",
            "children": [
              "IPY_MODEL_b8fdf4c0427a41698abd9d38a5e16bc6",
              "IPY_MODEL_b0a5f35befa34d28ac0562e6702304be",
              "IPY_MODEL_b8dbbe90f3ad45b6ad27dd77dd6186f8"
            ]
          }
        },
        "f43937307c3b4d40b078ebd9c39730f9": {
          "model_module": "@jupyter-widgets/base",
          "model_name": "LayoutModel",
          "model_module_version": "1.2.0",
          "state": {
            "_view_name": "LayoutView",
            "grid_template_rows": null,
            "right": null,
            "justify_content": null,
            "_view_module": "@jupyter-widgets/base",
            "overflow": null,
            "_model_module_version": "1.2.0",
            "_view_count": null,
            "flex_flow": null,
            "width": null,
            "min_width": null,
            "border": null,
            "align_items": null,
            "bottom": null,
            "_model_module": "@jupyter-widgets/base",
            "top": null,
            "grid_column": null,
            "overflow_y": null,
            "overflow_x": null,
            "grid_auto_flow": null,
            "grid_area": null,
            "grid_template_columns": null,
            "flex": null,
            "_model_name": "LayoutModel",
            "justify_items": null,
            "grid_row": null,
            "max_height": null,
            "align_content": null,
            "visibility": null,
            "align_self": null,
            "height": null,
            "min_height": null,
            "padding": null,
            "grid_auto_rows": null,
            "grid_gap": null,
            "max_width": null,
            "order": null,
            "_view_module_version": "1.2.0",
            "grid_template_areas": null,
            "object_position": null,
            "object_fit": null,
            "grid_auto_columns": null,
            "margin": null,
            "display": null,
            "left": null
          }
        },
        "b8fdf4c0427a41698abd9d38a5e16bc6": {
          "model_module": "@jupyter-widgets/controls",
          "model_name": "HTMLModel",
          "model_module_version": "1.5.0",
          "state": {
            "_view_name": "HTMLView",
            "style": "IPY_MODEL_8f62b2810aaa422f86594699b09fe7e0",
            "_dom_classes": [],
            "description": "",
            "_model_name": "HTMLModel",
            "placeholder": "​",
            "_view_module": "@jupyter-widgets/controls",
            "_model_module_version": "1.5.0",
            "value": "Downloading: 100%",
            "_view_count": null,
            "_view_module_version": "1.5.0",
            "description_tooltip": null,
            "_model_module": "@jupyter-widgets/controls",
            "layout": "IPY_MODEL_b6b5fca3eca642399fd180422f0f3658"
          }
        },
        "b0a5f35befa34d28ac0562e6702304be": {
          "model_module": "@jupyter-widgets/controls",
          "model_name": "FloatProgressModel",
          "model_module_version": "1.5.0",
          "state": {
            "_view_name": "ProgressView",
            "style": "IPY_MODEL_332df814d1e04368b547385a260bc32e",
            "_dom_classes": [],
            "description": "",
            "_model_name": "FloatProgressModel",
            "bar_style": "success",
            "max": 235127,
            "_view_module": "@jupyter-widgets/controls",
            "_model_module_version": "1.5.0",
            "value": 235127,
            "_view_count": null,
            "_view_module_version": "1.5.0",
            "orientation": "horizontal",
            "min": 0,
            "description_tooltip": null,
            "_model_module": "@jupyter-widgets/controls",
            "layout": "IPY_MODEL_28a5e9b9418d4b779e1e0760373b1144"
          }
        },
        "b8dbbe90f3ad45b6ad27dd77dd6186f8": {
          "model_module": "@jupyter-widgets/controls",
          "model_name": "HTMLModel",
          "model_module_version": "1.5.0",
          "state": {
            "_view_name": "HTMLView",
            "style": "IPY_MODEL_66f7b21dc4d148ab8e6de79c3b6e00da",
            "_dom_classes": [],
            "description": "",
            "_model_name": "HTMLModel",
            "placeholder": "​",
            "_view_module": "@jupyter-widgets/controls",
            "_model_module_version": "1.5.0",
            "value": " 230k/230k [00:00&lt;00:00, 1.74MB/s]",
            "_view_count": null,
            "_view_module_version": "1.5.0",
            "description_tooltip": null,
            "_model_module": "@jupyter-widgets/controls",
            "layout": "IPY_MODEL_4479954d968148598b69abd11e636e3c"
          }
        },
        "8f62b2810aaa422f86594699b09fe7e0": {
          "model_module": "@jupyter-widgets/controls",
          "model_name": "DescriptionStyleModel",
          "model_module_version": "1.5.0",
          "state": {
            "_view_name": "StyleView",
            "_model_name": "DescriptionStyleModel",
            "description_width": "",
            "_view_module": "@jupyter-widgets/base",
            "_model_module_version": "1.5.0",
            "_view_count": null,
            "_view_module_version": "1.2.0",
            "_model_module": "@jupyter-widgets/controls"
          }
        },
        "b6b5fca3eca642399fd180422f0f3658": {
          "model_module": "@jupyter-widgets/base",
          "model_name": "LayoutModel",
          "model_module_version": "1.2.0",
          "state": {
            "_view_name": "LayoutView",
            "grid_template_rows": null,
            "right": null,
            "justify_content": null,
            "_view_module": "@jupyter-widgets/base",
            "overflow": null,
            "_model_module_version": "1.2.0",
            "_view_count": null,
            "flex_flow": null,
            "width": null,
            "min_width": null,
            "border": null,
            "align_items": null,
            "bottom": null,
            "_model_module": "@jupyter-widgets/base",
            "top": null,
            "grid_column": null,
            "overflow_y": null,
            "overflow_x": null,
            "grid_auto_flow": null,
            "grid_area": null,
            "grid_template_columns": null,
            "flex": null,
            "_model_name": "LayoutModel",
            "justify_items": null,
            "grid_row": null,
            "max_height": null,
            "align_content": null,
            "visibility": null,
            "align_self": null,
            "height": null,
            "min_height": null,
            "padding": null,
            "grid_auto_rows": null,
            "grid_gap": null,
            "max_width": null,
            "order": null,
            "_view_module_version": "1.2.0",
            "grid_template_areas": null,
            "object_position": null,
            "object_fit": null,
            "grid_auto_columns": null,
            "margin": null,
            "display": null,
            "left": null
          }
        },
        "332df814d1e04368b547385a260bc32e": {
          "model_module": "@jupyter-widgets/controls",
          "model_name": "ProgressStyleModel",
          "model_module_version": "1.5.0",
          "state": {
            "_view_name": "StyleView",
            "_model_name": "ProgressStyleModel",
            "description_width": "",
            "_view_module": "@jupyter-widgets/base",
            "_model_module_version": "1.5.0",
            "_view_count": null,
            "_view_module_version": "1.2.0",
            "bar_color": null,
            "_model_module": "@jupyter-widgets/controls"
          }
        },
        "28a5e9b9418d4b779e1e0760373b1144": {
          "model_module": "@jupyter-widgets/base",
          "model_name": "LayoutModel",
          "model_module_version": "1.2.0",
          "state": {
            "_view_name": "LayoutView",
            "grid_template_rows": null,
            "right": null,
            "justify_content": null,
            "_view_module": "@jupyter-widgets/base",
            "overflow": null,
            "_model_module_version": "1.2.0",
            "_view_count": null,
            "flex_flow": null,
            "width": null,
            "min_width": null,
            "border": null,
            "align_items": null,
            "bottom": null,
            "_model_module": "@jupyter-widgets/base",
            "top": null,
            "grid_column": null,
            "overflow_y": null,
            "overflow_x": null,
            "grid_auto_flow": null,
            "grid_area": null,
            "grid_template_columns": null,
            "flex": null,
            "_model_name": "LayoutModel",
            "justify_items": null,
            "grid_row": null,
            "max_height": null,
            "align_content": null,
            "visibility": null,
            "align_self": null,
            "height": null,
            "min_height": null,
            "padding": null,
            "grid_auto_rows": null,
            "grid_gap": null,
            "max_width": null,
            "order": null,
            "_view_module_version": "1.2.0",
            "grid_template_areas": null,
            "object_position": null,
            "object_fit": null,
            "grid_auto_columns": null,
            "margin": null,
            "display": null,
            "left": null
          }
        },
        "66f7b21dc4d148ab8e6de79c3b6e00da": {
          "model_module": "@jupyter-widgets/controls",
          "model_name": "DescriptionStyleModel",
          "model_module_version": "1.5.0",
          "state": {
            "_view_name": "StyleView",
            "_model_name": "DescriptionStyleModel",
            "description_width": "",
            "_view_module": "@jupyter-widgets/base",
            "_model_module_version": "1.5.0",
            "_view_count": null,
            "_view_module_version": "1.2.0",
            "_model_module": "@jupyter-widgets/controls"
          }
        },
        "4479954d968148598b69abd11e636e3c": {
          "model_module": "@jupyter-widgets/base",
          "model_name": "LayoutModel",
          "model_module_version": "1.2.0",
          "state": {
            "_view_name": "LayoutView",
            "grid_template_rows": null,
            "right": null,
            "justify_content": null,
            "_view_module": "@jupyter-widgets/base",
            "overflow": null,
            "_model_module_version": "1.2.0",
            "_view_count": null,
            "flex_flow": null,
            "width": null,
            "min_width": null,
            "border": null,
            "align_items": null,
            "bottom": null,
            "_model_module": "@jupyter-widgets/base",
            "top": null,
            "grid_column": null,
            "overflow_y": null,
            "overflow_x": null,
            "grid_auto_flow": null,
            "grid_area": null,
            "grid_template_columns": null,
            "flex": null,
            "_model_name": "LayoutModel",
            "justify_items": null,
            "grid_row": null,
            "max_height": null,
            "align_content": null,
            "visibility": null,
            "align_self": null,
            "height": null,
            "min_height": null,
            "padding": null,
            "grid_auto_rows": null,
            "grid_gap": null,
            "max_width": null,
            "order": null,
            "_view_module_version": "1.2.0",
            "grid_template_areas": null,
            "object_position": null,
            "object_fit": null,
            "grid_auto_columns": null,
            "margin": null,
            "display": null,
            "left": null
          }
        },
        "93e5655376ed42d19e77c415709466e7": {
          "model_module": "@jupyter-widgets/controls",
          "model_name": "HBoxModel",
          "model_module_version": "1.5.0",
          "state": {
            "_view_name": "HBoxView",
            "_dom_classes": [],
            "_model_name": "HBoxModel",
            "_view_module": "@jupyter-widgets/controls",
            "_model_module_version": "1.5.0",
            "_view_count": null,
            "_view_module_version": "1.5.0",
            "box_style": "",
            "layout": "IPY_MODEL_cc49b6437dd14ba897cf182980b8ecbf",
            "_model_module": "@jupyter-widgets/controls",
            "children": [
              "IPY_MODEL_b344ec8fe160481ea3fc4ab951e6ce34",
              "IPY_MODEL_58e4358a05f24b609db8d913d86df784",
              "IPY_MODEL_54b9da00189b462cadee87124066f703"
            ]
          }
        },
        "cc49b6437dd14ba897cf182980b8ecbf": {
          "model_module": "@jupyter-widgets/base",
          "model_name": "LayoutModel",
          "model_module_version": "1.2.0",
          "state": {
            "_view_name": "LayoutView",
            "grid_template_rows": null,
            "right": null,
            "justify_content": null,
            "_view_module": "@jupyter-widgets/base",
            "overflow": null,
            "_model_module_version": "1.2.0",
            "_view_count": null,
            "flex_flow": null,
            "width": null,
            "min_width": null,
            "border": null,
            "align_items": null,
            "bottom": null,
            "_model_module": "@jupyter-widgets/base",
            "top": null,
            "grid_column": null,
            "overflow_y": null,
            "overflow_x": null,
            "grid_auto_flow": null,
            "grid_area": null,
            "grid_template_columns": null,
            "flex": null,
            "_model_name": "LayoutModel",
            "justify_items": null,
            "grid_row": null,
            "max_height": null,
            "align_content": null,
            "visibility": null,
            "align_self": null,
            "height": null,
            "min_height": null,
            "padding": null,
            "grid_auto_rows": null,
            "grid_gap": null,
            "max_width": null,
            "order": null,
            "_view_module_version": "1.2.0",
            "grid_template_areas": null,
            "object_position": null,
            "object_fit": null,
            "grid_auto_columns": null,
            "margin": null,
            "display": null,
            "left": null
          }
        },
        "b344ec8fe160481ea3fc4ab951e6ce34": {
          "model_module": "@jupyter-widgets/controls",
          "model_name": "HTMLModel",
          "model_module_version": "1.5.0",
          "state": {
            "_view_name": "HTMLView",
            "style": "IPY_MODEL_4727e20463b54648a68717b000a6b92e",
            "_dom_classes": [],
            "description": "",
            "_model_name": "HTMLModel",
            "placeholder": "​",
            "_view_module": "@jupyter-widgets/controls",
            "_model_module_version": "1.5.0",
            "value": "Downloading: 100%",
            "_view_count": null,
            "_view_module_version": "1.5.0",
            "description_tooltip": null,
            "_model_module": "@jupyter-widgets/controls",
            "layout": "IPY_MODEL_b884bac06ebd4652a8832e86d9637de5"
          }
        },
        "58e4358a05f24b609db8d913d86df784": {
          "model_module": "@jupyter-widgets/controls",
          "model_name": "FloatProgressModel",
          "model_module_version": "1.5.0",
          "state": {
            "_view_name": "ProgressView",
            "style": "IPY_MODEL_71f66727d5ed46129025f7bb820d313b",
            "_dom_classes": [],
            "description": "",
            "_model_name": "FloatProgressModel",
            "bar_style": "success",
            "max": 59,
            "_view_module": "@jupyter-widgets/controls",
            "_model_module_version": "1.5.0",
            "value": 59,
            "_view_count": null,
            "_view_module_version": "1.5.0",
            "orientation": "horizontal",
            "min": 0,
            "description_tooltip": null,
            "_model_module": "@jupyter-widgets/controls",
            "layout": "IPY_MODEL_e2682afb30a14ff5a4be9fcda848672b"
          }
        },
        "54b9da00189b462cadee87124066f703": {
          "model_module": "@jupyter-widgets/controls",
          "model_name": "HTMLModel",
          "model_module_version": "1.5.0",
          "state": {
            "_view_name": "HTMLView",
            "style": "IPY_MODEL_0e0df0b4d94c408ca5148aded17c6b28",
            "_dom_classes": [],
            "description": "",
            "_model_name": "HTMLModel",
            "placeholder": "​",
            "_view_module": "@jupyter-widgets/controls",
            "_model_module_version": "1.5.0",
            "value": " 59.0/59.0 [00:00&lt;00:00, 945B/s]",
            "_view_count": null,
            "_view_module_version": "1.5.0",
            "description_tooltip": null,
            "_model_module": "@jupyter-widgets/controls",
            "layout": "IPY_MODEL_5e39425d55ec4385a11695a0892ed12c"
          }
        },
        "4727e20463b54648a68717b000a6b92e": {
          "model_module": "@jupyter-widgets/controls",
          "model_name": "DescriptionStyleModel",
          "model_module_version": "1.5.0",
          "state": {
            "_view_name": "StyleView",
            "_model_name": "DescriptionStyleModel",
            "description_width": "",
            "_view_module": "@jupyter-widgets/base",
            "_model_module_version": "1.5.0",
            "_view_count": null,
            "_view_module_version": "1.2.0",
            "_model_module": "@jupyter-widgets/controls"
          }
        },
        "b884bac06ebd4652a8832e86d9637de5": {
          "model_module": "@jupyter-widgets/base",
          "model_name": "LayoutModel",
          "model_module_version": "1.2.0",
          "state": {
            "_view_name": "LayoutView",
            "grid_template_rows": null,
            "right": null,
            "justify_content": null,
            "_view_module": "@jupyter-widgets/base",
            "overflow": null,
            "_model_module_version": "1.2.0",
            "_view_count": null,
            "flex_flow": null,
            "width": null,
            "min_width": null,
            "border": null,
            "align_items": null,
            "bottom": null,
            "_model_module": "@jupyter-widgets/base",
            "top": null,
            "grid_column": null,
            "overflow_y": null,
            "overflow_x": null,
            "grid_auto_flow": null,
            "grid_area": null,
            "grid_template_columns": null,
            "flex": null,
            "_model_name": "LayoutModel",
            "justify_items": null,
            "grid_row": null,
            "max_height": null,
            "align_content": null,
            "visibility": null,
            "align_self": null,
            "height": null,
            "min_height": null,
            "padding": null,
            "grid_auto_rows": null,
            "grid_gap": null,
            "max_width": null,
            "order": null,
            "_view_module_version": "1.2.0",
            "grid_template_areas": null,
            "object_position": null,
            "object_fit": null,
            "grid_auto_columns": null,
            "margin": null,
            "display": null,
            "left": null
          }
        },
        "71f66727d5ed46129025f7bb820d313b": {
          "model_module": "@jupyter-widgets/controls",
          "model_name": "ProgressStyleModel",
          "model_module_version": "1.5.0",
          "state": {
            "_view_name": "StyleView",
            "_model_name": "ProgressStyleModel",
            "description_width": "",
            "_view_module": "@jupyter-widgets/base",
            "_model_module_version": "1.5.0",
            "_view_count": null,
            "_view_module_version": "1.2.0",
            "bar_color": null,
            "_model_module": "@jupyter-widgets/controls"
          }
        },
        "e2682afb30a14ff5a4be9fcda848672b": {
          "model_module": "@jupyter-widgets/base",
          "model_name": "LayoutModel",
          "model_module_version": "1.2.0",
          "state": {
            "_view_name": "LayoutView",
            "grid_template_rows": null,
            "right": null,
            "justify_content": null,
            "_view_module": "@jupyter-widgets/base",
            "overflow": null,
            "_model_module_version": "1.2.0",
            "_view_count": null,
            "flex_flow": null,
            "width": null,
            "min_width": null,
            "border": null,
            "align_items": null,
            "bottom": null,
            "_model_module": "@jupyter-widgets/base",
            "top": null,
            "grid_column": null,
            "overflow_y": null,
            "overflow_x": null,
            "grid_auto_flow": null,
            "grid_area": null,
            "grid_template_columns": null,
            "flex": null,
            "_model_name": "LayoutModel",
            "justify_items": null,
            "grid_row": null,
            "max_height": null,
            "align_content": null,
            "visibility": null,
            "align_self": null,
            "height": null,
            "min_height": null,
            "padding": null,
            "grid_auto_rows": null,
            "grid_gap": null,
            "max_width": null,
            "order": null,
            "_view_module_version": "1.2.0",
            "grid_template_areas": null,
            "object_position": null,
            "object_fit": null,
            "grid_auto_columns": null,
            "margin": null,
            "display": null,
            "left": null
          }
        },
        "0e0df0b4d94c408ca5148aded17c6b28": {
          "model_module": "@jupyter-widgets/controls",
          "model_name": "DescriptionStyleModel",
          "model_module_version": "1.5.0",
          "state": {
            "_view_name": "StyleView",
            "_model_name": "DescriptionStyleModel",
            "description_width": "",
            "_view_module": "@jupyter-widgets/base",
            "_model_module_version": "1.5.0",
            "_view_count": null,
            "_view_module_version": "1.2.0",
            "_model_module": "@jupyter-widgets/controls"
          }
        },
        "5e39425d55ec4385a11695a0892ed12c": {
          "model_module": "@jupyter-widgets/base",
          "model_name": "LayoutModel",
          "model_module_version": "1.2.0",
          "state": {
            "_view_name": "LayoutView",
            "grid_template_rows": null,
            "right": null,
            "justify_content": null,
            "_view_module": "@jupyter-widgets/base",
            "overflow": null,
            "_model_module_version": "1.2.0",
            "_view_count": null,
            "flex_flow": null,
            "width": null,
            "min_width": null,
            "border": null,
            "align_items": null,
            "bottom": null,
            "_model_module": "@jupyter-widgets/base",
            "top": null,
            "grid_column": null,
            "overflow_y": null,
            "overflow_x": null,
            "grid_auto_flow": null,
            "grid_area": null,
            "grid_template_columns": null,
            "flex": null,
            "_model_name": "LayoutModel",
            "justify_items": null,
            "grid_row": null,
            "max_height": null,
            "align_content": null,
            "visibility": null,
            "align_self": null,
            "height": null,
            "min_height": null,
            "padding": null,
            "grid_auto_rows": null,
            "grid_gap": null,
            "max_width": null,
            "order": null,
            "_view_module_version": "1.2.0",
            "grid_template_areas": null,
            "object_position": null,
            "object_fit": null,
            "grid_auto_columns": null,
            "margin": null,
            "display": null,
            "left": null
          }
        },
        "2ed2c5410d88415d94a09f952efbd0e6": {
          "model_module": "@jupyter-widgets/controls",
          "model_name": "HBoxModel",
          "model_module_version": "1.5.0",
          "state": {
            "_view_name": "HBoxView",
            "_dom_classes": [],
            "_model_name": "HBoxModel",
            "_view_module": "@jupyter-widgets/controls",
            "_model_module_version": "1.5.0",
            "_view_count": null,
            "_view_module_version": "1.5.0",
            "box_style": "",
            "layout": "IPY_MODEL_268471563dab46259dd948d0414e1969",
            "_model_module": "@jupyter-widgets/controls",
            "children": [
              "IPY_MODEL_1fb1c42d23a04142914c8bf7ee4f1672",
              "IPY_MODEL_eaf6dc0ddefa4ed6964984033afae3d2",
              "IPY_MODEL_03430df8e11f4b05ab3558a05fc5d2df"
            ]
          }
        },
        "268471563dab46259dd948d0414e1969": {
          "model_module": "@jupyter-widgets/base",
          "model_name": "LayoutModel",
          "model_module_version": "1.2.0",
          "state": {
            "_view_name": "LayoutView",
            "grid_template_rows": null,
            "right": null,
            "justify_content": null,
            "_view_module": "@jupyter-widgets/base",
            "overflow": null,
            "_model_module_version": "1.2.0",
            "_view_count": null,
            "flex_flow": null,
            "width": null,
            "min_width": null,
            "border": null,
            "align_items": null,
            "bottom": null,
            "_model_module": "@jupyter-widgets/base",
            "top": null,
            "grid_column": null,
            "overflow_y": null,
            "overflow_x": null,
            "grid_auto_flow": null,
            "grid_area": null,
            "grid_template_columns": null,
            "flex": null,
            "_model_name": "LayoutModel",
            "justify_items": null,
            "grid_row": null,
            "max_height": null,
            "align_content": null,
            "visibility": null,
            "align_self": null,
            "height": null,
            "min_height": null,
            "padding": null,
            "grid_auto_rows": null,
            "grid_gap": null,
            "max_width": null,
            "order": null,
            "_view_module_version": "1.2.0",
            "grid_template_areas": null,
            "object_position": null,
            "object_fit": null,
            "grid_auto_columns": null,
            "margin": null,
            "display": null,
            "left": null
          }
        },
        "1fb1c42d23a04142914c8bf7ee4f1672": {
          "model_module": "@jupyter-widgets/controls",
          "model_name": "HTMLModel",
          "model_module_version": "1.5.0",
          "state": {
            "_view_name": "HTMLView",
            "style": "IPY_MODEL_99f19181395548d1b15a1595f3bb1bd6",
            "_dom_classes": [],
            "description": "",
            "_model_name": "HTMLModel",
            "placeholder": "​",
            "_view_module": "@jupyter-widgets/controls",
            "_model_module_version": "1.5.0",
            "value": "Downloading: 100%",
            "_view_count": null,
            "_view_module_version": "1.5.0",
            "description_tooltip": null,
            "_model_module": "@jupyter-widgets/controls",
            "layout": "IPY_MODEL_757fa865c96b4e958ffdae839cf46819"
          }
        },
        "eaf6dc0ddefa4ed6964984033afae3d2": {
          "model_module": "@jupyter-widgets/controls",
          "model_name": "FloatProgressModel",
          "model_module_version": "1.5.0",
          "state": {
            "_view_name": "ProgressView",
            "style": "IPY_MODEL_c24123cfdb1b4919ad93a98021861e82",
            "_dom_classes": [],
            "description": "",
            "_model_name": "FloatProgressModel",
            "bar_style": "success",
            "max": 433,
            "_view_module": "@jupyter-widgets/controls",
            "_model_module_version": "1.5.0",
            "value": 433,
            "_view_count": null,
            "_view_module_version": "1.5.0",
            "orientation": "horizontal",
            "min": 0,
            "description_tooltip": null,
            "_model_module": "@jupyter-widgets/controls",
            "layout": "IPY_MODEL_2701469d879a46a59c3f11ac003e4b4f"
          }
        },
        "03430df8e11f4b05ab3558a05fc5d2df": {
          "model_module": "@jupyter-widgets/controls",
          "model_name": "HTMLModel",
          "model_module_version": "1.5.0",
          "state": {
            "_view_name": "HTMLView",
            "style": "IPY_MODEL_3678c0d22d25405c9fc85cd790124579",
            "_dom_classes": [],
            "description": "",
            "_model_name": "HTMLModel",
            "placeholder": "​",
            "_view_module": "@jupyter-widgets/controls",
            "_model_module_version": "1.5.0",
            "value": " 433/433 [00:00&lt;00:00, 9.30kB/s]",
            "_view_count": null,
            "_view_module_version": "1.5.0",
            "description_tooltip": null,
            "_model_module": "@jupyter-widgets/controls",
            "layout": "IPY_MODEL_6c5bcc485b044ec984f9413d70866a75"
          }
        },
        "99f19181395548d1b15a1595f3bb1bd6": {
          "model_module": "@jupyter-widgets/controls",
          "model_name": "DescriptionStyleModel",
          "model_module_version": "1.5.0",
          "state": {
            "_view_name": "StyleView",
            "_model_name": "DescriptionStyleModel",
            "description_width": "",
            "_view_module": "@jupyter-widgets/base",
            "_model_module_version": "1.5.0",
            "_view_count": null,
            "_view_module_version": "1.2.0",
            "_model_module": "@jupyter-widgets/controls"
          }
        },
        "757fa865c96b4e958ffdae839cf46819": {
          "model_module": "@jupyter-widgets/base",
          "model_name": "LayoutModel",
          "model_module_version": "1.2.0",
          "state": {
            "_view_name": "LayoutView",
            "grid_template_rows": null,
            "right": null,
            "justify_content": null,
            "_view_module": "@jupyter-widgets/base",
            "overflow": null,
            "_model_module_version": "1.2.0",
            "_view_count": null,
            "flex_flow": null,
            "width": null,
            "min_width": null,
            "border": null,
            "align_items": null,
            "bottom": null,
            "_model_module": "@jupyter-widgets/base",
            "top": null,
            "grid_column": null,
            "overflow_y": null,
            "overflow_x": null,
            "grid_auto_flow": null,
            "grid_area": null,
            "grid_template_columns": null,
            "flex": null,
            "_model_name": "LayoutModel",
            "justify_items": null,
            "grid_row": null,
            "max_height": null,
            "align_content": null,
            "visibility": null,
            "align_self": null,
            "height": null,
            "min_height": null,
            "padding": null,
            "grid_auto_rows": null,
            "grid_gap": null,
            "max_width": null,
            "order": null,
            "_view_module_version": "1.2.0",
            "grid_template_areas": null,
            "object_position": null,
            "object_fit": null,
            "grid_auto_columns": null,
            "margin": null,
            "display": null,
            "left": null
          }
        },
        "c24123cfdb1b4919ad93a98021861e82": {
          "model_module": "@jupyter-widgets/controls",
          "model_name": "ProgressStyleModel",
          "model_module_version": "1.5.0",
          "state": {
            "_view_name": "StyleView",
            "_model_name": "ProgressStyleModel",
            "description_width": "",
            "_view_module": "@jupyter-widgets/base",
            "_model_module_version": "1.5.0",
            "_view_count": null,
            "_view_module_version": "1.2.0",
            "bar_color": null,
            "_model_module": "@jupyter-widgets/controls"
          }
        },
        "2701469d879a46a59c3f11ac003e4b4f": {
          "model_module": "@jupyter-widgets/base",
          "model_name": "LayoutModel",
          "model_module_version": "1.2.0",
          "state": {
            "_view_name": "LayoutView",
            "grid_template_rows": null,
            "right": null,
            "justify_content": null,
            "_view_module": "@jupyter-widgets/base",
            "overflow": null,
            "_model_module_version": "1.2.0",
            "_view_count": null,
            "flex_flow": null,
            "width": null,
            "min_width": null,
            "border": null,
            "align_items": null,
            "bottom": null,
            "_model_module": "@jupyter-widgets/base",
            "top": null,
            "grid_column": null,
            "overflow_y": null,
            "overflow_x": null,
            "grid_auto_flow": null,
            "grid_area": null,
            "grid_template_columns": null,
            "flex": null,
            "_model_name": "LayoutModel",
            "justify_items": null,
            "grid_row": null,
            "max_height": null,
            "align_content": null,
            "visibility": null,
            "align_self": null,
            "height": null,
            "min_height": null,
            "padding": null,
            "grid_auto_rows": null,
            "grid_gap": null,
            "max_width": null,
            "order": null,
            "_view_module_version": "1.2.0",
            "grid_template_areas": null,
            "object_position": null,
            "object_fit": null,
            "grid_auto_columns": null,
            "margin": null,
            "display": null,
            "left": null
          }
        },
        "3678c0d22d25405c9fc85cd790124579": {
          "model_module": "@jupyter-widgets/controls",
          "model_name": "DescriptionStyleModel",
          "model_module_version": "1.5.0",
          "state": {
            "_view_name": "StyleView",
            "_model_name": "DescriptionStyleModel",
            "description_width": "",
            "_view_module": "@jupyter-widgets/base",
            "_model_module_version": "1.5.0",
            "_view_count": null,
            "_view_module_version": "1.2.0",
            "_model_module": "@jupyter-widgets/controls"
          }
        },
        "6c5bcc485b044ec984f9413d70866a75": {
          "model_module": "@jupyter-widgets/base",
          "model_name": "LayoutModel",
          "model_module_version": "1.2.0",
          "state": {
            "_view_name": "LayoutView",
            "grid_template_rows": null,
            "right": null,
            "justify_content": null,
            "_view_module": "@jupyter-widgets/base",
            "overflow": null,
            "_model_module_version": "1.2.0",
            "_view_count": null,
            "flex_flow": null,
            "width": null,
            "min_width": null,
            "border": null,
            "align_items": null,
            "bottom": null,
            "_model_module": "@jupyter-widgets/base",
            "top": null,
            "grid_column": null,
            "overflow_y": null,
            "overflow_x": null,
            "grid_auto_flow": null,
            "grid_area": null,
            "grid_template_columns": null,
            "flex": null,
            "_model_name": "LayoutModel",
            "justify_items": null,
            "grid_row": null,
            "max_height": null,
            "align_content": null,
            "visibility": null,
            "align_self": null,
            "height": null,
            "min_height": null,
            "padding": null,
            "grid_auto_rows": null,
            "grid_gap": null,
            "max_width": null,
            "order": null,
            "_view_module_version": "1.2.0",
            "grid_template_areas": null,
            "object_position": null,
            "object_fit": null,
            "grid_auto_columns": null,
            "margin": null,
            "display": null,
            "left": null
          }
        }
      }
    }
  },
  "cells": [
    {
      "cell_type": "markdown",
      "metadata": {
        "id": "view-in-github",
        "colab_type": "text"
      },
      "source": [
        "<a href=\"https://colab.research.google.com/github/sergiorolnic/anonim/blob/main/Untitled9.ipynb\" target=\"_parent\"><img src=\"https://colab.research.google.com/assets/colab-badge.svg\" alt=\"Open In Colab\"/></a>"
      ]
    },
    {
      "cell_type": "code",
      "execution_count": 2,
      "metadata": {
        "id": "N0UIqbzDRBAR"
      },
      "outputs": [],
      "source": [
        "import os.path\n",
        "import numpy as np\n",
        "import pandas as pd"
      ]
    },
    {
      "cell_type": "code",
      "source": [
        "pip install seqeval"
      ],
      "metadata": {
        "id": "sRgDU4CpAukR",
        "outputId": "13e728e2-fa49-4de9-e5ba-02cd89cc8b71",
        "colab": {
          "base_uri": "https://localhost:8080/"
        }
      },
      "execution_count": 5,
      "outputs": [
        {
          "output_type": "stream",
          "name": "stdout",
          "text": [
            "Requirement already satisfied: seqeval in /usr/local/lib/python3.7/dist-packages (1.2.2)\n",
            "Requirement already satisfied: numpy>=1.14.0 in /usr/local/lib/python3.7/dist-packages (from seqeval) (1.19.5)\n",
            "Requirement already satisfied: scikit-learn>=0.21.3 in /usr/local/lib/python3.7/dist-packages (from seqeval) (1.0.1)\n",
            "Requirement already satisfied: scipy>=1.1.0 in /usr/local/lib/python3.7/dist-packages (from scikit-learn>=0.21.3->seqeval) (1.4.1)\n",
            "Requirement already satisfied: threadpoolctl>=2.0.0 in /usr/local/lib/python3.7/dist-packages (from scikit-learn>=0.21.3->seqeval) (3.0.0)\n",
            "Requirement already satisfied: joblib>=0.11 in /usr/local/lib/python3.7/dist-packages (from scikit-learn>=0.21.3->seqeval) (1.1.0)\n"
          ]
        }
      ]
    },
    {
      "cell_type": "code",
      "source": [
        "pip install transformers datasets"
      ],
      "metadata": {
        "id": "nxsb7vFXA9w4",
        "outputId": "b5254db4-5928-4c50-9d75-5b86e6344d6f",
        "colab": {
          "base_uri": "https://localhost:8080/"
        }
      },
      "execution_count": 4,
      "outputs": [
        {
          "output_type": "stream",
          "name": "stdout",
          "text": [
            "Collecting transformers\n",
            "  Downloading transformers-4.15.0-py3-none-any.whl (3.4 MB)\n",
            "\u001b[K     |████████████████████████████████| 3.4 MB 5.1 MB/s \n",
            "\u001b[?25hCollecting datasets\n",
            "  Downloading datasets-1.17.0-py3-none-any.whl (306 kB)\n",
            "\u001b[K     |████████████████████████████████| 306 kB 55.1 MB/s \n",
            "\u001b[?25hRequirement already satisfied: requests in /usr/local/lib/python3.7/dist-packages (from transformers) (2.23.0)\n",
            "Collecting huggingface-hub<1.0,>=0.1.0\n",
            "  Downloading huggingface_hub-0.2.1-py3-none-any.whl (61 kB)\n",
            "\u001b[K     |████████████████████████████████| 61 kB 346 kB/s \n",
            "\u001b[?25hRequirement already satisfied: regex!=2019.12.17 in /usr/local/lib/python3.7/dist-packages (from transformers) (2019.12.20)\n",
            "Requirement already satisfied: tqdm>=4.27 in /usr/local/lib/python3.7/dist-packages (from transformers) (4.62.3)\n",
            "Collecting tokenizers<0.11,>=0.10.1\n",
            "  Downloading tokenizers-0.10.3-cp37-cp37m-manylinux_2_5_x86_64.manylinux1_x86_64.manylinux_2_12_x86_64.manylinux2010_x86_64.whl (3.3 MB)\n",
            "\u001b[K     |████████████████████████████████| 3.3 MB 45.5 MB/s \n",
            "\u001b[?25hRequirement already satisfied: numpy>=1.17 in /usr/local/lib/python3.7/dist-packages (from transformers) (1.19.5)\n",
            "Requirement already satisfied: importlib-metadata in /usr/local/lib/python3.7/dist-packages (from transformers) (4.8.2)\n",
            "Collecting sacremoses\n",
            "  Downloading sacremoses-0.0.46-py3-none-any.whl (895 kB)\n",
            "\u001b[K     |████████████████████████████████| 895 kB 69.7 MB/s \n",
            "\u001b[?25hRequirement already satisfied: packaging>=20.0 in /usr/local/lib/python3.7/dist-packages (from transformers) (21.3)\n",
            "Requirement already satisfied: filelock in /usr/local/lib/python3.7/dist-packages (from transformers) (3.4.0)\n",
            "Collecting pyyaml>=5.1\n",
            "  Downloading PyYAML-6.0-cp37-cp37m-manylinux_2_5_x86_64.manylinux1_x86_64.manylinux_2_12_x86_64.manylinux2010_x86_64.whl (596 kB)\n",
            "\u001b[K     |████████████████████████████████| 596 kB 52.2 MB/s \n",
            "\u001b[?25hRequirement already satisfied: typing-extensions>=3.7.4.3 in /usr/local/lib/python3.7/dist-packages (from huggingface-hub<1.0,>=0.1.0->transformers) (3.10.0.2)\n",
            "Requirement already satisfied: pyparsing!=3.0.5,>=2.0.2 in /usr/local/lib/python3.7/dist-packages (from packaging>=20.0->transformers) (3.0.6)\n",
            "Requirement already satisfied: pyarrow!=4.0.0,>=3.0.0 in /usr/local/lib/python3.7/dist-packages (from datasets) (3.0.0)\n",
            "Collecting fsspec[http]>=2021.05.0\n",
            "  Downloading fsspec-2021.11.1-py3-none-any.whl (132 kB)\n",
            "\u001b[K     |████████████████████████████████| 132 kB 49.9 MB/s \n",
            "\u001b[?25hRequirement already satisfied: pandas in /usr/local/lib/python3.7/dist-packages (from datasets) (1.1.5)\n",
            "Collecting xxhash\n",
            "  Downloading xxhash-2.0.2-cp37-cp37m-manylinux2010_x86_64.whl (243 kB)\n",
            "\u001b[K     |████████████████████████████████| 243 kB 57.7 MB/s \n",
            "\u001b[?25hCollecting aiohttp\n",
            "  Downloading aiohttp-3.8.1-cp37-cp37m-manylinux_2_5_x86_64.manylinux1_x86_64.manylinux_2_12_x86_64.manylinux2010_x86_64.whl (1.1 MB)\n",
            "\u001b[K     |████████████████████████████████| 1.1 MB 33.5 MB/s \n",
            "\u001b[?25hRequirement already satisfied: multiprocess in /usr/local/lib/python3.7/dist-packages (from datasets) (0.70.12.2)\n",
            "Requirement already satisfied: dill in /usr/local/lib/python3.7/dist-packages (from datasets) (0.3.4)\n",
            "Requirement already satisfied: chardet<4,>=3.0.2 in /usr/local/lib/python3.7/dist-packages (from requests->transformers) (3.0.4)\n",
            "Requirement already satisfied: idna<3,>=2.5 in /usr/local/lib/python3.7/dist-packages (from requests->transformers) (2.10)\n",
            "Requirement already satisfied: certifi>=2017.4.17 in /usr/local/lib/python3.7/dist-packages (from requests->transformers) (2021.10.8)\n",
            "Requirement already satisfied: urllib3!=1.25.0,!=1.25.1,<1.26,>=1.21.1 in /usr/local/lib/python3.7/dist-packages (from requests->transformers) (1.24.3)\n",
            "Requirement already satisfied: attrs>=17.3.0 in /usr/local/lib/python3.7/dist-packages (from aiohttp->datasets) (21.2.0)\n",
            "Requirement already satisfied: charset-normalizer<3.0,>=2.0 in /usr/local/lib/python3.7/dist-packages (from aiohttp->datasets) (2.0.8)\n",
            "Collecting asynctest==0.13.0\n",
            "  Downloading asynctest-0.13.0-py3-none-any.whl (26 kB)\n",
            "Collecting async-timeout<5.0,>=4.0.0a3\n",
            "  Downloading async_timeout-4.0.2-py3-none-any.whl (5.8 kB)\n",
            "Collecting frozenlist>=1.1.1\n",
            "  Downloading frozenlist-1.2.0-cp37-cp37m-manylinux_2_5_x86_64.manylinux1_x86_64.manylinux_2_12_x86_64.manylinux2010_x86_64.whl (192 kB)\n",
            "\u001b[K     |████████████████████████████████| 192 kB 45.5 MB/s \n",
            "\u001b[?25hCollecting yarl<2.0,>=1.0\n",
            "  Downloading yarl-1.7.2-cp37-cp37m-manylinux_2_5_x86_64.manylinux1_x86_64.manylinux_2_12_x86_64.manylinux2010_x86_64.whl (271 kB)\n",
            "\u001b[K     |████████████████████████████████| 271 kB 48.6 MB/s \n",
            "\u001b[?25hCollecting aiosignal>=1.1.2\n",
            "  Downloading aiosignal-1.2.0-py3-none-any.whl (8.2 kB)\n",
            "Collecting multidict<7.0,>=4.5\n",
            "  Downloading multidict-5.2.0-cp37-cp37m-manylinux_2_5_x86_64.manylinux1_x86_64.manylinux_2_12_x86_64.manylinux2010_x86_64.whl (160 kB)\n",
            "\u001b[K     |████████████████████████████████| 160 kB 48.9 MB/s \n",
            "\u001b[?25hRequirement already satisfied: zipp>=0.5 in /usr/local/lib/python3.7/dist-packages (from importlib-metadata->transformers) (3.6.0)\n",
            "Requirement already satisfied: python-dateutil>=2.7.3 in /usr/local/lib/python3.7/dist-packages (from pandas->datasets) (2.8.2)\n",
            "Requirement already satisfied: pytz>=2017.2 in /usr/local/lib/python3.7/dist-packages (from pandas->datasets) (2018.9)\n",
            "Requirement already satisfied: six>=1.5 in /usr/local/lib/python3.7/dist-packages (from python-dateutil>=2.7.3->pandas->datasets) (1.15.0)\n",
            "Requirement already satisfied: joblib in /usr/local/lib/python3.7/dist-packages (from sacremoses->transformers) (1.1.0)\n",
            "Requirement already satisfied: click in /usr/local/lib/python3.7/dist-packages (from sacremoses->transformers) (7.1.2)\n",
            "Installing collected packages: multidict, frozenlist, yarl, asynctest, async-timeout, aiosignal, pyyaml, fsspec, aiohttp, xxhash, tokenizers, sacremoses, huggingface-hub, transformers, datasets\n",
            "  Attempting uninstall: pyyaml\n",
            "    Found existing installation: PyYAML 3.13\n",
            "    Uninstalling PyYAML-3.13:\n",
            "      Successfully uninstalled PyYAML-3.13\n",
            "Successfully installed aiohttp-3.8.1 aiosignal-1.2.0 async-timeout-4.0.2 asynctest-0.13.0 datasets-1.17.0 frozenlist-1.2.0 fsspec-2021.11.1 huggingface-hub-0.2.1 multidict-5.2.0 pyyaml-6.0 sacremoses-0.0.46 tokenizers-0.10.3 transformers-4.15.0 xxhash-2.0.2 yarl-1.7.2\n"
          ]
        }
      ]
    },
    {
      "cell_type": "code",
      "source": [
        "df1 = pd.read_json(\"https://github.com/sergiorolnic/anonim/blob/main/data/esempio.json?raw=true\")\n",
        "cn = pd.read_csv('https://raw.githubusercontent.com/nicolomantini/lista_cognomi_italiani/master/cognomi.txt', header=None)\n",
        "cn.columns = [\"cognome\"]\n",
        "femal_name = pd.read_json('https://github.com/sergiorolnic/anonim/blob/main/data/ITGivenFemale.json?raw=true')\n",
        "male_name = pd.read_json('https://github.com/sergiorolnic/anonim/blob/main/data/ITGivenMale.json?raw=true')\n",
        "mixt = pd.concat([male_name,femal_name])\n",
        "index = pd.Index(range(1, 9087, 1))\n",
        "mixt.set_index(index)\n",
        "\n",
        "def fill_missing(column_val):\n",
        "    if column_val == \"\": \n",
        "        column_val = mixt[\"name\"].iloc[np.random.randint(9086)]\n",
        "    else:\n",
        "         column_val = column_val\n",
        "    return column_val\n",
        "\n",
        "cn[\"nome\"] = \"\"\n",
        "cn['nome'] = cn['nome'].apply(fill_missing) \n",
        "cn[\"nome\"] = cn[\"nome\"].str.upper()\n",
        "cn[\"cognome\"] = cn[\"cognome\"].str.upper()\n",
        "dataframe = pd.DataFrame(df1)\n",
        "dataframe[\"cognome\"] = cn[\"cognome\"][0:15000]\n",
        "dataframe[\"nome\"] = cn[\"nome\"][0:15000]\n",
        "dataframe2 = pd.DataFrame(df1[0:6740])\n",
        "dataframe2[\"cognome\"] = list(cn[\"cognome\"][15000:21740])\n",
        "dataframe2[\"nome\"] = list(cn[\"nome\"][15000:21740])\n",
        "\n",
        "dataframe =dataframe.append(df1, ignore_index = True)\n",
        "dataframe =dataframe.append(dataframe2, ignore_index = True)\n",
        "dataframe = dataframe.sample(frac=1).reset_index(drop=True)\n",
        "test_data_df =dataframe[35000:36000]\n",
        "dataframe = dataframe[0:35000]"
      ],
      "metadata": {
        "id": "Yel1KpKtBE_g"
      },
      "execution_count": 6,
      "outputs": []
    },
    {
      "cell_type": "code",
      "source": [
        "dataframe[\"full_name\"] = dataframe[\"cognome\"] + \" \" +dataframe[\"nome\"]\n"
      ],
      "metadata": {
        "id": "tkZxMMroazDd"
      },
      "execution_count": 7,
      "outputs": []
    },
    {
      "cell_type": "code",
      "source": [
        "dataframe.head(1)"
      ],
      "metadata": {
        "id": "9NmYUGLI5vmn",
        "outputId": "983dbf4d-c7f9-40e1-bffc-85a65e3517c3",
        "colab": {
          "base_uri": "https://localhost:8080/",
          "height": 197
        }
      },
      "execution_count": null,
      "outputs": [
        {
          "output_type": "execute_result",
          "data": {
            "text/html": [
              "\n",
              "  <div id=\"df-e8857b09-6920-401f-aa12-c746ce9f4c8d\">\n",
              "    <div class=\"colab-df-container\">\n",
              "      <div>\n",
              "<style scoped>\n",
              "    .dataframe tbody tr th:only-of-type {\n",
              "        vertical-align: middle;\n",
              "    }\n",
              "\n",
              "    .dataframe tbody tr th {\n",
              "        vertical-align: top;\n",
              "    }\n",
              "\n",
              "    .dataframe thead th {\n",
              "        text-align: right;\n",
              "    }\n",
              "</style>\n",
              "<table border=\"1\" class=\"dataframe\">\n",
              "  <thead>\n",
              "    <tr style=\"text-align: right;\">\n",
              "      <th></th>\n",
              "      <th>cod_prv</th>\n",
              "      <th>cod_com</th>\n",
              "      <th>id</th>\n",
              "      <th>cognome</th>\n",
              "      <th>nome</th>\n",
              "      <th>sesso</th>\n",
              "      <th>data_nascita</th>\n",
              "      <th>luogo_nascita</th>\n",
              "      <th>cf</th>\n",
              "      <th>prov_nascita</th>\n",
              "      <th>comune_res</th>\n",
              "      <th>prov_res</th>\n",
              "      <th>citt</th>\n",
              "      <th>indirizzo</th>\n",
              "      <th>cap</th>\n",
              "      <th>dato1</th>\n",
              "      <th>dato2</th>\n",
              "      <th>dato3</th>\n",
              "      <th>dato4</th>\n",
              "      <th>dato5</th>\n",
              "      <th>dato6</th>\n",
              "      <th>dato7</th>\n",
              "      <th>full_name</th>\n",
              "    </tr>\n",
              "  </thead>\n",
              "  <tbody>\n",
              "    <tr>\n",
              "      <th>0</th>\n",
              "      <td>5</td>\n",
              "      <td>22</td>\n",
              "      <td>14735</td>\n",
              "      <td>TOSO</td>\n",
              "      <td>TARCISIO</td>\n",
              "      <td>F</td>\n",
              "      <td>25081926</td>\n",
              "      <td>POMPONESCO</td>\n",
              "      <td>CHZVTR26M65G816U</td>\n",
              "      <td>MN</td>\n",
              "      <td>MONCALIERI</td>\n",
              "      <td>TO</td>\n",
              "      <td>ITA</td>\n",
              "      <td>VIA CARLO COLLODI 12</td>\n",
              "      <td>10024</td>\n",
              "      <td>24032017</td>\n",
              "      <td>52008</td>\n",
              "      <td>1</td>\n",
              "      <td>15062011</td>\n",
              "      <td>8041969</td>\n",
              "      <td>12112021 05:49:25</td>\n",
              "      <td>CENS2011</td>\n",
              "      <td>TOSO TARCISIO</td>\n",
              "    </tr>\n",
              "  </tbody>\n",
              "</table>\n",
              "</div>\n",
              "      <button class=\"colab-df-convert\" onclick=\"convertToInteractive('df-e8857b09-6920-401f-aa12-c746ce9f4c8d')\"\n",
              "              title=\"Convert this dataframe to an interactive table.\"\n",
              "              style=\"display:none;\">\n",
              "        \n",
              "  <svg xmlns=\"http://www.w3.org/2000/svg\" height=\"24px\"viewBox=\"0 0 24 24\"\n",
              "       width=\"24px\">\n",
              "    <path d=\"M0 0h24v24H0V0z\" fill=\"none\"/>\n",
              "    <path d=\"M18.56 5.44l.94 2.06.94-2.06 2.06-.94-2.06-.94-.94-2.06-.94 2.06-2.06.94zm-11 1L8.5 8.5l.94-2.06 2.06-.94-2.06-.94L8.5 2.5l-.94 2.06-2.06.94zm10 10l.94 2.06.94-2.06 2.06-.94-2.06-.94-.94-2.06-.94 2.06-2.06.94z\"/><path d=\"M17.41 7.96l-1.37-1.37c-.4-.4-.92-.59-1.43-.59-.52 0-1.04.2-1.43.59L10.3 9.45l-7.72 7.72c-.78.78-.78 2.05 0 2.83L4 21.41c.39.39.9.59 1.41.59.51 0 1.02-.2 1.41-.59l7.78-7.78 2.81-2.81c.8-.78.8-2.07 0-2.86zM5.41 20L4 18.59l7.72-7.72 1.47 1.35L5.41 20z\"/>\n",
              "  </svg>\n",
              "      </button>\n",
              "      \n",
              "  <style>\n",
              "    .colab-df-container {\n",
              "      display:flex;\n",
              "      flex-wrap:wrap;\n",
              "      gap: 12px;\n",
              "    }\n",
              "\n",
              "    .colab-df-convert {\n",
              "      background-color: #E8F0FE;\n",
              "      border: none;\n",
              "      border-radius: 50%;\n",
              "      cursor: pointer;\n",
              "      display: none;\n",
              "      fill: #1967D2;\n",
              "      height: 32px;\n",
              "      padding: 0 0 0 0;\n",
              "      width: 32px;\n",
              "    }\n",
              "\n",
              "    .colab-df-convert:hover {\n",
              "      background-color: #E2EBFA;\n",
              "      box-shadow: 0px 1px 2px rgba(60, 64, 67, 0.3), 0px 1px 3px 1px rgba(60, 64, 67, 0.15);\n",
              "      fill: #174EA6;\n",
              "    }\n",
              "\n",
              "    [theme=dark] .colab-df-convert {\n",
              "      background-color: #3B4455;\n",
              "      fill: #D2E3FC;\n",
              "    }\n",
              "\n",
              "    [theme=dark] .colab-df-convert:hover {\n",
              "      background-color: #434B5C;\n",
              "      box-shadow: 0px 1px 3px 1px rgba(0, 0, 0, 0.15);\n",
              "      filter: drop-shadow(0px 1px 2px rgba(0, 0, 0, 0.3));\n",
              "      fill: #FFFFFF;\n",
              "    }\n",
              "  </style>\n",
              "\n",
              "      <script>\n",
              "        const buttonEl =\n",
              "          document.querySelector('#df-e8857b09-6920-401f-aa12-c746ce9f4c8d button.colab-df-convert');\n",
              "        buttonEl.style.display =\n",
              "          google.colab.kernel.accessAllowed ? 'block' : 'none';\n",
              "\n",
              "        async function convertToInteractive(key) {\n",
              "          const element = document.querySelector('#df-e8857b09-6920-401f-aa12-c746ce9f4c8d');\n",
              "          const dataTable =\n",
              "            await google.colab.kernel.invokeFunction('convertToInteractive',\n",
              "                                                     [key], {});\n",
              "          if (!dataTable) return;\n",
              "\n",
              "          const docLinkHtml = 'Like what you see? Visit the ' +\n",
              "            '<a target=\"_blank\" href=https://colab.research.google.com/notebooks/data_table.ipynb>data table notebook</a>'\n",
              "            + ' to learn more about interactive tables.';\n",
              "          element.innerHTML = '';\n",
              "          dataTable['output_type'] = 'display_data';\n",
              "          await google.colab.output.renderOutput(dataTable, element);\n",
              "          const docLink = document.createElement('div');\n",
              "          docLink.innerHTML = docLinkHtml;\n",
              "          element.appendChild(docLink);\n",
              "        }\n",
              "      </script>\n",
              "    </div>\n",
              "  </div>\n",
              "  "
            ],
            "text/plain": [
              "   cod_prv  cod_com     id  ...              dato6     dato7      full_name\n",
              "0        5       22  14735  ...  12112021 05:49:25  CENS2011  TOSO TARCISIO\n",
              "\n",
              "[1 rows x 23 columns]"
            ]
          },
          "metadata": {},
          "execution_count": 224
        }
      ]
    },
    {
      "cell_type": "code",
      "source": [
        "df = pd.read_json(\"https://github.com/sergiorolnic/anonim/blob/main/data/popolamento_ina_20211112_header.csv.json?raw=true\")"
      ],
      "metadata": {
        "id": "BC1EElQ3RuKt"
      },
      "execution_count": 8,
      "outputs": []
    },
    {
      "cell_type": "code",
      "source": [
        "dataframe2 = df.sample(frac=1).reset_index(drop=True)\n",
        "dataframe2[\"full_name\"] = dataframe2[\"cognome\"] + \" \" +dataframe2[\"nome\"]\n",
        "#dataframe2.drop(columns=[\"cognome\", \"nome\"], inplace=True)"
      ],
      "metadata": {
        "id": "jl43x-SnSIfw"
      },
      "execution_count": 9,
      "outputs": []
    },
    {
      "cell_type": "code",
      "source": [
        "dataframe2[\"cap\"] = \"\""
      ],
      "metadata": {
        "id": "IBdMe5kH6aaS"
      },
      "execution_count": 10,
      "outputs": []
    },
    {
      "cell_type": "code",
      "source": [
        "dataframe = dataframe.append(dataframe2,ignore_index = True)"
      ],
      "metadata": {
        "id": "mJASP27h6hoa"
      },
      "execution_count": 11,
      "outputs": []
    },
    {
      "cell_type": "code",
      "source": [
        "test_dataframe = dataframe[90000:91000]\n",
        "true_indirizzi = list(test_dataframe[\"indirizzo\"])\n",
        "true_nomi = list(test_dataframe[\"nome\"])\n",
        "true_cognomi = list(test_dataframe[\"cognome\"])\n",
        "dataframe.drop(columns=[\"cognome\", \"nome\"], inplace=True)\n",
        "test_dataframe.drop(columns=[\"full_name\"], inplace=True)"
      ],
      "metadata": {
        "id": "E33xy3sASpwx",
        "colab": {
          "base_uri": "https://localhost:8080/"
        },
        "outputId": "f992a203-1cf4-46ce-f542-d66ab17f9428"
      },
      "execution_count": 12,
      "outputs": [
        {
          "output_type": "stream",
          "name": "stderr",
          "text": [
            "/usr/local/lib/python3.7/dist-packages/pandas/core/frame.py:4174: SettingWithCopyWarning: \n",
            "A value is trying to be set on a copy of a slice from a DataFrame\n",
            "\n",
            "See the caveats in the documentation: https://pandas.pydata.org/pandas-docs/stable/user_guide/indexing.html#returning-a-view-versus-a-copy\n",
            "  errors=errors,\n"
          ]
        }
      ]
    },
    {
      "cell_type": "code",
      "source": [
        "test_dataframe"
      ],
      "metadata": {
        "colab": {
          "base_uri": "https://localhost:8080/",
          "height": 765
        },
        "id": "SrVVoOrrop2G",
        "outputId": "366183a9-699c-41d4-f8ee-3cbc21d0939d"
      },
      "execution_count": null,
      "outputs": [
        {
          "output_type": "execute_result",
          "data": {
            "text/html": [
              "\n",
              "  <div id=\"df-bdfbacea-d2bf-4d92-94de-fc98db2baa08\">\n",
              "    <div class=\"colab-df-container\">\n",
              "      <div>\n",
              "<style scoped>\n",
              "    .dataframe tbody tr th:only-of-type {\n",
              "        vertical-align: middle;\n",
              "    }\n",
              "\n",
              "    .dataframe tbody tr th {\n",
              "        vertical-align: top;\n",
              "    }\n",
              "\n",
              "    .dataframe thead th {\n",
              "        text-align: right;\n",
              "    }\n",
              "</style>\n",
              "<table border=\"1\" class=\"dataframe\">\n",
              "  <thead>\n",
              "    <tr style=\"text-align: right;\">\n",
              "      <th></th>\n",
              "      <th>cod_prv</th>\n",
              "      <th>cod_com</th>\n",
              "      <th>id</th>\n",
              "      <th>cognome</th>\n",
              "      <th>nome</th>\n",
              "      <th>sesso</th>\n",
              "      <th>data_nascita</th>\n",
              "      <th>luogo_nascita</th>\n",
              "      <th>cf</th>\n",
              "      <th>prov_nascita</th>\n",
              "      <th>comune_res</th>\n",
              "      <th>prov_res</th>\n",
              "      <th>citt</th>\n",
              "      <th>indirizzo</th>\n",
              "      <th>cap</th>\n",
              "      <th>dato1</th>\n",
              "      <th>dato2</th>\n",
              "      <th>dato3</th>\n",
              "      <th>dato4</th>\n",
              "      <th>dato5</th>\n",
              "      <th>dato6</th>\n",
              "      <th>dato7</th>\n",
              "    </tr>\n",
              "  </thead>\n",
              "  <tbody>\n",
              "    <tr>\n",
              "      <th>90000</th>\n",
              "      <td>5</td>\n",
              "      <td>22</td>\n",
              "      <td>125381</td>\n",
              "      <td>CASTELLETTO</td>\n",
              "      <td>LUCA</td>\n",
              "      <td>M</td>\n",
              "      <td>3082011</td>\n",
              "      <td>TORINO</td>\n",
              "      <td>CSTLCU11M03L219H</td>\n",
              "      <td>TO</td>\n",
              "      <td>MONCALIERI</td>\n",
              "      <td>TO</td>\n",
              "      <td>ITA</td>\n",
              "      <td>STRADA PECENASCO 5</td>\n",
              "      <td></td>\n",
              "      <td>NaN</td>\n",
              "      <td>NaN</td>\n",
              "      <td>NaN</td>\n",
              "      <td>NaN</td>\n",
              "      <td>NaN</td>\n",
              "      <td>NaN</td>\n",
              "      <td>NaN</td>\n",
              "    </tr>\n",
              "    <tr>\n",
              "      <th>90001</th>\n",
              "      <td>5</td>\n",
              "      <td>22</td>\n",
              "      <td>109129</td>\n",
              "      <td>BLANDI</td>\n",
              "      <td>MATTEO</td>\n",
              "      <td>M</td>\n",
              "      <td>18062005</td>\n",
              "      <td>MONCALIERI</td>\n",
              "      <td>BLNMTT05H18F335R</td>\n",
              "      <td>TO</td>\n",
              "      <td>MONCALIERI</td>\n",
              "      <td>TO</td>\n",
              "      <td>ITA</td>\n",
              "      <td>VIA GIORDANO BRUNO 4 B</td>\n",
              "      <td></td>\n",
              "      <td>NaN</td>\n",
              "      <td>NaN</td>\n",
              "      <td>NaN</td>\n",
              "      <td>NaN</td>\n",
              "      <td>NaN</td>\n",
              "      <td>NaN</td>\n",
              "      <td>NaN</td>\n",
              "    </tr>\n",
              "    <tr>\n",
              "      <th>90002</th>\n",
              "      <td>5</td>\n",
              "      <td>22</td>\n",
              "      <td>62077</td>\n",
              "      <td>FRANZOLINI</td>\n",
              "      <td>VANIA</td>\n",
              "      <td>F</td>\n",
              "      <td>1061949</td>\n",
              "      <td>PAGNACCO</td>\n",
              "      <td>FRNVNA49H41G238H</td>\n",
              "      <td>UD</td>\n",
              "      <td>MONCALIERI</td>\n",
              "      <td>TO</td>\n",
              "      <td>ITA</td>\n",
              "      <td>STRADA TORINO 65</td>\n",
              "      <td></td>\n",
              "      <td>NaN</td>\n",
              "      <td>NaN</td>\n",
              "      <td>NaN</td>\n",
              "      <td>NaN</td>\n",
              "      <td>NaN</td>\n",
              "      <td>NaN</td>\n",
              "      <td>NaN</td>\n",
              "    </tr>\n",
              "    <tr>\n",
              "      <th>90003</th>\n",
              "      <td>5</td>\n",
              "      <td>22</td>\n",
              "      <td>4287</td>\n",
              "      <td>BATTAGLINO</td>\n",
              "      <td>MONICA</td>\n",
              "      <td>F</td>\n",
              "      <td>4101973</td>\n",
              "      <td>MONCALIERI</td>\n",
              "      <td>BTTMNC73R44F335G</td>\n",
              "      <td>TO</td>\n",
              "      <td>MONCALIERI</td>\n",
              "      <td>TO</td>\n",
              "      <td>ITA</td>\n",
              "      <td>VIALE STAZIONE 1 BIS</td>\n",
              "      <td></td>\n",
              "      <td>NaN</td>\n",
              "      <td>NaN</td>\n",
              "      <td>NaN</td>\n",
              "      <td>NaN</td>\n",
              "      <td>NaN</td>\n",
              "      <td>NaN</td>\n",
              "      <td>NaN</td>\n",
              "    </tr>\n",
              "    <tr>\n",
              "      <th>90004</th>\n",
              "      <td>5</td>\n",
              "      <td>22</td>\n",
              "      <td>106111</td>\n",
              "      <td>URUCI</td>\n",
              "      <td>KLESTOR</td>\n",
              "      <td>M</td>\n",
              "      <td>4041984</td>\n",
              "      <td>ALBANIA</td>\n",
              "      <td>RCUKST84D04Z100C</td>\n",
              "      <td>EE</td>\n",
              "      <td>MONCALIERI</td>\n",
              "      <td>TO</td>\n",
              "      <td>ALB</td>\n",
              "      <td>STRADA GENOVA 191 BIS</td>\n",
              "      <td></td>\n",
              "      <td>NaN</td>\n",
              "      <td>NaN</td>\n",
              "      <td>NaN</td>\n",
              "      <td>NaN</td>\n",
              "      <td>NaN</td>\n",
              "      <td>NaN</td>\n",
              "      <td>NaN</td>\n",
              "    </tr>\n",
              "    <tr>\n",
              "      <th>...</th>\n",
              "      <td>...</td>\n",
              "      <td>...</td>\n",
              "      <td>...</td>\n",
              "      <td>...</td>\n",
              "      <td>...</td>\n",
              "      <td>...</td>\n",
              "      <td>...</td>\n",
              "      <td>...</td>\n",
              "      <td>...</td>\n",
              "      <td>...</td>\n",
              "      <td>...</td>\n",
              "      <td>...</td>\n",
              "      <td>...</td>\n",
              "      <td>...</td>\n",
              "      <td>...</td>\n",
              "      <td>...</td>\n",
              "      <td>...</td>\n",
              "      <td>...</td>\n",
              "      <td>...</td>\n",
              "      <td>...</td>\n",
              "      <td>...</td>\n",
              "      <td>...</td>\n",
              "    </tr>\n",
              "    <tr>\n",
              "      <th>90995</th>\n",
              "      <td>5</td>\n",
              "      <td>22</td>\n",
              "      <td>70282</td>\n",
              "      <td>CELESTINO</td>\n",
              "      <td>PAOLA</td>\n",
              "      <td>F</td>\n",
              "      <td>28111988</td>\n",
              "      <td>TORINO</td>\n",
              "      <td>CLSPLA88S68L219T</td>\n",
              "      <td>TO</td>\n",
              "      <td>MONCALIERI</td>\n",
              "      <td>TO</td>\n",
              "      <td>ITA</td>\n",
              "      <td>CORSO TRIESTE 65</td>\n",
              "      <td></td>\n",
              "      <td>NaN</td>\n",
              "      <td>NaN</td>\n",
              "      <td>NaN</td>\n",
              "      <td>NaN</td>\n",
              "      <td>NaN</td>\n",
              "      <td>NaN</td>\n",
              "      <td>NaN</td>\n",
              "    </tr>\n",
              "    <tr>\n",
              "      <th>90996</th>\n",
              "      <td>5</td>\n",
              "      <td>22</td>\n",
              "      <td>91748</td>\n",
              "      <td>CAVALLA</td>\n",
              "      <td>PAOLA</td>\n",
              "      <td>F</td>\n",
              "      <td>22061966</td>\n",
              "      <td>TORINO</td>\n",
              "      <td>CVLPLA66H62L219G</td>\n",
              "      <td>TO</td>\n",
              "      <td>MONCALIERI</td>\n",
              "      <td>TO</td>\n",
              "      <td>ITA</td>\n",
              "      <td>VIA DELLE ACACIE 16 5</td>\n",
              "      <td></td>\n",
              "      <td>NaN</td>\n",
              "      <td>NaN</td>\n",
              "      <td>NaN</td>\n",
              "      <td>NaN</td>\n",
              "      <td>NaN</td>\n",
              "      <td>NaN</td>\n",
              "      <td>NaN</td>\n",
              "    </tr>\n",
              "    <tr>\n",
              "      <th>90997</th>\n",
              "      <td>5</td>\n",
              "      <td>22</td>\n",
              "      <td>40480</td>\n",
              "      <td>NAVARRO</td>\n",
              "      <td>ORIANA</td>\n",
              "      <td>F</td>\n",
              "      <td>21071949</td>\n",
              "      <td>CIVITAVECCHIA</td>\n",
              "      <td>NVRRNO49L61C773F</td>\n",
              "      <td>RM</td>\n",
              "      <td>MONCALIERI</td>\n",
              "      <td>TO</td>\n",
              "      <td>ITA</td>\n",
              "      <td>VIA LUIGI EINAUDI 14</td>\n",
              "      <td></td>\n",
              "      <td>NaN</td>\n",
              "      <td>NaN</td>\n",
              "      <td>NaN</td>\n",
              "      <td>NaN</td>\n",
              "      <td>NaN</td>\n",
              "      <td>NaN</td>\n",
              "      <td>NaN</td>\n",
              "    </tr>\n",
              "    <tr>\n",
              "      <th>90998</th>\n",
              "      <td>5</td>\n",
              "      <td>22</td>\n",
              "      <td>78200</td>\n",
              "      <td>LANZA</td>\n",
              "      <td>STEFANO</td>\n",
              "      <td>M</td>\n",
              "      <td>15021992</td>\n",
              "      <td>MONCALIERI</td>\n",
              "      <td>LNZSFN92B15F335T</td>\n",
              "      <td>TO</td>\n",
              "      <td>MONCALIERI</td>\n",
              "      <td>TO</td>\n",
              "      <td>ITA</td>\n",
              "      <td>STRADA STUPINIGI 19</td>\n",
              "      <td></td>\n",
              "      <td>NaN</td>\n",
              "      <td>NaN</td>\n",
              "      <td>NaN</td>\n",
              "      <td>NaN</td>\n",
              "      <td>NaN</td>\n",
              "      <td>NaN</td>\n",
              "      <td>NaN</td>\n",
              "    </tr>\n",
              "    <tr>\n",
              "      <th>90999</th>\n",
              "      <td>5</td>\n",
              "      <td>22</td>\n",
              "      <td>135580</td>\n",
              "      <td>NEJNEC</td>\n",
              "      <td>LIDIA</td>\n",
              "      <td>F</td>\n",
              "      <td>4031978</td>\n",
              "      <td>ROMANIA</td>\n",
              "      <td>NJNLDI78C44Z129K</td>\n",
              "      <td>EE</td>\n",
              "      <td>MONCALIERI</td>\n",
              "      <td>TO</td>\n",
              "      <td>ROU</td>\n",
              "      <td>VIA VINCENZO BELLINI 7</td>\n",
              "      <td></td>\n",
              "      <td>NaN</td>\n",
              "      <td>NaN</td>\n",
              "      <td>NaN</td>\n",
              "      <td>NaN</td>\n",
              "      <td>NaN</td>\n",
              "      <td>NaN</td>\n",
              "      <td>NaN</td>\n",
              "    </tr>\n",
              "  </tbody>\n",
              "</table>\n",
              "<p>1000 rows × 22 columns</p>\n",
              "</div>\n",
              "      <button class=\"colab-df-convert\" onclick=\"convertToInteractive('df-bdfbacea-d2bf-4d92-94de-fc98db2baa08')\"\n",
              "              title=\"Convert this dataframe to an interactive table.\"\n",
              "              style=\"display:none;\">\n",
              "        \n",
              "  <svg xmlns=\"http://www.w3.org/2000/svg\" height=\"24px\"viewBox=\"0 0 24 24\"\n",
              "       width=\"24px\">\n",
              "    <path d=\"M0 0h24v24H0V0z\" fill=\"none\"/>\n",
              "    <path d=\"M18.56 5.44l.94 2.06.94-2.06 2.06-.94-2.06-.94-.94-2.06-.94 2.06-2.06.94zm-11 1L8.5 8.5l.94-2.06 2.06-.94-2.06-.94L8.5 2.5l-.94 2.06-2.06.94zm10 10l.94 2.06.94-2.06 2.06-.94-2.06-.94-.94-2.06-.94 2.06-2.06.94z\"/><path d=\"M17.41 7.96l-1.37-1.37c-.4-.4-.92-.59-1.43-.59-.52 0-1.04.2-1.43.59L10.3 9.45l-7.72 7.72c-.78.78-.78 2.05 0 2.83L4 21.41c.39.39.9.59 1.41.59.51 0 1.02-.2 1.41-.59l7.78-7.78 2.81-2.81c.8-.78.8-2.07 0-2.86zM5.41 20L4 18.59l7.72-7.72 1.47 1.35L5.41 20z\"/>\n",
              "  </svg>\n",
              "      </button>\n",
              "      \n",
              "  <style>\n",
              "    .colab-df-container {\n",
              "      display:flex;\n",
              "      flex-wrap:wrap;\n",
              "      gap: 12px;\n",
              "    }\n",
              "\n",
              "    .colab-df-convert {\n",
              "      background-color: #E8F0FE;\n",
              "      border: none;\n",
              "      border-radius: 50%;\n",
              "      cursor: pointer;\n",
              "      display: none;\n",
              "      fill: #1967D2;\n",
              "      height: 32px;\n",
              "      padding: 0 0 0 0;\n",
              "      width: 32px;\n",
              "    }\n",
              "\n",
              "    .colab-df-convert:hover {\n",
              "      background-color: #E2EBFA;\n",
              "      box-shadow: 0px 1px 2px rgba(60, 64, 67, 0.3), 0px 1px 3px 1px rgba(60, 64, 67, 0.15);\n",
              "      fill: #174EA6;\n",
              "    }\n",
              "\n",
              "    [theme=dark] .colab-df-convert {\n",
              "      background-color: #3B4455;\n",
              "      fill: #D2E3FC;\n",
              "    }\n",
              "\n",
              "    [theme=dark] .colab-df-convert:hover {\n",
              "      background-color: #434B5C;\n",
              "      box-shadow: 0px 1px 3px 1px rgba(0, 0, 0, 0.15);\n",
              "      filter: drop-shadow(0px 1px 2px rgba(0, 0, 0, 0.3));\n",
              "      fill: #FFFFFF;\n",
              "    }\n",
              "  </style>\n",
              "\n",
              "      <script>\n",
              "        const buttonEl =\n",
              "          document.querySelector('#df-bdfbacea-d2bf-4d92-94de-fc98db2baa08 button.colab-df-convert');\n",
              "        buttonEl.style.display =\n",
              "          google.colab.kernel.accessAllowed ? 'block' : 'none';\n",
              "\n",
              "        async function convertToInteractive(key) {\n",
              "          const element = document.querySelector('#df-bdfbacea-d2bf-4d92-94de-fc98db2baa08');\n",
              "          const dataTable =\n",
              "            await google.colab.kernel.invokeFunction('convertToInteractive',\n",
              "                                                     [key], {});\n",
              "          if (!dataTable) return;\n",
              "\n",
              "          const docLinkHtml = 'Like what you see? Visit the ' +\n",
              "            '<a target=\"_blank\" href=https://colab.research.google.com/notebooks/data_table.ipynb>data table notebook</a>'\n",
              "            + ' to learn more about interactive tables.';\n",
              "          element.innerHTML = '';\n",
              "          dataTable['output_type'] = 'display_data';\n",
              "          await google.colab.output.renderOutput(dataTable, element);\n",
              "          const docLink = document.createElement('div');\n",
              "          docLink.innerHTML = docLinkHtml;\n",
              "          element.appendChild(docLink);\n",
              "        }\n",
              "      </script>\n",
              "    </div>\n",
              "  </div>\n",
              "  "
            ],
            "text/plain": [
              "       cod_prv  cod_com      id      cognome  ... dato4 dato5  dato6 dato7\n",
              "90000        5       22  125381  CASTELLETTO  ...   NaN   NaN    NaN   NaN\n",
              "90001        5       22  109129       BLANDI  ...   NaN   NaN    NaN   NaN\n",
              "90002        5       22   62077   FRANZOLINI  ...   NaN   NaN    NaN   NaN\n",
              "90003        5       22    4287   BATTAGLINO  ...   NaN   NaN    NaN   NaN\n",
              "90004        5       22  106111        URUCI  ...   NaN   NaN    NaN   NaN\n",
              "...        ...      ...     ...          ...  ...   ...   ...    ...   ...\n",
              "90995        5       22   70282    CELESTINO  ...   NaN   NaN    NaN   NaN\n",
              "90996        5       22   91748      CAVALLA  ...   NaN   NaN    NaN   NaN\n",
              "90997        5       22   40480      NAVARRO  ...   NaN   NaN    NaN   NaN\n",
              "90998        5       22   78200        LANZA  ...   NaN   NaN    NaN   NaN\n",
              "90999        5       22  135580       NEJNEC  ...   NaN   NaN    NaN   NaN\n",
              "\n",
              "[1000 rows x 22 columns]"
            ]
          },
          "metadata": {},
          "execution_count": 206
        }
      ]
    },
    {
      "cell_type": "code",
      "source": [
        "cols1 = dataframe.columns.tolist()\n",
        "cols2 = dataframe2.columns.tolist()"
      ],
      "metadata": {
        "id": "Z8TTCdaiSYOS"
      },
      "execution_count": null,
      "outputs": []
    },
    {
      "cell_type": "code",
      "source": [
        "import random"
      ],
      "metadata": {
        "id": "K05nMwncTyaP"
      },
      "execution_count": null,
      "outputs": []
    },
    {
      "cell_type": "code",
      "source": [
        "random.shuffle(cols1)\n",
        "random.shuffle(cols2)"
      ],
      "metadata": {
        "id": "9OzD4Uz0SpWd"
      },
      "execution_count": null,
      "outputs": []
    },
    {
      "cell_type": "code",
      "source": [
        "first_shuffle_data = dataframe[cols1][0:10000]\n",
        "#first_shuffle_data2 = dataframe2[cols2][0:4000]"
      ],
      "metadata": {
        "id": "F-ZjcJVUUVM8"
      },
      "execution_count": null,
      "outputs": []
    },
    {
      "cell_type": "code",
      "source": [
        "random.shuffle(cols1)\n",
        "random.shuffle(cols2)\n",
        "second_shuffle_data = dataframe[cols1][10000:20000]\n",
        "#second_shuffle_data2 = dataframe2[cols2][4000:8000]"
      ],
      "metadata": {
        "id": "F2EcNdtaVDww"
      },
      "execution_count": null,
      "outputs": []
    },
    {
      "cell_type": "code",
      "source": [
        "random.shuffle(cols1)\n",
        "random.shuffle(cols2)\n",
        "third_shuffle_data = dataframe[cols1][20000:30000]\n",
        "#third_shuffle_data2 = dataframe2[cols2][8000:12000]"
      ],
      "metadata": {
        "id": "NcLpDP6RgKZh"
      },
      "execution_count": null,
      "outputs": []
    },
    {
      "cell_type": "code",
      "source": [
        "random.shuffle(cols1)\n",
        "random.shuffle(cols2)\n",
        "fourth_shuffle_data = dataframe[cols1][30000:40000]\n",
        "#fourth_shuffle_data2 = dataframe2[cols2][12000:15000]"
      ],
      "metadata": {
        "id": "ISoRTqrLgVxy"
      },
      "execution_count": null,
      "outputs": []
    },
    {
      "cell_type": "code",
      "source": [
        "random.shuffle(cols1)\n",
        "random.shuffle(cols2)\n",
        "five_shuffle_data = dataframe[cols1][40000:60000]\n",
        "#five_shuffle_data2 = dataframe2[cols2][15000:17000]"
      ],
      "metadata": {
        "id": "wtHTRCJCcgxT"
      },
      "execution_count": null,
      "outputs": []
    },
    {
      "cell_type": "code",
      "source": [
        "random.shuffle(cols1)\n",
        "random.shuffle(cols2)\n",
        "six_shuffle_data = dataframe[cols1][60000:80000]\n",
        "six_shuffle_data2 = dataframe2[cols2][25000:35000]"
      ],
      "metadata": {
        "id": "HkVJOuiAcrn2"
      },
      "execution_count": null,
      "outputs": []
    },
    {
      "cell_type": "code",
      "source": [
        "def create_token_and_labels(dataset, token_array, tag_array):\n",
        "  data = dataset\n",
        "\n",
        " \n",
        "  for index, row in data.iterrows():\n",
        "    tokens = []\n",
        "    tags = []\n",
        "\n",
        "    for x, value in row.iteritems():\n",
        "    \n",
        "  \n",
        "      if x == \"indirizzo\":\n",
        "        y = value.split()\n",
        "        first= True;\n",
        "        for word in y:\n",
        "          tokens.append(str(word))\n",
        "          if first:\n",
        "            tags.append(\"B-Ind\")\n",
        "            first = False\n",
        "          else:\n",
        "            tags.append(\"I-Ind\") \n",
        "      elif x == \"full_name\":\n",
        "        y = value.split()\n",
        "        first= True;\n",
        "        for word in y:\n",
        "          tokens.append(str(word))\n",
        "          if first:\n",
        "            tags.append(\"B-Per\")\n",
        "            first = False\n",
        "          else:\n",
        "            if row[\"sesso\"] == \"M\":\n",
        "              tags.append(\"I-Per-M\")\n",
        "            else:\n",
        "              tags.append(\"I-Per-F\")\n",
        "\n",
        "\n",
        "               \n",
        "\n",
        "      else:\n",
        "        tokens.append(str(value))\n",
        "        tags.append(\"O\") \n",
        "  \n",
        "    token_array.append(tokens)\n",
        "    tag_array.append(tags)"
      ],
      "metadata": {
        "id": "7Ou9IF7AVQs_"
      },
      "execution_count": null,
      "outputs": []
    },
    {
      "cell_type": "code",
      "source": [
        "token_docs = []\n",
        "tag_docs = []\n",
        "#create_token_and_labels(dataframe,token_docs,tag_docs)\n",
        "create_token_and_labels(first_shuffle_data,token_docs,tag_docs)\n",
        "#create_token_and_labels(second_shuffle_data,token_docs,tag_docs)\n",
        "#create_token_and_labels(third_shuffle_data,token_docs,tag_docs)\n",
        "#create_token_and_labels(fourth_shuffle_data,token_docs,tag_docs)\n",
        "#create_token_and_labels(five_shuffle_data,token_docs,tag_docs)\n",
        "#create_token_and_labels(six_shuffle_data,token_docs,tag_docs)\n",
        "\n",
        "#create_token_and_labels(dataframe2,token_docs,tag_docs)\n",
        "#create_token_and_labels(first_shuffle_data2,token_docs,tag_docs)\n",
        "#create_token_and_labels(second_shuffle_data2,token_docs,tag_docs)\n",
        "#create_token_and_labels(third_shuffle_data2,token_docs,tag_docs)\n",
        "#create_token_and_labels(fourth_shuffle_data2,token_docs,tag_docs)\n",
        "#create_token_and_labels(five_shuffle_data2,token_docs,tag_docs)\n",
        "#create_token_and_labels(six_shuffle_data2,token_docs,tag_docs)\n",
        "\n"
      ],
      "metadata": {
        "id": "za1VpNRcVWg5"
      },
      "execution_count": null,
      "outputs": []
    },
    {
      "cell_type": "code",
      "source": [
        "test_tag= []\n",
        "test_token = []\n",
        "create_token_and_labels(test_dataframe,test_token,test_tag)"
      ],
      "metadata": {
        "id": "ajhFnTqgnwxd"
      },
      "execution_count": null,
      "outputs": []
    },
    {
      "cell_type": "code",
      "source": [
        "len(test_token)"
      ],
      "metadata": {
        "colab": {
          "base_uri": "https://localhost:8080/"
        },
        "id": "NiZ46ZNroUbg",
        "outputId": "894235b8-fa66-499f-ba92-95fb7bbb61d9"
      },
      "execution_count": null,
      "outputs": [
        {
          "output_type": "execute_result",
          "data": {
            "text/plain": [
              "0"
            ]
          },
          "metadata": {},
          "execution_count": 63
        }
      ]
    },
    {
      "cell_type": "code",
      "source": [
        "len(token_docs)"
      ],
      "metadata": {
        "id": "6peeaGgmjJo5",
        "outputId": "2b742b8d-2bbc-47e2-f0a0-524dad44ba34",
        "colab": {
          "base_uri": "https://localhost:8080/"
        }
      },
      "execution_count": null,
      "outputs": [
        {
          "output_type": "execute_result",
          "data": {
            "text/plain": [
              "70000"
            ]
          },
          "metadata": {},
          "execution_count": 23
        }
      ]
    },
    {
      "cell_type": "code",
      "source": [
        "texts, tags = token_docs, tag_docs\n",
        "from sklearn.model_selection import train_test_split\n",
        "train_texts, val_texts, train_tags, val_tags = train_test_split(texts, tags, test_size=.2)"
      ],
      "metadata": {
        "id": "0r3b2kvvVr0i"
      },
      "execution_count": null,
      "outputs": []
    },
    {
      "cell_type": "code",
      "source": [
        "unique_tags = set(tag for doc in tags for tag in doc)\n",
        "tag2id = {tag: id for id, tag in enumerate(unique_tags)}\n",
        "id2tag = {id: tag for tag, id in tag2id.items()}\n",
        "id2tag"
      ],
      "metadata": {
        "id": "Wz2AUvTGVwsl",
        "outputId": "61654685-960a-4c86-d93b-dcfec5ed6fbf",
        "colab": {
          "base_uri": "https://localhost:8080/"
        }
      },
      "execution_count": null,
      "outputs": [
        {
          "output_type": "execute_result",
          "data": {
            "text/plain": [
              "{0: 'O', 1: 'B-Per', 2: 'I-Ind', 3: 'I-Per-F', 4: 'B-Ind', 5: 'I-Per-M'}"
            ]
          },
          "metadata": {},
          "execution_count": 89
        }
      ]
    },
    {
      "cell_type": "code",
      "source": [
        "from transformers import BertTokenizerFast\n",
        "\n",
        "#tokenizer = BertTokenizerFast.from_pretrained('bert-base-uncased')\n",
        "tokenizer = BertTokenizerFast.from_pretrained('dbmdz/bert-base-italian-cased')\n",
        "\n",
        "\n"
      ],
      "metadata": {
        "id": "kbaDR_H4V94L",
        "colab": {
          "base_uri": "https://localhost:8080/",
          "height": 113,
          "referenced_widgets": [
            "739f24cbca004c7da79e1d26b927436e",
            "f43937307c3b4d40b078ebd9c39730f9",
            "b8fdf4c0427a41698abd9d38a5e16bc6",
            "b0a5f35befa34d28ac0562e6702304be",
            "b8dbbe90f3ad45b6ad27dd77dd6186f8",
            "8f62b2810aaa422f86594699b09fe7e0",
            "b6b5fca3eca642399fd180422f0f3658",
            "332df814d1e04368b547385a260bc32e",
            "28a5e9b9418d4b779e1e0760373b1144",
            "66f7b21dc4d148ab8e6de79c3b6e00da",
            "4479954d968148598b69abd11e636e3c",
            "93e5655376ed42d19e77c415709466e7",
            "cc49b6437dd14ba897cf182980b8ecbf",
            "b344ec8fe160481ea3fc4ab951e6ce34",
            "58e4358a05f24b609db8d913d86df784",
            "54b9da00189b462cadee87124066f703",
            "4727e20463b54648a68717b000a6b92e",
            "b884bac06ebd4652a8832e86d9637de5",
            "71f66727d5ed46129025f7bb820d313b",
            "e2682afb30a14ff5a4be9fcda848672b",
            "0e0df0b4d94c408ca5148aded17c6b28",
            "5e39425d55ec4385a11695a0892ed12c",
            "2ed2c5410d88415d94a09f952efbd0e6",
            "268471563dab46259dd948d0414e1969",
            "1fb1c42d23a04142914c8bf7ee4f1672",
            "eaf6dc0ddefa4ed6964984033afae3d2",
            "03430df8e11f4b05ab3558a05fc5d2df",
            "99f19181395548d1b15a1595f3bb1bd6",
            "757fa865c96b4e958ffdae839cf46819",
            "c24123cfdb1b4919ad93a98021861e82",
            "2701469d879a46a59c3f11ac003e4b4f",
            "3678c0d22d25405c9fc85cd790124579",
            "6c5bcc485b044ec984f9413d70866a75"
          ]
        },
        "outputId": "82c5f3c9-3e4c-4ed8-b2f4-a37de3cf85e2"
      },
      "execution_count": 19,
      "outputs": [
        {
          "output_type": "display_data",
          "data": {
            "application/vnd.jupyter.widget-view+json": {
              "model_id": "739f24cbca004c7da79e1d26b927436e",
              "version_minor": 0,
              "version_major": 2
            },
            "text/plain": [
              "Downloading:   0%|          | 0.00/230k [00:00<?, ?B/s]"
            ]
          },
          "metadata": {}
        },
        {
          "output_type": "display_data",
          "data": {
            "application/vnd.jupyter.widget-view+json": {
              "model_id": "93e5655376ed42d19e77c415709466e7",
              "version_minor": 0,
              "version_major": 2
            },
            "text/plain": [
              "Downloading:   0%|          | 0.00/59.0 [00:00<?, ?B/s]"
            ]
          },
          "metadata": {}
        },
        {
          "output_type": "display_data",
          "data": {
            "application/vnd.jupyter.widget-view+json": {
              "model_id": "2ed2c5410d88415d94a09f952efbd0e6",
              "version_minor": 0,
              "version_major": 2
            },
            "text/plain": [
              "Downloading:   0%|          | 0.00/433 [00:00<?, ?B/s]"
            ]
          },
          "metadata": {}
        }
      ]
    },
    {
      "cell_type": "code",
      "source": [
        "train_encodings = tokenizer(train_texts, is_split_into_words=True, padding=\"max_length\",return_offsets_mapping=True)"
      ],
      "metadata": {
        "id": "4xV1wy3xf1cn"
      },
      "execution_count": null,
      "outputs": []
    },
    {
      "cell_type": "code",
      "source": [
        "val_encodings = tokenizer(val_texts, is_split_into_words=True,padding=\"max_length\", return_offsets_mapping=True)\n"
      ],
      "metadata": {
        "id": "03uqhy_KlrzI"
      },
      "execution_count": null,
      "outputs": []
    },
    {
      "cell_type": "code",
      "source": [
        "test_encodings = tokenizer(test_token, is_split_into_words=True,padding=\"max_length\", return_offsets_mapping=True)"
      ],
      "metadata": {
        "id": "_k6z9IqwltXB"
      },
      "execution_count": null,
      "outputs": []
    },
    {
      "cell_type": "code",
      "source": [
        "\n",
        "def encode_tags(tags, encodings):\n",
        "    labels = [[tag2id[tag] for tag in doc] for doc in tags]\n",
        "    encoded_labels = []\n",
        "    for doc_labels, doc_offset in zip(labels, encodings.offset_mapping):\n",
        "        # create an empty array of -100\n",
        "        doc_enc_labels = np.ones(len(doc_offset),dtype=int) * -100\n",
        "        arr_offset = np.array(doc_offset)\n",
        "\n",
        "        # set labels whose first offset position is 0 and the second is not 0\n",
        "        mask = (arr_offset[:, 0] == 0) & (arr_offset[:, 1] != 0)\n",
        "        doc_enc_labels[mask] = doc_labels[:np.sum(mask)]\n",
        "        encoded_labels.append(doc_enc_labels.tolist())\n",
        "        \n",
        "      #  doc_enc_labels[(arr_offset[:,0] == 0) & (arr_offset[:,1] != 0)] = doc_labels\n",
        "       # encoded_labels.append(doc_enc_labels.tolist())\n",
        "\n",
        "    return encoded_labels\n",
        "train_labels = encode_tags(train_tags, train_encodings)\n",
        "val_labels = encode_tags(val_tags, val_encodings)"
      ],
      "metadata": {
        "id": "JKkNgP1ZWEyV"
      },
      "execution_count": null,
      "outputs": []
    },
    {
      "cell_type": "code",
      "source": [
        "test_labels = encode_tags(test_tag, test_encodings)"
      ],
      "metadata": {
        "id": "aC3RJHtmWHYv"
      },
      "execution_count": null,
      "outputs": []
    },
    {
      "cell_type": "code",
      "source": [
        "import tensorflow as tf"
      ],
      "metadata": {
        "id": "ybbToaBgWKKL"
      },
      "execution_count": 20,
      "outputs": []
    },
    {
      "cell_type": "code",
      "source": [
        "\n",
        "train_encodings.pop(\"offset_mapping\") # we don't want to pass this to the model\n",
        "val_encodings.pop(\"offset_mapping\")\n",
        "\n",
        "train_dataset = tf.data.Dataset.from_tensor_slices((\n",
        "    dict(train_encodings),\n",
        "    train_labels\n",
        "))\n"
      ],
      "metadata": {
        "id": "V9CqvMktWMv5"
      },
      "execution_count": null,
      "outputs": []
    },
    {
      "cell_type": "code",
      "source": [
        "val_dataset = tf.data.Dataset.from_tensor_slices((\n",
        "    dict(val_encodings),\n",
        "    val_labels\n",
        "))\n",
        "\n"
      ],
      "metadata": {
        "id": "2OZao1woj5yE"
      },
      "execution_count": null,
      "outputs": []
    },
    {
      "cell_type": "code",
      "source": [
        "test_encodings.pop(\"offset_mapping\")\n",
        "test_dataset = tf.data.Dataset.from_tensor_slices((\n",
        "    dict(test_encodings),\n",
        "    test_labels\n",
        "))"
      ],
      "metadata": {
        "id": "Utaawtygj7XM"
      },
      "execution_count": null,
      "outputs": []
    },
    {
      "cell_type": "code",
      "source": [
        "from transformers import TFBertForTokenClassification"
      ],
      "metadata": {
        "id": "ewYg9LV0WRdc"
      },
      "execution_count": 14,
      "outputs": []
    },
    {
      "cell_type": "code",
      "source": [
        "model = TFBertForTokenClassification.from_pretrained('dbmdz/bert-base-italian-cased',num_labels=len(unique_tags))\n",
        "metric = tf.keras.metrics.SparseCategoricalAccuracy('accuracy')\n",
        "optimizer = tf.keras.optimizers.Adam(learning_rate=5e-5)\n",
        "model.compile(optimizer=optimizer, loss=model.compute_loss,metrics=metric) # can also use any keras loss fn\n",
        "model.summary()"
      ],
      "metadata": {
        "id": "lWhPUYYYWUHJ",
        "outputId": "13da6e1d-efeb-47fc-9716-df8904060d0b",
        "colab": {
          "base_uri": "https://localhost:8080/",
          "height": 379,
          "referenced_widgets": [
            "1087378ece9241f8aaae37040f57e34b",
            "6d1756e6e0094f8e927f1f76904259c1",
            "9533e187fd8742c89e53ad577400e016",
            "4fb11d883a9d47c7ac3877413c108d0f",
            "bae4397c00bd4e60bd9371bd28a43b69",
            "9252caf06dd9404c9f4f7e8be0bfaa65",
            "14e2912706d8458fa59d68e574a77f71",
            "feebcf06f82a456da242101d125151d4",
            "5aa96f0ebdf844cb8c9c97616cde3de1",
            "9fe155f01ef540d29c687e4da839f729",
            "f7ce64dacad84328b705849e5e3bbb10"
          ]
        }
      },
      "execution_count": null,
      "outputs": [
        {
          "output_type": "display_data",
          "data": {
            "application/vnd.jupyter.widget-view+json": {
              "model_id": "1087378ece9241f8aaae37040f57e34b",
              "version_minor": 0,
              "version_major": 2
            },
            "text/plain": [
              "Downloading:   0%|          | 0.00/515M [00:00<?, ?B/s]"
            ]
          },
          "metadata": {}
        },
        {
          "output_type": "stream",
          "name": "stderr",
          "text": [
            "All model checkpoint layers were used when initializing TFBertForTokenClassification.\n",
            "\n",
            "Some layers of TFBertForTokenClassification were not initialized from the model checkpoint at dbmdz/bert-base-italian-cased and are newly initialized: ['classifier']\n",
            "You should probably TRAIN this model on a down-stream task to be able to use it for predictions and inference.\n"
          ]
        },
        {
          "output_type": "stream",
          "name": "stdout",
          "text": [
            "Model: \"tf_bert_for_token_classification\"\n",
            "_________________________________________________________________\n",
            " Layer (type)                Output Shape              Param #   \n",
            "=================================================================\n",
            " bert (TFBertMainLayer)      multiple                  109337088 \n",
            "                                                                 \n",
            " dropout_37 (Dropout)        multiple                  0         \n",
            "                                                                 \n",
            " classifier (Dense)          multiple                  4614      \n",
            "                                                                 \n",
            "=================================================================\n",
            "Total params: 109,341,702\n",
            "Trainable params: 109,341,702\n",
            "Non-trainable params: 0\n",
            "_________________________________________________________________\n"
          ]
        }
      ]
    },
    {
      "cell_type": "code",
      "source": [
        "model.fit(train_dataset.shuffle(1000).batch(8), epochs=1,validation_data=val_dataset, batch_size=8)"
      ],
      "metadata": {
        "id": "Zfc3nqCCWbqr",
        "outputId": "cfecf14e-b4c0-4b20-d0b5-38eb0551a48c",
        "colab": {
          "base_uri": "https://localhost:8080/"
        }
      },
      "execution_count": null,
      "outputs": [
        {
          "output_type": "stream",
          "name": "stderr",
          "text": [
            "/usr/local/lib/python3.7/dist-packages/tensorflow/python/autograph/impl/api.py:377: UserWarning: Using `-1` to mask the loss for the token is deprecated. Please use `-100` instead.\n",
            "  return py_builtins.overload_of(f)(*args)\n"
          ]
        },
        {
          "output_type": "stream",
          "name": "stdout",
          "text": [
            "2468/7000 [=========>....................] - ETA: 2:09:19 - loss: 0.0205 - accuracy: 0.0475"
          ]
        }
      ]
    },
    {
      "cell_type": "code",
      "source": [
        "model = TFBertForTokenClassification.from_pretrained(\"load_model\")"
      ],
      "metadata": {
        "colab": {
          "base_uri": "https://localhost:8080/"
        },
        "id": "h9xV8geRo4mn",
        "outputId": "c54f6f2a-6723-40e7-fd70-9daed43c6ecd"
      },
      "execution_count": 15,
      "outputs": [
        {
          "output_type": "stream",
          "name": "stderr",
          "text": [
            "All model checkpoint layers were used when initializing TFBertForTokenClassification.\n",
            "\n",
            "All the layers of TFBertForTokenClassification were initialized from the model checkpoint at load_model.\n",
            "If your task is similar to the task the model of the checkpoint was trained on, you can already use TFBertForTokenClassification for predictions without further training.\n"
          ]
        }
      ]
    },
    {
      "cell_type": "code",
      "source": [
        "import time"
      ],
      "metadata": {
        "id": "jA6qD5FIqrFP"
      },
      "execution_count": 13,
      "outputs": []
    },
    {
      "cell_type": "code",
      "source": [
        "start= time.time()\n",
        "x = test_dataset.shuffle(3)\n",
        "result = model.predict(x.batch(8))\n",
        "stop= time.time()\n",
        "print((stop-start)/10)"
      ],
      "metadata": {
        "colab": {
          "base_uri": "https://localhost:8080/"
        },
        "id": "W3EEiIlUqhsu",
        "outputId": "24420d36-1835-43d0-c143-da69bff5d0e5"
      },
      "execution_count": null,
      "outputs": [
        {
          "output_type": "stream",
          "name": "stdout",
          "text": [
            "26.203273582458497\n"
          ]
        }
      ]
    },
    {
      "cell_type": "code",
      "source": [
        "prediction = np.argmax(result, axis=-1)\n",
        "#prediction = [id2tag[i] for i in prediction]\n",
        "\n",
        "# eu -> B-ORG, german -> B-MISC, british -> B-MISC\n",
        "print(prediction)"
      ],
      "metadata": {
        "colab": {
          "base_uri": "https://localhost:8080/"
        },
        "id": "r1mtWnTtsj2M",
        "outputId": "7335df06-1d61-4029-b2a2-94d19074f4e2"
      },
      "execution_count": null,
      "outputs": [
        {
          "output_type": "stream",
          "name": "stdout",
          "text": [
            "0\n"
          ]
        }
      ]
    },
    {
      "cell_type": "code",
      "source": [
        "prediction"
      ],
      "metadata": {
        "colab": {
          "base_uri": "https://localhost:8080/"
        },
        "id": "2HTquv5CuHhx",
        "outputId": "55b7e2a3-1ffa-4072-eca2-bc5a132cab73"
      },
      "execution_count": null,
      "outputs": [
        {
          "output_type": "execute_result",
          "data": {
            "text/plain": [
              "0"
            ]
          },
          "metadata": {},
          "execution_count": 125
        }
      ]
    },
    {
      "cell_type": "code",
      "source": [
        "from transformers import pipeline\n",
        "\n",
        "nlp = pipeline('ner', model=model, tokenizer=tokenizer,aggregation_strategy=\"first\")"
      ],
      "metadata": {
        "id": "jtybsBEra7rL"
      },
      "execution_count": 21,
      "outputs": []
    },
    {
      "cell_type": "code",
      "source": [
        "nlp(\"5 10 SERGIU ROLNIC M 8031935 BIANZE BTAZEI35C08A847I VC MONCALIERI TO ITA STRADA GENOVA 58 10024 24032017 10003 13101963 3101963 12112021 05:49:25 CENS2011\")"
      ],
      "metadata": {
        "colab": {
          "base_uri": "https://localhost:8080/"
        },
        "id": "gLIWJo5CyUFl",
        "outputId": "c9487f15-2790-4384-9e6b-39a0594d5e9b"
      },
      "execution_count": null,
      "outputs": [
        {
          "output_type": "execute_result",
          "data": {
            "text/plain": [
              "[{'end': 4,\n",
              "  'entity_group': 'LABEL_0',\n",
              "  'score': 0.9999425,\n",
              "  'start': 0,\n",
              "  'word': '5 10'},\n",
              " {'end': 11,\n",
              "  'entity_group': 'LABEL_3',\n",
              "  'score': 0.99803275,\n",
              "  'start': 5,\n",
              "  'word': 'SERGIU'},\n",
              " {'end': 18,\n",
              "  'entity_group': 'LABEL_2',\n",
              "  'score': 0.96980053,\n",
              "  'start': 12,\n",
              "  'word': 'ROLNIC'},\n",
              " {'end': 73,\n",
              "  'entity_group': 'LABEL_0',\n",
              "  'score': 0.9999405,\n",
              "  'start': 19,\n",
              "  'word': 'M 8031935 BIANZE BTAZEI35C08A847I VC MONCALIERI TO ITA'},\n",
              " {'end': 80,\n",
              "  'entity_group': 'LABEL_1',\n",
              "  'score': 0.99974257,\n",
              "  'start': 74,\n",
              "  'word': 'STRADA'},\n",
              " {'end': 90,\n",
              "  'entity_group': 'LABEL_4',\n",
              "  'score': 0.99895275,\n",
              "  'start': 81,\n",
              "  'word': 'GENOVA 58'},\n",
              " {'end': 155,\n",
              "  'entity_group': 'LABEL_0',\n",
              "  'score': 0.9999304,\n",
              "  'start': 91,\n",
              "  'word': '10024 24032017 10003 13101963 3101963 12112021 05 : 49 : 25 CENS2011'}]"
            ]
          },
          "metadata": {},
          "execution_count": 141
        }
      ]
    },
    {
      "cell_type": "code",
      "source": [
        "print(id2tag)"
      ],
      "metadata": {
        "id": "ZaT1zHRrcdH0",
        "colab": {
          "base_uri": "https://localhost:8080/"
        },
        "outputId": "87b9b77c-abb2-413a-9455-a9d821b533ea"
      },
      "execution_count": null,
      "outputs": [
        {
          "output_type": "stream",
          "name": "stdout",
          "text": [
            "{0: 'O', 1: 'B-Per', 2: 'I-Ind', 3: 'I-Per-F', 4: 'B-Ind', 5: 'I-Per-M'}\n"
          ]
        }
      ]
    },
    {
      "cell_type": "code",
      "source": [
        "test_dataframe"
      ],
      "metadata": {
        "colab": {
          "base_uri": "https://localhost:8080/",
          "height": 113
        },
        "id": "zdug2wco01A4",
        "outputId": "1852054e-bef3-4aff-d795-268f1b41c65b"
      },
      "execution_count": null,
      "outputs": [
        {
          "output_type": "execute_result",
          "data": {
            "text/html": [
              "\n",
              "  <div id=\"df-2e2bec95-2814-45d9-bb6a-585ed281fc07\">\n",
              "    <div class=\"colab-df-container\">\n",
              "      <div>\n",
              "<style scoped>\n",
              "    .dataframe tbody tr th:only-of-type {\n",
              "        vertical-align: middle;\n",
              "    }\n",
              "\n",
              "    .dataframe tbody tr th {\n",
              "        vertical-align: top;\n",
              "    }\n",
              "\n",
              "    .dataframe thead th {\n",
              "        text-align: right;\n",
              "    }\n",
              "</style>\n",
              "<table border=\"1\" class=\"dataframe\">\n",
              "  <thead>\n",
              "    <tr style=\"text-align: right;\">\n",
              "      <th></th>\n",
              "      <th>cod_prv</th>\n",
              "      <th>cod_com</th>\n",
              "      <th>id</th>\n",
              "      <th>cognome</th>\n",
              "      <th>nome</th>\n",
              "      <th>sesso</th>\n",
              "      <th>data_nascita</th>\n",
              "      <th>luogo_nascita</th>\n",
              "      <th>cf</th>\n",
              "      <th>prov_nascita</th>\n",
              "      <th>comune_res</th>\n",
              "      <th>prov_res</th>\n",
              "      <th>citt</th>\n",
              "      <th>indirizzo</th>\n",
              "      <th>cap</th>\n",
              "      <th>dato1</th>\n",
              "      <th>dato2</th>\n",
              "      <th>dato3</th>\n",
              "      <th>dato4</th>\n",
              "      <th>dato5</th>\n",
              "      <th>dato6</th>\n",
              "      <th>dato7</th>\n",
              "    </tr>\n",
              "  </thead>\n",
              "  <tbody>\n",
              "  </tbody>\n",
              "</table>\n",
              "</div>\n",
              "      <button class=\"colab-df-convert\" onclick=\"convertToInteractive('df-2e2bec95-2814-45d9-bb6a-585ed281fc07')\"\n",
              "              title=\"Convert this dataframe to an interactive table.\"\n",
              "              style=\"display:none;\">\n",
              "        \n",
              "  <svg xmlns=\"http://www.w3.org/2000/svg\" height=\"24px\"viewBox=\"0 0 24 24\"\n",
              "       width=\"24px\">\n",
              "    <path d=\"M0 0h24v24H0V0z\" fill=\"none\"/>\n",
              "    <path d=\"M18.56 5.44l.94 2.06.94-2.06 2.06-.94-2.06-.94-.94-2.06-.94 2.06-2.06.94zm-11 1L8.5 8.5l.94-2.06 2.06-.94-2.06-.94L8.5 2.5l-.94 2.06-2.06.94zm10 10l.94 2.06.94-2.06 2.06-.94-2.06-.94-.94-2.06-.94 2.06-2.06.94z\"/><path d=\"M17.41 7.96l-1.37-1.37c-.4-.4-.92-.59-1.43-.59-.52 0-1.04.2-1.43.59L10.3 9.45l-7.72 7.72c-.78.78-.78 2.05 0 2.83L4 21.41c.39.39.9.59 1.41.59.51 0 1.02-.2 1.41-.59l7.78-7.78 2.81-2.81c.8-.78.8-2.07 0-2.86zM5.41 20L4 18.59l7.72-7.72 1.47 1.35L5.41 20z\"/>\n",
              "  </svg>\n",
              "      </button>\n",
              "      \n",
              "  <style>\n",
              "    .colab-df-container {\n",
              "      display:flex;\n",
              "      flex-wrap:wrap;\n",
              "      gap: 12px;\n",
              "    }\n",
              "\n",
              "    .colab-df-convert {\n",
              "      background-color: #E8F0FE;\n",
              "      border: none;\n",
              "      border-radius: 50%;\n",
              "      cursor: pointer;\n",
              "      display: none;\n",
              "      fill: #1967D2;\n",
              "      height: 32px;\n",
              "      padding: 0 0 0 0;\n",
              "      width: 32px;\n",
              "    }\n",
              "\n",
              "    .colab-df-convert:hover {\n",
              "      background-color: #E2EBFA;\n",
              "      box-shadow: 0px 1px 2px rgba(60, 64, 67, 0.3), 0px 1px 3px 1px rgba(60, 64, 67, 0.15);\n",
              "      fill: #174EA6;\n",
              "    }\n",
              "\n",
              "    [theme=dark] .colab-df-convert {\n",
              "      background-color: #3B4455;\n",
              "      fill: #D2E3FC;\n",
              "    }\n",
              "\n",
              "    [theme=dark] .colab-df-convert:hover {\n",
              "      background-color: #434B5C;\n",
              "      box-shadow: 0px 1px 3px 1px rgba(0, 0, 0, 0.15);\n",
              "      filter: drop-shadow(0px 1px 2px rgba(0, 0, 0, 0.3));\n",
              "      fill: #FFFFFF;\n",
              "    }\n",
              "  </style>\n",
              "\n",
              "      <script>\n",
              "        const buttonEl =\n",
              "          document.querySelector('#df-2e2bec95-2814-45d9-bb6a-585ed281fc07 button.colab-df-convert');\n",
              "        buttonEl.style.display =\n",
              "          google.colab.kernel.accessAllowed ? 'block' : 'none';\n",
              "\n",
              "        async function convertToInteractive(key) {\n",
              "          const element = document.querySelector('#df-2e2bec95-2814-45d9-bb6a-585ed281fc07');\n",
              "          const dataTable =\n",
              "            await google.colab.kernel.invokeFunction('convertToInteractive',\n",
              "                                                     [key], {});\n",
              "          if (!dataTable) return;\n",
              "\n",
              "          const docLinkHtml = 'Like what you see? Visit the ' +\n",
              "            '<a target=\"_blank\" href=https://colab.research.google.com/notebooks/data_table.ipynb>data table notebook</a>'\n",
              "            + ' to learn more about interactive tables.';\n",
              "          element.innerHTML = '';\n",
              "          dataTable['output_type'] = 'display_data';\n",
              "          await google.colab.output.renderOutput(dataTable, element);\n",
              "          const docLink = document.createElement('div');\n",
              "          docLink.innerHTML = docLinkHtml;\n",
              "          element.appendChild(docLink);\n",
              "        }\n",
              "      </script>\n",
              "    </div>\n",
              "  </div>\n",
              "  "
            ],
            "text/plain": [
              "Empty DataFrame\n",
              "Columns: [cod_prv, cod_com, id, cognome, nome, sesso, data_nascita, luogo_nascita, cf, prov_nascita, comune_res, prov_res, citt, indirizzo, cap, dato1, dato2, dato3, dato4, dato5, dato6, dato7]\n",
              "Index: []"
            ]
          },
          "metadata": {},
          "execution_count": 194
        }
      ]
    },
    {
      "cell_type": "code",
      "source": [
        "import time"
      ],
      "metadata": {
        "id": "wdr_JHP705oP"
      },
      "execution_count": 16,
      "outputs": []
    },
    {
      "cell_type": "code",
      "source": [
        "\n",
        "list_durata = []\n",
        "test_data = []\n",
        "pred_nomi=[]\n",
        "pred_cognomi = []\n",
        "pred_indirizzi= []\n",
        "data = test_dataframe\n",
        "for index, row in data.iterrows():\n",
        "  start = time.time()\n",
        "  sentence = \"\"\n",
        " \n",
        "  for x, value in row.iteritems():\n",
        "\n",
        "    sentence += str(value) + \" \"\n",
        "\n",
        "  test_data.append(sentence)\n",
        "  ris = nlp(sentence)\n",
        "  indirizzo = \"\"\n",
        "  cognome = \"\"\n",
        "  nome = \"\"\n",
        "  for t in ris:\n",
        "      \n",
        "      if t[\"entity_group\"] == \"LABEL_1\":\n",
        "        indirizzo = t[\"word\"]\n",
        "      if t[\"entity_group\"] == \"LABEL_4\":\n",
        "        indirizzo += \" \" + t[\"word\"]\n",
        "        \n",
        "      if t[\"entity_group\"] == \"LABEL_3\":\n",
        "        cognome =t[\"word\"]\n",
        "      \n",
        "      if t[\"entity_group\"] == \"LABEL_2\":\n",
        "        nome = t[\"word\"]\n",
        "      \n",
        " \n",
        "  pred_indirizzi.append(indirizzo)\n",
        "  pred_cognomi.append(cognome)  \n",
        "  pred_nomi.append(nome)\n",
        "  stop = time.time()\n",
        "  list_durata.append(stop-start)\n",
        "      \n",
        "      "
      ],
      "metadata": {
        "id": "SgJGFqEubD3x"
      },
      "execution_count": 22,
      "outputs": []
    },
    {
      "cell_type": "code",
      "source": [
        "list_def = []\n",
        "for x in list_durata:\n",
        "\n",
        "  list_def.append((x-(sum(list_durata)/1000))**2)\n",
        "    \n",
        "varianza = sum(list_def)/1000\n",
        "\n",
        "dizi = {\"righe\":1000,  \"media\": sum(list_durata)/1000, \"varianza\":varianza}\n",
        "print(dizi)"
      ],
      "metadata": {
        "colab": {
          "base_uri": "https://localhost:8080/"
        },
        "id": "YhdPsJu19G3H",
        "outputId": "6438188d-73f5-479f-fe2d-c4dcb7c4eaaf"
      },
      "execution_count": 23,
      "outputs": [
        {
          "output_type": "stream",
          "name": "stdout",
          "text": [
            "{'righe': 1000, 'media': 0.6878732771873474, 'varianza': 0.028154227113346312}\n"
          ]
        }
      ]
    },
    {
      "cell_type": "code",
      "source": [
        "from sklearn.metrics import f1_score\n",
        "from sklearn.metrics import classification_report\n",
        "from sklearn.metrics import accuracy_score"
      ],
      "metadata": {
        "id": "eez-f3kNwA5x"
      },
      "execution_count": 24,
      "outputs": []
    },
    {
      "cell_type": "code",
      "source": [
        "print(accuracy_score(true_nomi, pred_nomi))"
      ],
      "metadata": {
        "colab": {
          "base_uri": "https://localhost:8080/"
        },
        "id": "rWn5gIe35Hsx",
        "outputId": "fa4944b1-762a-4b7f-ae28-264b508e7799"
      },
      "execution_count": 25,
      "outputs": [
        {
          "output_type": "stream",
          "name": "stdout",
          "text": [
            "0.909\n"
          ]
        }
      ]
    },
    {
      "cell_type": "code",
      "source": [
        "print(accuracy_score(true_cognomi, pred_cognomi))"
      ],
      "metadata": {
        "colab": {
          "base_uri": "https://localhost:8080/"
        },
        "id": "lfN1NoGh5QMv",
        "outputId": "d52d5f27-d454-41fb-98b8-af9e9edd98f2"
      },
      "execution_count": 26,
      "outputs": [
        {
          "output_type": "stream",
          "name": "stdout",
          "text": [
            "0.912\n"
          ]
        }
      ]
    },
    {
      "cell_type": "code",
      "source": [
        "print(accuracy_score(true_indirizzi, pred_indirizzi))"
      ],
      "metadata": {
        "id": "FnP6KSd5FMzj",
        "outputId": "b3c9915b-6b30-4442-94e1-2f5cde67d2a3",
        "colab": {
          "base_uri": "https://localhost:8080/"
        }
      },
      "execution_count": 27,
      "outputs": [
        {
          "output_type": "stream",
          "name": "stdout",
          "text": [
            "0.661\n"
          ]
        }
      ]
    },
    {
      "cell_type": "code",
      "source": [
        "print(true_indirizzi)\n",
        "print(pred_indirizzi)"
      ],
      "metadata": {
        "colab": {
          "base_uri": "https://localhost:8080/"
        },
        "id": "MeG3uvhB6PoP",
        "outputId": "5b705cc3-1640-4441-f4d4-40d32cc3ae6a"
      },
      "execution_count": null,
      "outputs": [
        {
          "output_type": "stream",
          "name": "stdout",
          "text": [
            "['STRADA GENOVA 208 BIS', 'VIA ANTONIO FOGAZZARO 4', 'CORSO ROMA 6', 'VIA GRAZIA DELEDDA 6', 'VIA MONTE BIANCO 28', 'VIA MONTEBELLO 1', 'VIA CAVOUR 22 TER', 'VIA VINCENZO BELLINI 23', 'STRADA DEL BOSSOLO 9 BIS', 'VIA ADA NEGRI 23', 'VIA MONVISO 21', 'CORSO ROMA 77', 'STRADA RIGOLFO 22 BIS', 'STRADA STUPINIGI 1 5', 'VIA CAVOUR 24', 'STRADA VILLA STELLA 9', 'VIA SESTRIERE 53 3', 'VIA PASTRENGO 33', \"PIAZZA CADUTI PER LA LIBERTA' 3\", 'STRADA LORETO 19', 'BORGATA TETTI PIATTI 41', 'VIA GIACOMO BOSSO 14', 'VIA BENVENUTO CELLINI 3', 'VIA CAVOUR 23', 'VIALE DELLE BETULLE 5', 'STRADA MAIOLE 21', 'VIA GIOTTO 8', 'VIA GIUSEPPE ROBALDO 1', 'STRADA GENOVA 107 3', 'VIA S.MARIA 24 E', 'STRADA GENOVA 147 TER', 'VIA MONVISO 19', 'VIA PIERO GOBETTI 3', 'VIA DEI MILLE 17', 'STRADA GENOVA 129 BIS', 'VIA GALILEO GALILEI 26', 'VIA CAVOUR 36', 'VIA GIOVANNI SEGANTINI 30 2', 'CORSO SAVONA 19', 'STRADA CASTELVECCHIO 6', 'VIA PESCHIERA 11', 'VIA AMILCARE PONCHIELLI 39', 'VIA S.CROCE 46', 'VIA SOMALIA 39', 'VIA BRUNO BUOZZI 11', 'STRADA S.ANSELMO 17', 'VIA CARLO COLLODI 4', 'STRADA GENOVA 222', 'VIA S.MARIA 29 1', 'VIA MONTE NERO 10', 'VIA CERNAIA 1', 'VIA PIERO GOBETTI 9', 'CORSO FRATELLI ROSSELLI 6', 'STRADA CARIGNANO 18', 'VIA GIOVANNI SEGANTINI 58', 'VIA GIOACCHINO ROSSINI 11', 'VIA CESARE PAVESE 17', 'STRADA PRACIOSA 6', 'STRADA TORINO 33', 'STRADA PRACIOSA 20 BIS', 'STRADA ROCCACATENE 7', 'CORSO TRIESTE 41 2', 'VIA SESTRIERE 27', 'PIAZZA BENGASI 26', 'STRADA CARIGNANO 56', 'VIA FIUME 24', 'CORSO ROMA 45', 'VIA MONVISO 12', 'CORSO TRIESTE 25 A', 'VIA LUIGI PIRANDELLO 2', 'VIA S.CROCE 27', 'BORGATA TETTI PIATTI 21', 'STRADA SANDA 63', 'BORGATA TETTI ROLLE 45 1', 'VIA SESTRIERE 49 TER', 'VIA FILIPPO TURATI 2', 'VIA S.MARTINO 35', 'CORSO ROMA 23', 'VIA PLAUTO 8', 'STRADA PASUBIO 38', 'VIA MARIO PANNUNZIO 5', 'VIA DEI MILLE 9', 'VIA S.GIOVANNI BOSCO 6', 'STRADA REVIGLIASCO 15 BIS', 'CORSO SAVONA 4', 'STRADA C. FERRERO DI CAMBIANO 51', 'VIA VILLAFRANCA 3', 'CORSO TRIESTE 73', 'VIALE ENRICO BERLINGUER 10 1', 'STRADA GIORGIO DEVALLE 21', 'VIA TIEPOLO 12', 'VIA S.GIOVANNI BOSCO 18', 'VIA SESTRIERE 13', 'VIA PASTRENGO 130', 'VIA JUGLARIS 62', 'STRADA CENASCO 7', 'VIA QUINTINO SELLA 34', 'STRADA VINOVO 12', 'STRADA VIVERO 10', 'VIA PIAVE 8']\n",
            "['STRADA GENOVA 208', 'VIA ANTONIO FOGAZZARO 4', 'CORSO ROMA 6', 'VIA GRAZIA DELEDDA 6', 'VIA MONTE BIANCO 28', 'VIA MONTEBELLO 1', 'VIA CAVOUR 22', 'VIA VINCENZO BELLINI 23', 'STRADA DEL BOSSOLO 9', 'VIA ADA NEGRI 23', 'VIA MONVISO 21', 'CORSO ROMA 77', 'STRADA RIGOLFO 22', 'STRADA STUPINIGI 1', 'VIA CAVOUR 24', 'STRADA VILLA STELLA 9', 'VIA SESTRIERE 53', 'VIA PASTRENGO 33', \"PIAZZA CADUTI PER LA LIBERTA'3\", 'STRADA LORETO 19', 'BORGATA TETTI PIATTI 41', 'VIA GIACOMO BOSSO 14', 'VIA BENVENUTO CELLINI 3', 'VIA CAVOUR 23', 'VIALE DELLE BETULLE 5', 'STRADA MAIOLE 21', 'VIA GIOTTO 8', 'VIA GIUSEPPE ROBALDO 1', 'STRADA GENOVA 107', 'VIA S. MARIA 24', 'STRADA GENOVA 147', 'VIA MONVISO 19', 'VIA PIERO GOBETTI 3', 'VIA DEI MILLE 17', 'STRADA GENOVA 129', 'VIA GALILEO GALILEI 26', 'VIA CAVOUR 36', 'VIA GIOVANNI SEGANTINI 30', 'CORSO SAVONA 19', 'STRADA CASTELVECCHIO 6', 'VIA PESCHIERA 11', 'VIA AMILCARE PONCHIELLI 39', 'VIA S. CROCE 46', 'VIA SOMALIA 39', 'VIA BRUNO BUOZZI 11', 'STRADA S. ANSELMO 17', 'VIA CARLO COLLODI 4', 'STRADA GENOVA 222', 'VIA S. MARIA 29', 'VIA MONTE NERO 10', 'VIA CERNAIA 1', 'VIA PIERO GOBETTI 9', 'CORSO FRATELLI ROSSELLI 6', 'STRADA CARIGNANO 18', 'VIA GIOVANNI SEGANTINI 58', 'VIA GIOACCHINO ROSSINI 11', 'VIA CESARE PAVESE 17', 'STRADA PRACIOSA 6', 'STRADA TORINO 33', 'STRADA PRACIOSA 20', 'STRADA ROCCACATENE 7', 'CORSO TRIESTE 41', 'VIA SESTRIERE 27', 'PIAZZA BENGASI 26', 'STRADA CARIGNANO 56', 'VIA FIUME 24', 'CORSO ROMA 45', 'VIA MONVISO 12', 'CORSO TRIESTE 25', 'VIA LUIGI PIRANDELLO 2', 'VIA S. CROCE 27', 'BORGATA TETTI PIATTI 21', 'STRADA SANDA 63', 'BORGATA TETTI ROLLE 45', 'VIA SESTRIERE 49', 'VIA FILIPPO TURATI 2', 'VIA S. MARTINO 35', 'CORSO ROMA 23', 'VIA PLAUTO 8', 'STRADA PASUBIO 38', 'VIA MARIO PANNUNZIO 5', 'VIA DEI MILLE 9', 'VIA S. GIOVANNI BOSCO 6', 'STRADA REVIGLIASCO 15', 'CORSO SAVONA 4', 'STRADA C. FERRERO DI CAMBIANO 51', 'VIA VILLAFRANCA 3', 'CORSO TRIESTE 73', 'VIALE ENRICO BERLINGUER 10', 'STRADA GIORGIO DEVALLE 21', 'VIA TIEPOLO 12', 'VIA S. GIOVANNI BOSCO 18', 'VIA SESTRIERE 13', 'VIA PASTRENGO 130', 'VIA JUGLARIS 62', 'STRADA CENASCO 7', 'VIA QUINTINO SELLA 34', 'STRADA VINOVO 12', 'STRADA VIVERO 10', 'VIA PIAVE 8']\n"
          ]
        }
      ]
    },
    {
      "cell_type": "code",
      "source": [
        "print(accuracy_score(true_indirizzi, pred_indirizzi))"
      ],
      "metadata": {
        "id": "K6uO-UQn5Rv2"
      },
      "execution_count": null,
      "outputs": []
    },
    {
      "cell_type": "code",
      "source": [
        "count=0\n",
        "for x in range(1000):\n",
        "  if pred_indirizzi[x] in true_indirizzi[x]:\n",
        "    count += 1\n",
        "  else:\n",
        "     print(pred_indirizzi[x]) \n",
        "     print(true_indirizzi[x])\n",
        "print(count)    "
      ],
      "metadata": {
        "id": "DxCRyjd-FzZR",
        "outputId": "efbcda0d-394d-4bb8-fd49-ec7636aa4be9",
        "colab": {
          "base_uri": "https://localhost:8080/"
        }
      },
      "execution_count": 28,
      "outputs": [
        {
          "output_type": "stream",
          "name": "stdout",
          "text": [
            "VIA S. VINCENZO 7\n",
            "VIA S.VINCENZO 7\n",
            "VIA S. MATTEO 6\n",
            "VIA S.MATTEO 6\n",
            "VIA S. GIOVANNI BOSCO 18\n",
            "VIA S.GIOVANNI BOSCO 18\n",
            "STRADA MARSE'25\n",
            "STRADA MARSE' 25 3\n",
            "STRADA MARSE'27\n",
            "STRADA MARSE' 27 3\n",
            "VIA S. VINCENZO 5\n",
            "VIA S.VINCENZO 5\n",
            "UKR CORSO TRIESTE 59\n",
            "CORSO TRIESTE 59\n",
            "STRADA MARSE'49\n",
            "STRADA MARSE' 49\n",
            "BORGATA PIATTI 77\n",
            "BORGATA TETTI PIATTI 77 17\n",
            "VIA S. MARTINO 18\n",
            "VIA S.MARTINO 18\n",
            "VIA S. GIOVANNI BOSCO 4\n",
            "VIA S.GIOVANNI BOSCO 4\n",
            "STRADA MARSE'3\n",
            "STRADA MARSE' 3\n",
            "STRADA S. BRIGIDA 64\n",
            "STRADA S.BRIGIDA 64 1\n",
            "STRADA S. MICHELE 9\n",
            "STRADA S.MICHELE 9\n",
            "VIA S. VINCENZO 3\n",
            "VIA S.VINCENZO 3\n",
            "VIA S. MARIA 35\n",
            "VIA S.MARIA 35 10\n",
            "MAR CORSO SAVONA 102\n",
            "CORSO SAVONA 102\n",
            "VIA MARTIRI DELLA LIBERTA'12\n",
            "VIA MARTIRI DELLA LIBERTA' 12\n",
            "VIA S. MARTINO 20\n",
            "VIA S.MARTINO 20\n",
            "VIA S. GIOVANNI BOSCO 6\n",
            "VIA S.GIOVANNI BOSCO 6\n",
            "VIA GIOSUE'CARDUCCI 20\n",
            "VIA GIOSUE' CARDUCCI 20\n",
            "VIA GIOSUE'CARDUCCI 6\n",
            "VIA GIOSUE' CARDUCCI 6\n",
            "VIA GIOSUE'CARDUCCI 13\n",
            "VIA GIOSUE' CARDUCCI 13 BIS\n",
            "STRADA MARSE'4\n",
            "STRADA MARSE' 4\n",
            "UKR STRADA ROSARIO SCALERO 20\n",
            "STRADA ROSARIO SCALERO 20\n",
            "VIA S. CROCE 46\n",
            "VIA S.CROCE 46\n",
            "VIA S. MARTINO 13\n",
            "VIA S.MARTINO 13\n",
            "BORGATA PIATTI 77\n",
            "BORGATA TETTI PIATTI 77 7\n",
            "STRADA S. MICHELE 1\n",
            "STRADA S.MICHELE 1\n",
            "VIA GIOSUE'CARDUCCI 12\n",
            "VIA GIOSUE' CARDUCCI 12 3\n",
            "BORGATA PIATTI 79\n",
            "BORGATA TETTI PIATTI 79\n",
            "BORGATA PIATTI 24\n",
            "BORGATA TETTI PIATTI 24\n",
            "STRADA S. BRIGIDA 93\n",
            "STRADA S.BRIGIDA 93 19\n",
            "STRADA S. BRIGIDA 9\n",
            "STRADA S.BRIGIDA 9\n",
            "VIA S. CROCE 40\n",
            "VIA S.CROCE 40\n",
            "VIA MARTIRI DELLA LIBERTA'10\n",
            "VIA MARTIRI DELLA LIBERTA' 10\n",
            "VIA S. VINCENZO 3\n",
            "VIA S.VINCENZO 3\n",
            "VIA S. CROCE 12\n",
            "VIA S.CROCE 12\n",
            "ROU CORSO DANTE 11\n",
            "CORSO DANTE 11\n",
            " VIA S. MARIA 82\n",
            "VIA S.MARIA 82\n",
            "VIA S. GIOVANNI BOSCO 16\n",
            "VIA S.GIOVANNI BOSCO 16\n",
            "DOM VIA VITTIME DI PIAZZA FONTANA 56\n",
            "VIA VITTIME DI PIAZZA FONTANA 56\n",
            "STRADA S. BRIGIDA 59\n",
            "STRADA S.BRIGIDA 59\n",
            "VIA S. MARIA 25\n",
            "VIA S.MARIA 25\n",
            "ROU CORSO ROMA 62\n",
            "CORSO ROMA 62\n",
            "VIA S. GIOVANNI BOSCO 14\n",
            "VIA S.GIOVANNI BOSCO 14\n",
            "STRADA MARSE'31\n",
            "STRADA MARSE' 31 11\n",
            "ROU STRADA CARIGNANO 34\n",
            "STRADA CARIGNANO 34 BIS\n",
            "VIA S. GIOVANNI BOSCO 14\n",
            "VIA S.GIOVANNI BOSCO 14\n",
            "VIA S. MARIA 47\n",
            "VIA S.MARIA 47\n",
            "STRADA S. MICHELE 35\n",
            "STRADA S.MICHELE 35\n",
            "VIA S. CROCE 10\n",
            "VIA S.CROCE 10\n",
            "VIA S. GIOVANNI BOSCO 6\n",
            "VIA S.GIOVANNI BOSCO 6\n",
            "VIA GIOSUE'CARDUCCI 7\n",
            "VIA GIOSUE' CARDUCCI 7\n",
            "STRADA MARSE'31\n",
            "STRADA MARSE' 31 1\n",
            "STRADA S. BRIGIDA 94\n",
            "STRADA S.BRIGIDA 94\n",
            "STRADA MARSE'153\n",
            "STRADA MARSE' 153\n",
            "VIA S. MARTINO 12\n",
            "VIA S.MARTINO 12\n",
            "VIA S. GIOVANNI BOSCO 18\n",
            "VIA S.GIOVANNI BOSCO 18\n",
            "STRADA S. BRIGIDA 32\n",
            "STRADA S.BRIGIDA 32\n",
            "STRADA VADO'3\n",
            "STRADA VADO' 3\n",
            "STRADA S. MICHELE 18\n",
            "STRADA S.MICHELE 18\n",
            "VIA NICOLO'TOMMASEO 5\n",
            "VIA NICOLO' TOMMASEO 5\n",
            "VIA MARTIRI DELLA LIBERTA'6\n",
            "VIA MARTIRI DELLA LIBERTA' 6\n",
            "VIA S. CROCE 19\n",
            "VIA S.CROCE 19\n",
            "ROU STRADA GENOVA 241\n",
            "STRADA GENOVA 241 4\n",
            "VIA S. MARIA 23\n",
            "VIA S.MARIA 23\n",
            "VIA S. VINCENZO 7\n",
            "VIA S.VINCENZO 7\n",
            "STRADA MARSE'31\n",
            "STRADA MARSE' 31 13\n",
            "STRADA BOCCIA D ORO 14\n",
            "STRADA BOCCIA D'ORO 14\n",
            "STRADA MARSE'53\n",
            "STRADA MARSE' 53\n",
            "VIA S. CROCE 29\n",
            "VIA S.CROCE 29\n",
            "MAR CORSO TRIESTE 73\n",
            "CORSO TRIESTE 73\n",
            "STRADA S. BRIGIDA 44\n",
            "STRADA S.BRIGIDA 44\n",
            "STRADA MARSE'31\n",
            "STRADA MARSE' 31\n",
            "VIA S. MARIA 45\n",
            "VIA S.MARIA 45\n",
            "STRADA MARSE'25\n",
            "STRADA MARSE' 25 4\n",
            "923\n"
          ]
        }
      ]
    },
    {
      "cell_type": "code",
      "source": [
        "def confidence(acc, N, Z):\n",
        "    den = (2*(N+Z**2))\n",
        "    var = (Z*np.sqrt(Z**2+4*N*acc-4*N*acc**2)) / den\n",
        "    a = (2*N*acc+Z**2) / den\n",
        "    inf = a - var\n",
        "    sup = a + var\n",
        "    return inf, sup"
      ],
      "metadata": {
        "id": "0LKPBzhW5Af4"
      },
      "execution_count": 30,
      "outputs": []
    },
    {
      "cell_type": "code",
      "source": [
        "inf_ind, sup_ind = confidence(accuracy_score(true_indirizzi, pred_indirizzi), 1000, 1.96)"
      ],
      "metadata": {
        "id": "auVh_hvivyLc"
      },
      "execution_count": 32,
      "outputs": []
    },
    {
      "cell_type": "code",
      "source": [
        "inf_co, sup_co = confidence(accuracy_score(true_cognomi, pred_cognomi), 1000, 1.96)"
      ],
      "metadata": {
        "id": "SvFrsCeOv2Hp"
      },
      "execution_count": 33,
      "outputs": []
    },
    {
      "cell_type": "code",
      "source": [
        "inf_nomi, sup_nomi = confidence(accuracy_score(true_nomi, pred_nomi), 1000, 1.96)"
      ],
      "metadata": {
        "id": "cCKdvFn0v27q"
      },
      "execution_count": 34,
      "outputs": []
    },
    {
      "cell_type": "code",
      "source": [
        "from prettytable import PrettyTable\n",
        "x = PrettyTable()\n",
        "x.field_names = [\"Campo\",\"Accuracy\", \"Inf\", \"Sup\"]\n",
        "\n",
        "\n",
        "x.add_row(['Indirizzo',accuracy_score(true_indirizzi, pred_indirizzi),inf_ind,sup_ind])\n",
        "x.add_row(['Nome', accuracy_score(true_nomi, pred_nomi), inf_nomi,sup_nomi])\n",
        "x.add_row(['Cognome', accuracy_score(true_cognomi, pred_cognomi),inf_co,sup_co ])\n",
        "\n",
        "\n",
        "\n",
        "\n",
        "print(x)"
      ],
      "metadata": {
        "id": "sdcr9b9xhNLk",
        "colab": {
          "base_uri": "https://localhost:8080/"
        },
        "outputId": "66c2353b-987f-418b-fd81-cc656afde5a2"
      },
      "execution_count": 35,
      "outputs": [
        {
          "output_type": "stream",
          "name": "stdout",
          "text": [
            "+-----------+----------+--------------------+--------------------+\n",
            "|   Campo   | Accuracy |        Inf         |        Sup         |\n",
            "+-----------+----------+--------------------+--------------------+\n",
            "| Indirizzo |  0.661   | 0.6310938159758936 | 0.6896739226792885 |\n",
            "|    Nome   |  0.909   | 0.8895740291786208 | 0.9252955677777118 |\n",
            "|  Cognome  |  0.912   | 0.8928273665502449 | 0.9280192690145694 |\n",
            "+-----------+----------+--------------------+--------------------+\n"
          ]
        }
      ]
    },
    {
      "cell_type": "code",
      "source": [
        ""
      ],
      "metadata": {
        "id": "g76hbzbPl3SG"
      },
      "execution_count": null,
      "outputs": []
    }
  ]
}